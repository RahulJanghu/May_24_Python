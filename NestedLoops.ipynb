{
 "cells": [
  {
   "cell_type": "markdown",
   "id": "c9b803d4-128c-488d-88fa-59d803dc9ac9",
   "metadata": {},
   "source": [
    "### Take input as n and print:"
   ]
  },
  {
   "cell_type": "code",
   "execution_count": 1,
   "id": "4aed3150-dee5-41b6-aafa-da0d255ef371",
   "metadata": {},
   "outputs": [],
   "source": [
    "# n = 4\n",
    "# # # #"
   ]
  },
  {
   "cell_type": "code",
   "execution_count": 2,
   "id": "64e7b570-5ce7-462c-9ac3-3f59dea870e9",
   "metadata": {},
   "outputs": [],
   "source": [
    "# Q.1 --> Print 4 # in a single line"
   ]
  },
  {
   "cell_type": "code",
   "execution_count": 6,
   "id": "6584e6b3-9243-44ee-8517-9c68fcadf4d6",
   "metadata": {},
   "outputs": [],
   "source": [
    "# Q.2 --> Question: Write a loop to print the following numbers -> 1,4,7,10,13,16"
   ]
  },
  {
   "cell_type": "code",
   "execution_count": 4,
   "id": "ef2b8cb9-d7bb-43f1-9ad3-a5726ebfaf77",
   "metadata": {},
   "outputs": [
    {
     "name": "stdout",
     "output_type": "stream",
     "text": [
      "#\n",
      "#\n",
      "#\n",
      "#\n"
     ]
    }
   ],
   "source": [
    "for i in range(4):\n",
    "    print(\"#\")"
   ]
  },
  {
   "cell_type": "code",
   "execution_count": 5,
   "id": "95523b64-1744-4c2d-8d0b-375c88a0b4eb",
   "metadata": {},
   "outputs": [
    {
     "name": "stdout",
     "output_type": "stream",
     "text": [
      "# # # # "
     ]
    }
   ],
   "source": [
    "for i in range(4):\n",
    "    print(\"#\", end=\" \")"
   ]
  },
  {
   "cell_type": "code",
   "execution_count": 7,
   "id": "d78086af-0f65-4378-a31b-f4f9df301e61",
   "metadata": {},
   "outputs": [
    {
     "name": "stdout",
     "output_type": "stream",
     "text": [
      "1 4 7 10 13 16 "
     ]
    }
   ],
   "source": [
    "for i in range(1, 17, 3):\n",
    "    print(i, end=\" \")"
   ]
  },
  {
   "cell_type": "code",
   "execution_count": null,
   "id": "f5b08d2b-6d75-4f02-a591-863022f415d2",
   "metadata": {},
   "outputs": [],
   "source": []
  },
  {
   "cell_type": "code",
   "execution_count": null,
   "id": "4effcc93-0535-43c6-af5a-d4aff72190bc",
   "metadata": {},
   "outputs": [],
   "source": []
  },
  {
   "cell_type": "markdown",
   "id": "a48580a5-e383-42f1-ad3c-e2c879a6ff36",
   "metadata": {},
   "source": [
    "### Jump Statements\n",
    "- Pass\n",
    "- Continue\n",
    "- Break"
   ]
  },
  {
   "cell_type": "code",
   "execution_count": 11,
   "id": "5b3fd276-86de-4fc7-9fc7-c3eb0980c8a5",
   "metadata": {},
   "outputs": [],
   "source": [
    "# Pass is just a proxy to a block of code"
   ]
  },
  {
   "cell_type": "code",
   "execution_count": 12,
   "id": "98337d67-8983-4c75-8b2e-7c97c7801a61",
   "metadata": {},
   "outputs": [],
   "source": [
    "# Update this for loop at the end of project\n",
    "for i in range(10):\n",
    "    pass"
   ]
  },
  {
   "cell_type": "code",
   "execution_count": null,
   "id": "477282f6-19dc-40f2-8dd1-1c1630e4e17e",
   "metadata": {},
   "outputs": [],
   "source": []
  },
  {
   "cell_type": "code",
   "execution_count": 15,
   "id": "1c75ea2b-5302-45fe-bcbc-de436442807b",
   "metadata": {},
   "outputs": [],
   "source": [
    "def func():\n",
    "    pass"
   ]
  },
  {
   "cell_type": "code",
   "execution_count": 17,
   "id": "033ff21f-f726-4c09-b768-2f41e72886bf",
   "metadata": {},
   "outputs": [],
   "source": [
    "class Human:\n",
    "    pass"
   ]
  },
  {
   "cell_type": "code",
   "execution_count": null,
   "id": "43242b97-abe1-475b-b027-316640d8c7ae",
   "metadata": {},
   "outputs": [],
   "source": []
  },
  {
   "cell_type": "code",
   "execution_count": null,
   "id": "ff31fbbb-5b3b-4b9f-95e2-44909b7feaee",
   "metadata": {},
   "outputs": [],
   "source": []
  },
  {
   "cell_type": "code",
   "execution_count": 19,
   "id": "3b827405-b821-482b-9942-4c0e76b88cb5",
   "metadata": {},
   "outputs": [],
   "source": [
    "# Continue: Rest of the code for this iteration gets skipped"
   ]
  },
  {
   "cell_type": "code",
   "execution_count": 20,
   "id": "2216f034-beb1-4c5a-8a9b-e63b8891f2ca",
   "metadata": {},
   "outputs": [
    {
     "name": "stdout",
     "output_type": "stream",
     "text": [
      "0 Honored with a garland\n",
      "1 Honored with a garland\n",
      "2 Honored with a garland\n",
      "3 Honored with a garland\n",
      "4 Honored with a garland\n",
      "6 Honored with a garland\n",
      "7 Honored with a garland\n",
      "8 Honored with a garland\n",
      "9 Honored with a garland\n"
     ]
    }
   ],
   "source": [
    "for i in range(10):\n",
    "    if i == 5:\n",
    "        continue\n",
    "    print(i, \"Honored with a garland\")"
   ]
  },
  {
   "cell_type": "code",
   "execution_count": null,
   "id": "765bf5ca-1f6d-4a4b-ab49-9089e2e134b3",
   "metadata": {},
   "outputs": [],
   "source": []
  },
  {
   "cell_type": "code",
   "execution_count": null,
   "id": "92b4947b-4cd3-466b-ba06-1670a5d2aeb6",
   "metadata": {},
   "outputs": [],
   "source": []
  },
  {
   "cell_type": "code",
   "execution_count": 24,
   "id": "cd079e8d-918d-4e41-bf48-a9bf31b65ddb",
   "metadata": {},
   "outputs": [],
   "source": [
    "# Break: is used to break out of the loop"
   ]
  },
  {
   "cell_type": "code",
   "execution_count": 25,
   "id": "b29f2870-6cf4-4e46-b5d7-05de5f734901",
   "metadata": {},
   "outputs": [
    {
     "name": "stdout",
     "output_type": "stream",
     "text": [
      "0 Honored with a garland\n",
      "1 Honored with a garland\n",
      "2 Honored with a garland\n",
      "3 Honored with a garland\n",
      "4 Honored with a garland\n"
     ]
    }
   ],
   "source": [
    "for i in range(10):\n",
    "    if i == 5:\n",
    "        break\n",
    "    print(i, \"Honored with a garland\")"
   ]
  },
  {
   "cell_type": "code",
   "execution_count": null,
   "id": "b01584b0-964f-4882-89a5-6b200bfa4e8d",
   "metadata": {},
   "outputs": [],
   "source": []
  },
  {
   "cell_type": "code",
   "execution_count": null,
   "id": "1bd5f9ac-a0a2-47f0-99df-d96e236b19e5",
   "metadata": {},
   "outputs": [],
   "source": []
  },
  {
   "cell_type": "code",
   "execution_count": 26,
   "id": "481f62ee-39f1-44d9-ae41-d97e98e27d94",
   "metadata": {},
   "outputs": [],
   "source": [
    "# Quiz"
   ]
  },
  {
   "cell_type": "code",
   "execution_count": 27,
   "id": "9929376e-5ded-4aca-b056-fc29b383740f",
   "metadata": {},
   "outputs": [
    {
     "name": "stdout",
     "output_type": "stream",
     "text": [
      "1\n",
      "2\n",
      "4\n",
      "5\n"
     ]
    }
   ],
   "source": [
    "x = 0\n",
    "while x < 5:\n",
    "    x += 1\n",
    "    if x == 3:\n",
    "        continue\n",
    "    print(x)"
   ]
  },
  {
   "cell_type": "code",
   "execution_count": 28,
   "id": "56e9aefa-8d01-4601-8760-e275d3fedac8",
   "metadata": {},
   "outputs": [
    {
     "name": "stdout",
     "output_type": "stream",
     "text": [
      "1\n",
      "2\n",
      "3\n",
      "4\n",
      "5\n"
     ]
    }
   ],
   "source": [
    "x = 0\n",
    "while x < 5:\n",
    "    x += 1\n",
    "    if x == 3:\n",
    "        pass\n",
    "    print(x)"
   ]
  },
  {
   "cell_type": "code",
   "execution_count": 29,
   "id": "0be24762-3dd8-44d8-89d2-eeb8f34c95d5",
   "metadata": {},
   "outputs": [
    {
     "name": "stdout",
     "output_type": "stream",
     "text": [
      "1\n",
      "2\n"
     ]
    }
   ],
   "source": [
    "x = 0\n",
    "while x < 5:\n",
    "    x += 1\n",
    "    if x == 3:\n",
    "        break\n",
    "    print(x)"
   ]
  },
  {
   "cell_type": "code",
   "execution_count": null,
   "id": "446e46bf-77f8-4d4e-8af6-acfe8728d85e",
   "metadata": {},
   "outputs": [],
   "source": []
  },
  {
   "cell_type": "code",
   "execution_count": null,
   "id": "9a51e465-05dd-46e4-b08b-dfa102482354",
   "metadata": {},
   "outputs": [],
   "source": []
  },
  {
   "cell_type": "markdown",
   "id": "1fe189b3-1888-4e2c-bb04-b253c0bf5289",
   "metadata": {},
   "source": [
    "### Question:\n",
    "- Write a program that continuously asks the user to provide an input number\n",
    "- The program should stop only when the user provides 5.\n",
    "- Once the user provides 5, the program should print the number of times an input was provided.\n",
    "- Assume that the user always provides a number."
   ]
  },
  {
   "cell_type": "code",
   "execution_count": 32,
   "id": "8415249b-071d-4314-91d8-5994e65320d7",
   "metadata": {},
   "outputs": [
    {
     "name": "stdin",
     "output_type": "stream",
     "text": [
      " 2\n",
      " 3\n",
      " 5\n"
     ]
    },
    {
     "name": "stdout",
     "output_type": "stream",
     "text": [
      "value of counter is 3\n"
     ]
    }
   ],
   "source": [
    "counter = 0\n",
    "\n",
    "while True:\n",
    "    counter += 1\n",
    "    \n",
    "    n = int(input())\n",
    "    \n",
    "    if n == 5:\n",
    "        break\n",
    "        \n",
    "print(\"value of counter is\", counter)"
   ]
  },
  {
   "cell_type": "code",
   "execution_count": null,
   "id": "f8d29510-4f16-4c4b-9b9c-fe2d0f656d47",
   "metadata": {},
   "outputs": [],
   "source": []
  },
  {
   "cell_type": "code",
   "execution_count": null,
   "id": "147ad84e-089a-4abe-8a6a-f43ebfbd9b92",
   "metadata": {},
   "outputs": [],
   "source": []
  },
  {
   "cell_type": "code",
   "execution_count": 33,
   "id": "6b1ed14b-8bfc-4759-b0a0-c0d722a25bff",
   "metadata": {},
   "outputs": [],
   "source": [
    "# Quiz"
   ]
  },
  {
   "cell_type": "code",
   "execution_count": 34,
   "id": "bd1f5664-a148-4a45-b5cf-086c71bfb8b9",
   "metadata": {},
   "outputs": [
    {
     "name": "stdout",
     "output_type": "stream",
     "text": [
      "1\n",
      "2\n",
      "Loop finished\n"
     ]
    }
   ],
   "source": [
    "x = 0\n",
    "while x < 5:\n",
    "    x += 1\n",
    "    if x == 3:\n",
    "        break\n",
    "    print(x)\n",
    "print(\"Loop finished\")"
   ]
  },
  {
   "cell_type": "code",
   "execution_count": null,
   "id": "dffbe6d1-1eee-4999-ad15-c2a56a54c017",
   "metadata": {},
   "outputs": [],
   "source": []
  },
  {
   "cell_type": "code",
   "execution_count": 35,
   "id": "40d724e4-0ac4-4558-8222-888e98dec29e",
   "metadata": {},
   "outputs": [
    {
     "name": "stdout",
     "output_type": "stream",
     "text": [
      "0\n",
      "1\n",
      "2\n",
      "3\n",
      "4\n"
     ]
    }
   ],
   "source": [
    "count = 0\n",
    "while True:\n",
    "    if count == 5:\n",
    "        break\n",
    "    print(count)\n",
    "    count += 1"
   ]
  },
  {
   "cell_type": "code",
   "execution_count": null,
   "id": "e994372f-a595-452c-a462-92bfb8cdeab7",
   "metadata": {},
   "outputs": [],
   "source": []
  },
  {
   "cell_type": "code",
   "execution_count": null,
   "id": "74ec3b96-d659-4bcc-bcea-66cf4ee1de54",
   "metadata": {},
   "outputs": [],
   "source": []
  },
  {
   "cell_type": "markdown",
   "id": "fc4c2bd8-fa38-4c82-b14a-acfb775960b5",
   "metadata": {},
   "source": [
    "### Problem"
   ]
  },
  {
   "cell_type": "code",
   "execution_count": 36,
   "id": "187562ea-7870-4716-9ac8-3a919ec44f35",
   "metadata": {},
   "outputs": [],
   "source": [
    "# N = 4\n",
    "\n",
    "# # # #\n",
    "# # # #\n",
    "# # # #\n",
    "# # # #"
   ]
  },
  {
   "cell_type": "code",
   "execution_count": null,
   "id": "83223c52-20e4-4d87-ae2c-e9316e8af1b4",
   "metadata": {},
   "outputs": [],
   "source": []
  },
  {
   "cell_type": "code",
   "execution_count": 37,
   "id": "e57f515c-af70-4087-b386-5bd6729296ab",
   "metadata": {},
   "outputs": [],
   "source": [
    "# Step1: Starting with printing a row:"
   ]
  },
  {
   "cell_type": "code",
   "execution_count": 38,
   "id": "ad0680e0-3e5e-482a-ba9e-d6c8f4bb4c57",
   "metadata": {},
   "outputs": [
    {
     "name": "stdout",
     "output_type": "stream",
     "text": [
      "#\n",
      "#\n",
      "#\n",
      "#\n"
     ]
    }
   ],
   "source": [
    "for i in range(4):\n",
    "    print(\"#\")"
   ]
  },
  {
   "cell_type": "code",
   "execution_count": 39,
   "id": "90a73d20-24d9-4c71-baf4-a38e78fc355e",
   "metadata": {},
   "outputs": [
    {
     "name": "stdout",
     "output_type": "stream",
     "text": [
      "# # # # "
     ]
    }
   ],
   "source": [
    "for i in range(4):\n",
    "    print(\"#\", end=\" \")"
   ]
  },
  {
   "cell_type": "code",
   "execution_count": 40,
   "id": "49f9e14e-3ccd-4881-9d4a-6246c08fcd8d",
   "metadata": {},
   "outputs": [],
   "source": [
    "# Please repeat the above code 4 times"
   ]
  },
  {
   "cell_type": "code",
   "execution_count": 41,
   "id": "d45d749a-7fef-47c4-b21e-ec99daa1d076",
   "metadata": {},
   "outputs": [
    {
     "name": "stdout",
     "output_type": "stream",
     "text": [
      "# # # # # # # # # # # # # # # # "
     ]
    }
   ],
   "source": [
    "for i in range(4):\n",
    "    print(\"#\", end=\" \")\n",
    "    \n",
    "for i in range(4):\n",
    "    print(\"#\", end=\" \")\n",
    "    \n",
    "for i in range(4):\n",
    "    print(\"#\", end=\" \")\n",
    "    \n",
    "for i in range(4):\n",
    "    print(\"#\", end=\" \")"
   ]
  },
  {
   "cell_type": "code",
   "execution_count": 42,
   "id": "12d2064e-ecf7-42ec-9578-6390f91371b3",
   "metadata": {},
   "outputs": [],
   "source": [
    "# Get a new line after every row"
   ]
  },
  {
   "cell_type": "code",
   "execution_count": 43,
   "id": "18d310df-4c2e-4939-bc55-6e17a5eb338e",
   "metadata": {},
   "outputs": [
    {
     "name": "stdout",
     "output_type": "stream",
     "text": [
      "# # # # \n",
      "# # # # \n",
      "# # # # \n",
      "# # # # "
     ]
    }
   ],
   "source": [
    "for i in range(4):\n",
    "    print(\"#\", end=\" \")\n",
    "print()\n",
    "\n",
    "for i in range(4):\n",
    "    print(\"#\", end=\" \")\n",
    "print()\n",
    "\n",
    "for i in range(4):\n",
    "    print(\"#\", end=\" \")\n",
    "print()\n",
    "\n",
    "for i in range(4):\n",
    "    print(\"#\", end=\" \")"
   ]
  },
  {
   "cell_type": "code",
   "execution_count": null,
   "id": "a5277743-4035-4c87-a670-53a76c4328a5",
   "metadata": {},
   "outputs": [],
   "source": []
  },
  {
   "cell_type": "code",
   "execution_count": null,
   "id": "c9ca068d-73ae-4000-be5d-7de6402d33d0",
   "metadata": {},
   "outputs": [],
   "source": []
  },
  {
   "cell_type": "markdown",
   "id": "b7edafe0-d67b-44bb-adab-6fca36e03383",
   "metadata": {},
   "source": [
    "### Nested for loop"
   ]
  },
  {
   "cell_type": "code",
   "execution_count": 45,
   "id": "366b8093-cade-4067-878d-9710e3dca6ee",
   "metadata": {},
   "outputs": [
    {
     "name": "stdout",
     "output_type": "stream",
     "text": [
      "# # # # \n",
      "# # # # \n",
      "# # # # \n",
      "# # # # \n"
     ]
    }
   ],
   "source": [
    "for i in range(4):\n",
    "    for j in range(4):\n",
    "        print(\"#\", end=\" \")\n",
    "    print()"
   ]
  },
  {
   "cell_type": "code",
   "execution_count": null,
   "id": "c3f65eb5-129b-4a76-ae8d-0a7f1a19b17a",
   "metadata": {},
   "outputs": [],
   "source": []
  },
  {
   "cell_type": "code",
   "execution_count": 46,
   "id": "e2e85250-6fae-4e7e-9cac-82b11c29f41b",
   "metadata": {},
   "outputs": [
    {
     "name": "stdout",
     "output_type": "stream",
     "text": [
      "# # # # # \n",
      "# # # # # \n",
      "# # # # # \n",
      "# # # # # \n",
      "# # # # # \n"
     ]
    }
   ],
   "source": [
    "for i in range(5):\n",
    "    for j in range(5):\n",
    "        print(\"#\", end=\" \")\n",
    "    print()"
   ]
  },
  {
   "cell_type": "code",
   "execution_count": null,
   "id": "55d9cb7b-4ac0-4a68-9385-b48adc4908f2",
   "metadata": {},
   "outputs": [],
   "source": []
  },
  {
   "cell_type": "code",
   "execution_count": null,
   "id": "58f7ad40-2582-483f-bf79-bca2a665fe9d",
   "metadata": {},
   "outputs": [],
   "source": []
  },
  {
   "cell_type": "code",
   "execution_count": null,
   "id": "dd82fc1d-cfae-4c7a-a14b-3d5c957b2adf",
   "metadata": {},
   "outputs": [],
   "source": []
  },
  {
   "cell_type": "markdown",
   "id": "729e2498-573b-45de-91d4-d5246157c68a",
   "metadata": {},
   "source": [
    "### Print N * N pattern"
   ]
  },
  {
   "cell_type": "code",
   "execution_count": 51,
   "id": "cc469401-82fb-4569-a895-b900e5cff178",
   "metadata": {},
   "outputs": [
    {
     "name": "stdin",
     "output_type": "stream",
     "text": [
      " 5\n"
     ]
    },
    {
     "name": "stdout",
     "output_type": "stream",
     "text": [
      "# # # # # \n",
      "# # # # # \n",
      "# # # # # \n",
      "# # # # # \n",
      "# # # # # \n"
     ]
    }
   ],
   "source": [
    "n = int(input())\n",
    "\n",
    "for i in range(n):\n",
    "    for j in range(n):\n",
    "        print(\"#\", end=\" \")\n",
    "    print()"
   ]
  },
  {
   "cell_type": "code",
   "execution_count": null,
   "id": "1e8b72cb-500c-4940-8f8a-2193f84e300e",
   "metadata": {},
   "outputs": [],
   "source": []
  },
  {
   "cell_type": "code",
   "execution_count": 52,
   "id": "a666845a-3a0f-4110-9673-3e8155192d25",
   "metadata": {},
   "outputs": [],
   "source": [
    "# # # #\n",
    "# # # #"
   ]
  },
  {
   "cell_type": "code",
   "execution_count": 53,
   "id": "b0ee788d-4376-42c9-bfdc-3067a3bc4035",
   "metadata": {},
   "outputs": [
    {
     "name": "stdout",
     "output_type": "stream",
     "text": [
      "# # # # "
     ]
    }
   ],
   "source": [
    "for i in range(4):\n",
    "    print(\"#\", end=\" \")"
   ]
  },
  {
   "cell_type": "code",
   "execution_count": 55,
   "id": "9163568f-fad0-4a86-a431-54639d25dd49",
   "metadata": {},
   "outputs": [
    {
     "name": "stdout",
     "output_type": "stream",
     "text": [
      "# # # # \n",
      "# # # # \n"
     ]
    }
   ],
   "source": [
    "for i in range(2):\n",
    "    for j in range(4):\n",
    "        print(\"#\", end=\" \")\n",
    "    print()"
   ]
  },
  {
   "cell_type": "code",
   "execution_count": null,
   "id": "1c7181dd-ec56-4d46-a808-9cbd390779eb",
   "metadata": {},
   "outputs": [],
   "source": []
  },
  {
   "cell_type": "code",
   "execution_count": 56,
   "id": "529e983d-c5d0-44cc-a6c2-0a0cde3cc896",
   "metadata": {},
   "outputs": [],
   "source": [
    "# This is specific for matrix questions only:\n",
    "# Outer loop is responsible for no of rows\n",
    "# Inner loop is responsible for no of columns"
   ]
  },
  {
   "cell_type": "code",
   "execution_count": null,
   "id": "4b7f78c5-757c-46e2-8a83-bd11349eb189",
   "metadata": {},
   "outputs": [],
   "source": []
  },
  {
   "cell_type": "code",
   "execution_count": 61,
   "id": "2b5d31fb-16b5-4fdd-a6e7-d36d33968497",
   "metadata": {},
   "outputs": [
    {
     "name": "stdin",
     "output_type": "stream",
     "text": [
      " 3\n",
      " 6\n"
     ]
    },
    {
     "name": "stdout",
     "output_type": "stream",
     "text": [
      "# # # # # # \n",
      "# # # # # # \n",
      "# # # # # # \n"
     ]
    }
   ],
   "source": [
    "n = int(input())\n",
    "m = int(input())\n",
    "\n",
    "for row in range(n):\n",
    "    for column in range(m):\n",
    "        print(\"#\", end=\" \")\n",
    "    print()"
   ]
  },
  {
   "cell_type": "code",
   "execution_count": null,
   "id": "bc73bcaf-b91a-4bae-ae1a-6c5e07c3d466",
   "metadata": {},
   "outputs": [],
   "source": []
  },
  {
   "cell_type": "code",
   "execution_count": 62,
   "id": "d8a10cac-cd15-41d1-b2eb-e2c42f9e5a22",
   "metadata": {},
   "outputs": [],
   "source": [
    "# Print above pattern using while loop"
   ]
  },
  {
   "cell_type": "code",
   "execution_count": 71,
   "id": "fdf0d8df-4e7d-4369-a91a-523b6c07df41",
   "metadata": {},
   "outputs": [
    {
     "name": "stdin",
     "output_type": "stream",
     "text": [
      " 2\n",
      " 3\n"
     ]
    },
    {
     "name": "stdout",
     "output_type": "stream",
     "text": [
      "# # # \n",
      "# # # \n"
     ]
    }
   ],
   "source": [
    "n = int(input())\n",
    "m = int(input())\n",
    "\n",
    "i = 0\n",
    "\n",
    "while i < n:\n",
    "    j = 0\n",
    "    while j < m:\n",
    "        print(\"#\", end=\" \")\n",
    "        j += 1\n",
    "    print()\n",
    "    \n",
    "    i += 1\n",
    "    "
   ]
  },
  {
   "cell_type": "code",
   "execution_count": 64,
   "id": "f3f61c5e-ceb1-4690-a63f-9806e0e3399e",
   "metadata": {},
   "outputs": [
    {
     "name": "stdout",
     "output_type": "stream",
     "text": [
      "# # # # "
     ]
    }
   ],
   "source": [
    "j = 0\n",
    "while j < 4:\n",
    "    print(\"#\", end=\" \")\n",
    "    j += 1"
   ]
  },
  {
   "cell_type": "code",
   "execution_count": null,
   "id": "9862fcba-9c60-4f8d-a0cd-6726a67f2763",
   "metadata": {},
   "outputs": [],
   "source": []
  },
  {
   "cell_type": "code",
   "execution_count": null,
   "id": "49b99f7c-2856-494b-a5b9-91a564d234d7",
   "metadata": {},
   "outputs": [],
   "source": []
  },
  {
   "cell_type": "code",
   "execution_count": 72,
   "id": "8c05c192-511a-4ef7-8aea-cffa6e8f3a9c",
   "metadata": {},
   "outputs": [
    {
     "name": "stdout",
     "output_type": "stream",
     "text": [
      "0 0\n",
      "0 1\n",
      "0 2\n",
      "1 0\n",
      "1 1\n",
      "1 2\n"
     ]
    }
   ],
   "source": [
    "for i in range(2):\n",
    "    for j in range(3):\n",
    "        print(i, j)"
   ]
  },
  {
   "cell_type": "code",
   "execution_count": null,
   "id": "84f2092a-750b-4828-91d3-393124cb4493",
   "metadata": {},
   "outputs": [],
   "source": []
  },
  {
   "cell_type": "code",
   "execution_count": null,
   "id": "bc90ce77-58b2-4e1a-a33c-56d69cc7c3bb",
   "metadata": {},
   "outputs": [],
   "source": []
  },
  {
   "cell_type": "code",
   "execution_count": 73,
   "id": "88fc5630-5e0c-4102-8bb5-c70506d4eb22",
   "metadata": {},
   "outputs": [],
   "source": [
    "# Quiz"
   ]
  },
  {
   "cell_type": "code",
   "execution_count": 74,
   "id": "a401f89b-d501-4968-a9a3-e40a5bc462f4",
   "metadata": {},
   "outputs": [
    {
     "name": "stdout",
     "output_type": "stream",
     "text": [
      "* * * \n",
      "* * \n",
      "* \n"
     ]
    }
   ],
   "source": [
    "for i in range(3):\n",
    "    for j in range(i, 3):\n",
    "        print(\"*\", end=\" \")\n",
    "    print()"
   ]
  },
  {
   "cell_type": "code",
   "execution_count": null,
   "id": "48d16d8d-9a99-4eef-89f0-d9116430048d",
   "metadata": {},
   "outputs": [],
   "source": []
  },
  {
   "cell_type": "code",
   "execution_count": null,
   "id": "98049529-e93a-4da8-8b13-896fb5c4e0c0",
   "metadata": {},
   "outputs": [],
   "source": []
  },
  {
   "cell_type": "markdown",
   "id": "2684b8f1-f55b-4a77-b8a7-8d1b83ef01d8",
   "metadata": {},
   "source": [
    "### GCD"
   ]
  },
  {
   "cell_type": "code",
   "execution_count": 75,
   "id": "038a2d8f-2456-4b47-ae45-f2b42b731677",
   "metadata": {},
   "outputs": [],
   "source": [
    "# Following is the code for all common factors"
   ]
  },
  {
   "cell_type": "code",
   "execution_count": 76,
   "id": "96626ef9-5e69-4ab2-9901-61e88aeaf7d1",
   "metadata": {},
   "outputs": [],
   "source": [
    "# Find factors of a number n"
   ]
  },
  {
   "cell_type": "code",
   "execution_count": 79,
   "id": "f8f555df-b633-4b91-813e-7da5293fe080",
   "metadata": {},
   "outputs": [
    {
     "name": "stdout",
     "output_type": "stream",
     "text": [
      "1\n",
      "2\n",
      "5\n",
      "10\n"
     ]
    }
   ],
   "source": [
    "n = 10\n",
    "\n",
    "for i in range(1, n + 1):\n",
    "    if n % i == 0:\n",
    "        print(i)"
   ]
  },
  {
   "cell_type": "code",
   "execution_count": 82,
   "id": "09a8307b-a035-484f-8d14-09c742472cbb",
   "metadata": {},
   "outputs": [
    {
     "name": "stdout",
     "output_type": "stream",
     "text": [
      "1\n",
      "5\n"
     ]
    }
   ],
   "source": [
    "A = 5\n",
    "B = 10\n",
    "\n",
    "for i in range(1, min(A, B) + 1):\n",
    "    if (A % i == 0) and (B % i == 0):\n",
    "        print(i)"
   ]
  },
  {
   "cell_type": "code",
   "execution_count": null,
   "id": "2bb81a95-6e0f-450e-9858-9e7b449bcae6",
   "metadata": {},
   "outputs": [],
   "source": []
  },
  {
   "cell_type": "code",
   "execution_count": 84,
   "id": "badae69e-15b6-4d0c-9dfa-f90655a4fd7f",
   "metadata": {},
   "outputs": [
    {
     "name": "stdout",
     "output_type": "stream",
     "text": [
      "5\n",
      "1\n"
     ]
    }
   ],
   "source": [
    "A = 5\n",
    "B = 10\n",
    "n = min(A, B)\n",
    "\n",
    "for i in range(n, 0, -1):\n",
    "    if (A % i == 0) and (B % i == 0):\n",
    "        print(i)"
   ]
  },
  {
   "cell_type": "code",
   "execution_count": null,
   "id": "0e02a8eb-d59f-4cf7-97fc-2a07084d713c",
   "metadata": {},
   "outputs": [],
   "source": []
  },
  {
   "cell_type": "code",
   "execution_count": 85,
   "id": "1fa31426-c11f-4821-b557-2ab9fd148058",
   "metadata": {},
   "outputs": [],
   "source": [
    "# Stop loop after getting the Highest Common Factor"
   ]
  },
  {
   "cell_type": "code",
   "execution_count": 88,
   "id": "1222f501-aa38-49b4-8807-8b20ca452ddc",
   "metadata": {},
   "outputs": [
    {
     "name": "stdin",
     "output_type": "stream",
     "text": [
      " 6\n",
      " 24\n"
     ]
    },
    {
     "name": "stdout",
     "output_type": "stream",
     "text": [
      "6\n"
     ]
    }
   ],
   "source": [
    "A = int(input())\n",
    "B = int(input())\n",
    "n = min(A, B)\n",
    "\n",
    "for i in range(n, 0, -1):\n",
    "    if (A % i == 0) and (B % i == 0):\n",
    "        print(i)\n",
    "        break"
   ]
  },
  {
   "cell_type": "code",
   "execution_count": null,
   "id": "9ce9323a-f513-4894-945b-72a9b03cec9f",
   "metadata": {},
   "outputs": [],
   "source": []
  },
  {
   "cell_type": "code",
   "execution_count": null,
   "id": "de832e98-a030-4236-826d-4e60f89ac4b5",
   "metadata": {},
   "outputs": [],
   "source": []
  },
  {
   "cell_type": "code",
   "execution_count": 89,
   "id": "e7ce449f-3c12-4c99-bc59-25edeecea135",
   "metadata": {},
   "outputs": [],
   "source": [
    "# Doubts"
   ]
  },
  {
   "cell_type": "code",
   "execution_count": 91,
   "id": "46950cda-01b8-4b1e-aba0-2de9331da289",
   "metadata": {},
   "outputs": [],
   "source": [
    "if 5 > 2:\n",
    "    pass"
   ]
  },
  {
   "cell_type": "code",
   "execution_count": null,
   "id": "a95ae966-c12c-4032-ab06-21e5f14bb220",
   "metadata": {},
   "outputs": [],
   "source": []
  },
  {
   "cell_type": "code",
   "execution_count": null,
   "id": "200d56b6-8132-4cff-8f7f-733a89320274",
   "metadata": {},
   "outputs": [],
   "source": []
  },
  {
   "cell_type": "code",
   "execution_count": null,
   "id": "738e3363-7310-4896-a768-5a15f983e19e",
   "metadata": {},
   "outputs": [],
   "source": []
  },
  {
   "cell_type": "code",
   "execution_count": null,
   "id": "a3002adb-05f7-4894-b56d-5782d9568236",
   "metadata": {},
   "outputs": [],
   "source": []
  },
  {
   "cell_type": "code",
   "execution_count": null,
   "id": "ed08020b-16ec-4642-8c42-0abccc37a5f3",
   "metadata": {},
   "outputs": [],
   "source": []
  },
  {
   "cell_type": "code",
   "execution_count": null,
   "id": "3f7e73f6-d1b9-484b-9c6a-00b4ea3af4d0",
   "metadata": {},
   "outputs": [],
   "source": []
  }
 ],
 "metadata": {
  "kernelspec": {
   "display_name": "Python 3 (ipykernel)",
   "language": "python",
   "name": "python3"
  },
  "language_info": {
   "codemirror_mode": {
    "name": "ipython",
    "version": 3
   },
   "file_extension": ".py",
   "mimetype": "text/x-python",
   "name": "python",
   "nbconvert_exporter": "python",
   "pygments_lexer": "ipython3",
   "version": "3.9.7"
  }
 },
 "nbformat": 4,
 "nbformat_minor": 5
}
