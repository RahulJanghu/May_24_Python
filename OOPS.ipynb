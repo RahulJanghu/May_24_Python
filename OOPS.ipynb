{
 "cells": [
  {
   "cell_type": "markdown",
   "id": "eff51a55-9452-4547-a06a-8a2374cbc749",
   "metadata": {},
   "source": [
    "## Welcome to the world of classes"
   ]
  },
  {
   "cell_type": "code",
   "execution_count": 1,
   "id": "17b21a7d-9f3e-4614-b3aa-c149e00d6b59",
   "metadata": {},
   "outputs": [],
   "source": [
    "# defining a class \n",
    "# creating instances of the class"
   ]
  },
  {
   "cell_type": "code",
   "execution_count": 3,
   "id": "23eab769-7527-4813-af19-d15d87c68937",
   "metadata": {},
   "outputs": [],
   "source": [
    "a = 1\n",
    "b = 23"
   ]
  },
  {
   "cell_type": "code",
   "execution_count": 4,
   "id": "1fd145ba-3942-40be-acca-76f81e9fd8a6",
   "metadata": {},
   "outputs": [
    {
     "name": "stdout",
     "output_type": "stream",
     "text": [
      "<class 'int'>\n",
      "<class 'int'>\n"
     ]
    }
   ],
   "source": [
    "print(type(a))\n",
    "print(type(b))"
   ]
  },
  {
   "cell_type": "code",
   "execution_count": 5,
   "id": "a8206732-fa0a-4219-865a-d56820c2965d",
   "metadata": {},
   "outputs": [
    {
     "name": "stdout",
     "output_type": "stream",
     "text": [
      "<class 'float'>\n"
     ]
    }
   ],
   "source": [
    "print(type(123.34))"
   ]
  },
  {
   "cell_type": "code",
   "execution_count": 6,
   "id": "0a7ac64c-47b8-4c43-9415-71448ac0a90b",
   "metadata": {},
   "outputs": [
    {
     "name": "stdout",
     "output_type": "stream",
     "text": [
      "<class 'list'>\n"
     ]
    }
   ],
   "source": [
    "print(type([1, 2, 3]))"
   ]
  },
  {
   "cell_type": "code",
   "execution_count": 8,
   "id": "f41955a5-db8f-4605-ae6d-f7ce8712fb14",
   "metadata": {},
   "outputs": [
    {
     "data": {
      "text/plain": [
       "True"
      ]
     },
     "execution_count": 8,
     "metadata": {},
     "output_type": "execute_result"
    }
   ],
   "source": [
    "isinstance(12, int)"
   ]
  },
  {
   "cell_type": "code",
   "execution_count": 10,
   "id": "4c91c42d-f17e-43bc-bad2-1bff296ca3f0",
   "metadata": {},
   "outputs": [
    {
     "data": {
      "text/plain": [
       "True"
      ]
     },
     "execution_count": 10,
     "metadata": {},
     "output_type": "execute_result"
    }
   ],
   "source": [
    "isinstance(12, object)"
   ]
  },
  {
   "cell_type": "code",
   "execution_count": 11,
   "id": "51eaa072-0397-4d97-a449-b585881784dc",
   "metadata": {},
   "outputs": [
    {
     "data": {
      "text/plain": [
       "True"
      ]
     },
     "execution_count": 11,
     "metadata": {},
     "output_type": "execute_result"
    }
   ],
   "source": [
    "isinstance(object, object)"
   ]
  },
  {
   "cell_type": "code",
   "execution_count": 15,
   "id": "83b2e5b2-a729-4244-9a12-98881baf697e",
   "metadata": {},
   "outputs": [
    {
     "data": {
      "text/plain": [
       "True"
      ]
     },
     "execution_count": 15,
     "metadata": {},
     "output_type": "execute_result"
    }
   ],
   "source": [
    "isinstance(\"Rahul\", str)"
   ]
  },
  {
   "cell_type": "code",
   "execution_count": null,
   "id": "8b61d21f-4b15-4b17-bf35-43cc9f35dd96",
   "metadata": {},
   "outputs": [],
   "source": []
  },
  {
   "cell_type": "code",
   "execution_count": 17,
   "id": "07125df0-bdee-4517-9e03-976ae034a534",
   "metadata": {},
   "outputs": [],
   "source": [
    "class Students:\n",
    "    pass"
   ]
  },
  {
   "cell_type": "code",
   "execution_count": 18,
   "id": "697ad36a-8172-4c81-aabb-78089cb7d5c6",
   "metadata": {},
   "outputs": [],
   "source": [
    "# When you create an object of a class, this process is called\n",
    "# Instantiation"
   ]
  },
  {
   "cell_type": "code",
   "execution_count": 19,
   "id": "47258ca5-d465-441a-a84e-187860f22427",
   "metadata": {},
   "outputs": [],
   "source": [
    "s1 = Students()\n",
    "s2 = Students()"
   ]
  },
  {
   "cell_type": "code",
   "execution_count": 20,
   "id": "35b0bc36-257c-4f6e-b1f8-5576c704009f",
   "metadata": {},
   "outputs": [
    {
     "name": "stdout",
     "output_type": "stream",
     "text": [
      "<class '__main__.Students'>\n",
      "<class '__main__.Students'>\n"
     ]
    }
   ],
   "source": [
    "print(type(s1))\n",
    "print(type(s2))"
   ]
  },
  {
   "cell_type": "code",
   "execution_count": 21,
   "id": "749e9be9-8065-45b1-9bc8-e01d47acc246",
   "metadata": {},
   "outputs": [
    {
     "data": {
      "text/plain": [
       "True"
      ]
     },
     "execution_count": 21,
     "metadata": {},
     "output_type": "execute_result"
    }
   ],
   "source": [
    "isinstance(s1, object)"
   ]
  },
  {
   "cell_type": "code",
   "execution_count": 22,
   "id": "a060d4a7-3d06-4399-9768-c490f59a3478",
   "metadata": {},
   "outputs": [
    {
     "data": {
      "text/plain": [
       "True"
      ]
     },
     "execution_count": 22,
     "metadata": {},
     "output_type": "execute_result"
    }
   ],
   "source": [
    "isinstance(s1, Students)"
   ]
  },
  {
   "cell_type": "code",
   "execution_count": null,
   "id": "7a665bb6-54c9-4a6c-a461-4639e541e792",
   "metadata": {},
   "outputs": [],
   "source": []
  },
  {
   "cell_type": "code",
   "execution_count": 23,
   "id": "3516600c-7690-4d19-994a-ecd243ee3dfd",
   "metadata": {},
   "outputs": [],
   "source": [
    "# giving attributes to our objects"
   ]
  },
  {
   "cell_type": "code",
   "execution_count": 24,
   "id": "c9362e14-dbdc-4871-bdd7-9ce7326866dd",
   "metadata": {},
   "outputs": [],
   "source": [
    "s1.name = \"Iron Man\"\n",
    "s2.age = 27"
   ]
  },
  {
   "cell_type": "code",
   "execution_count": 25,
   "id": "9c002b6a-9a01-44d1-9731-8cefc5a0591a",
   "metadata": {},
   "outputs": [
    {
     "name": "stdout",
     "output_type": "stream",
     "text": [
      "Iron Man\n"
     ]
    }
   ],
   "source": [
    "print(s1.name)"
   ]
  },
  {
   "cell_type": "code",
   "execution_count": 26,
   "id": "21117cdd-dcbb-4287-bd33-c1684cb14211",
   "metadata": {},
   "outputs": [
    {
     "data": {
      "text/plain": [
       "27"
      ]
     },
     "execution_count": 26,
     "metadata": {},
     "output_type": "execute_result"
    }
   ],
   "source": [
    "s2.age"
   ]
  },
  {
   "cell_type": "code",
   "execution_count": 27,
   "id": "4867d919-dcbe-470d-b201-6e34e176b29c",
   "metadata": {},
   "outputs": [
    {
     "ename": "AttributeError",
     "evalue": "'Students' object has no attribute 'name'",
     "output_type": "error",
     "traceback": [
      "\u001b[0;31m---------------------------------------------------------------------------\u001b[0m",
      "\u001b[0;31mAttributeError\u001b[0m                            Traceback (most recent call last)",
      "\u001b[0;32m/var/folders/t5/yhjgrjs907zfp250jyxtw54m0000gn/T/ipykernel_1675/1547413451.py\u001b[0m in \u001b[0;36m<module>\u001b[0;34m\u001b[0m\n\u001b[0;32m----> 1\u001b[0;31m \u001b[0ms2\u001b[0m\u001b[0;34m.\u001b[0m\u001b[0mname\u001b[0m\u001b[0;34m\u001b[0m\u001b[0;34m\u001b[0m\u001b[0m\n\u001b[0m",
      "\u001b[0;31mAttributeError\u001b[0m: 'Students' object has no attribute 'name'"
     ]
    }
   ],
   "source": [
    "s2.name"
   ]
  },
  {
   "cell_type": "code",
   "execution_count": null,
   "id": "990c99d1-dbd7-4983-bb48-bf87d7202054",
   "metadata": {},
   "outputs": [],
   "source": []
  },
  {
   "cell_type": "code",
   "execution_count": null,
   "id": "12b5e1bb-9d91-4f1e-a1b6-92239ce668a3",
   "metadata": {},
   "outputs": [],
   "source": []
  },
  {
   "cell_type": "markdown",
   "id": "32042281-32ed-4f0d-bd39-6399083cafb1",
   "metadata": {},
   "source": [
    "#### Constructor"
   ]
  },
  {
   "cell_type": "code",
   "execution_count": 28,
   "id": "229e9f77-0c01-4fec-a5a5-0b5892ee12e2",
   "metadata": {},
   "outputs": [],
   "source": [
    "# class with initializer"
   ]
  },
  {
   "cell_type": "code",
   "execution_count": 39,
   "id": "f36efb94-9573-4eda-8241-4413a9a33b90",
   "metadata": {},
   "outputs": [],
   "source": [
    "class Students:\n",
    "    \n",
    "    def __init__(self):\n",
    "        self.name = \"Rahul\""
   ]
  },
  {
   "cell_type": "code",
   "execution_count": 40,
   "id": "65523278-a228-4c2f-8ba9-f271c66446cd",
   "metadata": {},
   "outputs": [],
   "source": [
    "s1 = Students()\n",
    "s2 = Students()"
   ]
  },
  {
   "cell_type": "code",
   "execution_count": 41,
   "id": "f0eb4fa8-b0c1-4a21-9efe-da2bb2f0adb0",
   "metadata": {},
   "outputs": [
    {
     "data": {
      "text/plain": [
       "'Rahul'"
      ]
     },
     "execution_count": 41,
     "metadata": {},
     "output_type": "execute_result"
    }
   ],
   "source": [
    "s1.name"
   ]
  },
  {
   "cell_type": "code",
   "execution_count": 42,
   "id": "356b911f-589e-4cfb-8793-1bfcbef0312b",
   "metadata": {},
   "outputs": [
    {
     "data": {
      "text/plain": [
       "'Rahul'"
      ]
     },
     "execution_count": 42,
     "metadata": {},
     "output_type": "execute_result"
    }
   ],
   "source": [
    "s2.name"
   ]
  },
  {
   "cell_type": "code",
   "execution_count": null,
   "id": "ea8aa930-099a-44be-82b3-e14a0790d9db",
   "metadata": {},
   "outputs": [],
   "source": []
  },
  {
   "cell_type": "code",
   "execution_count": 43,
   "id": "cc55e61e-5626-4b05-8671-82b36e3ba01e",
   "metadata": {},
   "outputs": [],
   "source": [
    "# Constructor is going to execute every time you create an object"
   ]
  },
  {
   "cell_type": "code",
   "execution_count": 44,
   "id": "3d31a8d8-b2a6-4dad-8585-ab22b66a9abc",
   "metadata": {},
   "outputs": [],
   "source": [
    "# What is self?"
   ]
  },
  {
   "cell_type": "code",
   "execution_count": 45,
   "id": "f721cd32-de05-4754-97ae-793e8ff65c28",
   "metadata": {},
   "outputs": [],
   "source": [
    "# Class with multiple instance variables"
   ]
  },
  {
   "cell_type": "code",
   "execution_count": 47,
   "id": "6b9f4427-c1d1-4602-97cb-0d25cee1609c",
   "metadata": {},
   "outputs": [],
   "source": [
    "class Students:\n",
    "    \n",
    "    def __init__(self, name, age):\n",
    "        self.name = name\n",
    "        self.age = age"
   ]
  },
  {
   "cell_type": "code",
   "execution_count": 49,
   "id": "f6d9f9bf-eb5f-4a5e-b23f-07e063ca23f9",
   "metadata": {},
   "outputs": [],
   "source": [
    "s1 = Students(\"Iron Man\", 32)\n",
    "s2 = Students(\"Captain America\", 80)"
   ]
  },
  {
   "cell_type": "code",
   "execution_count": 54,
   "id": "aded1a3e-61c5-4f46-958f-fab112c449bf",
   "metadata": {},
   "outputs": [
    {
     "data": {
      "text/plain": [
       "80"
      ]
     },
     "execution_count": 54,
     "metadata": {},
     "output_type": "execute_result"
    }
   ],
   "source": [
    "s2.age"
   ]
  },
  {
   "cell_type": "code",
   "execution_count": 52,
   "id": "67d2a2fd-9b47-4b8f-bda4-466f32ce6a55",
   "metadata": {},
   "outputs": [
    {
     "data": {
      "text/plain": [
       "32"
      ]
     },
     "execution_count": 52,
     "metadata": {},
     "output_type": "execute_result"
    }
   ],
   "source": [
    "s1.age"
   ]
  },
  {
   "cell_type": "code",
   "execution_count": 51,
   "id": "98db1a10-7a1b-4805-a870-ce9ace916231",
   "metadata": {},
   "outputs": [
    {
     "data": {
      "text/plain": [
       "'Captain America'"
      ]
     },
     "execution_count": 51,
     "metadata": {},
     "output_type": "execute_result"
    }
   ],
   "source": [
    "s2.name"
   ]
  },
  {
   "cell_type": "code",
   "execution_count": 50,
   "id": "af779290-786f-4aab-8940-0d9a7f6f5a01",
   "metadata": {},
   "outputs": [
    {
     "data": {
      "text/plain": [
       "'Iron Man'"
      ]
     },
     "execution_count": 50,
     "metadata": {},
     "output_type": "execute_result"
    }
   ],
   "source": [
    "s1.name"
   ]
  },
  {
   "cell_type": "code",
   "execution_count": null,
   "id": "58710b2a-460c-427b-bc33-27f5b1a6c941",
   "metadata": {},
   "outputs": [],
   "source": []
  },
  {
   "cell_type": "code",
   "execution_count": null,
   "id": "574f2e78-33d1-4d53-98c7-7b2b39b66d37",
   "metadata": {},
   "outputs": [],
   "source": []
  },
  {
   "cell_type": "markdown",
   "id": "0600ed4e-5d22-4771-be4f-49884bb9730f",
   "metadata": {},
   "source": [
    "### Instance methods"
   ]
  },
  {
   "cell_type": "code",
   "execution_count": 56,
   "id": "f67f2bb7-e41c-462a-9135-063732dcd264",
   "metadata": {},
   "outputs": [],
   "source": [
    "# When we define a function inside a class we call them as methods"
   ]
  },
  {
   "cell_type": "code",
   "execution_count": 57,
   "id": "6bca79a1-728c-48d9-8bc5-54732d6afde9",
   "metadata": {},
   "outputs": [],
   "source": [
    "class Employee:\n",
    "    \n",
    "    def __init__(self, employee_id, name):\n",
    "        self.employee_id = employee_id\n",
    "        self.name = name"
   ]
  },
  {
   "cell_type": "code",
   "execution_count": 58,
   "id": "602b4034-3870-4df2-992a-443c986afb26",
   "metadata": {},
   "outputs": [],
   "source": [
    "class Car:\n",
    "    \n",
    "    # This following method is going to be executed as soon as we create an obj\n",
    "    def __init__(self, name, year, color):\n",
    "        # Following are attributes of class Car\n",
    "        self.name = name\n",
    "        self.year = year\n",
    "        self.color = color\n",
    "        \n",
    "    # Methods\n",
    "    def drive(self, drive_type):\n",
    "        print(f\"{self.name} is {drive_type}.\")"
   ]
  },
  {
   "cell_type": "code",
   "execution_count": 60,
   "id": "7c7b955c-0e3f-4804-9271-604a827a7388",
   "metadata": {},
   "outputs": [],
   "source": [
    "c1 = Car(\"Honda City\", 2024, \"Pearl White\")\n",
    "c2 = Car(\"Swift\", 2023, \"White\")\n",
    "c3 = Car(\"Rolce Royce\", 2024, \"Rosy Red\")"
   ]
  },
  {
   "cell_type": "code",
   "execution_count": 62,
   "id": "5af81f98-58d6-46c5-b4ac-f7d605a7e4d4",
   "metadata": {},
   "outputs": [
    {
     "data": {
      "text/plain": [
       "'Honda City'"
      ]
     },
     "execution_count": 62,
     "metadata": {},
     "output_type": "execute_result"
    }
   ],
   "source": [
    "c1.name"
   ]
  },
  {
   "cell_type": "code",
   "execution_count": 63,
   "id": "73f6e2a6-40d8-4846-b4ab-124c6b423185",
   "metadata": {},
   "outputs": [
    {
     "name": "stdout",
     "output_type": "stream",
     "text": [
      "Rolce Royce is Hybrid & 4 wheel drive.\n"
     ]
    }
   ],
   "source": [
    "c3.drive(\"Hybrid & 4 wheel drive\")"
   ]
  },
  {
   "cell_type": "code",
   "execution_count": 64,
   "id": "39cbfa2b-54ab-498c-94fa-24b7bd690394",
   "metadata": {},
   "outputs": [
    {
     "data": {
      "text/plain": [
       "'Swift'"
      ]
     },
     "execution_count": 64,
     "metadata": {},
     "output_type": "execute_result"
    }
   ],
   "source": [
    "c2.name"
   ]
  },
  {
   "cell_type": "code",
   "execution_count": 65,
   "id": "dd49bb5f-0007-4cac-99eb-a3a30a2f2553",
   "metadata": {},
   "outputs": [
    {
     "name": "stdout",
     "output_type": "stream",
     "text": [
      "Swift is 2 wheel drive.\n"
     ]
    }
   ],
   "source": [
    "c2.drive(\"2 wheel drive\")"
   ]
  },
  {
   "cell_type": "code",
   "execution_count": null,
   "id": "fe80b78c-b6c4-4904-adf7-059735bc56e5",
   "metadata": {},
   "outputs": [],
   "source": []
  },
  {
   "cell_type": "code",
   "execution_count": 69,
   "id": "b5d1a9f3-b42c-4cae-ac94-f9b88f131777",
   "metadata": {},
   "outputs": [],
   "source": [
    "class Human:\n",
    "    \n",
    "    def hunt(self, hunt_type):\n",
    "        print(f\"Hey let's hunt some {hunt_type} today.\")"
   ]
  },
  {
   "cell_type": "code",
   "execution_count": 70,
   "id": "0dad44a1-f9d5-464d-bd65-f28b68f4f5e0",
   "metadata": {},
   "outputs": [],
   "source": [
    "h1 = Human()"
   ]
  },
  {
   "cell_type": "code",
   "execution_count": 71,
   "id": "1bd57b23-c44e-4179-9751-d33a325145d1",
   "metadata": {},
   "outputs": [
    {
     "name": "stdout",
     "output_type": "stream",
     "text": [
      "Hey let's hunt some Lion today.\n"
     ]
    }
   ],
   "source": [
    "h1.hunt(\"Lion\")"
   ]
  },
  {
   "cell_type": "code",
   "execution_count": null,
   "id": "bbb80180-9a0a-41cc-8604-798f57ccb7de",
   "metadata": {},
   "outputs": [],
   "source": []
  },
  {
   "cell_type": "code",
   "execution_count": null,
   "id": "79fb5e4d-fae3-4c9f-b85e-5241653c010c",
   "metadata": {},
   "outputs": [],
   "source": []
  },
  {
   "cell_type": "code",
   "execution_count": 73,
   "id": "62ea39c1-59a9-40d9-ab14-f1e917239251",
   "metadata": {},
   "outputs": [],
   "source": [
    "class Car:\n",
    "    \n",
    "    # This following method is going to be executed as soon as we create an obj\n",
    "    def __init__(self, name, year, color):\n",
    "        # Following are attributes of class Car\n",
    "        self.name = name\n",
    "        self.year = year\n",
    "        self.color = color\n",
    "        \n",
    "    # Methods\n",
    "    def drive(self, drive_type):\n",
    "        print(f\"{self.name} is {drive_type}.\")\n",
    "        \n",
    "    def stunt(self, kind):\n",
    "        print(f\"Get ready to perform {kind}.\")"
   ]
  },
  {
   "cell_type": "code",
   "execution_count": 74,
   "id": "59da204a-516c-48b4-93bc-912d6aa0eaa9",
   "metadata": {},
   "outputs": [],
   "source": [
    "c1 = Car(\"Honda City\", 2024, \"Pearl White\")\n",
    "c2 = Car(\"Swift\", 2023, \"White\")\n",
    "c3 = Car(\"Rolce Royce\", 2024, \"Rosy Red\")"
   ]
  },
  {
   "cell_type": "code",
   "execution_count": 75,
   "id": "09b665e8-415f-472a-87c1-5eba2eeabe2f",
   "metadata": {},
   "outputs": [
    {
     "name": "stdout",
     "output_type": "stream",
     "text": [
      "Get ready to perform Drift.\n"
     ]
    }
   ],
   "source": [
    "c1.stunt(\"Drift\")"
   ]
  },
  {
   "cell_type": "code",
   "execution_count": 76,
   "id": "637cf2ce-a99c-454f-a64e-4c659af9d2a2",
   "metadata": {},
   "outputs": [],
   "source": [
    "l = [3, 4, 5]"
   ]
  },
  {
   "cell_type": "code",
   "execution_count": 77,
   "id": "979dbdfa-9d70-4f9c-a2fe-92489de482f9",
   "metadata": {},
   "outputs": [
    {
     "data": {
      "text/plain": [
       "5"
      ]
     },
     "execution_count": 77,
     "metadata": {},
     "output_type": "execute_result"
    }
   ],
   "source": [
    "l.pop()"
   ]
  },
  {
   "cell_type": "code",
   "execution_count": null,
   "id": "39e4cbac-ef44-4462-8af4-688ec4a69da4",
   "metadata": {},
   "outputs": [],
   "source": []
  },
  {
   "cell_type": "code",
   "execution_count": null,
   "id": "1613af75-e759-4a56-bd4a-9a1c32ecc844",
   "metadata": {},
   "outputs": [],
   "source": []
  },
  {
   "cell_type": "markdown",
   "id": "a2237b2d-1a2c-46a7-b5b8-735620c89555",
   "metadata": {},
   "source": [
    "### Class variables"
   ]
  },
  {
   "cell_type": "code",
   "execution_count": 79,
   "id": "f439e0c8-5568-42a7-a93e-42474d698d3a",
   "metadata": {},
   "outputs": [],
   "source": [
    "# They are common for all the class instances"
   ]
  },
  {
   "cell_type": "code",
   "execution_count": 80,
   "id": "caf2bca1-6112-49b1-8df6-6d9d6c26992c",
   "metadata": {},
   "outputs": [],
   "source": [
    "# Find population of Human beings"
   ]
  },
  {
   "cell_type": "code",
   "execution_count": 102,
   "id": "11cda5fb-62ee-4b54-b7cf-321cc42b5de1",
   "metadata": {},
   "outputs": [],
   "source": [
    "class Human:\n",
    "    \n",
    "    def __init__(self, name, age):\n",
    "        # Instance variables --> attributes\n",
    "        self.name = name\n",
    "        self.age = age\n",
    "        \n",
    "    def greet(self):\n",
    "        print(f\"Hey there, I am {self.name}.\")"
   ]
  },
  {
   "cell_type": "code",
   "execution_count": 82,
   "id": "e2747077-1156-49ec-a127-991fcea132d6",
   "metadata": {},
   "outputs": [],
   "source": [
    "h1 = Human(\"Iron Man\", 32)\n",
    "h2 = Human(\"Sayyed\", 26)"
   ]
  },
  {
   "cell_type": "code",
   "execution_count": null,
   "id": "6a098f04-de1e-40df-a7e5-2353bb23d56d",
   "metadata": {},
   "outputs": [],
   "source": []
  },
  {
   "cell_type": "code",
   "execution_count": 83,
   "id": "8f69f7f1-10b6-4e03-aa7f-241fafec555b",
   "metadata": {},
   "outputs": [],
   "source": [
    "# A class variable have same value for all the instances"
   ]
  },
  {
   "cell_type": "code",
   "execution_count": 87,
   "id": "fac910ca-178d-412e-a5e9-af471d36f9a6",
   "metadata": {},
   "outputs": [],
   "source": [
    "class Human:\n",
    "    \n",
    "    # We can create class variables here\n",
    "    \n",
    "    def __init__(self, name, age, population = 1):\n",
    "        self.name = name\n",
    "        self.age = age\n",
    "        self.population = population\n",
    "        \n",
    "    def greet(self):\n",
    "        print(f\"Hey there, I am {self.name}.\")"
   ]
  },
  {
   "cell_type": "code",
   "execution_count": 88,
   "id": "fd4e0765-a894-48dd-861f-ccf6583ddf37",
   "metadata": {},
   "outputs": [],
   "source": [
    "h1 = Human(\"Iron Man\", 32)\n",
    "h2 = Human(\"Sayyed\", 26)"
   ]
  },
  {
   "cell_type": "code",
   "execution_count": 86,
   "id": "190cf533-2e59-4fd3-bcb5-a4b1c2bfeb6b",
   "metadata": {},
   "outputs": [
    {
     "data": {
      "text/plain": [
       "1"
      ]
     },
     "execution_count": 86,
     "metadata": {},
     "output_type": "execute_result"
    }
   ],
   "source": [
    "h1.population"
   ]
  },
  {
   "cell_type": "code",
   "execution_count": null,
   "id": "4d3cab0b-2859-4715-96a0-b33f4cc08ceb",
   "metadata": {},
   "outputs": [],
   "source": []
  },
  {
   "cell_type": "code",
   "execution_count": 89,
   "id": "c5ef87e3-51c3-4505-93cd-7223c77e7233",
   "metadata": {},
   "outputs": [],
   "source": [
    "class Human:\n",
    "    \n",
    "    # We can create class variables here\n",
    "    population = 0\n",
    "    \n",
    "    def __init__(self, name, age):\n",
    "        self.name = name\n",
    "        self.age = age\n",
    "        Human.population += 1\n",
    "\n",
    "        \n",
    "    def greet(self):\n",
    "        print(f\"Hey there, I am {self.name}.\")"
   ]
  },
  {
   "cell_type": "code",
   "execution_count": 90,
   "id": "9b6477a0-803d-47a9-b772-dba8e443d4d9",
   "metadata": {},
   "outputs": [],
   "source": [
    "h1 = Human(\"Abhishek\", 26)\n",
    "h2 = Human(\"Rahul\", 46)"
   ]
  },
  {
   "cell_type": "code",
   "execution_count": 91,
   "id": "6537823d-ff44-43c8-8960-df8c44523089",
   "metadata": {},
   "outputs": [
    {
     "data": {
      "text/plain": [
       "2"
      ]
     },
     "execution_count": 91,
     "metadata": {},
     "output_type": "execute_result"
    }
   ],
   "source": [
    "Human.population"
   ]
  },
  {
   "cell_type": "code",
   "execution_count": 92,
   "id": "121362e9-f8d8-4a6a-9023-43f8c7bd9d35",
   "metadata": {},
   "outputs": [],
   "source": [
    "h3 = Human(\"Suresh\", 27)"
   ]
  },
  {
   "cell_type": "code",
   "execution_count": 93,
   "id": "c2f8fbe2-5dd1-406c-b850-a114e1d3e20b",
   "metadata": {},
   "outputs": [
    {
     "data": {
      "text/plain": [
       "3"
      ]
     },
     "execution_count": 93,
     "metadata": {},
     "output_type": "execute_result"
    }
   ],
   "source": [
    "Human.population"
   ]
  },
  {
   "cell_type": "code",
   "execution_count": 96,
   "id": "7102e1bc-df61-41c4-bbb4-6d57ab5cff15",
   "metadata": {},
   "outputs": [],
   "source": [
    "# If you want to get value of a class variable use Class name always"
   ]
  },
  {
   "cell_type": "code",
   "execution_count": 94,
   "id": "b24a5881-dad1-4fc1-8e51-03934ff4d10a",
   "metadata": {},
   "outputs": [
    {
     "data": {
      "text/plain": [
       "3"
      ]
     },
     "execution_count": 94,
     "metadata": {},
     "output_type": "execute_result"
    }
   ],
   "source": [
    "h1.population"
   ]
  },
  {
   "cell_type": "code",
   "execution_count": 95,
   "id": "5cd13a5a-397b-4e4b-a174-22fde2a292d5",
   "metadata": {},
   "outputs": [
    {
     "data": {
      "text/plain": [
       "3"
      ]
     },
     "execution_count": 95,
     "metadata": {},
     "output_type": "execute_result"
    }
   ],
   "source": [
    "h2.population"
   ]
  },
  {
   "cell_type": "code",
   "execution_count": 97,
   "id": "1f4f7044-70a7-4c4c-a26f-a6fbc1795c1d",
   "metadata": {},
   "outputs": [
    {
     "name": "stdout",
     "output_type": "stream",
     "text": [
      "Hey there, I am Abhishek.\n"
     ]
    }
   ],
   "source": [
    "h1.greet()"
   ]
  },
  {
   "cell_type": "code",
   "execution_count": 98,
   "id": "9fd5fab2-9725-43f1-980e-3b16b1b12577",
   "metadata": {},
   "outputs": [],
   "source": [
    "# Always use Class.Variable while accessing class variable"
   ]
  },
  {
   "cell_type": "code",
   "execution_count": null,
   "id": "24e5a215-df42-43da-9061-ff97cac2eb2f",
   "metadata": {},
   "outputs": [],
   "source": []
  },
  {
   "cell_type": "code",
   "execution_count": 99,
   "id": "69c43001-6e86-4cf4-91d0-818d4eceb624",
   "metadata": {},
   "outputs": [],
   "source": [
    "# Quiz"
   ]
  },
  {
   "cell_type": "code",
   "execution_count": 100,
   "id": "71f6010d-0fbb-4dd7-b69c-3cd78f664c38",
   "metadata": {},
   "outputs": [
    {
     "name": "stdout",
     "output_type": "stream",
     "text": [
      "Hello Ayush\n"
     ]
    }
   ],
   "source": [
    "class Student:\n",
    "    \n",
    "    # Class Variable\n",
    "    name = \"Bipin\"\n",
    "    \n",
    "    def __init__(self, name, age):\n",
    "        self.name = name\n",
    "        self.age = age\n",
    "\n",
    "    def hello(self):\n",
    "        print(f\"Hello {self.name}\")\n",
    "\n",
    "bipin = Student(\"Ayush\", 20)\n",
    "bipin.hello()"
   ]
  },
  {
   "cell_type": "code",
   "execution_count": 101,
   "id": "c01bb546-a8be-462a-97f1-cca4fc73b38a",
   "metadata": {},
   "outputs": [
    {
     "name": "stdout",
     "output_type": "stream",
     "text": [
      "Hello Bipin\n"
     ]
    }
   ],
   "source": [
    "class Student:\n",
    "    \n",
    "    # Class Variable\n",
    "    name = \"Bipin\"\n",
    "    \n",
    "    def __init__(self, name, age):\n",
    "        self.name = name\n",
    "        self.age = age\n",
    "\n",
    "    def hello(self):\n",
    "        print(f\"Hello {Student.name}\")\n",
    "\n",
    "bipin = Student(\"Ayush\", 20)\n",
    "bipin.hello()"
   ]
  },
  {
   "cell_type": "code",
   "execution_count": null,
   "id": "99c07074-1ec2-4941-a7bd-b3cecb674295",
   "metadata": {},
   "outputs": [],
   "source": []
  },
  {
   "cell_type": "code",
   "execution_count": null,
   "id": "99f3dfee-2723-4482-b9ca-fe1349f2f115",
   "metadata": {},
   "outputs": [],
   "source": []
  },
  {
   "cell_type": "code",
   "execution_count": null,
   "id": "c57bfc9e-8bd5-4c1c-9215-24fdc6cfbcf7",
   "metadata": {},
   "outputs": [],
   "source": []
  },
  {
   "cell_type": "code",
   "execution_count": null,
   "id": "9e6f5f99-5a6a-420e-ae6c-7d7106b8cda7",
   "metadata": {},
   "outputs": [],
   "source": []
  },
  {
   "cell_type": "code",
   "execution_count": null,
   "id": "d22088ab-58a2-4953-8a7e-784038b4ded1",
   "metadata": {},
   "outputs": [],
   "source": []
  },
  {
   "cell_type": "code",
   "execution_count": null,
   "id": "2b80a068-8870-41b5-a143-8a7b7c3a2e59",
   "metadata": {},
   "outputs": [],
   "source": []
  },
  {
   "cell_type": "code",
   "execution_count": null,
   "id": "c00101d4-78a5-45e5-b3ae-8806c57601cd",
   "metadata": {},
   "outputs": [],
   "source": []
  }
 ],
 "metadata": {
  "kernelspec": {
   "display_name": "Python 3 (ipykernel)",
   "language": "python",
   "name": "python3"
  },
  "language_info": {
   "codemirror_mode": {
    "name": "ipython",
    "version": 3
   },
   "file_extension": ".py",
   "mimetype": "text/x-python",
   "name": "python",
   "nbconvert_exporter": "python",
   "pygments_lexer": "ipython3",
   "version": "3.9.7"
  }
 },
 "nbformat": 4,
 "nbformat_minor": 5
}
