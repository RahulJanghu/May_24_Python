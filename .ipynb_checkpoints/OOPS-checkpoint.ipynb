{
 "cells": [
  {
   "cell_type": "markdown",
   "id": "eff51a55-9452-4547-a06a-8a2374cbc749",
   "metadata": {},
   "source": [
    "## Welcome to the world of classes"
   ]
  },
  {
   "cell_type": "code",
   "execution_count": 1,
   "id": "17b21a7d-9f3e-4614-b3aa-c149e00d6b59",
   "metadata": {},
   "outputs": [],
   "source": [
    "# defining a class \n",
    "# creating instances of the class"
   ]
  },
  {
   "cell_type": "code",
   "execution_count": 2,
   "id": "08295db3-d9e0-4a11-a11e-e0f646781abe",
   "metadata": {},
   "outputs": [],
   "source": [
    "a = 1\n",
    "b = 234"
   ]
  },
  {
   "cell_type": "code",
   "execution_count": 4,
   "id": "85489890-f954-490d-97cf-401eb2cbca5b",
   "metadata": {},
   "outputs": [
    {
     "name": "stdout",
     "output_type": "stream",
     "text": [
      "<class 'int'>\n",
      "<class 'int'>\n"
     ]
    }
   ],
   "source": [
    "print(type(a))\n",
    "print(type(b))"
   ]
  },
  {
   "cell_type": "code",
   "execution_count": 5,
   "id": "987597c4-ff62-4c2d-8421-1950d3b97c38",
   "metadata": {},
   "outputs": [
    {
     "name": "stdout",
     "output_type": "stream",
     "text": [
      "<class 'float'>\n"
     ]
    }
   ],
   "source": [
    "print(type(123.4))"
   ]
  },
  {
   "cell_type": "code",
   "execution_count": 6,
   "id": "3d0763d3-eb18-42ee-b84e-5268c80b379f",
   "metadata": {},
   "outputs": [
    {
     "name": "stdout",
     "output_type": "stream",
     "text": [
      "<class 'str'>\n"
     ]
    }
   ],
   "source": [
    "print(type(\"Rahul\"))"
   ]
  },
  {
   "cell_type": "code",
   "execution_count": 7,
   "id": "4e607e04-57b9-47e3-942e-32a1f3276fa6",
   "metadata": {},
   "outputs": [
    {
     "name": "stdout",
     "output_type": "stream",
     "text": [
      "<class 'list'>\n"
     ]
    }
   ],
   "source": [
    "print(type([1, 2]))"
   ]
  },
  {
   "cell_type": "code",
   "execution_count": null,
   "id": "23eab769-7527-4813-af19-d15d87c68937",
   "metadata": {},
   "outputs": [],
   "source": []
  },
  {
   "cell_type": "code",
   "execution_count": 8,
   "id": "21bc3401-7357-4e3f-af95-8563249e4dca",
   "metadata": {},
   "outputs": [],
   "source": [
    "class Student:\n",
    "    pass"
   ]
  },
  {
   "cell_type": "code",
   "execution_count": 9,
   "id": "697ad36a-8172-4c81-aabb-78089cb7d5c6",
   "metadata": {},
   "outputs": [],
   "source": [
    "# When you create an object of a class, this process is called\n",
    "# Instantiation"
   ]
  },
  {
   "cell_type": "code",
   "execution_count": 10,
   "id": "9e172e61-194e-4c59-bbb7-a56fdff32734",
   "metadata": {},
   "outputs": [],
   "source": [
    "s1 = Student()\n",
    "s2 = Student()"
   ]
  },
  {
   "cell_type": "code",
   "execution_count": 13,
   "id": "48e627de-1b1b-40b2-96f2-060e08982dba",
   "metadata": {},
   "outputs": [
    {
     "name": "stdout",
     "output_type": "stream",
     "text": [
      "<class '__main__.Student'>\n",
      "<class '__main__.Student'>\n"
     ]
    }
   ],
   "source": [
    "print(type(s1))\n",
    "print(type(s2))"
   ]
  },
  {
   "cell_type": "code",
   "execution_count": 16,
   "id": "0fe85e5b-76fb-4d84-8fd5-cc85244cd522",
   "metadata": {},
   "outputs": [
    {
     "data": {
      "text/plain": [
       "True"
      ]
     },
     "execution_count": 16,
     "metadata": {},
     "output_type": "execute_result"
    }
   ],
   "source": [
    "isinstance(s1, Student)"
   ]
  },
  {
   "cell_type": "code",
   "execution_count": 17,
   "id": "3cb4f686-2f3f-4fc6-b94f-126bb7db342f",
   "metadata": {},
   "outputs": [
    {
     "data": {
      "text/plain": [
       "True"
      ]
     },
     "execution_count": 17,
     "metadata": {},
     "output_type": "execute_result"
    }
   ],
   "source": [
    "isinstance(Student, object)"
   ]
  },
  {
   "cell_type": "code",
   "execution_count": 18,
   "id": "b8e43d29-49a9-4775-9e7d-b76aacef1ac7",
   "metadata": {},
   "outputs": [
    {
     "data": {
      "text/plain": [
       "True"
      ]
     },
     "execution_count": 18,
     "metadata": {},
     "output_type": "execute_result"
    }
   ],
   "source": [
    "isinstance(1, object)"
   ]
  },
  {
   "cell_type": "code",
   "execution_count": null,
   "id": "ddac030b-86eb-4561-8529-4b985396c4fd",
   "metadata": {},
   "outputs": [],
   "source": []
  },
  {
   "cell_type": "code",
   "execution_count": 19,
   "id": "3516600c-7690-4d19-994a-ecd243ee3dfd",
   "metadata": {},
   "outputs": [],
   "source": [
    "# giving attributes to our objects"
   ]
  },
  {
   "cell_type": "code",
   "execution_count": 20,
   "id": "775a8774-efff-495b-9bba-9683b908b3fa",
   "metadata": {},
   "outputs": [],
   "source": [
    "s1.name = \"Ankit\"\n",
    "s2.age = 27"
   ]
  },
  {
   "cell_type": "code",
   "execution_count": 21,
   "id": "061e47ca-b6ad-479d-a38a-9a77acdba287",
   "metadata": {},
   "outputs": [
    {
     "name": "stdout",
     "output_type": "stream",
     "text": [
      "Ankit\n"
     ]
    }
   ],
   "source": [
    "print(s1.name)"
   ]
  },
  {
   "cell_type": "code",
   "execution_count": 23,
   "id": "34a0b1ed-0f6a-49f5-900a-fbb0308fb84f",
   "metadata": {},
   "outputs": [
    {
     "data": {
      "text/plain": [
       "27"
      ]
     },
     "execution_count": 23,
     "metadata": {},
     "output_type": "execute_result"
    }
   ],
   "source": [
    "s2.age"
   ]
  },
  {
   "cell_type": "code",
   "execution_count": null,
   "id": "ce89dae6-353f-4dcd-886b-4e4dc5c3ae2c",
   "metadata": {},
   "outputs": [],
   "source": []
  },
  {
   "cell_type": "markdown",
   "id": "32042281-32ed-4f0d-bd39-6399083cafb1",
   "metadata": {},
   "source": [
    "#### Constructor"
   ]
  },
  {
   "cell_type": "code",
   "execution_count": 25,
   "id": "229e9f77-0c01-4fec-a5a5-0b5892ee12e2",
   "metadata": {},
   "outputs": [],
   "source": [
    "# class with initializer"
   ]
  },
  {
   "cell_type": "code",
   "execution_count": 26,
   "id": "f15abfed-c938-4435-8e1b-51a1ff9cc239",
   "metadata": {},
   "outputs": [],
   "source": [
    "class Student:\n",
    "    \n",
    "    def __init__(self):\n",
    "        self.name = \"Rahul\""
   ]
  },
  {
   "cell_type": "code",
   "execution_count": null,
   "id": "65523278-a228-4c2f-8ba9-f271c66446cd",
   "metadata": {},
   "outputs": [],
   "source": []
  },
  {
   "cell_type": "code",
   "execution_count": 27,
   "id": "8897b270-9473-4817-b5bb-40cd534b93ee",
   "metadata": {},
   "outputs": [],
   "source": [
    "s1 = Student()\n",
    "s2 = Student()"
   ]
  },
  {
   "cell_type": "code",
   "execution_count": 28,
   "id": "6f7a88dc-857b-44df-a6be-bfa3326d5825",
   "metadata": {},
   "outputs": [
    {
     "name": "stdout",
     "output_type": "stream",
     "text": [
      "Rahul\n"
     ]
    }
   ],
   "source": [
    "print(s1.name)"
   ]
  },
  {
   "cell_type": "code",
   "execution_count": 29,
   "id": "7b8548b5-38e1-4489-941d-4f8d5deee29f",
   "metadata": {},
   "outputs": [
    {
     "name": "stdout",
     "output_type": "stream",
     "text": [
      "Rahul\n"
     ]
    }
   ],
   "source": [
    "print(s2.name)"
   ]
  },
  {
   "cell_type": "code",
   "execution_count": null,
   "id": "356b911f-589e-4cfb-8793-1bfcbef0312b",
   "metadata": {},
   "outputs": [],
   "source": []
  },
  {
   "cell_type": "code",
   "execution_count": 48,
   "id": "ec17f00f-7900-4c4b-99ae-97b423061b84",
   "metadata": {},
   "outputs": [],
   "source": [
    "# class with instance variable"
   ]
  },
  {
   "cell_type": "code",
   "execution_count": 49,
   "id": "8b352745-2474-456e-b155-2f26ff65c7f9",
   "metadata": {},
   "outputs": [],
   "source": [
    "class Student:\n",
    "    \n",
    "    def __init__(self, name, age):\n",
    "        self.name = name\n",
    "        self.age = age"
   ]
  },
  {
   "cell_type": "code",
   "execution_count": 50,
   "id": "cc55e61e-5626-4b05-8671-82b36e3ba01e",
   "metadata": {},
   "outputs": [],
   "source": [
    "# Constructor is going to execute every time you create an object"
   ]
  },
  {
   "cell_type": "code",
   "execution_count": 51,
   "id": "3d31a8d8-b2a6-4dad-8585-ab22b66a9abc",
   "metadata": {},
   "outputs": [],
   "source": [
    "# What is self?"
   ]
  },
  {
   "cell_type": "code",
   "execution_count": 52,
   "id": "f721cd32-de05-4754-97ae-793e8ff65c28",
   "metadata": {},
   "outputs": [],
   "source": [
    "# Class with multiple instance variables"
   ]
  },
  {
   "cell_type": "code",
   "execution_count": 53,
   "id": "82491bdf-cc2e-44e1-9557-b1bfaf12622b",
   "metadata": {},
   "outputs": [],
   "source": [
    "s1 = Student(\"Rahul\", 40)"
   ]
  },
  {
   "cell_type": "code",
   "execution_count": 54,
   "id": "a92b9d6d-a2c1-49ba-9faf-476e58f6b8c2",
   "metadata": {},
   "outputs": [],
   "source": [
    "s2 = Student(\"Mohammed\", 25)"
   ]
  },
  {
   "cell_type": "code",
   "execution_count": 55,
   "id": "845d3a6a-9ef7-4ad9-aa50-d6105c57ecd2",
   "metadata": {},
   "outputs": [
    {
     "name": "stdout",
     "output_type": "stream",
     "text": [
      "Rahul\n"
     ]
    }
   ],
   "source": [
    "print(s1.name)"
   ]
  },
  {
   "cell_type": "code",
   "execution_count": 56,
   "id": "1313b75c-e7d0-4a58-a06c-a31887f5f867",
   "metadata": {},
   "outputs": [
    {
     "name": "stdout",
     "output_type": "stream",
     "text": [
      "Mohammed\n"
     ]
    }
   ],
   "source": [
    "print(s2.name)"
   ]
  },
  {
   "cell_type": "code",
   "execution_count": 57,
   "id": "45a5e1ed-3bfa-4aad-8746-074742512b42",
   "metadata": {},
   "outputs": [
    {
     "data": {
      "text/plain": [
       "40"
      ]
     },
     "execution_count": 57,
     "metadata": {},
     "output_type": "execute_result"
    }
   ],
   "source": [
    "s1.age"
   ]
  },
  {
   "cell_type": "code",
   "execution_count": null,
   "id": "af779290-786f-4aab-8940-0d9a7f6f5a01",
   "metadata": {},
   "outputs": [],
   "source": []
  },
  {
   "cell_type": "code",
   "execution_count": null,
   "id": "58710b2a-460c-427b-bc33-27f5b1a6c941",
   "metadata": {},
   "outputs": [],
   "source": []
  },
  {
   "cell_type": "code",
   "execution_count": 58,
   "id": "8ffc6a40-4bb4-40e9-963f-22f5b7cf1e72",
   "metadata": {},
   "outputs": [],
   "source": [
    "class Human:\n",
    "    \n",
    "    def __init__(self, name, age):\n",
    "        self.name = name\n",
    "        self.age = age"
   ]
  },
  {
   "cell_type": "code",
   "execution_count": 59,
   "id": "36b990d8-1b7c-471d-9cb1-96f30725a4a7",
   "metadata": {},
   "outputs": [],
   "source": [
    "h1 = Human(\"Rahul\", 38)\n",
    "h1 = Human(\"Kalyan\", 25)"
   ]
  },
  {
   "cell_type": "code",
   "execution_count": null,
   "id": "0ea60f5f-6cd2-4145-936f-912afab8c11f",
   "metadata": {},
   "outputs": [],
   "source": []
  },
  {
   "cell_type": "code",
   "execution_count": null,
   "id": "6ba8a5d5-35c0-4053-a8e3-dfc24f326801",
   "metadata": {},
   "outputs": [],
   "source": []
  },
  {
   "cell_type": "markdown",
   "id": "0600ed4e-5d22-4771-be4f-49884bb9730f",
   "metadata": {},
   "source": [
    "### Instance methods"
   ]
  },
  {
   "cell_type": "code",
   "execution_count": 60,
   "id": "f67f2bb7-e41c-462a-9135-063732dcd264",
   "metadata": {},
   "outputs": [],
   "source": [
    "# When we define a function inside a class we call them as methods"
   ]
  },
  {
   "cell_type": "code",
   "execution_count": 62,
   "id": "600e10c4-2b23-41c1-901d-b413293e603f",
   "metadata": {},
   "outputs": [],
   "source": [
    "class Car:\n",
    "    \n",
    "    def __init__(self, name, year, color):\n",
    "        # These are attributes/properties of class car\n",
    "        \n",
    "        self.name = name\n",
    "        self.year = year\n",
    "        self.color = color\n",
    "        \n",
    "    # Methods on a class\n",
    "    \n",
    "    def drive(self, speed):\n",
    "        print(f\"You can drive {self.name} at {speed} kmph\")"
   ]
  },
  {
   "cell_type": "code",
   "execution_count": null,
   "id": "602b4034-3870-4df2-992a-443c986afb26",
   "metadata": {},
   "outputs": [],
   "source": []
  },
  {
   "cell_type": "code",
   "execution_count": 64,
   "id": "e8ffe21d-5e94-4128-a2a8-e2103da9622a",
   "metadata": {},
   "outputs": [],
   "source": [
    "c1 = Car(\"Comet\", 2022, \"White\")\n",
    "c2 = Car(\"Maruti Alto 800\", 2020, \"Silver\")\n",
    "c3 = Car(\"Swift\", 2023, \"White\")"
   ]
  },
  {
   "cell_type": "code",
   "execution_count": 65,
   "id": "507c7ac0-266a-4f91-917b-5b1a29647664",
   "metadata": {},
   "outputs": [
    {
     "name": "stdout",
     "output_type": "stream",
     "text": [
      "You can drive Comet at 240 kmph\n"
     ]
    }
   ],
   "source": [
    "c1.drive(240)"
   ]
  },
  {
   "cell_type": "code",
   "execution_count": 66,
   "id": "11c3be52-016c-4d76-aca9-dade6b665cb9",
   "metadata": {},
   "outputs": [
    {
     "name": "stdout",
     "output_type": "stream",
     "text": [
      "You can drive Maruti Alto 800 at 100 kmph\n"
     ]
    }
   ],
   "source": [
    "c2.drive(100)"
   ]
  },
  {
   "cell_type": "code",
   "execution_count": 69,
   "id": "94fd3145-d64d-4a4b-988d-cb298738d291",
   "metadata": {},
   "outputs": [
    {
     "name": "stdout",
     "output_type": "stream",
     "text": [
      "You can drive Swift at 180 kmph\n"
     ]
    }
   ],
   "source": [
    "c3.drive(180)"
   ]
  },
  {
   "cell_type": "code",
   "execution_count": 73,
   "id": "4bd686ea-3003-44c2-bfdd-5b482131ce92",
   "metadata": {},
   "outputs": [
    {
     "data": {
      "text/plain": [
       "'Comet'"
      ]
     },
     "execution_count": 73,
     "metadata": {},
     "output_type": "execute_result"
    }
   ],
   "source": [
    "c1.name"
   ]
  },
  {
   "cell_type": "code",
   "execution_count": null,
   "id": "bd17a480-1058-4250-bec6-bf1e8ab12997",
   "metadata": {},
   "outputs": [],
   "source": []
  },
  {
   "cell_type": "markdown",
   "id": "a2237b2d-1a2c-46a7-b5b8-735620c89555",
   "metadata": {},
   "source": [
    "### Class variables"
   ]
  },
  {
   "cell_type": "code",
   "execution_count": 76,
   "id": "f439e0c8-5568-42a7-a93e-42474d698d3a",
   "metadata": {},
   "outputs": [],
   "source": [
    "# They are common for all the class instances"
   ]
  },
  {
   "cell_type": "code",
   "execution_count": 78,
   "id": "caf2bca1-6112-49b1-8df6-6d9d6c26992c",
   "metadata": {},
   "outputs": [],
   "source": [
    "# Find population of Human beings"
   ]
  },
  {
   "cell_type": "code",
   "execution_count": 86,
   "id": "ef2edcbb-99fd-40fa-bbca-a97c0684d90c",
   "metadata": {},
   "outputs": [],
   "source": [
    "class Human:\n",
    "    \n",
    "    \n",
    "    def __init__(self, name, age, population = 1):\n",
    "        # Instance variables or attributes\n",
    "        self.name = name\n",
    "        self.age = age\n",
    "        self.population = population\n",
    "        \n",
    "        \n",
    "    def greet(self):\n",
    "        print(f\"Hey there, I am {self.name}\")"
   ]
  },
  {
   "cell_type": "code",
   "execution_count": 87,
   "id": "40a3eb92-690c-4b63-8d9a-740ec95464c5",
   "metadata": {},
   "outputs": [],
   "source": [
    "h1 = Human(\"Siddhesh\", 25)"
   ]
  },
  {
   "cell_type": "code",
   "execution_count": 88,
   "id": "e2490ddc-2058-421c-ae76-fa054a868c2c",
   "metadata": {},
   "outputs": [],
   "source": [
    "h2 = Human(\"Rahul\", 38)"
   ]
  },
  {
   "cell_type": "code",
   "execution_count": 89,
   "id": "9bf856d9-c37d-4197-aef4-d7a6f64f6e95",
   "metadata": {},
   "outputs": [
    {
     "data": {
      "text/plain": [
       "1"
      ]
     },
     "execution_count": 89,
     "metadata": {},
     "output_type": "execute_result"
    }
   ],
   "source": [
    "h1.population"
   ]
  },
  {
   "cell_type": "code",
   "execution_count": null,
   "id": "11cda5fb-62ee-4b54-b7cf-321cc42b5de1",
   "metadata": {},
   "outputs": [],
   "source": []
  },
  {
   "cell_type": "code",
   "execution_count": 94,
   "id": "b3d148b8-ca2d-4ee4-bfc1-bc925ba9b422",
   "metadata": {},
   "outputs": [],
   "source": [
    "class Human:\n",
    "    \n",
    "    population = 0\n",
    "    \n",
    "    def __init__(self, name, age):\n",
    "        # Instance variables or attributes\n",
    "        self.name = name\n",
    "        self.age = age\n",
    "        Human.population += 1\n",
    "        \n",
    "        \n",
    "    def greet(self):\n",
    "        print(f\"Hey there, I am {self.name}\")"
   ]
  },
  {
   "cell_type": "code",
   "execution_count": 95,
   "id": "c0863aee-ae88-47c9-be8f-253646afa5bc",
   "metadata": {},
   "outputs": [],
   "source": [
    "h1 = Human(\"Hardik\", 25)\n",
    "h2 = Human(\"Rahul\", 28)\n",
    "h3 = Human(\"Varid\", 26)\n",
    "h4 = Human(\"Mayank\", 27)"
   ]
  },
  {
   "cell_type": "code",
   "execution_count": 96,
   "id": "3e9c23be-9b1d-4ff1-ab6a-2e4443d2563b",
   "metadata": {},
   "outputs": [
    {
     "data": {
      "text/plain": [
       "4"
      ]
     },
     "execution_count": 96,
     "metadata": {},
     "output_type": "execute_result"
    }
   ],
   "source": [
    "Human.population"
   ]
  },
  {
   "cell_type": "code",
   "execution_count": 97,
   "id": "11a8f1fb-845c-46d2-9d6b-a3e86d74d603",
   "metadata": {},
   "outputs": [
    {
     "data": {
      "text/plain": [
       "4"
      ]
     },
     "execution_count": 97,
     "metadata": {},
     "output_type": "execute_result"
    }
   ],
   "source": [
    "h1.population"
   ]
  },
  {
   "cell_type": "code",
   "execution_count": 98,
   "id": "650d2735-33cd-47f1-a401-a7441919353a",
   "metadata": {},
   "outputs": [
    {
     "data": {
      "text/plain": [
       "4"
      ]
     },
     "execution_count": 98,
     "metadata": {},
     "output_type": "execute_result"
    }
   ],
   "source": [
    "h2.population"
   ]
  },
  {
   "cell_type": "code",
   "execution_count": 99,
   "id": "fdde1ddd-8e1e-4372-94c0-841384ce157e",
   "metadata": {},
   "outputs": [],
   "source": [
    "h1.population = 12"
   ]
  },
  {
   "cell_type": "code",
   "execution_count": 100,
   "id": "63d123c6-1a5f-4b15-83c0-1a4283327abc",
   "metadata": {},
   "outputs": [
    {
     "data": {
      "text/plain": [
       "12"
      ]
     },
     "execution_count": 100,
     "metadata": {},
     "output_type": "execute_result"
    }
   ],
   "source": [
    "h1.population"
   ]
  },
  {
   "cell_type": "code",
   "execution_count": 102,
   "id": "9fd5fab2-9725-43f1-980e-3b16b1b12577",
   "metadata": {},
   "outputs": [],
   "source": [
    "# Always use Class.Variable while accessing class variable"
   ]
  },
  {
   "cell_type": "code",
   "execution_count": 103,
   "id": "599510d8-c086-4c92-8136-3b7cb4682b03",
   "metadata": {},
   "outputs": [
    {
     "data": {
      "text/plain": [
       "4"
      ]
     },
     "execution_count": 103,
     "metadata": {},
     "output_type": "execute_result"
    }
   ],
   "source": [
    "Human.population"
   ]
  },
  {
   "cell_type": "code",
   "execution_count": null,
   "id": "112ce9bd-3fc3-4596-bdf4-f1cc88a4627d",
   "metadata": {},
   "outputs": [],
   "source": []
  },
  {
   "cell_type": "markdown",
   "id": "e5dbd6aa-191d-4ac4-bed8-652d13b99a96",
   "metadata": {},
   "source": [
    "#### Modules, Packages and Libraries"
   ]
  },
  {
   "cell_type": "code",
   "execution_count": 105,
   "id": "fca8b64b-a57c-4264-8341-453afd81930e",
   "metadata": {},
   "outputs": [],
   "source": [
    "import math"
   ]
  },
  {
   "cell_type": "code",
   "execution_count": 107,
   "id": "ef12cfb0-190a-47f2-aa90-87039cbb501a",
   "metadata": {},
   "outputs": [
    {
     "data": {
      "text/plain": [
       "120"
      ]
     },
     "execution_count": 107,
     "metadata": {},
     "output_type": "execute_result"
    }
   ],
   "source": [
    "math.factorial(5)"
   ]
  },
  {
   "cell_type": "code",
   "execution_count": 108,
   "id": "7f8cd7c0-f6a7-4216-8027-d0b5ee3e1a47",
   "metadata": {},
   "outputs": [],
   "source": [
    "import math as m"
   ]
  },
  {
   "cell_type": "code",
   "execution_count": 109,
   "id": "eb0a896e-7197-4e8f-936d-521ccc3faf6b",
   "metadata": {},
   "outputs": [
    {
     "data": {
      "text/plain": [
       "120"
      ]
     },
     "execution_count": 109,
     "metadata": {},
     "output_type": "execute_result"
    }
   ],
   "source": [
    "m.factorial(5)"
   ]
  },
  {
   "cell_type": "code",
   "execution_count": null,
   "id": "a71e80f8-66de-4934-8951-08c0327c7b94",
   "metadata": {},
   "outputs": [],
   "source": []
  },
  {
   "cell_type": "code",
   "execution_count": 110,
   "id": "120b4e27-9e91-48db-b730-0f412e9875ef",
   "metadata": {},
   "outputs": [],
   "source": [
    "import numpy as np"
   ]
  },
  {
   "cell_type": "code",
   "execution_count": 114,
   "id": "c92359de-97ab-41e9-86d9-95b4944cc8e1",
   "metadata": {},
   "outputs": [
    {
     "data": {
      "text/plain": [
       "array([1, 3, 5, 7, 9])"
      ]
     },
     "execution_count": 114,
     "metadata": {},
     "output_type": "execute_result"
    }
   ],
   "source": [
    "np.arange(1, 10, 2)"
   ]
  },
  {
   "cell_type": "code",
   "execution_count": 115,
   "id": "749c75ac-3ffe-4a39-b775-3c68c572e5e5",
   "metadata": {},
   "outputs": [],
   "source": [
    "from numpy import arange as a"
   ]
  },
  {
   "cell_type": "code",
   "execution_count": 118,
   "id": "0922d3d9-eaee-4201-9e2b-3e6bb6de1866",
   "metadata": {},
   "outputs": [],
   "source": [
    "li = a(12)"
   ]
  },
  {
   "cell_type": "code",
   "execution_count": 119,
   "id": "45682001-149e-46dc-8a02-c1d85a9da46f",
   "metadata": {},
   "outputs": [
    {
     "data": {
      "text/plain": [
       "array([ 0,  1,  2,  3,  4,  5,  6,  7,  8,  9, 10, 11])"
      ]
     },
     "execution_count": 119,
     "metadata": {},
     "output_type": "execute_result"
    }
   ],
   "source": [
    "li"
   ]
  },
  {
   "cell_type": "code",
   "execution_count": null,
   "id": "c01bb546-a8be-462a-97f1-cca4fc73b38a",
   "metadata": {},
   "outputs": [],
   "source": []
  },
  {
   "cell_type": "code",
   "execution_count": null,
   "id": "99c07074-1ec2-4941-a7bd-b3cecb674295",
   "metadata": {},
   "outputs": [],
   "source": []
  },
  {
   "cell_type": "code",
   "execution_count": null,
   "id": "9e6f5f99-5a6a-420e-ae6c-7d7106b8cda7",
   "metadata": {},
   "outputs": [],
   "source": []
  },
  {
   "cell_type": "code",
   "execution_count": null,
   "id": "d22088ab-58a2-4953-8a7e-784038b4ded1",
   "metadata": {},
   "outputs": [],
   "source": []
  },
  {
   "cell_type": "code",
   "execution_count": null,
   "id": "2b80a068-8870-41b5-a143-8a7b7c3a2e59",
   "metadata": {},
   "outputs": [],
   "source": []
  },
  {
   "cell_type": "code",
   "execution_count": null,
   "id": "c00101d4-78a5-45e5-b3ae-8806c57601cd",
   "metadata": {},
   "outputs": [],
   "source": []
  }
 ],
 "metadata": {
  "kernelspec": {
   "display_name": "Python 3 (ipykernel)",
   "language": "python",
   "name": "python3"
  },
  "language_info": {
   "codemirror_mode": {
    "name": "ipython",
    "version": 3
   },
   "file_extension": ".py",
   "mimetype": "text/x-python",
   "name": "python",
   "nbconvert_exporter": "python",
   "pygments_lexer": "ipython3",
   "version": "3.9.7"
  }
 },
 "nbformat": 4,
 "nbformat_minor": 5
}
