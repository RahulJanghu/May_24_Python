{
 "cells": [
  {
   "cell_type": "markdown",
   "id": "959fd7e2-23d2-483b-a9ff-cddf259e0fdb",
   "metadata": {},
   "source": [
    "## List Inbuilt Functions"
   ]
  },
  {
   "cell_type": "code",
   "execution_count": 87,
   "id": "d528bd69-e49b-4d02-b89a-adb35e13c8b5",
   "metadata": {},
   "outputs": [],
   "source": [
    "# Max function\n",
    "# Min function\n",
    "# Sum function\n",
    "# Count\n",
    "# Index\n",
    "# Reverse\n",
    "# L + L1\n",
    "# In operator in list\n"
   ]
  },
  {
   "cell_type": "code",
   "execution_count": 88,
   "id": "c5e2f29c-efee-463c-8ea9-2b5c18612df4",
   "metadata": {},
   "outputs": [],
   "source": [
    "runs = [10, 99, 100, 50, 80, 200, 150, 20, 99, 99]"
   ]
  },
  {
   "cell_type": "code",
   "execution_count": 89,
   "id": "df441fd9-999b-4717-8132-3318772830f4",
   "metadata": {},
   "outputs": [],
   "source": [
    "# Write the above code using function i.e find maximum in a list"
   ]
  },
  {
   "cell_type": "code",
   "execution_count": 90,
   "id": "3234cae0-ccf7-402b-972f-f6c3814ab79e",
   "metadata": {},
   "outputs": [
    {
     "data": {
      "text/plain": [
       "[10, 99, 100, 50, 80, 200, 150, 20, 99, 99]"
      ]
     },
     "execution_count": 90,
     "metadata": {},
     "output_type": "execute_result"
    }
   ],
   "source": [
    "runs"
   ]
  },
  {
   "cell_type": "code",
   "execution_count": 91,
   "id": "50fabfa5-1640-4076-8613-c26a163d7ae4",
   "metadata": {},
   "outputs": [
    {
     "data": {
      "text/plain": [
       "200"
      ]
     },
     "execution_count": 91,
     "metadata": {},
     "output_type": "execute_result"
    }
   ],
   "source": [
    "max(runs)"
   ]
  },
  {
   "cell_type": "code",
   "execution_count": 92,
   "id": "3b83f1b3-a0a6-4d4b-a6da-f922ac4d20b1",
   "metadata": {},
   "outputs": [
    {
     "data": {
      "text/plain": [
       "10"
      ]
     },
     "execution_count": 92,
     "metadata": {},
     "output_type": "execute_result"
    }
   ],
   "source": [
    "min(runs)"
   ]
  },
  {
   "cell_type": "code",
   "execution_count": null,
   "id": "c9764fc4-7664-4150-a24f-20a082bcdc5b",
   "metadata": {},
   "outputs": [],
   "source": []
  },
  {
   "cell_type": "code",
   "execution_count": 93,
   "id": "670c297b-294b-4506-8706-a854e8725f6b",
   "metadata": {},
   "outputs": [],
   "source": [
    "# count"
   ]
  },
  {
   "cell_type": "code",
   "execution_count": 95,
   "id": "10f65963-0765-4c8d-9ceb-066c50cb8b81",
   "metadata": {},
   "outputs": [
    {
     "data": {
      "text/plain": [
       "[10, 99, 100, 50, 80, 200, 150, 20, 99, 99]"
      ]
     },
     "execution_count": 95,
     "metadata": {},
     "output_type": "execute_result"
    }
   ],
   "source": [
    "runs"
   ]
  },
  {
   "cell_type": "code",
   "execution_count": 96,
   "id": "a05c0c8e-a71d-4fdc-bac6-e75189523311",
   "metadata": {},
   "outputs": [
    {
     "data": {
      "text/plain": [
       "1"
      ]
     },
     "execution_count": 96,
     "metadata": {},
     "output_type": "execute_result"
    }
   ],
   "source": [
    "runs.count(100)"
   ]
  },
  {
   "cell_type": "code",
   "execution_count": 97,
   "id": "c06c68b3-88f8-4133-9f08-417cf93e589c",
   "metadata": {},
   "outputs": [
    {
     "data": {
      "text/plain": [
       "0"
      ]
     },
     "execution_count": 97,
     "metadata": {},
     "output_type": "execute_result"
    }
   ],
   "source": [
    "runs.count(1289379012)"
   ]
  },
  {
   "cell_type": "code",
   "execution_count": null,
   "id": "f8c2b808-b72e-48e4-a71d-1d7122bf8bf7",
   "metadata": {},
   "outputs": [],
   "source": []
  },
  {
   "cell_type": "code",
   "execution_count": null,
   "id": "1781c7b8-6533-45a0-91f4-678c5f797a71",
   "metadata": {},
   "outputs": [],
   "source": []
  },
  {
   "cell_type": "code",
   "execution_count": 98,
   "id": "8a97c212-ba78-43a5-a4fc-71e83087f4f3",
   "metadata": {},
   "outputs": [],
   "source": [
    "# runs.index(999)"
   ]
  },
  {
   "cell_type": "code",
   "execution_count": 99,
   "id": "22ead654-b629-4dd0-ad18-6ee7e97ccd08",
   "metadata": {},
   "outputs": [
    {
     "data": {
      "text/plain": [
       "[10, 99, 100, 50, 80, 200, 150, 20, 99, 99]"
      ]
     },
     "execution_count": 99,
     "metadata": {},
     "output_type": "execute_result"
    }
   ],
   "source": [
    "runs"
   ]
  },
  {
   "cell_type": "code",
   "execution_count": 101,
   "id": "229bbd2d-ca2e-43f1-a37e-580d3a14b64a",
   "metadata": {},
   "outputs": [
    {
     "data": {
      "text/plain": [
       "1"
      ]
     },
     "execution_count": 101,
     "metadata": {},
     "output_type": "execute_result"
    }
   ],
   "source": [
    "runs.index(99)"
   ]
  },
  {
   "cell_type": "code",
   "execution_count": 102,
   "id": "6345bc6a-747d-4fb4-8a4f-d52ae8ba918c",
   "metadata": {},
   "outputs": [
    {
     "ename": "ValueError",
     "evalue": "1238012 is not in list",
     "output_type": "error",
     "traceback": [
      "\u001b[0;31m---------------------------------------------------------------------------\u001b[0m",
      "\u001b[0;31mValueError\u001b[0m                                Traceback (most recent call last)",
      "\u001b[0;32m/var/folders/t5/yhjgrjs907zfp250jyxtw54m0000gn/T/ipykernel_82691/1578344936.py\u001b[0m in \u001b[0;36m<module>\u001b[0;34m\u001b[0m\n\u001b[0;32m----> 1\u001b[0;31m \u001b[0mruns\u001b[0m\u001b[0;34m.\u001b[0m\u001b[0mindex\u001b[0m\u001b[0;34m(\u001b[0m\u001b[0;36m1238012\u001b[0m\u001b[0;34m)\u001b[0m\u001b[0;34m\u001b[0m\u001b[0;34m\u001b[0m\u001b[0m\n\u001b[0m",
      "\u001b[0;31mValueError\u001b[0m: 1238012 is not in list"
     ]
    }
   ],
   "source": [
    "runs.index(1238012)"
   ]
  },
  {
   "cell_type": "code",
   "execution_count": null,
   "id": "29e7294f-6237-4d5e-8b70-7458e75eec74",
   "metadata": {},
   "outputs": [],
   "source": []
  },
  {
   "cell_type": "code",
   "execution_count": null,
   "id": "7162b580-b25e-4d86-9623-bc8908df6325",
   "metadata": {},
   "outputs": [],
   "source": []
  },
  {
   "cell_type": "code",
   "execution_count": null,
   "id": "80ec438a-9032-4c15-a35a-3d30af3182ec",
   "metadata": {},
   "outputs": [],
   "source": []
  },
  {
   "cell_type": "code",
   "execution_count": null,
   "id": "612891b8-3109-4f7b-91df-19f39be3469d",
   "metadata": {},
   "outputs": [],
   "source": []
  },
  {
   "cell_type": "code",
   "execution_count": 103,
   "id": "dfde6060-66b4-4df7-bfc9-68da65127388",
   "metadata": {},
   "outputs": [],
   "source": [
    "# Quiz"
   ]
  },
  {
   "cell_type": "code",
   "execution_count": 104,
   "id": "ead52778-9787-4686-8cb5-2af3f2a68f43",
   "metadata": {},
   "outputs": [
    {
     "name": "stdout",
     "output_type": "stream",
     "text": [
      "0 2 2 "
     ]
    }
   ],
   "source": [
    "nums = [12, 2, 1, 22, 22, 23, 36]\n",
    " \n",
    "print(nums.count(4), end=' ')\n",
    "print(nums.count(22), end=' ')\n",
    "print(nums.index(1), end=' ')"
   ]
  },
  {
   "cell_type": "code",
   "execution_count": null,
   "id": "449b50a2-57a0-4906-b779-cc5cb75fa0ce",
   "metadata": {},
   "outputs": [],
   "source": []
  },
  {
   "cell_type": "code",
   "execution_count": 105,
   "id": "1bc04799-de78-4c9b-bea6-556ffe7673bd",
   "metadata": {},
   "outputs": [
    {
     "name": "stdout",
     "output_type": "stream",
     "text": [
      "36 1 96 "
     ]
    }
   ],
   "source": [
    "nums = [12, 2, 1, 22, 23, 36]\n",
    "print(max(nums), end=' ')\n",
    "print(min(nums), end=' ')\n",
    "print(sum(nums), end=' ')"
   ]
  },
  {
   "cell_type": "code",
   "execution_count": null,
   "id": "5ef253d8-8ee4-4db9-a5cc-f1702b41f0c9",
   "metadata": {},
   "outputs": [],
   "source": []
  },
  {
   "cell_type": "code",
   "execution_count": null,
   "id": "f849ad76-9d33-43b9-b90a-241700aac5ec",
   "metadata": {},
   "outputs": [],
   "source": []
  },
  {
   "cell_type": "code",
   "execution_count": 106,
   "id": "d4c92cda-3ab4-43fb-872f-6e6eb07f8ff0",
   "metadata": {},
   "outputs": [],
   "source": [
    "# If 300 is in your list"
   ]
  },
  {
   "cell_type": "code",
   "execution_count": 107,
   "id": "e62c845f-5a2c-4aa7-ad31-eba6abee2abd",
   "metadata": {},
   "outputs": [],
   "source": [
    "# Citizenship operator: in operator"
   ]
  },
  {
   "cell_type": "code",
   "execution_count": 108,
   "id": "d828635a-9814-42b6-864f-c6e64212fc2f",
   "metadata": {},
   "outputs": [
    {
     "data": {
      "text/plain": [
       "[12, 2, 1, 22, 23, 36]"
      ]
     },
     "execution_count": 108,
     "metadata": {},
     "output_type": "execute_result"
    }
   ],
   "source": [
    "nums"
   ]
  },
  {
   "cell_type": "code",
   "execution_count": 109,
   "id": "fd9aa819-3e09-47e6-9732-b1fb1356219f",
   "metadata": {},
   "outputs": [
    {
     "data": {
      "text/plain": [
       "True"
      ]
     },
     "execution_count": 109,
     "metadata": {},
     "output_type": "execute_result"
    }
   ],
   "source": [
    "12 in nums"
   ]
  },
  {
   "cell_type": "code",
   "execution_count": 110,
   "id": "9184fd15-7023-4e1b-a642-d774750f6cd4",
   "metadata": {},
   "outputs": [
    {
     "data": {
      "text/plain": [
       "False"
      ]
     },
     "execution_count": 110,
     "metadata": {},
     "output_type": "execute_result"
    }
   ],
   "source": [
    "100 in nums"
   ]
  },
  {
   "cell_type": "code",
   "execution_count": null,
   "id": "2fb91e9f-d152-422e-9388-4ffb1117e62e",
   "metadata": {},
   "outputs": [],
   "source": []
  },
  {
   "cell_type": "code",
   "execution_count": 111,
   "id": "dc5875e0-a598-4744-8e4e-e4c26a71a666",
   "metadata": {},
   "outputs": [],
   "source": [
    "# l1 + l2"
   ]
  },
  {
   "cell_type": "code",
   "execution_count": 115,
   "id": "7a92d1c3-3930-463b-9659-8e1f2dcae73b",
   "metadata": {},
   "outputs": [],
   "source": [
    "# List concatination"
   ]
  },
  {
   "cell_type": "code",
   "execution_count": 112,
   "id": "39f22492-0b83-402f-b3d5-3c486d16d826",
   "metadata": {},
   "outputs": [],
   "source": [
    "l1 = [1, 2]\n",
    "l2 = [3, 4]"
   ]
  },
  {
   "cell_type": "code",
   "execution_count": 113,
   "id": "a2975445-cb1e-4e10-bec9-b3e209e69b8e",
   "metadata": {},
   "outputs": [
    {
     "data": {
      "text/plain": [
       "[1, 2, 3, 4]"
      ]
     },
     "execution_count": 113,
     "metadata": {},
     "output_type": "execute_result"
    }
   ],
   "source": [
    "l1 + l2"
   ]
  },
  {
   "cell_type": "code",
   "execution_count": null,
   "id": "665bc34a-ca0d-4306-bfb9-7f6a5aa6f812",
   "metadata": {},
   "outputs": [],
   "source": []
  },
  {
   "cell_type": "code",
   "execution_count": null,
   "id": "5890a033-3579-4dca-8a11-0b427b19a414",
   "metadata": {},
   "outputs": [],
   "source": []
  },
  {
   "cell_type": "markdown",
   "id": "34fe4abb-011f-44a3-b1b3-316b36c86490",
   "metadata": {},
   "source": [
    "### List slicing"
   ]
  },
  {
   "cell_type": "code",
   "execution_count": 4,
   "id": "3c124351-5288-471a-ba79-eb299cf92254",
   "metadata": {},
   "outputs": [],
   "source": [
    "# List slicing doesnt affect the current list"
   ]
  },
  {
   "cell_type": "code",
   "execution_count": 5,
   "id": "7964a2b4-a9f2-48b6-94f7-a7e2bb846e25",
   "metadata": {},
   "outputs": [],
   "source": [
    "# by default start = 0, end = including last index"
   ]
  },
  {
   "cell_type": "code",
   "execution_count": 6,
   "id": "535f78d7-7ccb-4c54-9f77-48e0f91de56c",
   "metadata": {},
   "outputs": [
    {
     "data": {
      "text/plain": [
       "[10, 99, 100, 50, 80, 200, 150, 20, 99, 99]"
      ]
     },
     "execution_count": 6,
     "metadata": {},
     "output_type": "execute_result"
    }
   ],
   "source": [
    "runs"
   ]
  },
  {
   "cell_type": "code",
   "execution_count": 8,
   "id": "e48e9437-fffe-4f96-8068-8296f22236f4",
   "metadata": {},
   "outputs": [
    {
     "data": {
      "text/plain": [
       "10"
      ]
     },
     "execution_count": 8,
     "metadata": {},
     "output_type": "execute_result"
    }
   ],
   "source": [
    "len(runs)"
   ]
  },
  {
   "cell_type": "code",
   "execution_count": 7,
   "id": "9825d6d8-726a-45a3-8f3d-c31f14836e23",
   "metadata": {},
   "outputs": [
    {
     "name": "stdout",
     "output_type": "stream",
     "text": [
      "100\n",
      "50\n",
      "80\n",
      "200\n",
      "150\n",
      "20\n",
      "99\n",
      "99\n"
     ]
    },
    {
     "ename": "IndexError",
     "evalue": "list index out of range",
     "output_type": "error",
     "traceback": [
      "\u001b[0;31m---------------------------------------------------------------------------\u001b[0m",
      "\u001b[0;31mIndexError\u001b[0m                                Traceback (most recent call last)",
      "\u001b[0;32m/var/folders/t5/yhjgrjs907zfp250jyxtw54m0000gn/T/ipykernel_82691/2628365636.py\u001b[0m in \u001b[0;36m<module>\u001b[0;34m\u001b[0m\n\u001b[1;32m      1\u001b[0m \u001b[0;32mfor\u001b[0m \u001b[0mi\u001b[0m \u001b[0;32min\u001b[0m \u001b[0mrange\u001b[0m\u001b[0;34m(\u001b[0m\u001b[0;36m2\u001b[0m\u001b[0;34m,\u001b[0m \u001b[0;36m15\u001b[0m\u001b[0;34m)\u001b[0m\u001b[0;34m:\u001b[0m\u001b[0;34m\u001b[0m\u001b[0;34m\u001b[0m\u001b[0m\n\u001b[0;32m----> 2\u001b[0;31m     \u001b[0mprint\u001b[0m\u001b[0;34m(\u001b[0m\u001b[0mruns\u001b[0m\u001b[0;34m[\u001b[0m\u001b[0mi\u001b[0m\u001b[0;34m]\u001b[0m\u001b[0;34m)\u001b[0m\u001b[0;34m\u001b[0m\u001b[0;34m\u001b[0m\u001b[0m\n\u001b[0m",
      "\u001b[0;31mIndexError\u001b[0m: list index out of range"
     ]
    }
   ],
   "source": [
    "for i in range(2, 15):\n",
    "    print(runs[i])"
   ]
  },
  {
   "cell_type": "code",
   "execution_count": null,
   "id": "2a471cc9-e76e-4b4a-b1e7-36eea9bfc6af",
   "metadata": {},
   "outputs": [],
   "source": []
  },
  {
   "cell_type": "code",
   "execution_count": 9,
   "id": "411d641e-2143-41af-bbb5-acd7bf72216f",
   "metadata": {},
   "outputs": [
    {
     "data": {
      "text/plain": [
       "[10, 99, 100, 50, 80, 200, 150, 20, 99, 99]"
      ]
     },
     "execution_count": 9,
     "metadata": {},
     "output_type": "execute_result"
    }
   ],
   "source": [
    "runs"
   ]
  },
  {
   "cell_type": "code",
   "execution_count": 10,
   "id": "c0c12462-9dc7-4499-ae31-819c8f5d09ab",
   "metadata": {},
   "outputs": [
    {
     "data": {
      "text/plain": [
       "10"
      ]
     },
     "execution_count": 10,
     "metadata": {},
     "output_type": "execute_result"
    }
   ],
   "source": [
    "len(runs)"
   ]
  },
  {
   "cell_type": "code",
   "execution_count": 12,
   "id": "6b628a63-62b3-4508-8cfc-fa4a60f6db2b",
   "metadata": {},
   "outputs": [],
   "source": [
    "# runs[10]"
   ]
  },
  {
   "cell_type": "code",
   "execution_count": 19,
   "id": "4577b43b-e104-44ae-b471-d4bd3472785a",
   "metadata": {},
   "outputs": [],
   "source": [
    "# List slicing handles list out of range error as well"
   ]
  },
  {
   "cell_type": "code",
   "execution_count": 20,
   "id": "03a051c0-e7c9-49f3-ac7d-6452ef1c38aa",
   "metadata": {},
   "outputs": [],
   "source": [
    "# here even if the index is out of range then it handles the error"
   ]
  },
  {
   "cell_type": "code",
   "execution_count": 14,
   "id": "7bc59fb3-c3ac-47fc-b68b-79c31bac5ebb",
   "metadata": {},
   "outputs": [
    {
     "data": {
      "text/plain": [
       "[10, 99, 100, 50, 80, 200, 150, 20, 99, 99]"
      ]
     },
     "execution_count": 14,
     "metadata": {},
     "output_type": "execute_result"
    }
   ],
   "source": [
    "runs[0 : 10000000]"
   ]
  },
  {
   "cell_type": "code",
   "execution_count": 15,
   "id": "5da29aa6-09f7-442d-a135-a4a522bc6b2b",
   "metadata": {},
   "outputs": [
    {
     "data": {
      "text/plain": [
       "[]"
      ]
     },
     "execution_count": 15,
     "metadata": {},
     "output_type": "execute_result"
    }
   ],
   "source": [
    "runs[10 : ]"
   ]
  },
  {
   "cell_type": "code",
   "execution_count": 16,
   "id": "90ba81aa-b19e-4583-8e47-f441ff8bfa72",
   "metadata": {},
   "outputs": [
    {
     "data": {
      "text/plain": [
       "[10, 99, 100, 50, 80, 200, 150, 20, 99, 99]"
      ]
     },
     "execution_count": 16,
     "metadata": {},
     "output_type": "execute_result"
    }
   ],
   "source": [
    "runs"
   ]
  },
  {
   "cell_type": "code",
   "execution_count": 18,
   "id": "b2f8ff37-0991-4c17-b698-690026fccc82",
   "metadata": {},
   "outputs": [
    {
     "data": {
      "text/plain": [
       "[99, 100, 50]"
      ]
     },
     "execution_count": 18,
     "metadata": {},
     "output_type": "execute_result"
    }
   ],
   "source": [
    "runs[1 : 4]  # runs[1], runs[2], runs[3]"
   ]
  },
  {
   "cell_type": "code",
   "execution_count": 21,
   "id": "4dbddfcd-6be9-487c-b4b6-38f606eeef08",
   "metadata": {},
   "outputs": [
    {
     "data": {
      "text/plain": [
       "[10, 99, 100, 50, 80, 200, 150, 20, 99, 99]"
      ]
     },
     "execution_count": 21,
     "metadata": {},
     "output_type": "execute_result"
    }
   ],
   "source": [
    "runs[ : ]"
   ]
  },
  {
   "cell_type": "code",
   "execution_count": 22,
   "id": "189a0964-8a9b-42d6-8020-c51cd38cec23",
   "metadata": {},
   "outputs": [
    {
     "data": {
      "text/plain": [
       "10"
      ]
     },
     "execution_count": 22,
     "metadata": {},
     "output_type": "execute_result"
    }
   ],
   "source": [
    "len(runs[ : ])"
   ]
  },
  {
   "cell_type": "code",
   "execution_count": null,
   "id": "ca04be88-a39b-4d0e-82f4-f5aab25b942e",
   "metadata": {},
   "outputs": [],
   "source": []
  },
  {
   "cell_type": "code",
   "execution_count": 23,
   "id": "c3880327-551c-4285-b48d-f4f1dbfbadaf",
   "metadata": {},
   "outputs": [
    {
     "data": {
      "text/plain": [
       "[10, 99, 100, 50, 80, 200, 150, 20, 99, 99]"
      ]
     },
     "execution_count": 23,
     "metadata": {},
     "output_type": "execute_result"
    }
   ],
   "source": [
    "runs"
   ]
  },
  {
   "cell_type": "code",
   "execution_count": 24,
   "id": "97f03a82-e894-4904-a137-e911db9ceeda",
   "metadata": {},
   "outputs": [
    {
     "data": {
      "text/plain": [
       "[200, 150, 20, 99, 99]"
      ]
     },
     "execution_count": 24,
     "metadata": {},
     "output_type": "execute_result"
    }
   ],
   "source": [
    "runs[5 : ]"
   ]
  },
  {
   "cell_type": "code",
   "execution_count": null,
   "id": "2aa2ff62-2730-4e0d-98a1-a32e7bb3cbdb",
   "metadata": {},
   "outputs": [],
   "source": []
  },
  {
   "cell_type": "code",
   "execution_count": 25,
   "id": "ce19ab82-e2b2-45bd-91f3-6aefdf713af3",
   "metadata": {},
   "outputs": [],
   "source": [
    "# Quiz"
   ]
  },
  {
   "cell_type": "code",
   "execution_count": 26,
   "id": "5069809c-1bd7-4ab7-ad6f-c6e4cefaa46d",
   "metadata": {},
   "outputs": [
    {
     "name": "stdout",
     "output_type": "stream",
     "text": [
      "[]\n"
     ]
    }
   ],
   "source": [
    "l = [2, 4, 5, 7, 8]\n",
    "print(l[5:0])"
   ]
  },
  {
   "cell_type": "code",
   "execution_count": null,
   "id": "1a0fd97e-6c5f-4039-b923-61e7b2c23e59",
   "metadata": {},
   "outputs": [],
   "source": []
  },
  {
   "cell_type": "code",
   "execution_count": 27,
   "id": "c58de92e-82d3-4b48-9f56-180056f042d4",
   "metadata": {},
   "outputs": [],
   "source": [
    "# l[ start : end : jump ]"
   ]
  },
  {
   "cell_type": "code",
   "execution_count": 28,
   "id": "1af53753-97b0-4426-8522-a5ad1d6554a9",
   "metadata": {},
   "outputs": [
    {
     "data": {
      "text/plain": [
       "[10, 99, 100, 50, 80, 200, 150, 20, 99, 99]"
      ]
     },
     "execution_count": 28,
     "metadata": {},
     "output_type": "execute_result"
    }
   ],
   "source": [
    "runs"
   ]
  },
  {
   "cell_type": "code",
   "execution_count": 30,
   "id": "a02d313c-7621-4605-b11b-0f714f97306a",
   "metadata": {},
   "outputs": [
    {
     "data": {
      "text/plain": [
       "[10, 100, 80, 150, 99]"
      ]
     },
     "execution_count": 30,
     "metadata": {},
     "output_type": "execute_result"
    }
   ],
   "source": [
    "# Even index values\n",
    "runs[ : : 2]"
   ]
  },
  {
   "cell_type": "code",
   "execution_count": 32,
   "id": "9d036ea3-c3b1-4414-bfce-31343a16158b",
   "metadata": {},
   "outputs": [
    {
     "data": {
      "text/plain": [
       "[99, 50, 200, 20, 99]"
      ]
     },
     "execution_count": 32,
     "metadata": {},
     "output_type": "execute_result"
    }
   ],
   "source": [
    "# Odd index values\n",
    "runs[1 : len(runs) : 2]"
   ]
  },
  {
   "cell_type": "code",
   "execution_count": null,
   "id": "73c7f805-2cf9-4244-9e50-35aa9215fd0e",
   "metadata": {},
   "outputs": [],
   "source": []
  },
  {
   "cell_type": "code",
   "execution_count": 33,
   "id": "de451e5f-f29e-4154-9ef6-56afab8f800a",
   "metadata": {},
   "outputs": [
    {
     "data": {
      "text/plain": [
       "[10, 99, 100, 50, 80, 200, 150, 20, 99, 99]"
      ]
     },
     "execution_count": 33,
     "metadata": {},
     "output_type": "execute_result"
    }
   ],
   "source": [
    "runs"
   ]
  },
  {
   "cell_type": "code",
   "execution_count": 34,
   "id": "ca441284-ac2a-419f-a7fe-ac03e9cae918",
   "metadata": {},
   "outputs": [
    {
     "data": {
      "text/plain": [
       "[99, 99, 20, 150, 200, 80, 50, 100, 99, 10]"
      ]
     },
     "execution_count": 34,
     "metadata": {},
     "output_type": "execute_result"
    }
   ],
   "source": [
    "# reverse of this list\n",
    "runs[ : : -1]"
   ]
  },
  {
   "cell_type": "code",
   "execution_count": 35,
   "id": "84eaf96c-f460-4168-a1b5-a638ad55a463",
   "metadata": {},
   "outputs": [
    {
     "data": {
      "text/plain": [
       "[10, 99, 100, 50, 80, 200, 150, 20, 99, 99]"
      ]
     },
     "execution_count": 35,
     "metadata": {},
     "output_type": "execute_result"
    }
   ],
   "source": [
    "runs"
   ]
  },
  {
   "cell_type": "code",
   "execution_count": 38,
   "id": "637f7268-cc25-4492-a28f-70e86a3dca20",
   "metadata": {},
   "outputs": [
    {
     "data": {
      "text/plain": [
       "[99]"
      ]
     },
     "execution_count": 38,
     "metadata": {},
     "output_type": "execute_result"
    }
   ],
   "source": [
    "runs[-1 : len(runs) + 1] # similar to runs[-1]"
   ]
  },
  {
   "cell_type": "code",
   "execution_count": 39,
   "id": "a2a9ac30-cf1d-481a-90bd-d46ffda11edf",
   "metadata": {},
   "outputs": [
    {
     "data": {
      "text/plain": [
       "99"
      ]
     },
     "execution_count": 39,
     "metadata": {},
     "output_type": "execute_result"
    }
   ],
   "source": [
    "runs[-1]"
   ]
  },
  {
   "cell_type": "code",
   "execution_count": null,
   "id": "2da2425b-db2e-4a77-ab8d-526df5b2b732",
   "metadata": {},
   "outputs": [],
   "source": []
  },
  {
   "cell_type": "code",
   "execution_count": null,
   "id": "f5972253-fdb1-4be0-8d30-e3c9bf00c740",
   "metadata": {},
   "outputs": [],
   "source": []
  },
  {
   "cell_type": "code",
   "execution_count": 40,
   "id": "19e9f33a-3e60-465f-81e4-00138697d02e",
   "metadata": {},
   "outputs": [],
   "source": [
    "# Quiz"
   ]
  },
  {
   "cell_type": "code",
   "execution_count": 41,
   "id": "2bb5ff27-b948-4cbf-8599-75d43a68056d",
   "metadata": {},
   "outputs": [
    {
     "data": {
      "text/plain": [
       "[10, 5, 6]"
      ]
     },
     "execution_count": 41,
     "metadata": {},
     "output_type": "execute_result"
    }
   ],
   "source": [
    "l = [10, 2, 5, 3, 6]\n",
    "l[0:5:2]"
   ]
  },
  {
   "cell_type": "code",
   "execution_count": 42,
   "id": "74ca9393-8179-4b26-8dce-4218273dc643",
   "metadata": {},
   "outputs": [
    {
     "name": "stdout",
     "output_type": "stream",
     "text": [
      "[1, 2, 3, 5]\n"
     ]
    }
   ],
   "source": [
    "nums = [1, 1, 2, 3, 5, 8, 13]\n",
    "print(nums[1:5])"
   ]
  },
  {
   "cell_type": "code",
   "execution_count": null,
   "id": "de5931ee-7228-45c6-9fbb-31ce52e4f28c",
   "metadata": {},
   "outputs": [],
   "source": []
  },
  {
   "cell_type": "code",
   "execution_count": 43,
   "id": "e2ab389b-8e70-4eab-abcd-3871af1548c3",
   "metadata": {},
   "outputs": [
    {
     "data": {
      "text/plain": [
       "[0, 50, 100]"
      ]
     },
     "execution_count": 43,
     "metadata": {},
     "output_type": "execute_result"
    }
   ],
   "source": [
    "nums = [0, 25, 50, 75, 100]\n",
    "nums[0 : 5 : 2]"
   ]
  },
  {
   "cell_type": "code",
   "execution_count": 44,
   "id": "89d026f8-2d66-4fa0-9a4d-828caf941ce0",
   "metadata": {},
   "outputs": [
    {
     "data": {
      "text/plain": [
       "[25, 75]"
      ]
     },
     "execution_count": 44,
     "metadata": {},
     "output_type": "execute_result"
    }
   ],
   "source": [
    "nums[1 : 5 : 2]"
   ]
  },
  {
   "cell_type": "code",
   "execution_count": 45,
   "id": "5a5854cf-8d93-49d3-8edd-c26fb20f4397",
   "metadata": {},
   "outputs": [
    {
     "data": {
      "text/plain": [
       "[6, 5, 10]"
      ]
     },
     "execution_count": 45,
     "metadata": {},
     "output_type": "execute_result"
    }
   ],
   "source": [
    "l = [10, 2, 5, 3, 6]\n",
    "l[::-2]"
   ]
  },
  {
   "cell_type": "code",
   "execution_count": null,
   "id": "a398e34f-0428-4ee2-a15d-4ed947e844f5",
   "metadata": {},
   "outputs": [],
   "source": []
  },
  {
   "cell_type": "code",
   "execution_count": 46,
   "id": "c7959567-3fc5-4e2f-a3ab-d236cd6c4601",
   "metadata": {},
   "outputs": [],
   "source": [
    "# DIY -> Hit and trial"
   ]
  },
  {
   "cell_type": "code",
   "execution_count": 47,
   "id": "643b3a12-e925-4b14-95ed-b3dff0c34d72",
   "metadata": {},
   "outputs": [
    {
     "data": {
      "text/plain": [
       "[10, 2, 5, 3, 6]"
      ]
     },
     "execution_count": 47,
     "metadata": {},
     "output_type": "execute_result"
    }
   ],
   "source": [
    "l"
   ]
  },
  {
   "cell_type": "code",
   "execution_count": 48,
   "id": "cecd2030-ca46-49ea-9399-e6e13c7b5c99",
   "metadata": {},
   "outputs": [
    {
     "data": {
      "text/plain": [
       "[]"
      ]
     },
     "execution_count": 48,
     "metadata": {},
     "output_type": "execute_result"
    }
   ],
   "source": [
    "l[-1:0]"
   ]
  },
  {
   "cell_type": "code",
   "execution_count": 49,
   "id": "9c121431-c7e0-4781-9fb5-d1ae251c2bee",
   "metadata": {},
   "outputs": [
    {
     "data": {
      "text/plain": [
       "[]"
      ]
     },
     "execution_count": 49,
     "metadata": {},
     "output_type": "execute_result"
    }
   ],
   "source": [
    "l[132:0]"
   ]
  },
  {
   "cell_type": "code",
   "execution_count": 50,
   "id": "ca2ad373-e996-49c8-b3bb-43e2afe7a0d0",
   "metadata": {},
   "outputs": [
    {
     "data": {
      "text/plain": [
       "[10, 2, 5, 3, 6]"
      ]
     },
     "execution_count": 50,
     "metadata": {},
     "output_type": "execute_result"
    }
   ],
   "source": [
    "l"
   ]
  },
  {
   "cell_type": "code",
   "execution_count": 54,
   "id": "00fe6608-a560-4dbd-a6a7-6acd4146b299",
   "metadata": {},
   "outputs": [
    {
     "data": {
      "text/plain": [
       "[10, 2, 5, 3]"
      ]
     },
     "execution_count": 54,
     "metadata": {},
     "output_type": "execute_result"
    }
   ],
   "source": [
    "l[0 : -1]"
   ]
  },
  {
   "cell_type": "code",
   "execution_count": null,
   "id": "d5c517f4-1f9b-4e8c-bc42-4874f18e8cc0",
   "metadata": {},
   "outputs": [],
   "source": []
  },
  {
   "cell_type": "code",
   "execution_count": 53,
   "id": "60d89bce-12aa-42aa-9dd7-78cd3c02f083",
   "metadata": {},
   "outputs": [
    {
     "data": {
      "text/plain": [
       "True"
      ]
     },
     "execution_count": 53,
     "metadata": {},
     "output_type": "execute_result"
    }
   ],
   "source": [
    "id(l[4]) == id(l[-1])"
   ]
  },
  {
   "cell_type": "code",
   "execution_count": null,
   "id": "a319dd8f-dc12-4af6-93cf-98c084c5404c",
   "metadata": {},
   "outputs": [],
   "source": []
  },
  {
   "cell_type": "code",
   "execution_count": null,
   "id": "a1d2f66d-44ee-44b2-9468-101e9e39f7b9",
   "metadata": {},
   "outputs": [],
   "source": []
  },
  {
   "cell_type": "code",
   "execution_count": null,
   "id": "c320b995-c6db-4f5d-a0f4-7f00930f3ced",
   "metadata": {},
   "outputs": [],
   "source": []
  },
  {
   "cell_type": "code",
   "execution_count": 58,
   "id": "4c482a5f-5d41-4885-95d7-b3504504aaed",
   "metadata": {},
   "outputs": [],
   "source": [
    "# Sum of odd index runs\n",
    "# Sum of even index runs\n",
    "# Sum of Sachin scores in first 5 matches, last 5 matches"
   ]
  },
  {
   "cell_type": "code",
   "execution_count": 59,
   "id": "553ebaea-bf8f-42c7-96b1-747fc1cccd62",
   "metadata": {},
   "outputs": [],
   "source": [
    "# Even index elements"
   ]
  },
  {
   "cell_type": "code",
   "execution_count": 60,
   "id": "0a2e5be2-fb69-4620-b0d8-12ded1499037",
   "metadata": {},
   "outputs": [
    {
     "data": {
      "text/plain": [
       "[10, 99, 100, 50, 80, 200, 150, 20, 99, 99]"
      ]
     },
     "execution_count": 60,
     "metadata": {},
     "output_type": "execute_result"
    }
   ],
   "source": [
    "runs"
   ]
  },
  {
   "cell_type": "code",
   "execution_count": 61,
   "id": "c5120f5f-29d3-4f39-9aed-acf9aa3c6f18",
   "metadata": {},
   "outputs": [
    {
     "data": {
      "text/plain": [
       "[99, 50, 200, 20, 99]"
      ]
     },
     "execution_count": 61,
     "metadata": {},
     "output_type": "execute_result"
    }
   ],
   "source": [
    "runs[1 : : 2]"
   ]
  },
  {
   "cell_type": "code",
   "execution_count": 67,
   "id": "9e047375-33d8-471e-9232-a9f679231930",
   "metadata": {},
   "outputs": [],
   "source": [
    "# Odd index elements"
   ]
  },
  {
   "cell_type": "code",
   "execution_count": 62,
   "id": "3503e7e1-5296-4bda-9869-c1495d614197",
   "metadata": {},
   "outputs": [],
   "source": [
    "def odd_index_runs(runs):\n",
    "    total = 0\n",
    "    for i in runs[1 : : 2]:\n",
    "        total += i\n",
    "    return total"
   ]
  },
  {
   "cell_type": "code",
   "execution_count": 63,
   "id": "03c1fff4-d5b9-4b5c-9c27-2c5ae9692a0c",
   "metadata": {},
   "outputs": [
    {
     "data": {
      "text/plain": [
       "468"
      ]
     },
     "execution_count": 63,
     "metadata": {},
     "output_type": "execute_result"
    }
   ],
   "source": [
    "odd_index_runs(runs)"
   ]
  },
  {
   "cell_type": "code",
   "execution_count": null,
   "id": "e858120c-28a4-4e6f-a083-c4530b7b559d",
   "metadata": {},
   "outputs": [],
   "source": []
  },
  {
   "cell_type": "code",
   "execution_count": null,
   "id": "fe3a6b77-6fc7-4ac4-ac12-79702fb79211",
   "metadata": {},
   "outputs": [],
   "source": []
  },
  {
   "cell_type": "code",
   "execution_count": 64,
   "id": "9ee59ae2-9fe3-44ab-b2eb-3d87177a2cb6",
   "metadata": {},
   "outputs": [],
   "source": [
    "def even_index_runs(runs):\n",
    "    total = 0\n",
    "    for i in runs[ : : 2]:\n",
    "        total += i\n",
    "    return total"
   ]
  },
  {
   "cell_type": "code",
   "execution_count": 65,
   "id": "b5133374-9c91-452b-973e-bd8dbaeee2c0",
   "metadata": {},
   "outputs": [
    {
     "data": {
      "text/plain": [
       "439"
      ]
     },
     "execution_count": 65,
     "metadata": {},
     "output_type": "execute_result"
    }
   ],
   "source": [
    "even_index_runs(runs)"
   ]
  },
  {
   "cell_type": "code",
   "execution_count": 66,
   "id": "3493632f-8d79-4e7c-8eb1-117f2c788eed",
   "metadata": {},
   "outputs": [
    {
     "data": {
      "text/plain": [
       "907"
      ]
     },
     "execution_count": 66,
     "metadata": {},
     "output_type": "execute_result"
    }
   ],
   "source": [
    "468 + 439"
   ]
  },
  {
   "cell_type": "code",
   "execution_count": 68,
   "id": "5d1b0dd8-8c0b-4f3c-a083-51f439e6a8e2",
   "metadata": {},
   "outputs": [
    {
     "data": {
      "text/plain": [
       "907"
      ]
     },
     "execution_count": 68,
     "metadata": {},
     "output_type": "execute_result"
    }
   ],
   "source": [
    "sum(runs)"
   ]
  },
  {
   "cell_type": "code",
   "execution_count": 70,
   "id": "520ef449-466d-478d-a944-677e599708ac",
   "metadata": {},
   "outputs": [],
   "source": [
    "# Even index"
   ]
  },
  {
   "cell_type": "code",
   "execution_count": 69,
   "id": "4ba74fba-3d42-4773-b3c7-93ee2ded73ca",
   "metadata": {},
   "outputs": [
    {
     "data": {
      "text/plain": [
       "[10, 100, 80, 150, 99]"
      ]
     },
     "execution_count": 69,
     "metadata": {},
     "output_type": "execute_result"
    }
   ],
   "source": [
    "runs[ : : 2]"
   ]
  },
  {
   "cell_type": "code",
   "execution_count": 71,
   "id": "0cea8a07-2432-4999-8e2f-39daf7007499",
   "metadata": {},
   "outputs": [
    {
     "data": {
      "text/plain": [
       "439"
      ]
     },
     "execution_count": 71,
     "metadata": {},
     "output_type": "execute_result"
    }
   ],
   "source": [
    "sum(runs[ : : 2])"
   ]
  },
  {
   "cell_type": "code",
   "execution_count": null,
   "id": "ae7c6ac3-2fa0-4174-b7f9-1c32446db6e8",
   "metadata": {},
   "outputs": [],
   "source": []
  },
  {
   "cell_type": "code",
   "execution_count": 72,
   "id": "a6ac6732-8d7a-4f24-9dd3-95ee783dd61a",
   "metadata": {},
   "outputs": [],
   "source": [
    "# Odd index total"
   ]
  },
  {
   "cell_type": "code",
   "execution_count": 74,
   "id": "dc9fa80d-f476-45fa-9135-6e815823d7a4",
   "metadata": {},
   "outputs": [
    {
     "data": {
      "text/plain": [
       "468"
      ]
     },
     "execution_count": 74,
     "metadata": {},
     "output_type": "execute_result"
    }
   ],
   "source": [
    "sum(runs[1 : : 2])"
   ]
  },
  {
   "cell_type": "code",
   "execution_count": null,
   "id": "bf894c5c-e965-49ba-9195-cdcfcd8c277d",
   "metadata": {},
   "outputs": [],
   "source": []
  },
  {
   "cell_type": "code",
   "execution_count": null,
   "id": "ab13f1d1-1c65-4749-a748-aa16208c9e39",
   "metadata": {},
   "outputs": [],
   "source": []
  },
  {
   "cell_type": "code",
   "execution_count": 75,
   "id": "cd897826-2f5b-4a68-8f38-5f1c4e09d284",
   "metadata": {},
   "outputs": [],
   "source": [
    "# Sum of Sachin scores in first 5 matches, last 5 matches"
   ]
  },
  {
   "cell_type": "code",
   "execution_count": 76,
   "id": "67b772ff-9995-4d71-ab77-e95046639d59",
   "metadata": {},
   "outputs": [
    {
     "data": {
      "text/plain": [
       "[10, 99, 100, 50, 80, 200, 150, 20, 99, 99]"
      ]
     },
     "execution_count": 76,
     "metadata": {},
     "output_type": "execute_result"
    }
   ],
   "source": [
    "runs"
   ]
  },
  {
   "cell_type": "code",
   "execution_count": 77,
   "id": "78c28ca7-fac8-4a7d-901b-e3af62f95ee7",
   "metadata": {},
   "outputs": [],
   "source": [
    "# Sum of 1st 5 matches"
   ]
  },
  {
   "cell_type": "code",
   "execution_count": 79,
   "id": "8db6179e-0ef0-49a0-94c9-96d16928121a",
   "metadata": {},
   "outputs": [
    {
     "data": {
      "text/plain": [
       "339"
      ]
     },
     "execution_count": 79,
     "metadata": {},
     "output_type": "execute_result"
    }
   ],
   "source": [
    "sum(runs[ : 5])"
   ]
  },
  {
   "cell_type": "code",
   "execution_count": null,
   "id": "570d77b3-da29-4abb-a499-e68b3d203952",
   "metadata": {},
   "outputs": [],
   "source": []
  },
  {
   "cell_type": "code",
   "execution_count": 80,
   "id": "700b26b5-d10c-48ec-935e-52484330c412",
   "metadata": {},
   "outputs": [],
   "source": [
    "# Sum of last 5 matches"
   ]
  },
  {
   "cell_type": "code",
   "execution_count": 82,
   "id": "18703061-5bd2-43c1-82e8-7ff7b5c0bf87",
   "metadata": {},
   "outputs": [
    {
     "data": {
      "text/plain": [
       "[10, 99, 100, 50, 80, 200, 150, 20, 99, 99]"
      ]
     },
     "execution_count": 82,
     "metadata": {},
     "output_type": "execute_result"
    }
   ],
   "source": [
    "runs"
   ]
  },
  {
   "cell_type": "code",
   "execution_count": 81,
   "id": "d3e48203-ce33-4fd6-b0e5-7ecc9cc3597b",
   "metadata": {},
   "outputs": [
    {
     "data": {
      "text/plain": [
       "[99, 99, 20, 150, 200]"
      ]
     },
     "execution_count": 81,
     "metadata": {},
     "output_type": "execute_result"
    }
   ],
   "source": [
    "runs[-1 : -6 : -1]"
   ]
  },
  {
   "cell_type": "code",
   "execution_count": 83,
   "id": "a9d9a8d0-7026-48c6-a42a-ade124f5f463",
   "metadata": {},
   "outputs": [
    {
     "data": {
      "text/plain": [
       "568"
      ]
     },
     "execution_count": 83,
     "metadata": {},
     "output_type": "execute_result"
    }
   ],
   "source": [
    "sum(runs[-1 : -6 : -1])"
   ]
  },
  {
   "cell_type": "code",
   "execution_count": null,
   "id": "b14babce-db04-49c2-964e-375ab18d7700",
   "metadata": {},
   "outputs": [],
   "source": []
  },
  {
   "cell_type": "code",
   "execution_count": 84,
   "id": "3527d256-c0a8-483a-b7e7-2c9cbff57023",
   "metadata": {},
   "outputs": [
    {
     "data": {
      "text/plain": [
       "[99, 99, 20, 150, 200, 80, 50, 100, 99, 10]"
      ]
     },
     "execution_count": 84,
     "metadata": {},
     "output_type": "execute_result"
    }
   ],
   "source": [
    "runs[ : : -1]"
   ]
  },
  {
   "cell_type": "code",
   "execution_count": null,
   "id": "98e11a21-eced-47cb-ab25-fa7cc2e5d718",
   "metadata": {},
   "outputs": [],
   "source": []
  },
  {
   "cell_type": "code",
   "execution_count": null,
   "id": "fdfabc9d-04f2-4d5c-9581-46bd78b50755",
   "metadata": {},
   "outputs": [],
   "source": []
  },
  {
   "cell_type": "code",
   "execution_count": null,
   "id": "f93bd8b2-d9bf-446b-8197-976687272812",
   "metadata": {},
   "outputs": [],
   "source": []
  },
  {
   "cell_type": "markdown",
   "id": "62209667-41c2-4a36-a18d-79650ecde355",
   "metadata": {},
   "source": [
    "####  Rotate the array"
   ]
  },
  {
   "cell_type": "code",
   "execution_count": 86,
   "id": "8efa4ec9-07d0-4614-8f08-ec668638f53c",
   "metadata": {},
   "outputs": [],
   "source": [
    "# Take an array/list as input and return rotated array"
   ]
  },
  {
   "cell_type": "code",
   "execution_count": 116,
   "id": "0dd8bb26-996a-4467-a0d3-ff5ee5f8e70c",
   "metadata": {},
   "outputs": [],
   "source": [
    "l = [1, 2, 3, 4, 5]"
   ]
  },
  {
   "cell_type": "code",
   "execution_count": 117,
   "id": "f88dadfd-b199-496c-b734-d651da9e862e",
   "metadata": {},
   "outputs": [],
   "source": [
    "# Take an array as input, and rotate this array to right by 1 element"
   ]
  },
  {
   "cell_type": "code",
   "execution_count": 119,
   "id": "3a6fd07b-2e44-43a6-8f83-e7e6db66c72f",
   "metadata": {},
   "outputs": [],
   "source": [
    "# ans = [5, 1, 2, 3, 4]"
   ]
  },
  {
   "cell_type": "code",
   "execution_count": null,
   "id": "e7ba2032-5997-4ebf-a4d1-27c67843801b",
   "metadata": {},
   "outputs": [],
   "source": []
  },
  {
   "cell_type": "code",
   "execution_count": 120,
   "id": "b4909968-8dc8-4236-a10b-b32c255b3708",
   "metadata": {},
   "outputs": [
    {
     "name": "stdin",
     "output_type": "stream",
     "text": [
      " 1 2 3 4 5\n"
     ]
    }
   ],
   "source": [
    "l = input()"
   ]
  },
  {
   "cell_type": "code",
   "execution_count": 121,
   "id": "d084334b-f70c-4ba8-b11d-d8844b3a2595",
   "metadata": {},
   "outputs": [
    {
     "data": {
      "text/plain": [
       "str"
      ]
     },
     "execution_count": 121,
     "metadata": {},
     "output_type": "execute_result"
    }
   ],
   "source": [
    "type(l)"
   ]
  },
  {
   "cell_type": "code",
   "execution_count": 122,
   "id": "fb04b153-7ce6-4660-b6cb-d3cb6f5142e0",
   "metadata": {},
   "outputs": [
    {
     "data": {
      "text/plain": [
       "'1 2 3 4 5'"
      ]
     },
     "execution_count": 122,
     "metadata": {},
     "output_type": "execute_result"
    }
   ],
   "source": [
    "l"
   ]
  },
  {
   "cell_type": "code",
   "execution_count": 123,
   "id": "61ad221f-faa3-46a0-a684-1278d6746f4e",
   "metadata": {},
   "outputs": [],
   "source": [
    "l = l.split()"
   ]
  },
  {
   "cell_type": "code",
   "execution_count": 124,
   "id": "b7bfd672-5628-4e72-8745-96882b08f402",
   "metadata": {},
   "outputs": [
    {
     "data": {
      "text/plain": [
       "['1', '2', '3', '4', '5']"
      ]
     },
     "execution_count": 124,
     "metadata": {},
     "output_type": "execute_result"
    }
   ],
   "source": [
    "l"
   ]
  },
  {
   "cell_type": "code",
   "execution_count": 125,
   "id": "7af04a69-6d3b-44d3-8e55-61df56161ff2",
   "metadata": {},
   "outputs": [
    {
     "data": {
      "text/plain": [
       "[1, 2, 3, 4, 5]"
      ]
     },
     "execution_count": 125,
     "metadata": {},
     "output_type": "execute_result"
    }
   ],
   "source": [
    "new = []\n",
    "for i in l:\n",
    "    new.append(int(i))\n",
    "new"
   ]
  },
  {
   "cell_type": "code",
   "execution_count": null,
   "id": "fa073e95-c2df-4900-8b16-28d36bd88790",
   "metadata": {},
   "outputs": [],
   "source": []
  },
  {
   "cell_type": "code",
   "execution_count": 126,
   "id": "95069764-4aaa-4c86-9978-2da748d18b5d",
   "metadata": {},
   "outputs": [],
   "source": [
    "# Final code"
   ]
  },
  {
   "cell_type": "code",
   "execution_count": 129,
   "id": "07f595db-ba3a-4e08-9cdb-2f0fdaa13952",
   "metadata": {},
   "outputs": [
    {
     "name": "stdin",
     "output_type": "stream",
     "text": [
      " 1 2 3 4 5\n"
     ]
    },
    {
     "name": "stdout",
     "output_type": "stream",
     "text": [
      "[1, 2, 3, 4, 5]\n"
     ]
    }
   ],
   "source": [
    "inp = input().split()\n",
    "\n",
    "l = []\n",
    "for i in inp:\n",
    "    l.append(int(i))\n",
    "print(l)"
   ]
  },
  {
   "cell_type": "code",
   "execution_count": 131,
   "id": "fc8fdc01-2b2d-43c3-8f5a-05972b7932a1",
   "metadata": {},
   "outputs": [
    {
     "data": {
      "text/plain": [
       "[1, 2, 3, 4, 5]"
      ]
     },
     "execution_count": 131,
     "metadata": {},
     "output_type": "execute_result"
    }
   ],
   "source": [
    "l"
   ]
  },
  {
   "cell_type": "code",
   "execution_count": null,
   "id": "fefa4a77-18a2-4d73-8181-322c925d70e9",
   "metadata": {},
   "outputs": [],
   "source": []
  },
  {
   "cell_type": "code",
   "execution_count": 132,
   "id": "1180cb5e-1011-43f2-9720-ea4eb23213f8",
   "metadata": {},
   "outputs": [
    {
     "data": {
      "text/plain": [
       "5"
      ]
     },
     "execution_count": 132,
     "metadata": {},
     "output_type": "execute_result"
    }
   ],
   "source": [
    "l[-1]"
   ]
  },
  {
   "cell_type": "code",
   "execution_count": 133,
   "id": "0ec716c8-cc21-4a19-abe7-c9f53358bda8",
   "metadata": {},
   "outputs": [
    {
     "data": {
      "text/plain": [
       "[1, 2, 3, 4]"
      ]
     },
     "execution_count": 133,
     "metadata": {},
     "output_type": "execute_result"
    }
   ],
   "source": [
    "l[0:-1]"
   ]
  },
  {
   "cell_type": "code",
   "execution_count": 137,
   "id": "fc71eead-7e76-44f1-9ea1-59e67d244499",
   "metadata": {},
   "outputs": [],
   "source": [
    "ans = [l[-1]] + l[0 : -1]"
   ]
  },
  {
   "cell_type": "code",
   "execution_count": 138,
   "id": "94514641-ee20-4c42-bd4f-110cdd4c20f6",
   "metadata": {},
   "outputs": [
    {
     "data": {
      "text/plain": [
       "[5, 1, 2, 3, 4]"
      ]
     },
     "execution_count": 138,
     "metadata": {},
     "output_type": "execute_result"
    }
   ],
   "source": [
    "ans"
   ]
  },
  {
   "cell_type": "code",
   "execution_count": 136,
   "id": "496cfb85-4ccc-4cd2-94cb-11424f477a9a",
   "metadata": {},
   "outputs": [
    {
     "data": {
      "text/plain": [
       "[1, 2, 3, 4]"
      ]
     },
     "execution_count": 136,
     "metadata": {},
     "output_type": "execute_result"
    }
   ],
   "source": [
    "[1, 2, 3] + [4]"
   ]
  },
  {
   "cell_type": "code",
   "execution_count": null,
   "id": "87ac600f-f7e2-4adc-8ec7-17f882ccdecf",
   "metadata": {},
   "outputs": [],
   "source": []
  },
  {
   "cell_type": "code",
   "execution_count": null,
   "id": "749a32b3-8269-46a3-956b-17105e8ef81c",
   "metadata": {},
   "outputs": [],
   "source": []
  },
  {
   "cell_type": "code",
   "execution_count": 139,
   "id": "287e4059-cfa3-4840-b3c5-f666ef4edeb1",
   "metadata": {},
   "outputs": [],
   "source": [
    "# Final code"
   ]
  },
  {
   "cell_type": "code",
   "execution_count": 140,
   "id": "fc95ae3a-c72e-419f-abf8-ea75d7cf05d2",
   "metadata": {},
   "outputs": [
    {
     "name": "stdin",
     "output_type": "stream",
     "text": [
      " 1 2 3 4 5\n"
     ]
    },
    {
     "name": "stdout",
     "output_type": "stream",
     "text": [
      "[5, 1, 2, 3, 4]\n"
     ]
    }
   ],
   "source": [
    "l = input().split()\n",
    "\n",
    "new = []\n",
    "for i in l:\n",
    "    new.append(int(i))\n",
    "\n",
    "ans = [new[-1]] + new[ : -1]\n",
    "print(ans)"
   ]
  },
  {
   "cell_type": "code",
   "execution_count": null,
   "id": "58e60e4d-ebdd-4791-8cc5-b62c2bc1df00",
   "metadata": {},
   "outputs": [],
   "source": []
  },
  {
   "cell_type": "code",
   "execution_count": 143,
   "id": "874e1956-d709-44f6-9ddc-823190484021",
   "metadata": {},
   "outputs": [],
   "source": [
    "def rotate():\n",
    "    l = input().split()\n",
    "\n",
    "    new = []\n",
    "    for i in l:\n",
    "        new.append(int(i))\n",
    "\n",
    "    ans = [new[-1]] + new[ : -1]\n",
    "    return ans\n",
    "# If we want to print this list, just use a loop here"
   ]
  },
  {
   "cell_type": "code",
   "execution_count": null,
   "id": "99a89375-0270-486d-b0ff-e6f617debae7",
   "metadata": {},
   "outputs": [],
   "source": []
  },
  {
   "cell_type": "code",
   "execution_count": 142,
   "id": "9852b105-206f-4f3d-bcbf-e3f5827e80c7",
   "metadata": {},
   "outputs": [
    {
     "name": "stdin",
     "output_type": "stream",
     "text": [
      " 1 3 2 4 5\n"
     ]
    },
    {
     "data": {
      "text/plain": [
       "[5, 1, 3, 2, 4]"
      ]
     },
     "execution_count": 142,
     "metadata": {},
     "output_type": "execute_result"
    }
   ],
   "source": [
    "rotate()"
   ]
  },
  {
   "cell_type": "code",
   "execution_count": null,
   "id": "1a157096-7474-4da9-b27f-242028588a4a",
   "metadata": {},
   "outputs": [],
   "source": []
  },
  {
   "cell_type": "code",
   "execution_count": null,
   "id": "e76bf21a-c5e9-4ecf-8f35-2042637bf3b5",
   "metadata": {},
   "outputs": [],
   "source": []
  },
  {
   "cell_type": "code",
   "execution_count": null,
   "id": "0e297a96-02ac-4cd6-8219-be6d2194131d",
   "metadata": {},
   "outputs": [],
   "source": []
  },
  {
   "cell_type": "code",
   "execution_count": 144,
   "id": "eacd7462-9f9a-4931-864a-691b74f09f7d",
   "metadata": {},
   "outputs": [],
   "source": [
    "# Doubts"
   ]
  },
  {
   "cell_type": "code",
   "execution_count": null,
   "id": "2071d93f-fc6d-44d6-a6a4-d3b17a95e5f8",
   "metadata": {},
   "outputs": [],
   "source": []
  },
  {
   "cell_type": "code",
   "execution_count": null,
   "id": "a4aa826c-8835-437f-9c6d-1977b6d3f5ab",
   "metadata": {},
   "outputs": [],
   "source": []
  },
  {
   "cell_type": "code",
   "execution_count": null,
   "id": "25f6dcbb-989f-47ab-a48e-5b6b256689c8",
   "metadata": {},
   "outputs": [],
   "source": []
  },
  {
   "cell_type": "code",
   "execution_count": null,
   "id": "4b2e9385-142a-4b9e-af32-4289ef2f4e11",
   "metadata": {},
   "outputs": [],
   "source": []
  }
 ],
 "metadata": {
  "kernelspec": {
   "display_name": "Python 3 (ipykernel)",
   "language": "python",
   "name": "python3"
  },
  "language_info": {
   "codemirror_mode": {
    "name": "ipython",
    "version": 3
   },
   "file_extension": ".py",
   "mimetype": "text/x-python",
   "name": "python",
   "nbconvert_exporter": "python",
   "pygments_lexer": "ipython3",
   "version": "3.9.7"
  }
 },
 "nbformat": 4,
 "nbformat_minor": 5
}
