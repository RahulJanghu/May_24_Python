{
 "cells": [
  {
   "cell_type": "markdown",
   "id": "24c100a5-3af8-4bbf-8a04-8b92cac74301",
   "metadata": {},
   "source": [
    "## Control Statements\n",
    "- A Control statement is a Boolean expression that, if True, executes a piece of code."
   ]
  },
  {
   "cell_type": "code",
   "execution_count": 1,
   "id": "a17869ce-0dfe-4da2-8c41-0541a7754f9e",
   "metadata": {},
   "outputs": [],
   "source": [
    "# Weather proof code"
   ]
  },
  {
   "cell_type": "code",
   "execution_count": 2,
   "id": "bf360d39-fb7e-4cab-bf9b-20d8c5a6227c",
   "metadata": {},
   "outputs": [],
   "source": [
    "# If condition will be executed only and only if condition is True"
   ]
  },
  {
   "cell_type": "code",
   "execution_count": 5,
   "id": "462b638d-4e0f-4107-a597-d58aac36ec93",
   "metadata": {},
   "outputs": [
    {
     "name": "stdin",
     "output_type": "stream",
     "text": [
      " Rainy\n"
     ]
    }
   ],
   "source": [
    "weather = input()\n",
    "\n",
    "if weather == 'rainy':\n",
    "    print(\"Turning ON the wipers\")"
   ]
  },
  {
   "cell_type": "code",
   "execution_count": null,
   "id": "59a8d0af-8cf8-4723-bb5a-00cd118cdfd9",
   "metadata": {},
   "outputs": [],
   "source": []
  },
  {
   "cell_type": "code",
   "execution_count": null,
   "id": "b0be112c-cf7a-4004-bca6-2517acfe09cd",
   "metadata": {},
   "outputs": [],
   "source": []
  },
  {
   "cell_type": "code",
   "execution_count": null,
   "id": "d1e0cea7-581e-4c55-bb97-b466cd1aa399",
   "metadata": {},
   "outputs": [],
   "source": []
  },
  {
   "cell_type": "markdown",
   "id": "0ea40c1d-d83d-40aa-a6fb-6b861b4ec29d",
   "metadata": {},
   "source": [
    "#### Rain sensing wiper problem:"
   ]
  },
  {
   "cell_type": "code",
   "execution_count": 7,
   "id": "08225f67-477e-4c9d-96c2-260d4ee063e6",
   "metadata": {},
   "outputs": [
    {
     "name": "stdin",
     "output_type": "stream",
     "text": [
      " sunny\n"
     ]
    },
    {
     "name": "stdout",
     "output_type": "stream",
     "text": [
      "Keeping them OFF\n"
     ]
    }
   ],
   "source": [
    "weather = input()\n",
    "\n",
    "if weather == 'rainy':\n",
    "    print(\"Turning ON the wipers\")\n",
    "else:\n",
    "    print(\"Keeping them OFF\")"
   ]
  },
  {
   "cell_type": "code",
   "execution_count": 8,
   "id": "341bd3ba-60c5-44e3-9874-1691c0e2a8a8",
   "metadata": {},
   "outputs": [],
   "source": [
    "# if True:\n",
    "#     Run these statements\n",
    "# else:\n",
    "#     Run these Statements\n",
    "\n",
    "# Run these always\n"
   ]
  },
  {
   "cell_type": "code",
   "execution_count": null,
   "id": "1e6cfdae-ec97-4e44-9b12-04a395e00bf2",
   "metadata": {},
   "outputs": [],
   "source": []
  },
  {
   "cell_type": "code",
   "execution_count": 9,
   "id": "3ffec103-6c81-461f-9406-8908b880665c",
   "metadata": {},
   "outputs": [
    {
     "name": "stdin",
     "output_type": "stream",
     "text": [
      " rainy\n"
     ]
    },
    {
     "name": "stdout",
     "output_type": "stream",
     "text": [
      "Turning ON the wipers\n",
      "Outside of if-else block\n"
     ]
    }
   ],
   "source": [
    "weather = input()\n",
    "\n",
    "if weather == 'rainy':\n",
    "    print(\"Turning ON the wipers\")\n",
    "else:\n",
    "    print(\"Keeping them OFF\")\n",
    "    \n",
    "print(\"Outside of if-else block\")"
   ]
  },
  {
   "cell_type": "code",
   "execution_count": null,
   "id": "e26acd0b-3032-412f-a62d-7f7a8b051834",
   "metadata": {},
   "outputs": [],
   "source": []
  },
  {
   "cell_type": "code",
   "execution_count": null,
   "id": "3ccdbc79-c6fe-478a-9eb7-2687944e9db3",
   "metadata": {},
   "outputs": [],
   "source": []
  },
  {
   "cell_type": "code",
   "execution_count": null,
   "id": "29721fa2-95ad-4cb2-96c3-6ee6837a2bd6",
   "metadata": {},
   "outputs": [],
   "source": []
  },
  {
   "cell_type": "markdown",
   "id": "753623a2-6523-4079-83be-f235d04e19a0",
   "metadata": {},
   "source": [
    "### Take a number as input and find if it is positive"
   ]
  },
  {
   "cell_type": "code",
   "execution_count": 12,
   "id": "ee497c29-af9b-4623-9ed5-4e37cda9d2cc",
   "metadata": {},
   "outputs": [
    {
     "name": "stdin",
     "output_type": "stream",
     "text": [
      " -12\n"
     ]
    },
    {
     "name": "stdout",
     "output_type": "stream",
     "text": [
      "-12  is negative number\n"
     ]
    }
   ],
   "source": [
    "num = int(input())\n",
    "\n",
    "if num < 0:\n",
    "    print(num, \" is negative number\")\n",
    "else:\n",
    "    print(num, \" is positive number\")"
   ]
  },
  {
   "cell_type": "code",
   "execution_count": null,
   "id": "72d83a2b-885d-40c0-9bdb-0d98e0c2a9b4",
   "metadata": {},
   "outputs": [],
   "source": []
  },
  {
   "cell_type": "code",
   "execution_count": null,
   "id": "4e6f60ba-0890-455d-8c98-3d3983b09c44",
   "metadata": {},
   "outputs": [],
   "source": []
  },
  {
   "cell_type": "code",
   "execution_count": null,
   "id": "4b5018d1-d0e1-4c7f-8634-37c08a08ace4",
   "metadata": {},
   "outputs": [],
   "source": []
  },
  {
   "cell_type": "markdown",
   "id": "3e1fc9e8-a39d-45c6-9556-8ae9aad2b597",
   "metadata": {},
   "source": [
    "#### Make a password validator"
   ]
  },
  {
   "cell_type": "code",
   "execution_count": 14,
   "id": "1cb6a7d5-1c8b-4859-a9ef-b943468d2877",
   "metadata": {},
   "outputs": [
    {
     "name": "stdin",
     "output_type": "stream",
     "text": [
      " rahul@123\n"
     ]
    },
    {
     "name": "stdout",
     "output_type": "stream",
     "text": [
      "Hey! You are logged in.\n"
     ]
    }
   ],
   "source": [
    "password = input()\n",
    "\n",
    "if password == 'rahul@123':\n",
    "    print(\"Hey! You are logged in.\")\n",
    "else:\n",
    "    print(\"Incorrect Password. Please try again\")"
   ]
  },
  {
   "cell_type": "code",
   "execution_count": null,
   "id": "dafed7f5-1309-43a3-bb62-04b31b6f1271",
   "metadata": {},
   "outputs": [],
   "source": []
  },
  {
   "cell_type": "code",
   "execution_count": null,
   "id": "9190ee4e-ab02-427c-bcca-c43d0e5aa53b",
   "metadata": {},
   "outputs": [],
   "source": []
  },
  {
   "cell_type": "code",
   "execution_count": null,
   "id": "36b9edea-df3c-451d-9ad1-6ea6e3003b9e",
   "metadata": {},
   "outputs": [],
   "source": []
  },
  {
   "cell_type": "markdown",
   "id": "e04146e1-8824-4b3b-8c8a-c1910497afd2",
   "metadata": {},
   "source": [
    "### Find max ? \n",
    "- num1 and num2. \n"
   ]
  },
  {
   "cell_type": "code",
   "execution_count": 16,
   "id": "1ae192c2-758f-4429-8a7d-632b5a8f7325",
   "metadata": {},
   "outputs": [
    {
     "name": "stdin",
     "output_type": "stream",
     "text": [
      " 2\n",
      " 5\n"
     ]
    },
    {
     "name": "stdout",
     "output_type": "stream",
     "text": [
      "5 is maximum\n"
     ]
    }
   ],
   "source": [
    "num1 = int(input())\n",
    "num2 = int(input())\n",
    "\n",
    "if num1 > num2:\n",
    "    print(num1, \"is maximum\")\n",
    "else:\n",
    "    print(num2, \"is maximum\")"
   ]
  },
  {
   "cell_type": "code",
   "execution_count": null,
   "id": "e8a42eca-656a-4dbd-9595-d1d226ffad83",
   "metadata": {},
   "outputs": [],
   "source": []
  },
  {
   "cell_type": "code",
   "execution_count": null,
   "id": "a1064279-1118-4462-bd77-fb79b89ce91f",
   "metadata": {},
   "outputs": [],
   "source": []
  },
  {
   "cell_type": "markdown",
   "id": "269bafab-d307-43a6-86d6-5a4f71a1cefc",
   "metadata": {},
   "source": [
    "### Take a number from user and check if it is even or odd"
   ]
  },
  {
   "cell_type": "code",
   "execution_count": 26,
   "id": "310dac75-4b8f-4aff-823b-f6ae05fbe6d9",
   "metadata": {},
   "outputs": [
    {
     "name": "stdin",
     "output_type": "stream",
     "text": [
      " 12342351417634182752\n"
     ]
    },
    {
     "name": "stdout",
     "output_type": "stream",
     "text": [
      "12342351417634182752 is even\n"
     ]
    }
   ],
   "source": [
    "num = int(input())\n",
    "\n",
    "if num % 2 == 0:\n",
    "    print(num, \"is even\")\n",
    "else:\n",
    "    print(num, \"is odd\")"
   ]
  },
  {
   "cell_type": "code",
   "execution_count": 23,
   "id": "9c63ddcc-1f25-4911-93fd-6ce7650d10ac",
   "metadata": {},
   "outputs": [
    {
     "data": {
      "text/plain": [
       "1"
      ]
     },
     "execution_count": 23,
     "metadata": {},
     "output_type": "execute_result"
    }
   ],
   "source": [
    "5 % 2"
   ]
  },
  {
   "cell_type": "code",
   "execution_count": null,
   "id": "f32cbed6-61b5-434d-832a-d28d192b8b5d",
   "metadata": {},
   "outputs": [],
   "source": []
  },
  {
   "cell_type": "code",
   "execution_count": null,
   "id": "27aa3e48-1f55-4297-8385-ea6c5f9cfa98",
   "metadata": {},
   "outputs": [],
   "source": []
  },
  {
   "cell_type": "markdown",
   "id": "b9af8095-cb45-40ce-80c3-99f47f15ce5d",
   "metadata": {},
   "source": [
    "### Question: ATM Dispatch\n",
    "- Only Rs. 500 and Rs. 200 notes are available.\n",
    "- Take an amount as input from user\n",
    "   - if amount is dischargeable, print(\"Discharging cash\")\n",
    "   - else, print(\"Denomination not available\")"
   ]
  },
  {
   "cell_type": "code",
   "execution_count": 30,
   "id": "30f187b1-84ee-484d-82ee-50bd6eb345b3",
   "metadata": {},
   "outputs": [
    {
     "name": "stdin",
     "output_type": "stream",
     "text": [
      " 1300\n"
     ]
    },
    {
     "name": "stdout",
     "output_type": "stream",
     "text": [
      "Denomination not available\n"
     ]
    }
   ],
   "source": [
    "amount = int(input())\n",
    "\n",
    "if amount % 500 == 0 or amount % 200 == 0:\n",
    "    print(\"Discharing the amount\")\n",
    "else:\n",
    "    print(\"Denomination not available\")"
   ]
  },
  {
   "cell_type": "code",
   "execution_count": null,
   "id": "e26b8f58-1685-4946-bd27-187e783a2f51",
   "metadata": {},
   "outputs": [],
   "source": []
  },
  {
   "cell_type": "code",
   "execution_count": null,
   "id": "53ef557a-6c5c-4f4c-8b92-773443678e2f",
   "metadata": {},
   "outputs": [],
   "source": []
  },
  {
   "cell_type": "code",
   "execution_count": null,
   "id": "782336cf-6979-46a3-a85e-b8354bff88e8",
   "metadata": {},
   "outputs": [],
   "source": []
  },
  {
   "cell_type": "markdown",
   "id": "ce7ccd74-b68e-423f-9bd9-0d491d7bd20a",
   "metadata": {},
   "source": [
    "### Nested if else"
   ]
  },
  {
   "cell_type": "code",
   "execution_count": 31,
   "id": "37ec2155-70e8-4c51-897a-5862917b59da",
   "metadata": {},
   "outputs": [],
   "source": [
    "# Designing traffic light\n",
    "# Red -> Please stop here\n",
    "# Green -> Groooom grrrooom\n",
    "# Orange -> Get ready"
   ]
  },
  {
   "cell_type": "code",
   "execution_count": null,
   "id": "ddaf7553-2dab-4ac8-99ea-bb9467b7f4b4",
   "metadata": {},
   "outputs": [],
   "source": []
  },
  {
   "cell_type": "code",
   "execution_count": 38,
   "id": "07184a28-54b7-46b7-a000-fcba8046d518",
   "metadata": {},
   "outputs": [
    {
     "name": "stdin",
     "output_type": "stream",
     "text": [
      " red\n"
     ]
    },
    {
     "name": "stdout",
     "output_type": "stream",
     "text": [
      "Please Stop! ✋ \n",
      "This is invalid response\n"
     ]
    }
   ],
   "source": [
    "color = input()\n",
    "\n",
    "if color == 'red':\n",
    "    print(\"Please Stop! ✋ \")\n",
    "if color == 'orange':\n",
    "    print(\"Please get ready.\")\n",
    "if color == 'green':\n",
    "    print(\"Grooom Groom\")\n",
    "else:\n",
    "    print(\"This is invalid response\")"
   ]
  },
  {
   "cell_type": "code",
   "execution_count": null,
   "id": "65bd94f4-6dfb-4db9-8d73-672271bc9ca0",
   "metadata": {},
   "outputs": [],
   "source": []
  },
  {
   "cell_type": "code",
   "execution_count": 43,
   "id": "b15f107d-9331-419f-a5ec-457ddb665162",
   "metadata": {},
   "outputs": [
    {
     "name": "stdin",
     "output_type": "stream",
     "text": [
      " Black\n"
     ]
    },
    {
     "name": "stdout",
     "output_type": "stream",
     "text": [
      "Invalid color\n"
     ]
    }
   ],
   "source": [
    "color = input()\n",
    "\n",
    "if color == 'red':\n",
    "    print(\"Please Stop! ✋ \")\n",
    "else:\n",
    "    if color == 'orange':\n",
    "        print(\"Please get ready\")\n",
    "    else:\n",
    "        if color == \"green\":\n",
    "            print(\"Grroom Grroom\")\n",
    "        else:\n",
    "            print(\"Invalid color\")"
   ]
  },
  {
   "cell_type": "code",
   "execution_count": null,
   "id": "3dd74721-9313-4415-8f89-5d6e94e73cd1",
   "metadata": {},
   "outputs": [],
   "source": []
  },
  {
   "cell_type": "code",
   "execution_count": 44,
   "id": "53abfbe0-5acd-4904-843d-312c0ec242ae",
   "metadata": {},
   "outputs": [],
   "source": [
    "# Quiz"
   ]
  },
  {
   "cell_type": "code",
   "execution_count": 45,
   "id": "d6101b79-96b9-4876-8982-1f7aa64c3091",
   "metadata": {},
   "outputs": [
    {
     "name": "stdout",
     "output_type": "stream",
     "text": [
      "World\n"
     ]
    }
   ],
   "source": [
    "x = 5\n",
    "if x > 10:\n",
    "    print(\"Hello\")\n",
    "else:\n",
    "    print(\"World\")"
   ]
  },
  {
   "cell_type": "code",
   "execution_count": null,
   "id": "dbc10785-e82b-4063-8d6b-e45c38db3bf3",
   "metadata": {},
   "outputs": [],
   "source": []
  },
  {
   "cell_type": "code",
   "execution_count": 46,
   "id": "03744570-9cc2-4f5b-8088-7cbe8ec9a793",
   "metadata": {},
   "outputs": [
    {
     "name": "stdout",
     "output_type": "stream",
     "text": [
      "False\n"
     ]
    }
   ],
   "source": [
    "x = 0\n",
    "if x:\n",
    "    print(\"True\")\n",
    "else:\n",
    "    print(\"False\")"
   ]
  },
  {
   "cell_type": "code",
   "execution_count": 47,
   "id": "521cc454-78a2-4ac8-bcd8-353c389d0822",
   "metadata": {},
   "outputs": [
    {
     "name": "stdout",
     "output_type": "stream",
     "text": [
      "hahaha\n"
     ]
    }
   ],
   "source": [
    "if True:\n",
    "    print(\"hahaha\")\n",
    "else:\n",
    "    print(\"Ohh noo\")"
   ]
  },
  {
   "cell_type": "code",
   "execution_count": null,
   "id": "1841b5bd-3371-4769-b9b7-df22732862e0",
   "metadata": {},
   "outputs": [],
   "source": []
  },
  {
   "cell_type": "code",
   "execution_count": null,
   "id": "2113f73b-85c8-49f9-80f9-3a9dfe243d65",
   "metadata": {},
   "outputs": [],
   "source": []
  },
  {
   "cell_type": "code",
   "execution_count": null,
   "id": "7a08c54c-5d3b-4b3d-ab23-15df3a0ff88d",
   "metadata": {},
   "outputs": [],
   "source": []
  },
  {
   "cell_type": "markdown",
   "id": "44034acb-380c-40a2-be4d-c31103fc64af",
   "metadata": {},
   "source": [
    "### Elif "
   ]
  },
  {
   "cell_type": "code",
   "execution_count": 48,
   "id": "b0d48d37-f6e1-4bb5-9997-93a88f2580e7",
   "metadata": {},
   "outputs": [],
   "source": [
    "# if condition1:\n",
    "#     this\n",
    "# elif condition2:\n",
    "#     this\n",
    "# elif condition3:\n",
    "#     this\n",
    "# else:\n",
    "#     this"
   ]
  },
  {
   "cell_type": "code",
   "execution_count": null,
   "id": "53c2c49a-f944-48ac-a402-9d21fe0ebf25",
   "metadata": {},
   "outputs": [],
   "source": []
  },
  {
   "cell_type": "code",
   "execution_count": 52,
   "id": "42330439-fb37-4522-8553-d11d9b6e1584",
   "metadata": {},
   "outputs": [
    {
     "name": "stdin",
     "output_type": "stream",
     "text": [
      " Black\n"
     ]
    },
    {
     "name": "stdout",
     "output_type": "stream",
     "text": [
      "Invalid color\n"
     ]
    }
   ],
   "source": [
    "color = input()\n",
    "\n",
    "if color == 'red':\n",
    "    print(\"Please Stop! ✋ \")\n",
    "elif color == 'orange':\n",
    "    print(\"Please get ready\")\n",
    "elif color == \"green\":\n",
    "    print(\"Grroom Grroom\")\n",
    "else:\n",
    "    print(\"Invalid color\")"
   ]
  },
  {
   "cell_type": "code",
   "execution_count": null,
   "id": "c51a3437-f6ab-4be6-9eb9-7d0b09ef1c1f",
   "metadata": {},
   "outputs": [],
   "source": []
  },
  {
   "cell_type": "code",
   "execution_count": 53,
   "id": "88072aac-e62e-48f9-af59-fc3a2a5e5cb5",
   "metadata": {},
   "outputs": [],
   "source": [
    "# Quiz"
   ]
  },
  {
   "cell_type": "code",
   "execution_count": 55,
   "id": "2c656234-ecbc-4edb-8a25-166516805afb",
   "metadata": {},
   "outputs": [
    {
     "name": "stdout",
     "output_type": "stream",
     "text": [
      "x is between 2 and 10\n"
     ]
    }
   ],
   "source": [
    "x = 5\n",
    "if x > 2:\n",
    "    if x < 10:\n",
    "        print(\"x is between 2 and 10\")\n",
    "    else:\n",
    "        print(\"x is greater than or equal to 10\")\n",
    "else:\n",
    "    print(\"x is less than or equal to 2\")"
   ]
  },
  {
   "cell_type": "code",
   "execution_count": null,
   "id": "603e8099-e3e1-4d4d-8ec2-fd83bc4c59c1",
   "metadata": {},
   "outputs": [],
   "source": []
  },
  {
   "cell_type": "code",
   "execution_count": 58,
   "id": "a6ed7ffe-eb36-435d-aa8c-442173ef04ce",
   "metadata": {},
   "outputs": [
    {
     "name": "stdout",
     "output_type": "stream",
     "text": [
      "You can vote and drink\n"
     ]
    }
   ],
   "source": [
    "age = 29\n",
    "if age < 18:\n",
    "    print(\"You are not eligible to vote\")\n",
    "elif age >= 18 and age < 21:\n",
    "    print(\"You can vote but can't drink\")\n",
    "else:\n",
    "    print(\"You can vote and drink\")"
   ]
  },
  {
   "cell_type": "code",
   "execution_count": 59,
   "id": "385dfd04-9e81-4b29-b688-48c5735112fe",
   "metadata": {},
   "outputs": [
    {
     "name": "stdout",
     "output_type": "stream",
     "text": [
      "You can vote but can't drink\n"
     ]
    }
   ],
   "source": [
    "age = 25\n",
    "if age < 18:\n",
    "    print(\"You are not eligible to vote\")\n",
    "elif age >= 18 or age < 21:\n",
    "    print(\"You can vote but can't drink\")\n",
    "else:\n",
    "    print(\"You can vote and drink\")"
   ]
  },
  {
   "cell_type": "code",
   "execution_count": null,
   "id": "2ed1a824-0eb9-4c0a-81f2-1c40192171b7",
   "metadata": {},
   "outputs": [],
   "source": []
  },
  {
   "cell_type": "code",
   "execution_count": null,
   "id": "76e49539-3368-430b-8bfb-6b6e9df89116",
   "metadata": {},
   "outputs": [],
   "source": []
  },
  {
   "cell_type": "code",
   "execution_count": null,
   "id": "cb30d6d0-498b-4043-a1f1-fe5e64fc6a66",
   "metadata": {},
   "outputs": [],
   "source": []
  },
  {
   "cell_type": "markdown",
   "id": "efcf1a5a-2a81-49b0-850e-5f294c644beb",
   "metadata": {},
   "source": [
    "#### Fizz Fuzz: Write a program that takes n as input and does the following:\n",
    "- If n is a multiple of 3 print Fizz\n",
    "- If n is a multiple of 5 print Fuzz\n",
    "- If n is multiple of both 5 and 3 then print FizzFuzz"
   ]
  },
  {
   "cell_type": "code",
   "execution_count": 68,
   "id": "e0abb6de-682e-4ada-8b86-d57ee3462cf8",
   "metadata": {},
   "outputs": [
    {
     "name": "stdin",
     "output_type": "stream",
     "text": [
      " 15\n"
     ]
    },
    {
     "name": "stdout",
     "output_type": "stream",
     "text": [
      "Fizz\n"
     ]
    }
   ],
   "source": [
    "n = int(input())\n",
    "\n",
    "if n % 3 == 0:\n",
    "    print(\"Fizz\")\n",
    "elif n % 5 == 0:\n",
    "    print(\"Fuzz\")\n",
    "elif n % 5 == 0 and n % 3 == 0:\n",
    "    print(\"FizzFuzz\")"
   ]
  },
  {
   "cell_type": "code",
   "execution_count": null,
   "id": "b3541f58-ced5-48dd-95df-093e968d22e3",
   "metadata": {},
   "outputs": [],
   "source": []
  },
  {
   "cell_type": "code",
   "execution_count": 69,
   "id": "a40e021c-5a34-4bc3-b517-8c3d993f5592",
   "metadata": {},
   "outputs": [
    {
     "name": "stdin",
     "output_type": "stream",
     "text": [
      " 15\n"
     ]
    },
    {
     "name": "stdout",
     "output_type": "stream",
     "text": [
      "FizzFuzz\n"
     ]
    }
   ],
   "source": [
    "n = int(input())\n",
    "\n",
    "if n % 5 == 0 and n % 3 == 0:\n",
    "    print(\"FizzFuzz\")\n",
    "elif n % 5 == 0:\n",
    "    print(\"Fuzz\")\n",
    "elif n % 3 == 0:\n",
    "    print(\"Fizz\")"
   ]
  },
  {
   "cell_type": "code",
   "execution_count": null,
   "id": "2b569ee8-becf-4305-9a23-35d526eba8cd",
   "metadata": {},
   "outputs": [],
   "source": []
  },
  {
   "cell_type": "code",
   "execution_count": null,
   "id": "453da166-ca3d-46ae-b3d8-464054873538",
   "metadata": {},
   "outputs": [],
   "source": []
  },
  {
   "cell_type": "code",
   "execution_count": 70,
   "id": "1d4e9d80-be21-40e7-b332-9b885eb93a6f",
   "metadata": {},
   "outputs": [],
   "source": [
    "## HW"
   ]
  },
  {
   "cell_type": "markdown",
   "id": "c7dff093-e793-490f-9648-e3e4a6e095b3",
   "metadata": {},
   "source": [
    "#### Challenge\n",
    "A bartender is trying to determine whether he should serve drinks to someone. He only serves drinks to people 18 and older and when he is not on break. Given the person's age, and whether the break time is in session."
   ]
  },
  {
   "cell_type": "code",
   "execution_count": null,
   "id": "4f0b6386-f5b7-4a16-afab-d0b679cf5864",
   "metadata": {},
   "outputs": [],
   "source": []
  },
  {
   "cell_type": "code",
   "execution_count": null,
   "id": "208fcad1-a1e9-4829-8cbb-801571ae2f82",
   "metadata": {},
   "outputs": [],
   "source": []
  },
  {
   "cell_type": "code",
   "execution_count": null,
   "id": "a588a15d-9f22-441c-b13c-35394dc4c542",
   "metadata": {},
   "outputs": [],
   "source": []
  },
  {
   "cell_type": "code",
   "execution_count": null,
   "id": "70fc44a1-ea24-423a-9c46-b1804991b505",
   "metadata": {},
   "outputs": [],
   "source": []
  },
  {
   "cell_type": "code",
   "execution_count": null,
   "id": "e7958a6e-0948-4950-9494-6e644806ca9d",
   "metadata": {},
   "outputs": [],
   "source": []
  },
  {
   "cell_type": "code",
   "execution_count": null,
   "id": "41713fcb-72b2-4d99-854f-61b16a25a94e",
   "metadata": {},
   "outputs": [],
   "source": []
  }
 ],
 "metadata": {
  "kernelspec": {
   "display_name": "Python 3 (ipykernel)",
   "language": "python",
   "name": "python3"
  },
  "language_info": {
   "codemirror_mode": {
    "name": "ipython",
    "version": 3
   },
   "file_extension": ".py",
   "mimetype": "text/x-python",
   "name": "python",
   "nbconvert_exporter": "python",
   "pygments_lexer": "ipython3",
   "version": "3.9.7"
  }
 },
 "nbformat": 4,
 "nbformat_minor": 5
}
