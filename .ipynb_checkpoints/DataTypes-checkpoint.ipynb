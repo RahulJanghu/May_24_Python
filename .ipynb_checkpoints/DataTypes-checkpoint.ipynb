{
 "cells": [
  {
   "cell_type": "markdown",
   "id": "ac46f712-bcb9-4703-8522-a76fa7670d5e",
   "metadata": {},
   "source": [
    "## Data types in Python\n",
    "- Integers\n",
    "- Float\n",
    "- Strings\n",
    "- Bool\n",
    "- None\n",
    "\n",
    "Check Data type"
   ]
  },
  {
   "cell_type": "code",
   "execution_count": 1,
   "id": "812f9d68-44ee-487d-8124-6f2666ea87ee",
   "metadata": {},
   "outputs": [
    {
     "name": "stdout",
     "output_type": "stream",
     "text": [
      "10\n"
     ]
    }
   ],
   "source": [
    "print(10)"
   ]
  },
  {
   "cell_type": "code",
   "execution_count": 2,
   "id": "a4e3a006-84da-4ec1-abd8-bea8be9252de",
   "metadata": {},
   "outputs": [
    {
     "name": "stdout",
     "output_type": "stream",
     "text": [
      "10\n"
     ]
    }
   ],
   "source": [
    "print(\"10\")"
   ]
  },
  {
   "cell_type": "code",
   "execution_count": 3,
   "id": "90cc6b3d-648f-44d5-93b3-f48cec3589ed",
   "metadata": {},
   "outputs": [
    {
     "name": "stdout",
     "output_type": "stream",
     "text": [
      "Hello World\n"
     ]
    }
   ],
   "source": [
    "print(\"Hello World\")"
   ]
  },
  {
   "cell_type": "code",
   "execution_count": 4,
   "id": "3b2f8e33-f319-4f86-99ed-9466f5c014e2",
   "metadata": {},
   "outputs": [
    {
     "name": "stdout",
     "output_type": "stream",
     "text": [
      "10 + 5\n"
     ]
    }
   ],
   "source": [
    "print(\"10 + 5\")"
   ]
  },
  {
   "cell_type": "code",
   "execution_count": null,
   "id": "2acd62dc-ead6-4db0-be82-c3ca6709013c",
   "metadata": {},
   "outputs": [],
   "source": []
  },
  {
   "cell_type": "code",
   "execution_count": null,
   "id": "c51a5aa3-89da-40f1-afcd-e66299d96f38",
   "metadata": {},
   "outputs": [],
   "source": []
  },
  {
   "cell_type": "markdown",
   "id": "8b90030d-c52c-4c4f-93f5-6bd0faf324a3",
   "metadata": {},
   "source": [
    "#### Integers\n",
    "- You can use an integer represent numeric data, and more specifically, whole numbers from negative infinity to infinity, like 4, 5, or -1."
   ]
  },
  {
   "cell_type": "code",
   "execution_count": 5,
   "id": "4f4210cd-f4cd-44cd-8aed-55b073f04dfd",
   "metadata": {},
   "outputs": [],
   "source": [
    "a = 123812749821412748971230812"
   ]
  },
  {
   "cell_type": "code",
   "execution_count": 6,
   "id": "c04d0484-81d4-433b-baa1-42d63d4976fe",
   "metadata": {},
   "outputs": [
    {
     "data": {
      "text/plain": [
       "int"
      ]
     },
     "execution_count": 6,
     "metadata": {},
     "output_type": "execute_result"
    }
   ],
   "source": [
    "type(a)"
   ]
  },
  {
   "cell_type": "code",
   "execution_count": 7,
   "id": "b077cacf-e2f0-40f2-992e-952036dc9eb6",
   "metadata": {},
   "outputs": [
    {
     "data": {
      "text/plain": [
       "int"
      ]
     },
     "execution_count": 7,
     "metadata": {},
     "output_type": "execute_result"
    }
   ],
   "source": [
    "type(-84129643981238612)"
   ]
  },
  {
   "cell_type": "code",
   "execution_count": null,
   "id": "659a2040-cf01-4e24-b337-c5a9cfe9c507",
   "metadata": {},
   "outputs": [],
   "source": []
  },
  {
   "cell_type": "code",
   "execution_count": null,
   "id": "82395858-31b1-491a-a43c-4734ecb382fe",
   "metadata": {},
   "outputs": [],
   "source": []
  },
  {
   "cell_type": "markdown",
   "id": "affcbfc4-ce2b-4ee5-a520-fcfc936198f2",
   "metadata": {},
   "source": [
    "#### Type function"
   ]
  },
  {
   "cell_type": "code",
   "execution_count": 8,
   "id": "742b6d78-058f-46a7-96dd-0d042c37930d",
   "metadata": {},
   "outputs": [],
   "source": [
    "# tells the data type of an object"
   ]
  },
  {
   "cell_type": "code",
   "execution_count": null,
   "id": "f41f26fa-932a-400c-8b4f-523153525c45",
   "metadata": {},
   "outputs": [],
   "source": []
  },
  {
   "cell_type": "code",
   "execution_count": null,
   "id": "dfc5f2a7-4b76-478d-9671-42037ec5ac0b",
   "metadata": {},
   "outputs": [],
   "source": []
  },
  {
   "cell_type": "markdown",
   "id": "b0653c67-53b5-436f-a1dd-15dd63f8cc21",
   "metadata": {},
   "source": [
    "#### Floats\n",
    "- \"Float\" stands for 'floating point number'. You can use it for rational numbers, usually ending with a decimal figure, such as 1.11 or 3.14."
   ]
  },
  {
   "cell_type": "code",
   "execution_count": 9,
   "id": "bb900338-edb0-4b41-be26-7e7281a87369",
   "metadata": {},
   "outputs": [
    {
     "data": {
      "text/plain": [
       "float"
      ]
     },
     "execution_count": 9,
     "metadata": {},
     "output_type": "execute_result"
    }
   ],
   "source": [
    "type(-21312831239.8126012630812803701239749812348912347017230127407104971490127401243012)"
   ]
  },
  {
   "cell_type": "code",
   "execution_count": 10,
   "id": "e300f772-19f2-44f0-9667-00dafb289150",
   "metadata": {},
   "outputs": [
    {
     "data": {
      "text/plain": [
       "float"
      ]
     },
     "execution_count": 10,
     "metadata": {},
     "output_type": "execute_result"
    }
   ],
   "source": [
    "type(0.0)"
   ]
  },
  {
   "cell_type": "code",
   "execution_count": 11,
   "id": "b70ba5be-76ee-45e5-8845-e802a754018a",
   "metadata": {},
   "outputs": [
    {
     "data": {
      "text/plain": [
       "float"
      ]
     },
     "execution_count": 11,
     "metadata": {},
     "output_type": "execute_result"
    }
   ],
   "source": [
    "type(5.0)"
   ]
  },
  {
   "cell_type": "code",
   "execution_count": null,
   "id": "dc3362ea-7d4c-42ec-8a70-1693928c243f",
   "metadata": {},
   "outputs": [],
   "source": []
  },
  {
   "cell_type": "code",
   "execution_count": null,
   "id": "53c67b1e-f203-44f7-a4dc-e55686c6023b",
   "metadata": {},
   "outputs": [],
   "source": []
  },
  {
   "cell_type": "markdown",
   "id": "0b76e83f-a35b-4be0-9ce9-34c4a93755b1",
   "metadata": {},
   "source": [
    "#### Strings\n",
    "- Strings are collections of alphabets, words or other characters. In Python, you can create strings by enclosing a sequence of characters within a pair of single or double quotes. For example: 'cake', \"cookie\", etc."
   ]
  },
  {
   "cell_type": "code",
   "execution_count": 12,
   "id": "22f95b4e-fca1-401b-93f6-4b447ae5682a",
   "metadata": {},
   "outputs": [],
   "source": [
    "# Printing multiple strings"
   ]
  },
  {
   "cell_type": "code",
   "execution_count": 13,
   "id": "438bd52c-3a9c-49be-86b8-2ddfec497aba",
   "metadata": {},
   "outputs": [
    {
     "data": {
      "text/plain": [
       "str"
      ]
     },
     "execution_count": 13,
     "metadata": {},
     "output_type": "execute_result"
    }
   ],
   "source": [
    "type('rhaudjilq#$%()3')"
   ]
  },
  {
   "cell_type": "code",
   "execution_count": 14,
   "id": "76877d89-5d79-4e9d-a96c-b4a38e5bd3f5",
   "metadata": {},
   "outputs": [
    {
     "data": {
      "text/plain": [
       "str"
      ]
     },
     "execution_count": 14,
     "metadata": {},
     "output_type": "execute_result"
    }
   ],
   "source": [
    "type(\"khliahydsio897123h12!@!@~!~@@#\")"
   ]
  },
  {
   "cell_type": "code",
   "execution_count": 15,
   "id": "e5ad8fa3-f773-451f-aa9e-1ae54d5f0da3",
   "metadata": {},
   "outputs": [
    {
     "data": {
      "text/plain": [
       "str"
      ]
     },
     "execution_count": 15,
     "metadata": {},
     "output_type": "execute_result"
    }
   ],
   "source": [
    "type(\"用中文\")"
   ]
  },
  {
   "cell_type": "code",
   "execution_count": 16,
   "id": "26d62428-9ba0-45be-8831-6e2fa50f2237",
   "metadata": {},
   "outputs": [
    {
     "name": "stdout",
     "output_type": "stream",
     "text": [
      "Rahul\n"
     ]
    }
   ],
   "source": [
    "print(\"Rahul\")"
   ]
  },
  {
   "cell_type": "code",
   "execution_count": 18,
   "id": "3137a3dc-defa-4f7c-9edf-5057b18157bd",
   "metadata": {},
   "outputs": [
    {
     "name": "stdout",
     "output_type": "stream",
     "text": [
      "\"Rahul\"\n"
     ]
    }
   ],
   "source": [
    "print('\"Rahul\"')"
   ]
  },
  {
   "cell_type": "code",
   "execution_count": 22,
   "id": "e19fbf4c-750a-4a77-967f-f855eeb207b8",
   "metadata": {},
   "outputs": [],
   "source": [
    "s = '''\n",
    "This \n",
    "is \n",
    "a multiline \n",
    "string\n",
    "'''"
   ]
  },
  {
   "cell_type": "code",
   "execution_count": 23,
   "id": "919b79b4-6233-4ac2-906c-9877ea1af525",
   "metadata": {},
   "outputs": [
    {
     "name": "stdout",
     "output_type": "stream",
     "text": [
      "\n",
      "This \n",
      "is \n",
      "a multiline \n",
      "string\n",
      "\n"
     ]
    }
   ],
   "source": [
    "print(s)"
   ]
  },
  {
   "cell_type": "code",
   "execution_count": null,
   "id": "dfd3bff0-7b62-4755-b2cb-8ed489c60271",
   "metadata": {},
   "outputs": [],
   "source": []
  },
  {
   "cell_type": "code",
   "execution_count": 24,
   "id": "349c8d98-5a43-43d8-a664-059485898db4",
   "metadata": {},
   "outputs": [],
   "source": [
    "# Quiz"
   ]
  },
  {
   "cell_type": "code",
   "execution_count": null,
   "id": "bb06c7c7-5996-44d6-811b-51e207872357",
   "metadata": {},
   "outputs": [],
   "source": []
  },
  {
   "cell_type": "code",
   "execution_count": null,
   "id": "955c2961-b23b-4269-be1c-5d0bbc6c31d3",
   "metadata": {},
   "outputs": [],
   "source": []
  },
  {
   "cell_type": "code",
   "execution_count": null,
   "id": "f2685aea-653f-4ee3-8d90-95380bd0fb7f",
   "metadata": {},
   "outputs": [],
   "source": []
  },
  {
   "cell_type": "markdown",
   "id": "8e8b6566-d6d7-403a-b282-da06908daa63",
   "metadata": {},
   "source": [
    "#### Boolean\n",
    "- This built-in data type that can take up the values: True and False, which often makes them interchangeable with the integers 1 and 0. Booleans are useful in conditional and comparison expressions"
   ]
  },
  {
   "cell_type": "code",
   "execution_count": 25,
   "id": "2cbcbcba-1cab-4554-857c-192dc0728eab",
   "metadata": {},
   "outputs": [],
   "source": [
    "# True, False"
   ]
  },
  {
   "cell_type": "code",
   "execution_count": 26,
   "id": "be9fbc69-da72-4a57-ab9d-60f9608765ae",
   "metadata": {},
   "outputs": [],
   "source": [
    "# Quiz"
   ]
  },
  {
   "cell_type": "code",
   "execution_count": 27,
   "id": "a2b6639e-3c99-485a-b94c-68fdee71ccc6",
   "metadata": {},
   "outputs": [
    {
     "data": {
      "text/plain": [
       "bool"
      ]
     },
     "execution_count": 27,
     "metadata": {},
     "output_type": "execute_result"
    }
   ],
   "source": [
    "type(True)"
   ]
  },
  {
   "cell_type": "code",
   "execution_count": 32,
   "id": "d17e73ed-5595-4b01-a667-098f27536f9e",
   "metadata": {},
   "outputs": [
    {
     "data": {
      "text/plain": [
       "bool"
      ]
     },
     "execution_count": 32,
     "metadata": {},
     "output_type": "execute_result"
    }
   ],
   "source": [
    "# Type anything\n",
    "type(False)"
   ]
  },
  {
   "cell_type": "code",
   "execution_count": 45,
   "id": "b947e8b4-f5bc-40f1-bd90-ad2e954e551c",
   "metadata": {},
   "outputs": [
    {
     "name": "stdout",
     "output_type": "stream",
     "text": [
      "123812749821412748971230812\n",
      "123812749821412748971230812\n"
     ]
    },
    {
     "data": {
      "text/plain": [
       "123812749821412748971230812"
      ]
     },
     "execution_count": 45,
     "metadata": {},
     "output_type": "execute_result"
    }
   ],
   "source": [
    "a\n",
    "print(a)\n",
    "print(a)\n",
    "a"
   ]
  },
  {
   "cell_type": "code",
   "execution_count": null,
   "id": "8213b734-fd73-4b9e-9101-3ec89e43ce93",
   "metadata": {},
   "outputs": [],
   "source": []
  },
  {
   "cell_type": "code",
   "execution_count": 29,
   "id": "780b581e-b318-48ab-8db8-0a703fbf58aa",
   "metadata": {},
   "outputs": [],
   "source": [
    "# Python can differentiate between small case and upper case: CaseSensitive"
   ]
  },
  {
   "cell_type": "code",
   "execution_count": 31,
   "id": "6e0f07ce-f22c-42cd-8935-2776a884ab16",
   "metadata": {},
   "outputs": [],
   "source": [
    "# type(true)"
   ]
  },
  {
   "cell_type": "code",
   "execution_count": 38,
   "id": "6584af1a-dd54-4e77-bc9a-8399d0e3a9d8",
   "metadata": {},
   "outputs": [
    {
     "name": "stdout",
     "output_type": "stream",
     "text": [
      "<class 'bool'>\n"
     ]
    }
   ],
   "source": [
    "print(type(True))"
   ]
  },
  {
   "cell_type": "code",
   "execution_count": null,
   "id": "2aab17ee-c5e0-41b1-a7ae-ebb17d6d6ec2",
   "metadata": {},
   "outputs": [],
   "source": []
  },
  {
   "cell_type": "code",
   "execution_count": null,
   "id": "33a40bc4-3544-4e4c-bc01-568523faa3bc",
   "metadata": {},
   "outputs": [],
   "source": []
  },
  {
   "cell_type": "code",
   "execution_count": 33,
   "id": "631cd59e-2e8e-443c-933c-a74945921388",
   "metadata": {},
   "outputs": [],
   "source": [
    "# 1 is corresponding to True\n",
    "# 0 is corresponding to False"
   ]
  },
  {
   "cell_type": "code",
   "execution_count": null,
   "id": "c49129a2-fbff-43c0-b8ce-b79a552e5888",
   "metadata": {},
   "outputs": [],
   "source": []
  },
  {
   "cell_type": "markdown",
   "id": "544c7fed-6a2f-4939-8cff-f17b2087316e",
   "metadata": {},
   "source": [
    "## None Data Type\n",
    "- None data means no data or void"
   ]
  },
  {
   "cell_type": "code",
   "execution_count": 34,
   "id": "caf5b76a-0932-4a9c-a716-6c0cf165fb83",
   "metadata": {},
   "outputs": [
    {
     "data": {
      "text/plain": [
       "NoneType"
      ]
     },
     "execution_count": 34,
     "metadata": {},
     "output_type": "execute_result"
    }
   ],
   "source": [
    "type(None)"
   ]
  },
  {
   "cell_type": "code",
   "execution_count": null,
   "id": "8414f02d-440f-439a-bf93-d645b437e027",
   "metadata": {},
   "outputs": [],
   "source": []
  },
  {
   "cell_type": "code",
   "execution_count": null,
   "id": "1c0c5329-f864-4a13-b7e6-366c2c31f20d",
   "metadata": {},
   "outputs": [],
   "source": []
  },
  {
   "cell_type": "markdown",
   "id": "30370d30-f4db-4fad-a320-5e84223192b0",
   "metadata": {},
   "source": [
    "## Variables\n",
    "It's a type of variable's Rules for naming variables\n",
    "\n",
    "- Name must start from Alphabet(small or caps) or underscore(_)\n",
    "- They are case sensitive. It can differentiate between small and CAPS.\n",
    "- Name should not start with number\n",
    "- No special characters\n",
    "- It can be alphanumeric as well"
   ]
  },
  {
   "cell_type": "code",
   "execution_count": 46,
   "id": "9526b145-0242-4da1-9976-bdd210bd21fd",
   "metadata": {},
   "outputs": [],
   "source": [
    "# Variables are containers which holds some data"
   ]
  },
  {
   "cell_type": "code",
   "execution_count": 47,
   "id": "37390a81-4b87-407f-96ac-1703cda8cc14",
   "metadata": {},
   "outputs": [
    {
     "name": "stdout",
     "output_type": "stream",
     "text": [
      "180\n"
     ]
    }
   ],
   "source": [
    "apple = 100\n",
    "milk = 80\n",
    "\n",
    "total = apple + milk\n",
    "print(total)"
   ]
  },
  {
   "cell_type": "code",
   "execution_count": 48,
   "id": "c1b5c1dc-9afd-4292-af2d-3ffea4e6ef4e",
   "metadata": {},
   "outputs": [
    {
     "name": "stdout",
     "output_type": "stream",
     "text": [
      "100\n"
     ]
    }
   ],
   "source": [
    "print(apple)"
   ]
  },
  {
   "cell_type": "code",
   "execution_count": null,
   "id": "dc243825-6602-48d0-9ff3-a52895f0833c",
   "metadata": {},
   "outputs": [],
   "source": []
  },
  {
   "cell_type": "code",
   "execution_count": 50,
   "id": "a29353cb-b816-409d-91af-c189830be1ae",
   "metadata": {},
   "outputs": [],
   "source": [
    "_सेब = \"Rahul\""
   ]
  },
  {
   "cell_type": "code",
   "execution_count": 51,
   "id": "2b780785-df16-4d99-88a3-7e8669154806",
   "metadata": {},
   "outputs": [
    {
     "name": "stdout",
     "output_type": "stream",
     "text": [
      "Rahul\n"
     ]
    }
   ],
   "source": [
    "print(_सेब)"
   ]
  },
  {
   "cell_type": "code",
   "execution_count": null,
   "id": "98061892-8944-4d1b-8bb4-659f73d51615",
   "metadata": {},
   "outputs": [],
   "source": []
  },
  {
   "cell_type": "code",
   "execution_count": 52,
   "id": "d70cecaa-eda4-42d0-acb1-33e843c89c94",
   "metadata": {},
   "outputs": [],
   "source": [
    "roll_1 = \"Rahul\""
   ]
  },
  {
   "cell_type": "code",
   "execution_count": 53,
   "id": "b396a61d-8dc8-4975-8536-66351ff47850",
   "metadata": {},
   "outputs": [
    {
     "ename": "SyntaxError",
     "evalue": "invalid syntax (2642410230.py, line 1)",
     "output_type": "error",
     "traceback": [
      "\u001b[0;36m  File \u001b[0;32m\"/var/folders/t5/yhjgrjs907zfp250jyxtw54m0000gn/T/ipykernel_3373/2642410230.py\"\u001b[0;36m, line \u001b[0;32m1\u001b[0m\n\u001b[0;31m    1roll = \"Rahul\"\u001b[0m\n\u001b[0m     ^\u001b[0m\n\u001b[0;31mSyntaxError\u001b[0m\u001b[0;31m:\u001b[0m invalid syntax\n"
     ]
    }
   ],
   "source": [
    "1roll = \"Rahul\""
   ]
  },
  {
   "cell_type": "code",
   "execution_count": 54,
   "id": "943dd475-4fdf-49d1-b443-95c63ff87595",
   "metadata": {},
   "outputs": [],
   "source": [
    "_aba = \"Rahul\""
   ]
  },
  {
   "cell_type": "code",
   "execution_count": 55,
   "id": "e412d3d5-403f-4598-a6a4-5be6cb21a650",
   "metadata": {},
   "outputs": [
    {
     "ename": "SyntaxError",
     "evalue": "invalid syntax (2902227750.py, line 1)",
     "output_type": "error",
     "traceback": [
      "\u001b[0;36m  File \u001b[0;32m\"/var/folders/t5/yhjgrjs907zfp250jyxtw54m0000gn/T/ipykernel_3373/2902227750.py\"\u001b[0;36m, line \u001b[0;32m1\u001b[0m\n\u001b[0;31m    @abc= \"Rahul\"\u001b[0m\n\u001b[0m        ^\u001b[0m\n\u001b[0;31mSyntaxError\u001b[0m\u001b[0;31m:\u001b[0m invalid syntax\n"
     ]
    }
   ],
   "source": [
    "@abc= \"Rahul\""
   ]
  },
  {
   "cell_type": "code",
   "execution_count": 58,
   "id": "05aaf0e8-62e7-419f-9a9a-9909d4e57784",
   "metadata": {},
   "outputs": [],
   "source": [
    "name = \"Rahul\""
   ]
  },
  {
   "cell_type": "code",
   "execution_count": 60,
   "id": "f4d870af-0b6a-4d1a-8fba-12977d3c21ae",
   "metadata": {},
   "outputs": [],
   "source": [
    "hEllO = \"Rahul\""
   ]
  },
  {
   "cell_type": "code",
   "execution_count": null,
   "id": "9c0fc018-a5bd-492d-be3f-744fec3460b6",
   "metadata": {},
   "outputs": [],
   "source": []
  },
  {
   "cell_type": "code",
   "execution_count": 61,
   "id": "95a00e96-a4cc-4ea2-aa6a-50c49037fd9e",
   "metadata": {},
   "outputs": [],
   "source": [
    "# Variable holds latest value"
   ]
  },
  {
   "cell_type": "code",
   "execution_count": 62,
   "id": "9b88bea7-f3ee-4de9-bcf9-e316e0181e02",
   "metadata": {},
   "outputs": [],
   "source": [
    "# Quiz"
   ]
  },
  {
   "cell_type": "code",
   "execution_count": 65,
   "id": "894a8e4f-7e25-4f48-b546-4b77ba8b0eb9",
   "metadata": {},
   "outputs": [],
   "source": [
    "a = 10\n",
    "a = 30\n",
    "a = \"Rahul\"\n",
    "a = 7"
   ]
  },
  {
   "cell_type": "code",
   "execution_count": 66,
   "id": "f4799aa5-5944-4d4d-8dde-3744f56930cf",
   "metadata": {},
   "outputs": [
    {
     "name": "stdout",
     "output_type": "stream",
     "text": [
      "7\n"
     ]
    }
   ],
   "source": [
    "print(a)"
   ]
  },
  {
   "cell_type": "code",
   "execution_count": null,
   "id": "94fc22fb-c910-49cd-b349-a59a3c51f3a1",
   "metadata": {},
   "outputs": [],
   "source": []
  },
  {
   "cell_type": "code",
   "execution_count": null,
   "id": "d6e2dab4-b285-4e69-ac5e-633cbd134550",
   "metadata": {},
   "outputs": [],
   "source": []
  },
  {
   "cell_type": "code",
   "execution_count": null,
   "id": "df76f342-debd-429c-ac90-bf9dc13d9ccd",
   "metadata": {},
   "outputs": [],
   "source": []
  },
  {
   "cell_type": "code",
   "execution_count": null,
   "id": "a226607a-d4cb-408f-91bc-669e49140c1a",
   "metadata": {},
   "outputs": [],
   "source": []
  },
  {
   "cell_type": "markdown",
   "id": "cb852eef-bc51-486b-8b47-e21cb9af3fed",
   "metadata": {},
   "source": [
    "## Input function\n",
    "- It takes input from user i.e us\n",
    "- Typecasting of input function"
   ]
  },
  {
   "cell_type": "code",
   "execution_count": 69,
   "id": "2c18bc28-5ef4-4e9f-86b8-df3585647706",
   "metadata": {},
   "outputs": [
    {
     "name": "stdin",
     "output_type": "stream",
     "text": [
      " rahul\n"
     ]
    }
   ],
   "source": [
    "product = input()"
   ]
  },
  {
   "cell_type": "code",
   "execution_count": 68,
   "id": "e0034541-bb3f-4c10-9f86-97d3f3a05ef7",
   "metadata": {},
   "outputs": [
    {
     "name": "stdout",
     "output_type": "stream",
     "text": [
      "Iphone\n"
     ]
    }
   ],
   "source": [
    "print(product)"
   ]
  },
  {
   "cell_type": "code",
   "execution_count": null,
   "id": "ac851da6-c4c0-4982-9549-607d2d2405de",
   "metadata": {},
   "outputs": [],
   "source": []
  },
  {
   "cell_type": "markdown",
   "id": "2180723a-c8c9-4284-8276-411c33c46954",
   "metadata": {},
   "source": [
    "### Challenge: Take two user input and add them"
   ]
  },
  {
   "cell_type": "code",
   "execution_count": 71,
   "id": "29be4246-c2d6-440d-9731-02e79f288738",
   "metadata": {},
   "outputs": [
    {
     "name": "stdout",
     "output_type": "stream",
     "text": [
      "15\n"
     ]
    }
   ],
   "source": [
    "a = 10\n",
    "b = 5\n",
    "total = a + b\n",
    "print(total)"
   ]
  },
  {
   "cell_type": "code",
   "execution_count": 75,
   "id": "ed8a51f1-15a8-4404-82a9-98426df2e2fc",
   "metadata": {},
   "outputs": [
    {
     "name": "stdin",
     "output_type": "stream",
     "text": [
      " 10\n",
      " 5\n"
     ]
    },
    {
     "name": "stdout",
     "output_type": "stream",
     "text": [
      "105\n"
     ]
    }
   ],
   "source": [
    "a = input()\n",
    "b = input()\n",
    "total = a + b\n",
    "print(total)"
   ]
  },
  {
   "cell_type": "code",
   "execution_count": 76,
   "id": "30007ce0-ec89-464f-ab6b-070ec6ac207c",
   "metadata": {},
   "outputs": [
    {
     "data": {
      "text/plain": [
       "str"
      ]
     },
     "execution_count": 76,
     "metadata": {},
     "output_type": "execute_result"
    }
   ],
   "source": [
    "type(b)"
   ]
  },
  {
   "cell_type": "code",
   "execution_count": null,
   "id": "bdd938dc-cca8-495c-8d61-5fc61d2402c9",
   "metadata": {},
   "outputs": [],
   "source": []
  },
  {
   "cell_type": "code",
   "execution_count": null,
   "id": "db78d276-fa25-41b5-a6f5-07c9ede1ea44",
   "metadata": {},
   "outputs": [],
   "source": []
  },
  {
   "cell_type": "code",
   "execution_count": 77,
   "id": "eef67913-9fbd-4f3f-9373-fab590791da1",
   "metadata": {},
   "outputs": [],
   "source": [
    "# Default type of input function is string"
   ]
  },
  {
   "cell_type": "code",
   "execution_count": null,
   "id": "92e9798e-d2e2-4a2f-86c3-8bf8eda13b33",
   "metadata": {},
   "outputs": [],
   "source": []
  },
  {
   "cell_type": "code",
   "execution_count": 78,
   "id": "f3817b96-a2b8-4c09-878e-83861f0b1f1f",
   "metadata": {},
   "outputs": [],
   "source": [
    "# String concatenation"
   ]
  },
  {
   "cell_type": "code",
   "execution_count": 79,
   "id": "e163b738-785a-4a44-98ef-4e010753159c",
   "metadata": {},
   "outputs": [],
   "source": [
    "# String addition is known as string concatenation"
   ]
  },
  {
   "cell_type": "code",
   "execution_count": 82,
   "id": "bd76ca82-4290-4324-8295-0977e539fdd3",
   "metadata": {},
   "outputs": [
    {
     "name": "stdout",
     "output_type": "stream",
     "text": [
      "105\n"
     ]
    }
   ],
   "source": [
    "print(\"10\" + \"5\")"
   ]
  },
  {
   "cell_type": "code",
   "execution_count": 83,
   "id": "3890cc34-c958-4080-bc7b-cb0615cf6399",
   "metadata": {},
   "outputs": [
    {
     "name": "stdout",
     "output_type": "stream",
     "text": [
      "RahulJanghu\n"
     ]
    }
   ],
   "source": [
    "print(\"Rahul\" + \"Janghu\")"
   ]
  },
  {
   "cell_type": "code",
   "execution_count": null,
   "id": "7e0c7a8b-1d33-486a-94fc-6ac8eefa0d72",
   "metadata": {},
   "outputs": [],
   "source": []
  },
  {
   "cell_type": "code",
   "execution_count": null,
   "id": "4ae63b19-4df4-464e-a20e-f3c9897e1e0d",
   "metadata": {},
   "outputs": [],
   "source": []
  },
  {
   "cell_type": "code",
   "execution_count": null,
   "id": "045d3fcb-5d5b-4010-8a6a-8df39c01949a",
   "metadata": {},
   "outputs": [],
   "source": []
  },
  {
   "cell_type": "code",
   "execution_count": null,
   "id": "6fd24d3a-c0eb-4795-95fe-f2038f4a8013",
   "metadata": {},
   "outputs": [],
   "source": []
  },
  {
   "cell_type": "code",
   "execution_count": 84,
   "id": "b9d38daf-6529-4be1-a85d-7c002716874f",
   "metadata": {},
   "outputs": [],
   "source": [
    "# Typecasting or type conversion"
   ]
  },
  {
   "cell_type": "code",
   "execution_count": 85,
   "id": "e454b5f2-f09d-449e-8ed6-4b816f67e88e",
   "metadata": {},
   "outputs": [],
   "source": [
    "# The batman costume"
   ]
  },
  {
   "cell_type": "code",
   "execution_count": 88,
   "id": "c7c8cef3-fa3c-47ee-95c6-bde27a609070",
   "metadata": {},
   "outputs": [
    {
     "name": "stdout",
     "output_type": "stream",
     "text": [
      "5\n"
     ]
    }
   ],
   "source": [
    "print(b)"
   ]
  },
  {
   "cell_type": "code",
   "execution_count": 89,
   "id": "32a703f5-73b1-4025-b1e6-49e6027ad3d1",
   "metadata": {},
   "outputs": [],
   "source": [
    "a = int(a)"
   ]
  },
  {
   "cell_type": "code",
   "execution_count": 91,
   "id": "d5580f98-6261-4b71-b8f6-e2bb6153f5bc",
   "metadata": {},
   "outputs": [
    {
     "name": "stdout",
     "output_type": "stream",
     "text": [
      "<class 'int'>\n"
     ]
    }
   ],
   "source": [
    "print(type(a))"
   ]
  },
  {
   "cell_type": "code",
   "execution_count": 92,
   "id": "142cdf29-8ee7-4891-b50c-8141d5c49145",
   "metadata": {},
   "outputs": [],
   "source": [
    "b = int(b)"
   ]
  },
  {
   "cell_type": "code",
   "execution_count": 93,
   "id": "469efd92-889f-416d-b27f-a24739733199",
   "metadata": {},
   "outputs": [
    {
     "data": {
      "text/plain": [
       "int"
      ]
     },
     "execution_count": 93,
     "metadata": {},
     "output_type": "execute_result"
    }
   ],
   "source": [
    "type(b)"
   ]
  },
  {
   "cell_type": "code",
   "execution_count": 96,
   "id": "00db82c7-87d2-420b-af0f-e30eabf34fd4",
   "metadata": {},
   "outputs": [
    {
     "name": "stdout",
     "output_type": "stream",
     "text": [
      "15\n"
     ]
    }
   ],
   "source": [
    "total = a + b\n",
    "print(total)"
   ]
  },
  {
   "cell_type": "code",
   "execution_count": null,
   "id": "ff144f27-1d48-4939-b38f-aecf0c6e943f",
   "metadata": {},
   "outputs": [],
   "source": []
  },
  {
   "cell_type": "code",
   "execution_count": 111,
   "id": "6ff83370-794c-4001-8f46-a17cb0878a4b",
   "metadata": {},
   "outputs": [
    {
     "name": "stdin",
     "output_type": "stream",
     "text": [
      " 10\n",
      " 5\n"
     ]
    },
    {
     "name": "stdout",
     "output_type": "stream",
     "text": [
      "15\n"
     ]
    }
   ],
   "source": [
    "a = int(input())\n",
    "b = int(input())\n",
    "\n",
    "print(a + b)"
   ]
  },
  {
   "cell_type": "code",
   "execution_count": null,
   "id": "dfcda024-6752-4298-92a1-21d2e12b3985",
   "metadata": {},
   "outputs": [],
   "source": []
  },
  {
   "cell_type": "code",
   "execution_count": null,
   "id": "e4d55a14-14b1-4fb3-a5e3-5964271dd110",
   "metadata": {},
   "outputs": [],
   "source": []
  },
  {
   "cell_type": "code",
   "execution_count": null,
   "id": "0166162e-a9a4-4d74-8413-367b1e8e6d95",
   "metadata": {},
   "outputs": [],
   "source": []
  },
  {
   "cell_type": "code",
   "execution_count": null,
   "id": "e2402a04-f9c3-4b73-a3ec-3f4d705786ab",
   "metadata": {},
   "outputs": [],
   "source": []
  },
  {
   "cell_type": "code",
   "execution_count": null,
   "id": "c2e749a7-30fc-4113-8607-9dd14591ea64",
   "metadata": {},
   "outputs": [],
   "source": []
  },
  {
   "cell_type": "code",
   "execution_count": 97,
   "id": "5a55feb9-9ee8-4bf6-9cd3-4b4232f33590",
   "metadata": {},
   "outputs": [],
   "source": [
    "# Quiz"
   ]
  },
  {
   "cell_type": "code",
   "execution_count": 98,
   "id": "5eec9a90-b437-4139-8af4-5523b7ec709d",
   "metadata": {},
   "outputs": [
    {
     "ename": "NameError",
     "evalue": "name 'Print' is not defined",
     "output_type": "error",
     "traceback": [
      "\u001b[0;31m---------------------------------------------------------------------------\u001b[0m",
      "\u001b[0;31mNameError\u001b[0m                                 Traceback (most recent call last)",
      "\u001b[0;32m/var/folders/t5/yhjgrjs907zfp250jyxtw54m0000gn/T/ipykernel_3373/2075071090.py\u001b[0m in \u001b[0;36m<module>\u001b[0;34m\u001b[0m\n\u001b[0;32m----> 1\u001b[0;31m \u001b[0mPrint\u001b[0m\u001b[0;34m(\u001b[0m\u001b[0;34m\"10+10\"\u001b[0m\u001b[0;34m)\u001b[0m\u001b[0;34m\u001b[0m\u001b[0;34m\u001b[0m\u001b[0m\n\u001b[0m",
      "\u001b[0;31mNameError\u001b[0m: name 'Print' is not defined"
     ]
    }
   ],
   "source": [
    "Print(\"10+10\")"
   ]
  },
  {
   "cell_type": "code",
   "execution_count": null,
   "id": "f28c92d4-6be9-43cf-8ae7-0a473e18e183",
   "metadata": {},
   "outputs": [],
   "source": []
  },
  {
   "cell_type": "code",
   "execution_count": 99,
   "id": "1d23e52b-bb72-4cba-9259-bfcfe8e8dc33",
   "metadata": {},
   "outputs": [
    {
     "ename": "NameError",
     "evalue": "name 'Name' is not defined",
     "output_type": "error",
     "traceback": [
      "\u001b[0;31m---------------------------------------------------------------------------\u001b[0m",
      "\u001b[0;31mNameError\u001b[0m                                 Traceback (most recent call last)",
      "\u001b[0;32m/var/folders/t5/yhjgrjs907zfp250jyxtw54m0000gn/T/ipykernel_3373/776297575.py\u001b[0m in \u001b[0;36m<module>\u001b[0;34m\u001b[0m\n\u001b[1;32m      1\u001b[0m \u001b[0mname\u001b[0m \u001b[0;34m=\u001b[0m\u001b[0;34m'Sahil'\u001b[0m\u001b[0;34m\u001b[0m\u001b[0;34m\u001b[0m\u001b[0m\n\u001b[0;32m----> 2\u001b[0;31m \u001b[0mprint\u001b[0m\u001b[0;34m(\u001b[0m\u001b[0mName\u001b[0m\u001b[0;34m)\u001b[0m\u001b[0;34m\u001b[0m\u001b[0;34m\u001b[0m\u001b[0m\n\u001b[0m",
      "\u001b[0;31mNameError\u001b[0m: name 'Name' is not defined"
     ]
    }
   ],
   "source": [
    "name ='Sahil'\n",
    "print(Name)"
   ]
  },
  {
   "cell_type": "code",
   "execution_count": null,
   "id": "73224802-6aff-416a-a8d8-92c127f90269",
   "metadata": {},
   "outputs": [],
   "source": []
  },
  {
   "cell_type": "code",
   "execution_count": 100,
   "id": "a725448e-27e2-460f-b05a-faa5e79c013d",
   "metadata": {},
   "outputs": [
    {
     "name": "stdout",
     "output_type": "stream",
     "text": [
      "hello 5\n"
     ]
    }
   ],
   "source": [
    "x = 3\n",
    "y = 'hello'\n",
    "num = y\n",
    "y = 5\n",
    "print(num, y)"
   ]
  },
  {
   "cell_type": "code",
   "execution_count": 101,
   "id": "732b292e-7802-4280-8186-afe666bdefa2",
   "metadata": {},
   "outputs": [
    {
     "name": "stdout",
     "output_type": "stream",
     "text": [
      "5 5\n"
     ]
    }
   ],
   "source": [
    "x = 3\n",
    "y = 'hello'\n",
    "num = y\n",
    "y = 5\n",
    "num = y\n",
    "print(num, y)"
   ]
  },
  {
   "cell_type": "code",
   "execution_count": 102,
   "id": "9e58f361-ca0c-4542-ab87-332c27dc3664",
   "metadata": {},
   "outputs": [
    {
     "name": "stdout",
     "output_type": "stream",
     "text": [
      "22\n"
     ]
    }
   ],
   "source": [
    "print('2' + \"2\")"
   ]
  },
  {
   "cell_type": "code",
   "execution_count": null,
   "id": "2f2f16fc-783b-46a9-84b3-806e6cd58fcd",
   "metadata": {},
   "outputs": [],
   "source": []
  },
  {
   "cell_type": "markdown",
   "id": "140742b8-b8f9-41c9-a4a2-eedabae251b1",
   "metadata": {},
   "source": [
    "## Print Function\n",
    "- sep\n",
    "- end"
   ]
  },
  {
   "cell_type": "code",
   "execution_count": 104,
   "id": "f24f4015-3b49-4e7f-aec9-e273bad2fef5",
   "metadata": {},
   "outputs": [
    {
     "name": "stdout",
     "output_type": "stream",
     "text": [
      "Rahul Dhruv Hardik Rohit 123 123.323\n"
     ]
    }
   ],
   "source": [
    "print(\"Rahul\",\"Dhruv\",\"Hardik\",\"Rohit\",123,123.323)"
   ]
  },
  {
   "cell_type": "code",
   "execution_count": 110,
   "id": "34b9f205-5d29-4b95-af9b-606df322d7a5",
   "metadata": {},
   "outputs": [
    {
     "name": "stdout",
     "output_type": "stream",
     "text": [
      "Rahul K V Dhruv Hardik\n"
     ]
    }
   ],
   "source": [
    "print(\"Rahul\", \"K V\", \"Dhruv\", \"Hardik\")"
   ]
  },
  {
   "cell_type": "code",
   "execution_count": 107,
   "id": "3823c245-2800-4a27-b522-5e7948331a03",
   "metadata": {},
   "outputs": [],
   "source": [
    "# import this"
   ]
  },
  {
   "cell_type": "code",
   "execution_count": 108,
   "id": "9d08cc38-94fd-46d7-a992-54755ba8fbb3",
   "metadata": {},
   "outputs": [
    {
     "name": "stdout",
     "output_type": "stream",
     "text": [
      "Rahul\n",
      "Dhruv\n",
      "K V\n"
     ]
    }
   ],
   "source": [
    "print(\"Rahul\")\n",
    "print(\"Dhruv\")\n",
    "print(\"K V\")"
   ]
  },
  {
   "cell_type": "code",
   "execution_count": null,
   "id": "b67d543c-475c-4bfd-bd56-af4f99d3bafb",
   "metadata": {},
   "outputs": [],
   "source": []
  },
  {
   "cell_type": "code",
   "execution_count": null,
   "id": "ed463a84-6ab2-4684-856c-76316cd573ed",
   "metadata": {},
   "outputs": [],
   "source": []
  },
  {
   "cell_type": "code",
   "execution_count": 112,
   "id": "25f1f00b-e3e2-4074-890d-3ceb83320a99",
   "metadata": {},
   "outputs": [],
   "source": [
    "# Doubts"
   ]
  },
  {
   "cell_type": "code",
   "execution_count": 115,
   "id": "131c3709-b635-4231-a1dd-0d413221fff5",
   "metadata": {},
   "outputs": [],
   "source": [
    "a = 1 + 3j"
   ]
  },
  {
   "cell_type": "code",
   "execution_count": 116,
   "id": "80b4b5e7-1bd7-4058-918d-b9e15e5f4ce1",
   "metadata": {},
   "outputs": [
    {
     "data": {
      "text/plain": [
       "complex"
      ]
     },
     "execution_count": 116,
     "metadata": {},
     "output_type": "execute_result"
    }
   ],
   "source": [
    "type(a)"
   ]
  },
  {
   "cell_type": "code",
   "execution_count": null,
   "id": "a36799ba-d766-4f76-a4bc-f082c75990bf",
   "metadata": {},
   "outputs": [],
   "source": []
  },
  {
   "cell_type": "code",
   "execution_count": null,
   "id": "224ed1f7-267e-4893-9e41-2fef237fcf36",
   "metadata": {},
   "outputs": [],
   "source": []
  },
  {
   "cell_type": "code",
   "execution_count": null,
   "id": "d189a760-bbdb-41d6-aefe-f0a9905d1caf",
   "metadata": {},
   "outputs": [],
   "source": []
  },
  {
   "cell_type": "code",
   "execution_count": null,
   "id": "f6c7b67c-9ce2-4769-bc70-3350f6190561",
   "metadata": {},
   "outputs": [],
   "source": []
  },
  {
   "cell_type": "code",
   "execution_count": null,
   "id": "0380d43f-4210-4d26-9d50-5121555f349b",
   "metadata": {},
   "outputs": [],
   "source": []
  }
 ],
 "metadata": {
  "kernelspec": {
   "display_name": "Python 3 (ipykernel)",
   "language": "python",
   "name": "python3"
  },
  "language_info": {
   "codemirror_mode": {
    "name": "ipython",
    "version": 3
   },
   "file_extension": ".py",
   "mimetype": "text/x-python",
   "name": "python",
   "nbconvert_exporter": "python",
   "pygments_lexer": "ipython3",
   "version": "3.9.7"
  }
 },
 "nbformat": 4,
 "nbformat_minor": 5
}
