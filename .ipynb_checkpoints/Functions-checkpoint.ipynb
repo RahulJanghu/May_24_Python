{
 "cells": [
  {
   "cell_type": "markdown",
   "id": "694bda23-c9a2-4139-b627-9ea1ad4e69e0",
   "metadata": {},
   "source": [
    "## Defining a function"
   ]
  },
  {
   "cell_type": "markdown",
   "id": "29d818b5-2604-4b03-b568-1182521e2a37",
   "metadata": {},
   "source": [
    "![image](../picture/Function.gif)"
   ]
  },
  {
   "cell_type": "code",
   "execution_count": 1,
   "id": "e75fa6ed-bd02-4193-9593-d010fb979491",
   "metadata": {},
   "outputs": [],
   "source": [
    "# some program"
   ]
  },
  {
   "cell_type": "code",
   "execution_count": 2,
   "id": "f283e17d-8fdf-4475-b305-181a4e27b753",
   "metadata": {},
   "outputs": [
    {
     "name": "stdout",
     "output_type": "stream",
     "text": [
      "Peel off the bananas\n",
      "Add some milk to it\n",
      "Add some honey and dates\n",
      "Add some dry fruits\n",
      "Top up with ice cream\n"
     ]
    }
   ],
   "source": [
    "print(\"Peel off the bananas\")\n",
    "print(\"Add some milk to it\")\n",
    "print(\"Add some honey and dates\")\n",
    "print(\"Add some dry fruits\")\n",
    "print(\"Top up with ice cream\")"
   ]
  },
  {
   "cell_type": "code",
   "execution_count": 3,
   "id": "4ebceb6c-f1c5-412c-94ba-b69b6a8dd4b5",
   "metadata": {},
   "outputs": [
    {
     "name": "stdout",
     "output_type": "stream",
     "text": [
      "Peel off the bananas\n",
      "Add some milk to it\n",
      "Add some honey and dates\n",
      "Add some dry fruits\n",
      "Top up with ice cream\n"
     ]
    }
   ],
   "source": [
    "print(\"Peel off the bananas\")\n",
    "print(\"Add some milk to it\")\n",
    "print(\"Add some honey and dates\")\n",
    "print(\"Add some dry fruits\")\n",
    "print(\"Top up with ice cream\")"
   ]
  },
  {
   "cell_type": "code",
   "execution_count": null,
   "id": "92452588-4e7b-4537-b433-c207537f6dab",
   "metadata": {},
   "outputs": [],
   "source": []
  },
  {
   "cell_type": "code",
   "execution_count": null,
   "id": "c668bd16-5444-4e8e-9dd1-28fd9f8bfb0f",
   "metadata": {},
   "outputs": [],
   "source": []
  },
  {
   "cell_type": "code",
   "execution_count": null,
   "id": "db7e46a8-cf54-4728-a4b0-168fd6866991",
   "metadata": {},
   "outputs": [],
   "source": []
  },
  {
   "cell_type": "code",
   "execution_count": null,
   "id": "c42aac20-df54-4c64-88fb-2875252b55ee",
   "metadata": {},
   "outputs": [],
   "source": []
  },
  {
   "cell_type": "markdown",
   "id": "8cfd6786-a8f5-424e-8b42-9ef7e89dd133",
   "metadata": {},
   "source": [
    "## Define a function"
   ]
  },
  {
   "cell_type": "code",
   "execution_count": 4,
   "id": "b16453b8-5f05-4a21-b504-8be4def0855e",
   "metadata": {},
   "outputs": [],
   "source": [
    "def banana_shake():\n",
    "    # Function body\n",
    "    print(\"Peel off the bananas\")\n",
    "    print(\"Add some milk to it\")\n",
    "    print(\"Add some honey and dates\")\n",
    "    print(\"Add some dry fruits\")\n",
    "    print(\"Top up with ice cream\")"
   ]
  },
  {
   "cell_type": "code",
   "execution_count": null,
   "id": "54711d03-f794-451c-8d8d-9f0b1fce1795",
   "metadata": {},
   "outputs": [],
   "source": []
  },
  {
   "cell_type": "code",
   "execution_count": 5,
   "id": "1d0d42e9-e4de-48ee-8f56-962192819c61",
   "metadata": {},
   "outputs": [],
   "source": [
    "# calling a function"
   ]
  },
  {
   "cell_type": "code",
   "execution_count": 7,
   "id": "9ab89af0-e8ec-42b7-b837-6e82a2b3ce3f",
   "metadata": {},
   "outputs": [
    {
     "name": "stdout",
     "output_type": "stream",
     "text": [
      "Peel off the bananas\n",
      "Add some milk to it\n",
      "Add some honey and dates\n",
      "Add some dry fruits\n",
      "Top up with ice cream\n"
     ]
    }
   ],
   "source": [
    "banana_shake()"
   ]
  },
  {
   "cell_type": "code",
   "execution_count": 8,
   "id": "585fe5d2-4277-4bee-bdba-b621ede30114",
   "metadata": {},
   "outputs": [
    {
     "name": "stdout",
     "output_type": "stream",
     "text": [
      "Peel off the bananas\n",
      "Add some milk to it\n",
      "Add some honey and dates\n",
      "Add some dry fruits\n",
      "Top up with ice cream\n"
     ]
    }
   ],
   "source": [
    "banana_shake()"
   ]
  },
  {
   "cell_type": "code",
   "execution_count": null,
   "id": "1e8e130a-7e69-4302-b473-9214566cc41c",
   "metadata": {},
   "outputs": [],
   "source": []
  },
  {
   "cell_type": "code",
   "execution_count": null,
   "id": "951cd494-f6f3-481e-943b-b1a70ca4fdb3",
   "metadata": {},
   "outputs": [],
   "source": []
  },
  {
   "cell_type": "code",
   "execution_count": 9,
   "id": "62fdfd51-183b-4ef8-a6f3-3bad1a136331",
   "metadata": {},
   "outputs": [],
   "source": [
    "# mango_shake()"
   ]
  },
  {
   "cell_type": "code",
   "execution_count": 14,
   "id": "30873831-4c0b-41ca-8560-ae04414cfff8",
   "metadata": {},
   "outputs": [],
   "source": [
    "def mango_shake():\n",
    "    # Function body\n",
    "    print(\"Peel off the Mangoes\")\n",
    "    print(\"Add some milk to it\")\n",
    "    print(\"Add some honey and dates\")\n",
    "    print(\"Add some dry fruits\")\n",
    "    print(\"Top up with ice cream\")"
   ]
  },
  {
   "cell_type": "code",
   "execution_count": 15,
   "id": "2f4190e8-cea1-43b8-a803-2b898303d2cc",
   "metadata": {},
   "outputs": [
    {
     "name": "stdout",
     "output_type": "stream",
     "text": [
      "Peel off the Mangoes\n",
      "Add some milk to it\n",
      "Add some honey and dates\n",
      "Add some dry fruits\n",
      "Top up with ice cream\n"
     ]
    }
   ],
   "source": [
    "mango_shake()"
   ]
  },
  {
   "cell_type": "code",
   "execution_count": null,
   "id": "6edf0fe4-a949-4c1d-a6c6-9101ab5c04b1",
   "metadata": {},
   "outputs": [],
   "source": []
  },
  {
   "cell_type": "code",
   "execution_count": null,
   "id": "37c371c5-8c6a-4b22-b615-8f2a65a9f28d",
   "metadata": {},
   "outputs": [],
   "source": []
  },
  {
   "cell_type": "markdown",
   "id": "ea469a2a-725e-4a8a-a856-4d92538fca2d",
   "metadata": {},
   "source": [
    "## Passing a parameter to the function\n",
    "- Do you want to make different functions for different fruit shakes?"
   ]
  },
  {
   "cell_type": "code",
   "execution_count": 16,
   "id": "b9882c6b-71e6-40ab-b697-53d0488a0167",
   "metadata": {},
   "outputs": [],
   "source": [
    "# fruit shake"
   ]
  },
  {
   "cell_type": "code",
   "execution_count": 17,
   "id": "ad5a0f33-29fe-4c4b-8e5b-29f7cfc8f968",
   "metadata": {},
   "outputs": [],
   "source": [
    "def fruit_shake(fruit):\n",
    "   # Function body\n",
    "    print(\"Peel off the\", fruit)\n",
    "    print(\"Add some milk to it\")\n",
    "    print(\"Add some honey and dates\")\n",
    "    print(\"Add some dry fruits\")\n",
    "    print(\"Top up with ice cream\")"
   ]
  },
  {
   "cell_type": "code",
   "execution_count": null,
   "id": "3f1f3e4e-eddb-4f35-ba6c-264b04da0ff3",
   "metadata": {},
   "outputs": [],
   "source": []
  },
  {
   "cell_type": "code",
   "execution_count": 18,
   "id": "92472feb-6122-4112-a4e1-db49caed6b96",
   "metadata": {},
   "outputs": [],
   "source": [
    "# When calling a function always pass the value of params\n",
    "# fruit_shake()"
   ]
  },
  {
   "cell_type": "code",
   "execution_count": 19,
   "id": "6f60c29a-47ae-40b0-8aa3-fa44e0a24301",
   "metadata": {},
   "outputs": [],
   "source": [
    "# fruit_shake() : We can't keep paramaters as empty"
   ]
  },
  {
   "cell_type": "code",
   "execution_count": 21,
   "id": "8e78a40e-aee8-4b67-b120-f93f542a87f4",
   "metadata": {},
   "outputs": [
    {
     "name": "stdout",
     "output_type": "stream",
     "text": [
      "Peel off the Banana\n",
      "Add some milk to it\n",
      "Add some honey and dates\n",
      "Add some dry fruits\n",
      "Top up with ice cream\n"
     ]
    }
   ],
   "source": [
    "fruit_shake('Banana')"
   ]
  },
  {
   "cell_type": "code",
   "execution_count": 22,
   "id": "42e7cf6d-3d6a-4dce-9c20-68e190777ce3",
   "metadata": {},
   "outputs": [
    {
     "name": "stdout",
     "output_type": "stream",
     "text": [
      "Peel off the Mango\n",
      "Add some milk to it\n",
      "Add some honey and dates\n",
      "Add some dry fruits\n",
      "Top up with ice cream\n"
     ]
    }
   ],
   "source": [
    "fruit_shake('Mango')"
   ]
  },
  {
   "cell_type": "code",
   "execution_count": 23,
   "id": "a6a29c17-bd2b-4fa2-a9cf-6c376eb8a592",
   "metadata": {},
   "outputs": [
    {
     "name": "stdout",
     "output_type": "stream",
     "text": [
      "Peel off the Strawberry\n",
      "Add some milk to it\n",
      "Add some honey and dates\n",
      "Add some dry fruits\n",
      "Top up with ice cream\n"
     ]
    }
   ],
   "source": [
    "fruit_shake(\"Strawberry\")"
   ]
  },
  {
   "cell_type": "code",
   "execution_count": 24,
   "id": "d671b263-1fc1-4b82-bda9-f11453edd36b",
   "metadata": {},
   "outputs": [
    {
     "name": "stdout",
     "output_type": "stream",
     "text": [
      "Peel off the Grapes\n",
      "Add some milk to it\n",
      "Add some honey and dates\n",
      "Add some dry fruits\n",
      "Top up with ice cream\n"
     ]
    }
   ],
   "source": [
    "fruit_shake(\"Grapes\")"
   ]
  },
  {
   "cell_type": "code",
   "execution_count": 25,
   "id": "4216ef92-48d8-4fd7-8c9b-69603056d376",
   "metadata": {},
   "outputs": [
    {
     "name": "stdout",
     "output_type": "stream",
     "text": [
      "Peel off the 1\n",
      "Add some milk to it\n",
      "Add some honey and dates\n",
      "Add some dry fruits\n",
      "Top up with ice cream\n"
     ]
    }
   ],
   "source": [
    "fruit_shake(1)"
   ]
  },
  {
   "cell_type": "code",
   "execution_count": null,
   "id": "91d0a519-8e07-4d96-a7ff-ff492fd05998",
   "metadata": {},
   "outputs": [],
   "source": []
  },
  {
   "cell_type": "code",
   "execution_count": 26,
   "id": "e8c560b4-25fd-44bb-94fb-ab52b73f05a0",
   "metadata": {},
   "outputs": [],
   "source": [
    "# intro"
   ]
  },
  {
   "cell_type": "code",
   "execution_count": 27,
   "id": "4f9ba91f-6914-49e2-b3c9-45e08a3c1ad5",
   "metadata": {},
   "outputs": [],
   "source": [
    "def intro(name):\n",
    "    print(\"Hey my name is\", name)"
   ]
  },
  {
   "cell_type": "code",
   "execution_count": 28,
   "id": "ebf15e70-e63b-452a-bceb-697ac566884c",
   "metadata": {},
   "outputs": [
    {
     "name": "stdout",
     "output_type": "stream",
     "text": [
      "Hey my name is Razik\n"
     ]
    }
   ],
   "source": [
    "intro(\"Razik\")"
   ]
  },
  {
   "cell_type": "code",
   "execution_count": 30,
   "id": "bf568892-a4cb-4ff0-83fc-726f6739a0b9",
   "metadata": {},
   "outputs": [
    {
     "name": "stdout",
     "output_type": "stream",
     "text": [
      "Hey my name is Rahul\n"
     ]
    }
   ],
   "source": [
    "intro(\"Rahul\")"
   ]
  },
  {
   "cell_type": "code",
   "execution_count": null,
   "id": "c060a421-342f-4172-b1b7-ab06ec80f6d3",
   "metadata": {},
   "outputs": [],
   "source": []
  },
  {
   "cell_type": "code",
   "execution_count": 31,
   "id": "7a97c251-fab0-4e1d-bcf7-0913a9960162",
   "metadata": {},
   "outputs": [],
   "source": [
    "def propose(name):\n",
    "    print(\"Hey\", name, \"I like you.\")"
   ]
  },
  {
   "cell_type": "code",
   "execution_count": 32,
   "id": "24b0caf6-4f1d-45b7-b6ee-1f4fc8c3b8df",
   "metadata": {},
   "outputs": [
    {
     "name": "stdout",
     "output_type": "stream",
     "text": [
      "Hey Miss X I like you.\n"
     ]
    }
   ],
   "source": [
    "propose(\"Miss X\")"
   ]
  },
  {
   "cell_type": "code",
   "execution_count": null,
   "id": "584d7641-f987-41d1-8d56-1ec3d27d7d43",
   "metadata": {},
   "outputs": [],
   "source": []
  },
  {
   "cell_type": "code",
   "execution_count": null,
   "id": "e3f5dfa0-db16-4fe2-8545-92294f6a5a45",
   "metadata": {},
   "outputs": [],
   "source": []
  },
  {
   "cell_type": "markdown",
   "id": "b803ae9f-64f1-4b67-85ab-a52f5421902c",
   "metadata": {
    "tags": []
   },
   "source": [
    "## Multiple paramaters\n",
    "- Introduce your family\n",
    "- These arguments follow positions"
   ]
  },
  {
   "cell_type": "code",
   "execution_count": 33,
   "id": "6fdaf01a-ac54-4b2e-a964-b2c279c90f30",
   "metadata": {},
   "outputs": [],
   "source": [
    "def family_intro(father, mother, sibling):\n",
    "    print(\"He is my papa\", father)\n",
    "    print(\"She is my mumma\", mother)\n",
    "    print(\"He is my brother\", sibling)"
   ]
  },
  {
   "cell_type": "code",
   "execution_count": null,
   "id": "c9bc36e8-2039-4703-ab93-1d70221b623b",
   "metadata": {},
   "outputs": [],
   "source": []
  },
  {
   "cell_type": "code",
   "execution_count": 34,
   "id": "b4f48f4f-1097-4841-b443-28df3da67bbd",
   "metadata": {},
   "outputs": [
    {
     "name": "stdout",
     "output_type": "stream",
     "text": [
      "He is my papa P\n",
      "She is my mumma Mumm\n",
      "He is my brother Chintu\n"
     ]
    }
   ],
   "source": [
    "family_intro(\"P\", \"Mumm\", \"Chintu\")"
   ]
  },
  {
   "cell_type": "code",
   "execution_count": null,
   "id": "095c3d69-d84b-4b1c-ac5a-776a39d76db1",
   "metadata": {},
   "outputs": [],
   "source": []
  },
  {
   "cell_type": "code",
   "execution_count": 35,
   "id": "b31de8d1-95cc-401e-aaab-476ee194cbd6",
   "metadata": {},
   "outputs": [],
   "source": [
    "# These parameters are positional"
   ]
  },
  {
   "cell_type": "code",
   "execution_count": 36,
   "id": "40a5369b-aa1d-4ce2-88eb-7ee0caf93aec",
   "metadata": {},
   "outputs": [
    {
     "name": "stdout",
     "output_type": "stream",
     "text": [
      "He is my papa Mumma\n",
      "She is my mumma Dady\n",
      "He is my brother Chintu\n"
     ]
    }
   ],
   "source": [
    "family_intro(\"Mumma\", \"Dady\", \"Chintu\")"
   ]
  },
  {
   "cell_type": "code",
   "execution_count": null,
   "id": "b11e435f-d5c7-4d42-8d7d-8d5f7ecdbe7c",
   "metadata": {},
   "outputs": [],
   "source": []
  },
  {
   "cell_type": "code",
   "execution_count": null,
   "id": "377ca38a-1b95-49c7-b008-62a3c6c5577d",
   "metadata": {},
   "outputs": [],
   "source": []
  },
  {
   "cell_type": "code",
   "execution_count": null,
   "id": "c6d8aef5-0f14-474b-aad3-bf2ba784de2b",
   "metadata": {},
   "outputs": [],
   "source": []
  },
  {
   "cell_type": "code",
   "execution_count": 39,
   "id": "f4191806-f17f-40c0-aed7-5912a1cfc218",
   "metadata": {},
   "outputs": [],
   "source": [
    "# Make a calculator with +, -, *, //, % operations\n",
    "# Ask from user for operations to perform and then print answer \n",
    "# for that operation"
   ]
  },
  {
   "cell_type": "code",
   "execution_count": 40,
   "id": "da3656cb-b13f-4afa-bc19-af84dc4e2632",
   "metadata": {},
   "outputs": [],
   "source": [
    "def func(n):\n",
    "    for i in range(n):\n",
    "        print(\"hello\")"
   ]
  },
  {
   "cell_type": "code",
   "execution_count": 44,
   "id": "15cd605e-8c07-409f-af78-186931959752",
   "metadata": {},
   "outputs": [],
   "source": [
    "# func(3.0)\n",
    "# func(3)\n",
    "# func(\"Hello\")"
   ]
  },
  {
   "cell_type": "code",
   "execution_count": null,
   "id": "9a75fc1d-a89e-4648-9a7e-240d3675c8c1",
   "metadata": {},
   "outputs": [],
   "source": []
  },
  {
   "cell_type": "markdown",
   "id": "29bab29f-342f-479d-a29c-dde58a4d3360",
   "metadata": {},
   "source": [
    "![](../photos/when-i-wrote.jpeg)"
   ]
  },
  {
   "cell_type": "markdown",
   "id": "0b627352-0439-41b9-8313-e73a4e2ecb82",
   "metadata": {},
   "source": [
    "## Docstrings\n",
    "- Should I have Kept some Documentation?\n",
    "- Tell me something about yourself please..."
   ]
  },
  {
   "cell_type": "code",
   "execution_count": 45,
   "id": "0557f012-ef01-4a11-a372-469b0ada6bbb",
   "metadata": {},
   "outputs": [],
   "source": [
    "# add them"
   ]
  },
  {
   "cell_type": "code",
   "execution_count": 46,
   "id": "fc43b924-d478-4222-9ef8-2548e320b30c",
   "metadata": {},
   "outputs": [],
   "source": [
    "# print?"
   ]
  },
  {
   "cell_type": "code",
   "execution_count": 47,
   "id": "06b283e7-6c27-42a9-be24-fac80332cf83",
   "metadata": {},
   "outputs": [
    {
     "data": {
      "text/plain": [
       "\u001b[0;31mDocstring:\u001b[0m\n",
       "print(value, ..., sep=' ', end='\\n', file=sys.stdout, flush=False)\n",
       "\n",
       "Prints the values to a stream, or to sys.stdout by default.\n",
       "Optional keyword arguments:\n",
       "file:  a file-like object (stream); defaults to the current sys.stdout.\n",
       "sep:   string inserted between values, default a space.\n",
       "end:   string appended after the last value, default a newline.\n",
       "flush: whether to forcibly flush the stream.\n",
       "\u001b[0;31mType:\u001b[0m      builtin_function_or_method\n"
      ]
     },
     "metadata": {},
     "output_type": "display_data"
    }
   ],
   "source": [
    "print?"
   ]
  },
  {
   "cell_type": "code",
   "execution_count": null,
   "id": "c864d441-094e-49fb-aba5-d2b6ed150db4",
   "metadata": {},
   "outputs": [],
   "source": []
  },
  {
   "cell_type": "code",
   "execution_count": 52,
   "id": "6d616d00-3c5e-4e6c-af34-1120709d5a75",
   "metadata": {},
   "outputs": [],
   "source": [
    "def add(a, b):\n",
    "    \"\"\"\n",
    "    Always take a and b as numbers.\n",
    "    \n",
    "    If you are taking string for either of them and number for other parameter\n",
    "    then it will raise an error.\n",
    "    \n",
    "    \"\"\"\n",
    "    \n",
    "    print(a + b)"
   ]
  },
  {
   "cell_type": "code",
   "execution_count": 53,
   "id": "64e121a2-cd33-43fa-a259-5c6f7741bca9",
   "metadata": {},
   "outputs": [
    {
     "name": "stdout",
     "output_type": "stream",
     "text": [
      "5\n"
     ]
    }
   ],
   "source": [
    "add(2, 3)"
   ]
  },
  {
   "cell_type": "code",
   "execution_count": 54,
   "id": "aca56883-5cea-4211-910d-8a1961690d24",
   "metadata": {},
   "outputs": [
    {
     "ename": "TypeError",
     "evalue": "unsupported operand type(s) for +: 'int' and 'str'",
     "output_type": "error",
     "traceback": [
      "\u001b[0;31m---------------------------------------------------------------------------\u001b[0m",
      "\u001b[0;31mTypeError\u001b[0m                                 Traceback (most recent call last)",
      "\u001b[0;32m/var/folders/t5/yhjgrjs907zfp250jyxtw54m0000gn/T/ipykernel_40010/2941199215.py\u001b[0m in \u001b[0;36m<module>\u001b[0;34m\u001b[0m\n\u001b[0;32m----> 1\u001b[0;31m \u001b[0madd\u001b[0m\u001b[0;34m(\u001b[0m\u001b[0;36m1\u001b[0m \u001b[0;34m+\u001b[0m \u001b[0;34m\"1\"\u001b[0m\u001b[0;34m)\u001b[0m\u001b[0;34m\u001b[0m\u001b[0;34m\u001b[0m\u001b[0m\n\u001b[0m",
      "\u001b[0;31mTypeError\u001b[0m: unsupported operand type(s) for +: 'int' and 'str'"
     ]
    }
   ],
   "source": [
    "add(1 + \"1\")"
   ]
  },
  {
   "cell_type": "code",
   "execution_count": 55,
   "id": "3265b61c-b613-4037-95ae-95f6fa227de4",
   "metadata": {},
   "outputs": [
    {
     "data": {
      "text/plain": [
       "\u001b[0;31mSignature:\u001b[0m \u001b[0madd\u001b[0m\u001b[0;34m(\u001b[0m\u001b[0ma\u001b[0m\u001b[0;34m,\u001b[0m \u001b[0mb\u001b[0m\u001b[0;34m)\u001b[0m\u001b[0;34m\u001b[0m\u001b[0;34m\u001b[0m\u001b[0m\n",
       "\u001b[0;31mDocstring:\u001b[0m\n",
       "Always take a and b as numbers.\n",
       "\n",
       "If you are taking string for either of them and number for other parameter\n",
       "then it will raise an error.\n",
       "\u001b[0;31mFile:\u001b[0m      /var/folders/t5/yhjgrjs907zfp250jyxtw54m0000gn/T/ipykernel_40010/2999832502.py\n",
       "\u001b[0;31mType:\u001b[0m      function\n"
      ]
     },
     "metadata": {},
     "output_type": "display_data"
    }
   ],
   "source": [
    "add?"
   ]
  },
  {
   "cell_type": "code",
   "execution_count": null,
   "id": "06ba40f4-351a-496d-a501-c246d4174b71",
   "metadata": {},
   "outputs": [],
   "source": []
  },
  {
   "cell_type": "code",
   "execution_count": null,
   "id": "e4e83118-c6ab-4a0a-86b0-c01bfcff7d62",
   "metadata": {},
   "outputs": [],
   "source": []
  },
  {
   "cell_type": "markdown",
   "id": "73a219c5-1701-4093-a0ab-6f860a6cc7a3",
   "metadata": {},
   "source": [
    "# Return a function"
   ]
  },
  {
   "cell_type": "markdown",
   "id": "416afa1d-fb8a-48a5-9ae7-6db357ec81c6",
   "metadata": {},
   "source": [
    "##### print function shows all the values that it prints but actually it doesnt give any value"
   ]
  },
  {
   "cell_type": "code",
   "execution_count": 56,
   "id": "b474c7d7-28d4-4069-bfeb-3113f803d259",
   "metadata": {},
   "outputs": [],
   "source": [
    "# lets revisit print"
   ]
  },
  {
   "cell_type": "code",
   "execution_count": 57,
   "id": "c9710849-bc5a-421e-8a12-5d7f9beb4bb0",
   "metadata": {},
   "outputs": [
    {
     "name": "stdout",
     "output_type": "stream",
     "text": [
      "Rahul is a good boy\n"
     ]
    }
   ],
   "source": [
    "print(\"Rahul is a good boy\")"
   ]
  },
  {
   "cell_type": "code",
   "execution_count": 58,
   "id": "30c3b9e6-f5ba-444c-ac0a-479748ea46b8",
   "metadata": {},
   "outputs": [
    {
     "name": "stdout",
     "output_type": "stream",
     "text": [
      "5\n"
     ]
    },
    {
     "data": {
      "text/plain": [
       "NoneType"
      ]
     },
     "execution_count": 58,
     "metadata": {},
     "output_type": "execute_result"
    }
   ],
   "source": [
    "type(print(2 + 3))"
   ]
  },
  {
   "cell_type": "code",
   "execution_count": null,
   "id": "4029b6bb-fc1d-4714-be0a-e8af3322f540",
   "metadata": {},
   "outputs": [],
   "source": []
  },
  {
   "cell_type": "code",
   "execution_count": 59,
   "id": "6aa21c6a-c2f0-4a52-8dea-bce15a0a64b8",
   "metadata": {},
   "outputs": [],
   "source": [
    "def add(a, b):\n",
    "    print(a + b)"
   ]
  },
  {
   "cell_type": "code",
   "execution_count": 60,
   "id": "4e80b722-acff-47e1-8247-8658d82efbbc",
   "metadata": {},
   "outputs": [
    {
     "name": "stdout",
     "output_type": "stream",
     "text": [
      "8\n"
     ]
    }
   ],
   "source": [
    "add(3, 5)"
   ]
  },
  {
   "cell_type": "code",
   "execution_count": 61,
   "id": "e248ba42-ff9b-4c0f-92b9-2c0d4ae3b93b",
   "metadata": {},
   "outputs": [
    {
     "name": "stdout",
     "output_type": "stream",
     "text": [
      "8\n"
     ]
    }
   ],
   "source": [
    "result = add(3, 5)"
   ]
  },
  {
   "cell_type": "code",
   "execution_count": 62,
   "id": "9b96a0bb-540f-4b70-9092-4e347666a443",
   "metadata": {},
   "outputs": [
    {
     "name": "stdout",
     "output_type": "stream",
     "text": [
      "None\n"
     ]
    }
   ],
   "source": [
    "print(result)"
   ]
  },
  {
   "cell_type": "code",
   "execution_count": null,
   "id": "0c15a293-292d-43de-8e57-82ebc6d2e525",
   "metadata": {},
   "outputs": [],
   "source": []
  },
  {
   "cell_type": "code",
   "execution_count": 63,
   "id": "cb9aa743-fa5d-444b-99a4-678dab8968d0",
   "metadata": {},
   "outputs": [],
   "source": [
    "def add(a, b):\n",
    "    return a + b"
   ]
  },
  {
   "cell_type": "code",
   "execution_count": 64,
   "id": "bea4ce53-3811-445d-8712-8944eda39608",
   "metadata": {},
   "outputs": [],
   "source": [
    "result = add(3, 5)"
   ]
  },
  {
   "cell_type": "code",
   "execution_count": 65,
   "id": "e2e7fe9a-a72b-4a27-b478-36d20a098a81",
   "metadata": {},
   "outputs": [
    {
     "name": "stdout",
     "output_type": "stream",
     "text": [
      "8\n"
     ]
    }
   ],
   "source": [
    "print(result)"
   ]
  },
  {
   "cell_type": "code",
   "execution_count": null,
   "id": "2fee148c-24b3-4fe2-b1ff-3b6ce2fb2ec7",
   "metadata": {},
   "outputs": [],
   "source": []
  },
  {
   "cell_type": "code",
   "execution_count": 66,
   "id": "57864137-9c08-493a-9eb5-9642be145df1",
   "metadata": {},
   "outputs": [],
   "source": [
    "def example(a):\n",
    "    print(\"Before return\")\n",
    "    return a\n",
    "    print(\"After return\")"
   ]
  },
  {
   "cell_type": "code",
   "execution_count": null,
   "id": "ee8f294b-1ce5-4f77-9e21-d7e34ef96861",
   "metadata": {},
   "outputs": [],
   "source": []
  },
  {
   "cell_type": "code",
   "execution_count": 68,
   "id": "889cff00-cfc9-44b7-b071-b4cc88ffe28b",
   "metadata": {},
   "outputs": [
    {
     "name": "stdout",
     "output_type": "stream",
     "text": [
      "Before return\n"
     ]
    },
    {
     "data": {
      "text/plain": [
       "4"
      ]
     },
     "execution_count": 68,
     "metadata": {},
     "output_type": "execute_result"
    }
   ],
   "source": [
    "example(4)"
   ]
  },
  {
   "cell_type": "code",
   "execution_count": null,
   "id": "92895764-a3ec-4081-9840-91ccd54d8427",
   "metadata": {},
   "outputs": [],
   "source": []
  },
  {
   "cell_type": "code",
   "execution_count": 69,
   "id": "b2b7d203-1725-4275-901e-b2e07b6befb6",
   "metadata": {},
   "outputs": [],
   "source": [
    "# Quiz"
   ]
  },
  {
   "cell_type": "code",
   "execution_count": null,
   "id": "957c8e24-7cc0-4e14-bde0-2f71067aa339",
   "metadata": {},
   "outputs": [],
   "source": []
  },
  {
   "cell_type": "markdown",
   "id": "fb28d6b2-e3a9-4687-a884-25ed3e700bb7",
   "metadata": {},
   "source": [
    "## Keyworded Arguments"
   ]
  },
  {
   "cell_type": "code",
   "execution_count": 71,
   "id": "5b5bfdb4-a09b-480e-b26e-5a619c6469e6",
   "metadata": {},
   "outputs": [],
   "source": [
    "def family_intro(father, mother, sibling):\n",
    "    print(\"He is my papa\", father)\n",
    "    print(\"She is my mumma\", mother)\n",
    "    print(\"He is my brother\", sibling)"
   ]
  },
  {
   "cell_type": "code",
   "execution_count": null,
   "id": "9de37875-469b-49b4-bb00-60b2829d18fc",
   "metadata": {},
   "outputs": [],
   "source": []
  },
  {
   "cell_type": "code",
   "execution_count": 72,
   "id": "dbf39f44-f409-4268-bc15-08ef5784105c",
   "metadata": {},
   "outputs": [
    {
     "name": "stdout",
     "output_type": "stream",
     "text": [
      "He is my papa Mumma\n",
      "She is my mumma Dady\n",
      "He is my brother Chintu\n"
     ]
    }
   ],
   "source": [
    "family_intro(\"Mumma\", \"Dady\", \"Chintu\")"
   ]
  },
  {
   "cell_type": "code",
   "execution_count": 73,
   "id": "c67bd705-5106-4803-afae-d1355d2aac5c",
   "metadata": {},
   "outputs": [
    {
     "name": "stdout",
     "output_type": "stream",
     "text": [
      "He is my papa Dady\n",
      "She is my mumma Mumma\n",
      "He is my brother Chintu\n"
     ]
    }
   ],
   "source": [
    "family_intro(sibling = \"Chintu\", father = \"Dady\", mother = \"Mumma\")"
   ]
  },
  {
   "cell_type": "code",
   "execution_count": 85,
   "id": "bee90c9e-c3bf-4da9-8419-063b487c4a4b",
   "metadata": {},
   "outputs": [
    {
     "ename": "SyntaxError",
     "evalue": "positional argument follows keyword argument (1732079349.py, line 1)",
     "output_type": "error",
     "traceback": [
      "\u001b[0;36m  File \u001b[0;32m\"/var/folders/t5/yhjgrjs907zfp250jyxtw54m0000gn/T/ipykernel_40010/1732079349.py\"\u001b[0;36m, line \u001b[0;32m1\u001b[0m\n\u001b[0;31m    family_intro(sibling = \"Chintu\", father = \"Dady\", \"Mumma\")\u001b[0m\n\u001b[0m                                                             ^\u001b[0m\n\u001b[0;31mSyntaxError\u001b[0m\u001b[0;31m:\u001b[0m positional argument follows keyword argument\n"
     ]
    }
   ],
   "source": [
    "family_intro(sibling = \"Chintu\", father = \"Dady\", \"Mumma\")"
   ]
  },
  {
   "cell_type": "code",
   "execution_count": null,
   "id": "73607204-3bf3-4618-b8e9-390f90e59bdd",
   "metadata": {},
   "outputs": [],
   "source": []
  },
  {
   "cell_type": "code",
   "execution_count": 86,
   "id": "d7586ba8-a70c-428b-8547-6092f548f85d",
   "metadata": {},
   "outputs": [
    {
     "name": "stdout",
     "output_type": "stream",
     "text": [
      "He is my papa Dady\n",
      "She is my mumma Mumma\n",
      "He is my brother Chintu\n"
     ]
    }
   ],
   "source": [
    "family_intro(\"Dady\", sibling = \"Chintu\", mother = \"Mumma\")"
   ]
  },
  {
   "cell_type": "code",
   "execution_count": null,
   "id": "f62107a9-e8c4-439c-b92c-e5f9a1046365",
   "metadata": {},
   "outputs": [],
   "source": []
  },
  {
   "cell_type": "code",
   "execution_count": null,
   "id": "3b98e42a-296a-4fcc-adcc-f013289a072e",
   "metadata": {},
   "outputs": [],
   "source": []
  },
  {
   "cell_type": "markdown",
   "id": "4abe118c-7d02-4393-8aa8-476b81eeba27",
   "metadata": {},
   "source": [
    "### Default Parameters"
   ]
  },
  {
   "cell_type": "code",
   "execution_count": 74,
   "id": "c21cdf21-d1bf-4c59-ba1b-5e6eb7725a96",
   "metadata": {},
   "outputs": [
    {
     "data": {
      "text/plain": [
       "\u001b[0;31mDocstring:\u001b[0m\n",
       "print(value, ..., sep=' ', end='\\n', file=sys.stdout, flush=False)\n",
       "\n",
       "Prints the values to a stream, or to sys.stdout by default.\n",
       "Optional keyword arguments:\n",
       "file:  a file-like object (stream); defaults to the current sys.stdout.\n",
       "sep:   string inserted between values, default a space.\n",
       "end:   string appended after the last value, default a newline.\n",
       "flush: whether to forcibly flush the stream.\n",
       "\u001b[0;31mType:\u001b[0m      builtin_function_or_method\n"
      ]
     },
     "metadata": {},
     "output_type": "display_data"
    }
   ],
   "source": [
    "print?"
   ]
  },
  {
   "cell_type": "code",
   "execution_count": 76,
   "id": "1d2c1e3f-0f9c-4d43-936e-0e60985cef37",
   "metadata": {},
   "outputs": [
    {
     "name": "stdout",
     "output_type": "stream",
     "text": [
      "2 3 4\n"
     ]
    }
   ],
   "source": [
    "print(2, 3, 4)"
   ]
  },
  {
   "cell_type": "code",
   "execution_count": null,
   "id": "8395eb6e-82dd-49e7-a1b4-014fd9acd50c",
   "metadata": {},
   "outputs": [],
   "source": []
  },
  {
   "cell_type": "code",
   "execution_count": 75,
   "id": "92e7a1e7-de5f-4447-9f4a-c6470c3e1a22",
   "metadata": {},
   "outputs": [],
   "source": [
    "def passport(name, nationality = \"Indian\"):\n",
    "    print(\"Name is\", name)\n",
    "    print(\"Nationality is\", nationality)"
   ]
  },
  {
   "cell_type": "code",
   "execution_count": 77,
   "id": "c70acd7d-f117-401a-89c7-ca64d3775743",
   "metadata": {},
   "outputs": [
    {
     "name": "stdout",
     "output_type": "stream",
     "text": [
      "Name is Rahul\n",
      "Nationality is Indian\n"
     ]
    }
   ],
   "source": [
    "passport(\"Rahul\")"
   ]
  },
  {
   "cell_type": "code",
   "execution_count": null,
   "id": "ab3f2707-950c-4a02-a517-3166f0c23dd0",
   "metadata": {},
   "outputs": [],
   "source": []
  },
  {
   "cell_type": "code",
   "execution_count": 78,
   "id": "a6522042-70c7-4b14-8acf-52ca16e34f89",
   "metadata": {},
   "outputs": [
    {
     "name": "stdout",
     "output_type": "stream",
     "text": [
      "Name is Rahul\n",
      "Nationality is Brazilian\n"
     ]
    }
   ],
   "source": [
    "passport(\"Rahul\", \"Brazilian\")"
   ]
  },
  {
   "cell_type": "code",
   "execution_count": null,
   "id": "92f964bf-2466-4956-8999-8761efabaa56",
   "metadata": {},
   "outputs": [],
   "source": []
  },
  {
   "cell_type": "code",
   "execution_count": 79,
   "id": "c439f9ba-4192-4d16-8743-7c75af46357e",
   "metadata": {},
   "outputs": [],
   "source": [
    "def square(num1, num2 = 2):\n",
    "    return num1 ** num2"
   ]
  },
  {
   "cell_type": "code",
   "execution_count": 80,
   "id": "0075610d-829c-43d3-9d9a-dacef36fe1f6",
   "metadata": {},
   "outputs": [
    {
     "data": {
      "text/plain": [
       "9"
      ]
     },
     "execution_count": 80,
     "metadata": {},
     "output_type": "execute_result"
    }
   ],
   "source": [
    "square(3)"
   ]
  },
  {
   "cell_type": "code",
   "execution_count": 81,
   "id": "b60f799b-0914-4320-bb74-1d97cbbd6be7",
   "metadata": {},
   "outputs": [
    {
     "ename": "SyntaxError",
     "evalue": "non-default argument follows default argument (3248209430.py, line 1)",
     "output_type": "error",
     "traceback": [
      "\u001b[0;36m  File \u001b[0;32m\"/var/folders/t5/yhjgrjs907zfp250jyxtw54m0000gn/T/ipykernel_40010/3248209430.py\"\u001b[0;36m, line \u001b[0;32m1\u001b[0m\n\u001b[0;31m    def power(num1 = 1, num2):\u001b[0m\n\u001b[0m                            ^\u001b[0m\n\u001b[0;31mSyntaxError\u001b[0m\u001b[0;31m:\u001b[0m non-default argument follows default argument\n"
     ]
    }
   ],
   "source": [
    "def power(num1 = 1, num2):\n",
    "    return num1 ** num2"
   ]
  },
  {
   "cell_type": "code",
   "execution_count": null,
   "id": "f615af22-9e80-4473-8589-7a096c46f6a6",
   "metadata": {},
   "outputs": [],
   "source": []
  },
  {
   "cell_type": "code",
   "execution_count": 82,
   "id": "67139219-e892-4cc9-ba88-25db4c769342",
   "metadata": {},
   "outputs": [
    {
     "ename": "SyntaxError",
     "evalue": "non-default argument follows default argument (3499656563.py, line 1)",
     "output_type": "error",
     "traceback": [
      "\u001b[0;36m  File \u001b[0;32m\"/var/folders/t5/yhjgrjs907zfp250jyxtw54m0000gn/T/ipykernel_40010/3499656563.py\"\u001b[0;36m, line \u001b[0;32m1\u001b[0m\n\u001b[0;31m    def multiply(num1=3, num2):\u001b[0m\n\u001b[0m                             ^\u001b[0m\n\u001b[0;31mSyntaxError\u001b[0m\u001b[0;31m:\u001b[0m non-default argument follows default argument\n"
     ]
    }
   ],
   "source": [
    "def multiply(num1=3, num2):\n",
    "    return num1 * num2\n",
    "\n",
    "print(multiply(2, 4))"
   ]
  },
  {
   "cell_type": "code",
   "execution_count": null,
   "id": "f33a3de2-c8bd-4521-84da-2c9af22e13d0",
   "metadata": {},
   "outputs": [],
   "source": []
  },
  {
   "cell_type": "code",
   "execution_count": 83,
   "id": "7f004af1-e0d6-4a3d-a9cd-cb3a37d17d81",
   "metadata": {},
   "outputs": [],
   "source": [
    "def random(a = 2, b = 3):\n",
    "    return a + b"
   ]
  },
  {
   "cell_type": "code",
   "execution_count": 84,
   "id": "17d43afc-1067-469d-a8ca-b06662f8ce39",
   "metadata": {},
   "outputs": [
    {
     "data": {
      "text/plain": [
       "5"
      ]
     },
     "execution_count": 84,
     "metadata": {},
     "output_type": "execute_result"
    }
   ],
   "source": [
    "random()"
   ]
  },
  {
   "cell_type": "code",
   "execution_count": null,
   "id": "84c94ad9-5214-4ac1-9807-b7f9c00d4bee",
   "metadata": {},
   "outputs": [],
   "source": []
  },
  {
   "cell_type": "code",
   "execution_count": null,
   "id": "68d56b7d-a577-4531-9492-63c57e73e50f",
   "metadata": {},
   "outputs": [],
   "source": []
  },
  {
   "cell_type": "markdown",
   "id": "fd4c677a-42ae-47cf-a01d-d6d98e94f1c5",
   "metadata": {},
   "source": [
    "### Scope of Variables"
   ]
  },
  {
   "cell_type": "code",
   "execution_count": 90,
   "id": "edff0d8c-9b8b-49f6-9e5d-0d8293a0e622",
   "metadata": {},
   "outputs": [],
   "source": [
    "# Anything here is global scope\n",
    "\n",
    "def kingdom():\n",
    "    # local scope of a function\n",
    "    king = \"Rahul\"\n",
    "    print(king)"
   ]
  },
  {
   "cell_type": "code",
   "execution_count": 91,
   "id": "c4842b1a-3c18-4fb0-b736-e8bee3a90e9b",
   "metadata": {},
   "outputs": [
    {
     "name": "stdout",
     "output_type": "stream",
     "text": [
      "Rahul\n"
     ]
    },
    {
     "ename": "NameError",
     "evalue": "name 'king' is not defined",
     "output_type": "error",
     "traceback": [
      "\u001b[0;31m---------------------------------------------------------------------------\u001b[0m",
      "\u001b[0;31mNameError\u001b[0m                                 Traceback (most recent call last)",
      "\u001b[0;32m/var/folders/t5/yhjgrjs907zfp250jyxtw54m0000gn/T/ipykernel_40010/6352437.py\u001b[0m in \u001b[0;36m<module>\u001b[0;34m\u001b[0m\n\u001b[1;32m      1\u001b[0m \u001b[0mkingdom\u001b[0m\u001b[0;34m(\u001b[0m\u001b[0;34m)\u001b[0m\u001b[0;34m\u001b[0m\u001b[0;34m\u001b[0m\u001b[0m\n\u001b[0;32m----> 2\u001b[0;31m \u001b[0mprint\u001b[0m\u001b[0;34m(\u001b[0m\u001b[0mking\u001b[0m\u001b[0;34m)\u001b[0m\u001b[0;34m\u001b[0m\u001b[0;34m\u001b[0m\u001b[0m\n\u001b[0m",
      "\u001b[0;31mNameError\u001b[0m: name 'king' is not defined"
     ]
    }
   ],
   "source": [
    "kingdom()\n",
    "print(king)"
   ]
  },
  {
   "cell_type": "code",
   "execution_count": null,
   "id": "5cb5ece2-3295-4dbd-9305-0d3b010ad51f",
   "metadata": {},
   "outputs": [],
   "source": []
  },
  {
   "cell_type": "code",
   "execution_count": 94,
   "id": "1e2db9bb-3b87-44c3-999f-e75860fd562f",
   "metadata": {},
   "outputs": [],
   "source": [
    "# This is global scope\n",
    "\n",
    "king = \"Ashoka\"\n",
    "\n",
    "def kingdom():\n",
    "    print(king)"
   ]
  },
  {
   "cell_type": "code",
   "execution_count": 97,
   "id": "f22b7cb5-93ff-42d9-921f-d63be4c950b6",
   "metadata": {},
   "outputs": [
    {
     "name": "stdout",
     "output_type": "stream",
     "text": [
      "Ashoka\n",
      "Ashoka\n"
     ]
    }
   ],
   "source": [
    "kingdom()\n",
    "print(king)"
   ]
  },
  {
   "cell_type": "code",
   "execution_count": null,
   "id": "fd027a61-de91-408f-ae84-20fa6ef60f59",
   "metadata": {},
   "outputs": [],
   "source": []
  },
  {
   "cell_type": "code",
   "execution_count": 98,
   "id": "7bbf6273-0e10-4a73-82ce-f79a4c3fc8bc",
   "metadata": {},
   "outputs": [],
   "source": [
    "# This is global scope\n",
    "\n",
    "king = \"Ashoka\"\n",
    "\n",
    "def kingdom():\n",
    "    # Local king\n",
    "    king = \"Rahul\"\n",
    "    print(king)"
   ]
  },
  {
   "cell_type": "code",
   "execution_count": 100,
   "id": "8aacb602-f392-46d4-9307-481389674e96",
   "metadata": {},
   "outputs": [
    {
     "name": "stdout",
     "output_type": "stream",
     "text": [
      "Rahul\n",
      "Ashoka\n"
     ]
    }
   ],
   "source": [
    "kingdom()\n",
    "print(king)"
   ]
  },
  {
   "cell_type": "code",
   "execution_count": null,
   "id": "5a765253-837b-478d-954e-51a9a6fb6a18",
   "metadata": {},
   "outputs": [],
   "source": []
  },
  {
   "cell_type": "code",
   "execution_count": 101,
   "id": "b9f806a2-8fed-43c6-a570-97eafbaab35e",
   "metadata": {},
   "outputs": [],
   "source": [
    "# Changing global variable using local scope of function"
   ]
  },
  {
   "cell_type": "code",
   "execution_count": null,
   "id": "4b5b66ba-545d-4e7c-a0b6-3f7b0d5e343b",
   "metadata": {},
   "outputs": [],
   "source": []
  },
  {
   "cell_type": "code",
   "execution_count": 106,
   "id": "caacec08-ed34-465d-9177-b3bbe247f75c",
   "metadata": {},
   "outputs": [],
   "source": [
    "# This is global scope\n",
    "\n",
    "king = \"Ashoka\"\n",
    "\n",
    "def kingdom():\n",
    "    # Local scope\n",
    "    global king\n",
    "    king = \"Rahul\"\n",
    "    print(king)"
   ]
  },
  {
   "cell_type": "code",
   "execution_count": 104,
   "id": "45bfa967-dfe3-4784-9ccc-18ef9a71b571",
   "metadata": {},
   "outputs": [
    {
     "name": "stdout",
     "output_type": "stream",
     "text": [
      "Ashoka\n",
      "Rahul\n",
      "Rahul\n"
     ]
    }
   ],
   "source": [
    "print(king)\n",
    "\n",
    "kingdom()\n",
    "\n",
    "print(king)"
   ]
  },
  {
   "cell_type": "code",
   "execution_count": null,
   "id": "597655c1-a200-4c14-baca-23fd1bd7ffc1",
   "metadata": {},
   "outputs": [],
   "source": []
  },
  {
   "cell_type": "code",
   "execution_count": null,
   "id": "f1cbece7-b68b-4881-9dc9-a0ce5e1ebd48",
   "metadata": {},
   "outputs": [],
   "source": []
  },
  {
   "cell_type": "markdown",
   "id": "b84a9c61-e29a-4967-be40-6e9ca9acbf62",
   "metadata": {},
   "source": [
    "### Lambda functions\n",
    "- One liner functions"
   ]
  },
  {
   "cell_type": "code",
   "execution_count": 109,
   "id": "049e1b7c-4e71-4a25-ac7d-a3c7ba775e87",
   "metadata": {},
   "outputs": [],
   "source": [
    "# lambda_function_name = lambda arguments : experssion"
   ]
  },
  {
   "cell_type": "markdown",
   "id": "bb6f24e4-7a49-48e8-9cc1-b6c733ca7862",
   "metadata": {},
   "source": [
    "- lambda is the keyword to create a lambda function\n",
    "- Arguments are the parameters of a function\n",
    "- expression is single line operation"
   ]
  },
  {
   "cell_type": "code",
   "execution_count": null,
   "id": "16ef0a47-2c4e-44c6-898c-f159a69ef5ba",
   "metadata": {},
   "outputs": [],
   "source": []
  },
  {
   "cell_type": "code",
   "execution_count": 110,
   "id": "8dcec426-c884-4b11-90f5-e0e004f5b3d4",
   "metadata": {},
   "outputs": [],
   "source": [
    "def func(a):\n",
    "    return a"
   ]
  },
  {
   "cell_type": "code",
   "execution_count": 111,
   "id": "ea9bdc9b-b04c-4671-bc4d-db20332e581b",
   "metadata": {},
   "outputs": [
    {
     "data": {
      "text/plain": [
       "8"
      ]
     },
     "execution_count": 111,
     "metadata": {},
     "output_type": "execute_result"
    }
   ],
   "source": [
    "random(5)"
   ]
  },
  {
   "cell_type": "code",
   "execution_count": 112,
   "id": "dbd0ca5d-449f-41fc-82d4-3cb64ca1feee",
   "metadata": {},
   "outputs": [],
   "source": [
    "# The above function is equivalent to the following labda function"
   ]
  },
  {
   "cell_type": "code",
   "execution_count": 114,
   "id": "53a0a078-319e-4789-b3cf-0057ad925cbd",
   "metadata": {},
   "outputs": [],
   "source": [
    "random = lambda a : a"
   ]
  },
  {
   "cell_type": "code",
   "execution_count": 115,
   "id": "3b04736f-1b5a-4eed-a03c-8563bdd38940",
   "metadata": {},
   "outputs": [
    {
     "data": {
      "text/plain": [
       "8"
      ]
     },
     "execution_count": 115,
     "metadata": {},
     "output_type": "execute_result"
    }
   ],
   "source": [
    "random(8)"
   ]
  },
  {
   "cell_type": "code",
   "execution_count": 116,
   "id": "8c0ae344-b13b-4d3f-b23a-3abc3e008921",
   "metadata": {},
   "outputs": [],
   "source": [
    "def add(a, b):\n",
    "    return a + b"
   ]
  },
  {
   "cell_type": "code",
   "execution_count": 117,
   "id": "fff6801f-a159-4673-bcea-cc222bd8e91b",
   "metadata": {},
   "outputs": [],
   "source": [
    "add = lambda a, b : a + b"
   ]
  },
  {
   "cell_type": "code",
   "execution_count": 118,
   "id": "56624091-a778-4ece-82a5-0985c98340d4",
   "metadata": {},
   "outputs": [
    {
     "data": {
      "text/plain": [
       "9"
      ]
     },
     "execution_count": 118,
     "metadata": {},
     "output_type": "execute_result"
    }
   ],
   "source": [
    "add(4, 5)"
   ]
  },
  {
   "cell_type": "code",
   "execution_count": 119,
   "id": "2375c4a1-ed20-407b-940f-c036d53ef5bb",
   "metadata": {},
   "outputs": [
    {
     "data": {
      "text/plain": [
       "15"
      ]
     },
     "execution_count": 119,
     "metadata": {},
     "output_type": "execute_result"
    }
   ],
   "source": [
    "(lambda x : x + 10) (5)"
   ]
  },
  {
   "cell_type": "code",
   "execution_count": null,
   "id": "0824a6f7-164d-498d-8bc0-b4c9c4873005",
   "metadata": {},
   "outputs": [],
   "source": []
  },
  {
   "cell_type": "code",
   "execution_count": null,
   "id": "9e53e83b-67ca-4db0-a7a4-bc5f3c4faf3b",
   "metadata": {},
   "outputs": [],
   "source": []
  },
  {
   "cell_type": "code",
   "execution_count": 120,
   "id": "8015a019-7420-4b82-be58-4677fcf993d8",
   "metadata": {},
   "outputs": [],
   "source": [
    "# Quiz"
   ]
  },
  {
   "cell_type": "code",
   "execution_count": 121,
   "id": "6bb3e880-c740-4fe8-a2e8-1c65f1eadc57",
   "metadata": {},
   "outputs": [
    {
     "ename": "TypeError",
     "evalue": "<lambda>() takes 0 positional arguments but 1 was given",
     "output_type": "error",
     "traceback": [
      "\u001b[0;31m---------------------------------------------------------------------------\u001b[0m",
      "\u001b[0;31mTypeError\u001b[0m                                 Traceback (most recent call last)",
      "\u001b[0;32m/var/folders/t5/yhjgrjs907zfp250jyxtw54m0000gn/T/ipykernel_40010/2076631052.py\u001b[0m in \u001b[0;36m<module>\u001b[0;34m\u001b[0m\n\u001b[0;32m----> 1\u001b[0;31m \u001b[0;34m(\u001b[0m\u001b[0;32mlambda\u001b[0m \u001b[0;34m:\u001b[0m \u001b[0mprint\u001b[0m\u001b[0;34m(\u001b[0m\u001b[0;34m\"Hello Scaler\"\u001b[0m\u001b[0;34m)\u001b[0m\u001b[0;34m)\u001b[0m\u001b[0;34m(\u001b[0m\u001b[0;34m\"Scaler\"\u001b[0m\u001b[0;34m)\u001b[0m\u001b[0;34m\u001b[0m\u001b[0;34m\u001b[0m\u001b[0m\n\u001b[0m",
      "\u001b[0;31mTypeError\u001b[0m: <lambda>() takes 0 positional arguments but 1 was given"
     ]
    }
   ],
   "source": [
    "(lambda : print(\"Hello Scaler\"))(\"Scaler\")"
   ]
  },
  {
   "cell_type": "code",
   "execution_count": null,
   "id": "90d349bc-028f-4163-9864-18b12a8db938",
   "metadata": {},
   "outputs": [],
   "source": []
  },
  {
   "cell_type": "code",
   "execution_count": null,
   "id": "dbd1b38a-dd2d-4e1f-81a6-e169849bb563",
   "metadata": {},
   "outputs": [],
   "source": []
  },
  {
   "cell_type": "code",
   "execution_count": 123,
   "id": "5138b78d-edee-4446-b5ad-b42d45b7f2ec",
   "metadata": {},
   "outputs": [],
   "source": [
    "def func(a, b, c):\n",
    "    return a, b, c"
   ]
  },
  {
   "cell_type": "code",
   "execution_count": 125,
   "id": "8ed48fe2-1d82-4c5f-84bc-b3a0ac501eaf",
   "metadata": {},
   "outputs": [],
   "source": [
    "x = func(1, 2, 3)"
   ]
  },
  {
   "cell_type": "code",
   "execution_count": 126,
   "id": "22133d17-cf5d-4d05-b96b-ac319d2b3f44",
   "metadata": {},
   "outputs": [
    {
     "data": {
      "text/plain": [
       "(1, 2, 3)"
      ]
     },
     "execution_count": 126,
     "metadata": {},
     "output_type": "execute_result"
    }
   ],
   "source": [
    "x"
   ]
  },
  {
   "cell_type": "code",
   "execution_count": null,
   "id": "10a84956-fdc4-45d6-9194-e6bf990c6752",
   "metadata": {},
   "outputs": [],
   "source": []
  },
  {
   "cell_type": "code",
   "execution_count": null,
   "id": "d10151df-9c05-4ee6-b461-4688d6fba537",
   "metadata": {},
   "outputs": [],
   "source": []
  },
  {
   "cell_type": "code",
   "execution_count": null,
   "id": "26abda1e-f00f-4e29-9da6-e7153bc45b4a",
   "metadata": {},
   "outputs": [],
   "source": []
  },
  {
   "cell_type": "code",
   "execution_count": null,
   "id": "b7d79bf0-b217-407b-afb2-4a255c95472d",
   "metadata": {},
   "outputs": [],
   "source": []
  },
  {
   "cell_type": "code",
   "execution_count": null,
   "id": "f751b4bf-02f8-49a0-ab9b-cc6d7ffd72f1",
   "metadata": {},
   "outputs": [],
   "source": []
  },
  {
   "cell_type": "code",
   "execution_count": null,
   "id": "dd4bbd22-d4cf-44d8-8731-7b06d4e815d3",
   "metadata": {},
   "outputs": [],
   "source": []
  }
 ],
 "metadata": {
  "kernelspec": {
   "display_name": "Python 3 (ipykernel)",
   "language": "python",
   "name": "python3"
  },
  "language_info": {
   "codemirror_mode": {
    "name": "ipython",
    "version": 3
   },
   "file_extension": ".py",
   "mimetype": "text/x-python",
   "name": "python",
   "nbconvert_exporter": "python",
   "pygments_lexer": "ipython3",
   "version": "3.9.7"
  }
 },
 "nbformat": 4,
 "nbformat_minor": 5
}
