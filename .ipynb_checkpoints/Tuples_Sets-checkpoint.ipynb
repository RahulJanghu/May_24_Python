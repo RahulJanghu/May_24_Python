{
 "cells": [
  {
   "cell_type": "markdown",
   "id": "0aed686b-f06a-4b8a-8efb-4d9730117511",
   "metadata": {},
   "source": [
    "## Tuples\n",
    "- Tuples are used to hold together multiple objects. Think of them as similar to lists, but without the extensive functionality that the list class gives you. One major feature of tuples is that they are immutable like strings i.e. you cannot modify tuples.\n",
    "\n",
    "- Tuples are defined by specifying items separated by commas within an optional pair of parentheses.\n",
    "\n",
    "- Tuples are usually used in cases where a statement or a user-defined function can safely assume that the collection of values i.e. the tuple of values used will **not change**."
   ]
  },
  {
   "cell_type": "code",
   "execution_count": 1,
   "id": "0ae8ded0-bf8b-4d6a-bc0e-bd87dbf9e896",
   "metadata": {},
   "outputs": [],
   "source": [
    "# The intern at NASA"
   ]
  },
  {
   "cell_type": "code",
   "execution_count": 2,
   "id": "ba31866c-9be8-41d2-b4cc-90fde61c2594",
   "metadata": {},
   "outputs": [],
   "source": [
    "planets = [\"Mercury\", \"Venus\", \"Earth\", \"Mars\", \"Jupiter\", \"Saturn\"]"
   ]
  },
  {
   "cell_type": "code",
   "execution_count": 4,
   "id": "40ad1466-70a5-4f19-9b1a-8fb5a1da9acf",
   "metadata": {},
   "outputs": [
    {
     "name": "stdout",
     "output_type": "stream",
     "text": [
      "Earth\n"
     ]
    }
   ],
   "source": [
    "print(planets[2])"
   ]
  },
  {
   "cell_type": "code",
   "execution_count": 5,
   "id": "8ef11d38-8c7c-4f00-a598-a5a044727b67",
   "metadata": {},
   "outputs": [],
   "source": [
    "planets[2] = \"Rahul\""
   ]
  },
  {
   "cell_type": "code",
   "execution_count": 6,
   "id": "491fc6ea-998b-4723-9d0d-220d23ae0d5a",
   "metadata": {},
   "outputs": [
    {
     "data": {
      "text/plain": [
       "['Mercury', 'Venus', 'Rahul', 'Mars', 'Jupiter', 'Saturn']"
      ]
     },
     "execution_count": 6,
     "metadata": {},
     "output_type": "execute_result"
    }
   ],
   "source": [
    "planets"
   ]
  },
  {
   "cell_type": "code",
   "execution_count": 7,
   "id": "276f7c92-3a66-4ef3-8fc1-5463c7dd1298",
   "metadata": {},
   "outputs": [
    {
     "data": {
      "text/plain": [
       "list"
      ]
     },
     "execution_count": 7,
     "metadata": {},
     "output_type": "execute_result"
    }
   ],
   "source": [
    "type(planets)"
   ]
  },
  {
   "cell_type": "code",
   "execution_count": null,
   "id": "e681b081-2e20-4102-97bd-08b753787b2e",
   "metadata": {},
   "outputs": [],
   "source": []
  },
  {
   "cell_type": "code",
   "execution_count": 8,
   "id": "937c8721-b860-4e8e-a437-021834888afa",
   "metadata": {},
   "outputs": [],
   "source": [
    "planets = (\"Mercury\", \"Venus\", \"Earth\", \"Mars\", \"Jupiter\", \"Saturn\")"
   ]
  },
  {
   "cell_type": "code",
   "execution_count": 9,
   "id": "b8f6be98-c780-49fb-8675-faa358466cc7",
   "metadata": {},
   "outputs": [
    {
     "data": {
      "text/plain": [
       "tuple"
      ]
     },
     "execution_count": 9,
     "metadata": {},
     "output_type": "execute_result"
    }
   ],
   "source": [
    "type(planets)"
   ]
  },
  {
   "cell_type": "code",
   "execution_count": 10,
   "id": "bc1e45e9-bbf0-4b53-bc25-5f5d744fc54d",
   "metadata": {},
   "outputs": [
    {
     "data": {
      "text/plain": [
       "'Earth'"
      ]
     },
     "execution_count": 10,
     "metadata": {},
     "output_type": "execute_result"
    }
   ],
   "source": [
    "planets[2]"
   ]
  },
  {
   "cell_type": "code",
   "execution_count": 12,
   "id": "e92dac79-38d4-43ab-90eb-70a7ce706f3c",
   "metadata": {},
   "outputs": [],
   "source": [
    "# Tuples are Immutable"
   ]
  },
  {
   "cell_type": "code",
   "execution_count": 13,
   "id": "bba6dc82-28f5-4a7f-8b05-2536c19def1e",
   "metadata": {},
   "outputs": [
    {
     "ename": "TypeError",
     "evalue": "'tuple' object does not support item assignment",
     "output_type": "error",
     "traceback": [
      "\u001b[0;31m---------------------------------------------------------------------------\u001b[0m",
      "\u001b[0;31mTypeError\u001b[0m                                 Traceback (most recent call last)",
      "\u001b[0;32m/var/folders/t5/yhjgrjs907zfp250jyxtw54m0000gn/T/ipykernel_69356/726823221.py\u001b[0m in \u001b[0;36m<module>\u001b[0;34m\u001b[0m\n\u001b[0;32m----> 1\u001b[0;31m \u001b[0mplanets\u001b[0m\u001b[0;34m[\u001b[0m\u001b[0;36m2\u001b[0m\u001b[0;34m]\u001b[0m \u001b[0;34m=\u001b[0m \u001b[0;34m\"Rahul\"\u001b[0m\u001b[0;34m\u001b[0m\u001b[0;34m\u001b[0m\u001b[0m\n\u001b[0m",
      "\u001b[0;31mTypeError\u001b[0m: 'tuple' object does not support item assignment"
     ]
    }
   ],
   "source": [
    "planets[2] = \"Rahul\""
   ]
  },
  {
   "cell_type": "code",
   "execution_count": null,
   "id": "64325a3d-82ce-43c2-9613-94ab27f51d1d",
   "metadata": {},
   "outputs": [],
   "source": []
  },
  {
   "cell_type": "code",
   "execution_count": 14,
   "id": "cf509010-cb2e-417a-a14c-70c2e7f5da0d",
   "metadata": {},
   "outputs": [],
   "source": [
    "# Making tuple"
   ]
  },
  {
   "cell_type": "code",
   "execution_count": 15,
   "id": "9f1d4cc2-f323-4dd5-bea0-70b7f7c4da0d",
   "metadata": {},
   "outputs": [],
   "source": [
    "# 1st way"
   ]
  },
  {
   "cell_type": "code",
   "execution_count": 16,
   "id": "11fcb440-f9a1-410c-aed0-07325bf3575c",
   "metadata": {},
   "outputs": [
    {
     "data": {
      "text/plain": [
       "True"
      ]
     },
     "execution_count": 16,
     "metadata": {},
     "output_type": "execute_result"
    }
   ],
   "source": [
    "(True or True) or False"
   ]
  },
  {
   "cell_type": "code",
   "execution_count": 17,
   "id": "0ae10cba-f2f5-47b6-9a8c-72cd0add24f0",
   "metadata": {},
   "outputs": [
    {
     "data": {
      "text/plain": [
       "1"
      ]
     },
     "execution_count": 17,
     "metadata": {},
     "output_type": "execute_result"
    }
   ],
   "source": [
    "(5 - 4) ** (4 - 2)"
   ]
  },
  {
   "cell_type": "code",
   "execution_count": 18,
   "id": "b4fc6d65-790d-4d64-974f-ea26500aec39",
   "metadata": {},
   "outputs": [],
   "source": [
    "t = (1)"
   ]
  },
  {
   "cell_type": "code",
   "execution_count": 19,
   "id": "201a41c4-0259-4a14-a7e9-87cb9a7181cc",
   "metadata": {},
   "outputs": [
    {
     "data": {
      "text/plain": [
       "int"
      ]
     },
     "execution_count": 19,
     "metadata": {},
     "output_type": "execute_result"
    }
   ],
   "source": [
    "type(t)"
   ]
  },
  {
   "cell_type": "code",
   "execution_count": 20,
   "id": "835f6aec-a003-4cf8-8cfb-d20e5570d356",
   "metadata": {},
   "outputs": [],
   "source": [
    "t = (1, )"
   ]
  },
  {
   "cell_type": "code",
   "execution_count": 21,
   "id": "4666154c-3a92-4e32-82eb-0d9bd7b0cf45",
   "metadata": {},
   "outputs": [
    {
     "data": {
      "text/plain": [
       "tuple"
      ]
     },
     "execution_count": 21,
     "metadata": {},
     "output_type": "execute_result"
    }
   ],
   "source": [
    "type(t)"
   ]
  },
  {
   "cell_type": "code",
   "execution_count": 22,
   "id": "e9dc2542-18c7-47c8-8098-eaa881a7acb2",
   "metadata": {},
   "outputs": [
    {
     "name": "stdout",
     "output_type": "stream",
     "text": [
      "(1,)\n"
     ]
    }
   ],
   "source": [
    "print(t)"
   ]
  },
  {
   "cell_type": "code",
   "execution_count": null,
   "id": "77aacad9-d982-45e1-99c7-49c22fd0c6e8",
   "metadata": {},
   "outputs": [],
   "source": []
  },
  {
   "cell_type": "code",
   "execution_count": null,
   "id": "35a24eab-71d1-4c30-8cd2-e394ef566890",
   "metadata": {},
   "outputs": [],
   "source": []
  },
  {
   "cell_type": "code",
   "execution_count": 23,
   "id": "bee8c67e-76e7-4749-aff4-cd727e87e058",
   "metadata": {},
   "outputs": [],
   "source": [
    "# 2nd way"
   ]
  },
  {
   "cell_type": "code",
   "execution_count": 24,
   "id": "cde2d31b-a610-4cf3-a472-f1d73dde5f9c",
   "metadata": {},
   "outputs": [],
   "source": [
    "t = tuple()"
   ]
  },
  {
   "cell_type": "code",
   "execution_count": 25,
   "id": "b31955b8-1601-46cf-bcd6-20995cc895bd",
   "metadata": {},
   "outputs": [
    {
     "data": {
      "text/plain": [
       "tuple"
      ]
     },
     "execution_count": 25,
     "metadata": {},
     "output_type": "execute_result"
    }
   ],
   "source": [
    "type(t)"
   ]
  },
  {
   "cell_type": "code",
   "execution_count": 26,
   "id": "8371e7d2-61ac-4e7b-8f78-901c79319c4d",
   "metadata": {},
   "outputs": [
    {
     "data": {
      "text/plain": [
       "0"
      ]
     },
     "execution_count": 26,
     "metadata": {},
     "output_type": "execute_result"
    }
   ],
   "source": [
    "len(t)"
   ]
  },
  {
   "cell_type": "code",
   "execution_count": null,
   "id": "1dec52fb-ea1c-4262-a33e-d7433c726bb0",
   "metadata": {},
   "outputs": [],
   "source": []
  },
  {
   "cell_type": "code",
   "execution_count": 27,
   "id": "451be24d-4c21-4c9d-a60b-486c92f0683a",
   "metadata": {},
   "outputs": [],
   "source": [
    "# 3rd way"
   ]
  },
  {
   "cell_type": "code",
   "execution_count": 28,
   "id": "99afd9fa-945b-46d8-b06a-40e00ee93348",
   "metadata": {},
   "outputs": [],
   "source": [
    "# Quiz"
   ]
  },
  {
   "cell_type": "code",
   "execution_count": 30,
   "id": "aa0e3785-e2cc-4dbf-9c63-73eb0e069c78",
   "metadata": {},
   "outputs": [],
   "source": [
    "t = tuple('Rahul')"
   ]
  },
  {
   "cell_type": "code",
   "execution_count": 31,
   "id": "9350ae3f-533e-4956-b2d5-146577af6498",
   "metadata": {},
   "outputs": [
    {
     "name": "stdout",
     "output_type": "stream",
     "text": [
      "('R', 'a', 'h', 'u', 'l')\n"
     ]
    }
   ],
   "source": [
    "print(t)"
   ]
  },
  {
   "cell_type": "code",
   "execution_count": null,
   "id": "c8aca860-c1cb-4d13-b762-8ac7904fd6af",
   "metadata": {},
   "outputs": [],
   "source": []
  },
  {
   "cell_type": "code",
   "execution_count": 32,
   "id": "a53b3d90-b64d-4507-8f8e-ab4359eaa973",
   "metadata": {},
   "outputs": [],
   "source": [
    "# Quiz"
   ]
  },
  {
   "cell_type": "code",
   "execution_count": 33,
   "id": "ad465dc8-58b9-484e-bbbd-dfb9dc142ecc",
   "metadata": {},
   "outputs": [
    {
     "name": "stdout",
     "output_type": "stream",
     "text": [
      "<class 'tuple'>\n"
     ]
    }
   ],
   "source": [
    "print(type((1,2,3)))"
   ]
  },
  {
   "cell_type": "code",
   "execution_count": 34,
   "id": "223d2c7a-0875-4cb0-9896-e96a77420372",
   "metadata": {},
   "outputs": [],
   "source": [
    "t = tuple()"
   ]
  },
  {
   "cell_type": "code",
   "execution_count": 35,
   "id": "963ed32d-a662-4eb4-911f-9caac2c18751",
   "metadata": {},
   "outputs": [
    {
     "data": {
      "text/plain": [
       "140486232948800"
      ]
     },
     "execution_count": 35,
     "metadata": {},
     "output_type": "execute_result"
    }
   ],
   "source": [
    "id(t)"
   ]
  },
  {
   "cell_type": "code",
   "execution_count": 37,
   "id": "908da5eb-b261-45bd-b499-a43376e42bbd",
   "metadata": {},
   "outputs": [],
   "source": [
    "t += (1, )"
   ]
  },
  {
   "cell_type": "code",
   "execution_count": 38,
   "id": "f0e1fc1e-170e-4693-b17c-2a92d2e93d27",
   "metadata": {},
   "outputs": [
    {
     "data": {
      "text/plain": [
       "140485438922912"
      ]
     },
     "execution_count": 38,
     "metadata": {},
     "output_type": "execute_result"
    }
   ],
   "source": [
    "id(t)"
   ]
  },
  {
   "cell_type": "code",
   "execution_count": 48,
   "id": "7b5d23c2-3869-4522-82cf-aa86354c09f5",
   "metadata": {},
   "outputs": [],
   "source": [
    "t = tuple('hello world')"
   ]
  },
  {
   "cell_type": "code",
   "execution_count": null,
   "id": "e08143c4-395f-4d92-bb76-37a0ea5ca4b1",
   "metadata": {},
   "outputs": [],
   "source": []
  },
  {
   "cell_type": "code",
   "execution_count": null,
   "id": "a50b11e5-7a64-45a4-8226-8e8869d26d48",
   "metadata": {},
   "outputs": [],
   "source": []
  },
  {
   "cell_type": "code",
   "execution_count": 45,
   "id": "fb3df83c-9123-4210-9de9-7e28b76d4137",
   "metadata": {},
   "outputs": [],
   "source": [
    "# Iteration, indexing and slicing"
   ]
  },
  {
   "cell_type": "code",
   "execution_count": 46,
   "id": "630a839c-465c-4842-a31c-a27fefa1b5be",
   "metadata": {},
   "outputs": [],
   "source": [
    "# Ordered --> Indexing"
   ]
  },
  {
   "cell_type": "code",
   "execution_count": 51,
   "id": "e4809f62-f1b5-4941-80eb-fc6a13b0a047",
   "metadata": {},
   "outputs": [
    {
     "name": "stdout",
     "output_type": "stream",
     "text": [
      "h\n",
      "e\n",
      "l\n",
      "l\n",
      "o\n",
      " \n",
      "w\n",
      "o\n",
      "r\n",
      "l\n",
      "d\n"
     ]
    }
   ],
   "source": [
    "for i in t:\n",
    "    print(i)"
   ]
  },
  {
   "cell_type": "code",
   "execution_count": 52,
   "id": "427edb59-6925-4a7e-be63-02b0ae2bd04b",
   "metadata": {},
   "outputs": [
    {
     "data": {
      "text/plain": [
       "'h'"
      ]
     },
     "execution_count": 52,
     "metadata": {},
     "output_type": "execute_result"
    }
   ],
   "source": [
    "t[0]"
   ]
  },
  {
   "cell_type": "code",
   "execution_count": 53,
   "id": "6406814b-13db-4d16-9631-6c248629956f",
   "metadata": {},
   "outputs": [
    {
     "data": {
      "text/plain": [
       "('h', 'e', 'l', 'l', 'o', ' ', 'w', 'o', 'r', 'l', 'd')"
      ]
     },
     "execution_count": 53,
     "metadata": {},
     "output_type": "execute_result"
    }
   ],
   "source": [
    "t"
   ]
  },
  {
   "cell_type": "code",
   "execution_count": 54,
   "id": "44891094-685e-49a3-a15b-bc4eb26382c1",
   "metadata": {},
   "outputs": [
    {
     "data": {
      "text/plain": [
       "'d'"
      ]
     },
     "execution_count": 54,
     "metadata": {},
     "output_type": "execute_result"
    }
   ],
   "source": [
    "t[-1]"
   ]
  },
  {
   "cell_type": "code",
   "execution_count": 55,
   "id": "cdaee02b-d128-4940-9ea3-23ffd382c89f",
   "metadata": {},
   "outputs": [
    {
     "data": {
      "text/plain": [
       "('h', 'e', 'l', 'l', 'o', ' ', 'w', 'o', 'r', 'l', 'd')"
      ]
     },
     "execution_count": 55,
     "metadata": {},
     "output_type": "execute_result"
    }
   ],
   "source": [
    "t[::]"
   ]
  },
  {
   "cell_type": "code",
   "execution_count": 56,
   "id": "2700e377-2bc3-412b-a6d3-1cf9b3f59029",
   "metadata": {},
   "outputs": [
    {
     "data": {
      "text/plain": [
       "('d', 'l', 'r', 'o', 'w', ' ', 'o', 'l', 'l', 'e', 'h')"
      ]
     },
     "execution_count": 56,
     "metadata": {},
     "output_type": "execute_result"
    }
   ],
   "source": [
    "t[::-1]"
   ]
  },
  {
   "cell_type": "code",
   "execution_count": null,
   "id": "2e43edb0-3d48-40b9-8bd4-6c5600df6e40",
   "metadata": {},
   "outputs": [],
   "source": []
  },
  {
   "cell_type": "code",
   "execution_count": 57,
   "id": "5cd10835-98c9-408e-a654-8e2f4c557190",
   "metadata": {},
   "outputs": [],
   "source": [
    "# Quiz"
   ]
  },
  {
   "cell_type": "code",
   "execution_count": 58,
   "id": "8f3602c7-ecb9-43d9-9069-124c6f28f2cd",
   "metadata": {},
   "outputs": [],
   "source": [
    "# Count and index"
   ]
  },
  {
   "cell_type": "code",
   "execution_count": 60,
   "id": "75dcce0e-9094-4768-9438-3316aad9274f",
   "metadata": {},
   "outputs": [
    {
     "data": {
      "text/plain": [
       "1"
      ]
     },
     "execution_count": 60,
     "metadata": {},
     "output_type": "execute_result"
    }
   ],
   "source": [
    "t.count('e')"
   ]
  },
  {
   "cell_type": "code",
   "execution_count": 61,
   "id": "784c9c94-a461-4a6d-8c7a-3051fa9ca822",
   "metadata": {},
   "outputs": [
    {
     "data": {
      "text/plain": [
       "3"
      ]
     },
     "execution_count": 61,
     "metadata": {},
     "output_type": "execute_result"
    }
   ],
   "source": [
    "t.count('l')"
   ]
  },
  {
   "cell_type": "code",
   "execution_count": 62,
   "id": "a350896d-ad30-4fa7-a4a8-20316382cc53",
   "metadata": {},
   "outputs": [
    {
     "data": {
      "text/plain": [
       "0"
      ]
     },
     "execution_count": 62,
     "metadata": {},
     "output_type": "execute_result"
    }
   ],
   "source": [
    "t.count('z')"
   ]
  },
  {
   "cell_type": "code",
   "execution_count": 64,
   "id": "1b3807be-421d-4a5e-9ae3-38e9b692ff6a",
   "metadata": {},
   "outputs": [
    {
     "data": {
      "text/plain": [
       "('h', 'e', 'l', 'l', 'o', ' ', 'w', 'o', 'r', 'l', 'd')"
      ]
     },
     "execution_count": 64,
     "metadata": {},
     "output_type": "execute_result"
    }
   ],
   "source": [
    "t"
   ]
  },
  {
   "cell_type": "code",
   "execution_count": 65,
   "id": "ab3214a9-1f49-4a3f-93d8-e8834a54ec35",
   "metadata": {},
   "outputs": [
    {
     "data": {
      "text/plain": [
       "2"
      ]
     },
     "execution_count": 65,
     "metadata": {},
     "output_type": "execute_result"
    }
   ],
   "source": [
    "t.index('l')"
   ]
  },
  {
   "cell_type": "code",
   "execution_count": 66,
   "id": "9cb32d99-18a2-4fbe-b011-1af970dfb441",
   "metadata": {},
   "outputs": [
    {
     "ename": "ValueError",
     "evalue": "tuple.index(x): x not in tuple",
     "output_type": "error",
     "traceback": [
      "\u001b[0;31m---------------------------------------------------------------------------\u001b[0m",
      "\u001b[0;31mValueError\u001b[0m                                Traceback (most recent call last)",
      "\u001b[0;32m/var/folders/t5/yhjgrjs907zfp250jyxtw54m0000gn/T/ipykernel_69356/2447317721.py\u001b[0m in \u001b[0;36m<module>\u001b[0;34m\u001b[0m\n\u001b[0;32m----> 1\u001b[0;31m \u001b[0mt\u001b[0m\u001b[0;34m.\u001b[0m\u001b[0mindex\u001b[0m\u001b[0;34m(\u001b[0m\u001b[0;34m'z'\u001b[0m\u001b[0;34m)\u001b[0m\u001b[0;34m\u001b[0m\u001b[0;34m\u001b[0m\u001b[0m\n\u001b[0m",
      "\u001b[0;31mValueError\u001b[0m: tuple.index(x): x not in tuple"
     ]
    }
   ],
   "source": [
    "t.index('z')"
   ]
  },
  {
   "cell_type": "code",
   "execution_count": null,
   "id": "491d1462-8ab2-4da6-b88d-ec8ddeab4ce6",
   "metadata": {},
   "outputs": [],
   "source": []
  },
  {
   "cell_type": "code",
   "execution_count": null,
   "id": "0ecefe5b-51be-4979-817b-6af00c6f027c",
   "metadata": {},
   "outputs": [],
   "source": []
  },
  {
   "cell_type": "code",
   "execution_count": 67,
   "id": "fca5f05d-02f6-400c-9e5d-7877bbd2a1e7",
   "metadata": {},
   "outputs": [],
   "source": [
    "# List, tuple : tuples are ~ 10x faster then lists"
   ]
  },
  {
   "cell_type": "code",
   "execution_count": 68,
   "id": "25120ab1-c5b1-4537-b972-23b33a7c5ecb",
   "metadata": {},
   "outputs": [],
   "source": [
    "l = list(t)"
   ]
  },
  {
   "cell_type": "code",
   "execution_count": 69,
   "id": "6b2da6bd-d7f9-48ba-ac4d-0990894c8e72",
   "metadata": {},
   "outputs": [
    {
     "data": {
      "text/plain": [
       "['h', 'e', 'l', 'l', 'o', ' ', 'w', 'o', 'r', 'l', 'd']"
      ]
     },
     "execution_count": 69,
     "metadata": {},
     "output_type": "execute_result"
    }
   ],
   "source": [
    "l"
   ]
  },
  {
   "cell_type": "code",
   "execution_count": 71,
   "id": "2dccf525-a829-4fcd-8a50-985a66369045",
   "metadata": {},
   "outputs": [],
   "source": [
    "l[1] = 12"
   ]
  },
  {
   "cell_type": "code",
   "execution_count": 72,
   "id": "d322db31-4037-428a-bfdb-55e22ea51873",
   "metadata": {},
   "outputs": [
    {
     "data": {
      "text/plain": [
       "['h', 12, 'l', 'l', 'o', ' ', 'w', 'o', 'r', 'l', 'd']"
      ]
     },
     "execution_count": 72,
     "metadata": {},
     "output_type": "execute_result"
    }
   ],
   "source": [
    "l"
   ]
  },
  {
   "cell_type": "code",
   "execution_count": 73,
   "id": "fc2000fb-d2e1-43b0-abba-7d50a2e8d1c2",
   "metadata": {},
   "outputs": [],
   "source": [
    "t = tuple(l)"
   ]
  },
  {
   "cell_type": "code",
   "execution_count": 74,
   "id": "4bc3cc9c-f3d1-4d53-93e2-6ebb80d6a9be",
   "metadata": {},
   "outputs": [
    {
     "data": {
      "text/plain": [
       "('h', 12, 'l', 'l', 'o', ' ', 'w', 'o', 'r', 'l', 'd')"
      ]
     },
     "execution_count": 74,
     "metadata": {},
     "output_type": "execute_result"
    }
   ],
   "source": [
    "t"
   ]
  },
  {
   "cell_type": "code",
   "execution_count": null,
   "id": "0620dd36-4c97-4181-81dc-2689da61f84d",
   "metadata": {},
   "outputs": [],
   "source": []
  },
  {
   "cell_type": "code",
   "execution_count": 75,
   "id": "3a60991b-0530-4bfd-b591-2d9e19e32b12",
   "metadata": {},
   "outputs": [
    {
     "ename": "AttributeError",
     "evalue": "'tuple' object has no attribute 'append'",
     "output_type": "error",
     "traceback": [
      "\u001b[0;31m---------------------------------------------------------------------------\u001b[0m",
      "\u001b[0;31mAttributeError\u001b[0m                            Traceback (most recent call last)",
      "\u001b[0;32m/var/folders/t5/yhjgrjs907zfp250jyxtw54m0000gn/T/ipykernel_69356/2503170358.py\u001b[0m in \u001b[0;36m<module>\u001b[0;34m\u001b[0m\n\u001b[1;32m      1\u001b[0m \u001b[0ms\u001b[0m \u001b[0;34m=\u001b[0m \u001b[0mtuple\u001b[0m\u001b[0;34m(\u001b[0m\u001b[0;34m)\u001b[0m\u001b[0;34m\u001b[0m\u001b[0;34m\u001b[0m\u001b[0m\n\u001b[0;32m----> 2\u001b[0;31m \u001b[0ms\u001b[0m\u001b[0;34m.\u001b[0m\u001b[0mappend\u001b[0m\u001b[0;34m(\u001b[0m\u001b[0;36m5\u001b[0m\u001b[0;34m)\u001b[0m\u001b[0;34m\u001b[0m\u001b[0;34m\u001b[0m\u001b[0m\n\u001b[0m",
      "\u001b[0;31mAttributeError\u001b[0m: 'tuple' object has no attribute 'append'"
     ]
    }
   ],
   "source": [
    "s = tuple()\n",
    "s.append(5)"
   ]
  },
  {
   "cell_type": "code",
   "execution_count": null,
   "id": "44c4be48-af73-466a-a163-4e446605a72d",
   "metadata": {},
   "outputs": [],
   "source": []
  },
  {
   "cell_type": "code",
   "execution_count": 78,
   "id": "8c8cf0fa-4920-4987-9cc1-bc020dcbcbfb",
   "metadata": {},
   "outputs": [],
   "source": [
    "# Tuples are faster than list\n",
    "# Tuples are immutable\n",
    "# They are heterogenous\n",
    "# They have limited methods/functionality\n",
    "# They follow indexing\n",
    "# We use them when frozen data is being required"
   ]
  },
  {
   "cell_type": "code",
   "execution_count": null,
   "id": "bf07809a-18b5-4c2f-b42a-83478bdb5d7b",
   "metadata": {},
   "outputs": [],
   "source": []
  },
  {
   "cell_type": "code",
   "execution_count": 79,
   "id": "15610728-dd6e-4548-a9f1-a751c9b77c5f",
   "metadata": {},
   "outputs": [
    {
     "name": "stdout",
     "output_type": "stream",
     "text": [
      "6\n"
     ]
    }
   ],
   "source": [
    "x = (1, 2, 3)\n",
    "y = (4, 5, 6)\n",
    "z = x + y\n",
    "print(len(z))"
   ]
  },
  {
   "cell_type": "code",
   "execution_count": 80,
   "id": "74211a73-d83f-4dc1-b0cb-bda15778d101",
   "metadata": {},
   "outputs": [
    {
     "name": "stdout",
     "output_type": "stream",
     "text": [
      "(1, 2, 3, 4, 5, 6)\n"
     ]
    }
   ],
   "source": [
    "print(z)"
   ]
  },
  {
   "cell_type": "code",
   "execution_count": 82,
   "id": "09882e3d-92a0-471a-bf87-d657ae4c4e4e",
   "metadata": {},
   "outputs": [
    {
     "name": "stdout",
     "output_type": "stream",
     "text": [
      "(4, 5, 6)\n"
     ]
    }
   ],
   "source": [
    "print(y)"
   ]
  },
  {
   "cell_type": "code",
   "execution_count": null,
   "id": "85789467-f600-4749-ad9f-51d2a9f86a4a",
   "metadata": {},
   "outputs": [],
   "source": []
  },
  {
   "cell_type": "markdown",
   "id": "068336ee-35cd-495a-9cd0-18220e0f5218",
   "metadata": {},
   "source": [
    "## Sets"
   ]
  },
  {
   "cell_type": "markdown",
   "id": "2b5b0acd-bf6a-4b39-8008-5109b12b4349",
   "metadata": {},
   "source": [
    "Problem: Suppose that you are working as a data analyst at an edtech company. The edtech company is offering courses on Calculus(C) and Linear Algebra(L) among many others. Now you want to represent the students in the courses. Which data structure to use?\n",
    "- Assume all names are unique for the students taking part in the edtech company. We have done this for better understanding. We could have taken id which will be unique.\n",
    "\n",
    "Options?\n",
    "\n",
    "- Lists => It can contain duplicate values\n",
    "- Tuples => It can also contain duplicate values.\n",
    "\n",
    "There is a different alternative => Sets"
   ]
  },
  {
   "cell_type": "code",
   "execution_count": 84,
   "id": "b0a6eb49-81fb-4b94-b473-c92da0c8a793",
   "metadata": {},
   "outputs": [],
   "source": [
    "l = [\"Bhanu\", \"Rahul\", \"Bhanu\"]"
   ]
  },
  {
   "cell_type": "code",
   "execution_count": 85,
   "id": "7c266998-b25a-42ea-bf6f-9a7442438e1c",
   "metadata": {},
   "outputs": [
    {
     "name": "stdout",
     "output_type": "stream",
     "text": [
      "['Bhanu', 'Rahul', 'Bhanu']\n"
     ]
    }
   ],
   "source": [
    "print(l)"
   ]
  },
  {
   "cell_type": "code",
   "execution_count": 86,
   "id": "449a61e4-c25b-4ca6-bb12-e285ccb2cc0a",
   "metadata": {},
   "outputs": [],
   "source": [
    "t = (\"Bhanu\", \"Rahul\", \"Bhanu\")"
   ]
  },
  {
   "cell_type": "code",
   "execution_count": 87,
   "id": "778a98a3-4d08-4abd-800a-0d9d3a773d03",
   "metadata": {},
   "outputs": [
    {
     "name": "stdout",
     "output_type": "stream",
     "text": [
      "('Bhanu', 'Rahul', 'Bhanu')\n"
     ]
    }
   ],
   "source": [
    "print(t)"
   ]
  },
  {
   "cell_type": "code",
   "execution_count": null,
   "id": "53b2d7cd-ab99-4286-a0d9-86e2e1606995",
   "metadata": {},
   "outputs": [],
   "source": []
  },
  {
   "cell_type": "code",
   "execution_count": 88,
   "id": "f92ccb93-c6eb-4680-9762-009bfd5b096e",
   "metadata": {},
   "outputs": [],
   "source": [
    "# Sets are unordered data structure"
   ]
  },
  {
   "cell_type": "code",
   "execution_count": 89,
   "id": "a07bfec8-e314-45d8-b3aa-6cbb9837ae24",
   "metadata": {},
   "outputs": [],
   "source": [
    "students = {\"Bhanu\", \"Rahul\", \"Bhanu\", \"Rahul\", \"Rajasekar\"}"
   ]
  },
  {
   "cell_type": "code",
   "execution_count": 90,
   "id": "b20a2398-7d97-4b80-8b21-5bd2552146bf",
   "metadata": {},
   "outputs": [
    {
     "data": {
      "text/plain": [
       "set"
      ]
     },
     "execution_count": 90,
     "metadata": {},
     "output_type": "execute_result"
    }
   ],
   "source": [
    "type(students)"
   ]
  },
  {
   "cell_type": "code",
   "execution_count": 91,
   "id": "913e2ce1-b808-4182-99cb-5fd03349b614",
   "metadata": {},
   "outputs": [
    {
     "name": "stdout",
     "output_type": "stream",
     "text": [
      "{'Bhanu', 'Rajasekar', 'Rahul'}\n"
     ]
    }
   ],
   "source": [
    "print(students)"
   ]
  },
  {
   "cell_type": "code",
   "execution_count": null,
   "id": "6e0180fe-0643-4854-b4e4-911cdbad8780",
   "metadata": {},
   "outputs": [],
   "source": []
  },
  {
   "cell_type": "code",
   "execution_count": 92,
   "id": "61be29df-812f-43b4-8345-8e488fb17420",
   "metadata": {},
   "outputs": [],
   "source": [
    "# in operator"
   ]
  },
  {
   "cell_type": "code",
   "execution_count": 93,
   "id": "df512000-6d18-4f09-bbd0-4c891c84b34b",
   "metadata": {},
   "outputs": [
    {
     "data": {
      "text/plain": [
       "True"
      ]
     },
     "execution_count": 93,
     "metadata": {},
     "output_type": "execute_result"
    }
   ],
   "source": [
    "\"Rahul\" in students"
   ]
  },
  {
   "cell_type": "code",
   "execution_count": 94,
   "id": "1eb27337-8485-4a3e-8100-66382ac1918d",
   "metadata": {},
   "outputs": [
    {
     "data": {
      "text/plain": [
       "False"
      ]
     },
     "execution_count": 94,
     "metadata": {},
     "output_type": "execute_result"
    }
   ],
   "source": [
    "\"Naman\" in students"
   ]
  },
  {
   "cell_type": "code",
   "execution_count": null,
   "id": "822f63b1-a191-465c-a55e-ee3b8fac51af",
   "metadata": {},
   "outputs": [],
   "source": []
  },
  {
   "cell_type": "code",
   "execution_count": null,
   "id": "0faadf8c-2c4b-4a12-b3cd-271b04fd136c",
   "metadata": {},
   "outputs": [],
   "source": []
  },
  {
   "cell_type": "markdown",
   "id": "b1cd49a6-5693-499a-8344-64f4477dba46",
   "metadata": {},
   "source": [
    "### Creation\n",
    "- set()\n",
    "- set(iterable)"
   ]
  },
  {
   "cell_type": "code",
   "execution_count": 95,
   "id": "d30fd4dd-097f-4ff4-8f9e-3879988a540f",
   "metadata": {},
   "outputs": [],
   "source": [
    "# set\n",
    "# dict"
   ]
  },
  {
   "cell_type": "code",
   "execution_count": 96,
   "id": "ce13ef8f-5105-44ea-8fa8-7f1a6fef42fa",
   "metadata": {},
   "outputs": [
    {
     "data": {
      "text/plain": [
       "dict"
      ]
     },
     "execution_count": 96,
     "metadata": {},
     "output_type": "execute_result"
    }
   ],
   "source": [
    "s = {}\n",
    "\n",
    "type(s)"
   ]
  },
  {
   "cell_type": "code",
   "execution_count": 97,
   "id": "387f8f7e-7209-4d54-808f-7408dde428cb",
   "metadata": {},
   "outputs": [],
   "source": [
    "s = set()"
   ]
  },
  {
   "cell_type": "code",
   "execution_count": 98,
   "id": "520d7af8-ec14-4a97-acec-526a9dee5e03",
   "metadata": {},
   "outputs": [
    {
     "data": {
      "text/plain": [
       "set"
      ]
     },
     "execution_count": 98,
     "metadata": {},
     "output_type": "execute_result"
    }
   ],
   "source": [
    "type(s)"
   ]
  },
  {
   "cell_type": "code",
   "execution_count": 100,
   "id": "d582e9df-d270-40db-83da-5806e3e68b0a",
   "metadata": {},
   "outputs": [
    {
     "data": {
      "text/plain": [
       "0"
      ]
     },
     "execution_count": 100,
     "metadata": {},
     "output_type": "execute_result"
    }
   ],
   "source": [
    "len(s)"
   ]
  },
  {
   "cell_type": "code",
   "execution_count": 102,
   "id": "14f4711a-ea6a-44a5-a7b4-d9a1e471ed91",
   "metadata": {},
   "outputs": [],
   "source": [
    "s = set(\"rahul\")"
   ]
  },
  {
   "cell_type": "code",
   "execution_count": 103,
   "id": "2e2095b4-aced-4787-a4b9-04213b1aeb25",
   "metadata": {},
   "outputs": [
    {
     "name": "stdout",
     "output_type": "stream",
     "text": [
      "{'l', 'r', 'u', 'a', 'h'}\n"
     ]
    }
   ],
   "source": [
    "print(s)"
   ]
  },
  {
   "cell_type": "code",
   "execution_count": null,
   "id": "e155bbe5-99c2-4501-9af2-3166be07ae98",
   "metadata": {},
   "outputs": [],
   "source": []
  },
  {
   "cell_type": "code",
   "execution_count": null,
   "id": "60ae4e64-052f-47dc-b34f-1e987375764e",
   "metadata": {},
   "outputs": [],
   "source": []
  },
  {
   "cell_type": "code",
   "execution_count": 104,
   "id": "3c0ca599-3365-4445-83cf-a82430d88a77",
   "metadata": {},
   "outputs": [],
   "source": [
    "# Set is taking care of duplicate values"
   ]
  },
  {
   "cell_type": "code",
   "execution_count": 107,
   "id": "469bcde6-40fe-47e6-9c92-8b1ab16044e9",
   "metadata": {},
   "outputs": [],
   "source": [
    "name = set(\"Rahul Janghu\")"
   ]
  },
  {
   "cell_type": "code",
   "execution_count": 108,
   "id": "1cef97f5-8c9b-40e9-8d1f-8eb011ef57b4",
   "metadata": {},
   "outputs": [
    {
     "data": {
      "text/plain": [
       "{' ', 'J', 'R', 'a', 'g', 'h', 'l', 'n', 'u'}"
      ]
     },
     "execution_count": 108,
     "metadata": {},
     "output_type": "execute_result"
    }
   ],
   "source": [
    "name"
   ]
  },
  {
   "cell_type": "code",
   "execution_count": null,
   "id": "ceb4b59c-362a-40f2-9083-3cdd932abe89",
   "metadata": {},
   "outputs": [],
   "source": []
  },
  {
   "cell_type": "code",
   "execution_count": null,
   "id": "c98a9fe4-1442-4ba4-8c2b-0c0ee08bd699",
   "metadata": {},
   "outputs": [],
   "source": []
  },
  {
   "cell_type": "code",
   "execution_count": 105,
   "id": "08ffd27d-d307-443a-907e-51df2d38938e",
   "metadata": {},
   "outputs": [],
   "source": [
    "# Quiz"
   ]
  },
  {
   "cell_type": "code",
   "execution_count": 112,
   "id": "62181223-9d94-4c4c-a82c-f0e43ade3d3d",
   "metadata": {},
   "outputs": [
    {
     "data": {
      "text/plain": [
       "{' ', 'd', 'e', 'h', 'l', 'o', 'r', 'w'}"
      ]
     },
     "execution_count": 112,
     "metadata": {},
     "output_type": "execute_result"
    }
   ],
   "source": [
    "set('hello world')"
   ]
  },
  {
   "cell_type": "code",
   "execution_count": 113,
   "id": "7ac03c07-3d9b-4151-95bf-619f9aa0e2b6",
   "metadata": {},
   "outputs": [
    {
     "name": "stdout",
     "output_type": "stream",
     "text": [
      "3\n"
     ]
    }
   ],
   "source": [
    "l = [1,1,2,2,3,3]\n",
    "s = set(l)\n",
    "print(len(s))"
   ]
  },
  {
   "cell_type": "code",
   "execution_count": null,
   "id": "460ec6c2-4778-4829-b32c-f60b9ce137cf",
   "metadata": {},
   "outputs": [],
   "source": []
  },
  {
   "cell_type": "code",
   "execution_count": null,
   "id": "0001cf35-f93c-4ec1-b549-754f7f3a0c90",
   "metadata": {},
   "outputs": [],
   "source": []
  },
  {
   "cell_type": "code",
   "execution_count": null,
   "id": "b8c457d7-b770-4a29-bed7-a14d96cc7300",
   "metadata": {},
   "outputs": [],
   "source": []
  },
  {
   "cell_type": "markdown",
   "id": "7a3fe06f-acb0-4688-8f1d-390d1193396b",
   "metadata": {},
   "source": [
    "### Iteration and indexing?"
   ]
  },
  {
   "cell_type": "markdown",
   "id": "93a4c0ea-be6f-4f81-b8ca-c2a1a87013b9",
   "metadata": {},
   "source": [
    "- We cannot access a set item by referring to an index or a key. If you cannot access an element we cannot modify it. That's why it is also unchangeable\n",
    "- We can however run a loop to iterate."
   ]
  },
  {
   "cell_type": "code",
   "execution_count": 114,
   "id": "7337945c-3711-4ea1-a2c9-c660abf6131f",
   "metadata": {},
   "outputs": [],
   "source": [
    "# Sets does not support indexing\n",
    "# admissions[0]"
   ]
  },
  {
   "cell_type": "code",
   "execution_count": 116,
   "id": "628c5461-75f9-484e-9da5-256f92bce023",
   "metadata": {},
   "outputs": [
    {
     "data": {
      "text/plain": [
       "{1, 2, 3}"
      ]
     },
     "execution_count": 116,
     "metadata": {},
     "output_type": "execute_result"
    }
   ],
   "source": [
    "s"
   ]
  },
  {
   "cell_type": "code",
   "execution_count": 118,
   "id": "cccef3b0-2a50-4644-bb50-8815db37fea8",
   "metadata": {},
   "outputs": [],
   "source": [
    "# s[0]\n",
    "# Sets does not support indexing"
   ]
  },
  {
   "cell_type": "code",
   "execution_count": 122,
   "id": "d531a787-7370-4513-8821-54b82f169c46",
   "metadata": {},
   "outputs": [
    {
     "data": {
      "text/plain": [
       "{' ', 'J', 'R', 'a', 'g', 'h', 'l', 'n', 'u'}"
      ]
     },
     "execution_count": 122,
     "metadata": {},
     "output_type": "execute_result"
    }
   ],
   "source": [
    "name"
   ]
  },
  {
   "cell_type": "code",
   "execution_count": 123,
   "id": "6c5f30fd-a0e5-4433-a57c-1c5e6c737cb9",
   "metadata": {},
   "outputs": [
    {
     "name": "stdout",
     "output_type": "stream",
     "text": [
      "['__and__', '__class__', '__class_getitem__', '__contains__', '__delattr__', '__dir__', '__doc__', '__eq__', '__format__', '__ge__', '__getattribute__', '__gt__', '__hash__', '__iand__', '__init__', '__init_subclass__', '__ior__', '__isub__', '__iter__', '__ixor__', '__le__', '__len__', '__lt__', '__ne__', '__new__', '__or__', '__rand__', '__reduce__', '__reduce_ex__', '__repr__', '__ror__', '__rsub__', '__rxor__', '__setattr__', '__sizeof__', '__str__', '__sub__', '__subclasshook__', '__xor__', 'add', 'clear', 'copy', 'difference', 'difference_update', 'discard', 'intersection', 'intersection_update', 'isdisjoint', 'issubset', 'issuperset', 'pop', 'remove', 'symmetric_difference', 'symmetric_difference_update', 'union', 'update']\n"
     ]
    }
   ],
   "source": [
    "print(dir(name))"
   ]
  },
  {
   "cell_type": "code",
   "execution_count": 125,
   "id": "0d89d816-746a-4bf1-98c8-16ba5cdcaf91",
   "metadata": {},
   "outputs": [
    {
     "data": {
      "text/plain": [
       "{' ', 'J', 'R', 'a', 'g', 'h', 'l', 'n', 'u'}"
      ]
     },
     "execution_count": 125,
     "metadata": {},
     "output_type": "execute_result"
    }
   ],
   "source": [
    "name"
   ]
  },
  {
   "cell_type": "code",
   "execution_count": 128,
   "id": "c3531865-a8ff-43ff-958b-ce8086b042c5",
   "metadata": {},
   "outputs": [
    {
     "name": "stdout",
     "output_type": "stream",
     "text": [
      "g\n",
      "l\n",
      "n\n",
      " \n",
      "u\n",
      "a\n",
      "h\n",
      "J\n",
      "R\n"
     ]
    }
   ],
   "source": [
    "for i in name:\n",
    "    print(i)"
   ]
  },
  {
   "cell_type": "code",
   "execution_count": null,
   "id": "1398a8b3-7fb8-4b6c-8d4d-58c27e72715b",
   "metadata": {},
   "outputs": [],
   "source": []
  },
  {
   "cell_type": "code",
   "execution_count": null,
   "id": "3997071e-f1b2-4c42-9f8c-32f99191bdf6",
   "metadata": {},
   "outputs": [],
   "source": []
  },
  {
   "cell_type": "code",
   "execution_count": null,
   "id": "e3ba0e77-5ca2-4277-8f37-33a72e578903",
   "metadata": {},
   "outputs": [],
   "source": []
  },
  {
   "cell_type": "markdown",
   "id": "6793fc7f-fa0c-4c4c-99d3-e20248836f33",
   "metadata": {},
   "source": [
    "#### Challenge: Count number of unique words in a sentence\n",
    "- Input: \"the quick brown fox jumps over the lazy dog\"\n",
    "- Output: 8"
   ]
  },
  {
   "cell_type": "code",
   "execution_count": 129,
   "id": "fe9b52cc-b42c-4355-8213-e7e82bfd1514",
   "metadata": {},
   "outputs": [],
   "source": [
    "sen = \"the quick brown fox jumps over the lazy dog\""
   ]
  },
  {
   "cell_type": "code",
   "execution_count": 130,
   "id": "6f4682d0-fd8a-4cb7-ae7c-3218c963ba78",
   "metadata": {},
   "outputs": [],
   "source": [
    "s1 = set(sen)"
   ]
  },
  {
   "cell_type": "code",
   "execution_count": 131,
   "id": "8e0fe982-5948-4ab4-93ed-f47c4f8f6104",
   "metadata": {},
   "outputs": [
    {
     "name": "stdout",
     "output_type": "stream",
     "text": [
      "{'g', 'w', 'u', 'f', 't', 'q', 'c', 'l', 'x', ' ', 'b', 'p', 'e', 'o', 'm', 'j', 'a', 'k', 'h', 'd', 'v', 'y', 'i', 's', 'n', 'r', 'z'}\n"
     ]
    }
   ],
   "source": [
    "print(s1)"
   ]
  },
  {
   "cell_type": "code",
   "execution_count": null,
   "id": "90ddf7a7-03a2-406e-b49c-ef6eebdf09ff",
   "metadata": {},
   "outputs": [],
   "source": []
  },
  {
   "cell_type": "code",
   "execution_count": 132,
   "id": "b3ba33a7-9df1-4a7a-9bf2-4b3a3221b842",
   "metadata": {},
   "outputs": [],
   "source": [
    "l = sen.split()"
   ]
  },
  {
   "cell_type": "code",
   "execution_count": 133,
   "id": "8b1a1d1b-5b82-47cd-a742-af48d46fe53c",
   "metadata": {},
   "outputs": [
    {
     "data": {
      "text/plain": [
       "['the', 'quick', 'brown', 'fox', 'jumps', 'over', 'the', 'lazy', 'dog']"
      ]
     },
     "execution_count": 133,
     "metadata": {},
     "output_type": "execute_result"
    }
   ],
   "source": [
    "l"
   ]
  },
  {
   "cell_type": "code",
   "execution_count": 134,
   "id": "7e6270f9-badf-4abf-848f-34020d133772",
   "metadata": {},
   "outputs": [],
   "source": [
    "s = set(l)"
   ]
  },
  {
   "cell_type": "code",
   "execution_count": 135,
   "id": "40719fd6-e2eb-430d-b32d-143229d2ae10",
   "metadata": {},
   "outputs": [
    {
     "data": {
      "text/plain": [
       "{'brown', 'dog', 'fox', 'jumps', 'lazy', 'over', 'quick', 'the'}"
      ]
     },
     "execution_count": 135,
     "metadata": {},
     "output_type": "execute_result"
    }
   ],
   "source": [
    "s"
   ]
  },
  {
   "cell_type": "code",
   "execution_count": 136,
   "id": "874c1c3f-ba4d-4523-9206-5d289a3a8fc7",
   "metadata": {},
   "outputs": [
    {
     "name": "stdout",
     "output_type": "stream",
     "text": [
      "8\n"
     ]
    }
   ],
   "source": [
    "print(len(s))"
   ]
  },
  {
   "cell_type": "code",
   "execution_count": 137,
   "id": "39c75def-79b5-43f8-b920-efe11db21922",
   "metadata": {},
   "outputs": [],
   "source": [
    "# Final code"
   ]
  },
  {
   "cell_type": "code",
   "execution_count": 138,
   "id": "aeec4ae8-a14e-4dd0-9c2b-e77505ab5942",
   "metadata": {},
   "outputs": [],
   "source": [
    "def unique_words(sen):\n",
    "    return len(set(sen.split()))"
   ]
  },
  {
   "cell_type": "code",
   "execution_count": 139,
   "id": "ddd15fbf-6240-4c8d-8da3-30b4af801246",
   "metadata": {},
   "outputs": [
    {
     "data": {
      "text/plain": [
       "8"
      ]
     },
     "execution_count": 139,
     "metadata": {},
     "output_type": "execute_result"
    }
   ],
   "source": [
    "unique_words(sen)"
   ]
  },
  {
   "cell_type": "code",
   "execution_count": null,
   "id": "0b8ee164-71aa-4ed8-85aa-c3bf527fcb0f",
   "metadata": {},
   "outputs": [],
   "source": []
  },
  {
   "cell_type": "markdown",
   "id": "b9d87f3e-218e-4a2e-bb81-90468f28a141",
   "metadata": {},
   "source": [
    "### Updating a set\n",
    "- add: For single element\n",
    "- update(iterable)"
   ]
  },
  {
   "cell_type": "code",
   "execution_count": 142,
   "id": "f6bd6cc5-5669-42f6-9a60-d8bf1db949fd",
   "metadata": {},
   "outputs": [],
   "source": [
    "# add"
   ]
  },
  {
   "cell_type": "code",
   "execution_count": 143,
   "id": "215c3f05-06a1-400b-b6ed-b0dcb821f53f",
   "metadata": {},
   "outputs": [],
   "source": [
    "# Quiz"
   ]
  },
  {
   "cell_type": "code",
   "execution_count": 144,
   "id": "22c55b7a-d25b-4370-a98b-84644e98b272",
   "metadata": {},
   "outputs": [],
   "source": [
    "bag = {\"Shoes\", \"Gloves\", \"Stick\", \"Warm clothes\", \"Tent\"}"
   ]
  },
  {
   "cell_type": "code",
   "execution_count": 145,
   "id": "1312bcbb-068a-4337-b60f-214febf86cd4",
   "metadata": {},
   "outputs": [],
   "source": [
    "bag.add(\"Lighter\")"
   ]
  },
  {
   "cell_type": "code",
   "execution_count": 146,
   "id": "b8a35cc1-19b2-4b32-bbc1-b1490606cada",
   "metadata": {},
   "outputs": [],
   "source": [
    "bag.add(\"Tent\")"
   ]
  },
  {
   "cell_type": "code",
   "execution_count": 148,
   "id": "6d3a5dc1-6bc4-4838-ae28-2324208f381b",
   "metadata": {},
   "outputs": [],
   "source": [
    "bag.add(\"Water\")"
   ]
  },
  {
   "cell_type": "code",
   "execution_count": 149,
   "id": "b160217f-8faa-4c1b-8ea2-26c919aa5938",
   "metadata": {},
   "outputs": [
    {
     "data": {
      "text/plain": [
       "{'Gloves', 'Lighter', 'Shoes', 'Stick', 'Tent', 'Warm clothes', 'Water'}"
      ]
     },
     "execution_count": 149,
     "metadata": {},
     "output_type": "execute_result"
    }
   ],
   "source": [
    "bag"
   ]
  },
  {
   "cell_type": "code",
   "execution_count": 151,
   "id": "3a1a4684-1ff6-4ac8-a8c8-f31fbb37dc80",
   "metadata": {},
   "outputs": [
    {
     "ename": "TypeError",
     "evalue": "unhashable type: 'set'",
     "output_type": "error",
     "traceback": [
      "\u001b[0;31m---------------------------------------------------------------------------\u001b[0m",
      "\u001b[0;31mTypeError\u001b[0m                                 Traceback (most recent call last)",
      "\u001b[0;32m/var/folders/t5/yhjgrjs907zfp250jyxtw54m0000gn/T/ipykernel_69356/3485139144.py\u001b[0m in \u001b[0;36m<module>\u001b[0;34m\u001b[0m\n\u001b[0;32m----> 1\u001b[0;31m \u001b[0mbag\u001b[0m\u001b[0;34m.\u001b[0m\u001b[0madd\u001b[0m\u001b[0;34m(\u001b[0m\u001b[0;34m{\u001b[0m\u001b[0;34m\"Torch\"\u001b[0m\u001b[0;34m,\u001b[0m \u001b[0;34m\"Compass\"\u001b[0m\u001b[0;34m}\u001b[0m\u001b[0;34m)\u001b[0m\u001b[0;34m\u001b[0m\u001b[0;34m\u001b[0m\u001b[0m\n\u001b[0m",
      "\u001b[0;31mTypeError\u001b[0m: unhashable type: 'set'"
     ]
    }
   ],
   "source": [
    "bag.add({\"Torch\", \"Compass\"})"
   ]
  },
  {
   "cell_type": "code",
   "execution_count": null,
   "id": "e07fa517-07a3-4b5c-88ff-89751d2032dd",
   "metadata": {},
   "outputs": [],
   "source": []
  },
  {
   "cell_type": "code",
   "execution_count": null,
   "id": "45038f3e-62d7-41de-9456-d07fcf72c1ee",
   "metadata": {},
   "outputs": [],
   "source": []
  },
  {
   "cell_type": "code",
   "execution_count": 152,
   "id": "cf6eb2fe-8297-40bd-aa7f-491ed57938a9",
   "metadata": {},
   "outputs": [],
   "source": [
    "# update"
   ]
  },
  {
   "cell_type": "code",
   "execution_count": 153,
   "id": "06dde498-bf6b-461a-ad70-33a4126330f4",
   "metadata": {},
   "outputs": [
    {
     "data": {
      "text/plain": [
       "{'Gloves', 'Lighter', 'Shoes', 'Stick', 'Tent', 'Warm clothes', 'Water'}"
      ]
     },
     "execution_count": 153,
     "metadata": {},
     "output_type": "execute_result"
    }
   ],
   "source": [
    "bag"
   ]
  },
  {
   "cell_type": "code",
   "execution_count": 154,
   "id": "ca77094e-937e-402d-9647-9d8814b190f5",
   "metadata": {},
   "outputs": [],
   "source": [
    "toilet_kit = {\"Soap\", \"Tooth Brush\", \"Facewash\"}"
   ]
  },
  {
   "cell_type": "code",
   "execution_count": 155,
   "id": "c9f971c2-d269-45d3-93d4-d86624027426",
   "metadata": {},
   "outputs": [],
   "source": [
    "bag.update(toilet_kit)"
   ]
  },
  {
   "cell_type": "code",
   "execution_count": 156,
   "id": "d0321044-c00e-450f-98dc-a5ff113189da",
   "metadata": {},
   "outputs": [
    {
     "data": {
      "text/plain": [
       "{'Facewash',\n",
       " 'Gloves',\n",
       " 'Lighter',\n",
       " 'Shoes',\n",
       " 'Soap',\n",
       " 'Stick',\n",
       " 'Tent',\n",
       " 'Tooth Brush',\n",
       " 'Warm clothes',\n",
       " 'Water'}"
      ]
     },
     "execution_count": 156,
     "metadata": {},
     "output_type": "execute_result"
    }
   ],
   "source": [
    "bag"
   ]
  },
  {
   "cell_type": "code",
   "execution_count": null,
   "id": "f6a91dd3-85e3-46cb-a611-4278a519741b",
   "metadata": {},
   "outputs": [],
   "source": []
  },
  {
   "cell_type": "code",
   "execution_count": 160,
   "id": "fea7c96d-8b38-4576-b5b6-d93aac86bfa9",
   "metadata": {},
   "outputs": [],
   "source": [
    "fragrance = [\"Deo\", \"Perfume\"]"
   ]
  },
  {
   "cell_type": "code",
   "execution_count": 163,
   "id": "df3b4483-4625-4209-97a5-ec1f33975264",
   "metadata": {},
   "outputs": [],
   "source": [
    "bag.update(\"Rahul\")"
   ]
  },
  {
   "cell_type": "code",
   "execution_count": 164,
   "id": "4eec469e-61a6-4bf5-b88c-720d2757739f",
   "metadata": {},
   "outputs": [
    {
     "data": {
      "text/plain": [
       "{'Deo',\n",
       " 'Facewash',\n",
       " 'Gloves',\n",
       " 'Lighter',\n",
       " 'Perfume',\n",
       " 'R',\n",
       " 'Shoes',\n",
       " 'Soap',\n",
       " 'Stick',\n",
       " 'Tent',\n",
       " 'Tooth Brush',\n",
       " 'Warm clothes',\n",
       " 'Water',\n",
       " 'a',\n",
       " 'h',\n",
       " 'l',\n",
       " 'u'}"
      ]
     },
     "execution_count": 164,
     "metadata": {},
     "output_type": "execute_result"
    }
   ],
   "source": [
    "bag"
   ]
  },
  {
   "cell_type": "code",
   "execution_count": 157,
   "id": "9ac558f2-4a73-4ff5-a3ce-ce4270d65aac",
   "metadata": {},
   "outputs": [],
   "source": [
    "# Quiz"
   ]
  },
  {
   "cell_type": "code",
   "execution_count": 158,
   "id": "ab37da9d-6039-4a61-b711-2861f7442ead",
   "metadata": {},
   "outputs": [],
   "source": [
    "# Set does not have append method for itself"
   ]
  },
  {
   "cell_type": "code",
   "execution_count": 159,
   "id": "ef25baf4-b7a8-4708-834d-90a028d39925",
   "metadata": {},
   "outputs": [
    {
     "ename": "AttributeError",
     "evalue": "'set' object has no attribute 'append'",
     "output_type": "error",
     "traceback": [
      "\u001b[0;31m---------------------------------------------------------------------------\u001b[0m",
      "\u001b[0;31mAttributeError\u001b[0m                            Traceback (most recent call last)",
      "\u001b[0;32m/var/folders/t5/yhjgrjs907zfp250jyxtw54m0000gn/T/ipykernel_69356/2836589558.py\u001b[0m in \u001b[0;36m<module>\u001b[0;34m\u001b[0m\n\u001b[1;32m      1\u001b[0m \u001b[0ms\u001b[0m \u001b[0;34m=\u001b[0m \u001b[0mset\u001b[0m\u001b[0;34m(\u001b[0m\u001b[0;34m)\u001b[0m\u001b[0;34m\u001b[0m\u001b[0;34m\u001b[0m\u001b[0m\n\u001b[0;32m----> 2\u001b[0;31m \u001b[0ms\u001b[0m\u001b[0;34m.\u001b[0m\u001b[0mappend\u001b[0m\u001b[0;34m(\u001b[0m\u001b[0;36m5\u001b[0m\u001b[0;34m)\u001b[0m\u001b[0;34m\u001b[0m\u001b[0;34m\u001b[0m\u001b[0m\n\u001b[0m",
      "\u001b[0;31mAttributeError\u001b[0m: 'set' object has no attribute 'append'"
     ]
    }
   ],
   "source": [
    "s = set()\n",
    "s.append(5)"
   ]
  },
  {
   "cell_type": "code",
   "execution_count": null,
   "id": "8ba866a9-82f7-4bf1-9a5d-ef49e3f3f739",
   "metadata": {},
   "outputs": [],
   "source": []
  },
  {
   "cell_type": "code",
   "execution_count": null,
   "id": "cbcfd271-70f0-4e8b-ae22-683c7abdea31",
   "metadata": {},
   "outputs": [],
   "source": []
  },
  {
   "cell_type": "code",
   "execution_count": null,
   "id": "953a1afb-0a97-4c88-8c6d-4d1453143303",
   "metadata": {},
   "outputs": [],
   "source": []
  },
  {
   "cell_type": "code",
   "execution_count": null,
   "id": "7f808a8e-6748-48c9-93bd-de1d4f021f3e",
   "metadata": {},
   "outputs": [],
   "source": []
  },
  {
   "cell_type": "code",
   "execution_count": null,
   "id": "19ac02d7-ca47-4905-8dfe-77aeb4721a98",
   "metadata": {},
   "outputs": [],
   "source": []
  },
  {
   "cell_type": "markdown",
   "id": "45c6ad9d-54a4-41b8-8564-f76e2bfcec97",
   "metadata": {},
   "source": [
    "### Deleting an element\n",
    "- pop: removes random element. We are not sure what it is\n",
    "- remove(element): Removes particular element"
   ]
  },
  {
   "cell_type": "code",
   "execution_count": 165,
   "id": "3c32484a-9426-49fc-a1ca-8b1c5cf2824a",
   "metadata": {},
   "outputs": [],
   "source": [
    "# Pop\n",
    "# Remove and return an arbitrary set element"
   ]
  },
  {
   "cell_type": "code",
   "execution_count": 166,
   "id": "f2405b28-0a9f-4e35-9dec-318aa0a7d99f",
   "metadata": {},
   "outputs": [],
   "source": [
    "element = bag.pop()"
   ]
  },
  {
   "cell_type": "code",
   "execution_count": 167,
   "id": "d374c47b-af5b-4895-9469-55e3704c3273",
   "metadata": {},
   "outputs": [
    {
     "data": {
      "text/plain": [
       "'Gloves'"
      ]
     },
     "execution_count": 167,
     "metadata": {},
     "output_type": "execute_result"
    }
   ],
   "source": [
    "element"
   ]
  },
  {
   "cell_type": "code",
   "execution_count": 168,
   "id": "f63d0e16-da7d-4e5e-affd-9b6bf327e4db",
   "metadata": {},
   "outputs": [
    {
     "data": {
      "text/plain": [
       "{'Deo',\n",
       " 'Facewash',\n",
       " 'Lighter',\n",
       " 'Perfume',\n",
       " 'R',\n",
       " 'Shoes',\n",
       " 'Soap',\n",
       " 'Stick',\n",
       " 'Tent',\n",
       " 'Tooth Brush',\n",
       " 'Warm clothes',\n",
       " 'Water',\n",
       " 'a',\n",
       " 'h',\n",
       " 'l',\n",
       " 'u'}"
      ]
     },
     "execution_count": 168,
     "metadata": {},
     "output_type": "execute_result"
    }
   ],
   "source": [
    "bag"
   ]
  },
  {
   "cell_type": "code",
   "execution_count": 169,
   "id": "c42e3f07-5778-4737-8356-09118a099b49",
   "metadata": {},
   "outputs": [
    {
     "data": {
      "text/plain": [
       "'Deo'"
      ]
     },
     "execution_count": 169,
     "metadata": {},
     "output_type": "execute_result"
    }
   ],
   "source": [
    "bag.pop()"
   ]
  },
  {
   "cell_type": "code",
   "execution_count": null,
   "id": "5954b047-1865-4b80-96ca-51add473b909",
   "metadata": {},
   "outputs": [],
   "source": []
  },
  {
   "cell_type": "code",
   "execution_count": null,
   "id": "bef52f57-2de1-4263-9ece-569f721c6094",
   "metadata": {},
   "outputs": [],
   "source": []
  },
  {
   "cell_type": "code",
   "execution_count": 170,
   "id": "6b414355-73c1-49d8-831b-5ee4a9454181",
   "metadata": {},
   "outputs": [],
   "source": [
    "# Remove helps to remove a particular element fron your set\n",
    "# It will not return"
   ]
  },
  {
   "cell_type": "code",
   "execution_count": 171,
   "id": "e101781d-f822-47f7-a5a8-5b3b5f44167f",
   "metadata": {},
   "outputs": [
    {
     "data": {
      "text/plain": [
       "{'Facewash',\n",
       " 'Lighter',\n",
       " 'Perfume',\n",
       " 'R',\n",
       " 'Shoes',\n",
       " 'Soap',\n",
       " 'Stick',\n",
       " 'Tent',\n",
       " 'Tooth Brush',\n",
       " 'Warm clothes',\n",
       " 'Water',\n",
       " 'a',\n",
       " 'h',\n",
       " 'l',\n",
       " 'u'}"
      ]
     },
     "execution_count": 171,
     "metadata": {},
     "output_type": "execute_result"
    }
   ],
   "source": [
    "bag"
   ]
  },
  {
   "cell_type": "code",
   "execution_count": 172,
   "id": "3a5a7a60-6824-4846-9302-05fa4bbf61fe",
   "metadata": {},
   "outputs": [
    {
     "ename": "KeyError",
     "evalue": "'r'",
     "output_type": "error",
     "traceback": [
      "\u001b[0;31m---------------------------------------------------------------------------\u001b[0m",
      "\u001b[0;31mKeyError\u001b[0m                                  Traceback (most recent call last)",
      "\u001b[0;32m/var/folders/t5/yhjgrjs907zfp250jyxtw54m0000gn/T/ipykernel_69356/1808633876.py\u001b[0m in \u001b[0;36m<module>\u001b[0;34m\u001b[0m\n\u001b[0;32m----> 1\u001b[0;31m \u001b[0mbag\u001b[0m\u001b[0;34m.\u001b[0m\u001b[0mremove\u001b[0m\u001b[0;34m(\u001b[0m\u001b[0;34m\"r\"\u001b[0m\u001b[0;34m)\u001b[0m\u001b[0;34m\u001b[0m\u001b[0;34m\u001b[0m\u001b[0m\n\u001b[0m",
      "\u001b[0;31mKeyError\u001b[0m: 'r'"
     ]
    }
   ],
   "source": [
    "bag.remove(\"r\")"
   ]
  },
  {
   "cell_type": "code",
   "execution_count": 173,
   "id": "939094de-4257-4f00-90cc-09c551c8ba9a",
   "metadata": {},
   "outputs": [],
   "source": [
    "bag.remove(\"R\")"
   ]
  },
  {
   "cell_type": "code",
   "execution_count": 174,
   "id": "28fa8f56-59c3-4d44-a62e-ba02b6f45f3b",
   "metadata": {},
   "outputs": [],
   "source": [
    "ele = bag.remove(\"a\")"
   ]
  },
  {
   "cell_type": "code",
   "execution_count": 176,
   "id": "2f8c5f7d-89c2-4dad-a5b1-00e0d1af81ff",
   "metadata": {},
   "outputs": [
    {
     "name": "stdout",
     "output_type": "stream",
     "text": [
      "None\n"
     ]
    }
   ],
   "source": [
    "print(ele)"
   ]
  },
  {
   "cell_type": "code",
   "execution_count": 177,
   "id": "8b6a598e-8ac3-4a2d-b09d-214781403361",
   "metadata": {},
   "outputs": [
    {
     "data": {
      "text/plain": [
       "{'Facewash',\n",
       " 'Lighter',\n",
       " 'Perfume',\n",
       " 'Shoes',\n",
       " 'Soap',\n",
       " 'Stick',\n",
       " 'Tent',\n",
       " 'Tooth Brush',\n",
       " 'Warm clothes',\n",
       " 'Water',\n",
       " 'h',\n",
       " 'l',\n",
       " 'u'}"
      ]
     },
     "execution_count": 177,
     "metadata": {},
     "output_type": "execute_result"
    }
   ],
   "source": [
    "bag"
   ]
  },
  {
   "cell_type": "code",
   "execution_count": null,
   "id": "795de998-a6e1-4f88-b016-46a77af41032",
   "metadata": {},
   "outputs": [],
   "source": []
  },
  {
   "cell_type": "code",
   "execution_count": 178,
   "id": "a98d568a-b331-4d06-9f31-5a77a032abf8",
   "metadata": {},
   "outputs": [],
   "source": [
    "# Delete whole object from memory"
   ]
  },
  {
   "cell_type": "code",
   "execution_count": 179,
   "id": "60497a04-a02d-43f7-9122-d8341617a06a",
   "metadata": {},
   "outputs": [],
   "source": [
    "del bag"
   ]
  },
  {
   "cell_type": "code",
   "execution_count": 180,
   "id": "1b2b3b0a-1d95-42ac-a5f7-78eace55aa7e",
   "metadata": {},
   "outputs": [
    {
     "ename": "NameError",
     "evalue": "name 'bag' is not defined",
     "output_type": "error",
     "traceback": [
      "\u001b[0;31m---------------------------------------------------------------------------\u001b[0m",
      "\u001b[0;31mNameError\u001b[0m                                 Traceback (most recent call last)",
      "\u001b[0;32m/var/folders/t5/yhjgrjs907zfp250jyxtw54m0000gn/T/ipykernel_69356/1577401620.py\u001b[0m in \u001b[0;36m<module>\u001b[0;34m\u001b[0m\n\u001b[0;32m----> 1\u001b[0;31m \u001b[0mbag\u001b[0m\u001b[0;34m\u001b[0m\u001b[0;34m\u001b[0m\u001b[0m\n\u001b[0m",
      "\u001b[0;31mNameError\u001b[0m: name 'bag' is not defined"
     ]
    }
   ],
   "source": [
    "bag"
   ]
  },
  {
   "cell_type": "code",
   "execution_count": null,
   "id": "30a58d38-8dcb-44de-a7d0-47e7dd913f92",
   "metadata": {},
   "outputs": [],
   "source": []
  },
  {
   "cell_type": "code",
   "execution_count": null,
   "id": "dbfa515b-944e-46cc-8742-7194ad4304f4",
   "metadata": {},
   "outputs": [],
   "source": []
  },
  {
   "cell_type": "markdown",
   "id": "e4c2245b-84ab-4c12-8b79-0285830786a8",
   "metadata": {},
   "source": [
    "### Intersection\n",
    "- Suppose you want to find out which students are enrolled in both the Calculus and Linear Algebra Course. Then you can use the intersection method."
   ]
  },
  {
   "cell_type": "code",
   "execution_count": 181,
   "id": "81158bd8-8e56-4460-8a08-d650789363f8",
   "metadata": {},
   "outputs": [],
   "source": [
    "# Common in both sets"
   ]
  },
  {
   "cell_type": "code",
   "execution_count": 182,
   "id": "bfbbc444-898d-4593-99c4-c05f7b76118c",
   "metadata": {},
   "outputs": [],
   "source": [
    "Calculus = {\"Anupam\", \"Rahul\", \"Hardik\", \"Navamani\"}\n",
    "Algebra = {\"John Clinton\", \"Hardik\", \"Rahul\", \"Ratika\"}"
   ]
  },
  {
   "cell_type": "code",
   "execution_count": null,
   "id": "bb3934af-df9e-43ca-9d52-cf5cfa4a1336",
   "metadata": {},
   "outputs": [],
   "source": []
  },
  {
   "cell_type": "code",
   "execution_count": 183,
   "id": "63ced174-ee3f-41da-b56b-cbd7c3819bd0",
   "metadata": {},
   "outputs": [
    {
     "data": {
      "text/plain": [
       "{'Hardik', 'Rahul'}"
      ]
     },
     "execution_count": 183,
     "metadata": {},
     "output_type": "execute_result"
    }
   ],
   "source": [
    "Calculus.intersection(Algebra)"
   ]
  },
  {
   "cell_type": "code",
   "execution_count": 184,
   "id": "851b8e60-89d4-4acf-99ce-c9960791eb26",
   "metadata": {},
   "outputs": [
    {
     "data": {
      "text/plain": [
       "{'Hardik', 'Rahul'}"
      ]
     },
     "execution_count": 184,
     "metadata": {},
     "output_type": "execute_result"
    }
   ],
   "source": [
    "Algebra.intersection(Calculus)"
   ]
  },
  {
   "cell_type": "code",
   "execution_count": null,
   "id": "8f4e6dd6-5968-4ba1-84aa-58c5207ca4c8",
   "metadata": {},
   "outputs": [],
   "source": []
  },
  {
   "cell_type": "code",
   "execution_count": null,
   "id": "2d87982d-9774-46cf-b16d-96f0b051ef87",
   "metadata": {},
   "outputs": [],
   "source": []
  },
  {
   "cell_type": "code",
   "execution_count": null,
   "id": "5e2a2b8a-fe17-4718-92c4-202382b30106",
   "metadata": {},
   "outputs": [],
   "source": []
  },
  {
   "cell_type": "markdown",
   "id": "33e182bc-bbae-457d-9c71-5dda1cfcdc61",
   "metadata": {},
   "source": [
    "### Union\n",
    "- Suppose you want to find out which students are enrolled in either the Calculus or the Linear Algebra Course or in both. Then you can use the union method."
   ]
  },
  {
   "cell_type": "code",
   "execution_count": 185,
   "id": "feff6a9e-9ba9-4243-ae95-68de686747cc",
   "metadata": {},
   "outputs": [],
   "source": [
    "# All elements in both sets"
   ]
  },
  {
   "cell_type": "code",
   "execution_count": 186,
   "id": "e986187c-2e24-4bf5-8682-0c02ed0855ef",
   "metadata": {},
   "outputs": [
    {
     "data": {
      "text/plain": [
       "{'Anupam', 'Hardik', 'Navamani', 'Rahul'}"
      ]
     },
     "execution_count": 186,
     "metadata": {},
     "output_type": "execute_result"
    }
   ],
   "source": [
    "Calculus"
   ]
  },
  {
   "cell_type": "code",
   "execution_count": 187,
   "id": "d4249e63-f326-4960-a546-c6f62eefed71",
   "metadata": {},
   "outputs": [
    {
     "data": {
      "text/plain": [
       "{'Hardik', 'John Clinton', 'Rahul', 'Ratika'}"
      ]
     },
     "execution_count": 187,
     "metadata": {},
     "output_type": "execute_result"
    }
   ],
   "source": [
    "Algebra"
   ]
  },
  {
   "cell_type": "code",
   "execution_count": null,
   "id": "912aff37-35e8-4642-ada2-98ac3fab2654",
   "metadata": {},
   "outputs": [],
   "source": []
  },
  {
   "cell_type": "code",
   "execution_count": 188,
   "id": "7b18827e-165e-457f-a87d-3507a9fdef3b",
   "metadata": {},
   "outputs": [
    {
     "data": {
      "text/plain": [
       "{'Anupam', 'Hardik', 'John Clinton', 'Navamani', 'Rahul', 'Ratika'}"
      ]
     },
     "execution_count": 188,
     "metadata": {},
     "output_type": "execute_result"
    }
   ],
   "source": [
    "Calculus.union(Algebra)"
   ]
  },
  {
   "cell_type": "code",
   "execution_count": 189,
   "id": "9d16b0d1-fde6-4ac0-aed8-aad18441f499",
   "metadata": {},
   "outputs": [
    {
     "data": {
      "text/plain": [
       "{'Anupam', 'Hardik', 'John Clinton', 'Navamani', 'Rahul', 'Ratika'}"
      ]
     },
     "execution_count": 189,
     "metadata": {},
     "output_type": "execute_result"
    }
   ],
   "source": [
    "Algebra.union(Calculus)"
   ]
  },
  {
   "cell_type": "code",
   "execution_count": null,
   "id": "76fb59e6-7a0a-4b2f-b08c-3802b07c6929",
   "metadata": {},
   "outputs": [],
   "source": []
  },
  {
   "cell_type": "code",
   "execution_count": null,
   "id": "d16ec080-8a42-43da-af93-2a7bb807118e",
   "metadata": {},
   "outputs": [],
   "source": []
  },
  {
   "cell_type": "markdown",
   "id": "2b99e3aa-f590-4243-b418-106c2c81e3d7",
   "metadata": {},
   "source": [
    "### Difference\n",
    "- Suppose you want to find out the set of students who have enrolled in the Calculus course but not in Linear Algebra course or vice-versa, then we can use the difference method."
   ]
  },
  {
   "cell_type": "code",
   "execution_count": 190,
   "id": "5208ebc6-65eb-4130-b6c5-87577c0f3300",
   "metadata": {},
   "outputs": [
    {
     "data": {
      "text/plain": [
       "{'Anupam', 'Hardik', 'Navamani', 'Rahul'}"
      ]
     },
     "execution_count": 190,
     "metadata": {},
     "output_type": "execute_result"
    }
   ],
   "source": [
    "Calculus"
   ]
  },
  {
   "cell_type": "code",
   "execution_count": 191,
   "id": "f856112b-e79d-4d09-a90f-42440d035899",
   "metadata": {},
   "outputs": [
    {
     "data": {
      "text/plain": [
       "{'Hardik', 'John Clinton', 'Rahul', 'Ratika'}"
      ]
     },
     "execution_count": 191,
     "metadata": {},
     "output_type": "execute_result"
    }
   ],
   "source": [
    "Algebra"
   ]
  },
  {
   "cell_type": "code",
   "execution_count": 192,
   "id": "eebedc6f-81e7-40ae-ad5b-5ba158574675",
   "metadata": {},
   "outputs": [
    {
     "data": {
      "text/plain": [
       "{'Anupam', 'Navamani'}"
      ]
     },
     "execution_count": 192,
     "metadata": {},
     "output_type": "execute_result"
    }
   ],
   "source": [
    "Calculus.difference(Algebra)"
   ]
  },
  {
   "cell_type": "code",
   "execution_count": null,
   "id": "9cbe7a0b-9474-4ea9-91d8-887d5a6fbd31",
   "metadata": {},
   "outputs": [],
   "source": []
  },
  {
   "cell_type": "code",
   "execution_count": 193,
   "id": "0cbe570c-48f1-4476-ab6c-53d934221533",
   "metadata": {},
   "outputs": [
    {
     "data": {
      "text/plain": [
       "{'John Clinton', 'Ratika'}"
      ]
     },
     "execution_count": 193,
     "metadata": {},
     "output_type": "execute_result"
    }
   ],
   "source": [
    "Algebra.difference(Calculus)"
   ]
  },
  {
   "cell_type": "code",
   "execution_count": null,
   "id": "4a913cd8-e46e-4fef-bd8f-fba4358900e9",
   "metadata": {},
   "outputs": [],
   "source": []
  },
  {
   "cell_type": "code",
   "execution_count": 194,
   "id": "fb8c0b54-4d4a-4212-aa7d-7ba404ff4ef3",
   "metadata": {},
   "outputs": [
    {
     "data": {
      "text/plain": [
       "{'John Clinton', 'Ratika'}"
      ]
     },
     "execution_count": 194,
     "metadata": {},
     "output_type": "execute_result"
    }
   ],
   "source": [
    "Algebra - Calculus"
   ]
  },
  {
   "cell_type": "code",
   "execution_count": null,
   "id": "5368f2a1-3df3-4d11-9fc0-5e5946a4aea5",
   "metadata": {},
   "outputs": [],
   "source": []
  },
  {
   "cell_type": "code",
   "execution_count": 196,
   "id": "3a3fbfe0-fd24-43de-8b9c-5e5dada11fc7",
   "metadata": {},
   "outputs": [],
   "source": [
    "# Quiz"
   ]
  },
  {
   "cell_type": "code",
   "execution_count": 198,
   "id": "884a7c29-97f6-46dd-90d9-3a49eb2a475c",
   "metadata": {},
   "outputs": [
    {
     "name": "stdout",
     "output_type": "stream",
     "text": [
      "{1, 3}\n"
     ]
    }
   ],
   "source": [
    "set1 = {1, 2, 3, 4, 5, 6}\n",
    "set2 = {2, 4, 5, 6, 7}\n",
    "x = set1 - set2\n",
    "print(x)"
   ]
  },
  {
   "cell_type": "code",
   "execution_count": null,
   "id": "1a1ea509-8245-42ac-985e-4bdcb6178b47",
   "metadata": {},
   "outputs": [],
   "source": []
  },
  {
   "cell_type": "code",
   "execution_count": 199,
   "id": "f755ea3b-af33-45c5-b82e-03694955d223",
   "metadata": {},
   "outputs": [
    {
     "name": "stdout",
     "output_type": "stream",
     "text": [
      "{1, 2}\n",
      "{1, 2, 3, 4, 5}\n",
      "{3}\n"
     ]
    }
   ],
   "source": [
    "a = {1,2,3}\n",
    "b = {3,4,5}\n",
    "print(a-b)\n",
    "print(a.union(b))\n",
    "print(a.intersection(b))"
   ]
  },
  {
   "cell_type": "code",
   "execution_count": null,
   "id": "14de9fe9-8822-41e2-b81b-29a34f7ddb05",
   "metadata": {},
   "outputs": [],
   "source": []
  },
  {
   "cell_type": "code",
   "execution_count": null,
   "id": "ded11c41-b827-44b4-9de7-86f91545503a",
   "metadata": {},
   "outputs": [],
   "source": []
  },
  {
   "cell_type": "code",
   "execution_count": null,
   "id": "3fc4e7a4-7e58-46fc-bff7-14de5bfc54dc",
   "metadata": {},
   "outputs": [],
   "source": [
    "# Doubts"
   ]
  },
  {
   "cell_type": "code",
   "execution_count": null,
   "id": "44de3bf5-78e8-40af-930a-0f5420e4a4c2",
   "metadata": {},
   "outputs": [],
   "source": []
  },
  {
   "cell_type": "code",
   "execution_count": null,
   "id": "3b84fa3f-9cb4-4eae-9de8-82c1d3ed7a1c",
   "metadata": {},
   "outputs": [],
   "source": []
  },
  {
   "cell_type": "code",
   "execution_count": null,
   "id": "da6d83d9-c22e-4904-bb77-ead18f6b087b",
   "metadata": {},
   "outputs": [],
   "source": []
  }
 ],
 "metadata": {
  "kernelspec": {
   "display_name": "Python 3 (ipykernel)",
   "language": "python",
   "name": "python3"
  },
  "language_info": {
   "codemirror_mode": {
    "name": "ipython",
    "version": 3
   },
   "file_extension": ".py",
   "mimetype": "text/x-python",
   "name": "python",
   "nbconvert_exporter": "python",
   "pygments_lexer": "ipython3",
   "version": "3.9.7"
  }
 },
 "nbformat": 4,
 "nbformat_minor": 5
}
