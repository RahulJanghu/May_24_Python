{
 "cells": [
  {
   "cell_type": "markdown",
   "id": "4811ffe3-cd57-437b-bf57-c4dcb05ff3a4",
   "metadata": {},
   "source": [
    "## Dictionary\n",
    "- A dictionary is like an address-book where you can find the address or contact details of a person by knowing only his/her name i.e. we associate keys (name) with values (details). Note that the key must be unique just like you cannot find out the correct information if you have two persons with the exact same name.\n",
    "\n",
    "- Remember that key-value pairs in a dictionary are not ordered in any manner. But in Python version 3.7 and above they are ordered"
   ]
  },
  {
   "cell_type": "markdown",
   "id": "c79c8d48-831e-42ef-a135-c8a92e8f741b",
   "metadata": {},
   "source": [
    "#### Creating a dict"
   ]
  },
  {
   "cell_type": "code",
   "execution_count": 1,
   "id": "dea85596-7121-489b-a89c-bd4f2c28d970",
   "metadata": {},
   "outputs": [],
   "source": [
    "# Fruit rate on blinkit"
   ]
  },
  {
   "cell_type": "code",
   "execution_count": 2,
   "id": "4325214e-d59e-4548-ae92-6e8e937af44a",
   "metadata": {},
   "outputs": [],
   "source": [
    "# type of fruits"
   ]
  },
  {
   "cell_type": "code",
   "execution_count": 3,
   "id": "983f9087-975b-48a8-a2d5-225a99bf81ce",
   "metadata": {},
   "outputs": [],
   "source": [
    "# Quiz"
   ]
  },
  {
   "cell_type": "code",
   "execution_count": 4,
   "id": "e7442d0a-99cd-44c9-99cf-306c8a5f80ab",
   "metadata": {},
   "outputs": [],
   "source": [
    "# empty"
   ]
  },
  {
   "cell_type": "code",
   "execution_count": 5,
   "id": "d70cc930-ca82-4c9b-a77a-d8171e0b7b09",
   "metadata": {},
   "outputs": [],
   "source": [
    "d = {}"
   ]
  },
  {
   "cell_type": "code",
   "execution_count": 6,
   "id": "08ae0660-0e70-4cc6-a2b7-9580c9ca787e",
   "metadata": {},
   "outputs": [
    {
     "data": {
      "text/plain": [
       "dict"
      ]
     },
     "execution_count": 6,
     "metadata": {},
     "output_type": "execute_result"
    }
   ],
   "source": [
    "type(d)"
   ]
  },
  {
   "cell_type": "code",
   "execution_count": null,
   "id": "90135e9a-344b-4938-980d-f4bf56edbb6d",
   "metadata": {},
   "outputs": [],
   "source": []
  },
  {
   "cell_type": "code",
   "execution_count": 7,
   "id": "5933cabb-362c-49f1-ac45-f42a08003851",
   "metadata": {},
   "outputs": [],
   "source": [
    "# Originally hashmaps are unordered"
   ]
  },
  {
   "cell_type": "code",
   "execution_count": 8,
   "id": "abd8bfde-a95f-4897-9673-3bcadf661d9e",
   "metadata": {},
   "outputs": [],
   "source": [
    "# hash(\"Rahul\")"
   ]
  },
  {
   "cell_type": "code",
   "execution_count": null,
   "id": "0193e964-02e2-4ea4-947f-5448f3f163dc",
   "metadata": {},
   "outputs": [],
   "source": []
  },
  {
   "cell_type": "code",
   "execution_count": 9,
   "id": "d00183d6-c8e5-4629-87f5-4a47330f54ac",
   "metadata": {},
   "outputs": [],
   "source": [
    "# Non empty dictionary"
   ]
  },
  {
   "cell_type": "code",
   "execution_count": 15,
   "id": "43d0fbcc-3b6b-4388-beb1-63b564af3c90",
   "metadata": {},
   "outputs": [],
   "source": [
    "fruits = {\"Apple\" : 120, \"Oranges\" : 80, \"Mango\" : 250}"
   ]
  },
  {
   "cell_type": "code",
   "execution_count": 16,
   "id": "53fc2031-76bc-4bcf-b254-dc8a63fd4fea",
   "metadata": {},
   "outputs": [
    {
     "data": {
      "text/plain": [
       "{'Apple': 120, 'Oranges': 80, 'Mango': 250}"
      ]
     },
     "execution_count": 16,
     "metadata": {},
     "output_type": "execute_result"
    }
   ],
   "source": [
    "fruits"
   ]
  },
  {
   "cell_type": "code",
   "execution_count": 17,
   "id": "0a070e6a-22a8-4df6-a56f-087d5d52481e",
   "metadata": {},
   "outputs": [
    {
     "data": {
      "text/plain": [
       "dict"
      ]
     },
     "execution_count": 17,
     "metadata": {},
     "output_type": "execute_result"
    }
   ],
   "source": [
    "type(fruits)"
   ]
  },
  {
   "cell_type": "code",
   "execution_count": null,
   "id": "1417c103-6364-4cca-beb6-7a5a9d2c69bf",
   "metadata": {},
   "outputs": [],
   "source": []
  },
  {
   "cell_type": "code",
   "execution_count": 18,
   "id": "839ac038-f183-4d49-9f8f-568a47007f54",
   "metadata": {},
   "outputs": [],
   "source": [
    "# zip\n",
    "# zip(key, value)"
   ]
  },
  {
   "cell_type": "code",
   "execution_count": 19,
   "id": "5a514e7e-1684-4876-98d6-de456c191591",
   "metadata": {},
   "outputs": [],
   "source": [
    "names = [\"Rahul\", \"Sofia\", \"Uncle\", \"John\"]\n",
    "ages = [28, 27, 45, 49]"
   ]
  },
  {
   "cell_type": "code",
   "execution_count": 23,
   "id": "4e655c84-d8c4-46de-a59a-0af527762d40",
   "metadata": {},
   "outputs": [],
   "source": [
    "data = dict(zip(names, ages))"
   ]
  },
  {
   "cell_type": "code",
   "execution_count": 24,
   "id": "70427ea6-2178-498a-86d7-8833781b3510",
   "metadata": {},
   "outputs": [
    {
     "data": {
      "text/plain": [
       "{'Rahul': 28, 'Sofia': 27, 'Uncle': 45, 'John': 49}"
      ]
     },
     "execution_count": 24,
     "metadata": {},
     "output_type": "execute_result"
    }
   ],
   "source": [
    "data"
   ]
  },
  {
   "cell_type": "code",
   "execution_count": null,
   "id": "de0a247b-d25e-46d4-aa63-14fe56eb6acc",
   "metadata": {},
   "outputs": [],
   "source": []
  },
  {
   "cell_type": "code",
   "execution_count": 33,
   "id": "3b3f5ce8-653c-47f4-b757-0b41b8b7d567",
   "metadata": {},
   "outputs": [],
   "source": [
    "names = [\"Rahul\", \"Sofia\", \"Uncle\", \"John\", \"Grandma\"]\n",
    "ages = (28, 27, 45, 49, 90, 180)"
   ]
  },
  {
   "cell_type": "code",
   "execution_count": 34,
   "id": "cd88c4f9-455e-458f-a3a6-f9356ba22a05",
   "metadata": {},
   "outputs": [],
   "source": [
    "data1 = dict(zip(names, ages))"
   ]
  },
  {
   "cell_type": "code",
   "execution_count": 35,
   "id": "137c205b-6be2-431e-b964-a80a76a23cba",
   "metadata": {},
   "outputs": [
    {
     "data": {
      "text/plain": [
       "{'Rahul': 28, 'Sofia': 27, 'Uncle': 45, 'John': 49, 'Grandma': 90}"
      ]
     },
     "execution_count": 35,
     "metadata": {},
     "output_type": "execute_result"
    }
   ],
   "source": [
    "data1"
   ]
  },
  {
   "cell_type": "code",
   "execution_count": null,
   "id": "64e466fd-89ee-4a2e-a2a7-ca1cf4b0281e",
   "metadata": {},
   "outputs": [],
   "source": []
  },
  {
   "cell_type": "markdown",
   "id": "47ec3b27-dc0a-4e18-9909-c2287097e410",
   "metadata": {},
   "source": [
    "#### Access the values of the dict\n",
    "Dictionaries doesn't support indexing"
   ]
  },
  {
   "cell_type": "code",
   "execution_count": 31,
   "id": "d52e5116-5120-4757-9dc6-c0f43b2ad0ab",
   "metadata": {},
   "outputs": [],
   "source": [
    "# indexing?"
   ]
  },
  {
   "cell_type": "code",
   "execution_count": 32,
   "id": "47a0372d-4177-47ae-8675-eabec6ac6891",
   "metadata": {},
   "outputs": [],
   "source": [
    "# Quiz"
   ]
  },
  {
   "cell_type": "code",
   "execution_count": 36,
   "id": "e7cbd1df-5b60-4cf7-9bc8-f2caf75cb412",
   "metadata": {},
   "outputs": [
    {
     "data": {
      "text/plain": [
       "{'Apple': 120, 'Oranges': 80, 'Mango': 250}"
      ]
     },
     "execution_count": 36,
     "metadata": {},
     "output_type": "execute_result"
    }
   ],
   "source": [
    "fruits"
   ]
  },
  {
   "cell_type": "code",
   "execution_count": 37,
   "id": "94b44279-a77a-4e0f-a2ea-9984e45acf80",
   "metadata": {},
   "outputs": [
    {
     "ename": "KeyError",
     "evalue": "0",
     "output_type": "error",
     "traceback": [
      "\u001b[0;31m---------------------------------------------------------------------------\u001b[0m",
      "\u001b[0;31mKeyError\u001b[0m                                  Traceback (most recent call last)",
      "\u001b[0;32m/var/folders/t5/yhjgrjs907zfp250jyxtw54m0000gn/T/ipykernel_84912/2478051916.py\u001b[0m in \u001b[0;36m<module>\u001b[0;34m\u001b[0m\n\u001b[0;32m----> 1\u001b[0;31m \u001b[0mfruits\u001b[0m\u001b[0;34m[\u001b[0m\u001b[0;36m0\u001b[0m\u001b[0;34m]\u001b[0m\u001b[0;34m\u001b[0m\u001b[0;34m\u001b[0m\u001b[0m\n\u001b[0m",
      "\u001b[0;31mKeyError\u001b[0m: 0"
     ]
    }
   ],
   "source": [
    "fruits[0]"
   ]
  },
  {
   "cell_type": "code",
   "execution_count": 38,
   "id": "c15b9ff1-78c2-4ecc-ba1a-20ebf20b5425",
   "metadata": {},
   "outputs": [
    {
     "data": {
      "text/plain": [
       "120"
      ]
     },
     "execution_count": 38,
     "metadata": {},
     "output_type": "execute_result"
    }
   ],
   "source": [
    "fruits[\"Apple\"]"
   ]
  },
  {
   "cell_type": "code",
   "execution_count": 39,
   "id": "e800214d-0e1a-478c-a0eb-4859c3439e8d",
   "metadata": {},
   "outputs": [
    {
     "data": {
      "text/plain": [
       "80"
      ]
     },
     "execution_count": 39,
     "metadata": {},
     "output_type": "execute_result"
    }
   ],
   "source": [
    "fruits[\"Oranges\"]"
   ]
  },
  {
   "cell_type": "code",
   "execution_count": null,
   "id": "fe634a6a-e353-46f5-ac35-1024f58a3ca5",
   "metadata": {},
   "outputs": [],
   "source": []
  },
  {
   "cell_type": "code",
   "execution_count": 40,
   "id": "6ae231db-eaeb-4240-999a-ec8400b3648c",
   "metadata": {},
   "outputs": [],
   "source": [
    "## Key error "
   ]
  },
  {
   "cell_type": "code",
   "execution_count": 41,
   "id": "abf43e6b-5332-4a7d-b27e-5774d8ea35e4",
   "metadata": {},
   "outputs": [],
   "source": [
    "# Quiz"
   ]
  },
  {
   "cell_type": "code",
   "execution_count": 42,
   "id": "b1c01b40-702c-4bd0-9737-9095a2ef58bc",
   "metadata": {},
   "outputs": [
    {
     "ename": "KeyError",
     "evalue": "'Pineapple'",
     "output_type": "error",
     "traceback": [
      "\u001b[0;31m---------------------------------------------------------------------------\u001b[0m",
      "\u001b[0;31mKeyError\u001b[0m                                  Traceback (most recent call last)",
      "\u001b[0;32m/var/folders/t5/yhjgrjs907zfp250jyxtw54m0000gn/T/ipykernel_84912/1260985905.py\u001b[0m in \u001b[0;36m<module>\u001b[0;34m\u001b[0m\n\u001b[0;32m----> 1\u001b[0;31m \u001b[0mfruits\u001b[0m\u001b[0;34m[\u001b[0m\u001b[0;34m\"Pineapple\"\u001b[0m\u001b[0;34m]\u001b[0m\u001b[0;34m\u001b[0m\u001b[0;34m\u001b[0m\u001b[0m\n\u001b[0m",
      "\u001b[0;31mKeyError\u001b[0m: 'Pineapple'"
     ]
    }
   ],
   "source": [
    "fruits[\"Pineapple\"]"
   ]
  },
  {
   "cell_type": "code",
   "execution_count": null,
   "id": "531ac160-8104-4de1-bc65-d95aa0e7db5a",
   "metadata": {},
   "outputs": [],
   "source": []
  },
  {
   "cell_type": "code",
   "execution_count": 43,
   "id": "3d3c8791-893b-4802-9294-9fae837a8b14",
   "metadata": {},
   "outputs": [
    {
     "name": "stdout",
     "output_type": "stream",
     "text": [
      "<class 'dict'>\n"
     ]
    }
   ],
   "source": [
    "words = {\n",
    "\"is\": 2,\n",
    "\"hello\": 3,\n",
    "\"the\": 4\n",
    "}\n",
    "\n",
    "print(type(words))"
   ]
  },
  {
   "cell_type": "code",
   "execution_count": null,
   "id": "31e9ca01-19cc-412b-a341-679d86b87b37",
   "metadata": {},
   "outputs": [],
   "source": []
  },
  {
   "cell_type": "code",
   "execution_count": 44,
   "id": "4b672b7b-8b4e-42d8-86ef-5d4c841ab850",
   "metadata": {},
   "outputs": [
    {
     "ename": "KeyError",
     "evalue": "'this'",
     "output_type": "error",
     "traceback": [
      "\u001b[0;31m---------------------------------------------------------------------------\u001b[0m",
      "\u001b[0;31mKeyError\u001b[0m                                  Traceback (most recent call last)",
      "\u001b[0;32m/var/folders/t5/yhjgrjs907zfp250jyxtw54m0000gn/T/ipykernel_84912/136639288.py\u001b[0m in \u001b[0;36m<module>\u001b[0;34m\u001b[0m\n\u001b[1;32m      4\u001b[0m \u001b[0;34m\"the\"\u001b[0m\u001b[0;34m:\u001b[0m \u001b[0;36m4\u001b[0m\u001b[0;34m\u001b[0m\u001b[0;34m\u001b[0m\u001b[0m\n\u001b[1;32m      5\u001b[0m }\n\u001b[0;32m----> 6\u001b[0;31m \u001b[0mthis_count\u001b[0m \u001b[0;34m=\u001b[0m \u001b[0mwords\u001b[0m\u001b[0;34m[\u001b[0m\u001b[0;34m\"this\"\u001b[0m\u001b[0;34m]\u001b[0m\u001b[0;34m\u001b[0m\u001b[0;34m\u001b[0m\u001b[0m\n\u001b[0m\u001b[1;32m      7\u001b[0m \u001b[0;34m\u001b[0m\u001b[0m\n\u001b[1;32m      8\u001b[0m \u001b[0mprint\u001b[0m\u001b[0;34m(\u001b[0m\u001b[0mthis_count\u001b[0m\u001b[0;34m)\u001b[0m\u001b[0;34m\u001b[0m\u001b[0;34m\u001b[0m\u001b[0m\n",
      "\u001b[0;31mKeyError\u001b[0m: 'this'"
     ]
    }
   ],
   "source": [
    "words = {\n",
    "\"is\": 2,\n",
    "\"hello\": 3,\n",
    "\"the\": 4\n",
    "}\n",
    "this_count = words[\"this\"]\n",
    "\n",
    "print(this_count)"
   ]
  },
  {
   "cell_type": "code",
   "execution_count": null,
   "id": "b4d1faa8-715a-43f9-b2d1-d2a9691255ac",
   "metadata": {},
   "outputs": [],
   "source": []
  },
  {
   "cell_type": "code",
   "execution_count": null,
   "id": "84aa6eee-8e7b-4b1c-acf4-783ac29c8ae6",
   "metadata": {},
   "outputs": [],
   "source": []
  },
  {
   "cell_type": "code",
   "execution_count": null,
   "id": "48c13582-810b-47f9-9b42-da9e2bfcb118",
   "metadata": {},
   "outputs": [],
   "source": []
  },
  {
   "cell_type": "code",
   "execution_count": 45,
   "id": "1774cc51-c18a-45f2-8a96-50f2a020b4f1",
   "metadata": {},
   "outputs": [],
   "source": [
    "## Can we have 2 keys in dict with same meaning"
   ]
  },
  {
   "cell_type": "code",
   "execution_count": 46,
   "id": "2b7da3d3-7ea4-4b3a-8eb0-cf7949f75f6c",
   "metadata": {},
   "outputs": [],
   "source": [
    "# Keys are unique in dict"
   ]
  },
  {
   "cell_type": "code",
   "execution_count": 49,
   "id": "59e7788c-4b13-4251-8d2d-f87846076401",
   "metadata": {},
   "outputs": [],
   "source": [
    "fruits = {\"Apple\" : 120, \"Oranges\" : 80, \"Mango\" : 250, \"Pomegranate\" : 120, \"Apple\" : 180}"
   ]
  },
  {
   "cell_type": "code",
   "execution_count": 50,
   "id": "21738b7c-660a-499f-b090-38fdc2be47da",
   "metadata": {},
   "outputs": [
    {
     "data": {
      "text/plain": [
       "{'Apple': 180, 'Oranges': 80, 'Mango': 250, 'Pomegranate': 120}"
      ]
     },
     "execution_count": 50,
     "metadata": {},
     "output_type": "execute_result"
    }
   ],
   "source": [
    "fruits"
   ]
  },
  {
   "cell_type": "code",
   "execution_count": null,
   "id": "1ba5e04e-15fa-458b-bec9-c2ea1ef82e20",
   "metadata": {},
   "outputs": [],
   "source": []
  },
  {
   "cell_type": "markdown",
   "id": "f72624f2-4f30-4a6f-aa71-3f4adbc5dbe7",
   "metadata": {},
   "source": [
    "#### Adding new values"
   ]
  },
  {
   "cell_type": "code",
   "execution_count": 51,
   "id": "0a291bb5-a70a-4c9b-9f24-c207853271c1",
   "metadata": {},
   "outputs": [],
   "source": [
    "# Adding new fruits: d[\"item\"] = value"
   ]
  },
  {
   "cell_type": "code",
   "execution_count": 52,
   "id": "0207a2bc-111e-4a4d-9cd2-87578c518127",
   "metadata": {},
   "outputs": [
    {
     "data": {
      "text/plain": [
       "{'Apple': 180, 'Oranges': 80, 'Mango': 250, 'Pomegranate': 120}"
      ]
     },
     "execution_count": 52,
     "metadata": {},
     "output_type": "execute_result"
    }
   ],
   "source": [
    "fruits"
   ]
  },
  {
   "cell_type": "code",
   "execution_count": 53,
   "id": "66758ca9-05a7-4448-b84a-7a5971aa7471",
   "metadata": {},
   "outputs": [
    {
     "data": {
      "text/plain": [
       "180"
      ]
     },
     "execution_count": 53,
     "metadata": {},
     "output_type": "execute_result"
    }
   ],
   "source": [
    "fruits[\"Apple\"]"
   ]
  },
  {
   "cell_type": "code",
   "execution_count": 54,
   "id": "eb539180-fb6d-449a-aa3c-ee8adc5321d3",
   "metadata": {},
   "outputs": [],
   "source": [
    "fruits[\"Apple\"] = 150"
   ]
  },
  {
   "cell_type": "code",
   "execution_count": 55,
   "id": "0cca56cf-83f5-461e-ab35-3492178d3a20",
   "metadata": {},
   "outputs": [
    {
     "data": {
      "text/plain": [
       "{'Apple': 150, 'Oranges': 80, 'Mango': 250, 'Pomegranate': 120}"
      ]
     },
     "execution_count": 55,
     "metadata": {},
     "output_type": "execute_result"
    }
   ],
   "source": [
    "fruits"
   ]
  },
  {
   "cell_type": "code",
   "execution_count": null,
   "id": "5f60ed1b-e3fc-4f95-b814-fe5910759644",
   "metadata": {},
   "outputs": [],
   "source": []
  },
  {
   "cell_type": "code",
   "execution_count": null,
   "id": "df68acaa-59d3-4c30-adca-8c351e14adfc",
   "metadata": {},
   "outputs": [],
   "source": []
  },
  {
   "cell_type": "code",
   "execution_count": 56,
   "id": "9c45a3ae-0f27-4771-99c1-bd8cb63e257f",
   "metadata": {},
   "outputs": [],
   "source": [
    "# dict[key] = value"
   ]
  },
  {
   "cell_type": "code",
   "execution_count": 57,
   "id": "23f01d9e-425c-4e48-be47-761be33d1cbd",
   "metadata": {},
   "outputs": [],
   "source": [
    "fruits[\"Guava\"] = 60"
   ]
  },
  {
   "cell_type": "code",
   "execution_count": 58,
   "id": "5628f811-cfe1-4d13-9aa4-bb25e1c8ef20",
   "metadata": {},
   "outputs": [
    {
     "data": {
      "text/plain": [
       "{'Apple': 150, 'Oranges': 80, 'Mango': 250, 'Pomegranate': 120, 'Guava': 60}"
      ]
     },
     "execution_count": 58,
     "metadata": {},
     "output_type": "execute_result"
    }
   ],
   "source": [
    "fruits"
   ]
  },
  {
   "cell_type": "code",
   "execution_count": 59,
   "id": "a1372038-1123-44ee-b74e-f0f23f26ca97",
   "metadata": {},
   "outputs": [],
   "source": [
    "fruits[\"Pineapples\"] = {\"Small\" : 90, \"Large\" : 120}"
   ]
  },
  {
   "cell_type": "code",
   "execution_count": 60,
   "id": "74e17cdb-839c-4e74-abf1-6f1eae66b6ad",
   "metadata": {},
   "outputs": [
    {
     "data": {
      "text/plain": [
       "{'Apple': 150,\n",
       " 'Oranges': 80,\n",
       " 'Mango': 250,\n",
       " 'Pomegranate': 120,\n",
       " 'Guava': 60,\n",
       " 'Pineapples': {'Small': 90, 'Large': 120}}"
      ]
     },
     "execution_count": 60,
     "metadata": {},
     "output_type": "execute_result"
    }
   ],
   "source": [
    "fruits"
   ]
  },
  {
   "cell_type": "code",
   "execution_count": 61,
   "id": "ed933ba2-9929-4dd3-b1ef-664937d6a689",
   "metadata": {},
   "outputs": [
    {
     "data": {
      "text/plain": [
       "{'Small': 90, 'Large': 120}"
      ]
     },
     "execution_count": 61,
     "metadata": {},
     "output_type": "execute_result"
    }
   ],
   "source": [
    "fruits[\"Pineapples\"]"
   ]
  },
  {
   "cell_type": "code",
   "execution_count": 62,
   "id": "dfb4e384-8482-4961-97f5-2fd0476e441a",
   "metadata": {},
   "outputs": [
    {
     "data": {
      "text/plain": [
       "90"
      ]
     },
     "execution_count": 62,
     "metadata": {},
     "output_type": "execute_result"
    }
   ],
   "source": [
    "fruits[\"Pineapples\"][\"Small\"]"
   ]
  },
  {
   "cell_type": "code",
   "execution_count": null,
   "id": "58b9bc13-1cdf-4150-a9d3-c0a00ca60449",
   "metadata": {},
   "outputs": [],
   "source": []
  },
  {
   "cell_type": "code",
   "execution_count": 63,
   "id": "62a10b51-0b26-455c-bbc7-c553ff9b41fe",
   "metadata": {},
   "outputs": [],
   "source": [
    "# Updating the value of given item"
   ]
  },
  {
   "cell_type": "code",
   "execution_count": 64,
   "id": "bf35dee9-ab05-4c96-8d7c-cc3582a80799",
   "metadata": {},
   "outputs": [],
   "source": [
    "fruits[\"Pineapples\"][\"Small\"] = 100"
   ]
  },
  {
   "cell_type": "code",
   "execution_count": 65,
   "id": "19aa4207-f339-4b45-91de-d9bebbb146dc",
   "metadata": {},
   "outputs": [
    {
     "data": {
      "text/plain": [
       "{'Apple': 150,\n",
       " 'Oranges': 80,\n",
       " 'Mango': 250,\n",
       " 'Pomegranate': 120,\n",
       " 'Guava': 60,\n",
       " 'Pineapples': {'Small': 100, 'Large': 120}}"
      ]
     },
     "execution_count": 65,
     "metadata": {},
     "output_type": "execute_result"
    }
   ],
   "source": [
    "fruits"
   ]
  },
  {
   "cell_type": "code",
   "execution_count": null,
   "id": "3d41c7b6-2bae-48c7-b3ba-52107879d2ce",
   "metadata": {},
   "outputs": [],
   "source": []
  },
  {
   "cell_type": "code",
   "execution_count": null,
   "id": "44268ece-27d7-41bd-bdc6-67932e23e7e1",
   "metadata": {},
   "outputs": [],
   "source": []
  },
  {
   "cell_type": "code",
   "execution_count": 66,
   "id": "eb9881b1-3b36-49d1-85b2-f3dbebee69a9",
   "metadata": {},
   "outputs": [],
   "source": [
    "# update"
   ]
  },
  {
   "cell_type": "code",
   "execution_count": 67,
   "id": "57f131d2-3b79-4ca0-80df-c3222445c696",
   "metadata": {},
   "outputs": [],
   "source": [
    "# d1.update(d2)"
   ]
  },
  {
   "cell_type": "code",
   "execution_count": 69,
   "id": "d77302f3-04c1-4777-9f60-521640438d46",
   "metadata": {},
   "outputs": [],
   "source": [
    "south_fruits = {\"Red Banana\" : 80, \"Palm\" : 50}"
   ]
  },
  {
   "cell_type": "code",
   "execution_count": 71,
   "id": "232057f5-55ca-4e00-a813-179a43f995ba",
   "metadata": {},
   "outputs": [],
   "source": [
    "fruits.update(south_fruits)"
   ]
  },
  {
   "cell_type": "code",
   "execution_count": 73,
   "id": "02016867-de0c-402e-ba18-54d0d2f07f17",
   "metadata": {},
   "outputs": [
    {
     "data": {
      "text/plain": [
       "{'Apple': 150,\n",
       " 'Oranges': 80,\n",
       " 'Mango': 250,\n",
       " 'Pomegranate': 120,\n",
       " 'Guava': 60,\n",
       " 'Pineapples': {'Small': 100, 'Large': 120},\n",
       " 'Red Banana': 80,\n",
       " 'Palm': 50}"
      ]
     },
     "execution_count": 73,
     "metadata": {},
     "output_type": "execute_result"
    }
   ],
   "source": [
    "fruits"
   ]
  },
  {
   "cell_type": "code",
   "execution_count": 74,
   "id": "58cfa42d-f222-4790-a143-a9d452dcc9e5",
   "metadata": {},
   "outputs": [],
   "source": [
    "fruits[\"Coconut Water\"] = 50"
   ]
  },
  {
   "cell_type": "code",
   "execution_count": 75,
   "id": "c90cc1f9-bdd7-4962-a1ed-456cc489de89",
   "metadata": {},
   "outputs": [
    {
     "data": {
      "text/plain": [
       "{'Apple': 150,\n",
       " 'Oranges': 80,\n",
       " 'Mango': 250,\n",
       " 'Pomegranate': 120,\n",
       " 'Guava': 60,\n",
       " 'Pineapples': {'Small': 100, 'Large': 120},\n",
       " 'Red Banana': 80,\n",
       " 'Palm': 50,\n",
       " 'Coconut Water': 50}"
      ]
     },
     "execution_count": 75,
     "metadata": {},
     "output_type": "execute_result"
    }
   ],
   "source": [
    "fruits"
   ]
  },
  {
   "cell_type": "code",
   "execution_count": null,
   "id": "f43a2477-164c-42e1-bb10-fc5685f581f8",
   "metadata": {},
   "outputs": [],
   "source": []
  },
  {
   "cell_type": "code",
   "execution_count": 76,
   "id": "62cb2cd1-2a49-431c-98bb-cccf79b6aeb7",
   "metadata": {},
   "outputs": [],
   "source": [
    "## Getting errors while trying to get a value for key not present?"
   ]
  },
  {
   "cell_type": "markdown",
   "id": "4d734720-25ff-45f4-9f7d-f5a13878fb33",
   "metadata": {},
   "source": [
    "#### Get function\n",
    "- get(key, 0)"
   ]
  },
  {
   "cell_type": "code",
   "execution_count": 78,
   "id": "e11127ba-7524-4c56-b1e0-88823b4f17d3",
   "metadata": {},
   "outputs": [
    {
     "data": {
      "text/plain": [
       "{'Apple': 150,\n",
       " 'Oranges': 80,\n",
       " 'Mango': 250,\n",
       " 'Pomegranate': 120,\n",
       " 'Guava': 60,\n",
       " 'Pineapples': {'Small': 100, 'Large': 120},\n",
       " 'Red Banana': 80,\n",
       " 'Palm': 50,\n",
       " 'Coconut Water': 50}"
      ]
     },
     "execution_count": 78,
     "metadata": {},
     "output_type": "execute_result"
    }
   ],
   "source": [
    "fruits"
   ]
  },
  {
   "cell_type": "code",
   "execution_count": 79,
   "id": "1877b7d3-17e4-4853-af68-595b62b85729",
   "metadata": {},
   "outputs": [
    {
     "ename": "KeyError",
     "evalue": "'Universal Fruit'",
     "output_type": "error",
     "traceback": [
      "\u001b[0;31m---------------------------------------------------------------------------\u001b[0m",
      "\u001b[0;31mKeyError\u001b[0m                                  Traceback (most recent call last)",
      "\u001b[0;32m/var/folders/t5/yhjgrjs907zfp250jyxtw54m0000gn/T/ipykernel_84912/1020713377.py\u001b[0m in \u001b[0;36m<module>\u001b[0;34m\u001b[0m\n\u001b[0;32m----> 1\u001b[0;31m \u001b[0mfruits\u001b[0m\u001b[0;34m[\u001b[0m\u001b[0;34m\"Universal Fruit\"\u001b[0m\u001b[0;34m]\u001b[0m\u001b[0;34m\u001b[0m\u001b[0;34m\u001b[0m\u001b[0m\n\u001b[0m",
      "\u001b[0;31mKeyError\u001b[0m: 'Universal Fruit'"
     ]
    }
   ],
   "source": [
    "fruits[\"Universal Fruit\"]"
   ]
  },
  {
   "cell_type": "code",
   "execution_count": null,
   "id": "c4039e5f-79f8-4c17-b5d5-e283e9357297",
   "metadata": {},
   "outputs": [],
   "source": []
  },
  {
   "cell_type": "code",
   "execution_count": 81,
   "id": "ec0b4f77-edfd-4d3a-87a3-8c1d99f826b3",
   "metadata": {},
   "outputs": [],
   "source": [
    "fruits.get(\"Universal Fruit\")"
   ]
  },
  {
   "cell_type": "code",
   "execution_count": 83,
   "id": "3f4efad9-e69d-4497-840b-4cc41aa33c02",
   "metadata": {},
   "outputs": [
    {
     "data": {
      "text/plain": [
       "'Out of stock'"
      ]
     },
     "execution_count": 83,
     "metadata": {},
     "output_type": "execute_result"
    }
   ],
   "source": [
    "fruits.get(\"Universal Fruit\", \"Out of stock\")"
   ]
  },
  {
   "cell_type": "code",
   "execution_count": null,
   "id": "251162a1-7012-437a-ae2e-eea2f24564f0",
   "metadata": {},
   "outputs": [],
   "source": []
  },
  {
   "cell_type": "code",
   "execution_count": 84,
   "id": "62fb553c-cdc8-4262-b922-44cddb8d4a38",
   "metadata": {},
   "outputs": [
    {
     "data": {
      "text/plain": [
       "150"
      ]
     },
     "execution_count": 84,
     "metadata": {},
     "output_type": "execute_result"
    }
   ],
   "source": [
    "fruits.get(\"Apple\", \"Out of stock\")"
   ]
  },
  {
   "cell_type": "code",
   "execution_count": null,
   "id": "90665000-952a-4567-8af6-6354dfab17bf",
   "metadata": {},
   "outputs": [],
   "source": []
  },
  {
   "cell_type": "code",
   "execution_count": 86,
   "id": "a2caf588-f05a-4400-a115-cba6f0ee3807",
   "metadata": {},
   "outputs": [
    {
     "data": {
      "text/plain": [
       "0"
      ]
     },
     "execution_count": 86,
     "metadata": {},
     "output_type": "execute_result"
    }
   ],
   "source": [
    "fruits.get(\"Universal Fruit\", 0)"
   ]
  },
  {
   "cell_type": "code",
   "execution_count": null,
   "id": "e076297e-085a-4255-8be9-cecd06e55583",
   "metadata": {},
   "outputs": [],
   "source": []
  },
  {
   "cell_type": "code",
   "execution_count": 87,
   "id": "72921b15-0f0b-4953-a0e3-6eb0246676fd",
   "metadata": {},
   "outputs": [],
   "source": [
    "# Quiz"
   ]
  },
  {
   "cell_type": "code",
   "execution_count": 88,
   "id": "b1a2232b-b437-4ead-8c28-33f3535e18cc",
   "metadata": {},
   "outputs": [
    {
     "name": "stdout",
     "output_type": "stream",
     "text": [
      "55\n"
     ]
    }
   ],
   "source": [
    "d = {\"a\": 1, \"b\": 2, \"c\": 3}\n",
    "d['d'] = 55\n",
    "\n",
    "print(d['d'])"
   ]
  },
  {
   "cell_type": "code",
   "execution_count": null,
   "id": "ea3d53f2-df4c-4e02-b06f-c07428fe5090",
   "metadata": {},
   "outputs": [],
   "source": []
  },
  {
   "cell_type": "code",
   "execution_count": null,
   "id": "335524db-4d2c-458f-95f9-8bf48339b4d3",
   "metadata": {},
   "outputs": [],
   "source": []
  },
  {
   "cell_type": "code",
   "execution_count": null,
   "id": "52af78b5-fbb4-4b2a-8f0b-65843a2ee3d2",
   "metadata": {},
   "outputs": [],
   "source": []
  },
  {
   "cell_type": "code",
   "execution_count": null,
   "id": "7ce03f28-a0c5-489a-9095-717bffba6934",
   "metadata": {},
   "outputs": [],
   "source": []
  },
  {
   "cell_type": "markdown",
   "id": "e6d300ab-c050-42e7-b101-04260bef677a",
   "metadata": {
    "tags": []
   },
   "source": [
    "### Iterating on a dict"
   ]
  },
  {
   "cell_type": "code",
   "execution_count": 89,
   "id": "c6ea9520-af89-491a-87d0-be593e8342c6",
   "metadata": {},
   "outputs": [],
   "source": [
    "## Challenge:\n",
    "# print keys and values of a dict"
   ]
  },
  {
   "cell_type": "code",
   "execution_count": 90,
   "id": "3164b3f9-a97f-4f7b-bad2-646473b3ca5e",
   "metadata": {},
   "outputs": [
    {
     "data": {
      "text/plain": [
       "{'Apple': 150,\n",
       " 'Oranges': 80,\n",
       " 'Mango': 250,\n",
       " 'Pomegranate': 120,\n",
       " 'Guava': 60,\n",
       " 'Pineapples': {'Small': 100, 'Large': 120},\n",
       " 'Red Banana': 80,\n",
       " 'Palm': 50,\n",
       " 'Coconut Water': 50}"
      ]
     },
     "execution_count": 90,
     "metadata": {},
     "output_type": "execute_result"
    }
   ],
   "source": [
    "fruits"
   ]
  },
  {
   "cell_type": "code",
   "execution_count": 91,
   "id": "27722291-5d89-4981-bfca-8289e98b8f06",
   "metadata": {},
   "outputs": [
    {
     "name": "stdout",
     "output_type": "stream",
     "text": [
      "['__class__', '__class_getitem__', '__contains__', '__delattr__', '__delitem__', '__dir__', '__doc__', '__eq__', '__format__', '__ge__', '__getattribute__', '__getitem__', '__gt__', '__hash__', '__init__', '__init_subclass__', '__ior__', '__iter__', '__le__', '__len__', '__lt__', '__ne__', '__new__', '__or__', '__reduce__', '__reduce_ex__', '__repr__', '__reversed__', '__ror__', '__setattr__', '__setitem__', '__sizeof__', '__str__', '__subclasshook__', 'clear', 'copy', 'fromkeys', 'get', 'items', 'keys', 'pop', 'popitem', 'setdefault', 'update', 'values']\n"
     ]
    }
   ],
   "source": [
    "print(dir(fruits))"
   ]
  },
  {
   "cell_type": "code",
   "execution_count": 92,
   "id": "d6b3a570-8051-43b3-a7b3-cc6d2adb7d29",
   "metadata": {},
   "outputs": [
    {
     "name": "stdout",
     "output_type": "stream",
     "text": [
      "Apple\n",
      "Oranges\n",
      "Mango\n",
      "Pomegranate\n",
      "Guava\n",
      "Pineapples\n",
      "Red Banana\n",
      "Palm\n",
      "Coconut Water\n"
     ]
    }
   ],
   "source": [
    "for i in fruits:\n",
    "    print(i)"
   ]
  },
  {
   "cell_type": "code",
   "execution_count": null,
   "id": "6ad9a3ae-9e72-4034-b529-5408f5dc3fa1",
   "metadata": {},
   "outputs": [],
   "source": []
  },
  {
   "cell_type": "code",
   "execution_count": null,
   "id": "08aed4de-dae0-4cd8-b4e4-f12b51cc0060",
   "metadata": {},
   "outputs": [],
   "source": []
  },
  {
   "cell_type": "code",
   "execution_count": null,
   "id": "af02943a-5b11-487d-9e7b-5d7d118e1d80",
   "metadata": {},
   "outputs": [],
   "source": []
  },
  {
   "cell_type": "code",
   "execution_count": 93,
   "id": "9c250372-7469-4c2d-9a8e-f85291e3f65e",
   "metadata": {},
   "outputs": [],
   "source": [
    "# Print values for these keys"
   ]
  },
  {
   "cell_type": "code",
   "execution_count": 95,
   "id": "10d58644-ab19-47cd-a649-1d8a51220a37",
   "metadata": {},
   "outputs": [
    {
     "data": {
      "text/plain": [
       "80"
      ]
     },
     "execution_count": 95,
     "metadata": {},
     "output_type": "execute_result"
    }
   ],
   "source": [
    "fruits[\"Oranges\"]"
   ]
  },
  {
   "cell_type": "code",
   "execution_count": 97,
   "id": "4f778b46-0153-46a9-91a8-e743097c23c6",
   "metadata": {},
   "outputs": [
    {
     "name": "stdout",
     "output_type": "stream",
     "text": [
      "Apple <class 'str'>\n",
      "Oranges <class 'str'>\n",
      "Mango <class 'str'>\n",
      "Pomegranate <class 'str'>\n",
      "Guava <class 'str'>\n",
      "Pineapples <class 'str'>\n",
      "Red Banana <class 'str'>\n",
      "Palm <class 'str'>\n",
      "Coconut Water <class 'str'>\n"
     ]
    }
   ],
   "source": [
    "for i in fruits:\n",
    "    print(i, type(i))"
   ]
  },
  {
   "cell_type": "code",
   "execution_count": 98,
   "id": "f159a4c6-2403-4143-b388-a6118db08942",
   "metadata": {},
   "outputs": [
    {
     "name": "stdout",
     "output_type": "stream",
     "text": [
      "Apple 150\n",
      "Oranges 80\n",
      "Mango 250\n",
      "Pomegranate 120\n",
      "Guava 60\n",
      "Pineapples {'Small': 100, 'Large': 120}\n",
      "Red Banana 80\n",
      "Palm 50\n",
      "Coconut Water 50\n"
     ]
    }
   ],
   "source": [
    "for i in fruits:\n",
    "    print(i, fruits[i])"
   ]
  },
  {
   "cell_type": "code",
   "execution_count": null,
   "id": "76741a59-442a-41d4-b650-fc5bab25fbda",
   "metadata": {},
   "outputs": [],
   "source": []
  },
  {
   "cell_type": "code",
   "execution_count": 99,
   "id": "d74a5ba4-0594-4992-a653-6349a4847bf0",
   "metadata": {},
   "outputs": [
    {
     "name": "stdout",
     "output_type": "stream",
     "text": [
      "Apple 150\n",
      "Oranges 80\n",
      "Mango 250\n",
      "Pomegranate 120\n",
      "Guava 60\n",
      "Pineapples {'Small': 100, 'Large': 120}\n",
      "Red Banana 80\n",
      "Palm 50\n",
      "Coconut Water 50\n"
     ]
    }
   ],
   "source": [
    "for i in fruits:\n",
    "    print(i, fruits.get(i))"
   ]
  },
  {
   "cell_type": "code",
   "execution_count": 100,
   "id": "9b103348-4aa9-4421-8689-87e3f03847fe",
   "metadata": {},
   "outputs": [
    {
     "name": "stdout",
     "output_type": "stream",
     "text": [
      "150\n",
      "80\n",
      "250\n",
      "120\n",
      "60\n",
      "{'Small': 100, 'Large': 120}\n",
      "80\n",
      "50\n",
      "50\n"
     ]
    }
   ],
   "source": [
    "for i in fruits:\n",
    "    print(fruits.get(i))"
   ]
  },
  {
   "cell_type": "code",
   "execution_count": null,
   "id": "da15414f-4d14-442c-b3c1-28ec497aa7c5",
   "metadata": {},
   "outputs": [],
   "source": []
  },
  {
   "cell_type": "code",
   "execution_count": null,
   "id": "f082ff99-3042-4abf-9064-34f2d61dfb50",
   "metadata": {},
   "outputs": [],
   "source": []
  },
  {
   "cell_type": "code",
   "execution_count": 101,
   "id": "aaed4166-837b-4e33-91a5-fdc4960b1d42",
   "metadata": {},
   "outputs": [],
   "source": [
    "# for i, v in dict.items()"
   ]
  },
  {
   "cell_type": "code",
   "execution_count": 111,
   "id": "c6ce60eb-d773-474f-90dd-eaa3ba0993aa",
   "metadata": {},
   "outputs": [
    {
     "data": {
      "text/plain": [
       "dict_items([('Apple', 150), ('Oranges', 80), ('Mango', 250), ('Pomegranate', 120), ('Guava', 60), ('Pineapples', {'Small': 100, 'Large': 120}), ('Red Banana', 80), ('Palm', 50), ('Coconut Water', 50)])"
      ]
     },
     "execution_count": 111,
     "metadata": {},
     "output_type": "execute_result"
    }
   ],
   "source": [
    "fruits.items()"
   ]
  },
  {
   "cell_type": "code",
   "execution_count": 104,
   "id": "c0577e7d-7d64-40bb-91df-160aee0421de",
   "metadata": {},
   "outputs": [],
   "source": [
    "t = (1, 2)"
   ]
  },
  {
   "cell_type": "code",
   "execution_count": 107,
   "id": "4a3487c9-1d92-4767-99e6-40710f97868d",
   "metadata": {},
   "outputs": [],
   "source": [
    "# This is tuple unpacking\n",
    "a, b = t"
   ]
  },
  {
   "cell_type": "code",
   "execution_count": 108,
   "id": "2e4a3ce3-0981-449d-9206-ea5b5ac05eaa",
   "metadata": {},
   "outputs": [
    {
     "name": "stdout",
     "output_type": "stream",
     "text": [
      "1 2\n"
     ]
    }
   ],
   "source": [
    "print(a, b)"
   ]
  },
  {
   "cell_type": "code",
   "execution_count": 109,
   "id": "ce590d7d-f2e8-4105-9ec5-2fb52a16ff5c",
   "metadata": {},
   "outputs": [
    {
     "name": "stdout",
     "output_type": "stream",
     "text": [
      "('Apple', 150)\n",
      "('Oranges', 80)\n",
      "('Mango', 250)\n",
      "('Pomegranate', 120)\n",
      "('Guava', 60)\n",
      "('Pineapples', {'Small': 100, 'Large': 120})\n",
      "('Red Banana', 80)\n",
      "('Palm', 50)\n",
      "('Coconut Water', 50)\n"
     ]
    }
   ],
   "source": [
    "for i in fruits.items():\n",
    "    print(i)"
   ]
  },
  {
   "cell_type": "code",
   "execution_count": 112,
   "id": "ff1309b4-531c-4596-bfeb-4658ba6c5ff8",
   "metadata": {},
   "outputs": [
    {
     "name": "stdout",
     "output_type": "stream",
     "text": [
      "Apple 150\n",
      "Oranges 80\n",
      "Mango 250\n",
      "Pomegranate 120\n",
      "Guava 60\n",
      "Pineapples {'Small': 100, 'Large': 120}\n",
      "Red Banana 80\n",
      "Palm 50\n",
      "Coconut Water 50\n"
     ]
    }
   ],
   "source": [
    "for key, value in fruits.items():\n",
    "    print(key, value)"
   ]
  },
  {
   "cell_type": "code",
   "execution_count": null,
   "id": "25ae44f0-00b3-4ac0-8b64-2dcb10a207cc",
   "metadata": {},
   "outputs": [],
   "source": []
  },
  {
   "cell_type": "code",
   "execution_count": 113,
   "id": "a4179669-2242-468d-9509-9e2d4c965f88",
   "metadata": {},
   "outputs": [
    {
     "data": {
      "text/plain": [
       "{'Apple': 150,\n",
       " 'Oranges': 80,\n",
       " 'Mango': 250,\n",
       " 'Pomegranate': 120,\n",
       " 'Guava': 60,\n",
       " 'Pineapples': {'Small': 100, 'Large': 120},\n",
       " 'Red Banana': 80,\n",
       " 'Palm': 50,\n",
       " 'Coconut Water': 50}"
      ]
     },
     "execution_count": 113,
     "metadata": {},
     "output_type": "execute_result"
    }
   ],
   "source": [
    "fruits"
   ]
  },
  {
   "cell_type": "code",
   "execution_count": 116,
   "id": "9e35c2c9-f7e1-4c6f-ba2e-91e444b95029",
   "metadata": {},
   "outputs": [
    {
     "data": {
      "text/plain": [
       "9"
      ]
     },
     "execution_count": 116,
     "metadata": {},
     "output_type": "execute_result"
    }
   ],
   "source": [
    "len(fruits)"
   ]
  },
  {
   "cell_type": "code",
   "execution_count": null,
   "id": "10ccb5d7-b916-4287-8264-e59670c0650c",
   "metadata": {},
   "outputs": [],
   "source": []
  },
  {
   "cell_type": "code",
   "execution_count": null,
   "id": "39d0ef19-77b7-4f81-860f-44a4345df477",
   "metadata": {},
   "outputs": [],
   "source": []
  },
  {
   "cell_type": "markdown",
   "id": "64b59c88-4fd2-432a-b6e6-a1fac3d89ca9",
   "metadata": {},
   "source": [
    "#### Keys in a dict"
   ]
  },
  {
   "cell_type": "code",
   "execution_count": 118,
   "id": "5aaee784-7ca9-4206-b595-77bc75e6d7e8",
   "metadata": {},
   "outputs": [
    {
     "data": {
      "text/plain": [
       "dict_keys(['Apple', 'Oranges', 'Mango', 'Pomegranate', 'Guava', 'Pineapples', 'Red Banana', 'Palm', 'Coconut Water'])"
      ]
     },
     "execution_count": 118,
     "metadata": {},
     "output_type": "execute_result"
    }
   ],
   "source": [
    "fruits.keys()"
   ]
  },
  {
   "cell_type": "code",
   "execution_count": null,
   "id": "933e41e6-59a2-4de8-aa40-625764df9874",
   "metadata": {},
   "outputs": [],
   "source": []
  },
  {
   "cell_type": "code",
   "execution_count": null,
   "id": "e2def565-f40f-4fba-a63b-c53feff05200",
   "metadata": {},
   "outputs": [],
   "source": []
  },
  {
   "cell_type": "markdown",
   "id": "a115150c-1228-4406-8e1d-050f18161cc4",
   "metadata": {},
   "source": [
    "#### Values in a dict"
   ]
  },
  {
   "cell_type": "code",
   "execution_count": 120,
   "id": "819d41aa-4ad9-400e-8397-7cae5f6e270b",
   "metadata": {},
   "outputs": [
    {
     "data": {
      "text/plain": [
       "dict_values([150, 80, 250, 120, 60, {'Small': 100, 'Large': 120}, 80, 50, 50])"
      ]
     },
     "execution_count": 120,
     "metadata": {},
     "output_type": "execute_result"
    }
   ],
   "source": [
    "fruits.values()"
   ]
  },
  {
   "cell_type": "code",
   "execution_count": null,
   "id": "76d0fc99-87ee-436a-914d-0f8cd921d9ab",
   "metadata": {},
   "outputs": [],
   "source": []
  },
  {
   "cell_type": "code",
   "execution_count": null,
   "id": "8d599622-46e2-4ad2-8c38-f52335a80de7",
   "metadata": {},
   "outputs": [],
   "source": []
  },
  {
   "cell_type": "markdown",
   "id": "c8285697-bbd2-46d4-b7c5-00bb8b858c34",
   "metadata": {},
   "source": [
    "### Len function "
   ]
  },
  {
   "cell_type": "code",
   "execution_count": 121,
   "id": "2a9ec1b1-d8d8-43bb-9f83-6ee3baa6ddf6",
   "metadata": {},
   "outputs": [
    {
     "data": {
      "text/plain": [
       "9"
      ]
     },
     "execution_count": 121,
     "metadata": {},
     "output_type": "execute_result"
    }
   ],
   "source": [
    "len(fruits)"
   ]
  },
  {
   "cell_type": "code",
   "execution_count": null,
   "id": "ddc11027-c5e0-4e64-a593-2a6c72602cac",
   "metadata": {},
   "outputs": [],
   "source": []
  },
  {
   "cell_type": "code",
   "execution_count": 122,
   "id": "a4e835ca-74a9-43f3-9a02-50cd9831082b",
   "metadata": {},
   "outputs": [],
   "source": [
    "# Citizenship operator"
   ]
  },
  {
   "cell_type": "code",
   "execution_count": 123,
   "id": "14d1abac-5cef-49e2-9976-815c61ef5988",
   "metadata": {},
   "outputs": [
    {
     "data": {
      "text/plain": [
       "True"
      ]
     },
     "execution_count": 123,
     "metadata": {},
     "output_type": "execute_result"
    }
   ],
   "source": [
    "\"Apple\" in fruits"
   ]
  },
  {
   "cell_type": "code",
   "execution_count": 124,
   "id": "33bbf583-dadf-412c-9b1d-8987d5aa0f70",
   "metadata": {},
   "outputs": [
    {
     "data": {
      "text/plain": [
       "False"
      ]
     },
     "execution_count": 124,
     "metadata": {},
     "output_type": "execute_result"
    }
   ],
   "source": [
    "\"Kiwi\" in fruits"
   ]
  },
  {
   "cell_type": "code",
   "execution_count": 126,
   "id": "b04f6b74-53f5-4501-a7bb-5cc5fdad8c6a",
   "metadata": {},
   "outputs": [
    {
     "data": {
      "text/plain": [
       "False"
      ]
     },
     "execution_count": 126,
     "metadata": {},
     "output_type": "execute_result"
    }
   ],
   "source": [
    "120 in fruits"
   ]
  },
  {
   "cell_type": "code",
   "execution_count": null,
   "id": "003dbb55-0336-4859-8ff7-7c1ea27a972b",
   "metadata": {},
   "outputs": [],
   "source": []
  },
  {
   "cell_type": "code",
   "execution_count": null,
   "id": "c9bed6e2-da4e-4be7-8269-63611ad5a980",
   "metadata": {},
   "outputs": [],
   "source": []
  },
  {
   "cell_type": "markdown",
   "id": "6cc4703a-1419-47b1-84ec-e918b3bcf937",
   "metadata": {},
   "source": [
    "### Challenge"
   ]
  },
  {
   "cell_type": "markdown",
   "id": "25044555-ad92-4bf3-8cf2-1345799acc0d",
   "metadata": {},
   "source": [
    "#### Take a string as input.\n",
    "- Create a dictionary according to the following criteria :-\n",
    "- There will be one key value pair for each unique character\n",
    "- Key will be character name and value will be the count of the character inside the string."
   ]
  },
  {
   "cell_type": "code",
   "execution_count": 129,
   "id": "b618515a-fc12-4970-8435-cd179e5e5c8c",
   "metadata": {},
   "outputs": [],
   "source": [
    "# Rahul janghu\n",
    "# R: 1, a : 2, h : 2, u : 2, l : 1, \"_\" : 1, j : 1, n : 1, g : 1"
   ]
  },
  {
   "cell_type": "code",
   "execution_count": null,
   "id": "fb2a13a2-abc0-4d4b-a1f3-c106f9e4713e",
   "metadata": {},
   "outputs": [],
   "source": []
  },
  {
   "cell_type": "code",
   "execution_count": 134,
   "id": "0b3a25ca-ea4a-4cf5-bda5-0f399bed1784",
   "metadata": {},
   "outputs": [],
   "source": [
    "def frequency(string):\n",
    "    \n",
    "    freq = {}\n",
    "    for i in string:\n",
    "        # If chr is present then increment the freq by 1\n",
    "        if i in freq:\n",
    "            freq[i] += 1\n",
    "        \n",
    "        # If chr isn't present then add chr with freq of 1\n",
    "        else:\n",
    "            freq[i] = 1\n",
    "            \n",
    "    return freq\n",
    "            "
   ]
  },
  {
   "cell_type": "code",
   "execution_count": 135,
   "id": "75fb3edf-5654-4cf9-983b-41f1967b3560",
   "metadata": {},
   "outputs": [
    {
     "data": {
      "text/plain": [
       "{'R': 1, 'a': 2, 'h': 2, 'u': 2, 'l': 1, ' ': 1, 'j': 1, 'n': 1, 'g': 1}"
      ]
     },
     "execution_count": 135,
     "metadata": {},
     "output_type": "execute_result"
    }
   ],
   "source": [
    "frequency(\"Rahul janghu\")"
   ]
  },
  {
   "cell_type": "code",
   "execution_count": null,
   "id": "c50e5a62-e0b1-4886-b00a-4777dd1500e9",
   "metadata": {},
   "outputs": [],
   "source": []
  },
  {
   "cell_type": "code",
   "execution_count": null,
   "id": "0470d94a-63db-4786-adbc-48ab3286f84f",
   "metadata": {},
   "outputs": [],
   "source": []
  },
  {
   "cell_type": "code",
   "execution_count": null,
   "id": "7052c67c-1779-46c0-a03f-5e132a0f375e",
   "metadata": {},
   "outputs": [],
   "source": []
  },
  {
   "cell_type": "code",
   "execution_count": null,
   "id": "0fcb630d-b916-4e94-b911-d1e9e23e1b8c",
   "metadata": {},
   "outputs": [],
   "source": []
  },
  {
   "cell_type": "code",
   "execution_count": null,
   "id": "71aa7d9f-d630-4d6c-a515-32ec92e229bc",
   "metadata": {},
   "outputs": [],
   "source": []
  },
  {
   "cell_type": "code",
   "execution_count": null,
   "id": "7588cba3-0706-4c7a-aa06-5edb66b33322",
   "metadata": {},
   "outputs": [],
   "source": []
  },
  {
   "cell_type": "code",
   "execution_count": null,
   "id": "39ccf322-3d35-4ee2-a8b3-bae7637003ae",
   "metadata": {},
   "outputs": [],
   "source": []
  },
  {
   "cell_type": "code",
   "execution_count": null,
   "id": "dfe5f3d3-7175-4b3a-b1c4-fc5a91a47253",
   "metadata": {},
   "outputs": [],
   "source": []
  }
 ],
 "metadata": {
  "kernelspec": {
   "display_name": "Python 3 (ipykernel)",
   "language": "python",
   "name": "python3"
  },
  "language_info": {
   "codemirror_mode": {
    "name": "ipython",
    "version": 3
   },
   "file_extension": ".py",
   "mimetype": "text/x-python",
   "name": "python",
   "nbconvert_exporter": "python",
   "pygments_lexer": "ipython3",
   "version": "3.9.7"
  }
 },
 "nbformat": 4,
 "nbformat_minor": 5
}
