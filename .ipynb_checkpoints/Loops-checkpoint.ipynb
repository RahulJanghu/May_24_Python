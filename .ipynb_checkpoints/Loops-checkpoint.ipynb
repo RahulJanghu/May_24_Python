{
 "cells": [
  {
   "cell_type": "markdown",
   "id": "9980b111-9f31-4468-bb05-c04ab44afe6b",
   "metadata": {},
   "source": [
    "## What are loops?\n",
    "- A loop is a control structure that is used to perform a set of instructions for a specific number of times."
   ]
  },
  {
   "cell_type": "markdown",
   "id": "2e207dc9-2c47-48ed-a090-1671bf3ee2e8",
   "metadata": {},
   "source": [
    "##### Loops are a programming element that repeat a portion of code a set number of times until the desired process is complete. Repetitive tasks are common in programming, and loops are essential to save time and minimize errors."
   ]
  },
  {
   "cell_type": "code",
   "execution_count": 1,
   "id": "4aa16837-978e-41df-89b8-2595532f216a",
   "metadata": {},
   "outputs": [
    {
     "name": "stdout",
     "output_type": "stream",
     "text": [
      "Helicopter shoot\n",
      "Helicopter shoot\n",
      "Helicopter shoot\n",
      "Helicopter shoot\n",
      "Helicopter shoot\n"
     ]
    }
   ],
   "source": [
    "print(\"Helicopter shoot\")\n",
    "print(\"Helicopter shoot\")\n",
    "print(\"Helicopter shoot\")\n",
    "print(\"Helicopter shoot\")\n",
    "print(\"Helicopter shoot\")"
   ]
  },
  {
   "cell_type": "code",
   "execution_count": null,
   "id": "7fcfc4ec-aeef-428d-a022-c2f7edf1f5f7",
   "metadata": {},
   "outputs": [],
   "source": []
  },
  {
   "cell_type": "code",
   "execution_count": null,
   "id": "8383dd0e-5301-4a26-9a96-455031f5b487",
   "metadata": {},
   "outputs": [],
   "source": []
  },
  {
   "cell_type": "code",
   "execution_count": null,
   "id": "1aefa84a-c6e3-4795-b0fb-0550c55415b4",
   "metadata": {},
   "outputs": [],
   "source": []
  },
  {
   "cell_type": "markdown",
   "id": "2379032f-4a44-45ea-b69a-78148c29de17",
   "metadata": {},
   "source": [
    "## While loop\n",
    "- The while loop keeps iterating over a certain set of operations as long as a certain condition holds True.\n"
   ]
  },
  {
   "cell_type": "code",
   "execution_count": 2,
   "id": "c287bf6d-1eb5-463f-86a5-c4631579683d",
   "metadata": {},
   "outputs": [],
   "source": [
    "## Shopping list example"
   ]
  },
  {
   "cell_type": "markdown",
   "id": "fab564fe-8bae-46c5-b860-e6cda5979841",
   "metadata": {},
   "source": [
    "![image](../photos/whileloop.jpeg)"
   ]
  },
  {
   "cell_type": "code",
   "execution_count": 3,
   "id": "c2150faf-78a3-47bb-9cee-8b0a4fc02c6c",
   "metadata": {},
   "outputs": [
    {
     "name": "stdout",
     "output_type": "stream",
     "text": [
      "Helicopter Shot\n",
      "Helicopter Shot\n",
      "Helicopter Shot\n",
      "Helicopter Shot\n",
      "Helicopter Shot\n"
     ]
    }
   ],
   "source": [
    "# 1. Initialisation\n",
    "start = 0\n",
    "\n",
    "# 2. Define while loop condition\n",
    "\n",
    "while start < 5:\n",
    "    print(\"Helicopter Shot\")\n",
    "    # update\n",
    "    start += 1"
   ]
  },
  {
   "cell_type": "code",
   "execution_count": null,
   "id": "b799348b-3147-4adf-a0be-7fea3de7ddd6",
   "metadata": {},
   "outputs": [],
   "source": []
  },
  {
   "cell_type": "code",
   "execution_count": null,
   "id": "bf659b52-b906-41ec-be0e-72460b9ec29c",
   "metadata": {},
   "outputs": [],
   "source": []
  },
  {
   "cell_type": "markdown",
   "id": "e4d9c6a0-ed69-45a8-bcd8-b1f45502cd1f",
   "metadata": {},
   "source": [
    "## Print numbers from 1 to 10"
   ]
  },
  {
   "cell_type": "code",
   "execution_count": 5,
   "id": "600d0f3f-189e-4954-8881-f5cf3b83948b",
   "metadata": {},
   "outputs": [
    {
     "name": "stdout",
     "output_type": "stream",
     "text": [
      "1\n",
      "2\n",
      "3\n",
      "4\n",
      "5\n",
      "6\n",
      "7\n",
      "8\n",
      "9\n",
      "10\n"
     ]
    }
   ],
   "source": [
    "# Initialisation\n",
    "start = 1\n",
    "\n",
    "# While loop condition:\n",
    "\n",
    "while start <= 10:\n",
    "    print(start)\n",
    "    # update\n",
    "    start += 1"
   ]
  },
  {
   "cell_type": "code",
   "execution_count": null,
   "id": "67222405-e99e-4ce0-8d6a-eb17e81e2369",
   "metadata": {},
   "outputs": [],
   "source": []
  },
  {
   "cell_type": "code",
   "execution_count": null,
   "id": "65d8f4a0-0b8d-4d5a-897c-ef86315bb283",
   "metadata": {},
   "outputs": [],
   "source": []
  },
  {
   "cell_type": "markdown",
   "id": "bccf4596-7608-4920-aa67-7361b6230d7d",
   "metadata": {},
   "source": [
    "## Print numbers from 10 to 1"
   ]
  },
  {
   "cell_type": "code",
   "execution_count": 6,
   "id": "db885d11-3a13-4f71-ad07-cdf80e574c57",
   "metadata": {},
   "outputs": [
    {
     "name": "stdout",
     "output_type": "stream",
     "text": [
      "10\n",
      "9\n",
      "8\n",
      "7\n",
      "6\n",
      "5\n",
      "4\n",
      "3\n",
      "2\n",
      "1\n"
     ]
    }
   ],
   "source": [
    "# Initialisation:\n",
    "start = 10\n",
    "\n",
    "# Loop condition:\n",
    "\n",
    "while start >= 1:\n",
    "    print(start)\n",
    "    start -= 1\n",
    "    "
   ]
  },
  {
   "cell_type": "code",
   "execution_count": null,
   "id": "7cf52909-b16a-4817-bbb0-84f60c8e9e95",
   "metadata": {},
   "outputs": [],
   "source": []
  },
  {
   "cell_type": "code",
   "execution_count": null,
   "id": "a7da9a66-2136-4b02-a297-c1e1f269fcad",
   "metadata": {},
   "outputs": [],
   "source": []
  },
  {
   "cell_type": "markdown",
   "id": "551bb64e-fe37-4ad7-9c55-8e99c699ec2d",
   "metadata": {},
   "source": [
    "## Print all even numbers between 2 to 10"
   ]
  },
  {
   "cell_type": "code",
   "execution_count": 7,
   "id": "3608b021-7eaa-4018-812a-a9dc32cf99b9",
   "metadata": {},
   "outputs": [],
   "source": [
    "# check for a number if it is even"
   ]
  },
  {
   "cell_type": "code",
   "execution_count": 8,
   "id": "a4231d37-c8f0-4f43-b623-54da0c84544b",
   "metadata": {},
   "outputs": [
    {
     "name": "stdout",
     "output_type": "stream",
     "text": [
      "2\n",
      "4\n",
      "6\n",
      "8\n",
      "10\n"
     ]
    }
   ],
   "source": [
    "start = 2\n",
    "\n",
    "while start <= 10:\n",
    "    # Check if it is even or odd\n",
    "    if start % 2 == 0:\n",
    "        print(start)\n",
    "    start += 1"
   ]
  },
  {
   "cell_type": "code",
   "execution_count": 9,
   "id": "4201057d-a93e-43e1-b8a3-022a87f86b33",
   "metadata": {},
   "outputs": [
    {
     "name": "stdout",
     "output_type": "stream",
     "text": [
      "2\n",
      "4\n",
      "6\n",
      "8\n",
      "10\n"
     ]
    }
   ],
   "source": [
    "start = 2\n",
    "\n",
    "while start <= 10:\n",
    "    print(start)\n",
    "    start += 2"
   ]
  },
  {
   "cell_type": "code",
   "execution_count": null,
   "id": "03a1ca30-9951-448d-8e12-fb37c81c22c1",
   "metadata": {},
   "outputs": [],
   "source": []
  },
  {
   "cell_type": "code",
   "execution_count": null,
   "id": "8ca5243e-d665-4891-a98b-61ab010b3325",
   "metadata": {},
   "outputs": [],
   "source": []
  },
  {
   "cell_type": "markdown",
   "id": "96aeac41-59c6-4298-9044-25ee489c2f13",
   "metadata": {},
   "source": [
    "## Print all Odd number from 1 to 10"
   ]
  },
  {
   "cell_type": "code",
   "execution_count": 10,
   "id": "3a95fdd2-3956-41aa-8db9-bc8bb648d437",
   "metadata": {},
   "outputs": [],
   "source": [
    "# odd"
   ]
  },
  {
   "cell_type": "code",
   "execution_count": 11,
   "id": "97aa0943-ccce-4a4a-8441-c44a4584b781",
   "metadata": {},
   "outputs": [],
   "source": [
    "# Using if condition\n",
    "\n",
    "# and using jump of 2"
   ]
  },
  {
   "cell_type": "code",
   "execution_count": null,
   "id": "9c13ae7f-d248-4fce-a67b-5217cbfd5c7b",
   "metadata": {},
   "outputs": [],
   "source": []
  },
  {
   "cell_type": "code",
   "execution_count": null,
   "id": "c1f2a223-f7cb-4197-926d-6b1a30554cc1",
   "metadata": {},
   "outputs": [],
   "source": []
  },
  {
   "cell_type": "code",
   "execution_count": null,
   "id": "3ee8d89f-5ebd-47ce-8871-9ee4bf947cf0",
   "metadata": {},
   "outputs": [],
   "source": []
  },
  {
   "cell_type": "markdown",
   "id": "b37a1593-cb22-41f4-957d-86d2fcfe24e2",
   "metadata": {},
   "source": [
    "### Print all numbers from 1 to 10 in a single line"
   ]
  },
  {
   "cell_type": "code",
   "execution_count": 12,
   "id": "18fadadd-8391-4272-b80a-cbdfcda39c8f",
   "metadata": {},
   "outputs": [],
   "source": [
    "# Go for print statement"
   ]
  },
  {
   "cell_type": "code",
   "execution_count": 13,
   "id": "531aa1d8-2f6f-4214-8f86-92c714eaf432",
   "metadata": {},
   "outputs": [],
   "source": [
    "# print?"
   ]
  },
  {
   "cell_type": "code",
   "execution_count": 14,
   "id": "d76eb1bc-3137-4dd4-9cc2-dc0517c37405",
   "metadata": {},
   "outputs": [
    {
     "name": "stdout",
     "output_type": "stream",
     "text": [
      "1\n",
      "2\n",
      "3\n",
      "4\n",
      "5\n",
      "6\n",
      "7\n",
      "8\n",
      "9\n",
      "10\n"
     ]
    }
   ],
   "source": [
    "start = 1\n",
    "\n",
    "while start <= 10:\n",
    "    print(start)\n",
    "    start += 1"
   ]
  },
  {
   "cell_type": "code",
   "execution_count": 15,
   "id": "314242ca-a6d3-416a-8aa0-261a51b8f5d5",
   "metadata": {},
   "outputs": [
    {
     "data": {
      "text/plain": [
       "\u001b[0;31mDocstring:\u001b[0m\n",
       "print(value, ..., sep=' ', end='\\n', file=sys.stdout, flush=False)\n",
       "\n",
       "Prints the values to a stream, or to sys.stdout by default.\n",
       "Optional keyword arguments:\n",
       "file:  a file-like object (stream); defaults to the current sys.stdout.\n",
       "sep:   string inserted between values, default a space.\n",
       "end:   string appended after the last value, default a newline.\n",
       "flush: whether to forcibly flush the stream.\n",
       "\u001b[0;31mType:\u001b[0m      builtin_function_or_method\n"
      ]
     },
     "metadata": {},
     "output_type": "display_data"
    }
   ],
   "source": [
    "print?"
   ]
  },
  {
   "cell_type": "code",
   "execution_count": 16,
   "id": "6eb7a757-cb82-494c-a47f-ed8bf5236b40",
   "metadata": {},
   "outputs": [
    {
     "name": "stdout",
     "output_type": "stream",
     "text": [
      "2 3 4 5 6 7\n"
     ]
    }
   ],
   "source": [
    "print(2, 3, 4, 5, 6, 7)"
   ]
  },
  {
   "cell_type": "code",
   "execution_count": 17,
   "id": "a8d8b64c-225c-4c88-bef7-d7a74c37a75d",
   "metadata": {},
   "outputs": [
    {
     "name": "stdout",
     "output_type": "stream",
     "text": [
      "2 3 4 5 6 7\n"
     ]
    }
   ],
   "source": [
    "print(2,3,4,5,6,7)"
   ]
  },
  {
   "cell_type": "code",
   "execution_count": 19,
   "id": "a73d40f8-068b-4eea-a919-78b5ad072613",
   "metadata": {},
   "outputs": [
    {
     "name": "stdout",
     "output_type": "stream",
     "text": [
      "Rahul Janghu 1 Instructor\n"
     ]
    }
   ],
   "source": [
    "print(\"Rahul\",\"Janghu\",1,\"Instructor\")"
   ]
  },
  {
   "cell_type": "code",
   "execution_count": 20,
   "id": "37b47b55-5aea-4774-a39a-4bdf9bbc97b0",
   "metadata": {},
   "outputs": [
    {
     "name": "stdout",
     "output_type": "stream",
     "text": [
      "1\n",
      "2\n",
      "3\n"
     ]
    }
   ],
   "source": [
    "print(1)\n",
    "print(2)\n",
    "print(3)"
   ]
  },
  {
   "cell_type": "code",
   "execution_count": 21,
   "id": "634d56fd-9af2-4b4c-bd1a-21133b03052a",
   "metadata": {},
   "outputs": [
    {
     "name": "stdout",
     "output_type": "stream",
     "text": [
      "Rahul\n",
      "Janghu\n",
      "1\n",
      "Instructor\n"
     ]
    }
   ],
   "source": [
    "print(\"Rahul\",\"Janghu\",1,\"Instructor\", sep=\"\\n\")"
   ]
  },
  {
   "cell_type": "code",
   "execution_count": 22,
   "id": "b5e51536-58af-4ff2-a58b-f291bd15e0b9",
   "metadata": {},
   "outputs": [
    {
     "name": "stdout",
     "output_type": "stream",
     "text": [
      "Rahul\tJanghu\t1\tInstructor\n"
     ]
    }
   ],
   "source": [
    "print(\"Rahul\",\"Janghu\",1,\"Instructor\", sep=\"\\t\")"
   ]
  },
  {
   "cell_type": "code",
   "execution_count": 24,
   "id": "7056a262-3708-4b25-9552-230cbb9c62c4",
   "metadata": {},
   "outputs": [
    {
     "name": "stdout",
     "output_type": "stream",
     "text": [
      "Rahul   add anything.   Janghu   add anything.   1   add anything.   Instructor "
     ]
    }
   ],
   "source": [
    "print(\"Rahul\",\"Janghu\",1,\"Instructor\", sep=\"   add anything.   \", end=\" \")"
   ]
  },
  {
   "cell_type": "code",
   "execution_count": 25,
   "id": "e96f70f1-33ad-4994-92d9-7212dea307dc",
   "metadata": {},
   "outputs": [
    {
     "name": "stdout",
     "output_type": "stream",
     "text": [
      "1 2 3\n"
     ]
    }
   ],
   "source": [
    "print(1, end=\" \")\n",
    "print(2, end=\" \")\n",
    "print(3)"
   ]
  },
  {
   "cell_type": "code",
   "execution_count": 27,
   "id": "6686692d-6b3a-402a-ab97-655866fc995f",
   "metadata": {},
   "outputs": [
    {
     "name": "stdout",
     "output_type": "stream",
     "text": [
      "1 2 3 4 5 6 7 8 9 10 "
     ]
    }
   ],
   "source": [
    "start = 1\n",
    "\n",
    "while start <= 10:\n",
    "    print(start, end=\" \")\n",
    "    start += 1"
   ]
  },
  {
   "cell_type": "code",
   "execution_count": null,
   "id": "784cd22a-a787-4cfc-be34-c2d4c23d6b6f",
   "metadata": {},
   "outputs": [],
   "source": []
  },
  {
   "cell_type": "code",
   "execution_count": null,
   "id": "3a6cfdb5-80fe-40cf-b6fe-01753d0c8811",
   "metadata": {},
   "outputs": [],
   "source": []
  },
  {
   "cell_type": "code",
   "execution_count": null,
   "id": "7682ca57-5f15-40f3-b94a-07a44a86c071",
   "metadata": {},
   "outputs": [],
   "source": []
  },
  {
   "cell_type": "code",
   "execution_count": null,
   "id": "0e6cd5eb-234b-4c12-8af2-55dd7ad39dc5",
   "metadata": {},
   "outputs": [],
   "source": []
  },
  {
   "cell_type": "markdown",
   "id": "09a3652d-4111-49b9-a5c5-bfb1f18bd00c",
   "metadata": {},
   "source": [
    "####  Take T number of inputs and print their tables"
   ]
  },
  {
   "cell_type": "code",
   "execution_count": 28,
   "id": "48b527e2-00cb-4c14-a2ea-2dc35f79402f",
   "metadata": {},
   "outputs": [],
   "source": [
    "# Take n as input and print the table of n"
   ]
  },
  {
   "cell_type": "code",
   "execution_count": 34,
   "id": "2c8e6a9e-74f0-44c5-a7b2-b94aa1546f26",
   "metadata": {},
   "outputs": [
    {
     "name": "stdin",
     "output_type": "stream",
     "text": [
      " 4\n"
     ]
    },
    {
     "name": "stdout",
     "output_type": "stream",
     "text": [
      "4\n",
      "8\n",
      "12\n",
      "16\n",
      "20\n",
      "24\n",
      "28\n",
      "32\n",
      "36\n",
      "40\n"
     ]
    }
   ],
   "source": [
    "n = int(input())\n",
    "\n",
    "start = n\n",
    "\n",
    "while start <= n*10:\n",
    "    print(start)\n",
    "    start += n"
   ]
  },
  {
   "cell_type": "code",
   "execution_count": null,
   "id": "27e70c47-9b4c-4870-af98-e9e5c779cb9d",
   "metadata": {},
   "outputs": [],
   "source": []
  },
  {
   "cell_type": "code",
   "execution_count": 35,
   "id": "b4a5f2b1-cb7e-4393-9724-75efdce9b371",
   "metadata": {},
   "outputs": [],
   "source": [
    "# Take T number of inputs"
   ]
  },
  {
   "cell_type": "code",
   "execution_count": 37,
   "id": "7fb32be9-49bf-4511-b9c2-96a3e699dafd",
   "metadata": {},
   "outputs": [
    {
     "name": "stdin",
     "output_type": "stream",
     "text": [
      " 3\n",
      " 4\n",
      " 68\n",
      " 98\n"
     ]
    }
   ],
   "source": [
    "T = int(input())\n",
    "start = 0\n",
    "\n",
    "while start < T:\n",
    "    n = int(input())\n",
    "    start += 1"
   ]
  },
  {
   "cell_type": "code",
   "execution_count": null,
   "id": "c1ab2d57-6ea7-47f2-a58e-f1783aebf4a8",
   "metadata": {},
   "outputs": [],
   "source": []
  },
  {
   "cell_type": "code",
   "execution_count": 43,
   "id": "1270b74d-8813-4df4-89df-d696992dcef6",
   "metadata": {},
   "outputs": [
    {
     "name": "stdin",
     "output_type": "stream",
     "text": [
      " 3\n",
      " 4\n"
     ]
    },
    {
     "name": "stdout",
     "output_type": "stream",
     "text": [
      "4\n",
      "8\n",
      "12\n",
      "16\n",
      "20\n",
      "24\n",
      "28\n",
      "32\n",
      "36\n",
      "40\n"
     ]
    },
    {
     "name": "stdin",
     "output_type": "stream",
     "text": [
      " 5\n"
     ]
    },
    {
     "name": "stdout",
     "output_type": "stream",
     "text": [
      "5\n",
      "10\n",
      "15\n",
      "20\n",
      "25\n",
      "30\n",
      "35\n",
      "40\n",
      "45\n",
      "50\n"
     ]
    },
    {
     "name": "stdin",
     "output_type": "stream",
     "text": [
      " 6\n"
     ]
    },
    {
     "name": "stdout",
     "output_type": "stream",
     "text": [
      "6\n",
      "12\n",
      "18\n",
      "24\n",
      "30\n",
      "36\n",
      "42\n",
      "48\n",
      "54\n",
      "60\n"
     ]
    }
   ],
   "source": [
    "# Taking T number of inputs\n",
    "\n",
    "T = int(input())\n",
    "count = 0\n",
    "\n",
    "while count < T:\n",
    "    n = int(input())\n",
    "    count += 1\n",
    "    \n",
    "    # Print table for this number n:\n",
    "    start = n\n",
    "\n",
    "    while start <= n*10:\n",
    "        print(start)\n",
    "        start += n"
   ]
  },
  {
   "cell_type": "code",
   "execution_count": null,
   "id": "8129df6e-a154-4eb1-a116-2e5ebd53e93d",
   "metadata": {},
   "outputs": [],
   "source": []
  },
  {
   "cell_type": "code",
   "execution_count": null,
   "id": "50b78f0a-47aa-4d9c-9532-6c22176682d6",
   "metadata": {},
   "outputs": [],
   "source": []
  },
  {
   "cell_type": "markdown",
   "id": "56264271-0a5f-4a73-abd4-d275ee2a39e6",
   "metadata": {},
   "source": [
    "### For loops"
   ]
  },
  {
   "cell_type": "code",
   "execution_count": 44,
   "id": "49a069e1-e947-477a-b489-9e73f80b67c5",
   "metadata": {},
   "outputs": [],
   "source": [
    "# range"
   ]
  },
  {
   "cell_type": "code",
   "execution_count": 46,
   "id": "49c9e759-838b-4f6d-a312-14de916cefa5",
   "metadata": {},
   "outputs": [
    {
     "data": {
      "text/plain": [
       "[0, 1, 2, 3, 4, 5, 6, 7, 8, 9]"
      ]
     },
     "execution_count": 46,
     "metadata": {},
     "output_type": "execute_result"
    }
   ],
   "source": [
    "list(range(10))"
   ]
  },
  {
   "cell_type": "code",
   "execution_count": null,
   "id": "10dae4b1-360f-4c08-9c52-43b679654443",
   "metadata": {},
   "outputs": [],
   "source": []
  },
  {
   "cell_type": "code",
   "execution_count": 47,
   "id": "251e753e-6ee4-4139-b6cb-602bc3c82d48",
   "metadata": {},
   "outputs": [
    {
     "data": {
      "text/plain": [
       "[2, 3, 4, 5, 6, 7, 8, 9, 10]"
      ]
     },
     "execution_count": 47,
     "metadata": {},
     "output_type": "execute_result"
    }
   ],
   "source": [
    "list(range(2, 11))"
   ]
  },
  {
   "cell_type": "code",
   "execution_count": null,
   "id": "12635a3a-459b-4b6b-ab72-9f0c1d8a8df1",
   "metadata": {},
   "outputs": [],
   "source": []
  },
  {
   "cell_type": "code",
   "execution_count": 49,
   "id": "f699980f-aa78-41bf-a8c6-31acc2a06f6c",
   "metadata": {},
   "outputs": [
    {
     "data": {
      "text/plain": [
       "[2, 5, 8]"
      ]
     },
     "execution_count": 49,
     "metadata": {},
     "output_type": "execute_result"
    }
   ],
   "source": [
    "list(range(2, 10, 3))"
   ]
  },
  {
   "cell_type": "code",
   "execution_count": null,
   "id": "dd04d1ca-0f71-4106-a104-96120ed7ee77",
   "metadata": {},
   "outputs": [],
   "source": []
  },
  {
   "cell_type": "code",
   "execution_count": 50,
   "id": "bcc9e9f8-4fb3-45a3-8412-36a06ec5be3f",
   "metadata": {},
   "outputs": [
    {
     "data": {
      "text/plain": [
       "[]"
      ]
     },
     "execution_count": 50,
     "metadata": {},
     "output_type": "execute_result"
    }
   ],
   "source": [
    "list(range(2, 2))"
   ]
  },
  {
   "cell_type": "code",
   "execution_count": 51,
   "id": "ff07df4d-b4c7-4129-84b3-af76be761ab4",
   "metadata": {},
   "outputs": [
    {
     "data": {
      "text/plain": [
       "[]"
      ]
     },
     "execution_count": 51,
     "metadata": {},
     "output_type": "execute_result"
    }
   ],
   "source": [
    "list(range(20, 10))"
   ]
  },
  {
   "cell_type": "code",
   "execution_count": 53,
   "id": "ae6b5967-9398-4a36-a70a-70a9f4730836",
   "metadata": {},
   "outputs": [
    {
     "data": {
      "text/plain": [
       "[]"
      ]
     },
     "execution_count": 53,
     "metadata": {},
     "output_type": "execute_result"
    }
   ],
   "source": [
    "list(range(2, 0))"
   ]
  },
  {
   "cell_type": "code",
   "execution_count": 54,
   "id": "1248ac64-04a6-411c-9772-97436fa4ad39",
   "metadata": {},
   "outputs": [
    {
     "data": {
      "text/plain": [
       "[8, 7, 6, 5]"
      ]
     },
     "execution_count": 54,
     "metadata": {},
     "output_type": "execute_result"
    }
   ],
   "source": [
    "list(range(8, 4, -1))"
   ]
  },
  {
   "cell_type": "code",
   "execution_count": null,
   "id": "481116e3-7d65-4a18-9748-171f1491951a",
   "metadata": {},
   "outputs": [],
   "source": []
  },
  {
   "cell_type": "code",
   "execution_count": 55,
   "id": "feaa7b6d-8dde-4dc8-92d7-f1870104b7f2",
   "metadata": {},
   "outputs": [],
   "source": [
    "# Print numbers between 1 to 10"
   ]
  },
  {
   "cell_type": "code",
   "execution_count": 56,
   "id": "5a566f89-17cc-41ff-8f7b-06269cf1d8b6",
   "metadata": {},
   "outputs": [
    {
     "name": "stdout",
     "output_type": "stream",
     "text": [
      "1\n",
      "2\n",
      "3\n",
      "4\n",
      "5\n",
      "6\n",
      "7\n",
      "8\n",
      "9\n",
      "10\n"
     ]
    }
   ],
   "source": [
    "for i in range(1, 11):\n",
    "    print(i)"
   ]
  },
  {
   "cell_type": "code",
   "execution_count": null,
   "id": "fa75c732-d387-4121-a2b1-669eb9852849",
   "metadata": {},
   "outputs": [],
   "source": []
  },
  {
   "cell_type": "code",
   "execution_count": 57,
   "id": "d7a665d1-bb7d-4788-a8b3-d84e35b70aee",
   "metadata": {},
   "outputs": [],
   "source": [
    "# Get sum of first 10 Natural numbers"
   ]
  },
  {
   "cell_type": "code",
   "execution_count": 58,
   "id": "0ea1d048-f9fb-4b9f-bc1c-c90188df3f90",
   "metadata": {},
   "outputs": [
    {
     "name": "stdout",
     "output_type": "stream",
     "text": [
      "1\n",
      "2\n",
      "3\n",
      "4\n",
      "5\n",
      "6\n",
      "7\n",
      "8\n",
      "9\n",
      "10\n"
     ]
    }
   ],
   "source": [
    "for i in range(1, 11):\n",
    "    print(i)"
   ]
  },
  {
   "cell_type": "code",
   "execution_count": 61,
   "id": "b3d0c7bd-9883-4c62-b2c3-48d84e3685fd",
   "metadata": {},
   "outputs": [
    {
     "name": "stdout",
     "output_type": "stream",
     "text": [
      "55\n"
     ]
    }
   ],
   "source": [
    "total = 0.\n",
    "\n",
    "for i in range(1, 11):\n",
    "    total += i\n",
    "    \n",
    "print(total)"
   ]
  },
  {
   "cell_type": "code",
   "execution_count": null,
   "id": "91ad2cab-e508-4dc3-bbb1-953660f90137",
   "metadata": {},
   "outputs": [],
   "source": []
  },
  {
   "cell_type": "code",
   "execution_count": 62,
   "id": "22f4487b-3a7f-4293-82b4-92fc2e432d71",
   "metadata": {},
   "outputs": [],
   "source": [
    "# Take a number N as input and print values from N to 1"
   ]
  },
  {
   "cell_type": "code",
   "execution_count": 64,
   "id": "81d8bf8f-aa73-42c3-98ba-212eb99aeccd",
   "metadata": {},
   "outputs": [
    {
     "data": {
      "text/plain": [
       "[10, 9, 8, 7, 6, 5, 4, 3, 2, 1]"
      ]
     },
     "execution_count": 64,
     "metadata": {},
     "output_type": "execute_result"
    }
   ],
   "source": [
    "list(range(10, 0, -1))"
   ]
  },
  {
   "cell_type": "code",
   "execution_count": 65,
   "id": "2f1fb89e-98ae-4abd-874c-6d5934c060c7",
   "metadata": {},
   "outputs": [
    {
     "name": "stdin",
     "output_type": "stream",
     "text": [
      " 10\n"
     ]
    },
    {
     "name": "stdout",
     "output_type": "stream",
     "text": [
      "10\n",
      "9\n",
      "8\n",
      "7\n",
      "6\n",
      "5\n",
      "4\n",
      "3\n",
      "2\n"
     ]
    }
   ],
   "source": [
    "N = int(input())\n",
    "\n",
    "for i in range(N, 1, -1):\n",
    "    print(i)"
   ]
  },
  {
   "cell_type": "code",
   "execution_count": 66,
   "id": "5e798cf9-195e-4342-9920-07712fbbe6bb",
   "metadata": {},
   "outputs": [
    {
     "name": "stdin",
     "output_type": "stream",
     "text": [
      " 10\n"
     ]
    },
    {
     "name": "stdout",
     "output_type": "stream",
     "text": [
      "10\n",
      "9\n",
      "8\n",
      "7\n",
      "6\n",
      "5\n",
      "4\n",
      "3\n",
      "2\n",
      "1\n"
     ]
    }
   ],
   "source": [
    "N = int(input())\n",
    "\n",
    "for i in range(N, 0, -1):\n",
    "    print(i)"
   ]
  },
  {
   "cell_type": "code",
   "execution_count": null,
   "id": "769456fd-257a-441e-994d-aefd6cba8a9e",
   "metadata": {},
   "outputs": [],
   "source": []
  },
  {
   "cell_type": "code",
   "execution_count": 67,
   "id": "f2536dac-9386-4f41-999d-967bf92ce539",
   "metadata": {},
   "outputs": [
    {
     "data": {
      "text/plain": [
       "[1, 3, 5, 7, 9]"
      ]
     },
     "execution_count": 67,
     "metadata": {},
     "output_type": "execute_result"
    }
   ],
   "source": [
    "list(range(1, 11, 2))"
   ]
  },
  {
   "cell_type": "code",
   "execution_count": null,
   "id": "950f2fb0-0ed5-4138-ae88-9cbee2eb3425",
   "metadata": {},
   "outputs": [],
   "source": []
  },
  {
   "cell_type": "code",
   "execution_count": null,
   "id": "413995fc-c4f1-4ede-ab2b-e00fa20ef86a",
   "metadata": {},
   "outputs": [],
   "source": [
    "list(range(11))"
   ]
  },
  {
   "cell_type": "code",
   "execution_count": null,
   "id": "72f8e8cc-0149-436b-be26-2a139200c08f",
   "metadata": {},
   "outputs": [],
   "source": []
  },
  {
   "cell_type": "code",
   "execution_count": 1,
   "id": "c9073e71-40ab-448a-aa93-f2ced5405804",
   "metadata": {},
   "outputs": [],
   "source": [
    "# HW: Print even and odd numbers between 1-10 using for loop"
   ]
  },
  {
   "cell_type": "code",
   "execution_count": null,
   "id": "89b3457e-2773-4097-92e1-34bb541ac73c",
   "metadata": {},
   "outputs": [],
   "source": []
  },
  {
   "cell_type": "code",
   "execution_count": null,
   "id": "5a4d5a79-9d5e-4782-a50a-da80897671f5",
   "metadata": {},
   "outputs": [],
   "source": []
  },
  {
   "cell_type": "code",
   "execution_count": null,
   "id": "12d12d8a-8bb9-4d92-8d39-5272dc856999",
   "metadata": {},
   "outputs": [],
   "source": []
  },
  {
   "cell_type": "code",
   "execution_count": null,
   "id": "a58deb1e-0ed8-4e42-84e7-313c154aa684",
   "metadata": {},
   "outputs": [],
   "source": []
  }
 ],
 "metadata": {
  "kernelspec": {
   "display_name": "Python 3 (ipykernel)",
   "language": "python",
   "name": "python3"
  },
  "language_info": {
   "codemirror_mode": {
    "name": "ipython",
    "version": 3
   },
   "file_extension": ".py",
   "mimetype": "text/x-python",
   "name": "python",
   "nbconvert_exporter": "python",
   "pygments_lexer": "ipython3",
   "version": "3.9.7"
  }
 },
 "nbformat": 4,
 "nbformat_minor": 5
}
