{
 "cells": [
  {
   "cell_type": "markdown",
   "id": "c9b803d4-128c-488d-88fa-59d803dc9ac9",
   "metadata": {},
   "source": [
    "### Take input as n and print:"
   ]
  },
  {
   "cell_type": "code",
   "execution_count": 1,
   "id": "4aed3150-dee5-41b6-aafa-da0d255ef371",
   "metadata": {},
   "outputs": [],
   "source": [
    "# n = 4\n",
    "# # # #"
   ]
  },
  {
   "cell_type": "code",
   "execution_count": 2,
   "id": "64e7b570-5ce7-462c-9ac3-3f59dea870e9",
   "metadata": {},
   "outputs": [],
   "source": [
    "# Q.1 --> Print 4 # in a single line"
   ]
  },
  {
   "cell_type": "code",
   "execution_count": 3,
   "id": "6584e6b3-9243-44ee-8517-9c68fcadf4d6",
   "metadata": {},
   "outputs": [],
   "source": [
    "# Q.2 --> Question: Write a loop to print the following numbers - 1,4,7,10,13,16"
   ]
  },
  {
   "cell_type": "code",
   "execution_count": 5,
   "id": "cd42a147-93cd-493e-ac36-3fcead1112d8",
   "metadata": {},
   "outputs": [
    {
     "name": "stdout",
     "output_type": "stream",
     "text": [
      "# # # #\n"
     ]
    }
   ],
   "source": [
    "print('#', end=\" \")\n",
    "print('#', end=\" \")\n",
    "print('#', end=\" \")\n",
    "print('#')"
   ]
  },
  {
   "cell_type": "code",
   "execution_count": 6,
   "id": "edc745ca-6ec3-449f-a216-76948af859fc",
   "metadata": {},
   "outputs": [
    {
     "name": "stdout",
     "output_type": "stream",
     "text": [
      "# # # # "
     ]
    }
   ],
   "source": [
    "for i in range(4):\n",
    "    print('#', end=\" \")"
   ]
  },
  {
   "cell_type": "code",
   "execution_count": 10,
   "id": "2cf231c5-452a-4ee1-9f24-c27cb926e880",
   "metadata": {},
   "outputs": [
    {
     "name": "stdout",
     "output_type": "stream",
     "text": [
      "1, 4, 7, 10, 13, 16"
     ]
    }
   ],
   "source": [
    "for i in range(1, 17, 3):\n",
    "    if i == 16:\n",
    "        print(i, end=\"\")\n",
    "    else:\n",
    "        print(i, end=\", \")"
   ]
  },
  {
   "cell_type": "code",
   "execution_count": null,
   "id": "153ce381-fc2e-413d-8620-c74f2e8780f1",
   "metadata": {},
   "outputs": [],
   "source": []
  },
  {
   "cell_type": "code",
   "execution_count": null,
   "id": "4effcc93-0535-43c6-af5a-d4aff72190bc",
   "metadata": {},
   "outputs": [],
   "source": []
  },
  {
   "cell_type": "markdown",
   "id": "a48580a5-e383-42f1-ad3c-e2c879a6ff36",
   "metadata": {},
   "source": [
    "### Jump Statements\n",
    "- Pass\n",
    "- Continue\n",
    "- Break"
   ]
  },
  {
   "cell_type": "code",
   "execution_count": 14,
   "id": "5b3fd276-86de-4fc7-9fc7-c3eb0980c8a5",
   "metadata": {},
   "outputs": [],
   "source": [
    "# Pass is just a placeholder"
   ]
  },
  {
   "cell_type": "code",
   "execution_count": 13,
   "id": "243c0dc6-12c4-4602-92c7-5c8f20a63822",
   "metadata": {},
   "outputs": [],
   "source": [
    "if True:\n",
    "    pass # Represents an empty block / statement in Python "
   ]
  },
  {
   "cell_type": "code",
   "execution_count": null,
   "id": "0687e0b9-760d-4b0e-9aab-aa7d1e3e0fa3",
   "metadata": {},
   "outputs": [],
   "source": []
  },
  {
   "cell_type": "code",
   "execution_count": null,
   "id": "0247b3b1-d59d-4d92-b38c-9296e3015e0d",
   "metadata": {},
   "outputs": [],
   "source": []
  },
  {
   "cell_type": "code",
   "execution_count": 15,
   "id": "3b827405-b821-482b-9942-4c0e76b88cb5",
   "metadata": {},
   "outputs": [],
   "source": [
    "# Continue"
   ]
  },
  {
   "cell_type": "code",
   "execution_count": 19,
   "id": "d8e8945b-5cd8-47e5-8e2e-1e3185155641",
   "metadata": {},
   "outputs": [
    {
     "name": "stdout",
     "output_type": "stream",
     "text": [
      "1 Hey, welcome onboard and please have this garland\n",
      "2 Hey, welcome onboard and please have this garland\n",
      "3 Hey, welcome onboard and please have this garland\n",
      "4 Hey, welcome onboard and please have this garland\n",
      "6 Hey, welcome onboard and please have this garland\n",
      "7 Hey, welcome onboard and please have this garland\n",
      "8 Hey, welcome onboard and please have this garland\n",
      "9 Hey, welcome onboard and please have this garland\n",
      "10 Hey, welcome onboard and please have this garland\n"
     ]
    }
   ],
   "source": [
    "for i in range(1, 11):\n",
    "    if i == 5:\n",
    "        continue\n",
    "    print(i, \"Hey, welcome onboard and please have this garland\")"
   ]
  },
  {
   "cell_type": "code",
   "execution_count": null,
   "id": "3e476723-214e-4e42-bde2-9d1b625c0fb5",
   "metadata": {},
   "outputs": [],
   "source": []
  },
  {
   "cell_type": "code",
   "execution_count": null,
   "id": "83ba1160-12b1-431d-8d84-e411cd180c1f",
   "metadata": {},
   "outputs": [],
   "source": []
  },
  {
   "cell_type": "code",
   "execution_count": 20,
   "id": "7747500f-ab77-413f-be6f-b468842af5d3",
   "metadata": {},
   "outputs": [],
   "source": [
    "# Quiz:"
   ]
  },
  {
   "cell_type": "code",
   "execution_count": 21,
   "id": "42612745-4d21-41c6-9af3-ddc2b7e566e0",
   "metadata": {},
   "outputs": [
    {
     "name": "stdout",
     "output_type": "stream",
     "text": [
      "1\n",
      "2\n",
      "4\n",
      "5\n"
     ]
    }
   ],
   "source": [
    "x = 0\n",
    "while x < 5:\n",
    "    x += 1\n",
    "    if x == 3:\n",
    "        continue\n",
    "    print(x)"
   ]
  },
  {
   "cell_type": "code",
   "execution_count": null,
   "id": "2181db2a-8b26-4b27-a039-6f41514891ae",
   "metadata": {},
   "outputs": [],
   "source": []
  },
  {
   "cell_type": "code",
   "execution_count": 22,
   "id": "cd079e8d-918d-4e41-bf48-a9bf31b65ddb",
   "metadata": {},
   "outputs": [],
   "source": [
    "# Break"
   ]
  },
  {
   "cell_type": "code",
   "execution_count": 25,
   "id": "e85fd28b-8351-441d-ba1a-15f82b92a38d",
   "metadata": {},
   "outputs": [
    {
     "name": "stdout",
     "output_type": "stream",
     "text": [
      "1 Garland offered\n",
      "2 Garland offered\n",
      "3 Garland offered\n",
      "4 Garland offered\n",
      "Loop closed\n"
     ]
    }
   ],
   "source": [
    "for i in range(1, 11):\n",
    "    if i == 5:\n",
    "        break\n",
    "    print(i, \"Garland offered\")\n",
    "\n",
    "print(\"Loop closed\")"
   ]
  },
  {
   "cell_type": "code",
   "execution_count": null,
   "id": "147b691f-c492-4e45-bdb1-8ae619e580f1",
   "metadata": {},
   "outputs": [],
   "source": []
  },
  {
   "cell_type": "markdown",
   "id": "1fe189b3-1888-4e2c-bb04-b253c0bf5289",
   "metadata": {},
   "source": [
    "### Question:\n",
    "- Write a program that continuously asks the user to provide an input number\n",
    "- The program should stop only when the user provides 5.\n",
    "- Once the user provides 5, the program should print the number of times an input was provided.\n",
    "- Assume that the user always provides a number."
   ]
  },
  {
   "cell_type": "code",
   "execution_count": null,
   "id": "8415249b-071d-4314-91d8-5994e65320d7",
   "metadata": {},
   "outputs": [],
   "source": []
  },
  {
   "cell_type": "code",
   "execution_count": 30,
   "id": "21c4dc6e-d2b9-4d99-9d3e-284f10c70b17",
   "metadata": {},
   "outputs": [
    {
     "name": "stdin",
     "output_type": "stream",
     "text": [
      " 1\n",
      " 2\n",
      " 1\n",
      " 2\n",
      " 1\n",
      " 2\n",
      " 3\n",
      " 6\n",
      " 7\n",
      " 8\n",
      " 98\n",
      " 5\n"
     ]
    },
    {
     "name": "stdout",
     "output_type": "stream",
     "text": [
      "You provided 12 inputs!\n"
     ]
    }
   ],
   "source": [
    "counter = 0\n",
    "while True:\n",
    "    number = int(input())\n",
    "    counter += 1\n",
    "    \n",
    "    if number == 5:\n",
    "        break\n",
    "\n",
    "print(\"You provided\", counter, \"inputs!\")"
   ]
  },
  {
   "cell_type": "code",
   "execution_count": null,
   "id": "09d6486f-7008-42b9-a982-763fc2c1b00d",
   "metadata": {},
   "outputs": [],
   "source": []
  },
  {
   "cell_type": "code",
   "execution_count": 31,
   "id": "b5969dc3-dc7c-44df-b25e-6a66d83d67b0",
   "metadata": {},
   "outputs": [],
   "source": [
    "# Quiz"
   ]
  },
  {
   "cell_type": "code",
   "execution_count": 32,
   "id": "fb953870-031d-40fb-a7b9-676a1c505854",
   "metadata": {},
   "outputs": [
    {
     "name": "stdout",
     "output_type": "stream",
     "text": [
      "1\n",
      "2\n",
      "Loop finished\n"
     ]
    }
   ],
   "source": [
    "x = 0\n",
    "while x < 5:\n",
    "    x += 1\n",
    "    if x == 3:\n",
    "        break\n",
    "    print(x)\n",
    "print(\"Loop finished\")"
   ]
  },
  {
   "cell_type": "code",
   "execution_count": null,
   "id": "0f8e2fdf-098e-4b9e-88a7-275e06cfbff6",
   "metadata": {},
   "outputs": [],
   "source": []
  },
  {
   "cell_type": "code",
   "execution_count": 33,
   "id": "fe42e6ca-9590-48da-a626-9c68bbaebd89",
   "metadata": {},
   "outputs": [],
   "source": [
    "## Quiz"
   ]
  },
  {
   "cell_type": "code",
   "execution_count": 34,
   "id": "a480159e-89f8-4927-9d57-9c81da5302bb",
   "metadata": {},
   "outputs": [
    {
     "name": "stdout",
     "output_type": "stream",
     "text": [
      "0\n",
      "1\n",
      "2\n",
      "3\n",
      "4\n"
     ]
    }
   ],
   "source": [
    "count = 0\n",
    "while True:\n",
    "    if count == 5:\n",
    "        break\n",
    "    print(count)\n",
    "    count += 1"
   ]
  },
  {
   "cell_type": "code",
   "execution_count": null,
   "id": "e994372f-a595-452c-a462-92bfb8cdeab7",
   "metadata": {},
   "outputs": [],
   "source": []
  },
  {
   "cell_type": "code",
   "execution_count": null,
   "id": "74ec3b96-d659-4bcc-bcea-66cf4ee1de54",
   "metadata": {},
   "outputs": [],
   "source": []
  },
  {
   "cell_type": "code",
   "execution_count": null,
   "id": "e06afa1e-e1b9-4dac-b500-9f0c7d737927",
   "metadata": {},
   "outputs": [],
   "source": []
  },
  {
   "cell_type": "code",
   "execution_count": null,
   "id": "99096132-c88c-4dff-ab7d-eae5f796d571",
   "metadata": {},
   "outputs": [],
   "source": []
  },
  {
   "cell_type": "markdown",
   "id": "fc4c2bd8-fa38-4c82-b14a-acfb775960b5",
   "metadata": {},
   "source": [
    "### Problem"
   ]
  },
  {
   "cell_type": "code",
   "execution_count": 35,
   "id": "187562ea-7870-4716-9ac8-3a919ec44f35",
   "metadata": {},
   "outputs": [],
   "source": [
    "# N = 4\n",
    "\n",
    "# # # #\n",
    "# # # #\n",
    "# # # #\n",
    "# # # #"
   ]
  },
  {
   "cell_type": "code",
   "execution_count": 41,
   "id": "a9a92f48-3195-4f91-8036-32d3cea46c9f",
   "metadata": {},
   "outputs": [
    {
     "name": "stdout",
     "output_type": "stream",
     "text": [
      "# # # # \n",
      "# # # # \n",
      "# # # # \n",
      "# # # # "
     ]
    }
   ],
   "source": [
    "for i in range(4):\n",
    "    print('#', end=\" \")\n",
    "print()\n",
    "\n",
    "for i in range(4):\n",
    "    print('#', end=\" \")\n",
    "print()\n",
    "    \n",
    "for i in range(4):\n",
    "    print('#', end=\" \")\n",
    "print()\n",
    "\n",
    "for i in range(4):\n",
    "    print('#', end=\" \")"
   ]
  },
  {
   "cell_type": "code",
   "execution_count": null,
   "id": "5eba2eec-ff2f-4af4-b3f5-4022519a72c4",
   "metadata": {},
   "outputs": [],
   "source": []
  },
  {
   "cell_type": "code",
   "execution_count": null,
   "id": "9bbc10a3-f642-4c83-bb39-5d9b3693f21a",
   "metadata": {},
   "outputs": [],
   "source": []
  },
  {
   "cell_type": "markdown",
   "id": "b7edafe0-d67b-44bb-adab-6fca36e03383",
   "metadata": {},
   "source": [
    "### Nested for loop"
   ]
  },
  {
   "cell_type": "code",
   "execution_count": 42,
   "id": "d1a38586-d6e9-4b2f-a181-a42a828c6bf8",
   "metadata": {},
   "outputs": [
    {
     "name": "stdout",
     "output_type": "stream",
     "text": [
      "# # # # \n",
      "# # # # \n",
      "# # # # \n",
      "# # # # \n"
     ]
    }
   ],
   "source": [
    "for i in range(4):\n",
    "    for j in range(4):\n",
    "        print('#', end=\" \")\n",
    "    print()"
   ]
  },
  {
   "cell_type": "code",
   "execution_count": 43,
   "id": "e6df16ab-4102-4aee-9042-0e4d9fdecfe3",
   "metadata": {},
   "outputs": [],
   "source": [
    "# Outer loop is responsible for no of rows in output\n",
    "# Inner loop is responsible for no of cols in output"
   ]
  },
  {
   "cell_type": "code",
   "execution_count": null,
   "id": "366b8093-cade-4067-878d-9710e3dca6ee",
   "metadata": {},
   "outputs": [],
   "source": []
  },
  {
   "cell_type": "code",
   "execution_count": 46,
   "id": "22cac2bd-d955-4320-8748-329f393a1d60",
   "metadata": {},
   "outputs": [
    {
     "name": "stdout",
     "output_type": "stream",
     "text": [
      "0 0\n",
      "0 1\n",
      "0 2\n",
      "1 0\n",
      "1 1\n",
      "1 2\n"
     ]
    }
   ],
   "source": [
    "for i in range(2):\n",
    "    for j in range(3):\n",
    "        print(i, j)"
   ]
  },
  {
   "cell_type": "code",
   "execution_count": null,
   "id": "3d085bb0-e2c8-44a7-963a-6d30af418193",
   "metadata": {},
   "outputs": [],
   "source": []
  },
  {
   "cell_type": "code",
   "execution_count": 47,
   "id": "3b7724ad-d210-4c1b-a93e-62afe98c6cc6",
   "metadata": {},
   "outputs": [
    {
     "name": "stdout",
     "output_type": "stream",
     "text": [
      "* * * \n",
      "* * \n",
      "* \n"
     ]
    }
   ],
   "source": [
    "for i in range(3):\n",
    "    for j in range(i, 3):\n",
    "        print(\"*\", end=\" \")\n",
    "    print()"
   ]
  },
  {
   "cell_type": "code",
   "execution_count": null,
   "id": "0529db07-fa88-4afa-82f0-c330fbeb7473",
   "metadata": {},
   "outputs": [],
   "source": []
  },
  {
   "cell_type": "code",
   "execution_count": null,
   "id": "e327adfb-aedd-4d1d-8232-eb3a0c3f252b",
   "metadata": {},
   "outputs": [],
   "source": []
  },
  {
   "cell_type": "code",
   "execution_count": null,
   "id": "ad55767e-7ae9-45c3-ad6c-e39528780014",
   "metadata": {},
   "outputs": [],
   "source": []
  },
  {
   "cell_type": "markdown",
   "id": "729e2498-573b-45de-91d4-d5246157c68a",
   "metadata": {},
   "source": [
    "### Print N * N pattern"
   ]
  },
  {
   "cell_type": "code",
   "execution_count": 67,
   "id": "61278c73-fef9-4bbb-90fb-fdeb5de4f9f0",
   "metadata": {},
   "outputs": [
    {
     "name": "stdin",
     "output_type": "stream",
     "text": [
      " 4\n"
     ]
    },
    {
     "name": "stdout",
     "output_type": "stream",
     "text": [
      "* * * * \n",
      "* * * * \n",
      "* * * * \n",
      "* * * * \n"
     ]
    }
   ],
   "source": [
    "n = int(input())\n",
    "\n",
    "for i in range(n):\n",
    "    for j in range(n):\n",
    "        print(\"*\", end=\" \")\n",
    "    print()"
   ]
  },
  {
   "cell_type": "code",
   "execution_count": null,
   "id": "9163568f-fad0-4a86-a431-54639d25dd49",
   "metadata": {},
   "outputs": [],
   "source": []
  },
  {
   "cell_type": "code",
   "execution_count": null,
   "id": "41e2090a-fae2-4458-88bc-423de5a76ed7",
   "metadata": {},
   "outputs": [],
   "source": []
  },
  {
   "cell_type": "code",
   "execution_count": null,
   "id": "0ea0cd63-4e0f-4f4b-9054-c07036c92e32",
   "metadata": {},
   "outputs": [],
   "source": []
  },
  {
   "cell_type": "code",
   "execution_count": null,
   "id": "dae3be61-50ad-43ec-8754-8b789443f42e",
   "metadata": {},
   "outputs": [],
   "source": []
  },
  {
   "cell_type": "code",
   "execution_count": null,
   "id": "98049529-e93a-4da8-8b13-896fb5c4e0c0",
   "metadata": {},
   "outputs": [],
   "source": []
  },
  {
   "cell_type": "markdown",
   "id": "2684b8f1-f55b-4a77-b8a7-8d1b83ef01d8",
   "metadata": {},
   "source": [
    "### GCD"
   ]
  },
  {
   "cell_type": "code",
   "execution_count": 52,
   "id": "038a2d8f-2456-4b47-ae45-f2b42b731677",
   "metadata": {},
   "outputs": [],
   "source": [
    "# Following is the code for all common factors"
   ]
  },
  {
   "cell_type": "code",
   "execution_count": 54,
   "id": "36ee74f2-963c-40d4-a2ba-b99d16a08be2",
   "metadata": {},
   "outputs": [
    {
     "name": "stdout",
     "output_type": "stream",
     "text": [
      "1\n",
      "5\n"
     ]
    }
   ],
   "source": [
    "A = 5\n",
    "B = 10\n",
    "\n",
    "for i in range(1, 6):\n",
    "    if A % i == 0:\n",
    "        print(i)"
   ]
  },
  {
   "cell_type": "code",
   "execution_count": 55,
   "id": "479b0971-bc42-4064-9dd6-e1c54125c1e8",
   "metadata": {},
   "outputs": [
    {
     "name": "stdout",
     "output_type": "stream",
     "text": [
      "1\n",
      "5\n"
     ]
    }
   ],
   "source": [
    "A = 5\n",
    "B = 10\n",
    "\n",
    "for i in range(1, 6):\n",
    "    if A % i == 0 and B % i == 0:\n",
    "        print(i)"
   ]
  },
  {
   "cell_type": "code",
   "execution_count": 56,
   "id": "bcbc2260-c468-460f-b1e0-351b6712e21c",
   "metadata": {},
   "outputs": [],
   "source": [
    "# 1 -> min(A, B)"
   ]
  },
  {
   "cell_type": "code",
   "execution_count": 57,
   "id": "0ce4b79c-5d95-4e8f-8591-7371141f560a",
   "metadata": {},
   "outputs": [
    {
     "name": "stdout",
     "output_type": "stream",
     "text": [
      "1\n",
      "5\n"
     ]
    }
   ],
   "source": [
    "A = 5\n",
    "B = 10\n",
    "x = min(A, B)\n",
    "\n",
    "for i in range(1, x + 1):\n",
    "    if A % i == 0 and B % i == 0:\n",
    "        print(i)"
   ]
  },
  {
   "cell_type": "code",
   "execution_count": null,
   "id": "80c6e7cf-4f12-48d5-8319-34204671cd9a",
   "metadata": {},
   "outputs": [],
   "source": []
  },
  {
   "cell_type": "code",
   "execution_count": 58,
   "id": "d351d617-0b3e-48e8-bb10-fe1105e53533",
   "metadata": {},
   "outputs": [
    {
     "name": "stdout",
     "output_type": "stream",
     "text": [
      "5\n",
      "1\n"
     ]
    }
   ],
   "source": [
    "A = 5\n",
    "B = 10\n",
    "x = min(A, B)\n",
    "\n",
    "for i in range(x, 0, -1):\n",
    "    if A % i == 0 and B % i == 0:\n",
    "        print(i)"
   ]
  },
  {
   "cell_type": "code",
   "execution_count": null,
   "id": "f1f42d1f-6bb8-4a35-afec-21a7275c95ea",
   "metadata": {},
   "outputs": [],
   "source": []
  },
  {
   "cell_type": "code",
   "execution_count": 60,
   "id": "b33c5d1d-60c7-4622-8de9-1a2a882a0242",
   "metadata": {},
   "outputs": [
    {
     "name": "stdout",
     "output_type": "stream",
     "text": [
      "4\n"
     ]
    }
   ],
   "source": [
    "A = 8\n",
    "B = 4\n",
    "x = min(A, B)\n",
    "\n",
    "for i in range(x, 0, -1):\n",
    "    if A % i == 0 and B % i == 0:\n",
    "        print(i)\n",
    "        break"
   ]
  },
  {
   "cell_type": "code",
   "execution_count": 61,
   "id": "d950d86e-e586-4d9b-a6f3-0d25343b4727",
   "metadata": {},
   "outputs": [
    {
     "name": "stdout",
     "output_type": "stream",
     "text": [
      "5\n"
     ]
    }
   ],
   "source": [
    "A = 15\n",
    "B = 5\n",
    "x = min(A, B)\n",
    "\n",
    "for i in range(x, 0, -1):\n",
    "    if A % i == 0 and B % i == 0:\n",
    "        print(i)\n",
    "        break"
   ]
  },
  {
   "cell_type": "code",
   "execution_count": null,
   "id": "298c1270-62cd-48d4-ad6d-96c5f3c606db",
   "metadata": {},
   "outputs": [],
   "source": []
  },
  {
   "cell_type": "code",
   "execution_count": 65,
   "id": "d6131ac5-4b4f-4013-a2f2-e814fe3d2ddd",
   "metadata": {},
   "outputs": [
    {
     "name": "stdin",
     "output_type": "stream",
     "text": [
      " 14\n",
      " 4\n"
     ]
    },
    {
     "name": "stdout",
     "output_type": "stream",
     "text": [
      "2\n"
     ]
    }
   ],
   "source": [
    "A = int(input())\n",
    "B = int(input())\n",
    "x = min(A, B)\n",
    "\n",
    "for i in range(x, 0, -1):\n",
    "    if A % i == 0 and B % i == 0:\n",
    "        print(i)\n",
    "        break"
   ]
  },
  {
   "cell_type": "code",
   "execution_count": null,
   "id": "0e02a8eb-d59f-4cf7-97fc-2a07084d713c",
   "metadata": {},
   "outputs": [],
   "source": []
  },
  {
   "cell_type": "code",
   "execution_count": null,
   "id": "1fa31426-c11f-4821-b557-2ab9fd148058",
   "metadata": {},
   "outputs": [],
   "source": []
  },
  {
   "cell_type": "code",
   "execution_count": null,
   "id": "1222f501-aa38-49b4-8807-8b20ca452ddc",
   "metadata": {},
   "outputs": [],
   "source": []
  },
  {
   "cell_type": "code",
   "execution_count": null,
   "id": "9ce9323a-f513-4894-945b-72a9b03cec9f",
   "metadata": {},
   "outputs": [],
   "source": []
  },
  {
   "cell_type": "code",
   "execution_count": null,
   "id": "3f7e73f6-d1b9-484b-9c6a-00b4ea3af4d0",
   "metadata": {},
   "outputs": [],
   "source": []
  }
 ],
 "metadata": {
  "kernelspec": {
   "display_name": "Python 3 (ipykernel)",
   "language": "python",
   "name": "python3"
  },
  "language_info": {
   "codemirror_mode": {
    "name": "ipython",
    "version": 3
   },
   "file_extension": ".py",
   "mimetype": "text/x-python",
   "name": "python",
   "nbconvert_exporter": "python",
   "pygments_lexer": "ipython3",
   "version": "3.9.7"
  }
 },
 "nbformat": 4,
 "nbformat_minor": 5
}
