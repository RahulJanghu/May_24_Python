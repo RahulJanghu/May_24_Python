{
 "cells": [
  {
   "cell_type": "markdown",
   "id": "05d73624-2c16-4ff7-8aa3-efc51b49fe72",
   "metadata": {},
   "source": [
    "## Expression\n",
    "- Operators\n",
    "- Operands\n",
    "     - Operators + Operands = Expression"
   ]
  },
  {
   "cell_type": "code",
   "execution_count": null,
   "id": "5582d6a1-3623-442e-ac16-f89da9a6dc7f",
   "metadata": {},
   "outputs": [],
   "source": []
  },
  {
   "cell_type": "markdown",
   "id": "9b8c1763-62fb-4b40-9706-94e1d7ec74f3",
   "metadata": {},
   "source": [
    "##### An operator in a programming language is a symbol that to perform specific mathematical, relational or logical operation and produce final result."
   ]
  },
  {
   "cell_type": "code",
   "execution_count": null,
   "id": "b0b458d6-5817-4fcb-ba33-48719375350c",
   "metadata": {},
   "outputs": [],
   "source": []
  },
  {
   "cell_type": "code",
   "execution_count": null,
   "id": "45516a41-1a8c-45e1-82fe-7385d49a76a9",
   "metadata": {},
   "outputs": [],
   "source": []
  },
  {
   "cell_type": "code",
   "execution_count": null,
   "id": "fba32f32-d2cb-4208-be70-49f24d3e964f",
   "metadata": {},
   "outputs": [],
   "source": []
  },
  {
   "cell_type": "markdown",
   "id": "8159b5eb-4591-4f9f-852d-a479b1e1207c",
   "metadata": {},
   "source": [
    "## Arithmetic Operators\n",
    "- Addition\n",
    "- Subtraction\n",
    "- Division\n",
    "- mod (%)\n",
    "- Multiplication\n",
    "- Floor division (//)\n",
    "- To the power (**)"
   ]
  },
  {
   "cell_type": "code",
   "execution_count": 1,
   "id": "88057c5f-44f3-4845-be72-d0ee0036b2e0",
   "metadata": {},
   "outputs": [],
   "source": [
    "# These operators allow us to perform arithmetic operations in Python."
   ]
  },
  {
   "cell_type": "code",
   "execution_count": null,
   "id": "4dbe5022-0f29-40cb-9090-5f5532c0ec15",
   "metadata": {},
   "outputs": [],
   "source": []
  },
  {
   "cell_type": "markdown",
   "id": "d3692da8-8f8b-4a04-a8c5-7b225b4662ee",
   "metadata": {},
   "source": [
    "### Add"
   ]
  },
  {
   "cell_type": "code",
   "execution_count": 2,
   "id": "8dd4440a-473f-481f-bb95-458df6f4084a",
   "metadata": {},
   "outputs": [
    {
     "name": "stdout",
     "output_type": "stream",
     "text": [
      "31\n"
     ]
    }
   ],
   "source": [
    "a = 10\n",
    "b = 21\n",
    "total = a + b\n",
    "print(total)"
   ]
  },
  {
   "cell_type": "code",
   "execution_count": 3,
   "id": "69563467-8fcd-4f8b-90d8-d26a6ff0b818",
   "metadata": {},
   "outputs": [],
   "source": [
    "# If we are adding a float number to another number then ans will be float"
   ]
  },
  {
   "cell_type": "code",
   "execution_count": 4,
   "id": "76e50561-9c48-4ad0-8b31-f6403ec73a3c",
   "metadata": {},
   "outputs": [
    {
     "name": "stdout",
     "output_type": "stream",
     "text": [
      "4.0\n"
     ]
    }
   ],
   "source": [
    "print(2 + 2.0)"
   ]
  },
  {
   "cell_type": "code",
   "execution_count": 5,
   "id": "10306547-c12b-4f55-8da5-3558fad862a5",
   "metadata": {},
   "outputs": [
    {
     "name": "stdout",
     "output_type": "stream",
     "text": [
      "6.5\n"
     ]
    }
   ],
   "source": [
    "print(4 + 2.5)"
   ]
  },
  {
   "cell_type": "code",
   "execution_count": null,
   "id": "b34c0a48-3c60-4012-835c-2ee74bebb768",
   "metadata": {},
   "outputs": [],
   "source": []
  },
  {
   "cell_type": "code",
   "execution_count": 6,
   "id": "41e42ac8-d769-4140-9cc0-e5ec0bbf8698",
   "metadata": {},
   "outputs": [],
   "source": [
    "# String concatenation: A term for adding of strings"
   ]
  },
  {
   "cell_type": "code",
   "execution_count": 7,
   "id": "0a7f01b3-74e4-4fd3-a345-ecf69757c865",
   "metadata": {},
   "outputs": [
    {
     "name": "stdout",
     "output_type": "stream",
     "text": [
      "Rahuljanghu\n"
     ]
    }
   ],
   "source": [
    "name = \"Rahul\"\n",
    "last = \"janghu\"\n",
    "print(name + last)"
   ]
  },
  {
   "cell_type": "code",
   "execution_count": 8,
   "id": "eeab5587-1a10-4c3f-9010-aab422d8040b",
   "metadata": {},
   "outputs": [
    {
     "name": "stdout",
     "output_type": "stream",
     "text": [
      "22.0\n"
     ]
    }
   ],
   "source": [
    "print(\"2\" + '2.0')"
   ]
  },
  {
   "cell_type": "code",
   "execution_count": 9,
   "id": "396d2364-450d-4a07-8209-42e7f12c6f60",
   "metadata": {},
   "outputs": [
    {
     "ename": "TypeError",
     "evalue": "can only concatenate str (not \"int\") to str",
     "output_type": "error",
     "traceback": [
      "\u001b[0;31m---------------------------------------------------------------------------\u001b[0m",
      "\u001b[0;31mTypeError\u001b[0m                                 Traceback (most recent call last)",
      "\u001b[0;32m/var/folders/t5/yhjgrjs907zfp250jyxtw54m0000gn/T/ipykernel_17288/3176829682.py\u001b[0m in \u001b[0;36m<module>\u001b[0;34m\u001b[0m\n\u001b[0;32m----> 1\u001b[0;31m \u001b[0mprint\u001b[0m\u001b[0;34m(\u001b[0m\u001b[0;34m\"2\"\u001b[0m \u001b[0;34m+\u001b[0m \u001b[0;36m32\u001b[0m\u001b[0;34m)\u001b[0m\u001b[0;34m\u001b[0m\u001b[0;34m\u001b[0m\u001b[0m\n\u001b[0m",
      "\u001b[0;31mTypeError\u001b[0m: can only concatenate str (not \"int\") to str"
     ]
    }
   ],
   "source": [
    "print(\"2\" + 32)"
   ]
  },
  {
   "cell_type": "code",
   "execution_count": null,
   "id": "20325ab5-6431-4ce1-9537-f27abc32ec35",
   "metadata": {},
   "outputs": [],
   "source": []
  },
  {
   "cell_type": "code",
   "execution_count": null,
   "id": "2a5cf876-5267-4bf2-8a0e-e98a0048607e",
   "metadata": {},
   "outputs": [],
   "source": []
  },
  {
   "cell_type": "code",
   "execution_count": null,
   "id": "455ed5b6-f967-40fe-a31a-3bfaa197fa7d",
   "metadata": {},
   "outputs": [],
   "source": []
  },
  {
   "cell_type": "markdown",
   "id": "7ca5f118-3c9b-4cbe-8058-111b22571331",
   "metadata": {},
   "source": [
    "### Subtract"
   ]
  },
  {
   "cell_type": "code",
   "execution_count": 10,
   "id": "aa4985e0-b900-4f4d-8acf-88aa50651f3b",
   "metadata": {},
   "outputs": [
    {
     "name": "stdout",
     "output_type": "stream",
     "text": [
      "0.0\n"
     ]
    }
   ],
   "source": [
    "print(2 - 2.0)"
   ]
  },
  {
   "cell_type": "code",
   "execution_count": 11,
   "id": "3f3700ca-1e7a-4727-9d09-63e87a331a89",
   "metadata": {},
   "outputs": [],
   "source": [
    "# if we are subtracting a float then answer will be in float"
   ]
  },
  {
   "cell_type": "code",
   "execution_count": 12,
   "id": "13e56576-5582-4ef4-81ab-ec8a5436fcf2",
   "metadata": {},
   "outputs": [
    {
     "name": "stdout",
     "output_type": "stream",
     "text": [
      "-20\n"
     ]
    }
   ],
   "source": [
    "print(-10 - 10)"
   ]
  },
  {
   "cell_type": "code",
   "execution_count": 13,
   "id": "3dda7bdc-2c2a-4e23-abbc-f106b1dfd635",
   "metadata": {},
   "outputs": [
    {
     "name": "stdout",
     "output_type": "stream",
     "text": [
      "0\n"
     ]
    }
   ],
   "source": [
    "print(-10 - (-10))"
   ]
  },
  {
   "cell_type": "code",
   "execution_count": null,
   "id": "0fac956d-9f04-4bc7-9d38-cfc97a7bfb20",
   "metadata": {},
   "outputs": [],
   "source": []
  },
  {
   "cell_type": "code",
   "execution_count": null,
   "id": "72a6a7bb-aa2e-4149-85c1-d123e9ff861c",
   "metadata": {},
   "outputs": [],
   "source": []
  },
  {
   "cell_type": "code",
   "execution_count": 14,
   "id": "1fd1b1b9-39ca-4296-a588-7cd9dc98d8c2",
   "metadata": {},
   "outputs": [],
   "source": [
    "# You cant do following operation"
   ]
  },
  {
   "cell_type": "code",
   "execution_count": 15,
   "id": "b8efcec1-3553-42d3-9227-c9dc50a32842",
   "metadata": {},
   "outputs": [
    {
     "ename": "TypeError",
     "evalue": "unsupported operand type(s) for -: 'str' and 'str'",
     "output_type": "error",
     "traceback": [
      "\u001b[0;31m---------------------------------------------------------------------------\u001b[0m",
      "\u001b[0;31mTypeError\u001b[0m                                 Traceback (most recent call last)",
      "\u001b[0;32m/var/folders/t5/yhjgrjs907zfp250jyxtw54m0000gn/T/ipykernel_17288/667789428.py\u001b[0m in \u001b[0;36m<module>\u001b[0;34m\u001b[0m\n\u001b[0;32m----> 1\u001b[0;31m \u001b[0mprint\u001b[0m\u001b[0;34m(\u001b[0m\u001b[0;34m\"Rahul\"\u001b[0m \u001b[0;34m-\u001b[0m \u001b[0;34m\"Janghu\"\u001b[0m\u001b[0;34m)\u001b[0m\u001b[0;34m\u001b[0m\u001b[0;34m\u001b[0m\u001b[0m\n\u001b[0m",
      "\u001b[0;31mTypeError\u001b[0m: unsupported operand type(s) for -: 'str' and 'str'"
     ]
    }
   ],
   "source": [
    "print(\"Rahul\" - \"Janghu\")"
   ]
  },
  {
   "cell_type": "code",
   "execution_count": null,
   "id": "274b022a-f5de-45a2-ad08-48fa142bcb46",
   "metadata": {},
   "outputs": [],
   "source": []
  },
  {
   "cell_type": "code",
   "execution_count": null,
   "id": "2708b7e7-cb2d-4efd-a720-81838929ca52",
   "metadata": {},
   "outputs": [],
   "source": []
  },
  {
   "cell_type": "markdown",
   "id": "84304688-6362-4f5b-8220-778c1aabee53",
   "metadata": {},
   "source": [
    "### Multiply"
   ]
  },
  {
   "cell_type": "code",
   "execution_count": 16,
   "id": "0e87dd88-68e4-4cc8-bf4f-3bb07c35eabd",
   "metadata": {},
   "outputs": [
    {
     "name": "stdout",
     "output_type": "stream",
     "text": [
      "-6\n"
     ]
    }
   ],
   "source": [
    "print(3 * (-2))"
   ]
  },
  {
   "cell_type": "code",
   "execution_count": 17,
   "id": "a0594187-9407-45a6-8c8d-542fdee128df",
   "metadata": {},
   "outputs": [
    {
     "name": "stdout",
     "output_type": "stream",
     "text": [
      "6\n"
     ]
    }
   ],
   "source": [
    "print(-2 * (-3))"
   ]
  },
  {
   "cell_type": "code",
   "execution_count": null,
   "id": "39881b0b-f258-412d-8953-7d0e80c17491",
   "metadata": {},
   "outputs": [],
   "source": []
  },
  {
   "cell_type": "code",
   "execution_count": null,
   "id": "7ca33d4f-fa85-47ff-ba53-e10c6a1043d0",
   "metadata": {},
   "outputs": [],
   "source": []
  },
  {
   "cell_type": "code",
   "execution_count": 18,
   "id": "5bcc4070-9d2b-4263-a6a3-738b790341f1",
   "metadata": {},
   "outputs": [],
   "source": [
    "# Multiply a string: String concatenation"
   ]
  },
  {
   "cell_type": "code",
   "execution_count": 19,
   "id": "601c4fe7-ef7b-468e-a3b3-74c957d993e2",
   "metadata": {},
   "outputs": [
    {
     "name": "stdout",
     "output_type": "stream",
     "text": [
      "aaa\n"
     ]
    }
   ],
   "source": [
    "print(\"a\" + \"a\" + \"a\")"
   ]
  },
  {
   "cell_type": "code",
   "execution_count": 20,
   "id": "5d80dced-881a-4b35-bf00-174b91d97a58",
   "metadata": {},
   "outputs": [
    {
     "name": "stdout",
     "output_type": "stream",
     "text": [
      "aaa\n"
     ]
    }
   ],
   "source": [
    "print('a' * 3)"
   ]
  },
  {
   "cell_type": "code",
   "execution_count": 21,
   "id": "d524eeb7-6d96-4b05-86f8-2e75c16ebd6c",
   "metadata": {},
   "outputs": [
    {
     "ename": "TypeError",
     "evalue": "can't multiply sequence by non-int of type 'str'",
     "output_type": "error",
     "traceback": [
      "\u001b[0;31m---------------------------------------------------------------------------\u001b[0m",
      "\u001b[0;31mTypeError\u001b[0m                                 Traceback (most recent call last)",
      "\u001b[0;32m/var/folders/t5/yhjgrjs907zfp250jyxtw54m0000gn/T/ipykernel_17288/2319214751.py\u001b[0m in \u001b[0;36m<module>\u001b[0;34m\u001b[0m\n\u001b[0;32m----> 1\u001b[0;31m \u001b[0mprint\u001b[0m\u001b[0;34m(\u001b[0m\u001b[0;34m\"rahul\"\u001b[0m \u001b[0;34m*\u001b[0m \u001b[0;34m\"janghu\"\u001b[0m\u001b[0;34m)\u001b[0m\u001b[0;34m\u001b[0m\u001b[0;34m\u001b[0m\u001b[0m\n\u001b[0m",
      "\u001b[0;31mTypeError\u001b[0m: can't multiply sequence by non-int of type 'str'"
     ]
    }
   ],
   "source": [
    "print(\"rahul\" * \"janghu\")"
   ]
  },
  {
   "cell_type": "code",
   "execution_count": null,
   "id": "fac16d18-347b-4678-acc6-5f883717ced9",
   "metadata": {},
   "outputs": [],
   "source": []
  },
  {
   "cell_type": "code",
   "execution_count": null,
   "id": "eb15d4a7-0616-4f81-93c5-ecccfc126d3f",
   "metadata": {},
   "outputs": [],
   "source": []
  },
  {
   "cell_type": "markdown",
   "id": "bafc47cc-c81d-4699-a300-9880545368a8",
   "metadata": {},
   "source": [
    "### Divide"
   ]
  },
  {
   "cell_type": "code",
   "execution_count": 22,
   "id": "60a471bb-f0ef-46ea-a515-e518b7b3cace",
   "metadata": {},
   "outputs": [
    {
     "name": "stdout",
     "output_type": "stream",
     "text": [
      "5.0\n"
     ]
    }
   ],
   "source": [
    "print(10 / 2)"
   ]
  },
  {
   "cell_type": "code",
   "execution_count": 23,
   "id": "1079c07f-6664-44b1-a4d3-de6dbdbed6f3",
   "metadata": {},
   "outputs": [],
   "source": [
    "# In division we will always get output as a float"
   ]
  },
  {
   "cell_type": "code",
   "execution_count": 24,
   "id": "b5eb50d7-d7ae-46bf-802e-eda7e53b76a2",
   "metadata": {},
   "outputs": [
    {
     "data": {
      "text/plain": [
       "4.0"
      ]
     },
     "execution_count": 24,
     "metadata": {},
     "output_type": "execute_result"
    }
   ],
   "source": [
    "10 / 2.5"
   ]
  },
  {
   "cell_type": "code",
   "execution_count": 25,
   "id": "9ca99710-4a9c-4d4d-8527-533af5ee78eb",
   "metadata": {},
   "outputs": [
    {
     "ename": "TypeError",
     "evalue": "unsupported operand type(s) for /: 'str' and 'int'",
     "output_type": "error",
     "traceback": [
      "\u001b[0;31m---------------------------------------------------------------------------\u001b[0m",
      "\u001b[0;31mTypeError\u001b[0m                                 Traceback (most recent call last)",
      "\u001b[0;32m/var/folders/t5/yhjgrjs907zfp250jyxtw54m0000gn/T/ipykernel_17288/4111604969.py\u001b[0m in \u001b[0;36m<module>\u001b[0;34m\u001b[0m\n\u001b[0;32m----> 1\u001b[0;31m \u001b[0mprint\u001b[0m\u001b[0;34m(\u001b[0m\u001b[0;34m\"rahul\"\u001b[0m \u001b[0;34m/\u001b[0m \u001b[0;36m2\u001b[0m\u001b[0;34m)\u001b[0m\u001b[0;34m\u001b[0m\u001b[0;34m\u001b[0m\u001b[0m\n\u001b[0m",
      "\u001b[0;31mTypeError\u001b[0m: unsupported operand type(s) for /: 'str' and 'int'"
     ]
    }
   ],
   "source": [
    "print(\"rahul\" / 2)"
   ]
  },
  {
   "cell_type": "code",
   "execution_count": null,
   "id": "b30e93c2-669e-41e6-a76e-2451406cd2b6",
   "metadata": {},
   "outputs": [],
   "source": []
  },
  {
   "cell_type": "code",
   "execution_count": 26,
   "id": "57c585ae-4c88-42fd-a6bc-b010dc677eb4",
   "metadata": {},
   "outputs": [
    {
     "data": {
      "text/plain": [
       "3.3333333333333335"
      ]
     },
     "execution_count": 26,
     "metadata": {},
     "output_type": "execute_result"
    }
   ],
   "source": [
    "10 / 3"
   ]
  },
  {
   "cell_type": "code",
   "execution_count": null,
   "id": "f16b370f-814e-4ddb-8cdc-d12e448ca557",
   "metadata": {},
   "outputs": [],
   "source": []
  },
  {
   "cell_type": "code",
   "execution_count": 27,
   "id": "e8fb4c6c-2442-4b36-bd1b-be879629decf",
   "metadata": {},
   "outputs": [],
   "source": [
    "# Quiz"
   ]
  },
  {
   "cell_type": "code",
   "execution_count": 28,
   "id": "91ea10f8-9971-4c8e-9084-1a2ca0e90c8c",
   "metadata": {},
   "outputs": [
    {
     "data": {
      "text/plain": [
       "7.0"
      ]
     },
     "execution_count": 28,
     "metadata": {},
     "output_type": "execute_result"
    }
   ],
   "source": [
    "3.5+3.5"
   ]
  },
  {
   "cell_type": "code",
   "execution_count": null,
   "id": "8c404f7f-77bf-4187-9c29-f89ea0d15ee8",
   "metadata": {},
   "outputs": [],
   "source": []
  },
  {
   "cell_type": "code",
   "execution_count": null,
   "id": "01981e07-9f3b-40b3-b834-e03b3b3a8408",
   "metadata": {},
   "outputs": [],
   "source": []
  },
  {
   "cell_type": "code",
   "execution_count": null,
   "id": "9057c2ce-ad3f-4c2d-993d-0974a4608474",
   "metadata": {},
   "outputs": [],
   "source": []
  },
  {
   "cell_type": "code",
   "execution_count": 29,
   "id": "03d06d2d-9ffc-4b0e-8837-9016ec0208b0",
   "metadata": {},
   "outputs": [],
   "source": [
    "# To the power accepts two values base and power"
   ]
  },
  {
   "cell_type": "code",
   "execution_count": 30,
   "id": "755d5abe-f6a7-43bf-b069-734bde1072b3",
   "metadata": {},
   "outputs": [],
   "source": [
    "# **"
   ]
  },
  {
   "cell_type": "code",
   "execution_count": 31,
   "id": "65cde717-5a99-4178-9dbb-a5bd6174deb6",
   "metadata": {},
   "outputs": [],
   "source": [
    "# base ** power"
   ]
  },
  {
   "cell_type": "code",
   "execution_count": 32,
   "id": "52418353-e456-476c-80ef-81f32643de91",
   "metadata": {},
   "outputs": [
    {
     "name": "stdout",
     "output_type": "stream",
     "text": [
      "8\n"
     ]
    }
   ],
   "source": [
    "print(2 ** 3)"
   ]
  },
  {
   "cell_type": "code",
   "execution_count": 33,
   "id": "1f48c6b7-5f23-45e1-b2a0-5ddd7b2d87f5",
   "metadata": {},
   "outputs": [
    {
     "name": "stdout",
     "output_type": "stream",
     "text": [
      "16\n"
     ]
    }
   ],
   "source": [
    "print(4 ** 2)"
   ]
  },
  {
   "cell_type": "code",
   "execution_count": null,
   "id": "3af4f51b-f769-4369-8105-edd79e24452c",
   "metadata": {},
   "outputs": [],
   "source": []
  },
  {
   "cell_type": "code",
   "execution_count": 36,
   "id": "95c7aeee-1289-4c69-8753-380e58b78f19",
   "metadata": {},
   "outputs": [
    {
     "name": "stdout",
     "output_type": "stream",
     "text": [
      "1\n"
     ]
    }
   ],
   "source": [
    "print(1000001 ** 0)"
   ]
  },
  {
   "cell_type": "code",
   "execution_count": 37,
   "id": "5ff440e8-f3ed-4df2-8203-1211dfbf5f0e",
   "metadata": {},
   "outputs": [
    {
     "name": "stdout",
     "output_type": "stream",
     "text": [
      "1\n"
     ]
    }
   ],
   "source": [
    "print(0 ** 0)"
   ]
  },
  {
   "cell_type": "code",
   "execution_count": null,
   "id": "5979db2c-a2dc-40e7-830d-3036646484dc",
   "metadata": {},
   "outputs": [],
   "source": []
  },
  {
   "cell_type": "code",
   "execution_count": null,
   "id": "8ba48440-5ea3-44e9-b067-c739fe2fd1a0",
   "metadata": {},
   "outputs": [],
   "source": []
  },
  {
   "cell_type": "code",
   "execution_count": null,
   "id": "5c3133e9-bfc9-4471-bd55-cf3333ffd3a2",
   "metadata": {},
   "outputs": [],
   "source": []
  },
  {
   "cell_type": "code",
   "execution_count": 34,
   "id": "20b13694-fa3f-4c5e-a8f8-87110746e557",
   "metadata": {},
   "outputs": [],
   "source": [
    "# Quizzes"
   ]
  },
  {
   "cell_type": "code",
   "execution_count": 35,
   "id": "e767124c-e277-4883-88b0-2dbb2081e25a",
   "metadata": {},
   "outputs": [
    {
     "name": "stdout",
     "output_type": "stream",
     "text": [
      "0.1\n"
     ]
    }
   ],
   "source": [
    "print(10**-1)"
   ]
  },
  {
   "cell_type": "code",
   "execution_count": null,
   "id": "7af22643-5921-45c3-ac0f-080590d0a4a7",
   "metadata": {},
   "outputs": [],
   "source": []
  },
  {
   "cell_type": "code",
   "execution_count": null,
   "id": "3e11dd15-79f1-4c40-b8bb-9cd092df9828",
   "metadata": {},
   "outputs": [],
   "source": []
  },
  {
   "cell_type": "code",
   "execution_count": null,
   "id": "c5150c82-8e48-42dc-a867-84b408449922",
   "metadata": {},
   "outputs": [],
   "source": []
  },
  {
   "cell_type": "code",
   "execution_count": null,
   "id": "33c6079d-dda7-4796-8747-4ca7c1f62e03",
   "metadata": {},
   "outputs": [],
   "source": []
  },
  {
   "cell_type": "code",
   "execution_count": 38,
   "id": "48058c17-1d62-4348-a06a-c37dbf04b278",
   "metadata": {},
   "outputs": [],
   "source": [
    "### Challenge: If you have 100 chocolates then how many...."
   ]
  },
  {
   "cell_type": "markdown",
   "id": "79d0c427-46c1-4c41-bc8d-00be0b8ef121",
   "metadata": {},
   "source": [
    "### Floor"
   ]
  },
  {
   "cell_type": "code",
   "execution_count": 39,
   "id": "276b9212-3eeb-4285-8832-f334c6b24cb1",
   "metadata": {},
   "outputs": [
    {
     "data": {
      "text/plain": [
       "2.5"
      ]
     },
     "execution_count": 39,
     "metadata": {},
     "output_type": "execute_result"
    }
   ],
   "source": [
    "5 / 2"
   ]
  },
  {
   "cell_type": "code",
   "execution_count": 40,
   "id": "77f4a6b9-8662-4a8a-b83b-f71eb18adfaa",
   "metadata": {},
   "outputs": [
    {
     "data": {
      "text/plain": [
       "2"
      ]
     },
     "execution_count": 40,
     "metadata": {},
     "output_type": "execute_result"
    }
   ],
   "source": [
    "5 // 2"
   ]
  },
  {
   "cell_type": "code",
   "execution_count": 41,
   "id": "69a80668-9128-4631-8283-e412aee5ab3a",
   "metadata": {},
   "outputs": [
    {
     "data": {
      "text/plain": [
       "-1.5"
      ]
     },
     "execution_count": 41,
     "metadata": {},
     "output_type": "execute_result"
    }
   ],
   "source": [
    "-3 / 2"
   ]
  },
  {
   "cell_type": "code",
   "execution_count": 42,
   "id": "9e63b849-21b6-4c84-a0b4-1ce02002ec07",
   "metadata": {},
   "outputs": [
    {
     "data": {
      "text/plain": [
       "-2"
      ]
     },
     "execution_count": 42,
     "metadata": {},
     "output_type": "execute_result"
    }
   ],
   "source": [
    "-3 // 2"
   ]
  },
  {
   "cell_type": "code",
   "execution_count": null,
   "id": "497216f9-ed47-4c6a-a9a2-b4bd48a836e6",
   "metadata": {},
   "outputs": [],
   "source": []
  },
  {
   "cell_type": "code",
   "execution_count": 43,
   "id": "9c25a218-d6e3-45c4-aa65-cec49958de44",
   "metadata": {},
   "outputs": [],
   "source": [
    "# Quiz"
   ]
  },
  {
   "cell_type": "code",
   "execution_count": 44,
   "id": "8e61e0db-d5bc-4ec0-8ff5-a3cc85c7656a",
   "metadata": {},
   "outputs": [
    {
     "data": {
      "text/plain": [
       "-4"
      ]
     },
     "execution_count": 44,
     "metadata": {},
     "output_type": "execute_result"
    }
   ],
   "source": [
    "-10 // 3"
   ]
  },
  {
   "cell_type": "code",
   "execution_count": null,
   "id": "97ecb79a-5592-4ce9-8add-072f3317ad1b",
   "metadata": {},
   "outputs": [],
   "source": []
  },
  {
   "cell_type": "code",
   "execution_count": null,
   "id": "0db5d543-0bfb-4855-84a5-66ed2449c04c",
   "metadata": {},
   "outputs": [],
   "source": []
  },
  {
   "cell_type": "code",
   "execution_count": 45,
   "id": "52f39f4a-2ae9-44ec-9890-7bf50304ff9a",
   "metadata": {},
   "outputs": [],
   "source": [
    "# Modulus % : It will give remainder"
   ]
  },
  {
   "cell_type": "code",
   "execution_count": 46,
   "id": "1d3bc79c-3f88-4b4c-93fb-7335d1a13b42",
   "metadata": {},
   "outputs": [
    {
     "data": {
      "text/plain": [
       "0"
      ]
     },
     "execution_count": 46,
     "metadata": {},
     "output_type": "execute_result"
    }
   ],
   "source": [
    "15 % 3"
   ]
  },
  {
   "cell_type": "code",
   "execution_count": 47,
   "id": "6f22e6da-f435-4748-823c-a4b728d80d54",
   "metadata": {},
   "outputs": [
    {
     "data": {
      "text/plain": [
       "1"
      ]
     },
     "execution_count": 47,
     "metadata": {},
     "output_type": "execute_result"
    }
   ],
   "source": [
    "10 % 3"
   ]
  },
  {
   "cell_type": "code",
   "execution_count": 48,
   "id": "47e4bf96-970b-4621-a556-0d6d6425f5ca",
   "metadata": {},
   "outputs": [
    {
     "data": {
      "text/plain": [
       "2"
      ]
     },
     "execution_count": 48,
     "metadata": {},
     "output_type": "execute_result"
    }
   ],
   "source": [
    "10 % 4"
   ]
  },
  {
   "cell_type": "code",
   "execution_count": 49,
   "id": "830c640c-8993-42f2-baa9-8110a765d445",
   "metadata": {},
   "outputs": [
    {
     "data": {
      "text/plain": [
       "2"
      ]
     },
     "execution_count": 49,
     "metadata": {},
     "output_type": "execute_result"
    }
   ],
   "source": [
    "14 % 4"
   ]
  },
  {
   "cell_type": "code",
   "execution_count": null,
   "id": "15a38e67-f6c9-49f6-a462-da541bf71a79",
   "metadata": {},
   "outputs": [],
   "source": []
  },
  {
   "cell_type": "code",
   "execution_count": 50,
   "id": "9f27e334-0932-4d3b-a708-0c88c07c6f11",
   "metadata": {},
   "outputs": [],
   "source": [
    "# quiz"
   ]
  },
  {
   "cell_type": "code",
   "execution_count": 51,
   "id": "ddb82487-3a00-40f7-a697-a3b556312ac7",
   "metadata": {},
   "outputs": [
    {
     "ename": "ZeroDivisionError",
     "evalue": "integer division or modulo by zero",
     "output_type": "error",
     "traceback": [
      "\u001b[0;31m---------------------------------------------------------------------------\u001b[0m",
      "\u001b[0;31mZeroDivisionError\u001b[0m                         Traceback (most recent call last)",
      "\u001b[0;32m/var/folders/t5/yhjgrjs907zfp250jyxtw54m0000gn/T/ipykernel_17288/1677088672.py\u001b[0m in \u001b[0;36m<module>\u001b[0;34m\u001b[0m\n\u001b[1;32m      1\u001b[0m \u001b[0mx\u001b[0m \u001b[0;34m=\u001b[0m \u001b[0;36m10\u001b[0m\u001b[0;34m\u001b[0m\u001b[0;34m\u001b[0m\u001b[0m\n\u001b[0;32m----> 2\u001b[0;31m \u001b[0mprint\u001b[0m\u001b[0;34m(\u001b[0m\u001b[0mx\u001b[0m \u001b[0;34m//\u001b[0m \u001b[0;36m0\u001b[0m\u001b[0;34m)\u001b[0m\u001b[0;34m\u001b[0m\u001b[0;34m\u001b[0m\u001b[0m\n\u001b[0m",
      "\u001b[0;31mZeroDivisionError\u001b[0m: integer division or modulo by zero"
     ]
    }
   ],
   "source": [
    "x = 10\n",
    "print(x // 0)"
   ]
  },
  {
   "cell_type": "code",
   "execution_count": null,
   "id": "f5955a52-f9dd-4d47-aef2-d6ad4eccfff0",
   "metadata": {},
   "outputs": [],
   "source": []
  },
  {
   "cell_type": "code",
   "execution_count": null,
   "id": "bfdb4914-a4b6-4cb1-a863-fd8d202d0e3a",
   "metadata": {},
   "outputs": [],
   "source": []
  },
  {
   "cell_type": "markdown",
   "id": "0ee56812-f918-4081-8006-2e8280826311",
   "metadata": {},
   "source": [
    "## Comparison Operators\n",
    "- == (True if equal)\n",
    "- != (True if not equal)\n",
    "- < (Less than)  &  > (Greater than)\n",
    "- <= (Less than or equal to) &   >= (Greater than or equal to)"
   ]
  },
  {
   "cell_type": "code",
   "execution_count": 52,
   "id": "795b7792-a3eb-4e7c-aa60-6541c960de24",
   "metadata": {},
   "outputs": [],
   "source": [
    "# Comparison operators can be used to compare values in mathematical terms."
   ]
  },
  {
   "cell_type": "code",
   "execution_count": 53,
   "id": "9f7fbcf4-0db8-4d23-be44-106c5eb96bd6",
   "metadata": {},
   "outputs": [],
   "source": [
    "# == operator"
   ]
  },
  {
   "cell_type": "code",
   "execution_count": 54,
   "id": "5e43ae66-5118-4b11-ab01-cf2e073bbd3e",
   "metadata": {},
   "outputs": [],
   "source": [
    "# The output of comparison ops is always bool value"
   ]
  },
  {
   "cell_type": "code",
   "execution_count": 55,
   "id": "b806477a-3ba7-4cd6-99de-8b0f707c3730",
   "metadata": {},
   "outputs": [
    {
     "data": {
      "text/plain": [
       "True"
      ]
     },
     "execution_count": 55,
     "metadata": {},
     "output_type": "execute_result"
    }
   ],
   "source": [
    "3 == 3"
   ]
  },
  {
   "cell_type": "code",
   "execution_count": 56,
   "id": "70682507-1fbb-444a-98c5-067868ed789d",
   "metadata": {},
   "outputs": [
    {
     "data": {
      "text/plain": [
       "False"
      ]
     },
     "execution_count": 56,
     "metadata": {},
     "output_type": "execute_result"
    }
   ],
   "source": [
    "2 == 1"
   ]
  },
  {
   "cell_type": "code",
   "execution_count": 57,
   "id": "265c9911-bdfd-4072-81ff-34412de64e81",
   "metadata": {},
   "outputs": [
    {
     "data": {
      "text/plain": [
       "False"
      ]
     },
     "execution_count": 57,
     "metadata": {},
     "output_type": "execute_result"
    }
   ],
   "source": [
    "\"Rahul\" == \"rahul\""
   ]
  },
  {
   "cell_type": "code",
   "execution_count": null,
   "id": "bdae14ea-cdc1-42c7-9f44-ac3c95683456",
   "metadata": {},
   "outputs": [],
   "source": []
  },
  {
   "cell_type": "code",
   "execution_count": 58,
   "id": "a88f0bca-e1e1-413f-84a3-532543ce491f",
   "metadata": {},
   "outputs": [
    {
     "data": {
      "text/plain": [
       "False"
      ]
     },
     "execution_count": 58,
     "metadata": {},
     "output_type": "execute_result"
    }
   ],
   "source": [
    "2 > 3"
   ]
  },
  {
   "cell_type": "code",
   "execution_count": 59,
   "id": "a3770238-7415-4dee-b75b-0e82790c3d24",
   "metadata": {},
   "outputs": [
    {
     "data": {
      "text/plain": [
       "True"
      ]
     },
     "execution_count": 59,
     "metadata": {},
     "output_type": "execute_result"
    }
   ],
   "source": [
    "3 > 2"
   ]
  },
  {
   "cell_type": "code",
   "execution_count": 60,
   "id": "44d89ae7-11a7-4cf8-9dd6-d841ac0bb00b",
   "metadata": {},
   "outputs": [
    {
     "data": {
      "text/plain": [
       "True"
      ]
     },
     "execution_count": 60,
     "metadata": {},
     "output_type": "execute_result"
    }
   ],
   "source": [
    "3 < 5"
   ]
  },
  {
   "cell_type": "code",
   "execution_count": 61,
   "id": "f397a522-68a3-4646-a49a-0ffb84b62047",
   "metadata": {},
   "outputs": [
    {
     "data": {
      "text/plain": [
       "True"
      ]
     },
     "execution_count": 61,
     "metadata": {},
     "output_type": "execute_result"
    }
   ],
   "source": [
    "4 >= 4"
   ]
  },
  {
   "cell_type": "code",
   "execution_count": 62,
   "id": "05d87620-878e-49f0-9063-6ee87001ea94",
   "metadata": {},
   "outputs": [
    {
     "data": {
      "text/plain": [
       "False"
      ]
     },
     "execution_count": 62,
     "metadata": {},
     "output_type": "execute_result"
    }
   ],
   "source": [
    "5 <= 4"
   ]
  },
  {
   "cell_type": "code",
   "execution_count": null,
   "id": "0fecbe69-28ab-4258-8933-eb5db2243dbb",
   "metadata": {},
   "outputs": [],
   "source": []
  },
  {
   "cell_type": "code",
   "execution_count": null,
   "id": "1b3363a3-6c4e-41b0-b601-86a3d5c7a2ad",
   "metadata": {},
   "outputs": [],
   "source": []
  },
  {
   "cell_type": "code",
   "execution_count": 63,
   "id": "692b6094-927b-4ffe-950c-c1768e0f1510",
   "metadata": {},
   "outputs": [],
   "source": [
    "# != not equal to"
   ]
  },
  {
   "cell_type": "code",
   "execution_count": 64,
   "id": "b2c22bce-b8e9-4c15-8037-cbfac089f6e0",
   "metadata": {},
   "outputs": [
    {
     "data": {
      "text/plain": [
       "False"
      ]
     },
     "execution_count": 64,
     "metadata": {},
     "output_type": "execute_result"
    }
   ],
   "source": [
    "3 != 3"
   ]
  },
  {
   "cell_type": "code",
   "execution_count": 65,
   "id": "f2bc7a19-f941-4d22-8905-25bdacf2c20f",
   "metadata": {},
   "outputs": [
    {
     "data": {
      "text/plain": [
       "True"
      ]
     },
     "execution_count": 65,
     "metadata": {},
     "output_type": "execute_result"
    }
   ],
   "source": [
    "4 != 2"
   ]
  },
  {
   "cell_type": "code",
   "execution_count": 66,
   "id": "3e13ad50-2684-4f46-8b2e-70b913d2d7eb",
   "metadata": {},
   "outputs": [
    {
     "data": {
      "text/plain": [
       "True"
      ]
     },
     "execution_count": 66,
     "metadata": {},
     "output_type": "execute_result"
    }
   ],
   "source": [
    "\"Rahul\" != \"rahul\""
   ]
  },
  {
   "cell_type": "code",
   "execution_count": null,
   "id": "d4decf51-6815-48e2-9b52-f3533fa2fc06",
   "metadata": {},
   "outputs": [],
   "source": []
  },
  {
   "cell_type": "code",
   "execution_count": 70,
   "id": "c409e7ac-eadb-4fba-96f8-7885dc8fdd11",
   "metadata": {},
   "outputs": [
    {
     "data": {
      "text/plain": [
       "False"
      ]
     },
     "execution_count": 70,
     "metadata": {},
     "output_type": "execute_result"
    }
   ],
   "source": [
    "2 >= 3"
   ]
  },
  {
   "cell_type": "code",
   "execution_count": null,
   "id": "a1c87b4a-1c89-4127-b029-a27e1336a9ea",
   "metadata": {},
   "outputs": [],
   "source": []
  },
  {
   "cell_type": "code",
   "execution_count": 67,
   "id": "928b24f2-9b83-45a4-b8ac-3793722f7968",
   "metadata": {},
   "outputs": [],
   "source": [
    "# < and > operator"
   ]
  },
  {
   "cell_type": "code",
   "execution_count": null,
   "id": "b281e55b-cfa7-4a2b-8e35-5db60874498f",
   "metadata": {},
   "outputs": [],
   "source": []
  },
  {
   "cell_type": "code",
   "execution_count": null,
   "id": "c517108b-aacc-4267-acaf-de70e490aab8",
   "metadata": {},
   "outputs": [],
   "source": []
  },
  {
   "cell_type": "code",
   "execution_count": 71,
   "id": "0d606d29-8161-4c36-b400-a079bef58b4b",
   "metadata": {},
   "outputs": [],
   "source": [
    "# <= and >= "
   ]
  },
  {
   "cell_type": "code",
   "execution_count": null,
   "id": "cf8a4503-a0b4-4694-bb1a-8978548a4162",
   "metadata": {},
   "outputs": [],
   "source": []
  },
  {
   "cell_type": "markdown",
   "id": "e1123558-265d-4c4a-a37f-8935065c1d80",
   "metadata": {},
   "source": [
    "## Assignment Operators\n",
    "- -=\n",
    "- +=\n",
    "- /=\n",
    "- *="
   ]
  },
  {
   "cell_type": "code",
   "execution_count": 72,
   "id": "d2669d73-2f58-4341-845a-a4b07bab6887",
   "metadata": {},
   "outputs": [],
   "source": [
    "a = 2"
   ]
  },
  {
   "cell_type": "code",
   "execution_count": 73,
   "id": "a7cb3c46-7d89-48a5-984f-2c01ab4b1ae8",
   "metadata": {},
   "outputs": [],
   "source": [
    "# +="
   ]
  },
  {
   "cell_type": "code",
   "execution_count": 74,
   "id": "1d95f4ad-9e21-4f34-a451-114aa28bfc59",
   "metadata": {},
   "outputs": [],
   "source": [
    "a = a + 3"
   ]
  },
  {
   "cell_type": "code",
   "execution_count": 75,
   "id": "419a1924-4c95-4248-8822-2140f1c3298a",
   "metadata": {},
   "outputs": [
    {
     "name": "stdout",
     "output_type": "stream",
     "text": [
      "5\n"
     ]
    }
   ],
   "source": [
    "print(a)"
   ]
  },
  {
   "cell_type": "code",
   "execution_count": 79,
   "id": "1ed9bd7f-85bd-4d80-a04c-1d5d2ab1dfe6",
   "metadata": {},
   "outputs": [
    {
     "name": "stdout",
     "output_type": "stream",
     "text": [
      "10\n"
     ]
    }
   ],
   "source": [
    "a += 5 # this is same as a = a + 5\n",
    "print(a)"
   ]
  },
  {
   "cell_type": "code",
   "execution_count": null,
   "id": "c4962463-a688-465b-8258-6f819dfa91f3",
   "metadata": {},
   "outputs": [],
   "source": []
  },
  {
   "cell_type": "code",
   "execution_count": 80,
   "id": "c56d14b7-e172-47a3-860b-361067983174",
   "metadata": {},
   "outputs": [
    {
     "name": "stdout",
     "output_type": "stream",
     "text": [
      "8\n"
     ]
    }
   ],
   "source": [
    "a -= 2 # This is same as a = a - 2\n",
    "print(a)"
   ]
  },
  {
   "cell_type": "code",
   "execution_count": 81,
   "id": "af7f22aa-7985-483d-890f-b494500b10b2",
   "metadata": {},
   "outputs": [
    {
     "name": "stdout",
     "output_type": "stream",
     "text": [
      "4.0\n"
     ]
    }
   ],
   "source": [
    "a /= 2\n",
    "print(a)"
   ]
  },
  {
   "cell_type": "code",
   "execution_count": null,
   "id": "a560d782-e711-45de-af4f-b05a096173f9",
   "metadata": {},
   "outputs": [],
   "source": []
  },
  {
   "cell_type": "code",
   "execution_count": 83,
   "id": "e43834ce-fe85-4cea-a0a1-7f08555a9bcd",
   "metadata": {},
   "outputs": [
    {
     "data": {
      "text/plain": [
       "False"
      ]
     },
     "execution_count": 83,
     "metadata": {},
     "output_type": "execute_result"
    }
   ],
   "source": [
    "None != None"
   ]
  },
  {
   "cell_type": "code",
   "execution_count": null,
   "id": "9f649279-09fc-49ef-9562-d8d9b5be1907",
   "metadata": {},
   "outputs": [],
   "source": []
  },
  {
   "cell_type": "code",
   "execution_count": null,
   "id": "ce6733e1-4e42-44a4-80b6-a6aaaae4256f",
   "metadata": {},
   "outputs": [],
   "source": []
  },
  {
   "cell_type": "code",
   "execution_count": 86,
   "id": "aac377fa-caea-4fb6-ba4b-9002a6b60acc",
   "metadata": {},
   "outputs": [],
   "source": [
    "# BODMAS and BEDMAS"
   ]
  },
  {
   "cell_type": "code",
   "execution_count": null,
   "id": "3772eb9a-32a1-492b-bfca-e24b6bf9533c",
   "metadata": {},
   "outputs": [],
   "source": []
  },
  {
   "cell_type": "code",
   "execution_count": 87,
   "id": "62fb42a2-8a4f-4157-a1c7-fc1ae153d5ac",
   "metadata": {},
   "outputs": [
    {
     "name": "stdout",
     "output_type": "stream",
     "text": [
      "729\n"
     ]
    }
   ],
   "source": [
    "x = 11\n",
    "y = 2\n",
    "z = 4\n",
    "res = (x + y - z) ** (x % z)\n",
    "print(res)"
   ]
  },
  {
   "cell_type": "code",
   "execution_count": null,
   "id": "95efbc4e-16e4-483d-aecf-228fc4a9dc2f",
   "metadata": {},
   "outputs": [],
   "source": []
  },
  {
   "cell_type": "code",
   "execution_count": null,
   "id": "dda410c5-7317-44da-a4ad-3d153541bc3b",
   "metadata": {},
   "outputs": [],
   "source": []
  },
  {
   "cell_type": "code",
   "execution_count": null,
   "id": "c050f92d-3031-4576-ad09-ccbf42a4c398",
   "metadata": {},
   "outputs": [],
   "source": []
  },
  {
   "cell_type": "code",
   "execution_count": 105,
   "id": "b530a439-1747-4805-96fe-ee554ec8015f",
   "metadata": {},
   "outputs": [],
   "source": [
    "## More type conversion: Typecasting"
   ]
  },
  {
   "cell_type": "code",
   "execution_count": 106,
   "id": "3115e76b-576d-4bbc-9c1a-71d7a5e1352c",
   "metadata": {},
   "outputs": [],
   "source": [
    "# int -> float"
   ]
  },
  {
   "cell_type": "code",
   "execution_count": 107,
   "id": "54649db8-6bbb-4320-9f51-63c721d4ed3a",
   "metadata": {},
   "outputs": [
    {
     "name": "stdout",
     "output_type": "stream",
     "text": [
      "3.0\n"
     ]
    }
   ],
   "source": [
    "a = 3\n",
    "print(float(a))"
   ]
  },
  {
   "cell_type": "code",
   "execution_count": 108,
   "id": "7dd7bb62-4b64-4999-91e9-10c7a0cf963e",
   "metadata": {},
   "outputs": [
    {
     "name": "stdout",
     "output_type": "stream",
     "text": [
      "3\n"
     ]
    }
   ],
   "source": [
    "print(a)"
   ]
  },
  {
   "cell_type": "code",
   "execution_count": 109,
   "id": "907cd056-09f1-4e32-a8c6-a8d79aec18b1",
   "metadata": {},
   "outputs": [
    {
     "name": "stdout",
     "output_type": "stream",
     "text": [
      "3.0\n"
     ]
    }
   ],
   "source": [
    "a = float(a)\n",
    "print(a)"
   ]
  },
  {
   "cell_type": "code",
   "execution_count": 111,
   "id": "12671b43-873f-499d-aba6-2d2ecb009e6d",
   "metadata": {},
   "outputs": [
    {
     "data": {
      "text/plain": [
       "1.0"
      ]
     },
     "execution_count": 111,
     "metadata": {},
     "output_type": "execute_result"
    }
   ],
   "source": [
    "float(\"1\")"
   ]
  },
  {
   "cell_type": "code",
   "execution_count": 114,
   "id": "be01d3a3-c0e1-42aa-8b0e-45b771f9c361",
   "metadata": {},
   "outputs": [
    {
     "ename": "ValueError",
     "evalue": "could not convert string to float: 'rahul'",
     "output_type": "error",
     "traceback": [
      "\u001b[0;31m---------------------------------------------------------------------------\u001b[0m",
      "\u001b[0;31mValueError\u001b[0m                                Traceback (most recent call last)",
      "\u001b[0;32m/var/folders/t5/yhjgrjs907zfp250jyxtw54m0000gn/T/ipykernel_17288/4184588968.py\u001b[0m in \u001b[0;36m<module>\u001b[0;34m\u001b[0m\n\u001b[0;32m----> 1\u001b[0;31m \u001b[0mfloat\u001b[0m\u001b[0;34m(\u001b[0m\u001b[0;34m\"rahul\"\u001b[0m\u001b[0;34m)\u001b[0m\u001b[0;34m\u001b[0m\u001b[0;34m\u001b[0m\u001b[0m\n\u001b[0m",
      "\u001b[0;31mValueError\u001b[0m: could not convert string to float: 'rahul'"
     ]
    }
   ],
   "source": [
    "float(\"rahul\")"
   ]
  },
  {
   "cell_type": "code",
   "execution_count": null,
   "id": "09884f8e-b3f9-4956-9a83-3566111659ec",
   "metadata": {},
   "outputs": [],
   "source": []
  },
  {
   "cell_type": "code",
   "execution_count": null,
   "id": "7da60402-df89-4570-a7da-f6a29cb602af",
   "metadata": {},
   "outputs": [],
   "source": []
  },
  {
   "cell_type": "code",
   "execution_count": null,
   "id": "b9d0dc3a-718a-4abf-8978-98ab96f0ebf4",
   "metadata": {},
   "outputs": [],
   "source": []
  },
  {
   "cell_type": "code",
   "execution_count": null,
   "id": "17a2d9f2-ef4b-4f53-9c55-8af565f0308d",
   "metadata": {},
   "outputs": [],
   "source": []
  },
  {
   "cell_type": "code",
   "execution_count": 113,
   "id": "3ab3bdc5-1805-43db-b7d9-dce7f496331d",
   "metadata": {},
   "outputs": [],
   "source": [
    "# float -> int"
   ]
  },
  {
   "cell_type": "code",
   "execution_count": 116,
   "id": "af6c065f-a042-4e90-b6a9-17327a618bfa",
   "metadata": {},
   "outputs": [
    {
     "data": {
      "text/plain": [
       "2"
      ]
     },
     "execution_count": 116,
     "metadata": {},
     "output_type": "execute_result"
    }
   ],
   "source": [
    "int(2.0)"
   ]
  },
  {
   "cell_type": "code",
   "execution_count": 117,
   "id": "e4d69282-4438-40b0-a253-aca7a1bac116",
   "metadata": {},
   "outputs": [
    {
     "ename": "ValueError",
     "evalue": "invalid literal for int() with base 10: '2.0'",
     "output_type": "error",
     "traceback": [
      "\u001b[0;31m---------------------------------------------------------------------------\u001b[0m",
      "\u001b[0;31mValueError\u001b[0m                                Traceback (most recent call last)",
      "\u001b[0;32m/var/folders/t5/yhjgrjs907zfp250jyxtw54m0000gn/T/ipykernel_17288/2521216723.py\u001b[0m in \u001b[0;36m<module>\u001b[0;34m\u001b[0m\n\u001b[0;32m----> 1\u001b[0;31m \u001b[0mint\u001b[0m\u001b[0;34m(\u001b[0m\u001b[0;34m'2.0'\u001b[0m\u001b[0;34m)\u001b[0m\u001b[0;34m\u001b[0m\u001b[0;34m\u001b[0m\u001b[0m\n\u001b[0m",
      "\u001b[0;31mValueError\u001b[0m: invalid literal for int() with base 10: '2.0'"
     ]
    }
   ],
   "source": [
    "int('2.0')"
   ]
  },
  {
   "cell_type": "code",
   "execution_count": 118,
   "id": "592caa9b-996c-4074-ae99-25599e0331ae",
   "metadata": {},
   "outputs": [
    {
     "data": {
      "text/plain": [
       "2"
      ]
     },
     "execution_count": 118,
     "metadata": {},
     "output_type": "execute_result"
    }
   ],
   "source": [
    "int(float('2.0'))"
   ]
  },
  {
   "cell_type": "code",
   "execution_count": null,
   "id": "44db0e49-397f-44d4-a592-05459764c2a2",
   "metadata": {},
   "outputs": [],
   "source": []
  },
  {
   "cell_type": "code",
   "execution_count": null,
   "id": "182b0d45-ad60-4838-b21a-e7d7eb35025a",
   "metadata": {},
   "outputs": [],
   "source": []
  },
  {
   "cell_type": "code",
   "execution_count": 119,
   "id": "3e3ff5f9-d8ae-4aaa-9f08-dfae2e9dc42d",
   "metadata": {},
   "outputs": [],
   "source": [
    "# int -> string"
   ]
  },
  {
   "cell_type": "code",
   "execution_count": 120,
   "id": "59a8d9c3-b2b7-4026-b08a-0a00263a3dca",
   "metadata": {},
   "outputs": [
    {
     "data": {
      "text/plain": [
       "'2'"
      ]
     },
     "execution_count": 120,
     "metadata": {},
     "output_type": "execute_result"
    }
   ],
   "source": [
    "str(2)"
   ]
  },
  {
   "cell_type": "code",
   "execution_count": null,
   "id": "8f959f58-8879-4bcc-b196-245ac2c69bfc",
   "metadata": {},
   "outputs": [],
   "source": []
  },
  {
   "cell_type": "code",
   "execution_count": null,
   "id": "217a2807-403f-41d9-b2b7-b7283a09ec53",
   "metadata": {},
   "outputs": [],
   "source": []
  },
  {
   "cell_type": "code",
   "execution_count": null,
   "id": "844c8fb8-d50c-43fd-a1d3-6232078a6dfa",
   "metadata": {},
   "outputs": [],
   "source": []
  },
  {
   "cell_type": "code",
   "execution_count": null,
   "id": "6d0ed605-43bc-4ef3-9df4-4dc7b12f1fa0",
   "metadata": {},
   "outputs": [],
   "source": []
  },
  {
   "cell_type": "code",
   "execution_count": null,
   "id": "73c4a24a-793e-4f7a-9d95-fab8ed267395",
   "metadata": {},
   "outputs": [],
   "source": []
  },
  {
   "cell_type": "code",
   "execution_count": 121,
   "id": "0719e94e-c7da-4e2d-8338-5523fa0547b0",
   "metadata": {},
   "outputs": [],
   "source": [
    "# string -> int"
   ]
  },
  {
   "cell_type": "code",
   "execution_count": 122,
   "id": "6d8a9ee9-48f6-4371-b089-ac059998db1a",
   "metadata": {},
   "outputs": [],
   "source": [
    "# Only when string is purely integer"
   ]
  },
  {
   "cell_type": "code",
   "execution_count": 123,
   "id": "405d1377-df06-426f-989a-a590342094d0",
   "metadata": {},
   "outputs": [
    {
     "data": {
      "text/plain": [
       "2"
      ]
     },
     "execution_count": 123,
     "metadata": {},
     "output_type": "execute_result"
    }
   ],
   "source": [
    "int('2')"
   ]
  },
  {
   "cell_type": "code",
   "execution_count": null,
   "id": "c1dc5002-5cf1-4bb9-993e-9a7f86834d4f",
   "metadata": {},
   "outputs": [],
   "source": []
  },
  {
   "cell_type": "code",
   "execution_count": null,
   "id": "519fe070-05f8-4f6f-9e9f-425326f85ade",
   "metadata": {},
   "outputs": [],
   "source": []
  },
  {
   "cell_type": "code",
   "execution_count": null,
   "id": "9776a694-eb85-4560-b15f-78524e411901",
   "metadata": {},
   "outputs": [],
   "source": []
  },
  {
   "cell_type": "code",
   "execution_count": 90,
   "id": "238cff9f-a7e3-4cdf-b4e7-4d03289656c2",
   "metadata": {},
   "outputs": [],
   "source": [
    "# more on bool"
   ]
  },
  {
   "cell_type": "code",
   "execution_count": 91,
   "id": "6eb931f2-ddf3-4a22-92cd-586b70fdf91d",
   "metadata": {},
   "outputs": [],
   "source": [
    "# quiz"
   ]
  },
  {
   "cell_type": "code",
   "execution_count": 95,
   "id": "2e5e1734-c372-4b01-b635-7b8d35c3d3c0",
   "metadata": {},
   "outputs": [],
   "source": [
    "# False -> 0 - int, 0.0 - float, \"\" - string"
   ]
  },
  {
   "cell_type": "code",
   "execution_count": 92,
   "id": "ba5fc18f-17c1-4a9e-9516-fd701ab9d1a0",
   "metadata": {},
   "outputs": [
    {
     "data": {
      "text/plain": [
       "False"
      ]
     },
     "execution_count": 92,
     "metadata": {},
     "output_type": "execute_result"
    }
   ],
   "source": [
    "bool(0)"
   ]
  },
  {
   "cell_type": "code",
   "execution_count": 93,
   "id": "ab9720d3-c6bd-4881-8eb8-94c3dc6ddd4b",
   "metadata": {},
   "outputs": [
    {
     "data": {
      "text/plain": [
       "False"
      ]
     },
     "execution_count": 93,
     "metadata": {},
     "output_type": "execute_result"
    }
   ],
   "source": [
    "bool(0.0)"
   ]
  },
  {
   "cell_type": "code",
   "execution_count": 94,
   "id": "deaa0f73-b4ba-41b5-96ae-8d10529d4aec",
   "metadata": {},
   "outputs": [
    {
     "data": {
      "text/plain": [
       "False"
      ]
     },
     "execution_count": 94,
     "metadata": {},
     "output_type": "execute_result"
    }
   ],
   "source": [
    "bool(\"\")"
   ]
  },
  {
   "cell_type": "code",
   "execution_count": 96,
   "id": "52701c4d-dedb-43cc-8e7a-a755d2a992fd",
   "metadata": {},
   "outputs": [
    {
     "data": {
      "text/plain": [
       "True"
      ]
     },
     "execution_count": 96,
     "metadata": {},
     "output_type": "execute_result"
    }
   ],
   "source": [
    "bool(\" \")"
   ]
  },
  {
   "cell_type": "code",
   "execution_count": 97,
   "id": "1968a082-5f62-4633-b5aa-791093cd85ba",
   "metadata": {},
   "outputs": [
    {
     "data": {
      "text/plain": [
       "True"
      ]
     },
     "execution_count": 97,
     "metadata": {},
     "output_type": "execute_result"
    }
   ],
   "source": [
    "bool(\"0\")"
   ]
  },
  {
   "cell_type": "code",
   "execution_count": 98,
   "id": "3a9132e6-5ba7-407a-91f6-3850dc6ef5f5",
   "metadata": {},
   "outputs": [
    {
     "data": {
      "text/plain": [
       "True"
      ]
     },
     "execution_count": 98,
     "metadata": {},
     "output_type": "execute_result"
    }
   ],
   "source": [
    "bool(True)"
   ]
  },
  {
   "cell_type": "code",
   "execution_count": 99,
   "id": "449e9d62-3666-4c48-b634-0c3c02493016",
   "metadata": {},
   "outputs": [
    {
     "data": {
      "text/plain": [
       "False"
      ]
     },
     "execution_count": 99,
     "metadata": {},
     "output_type": "execute_result"
    }
   ],
   "source": [
    "bool(False)"
   ]
  },
  {
   "cell_type": "code",
   "execution_count": 100,
   "id": "ada12602-8108-4e58-bf40-0f9041c9b3a3",
   "metadata": {},
   "outputs": [
    {
     "data": {
      "text/plain": [
       "False"
      ]
     },
     "execution_count": 100,
     "metadata": {},
     "output_type": "execute_result"
    }
   ],
   "source": [
    "bool(None)"
   ]
  },
  {
   "cell_type": "code",
   "execution_count": null,
   "id": "6d8368e9-3b50-4e3d-a36a-73e8c28c3cfd",
   "metadata": {},
   "outputs": [],
   "source": []
  },
  {
   "cell_type": "code",
   "execution_count": null,
   "id": "e4c51690-607b-46f1-8090-471ebf58b423",
   "metadata": {},
   "outputs": [],
   "source": []
  },
  {
   "cell_type": "code",
   "execution_count": 101,
   "id": "852f54d8-9ed9-473a-a174-ea1e8268b121",
   "metadata": {},
   "outputs": [],
   "source": [
    "# Quizzes"
   ]
  },
  {
   "cell_type": "code",
   "execution_count": 102,
   "id": "cedf2aab-f539-4f90-bad5-45d436958c19",
   "metadata": {},
   "outputs": [
    {
     "name": "stdout",
     "output_type": "stream",
     "text": [
      "True\n"
     ]
    }
   ],
   "source": [
    "print(bool('false'))"
   ]
  },
  {
   "cell_type": "code",
   "execution_count": 103,
   "id": "73ce9690-48e2-46ef-af92-6b3533593e9c",
   "metadata": {},
   "outputs": [
    {
     "data": {
      "text/plain": [
       "False"
      ]
     },
     "execution_count": 103,
     "metadata": {},
     "output_type": "execute_result"
    }
   ],
   "source": [
    "bool(False)"
   ]
  },
  {
   "cell_type": "code",
   "execution_count": 104,
   "id": "6480fc26-555a-4662-87f3-9c4639a7b85b",
   "metadata": {},
   "outputs": [
    {
     "data": {
      "text/plain": [
       "True"
      ]
     },
     "execution_count": 104,
     "metadata": {},
     "output_type": "execute_result"
    }
   ],
   "source": [
    "bool('False')"
   ]
  },
  {
   "cell_type": "code",
   "execution_count": null,
   "id": "3b612756-05e6-4932-a6ec-ccd3ff3bc58c",
   "metadata": {},
   "outputs": [],
   "source": []
  },
  {
   "cell_type": "code",
   "execution_count": null,
   "id": "c79b98ea-19dc-4323-b6a3-2af18ae90781",
   "metadata": {},
   "outputs": [],
   "source": []
  },
  {
   "cell_type": "code",
   "execution_count": 124,
   "id": "4ebd2725-6530-41e8-b639-15e4dbb2225b",
   "metadata": {},
   "outputs": [],
   "source": [
    "# Converting input into boolean?"
   ]
  },
  {
   "cell_type": "code",
   "execution_count": 125,
   "id": "88013d7d-4cc8-4800-9ebb-7914f542e656",
   "metadata": {},
   "outputs": [
    {
     "name": "stdin",
     "output_type": "stream",
     "text": [
      " True\n"
     ]
    }
   ],
   "source": [
    "n = input()"
   ]
  },
  {
   "cell_type": "code",
   "execution_count": 126,
   "id": "79a0db7b-6dbd-4230-afe8-cdfdf9d56792",
   "metadata": {},
   "outputs": [
    {
     "data": {
      "text/plain": [
       "'True'"
      ]
     },
     "execution_count": 126,
     "metadata": {},
     "output_type": "execute_result"
    }
   ],
   "source": [
    "n"
   ]
  },
  {
   "cell_type": "code",
   "execution_count": 127,
   "id": "86f66c33-60ce-4d9c-8877-4579cd5db919",
   "metadata": {},
   "outputs": [
    {
     "name": "stdin",
     "output_type": "stream",
     "text": [
      " False\n"
     ]
    }
   ],
   "source": [
    "b = bool(input())"
   ]
  },
  {
   "cell_type": "code",
   "execution_count": 128,
   "id": "5f61126e-2485-4535-a0e2-ea6ec422e08e",
   "metadata": {},
   "outputs": [
    {
     "data": {
      "text/plain": [
       "True"
      ]
     },
     "execution_count": 128,
     "metadata": {},
     "output_type": "execute_result"
    }
   ],
   "source": [
    "b"
   ]
  },
  {
   "cell_type": "code",
   "execution_count": null,
   "id": "f1576c0b-5ac3-4367-bebd-36d666e25814",
   "metadata": {},
   "outputs": [],
   "source": []
  },
  {
   "cell_type": "code",
   "execution_count": 129,
   "id": "2d941094-abb9-47d2-a86a-59c349e3e484",
   "metadata": {},
   "outputs": [
    {
     "data": {
      "text/plain": [
       "False"
      ]
     },
     "execution_count": 129,
     "metadata": {},
     "output_type": "execute_result"
    }
   ],
   "source": [
    "0 == True"
   ]
  },
  {
   "cell_type": "code",
   "execution_count": 130,
   "id": "3faf1bf0-311b-4f4f-b3cf-aeed61c676f9",
   "metadata": {},
   "outputs": [
    {
     "data": {
      "text/plain": [
       "True"
      ]
     },
     "execution_count": 130,
     "metadata": {},
     "output_type": "execute_result"
    }
   ],
   "source": [
    "1 == True"
   ]
  },
  {
   "cell_type": "code",
   "execution_count": 131,
   "id": "ff7581b4-46b1-413e-a830-2ef7e498b3af",
   "metadata": {},
   "outputs": [
    {
     "name": "stdout",
     "output_type": "stream",
     "text": [
      "1\n"
     ]
    }
   ],
   "source": [
    "print(int(True))"
   ]
  },
  {
   "cell_type": "code",
   "execution_count": 132,
   "id": "7e9e3f24-83eb-4760-bbb4-95fbd488da55",
   "metadata": {},
   "outputs": [
    {
     "data": {
      "text/plain": [
       "0"
      ]
     },
     "execution_count": 132,
     "metadata": {},
     "output_type": "execute_result"
    }
   ],
   "source": [
    "int(False)"
   ]
  },
  {
   "cell_type": "code",
   "execution_count": null,
   "id": "4bed80fa-f3a1-4bc5-9554-73694c7b63f7",
   "metadata": {},
   "outputs": [],
   "source": []
  },
  {
   "cell_type": "code",
   "execution_count": 135,
   "id": "250a7cf9-c99d-45fa-a8a1-736877c5710d",
   "metadata": {},
   "outputs": [
    {
     "data": {
      "text/plain": [
       "inf"
      ]
     },
     "execution_count": 135,
     "metadata": {},
     "output_type": "execute_result"
    }
   ],
   "source": [
    "float('inf')"
   ]
  },
  {
   "cell_type": "code",
   "execution_count": 136,
   "id": "2f52fdd4-672a-4479-8831-28cf860509b8",
   "metadata": {},
   "outputs": [
    {
     "data": {
      "text/plain": [
       "-inf"
      ]
     },
     "execution_count": 136,
     "metadata": {},
     "output_type": "execute_result"
    }
   ],
   "source": [
    "float('-inf')"
   ]
  },
  {
   "cell_type": "code",
   "execution_count": null,
   "id": "80d541c1-32ba-4e38-a0a5-4599ed74083b",
   "metadata": {},
   "outputs": [],
   "source": []
  },
  {
   "cell_type": "code",
   "execution_count": null,
   "id": "b88bc96b-b8fb-41f6-8534-a29fcd86da1e",
   "metadata": {},
   "outputs": [],
   "source": []
  },
  {
   "cell_type": "markdown",
   "id": "33ca2c35-266c-4906-aabe-61f33d24e210",
   "metadata": {},
   "source": [
    "### Logical Operators\n",
    "- and \n",
    "- or\n",
    "- not"
   ]
  },
  {
   "cell_type": "code",
   "execution_count": 133,
   "id": "48dd326f-e9d3-44bb-92e5-c38d3ff40f46",
   "metadata": {},
   "outputs": [],
   "source": [
    "# These are exclusive for boolean type"
   ]
  },
  {
   "cell_type": "code",
   "execution_count": 137,
   "id": "820f3246-c486-4e0b-8a27-335de4e7490c",
   "metadata": {},
   "outputs": [
    {
     "data": {
      "text/plain": [
       "True"
      ]
     },
     "execution_count": 137,
     "metadata": {},
     "output_type": "execute_result"
    }
   ],
   "source": [
    "True or True"
   ]
  },
  {
   "cell_type": "code",
   "execution_count": 138,
   "id": "df3a344f-987e-45f2-96ca-bd1a4607dfbb",
   "metadata": {},
   "outputs": [
    {
     "data": {
      "text/plain": [
       "True"
      ]
     },
     "execution_count": 138,
     "metadata": {},
     "output_type": "execute_result"
    }
   ],
   "source": [
    "True and False or True"
   ]
  },
  {
   "cell_type": "code",
   "execution_count": 139,
   "id": "a2c2c96a-7e3d-4ba8-8b87-b36e90bf9fd7",
   "metadata": {},
   "outputs": [
    {
     "data": {
      "text/plain": [
       "1"
      ]
     },
     "execution_count": 139,
     "metadata": {},
     "output_type": "execute_result"
    }
   ],
   "source": [
    "1 or 0"
   ]
  },
  {
   "cell_type": "code",
   "execution_count": 140,
   "id": "41d325c3-cd22-42ed-99ad-60368952b9d0",
   "metadata": {},
   "outputs": [
    {
     "data": {
      "text/plain": [
       "False"
      ]
     },
     "execution_count": 140,
     "metadata": {},
     "output_type": "execute_result"
    }
   ],
   "source": [
    "(1 != 1) and (2 == 0)"
   ]
  },
  {
   "cell_type": "code",
   "execution_count": 141,
   "id": "6badb775-d722-49e7-a589-1c2401fe579f",
   "metadata": {},
   "outputs": [
    {
     "data": {
      "text/plain": [
       "False"
      ]
     },
     "execution_count": 141,
     "metadata": {},
     "output_type": "execute_result"
    }
   ],
   "source": [
    "(1 != 1) and (2 == 2)"
   ]
  },
  {
   "cell_type": "code",
   "execution_count": 142,
   "id": "a0ff77b7-39ab-4fa6-b70a-bc8ec1bd910c",
   "metadata": {},
   "outputs": [
    {
     "data": {
      "text/plain": [
       "True"
      ]
     },
     "execution_count": 142,
     "metadata": {},
     "output_type": "execute_result"
    }
   ],
   "source": [
    "(1 != 1) or (2 == 2)"
   ]
  },
  {
   "cell_type": "code",
   "execution_count": 143,
   "id": "0bcc04ee-24ed-469a-8fe6-4e33864cd64c",
   "metadata": {},
   "outputs": [
    {
     "data": {
      "text/plain": [
       "True"
      ]
     },
     "execution_count": 143,
     "metadata": {},
     "output_type": "execute_result"
    }
   ],
   "source": [
    "(1 != 2) and (2 == 2)"
   ]
  },
  {
   "cell_type": "code",
   "execution_count": 145,
   "id": "d8be9864-d02e-49c8-9a29-8e641e03d33d",
   "metadata": {},
   "outputs": [
    {
     "data": {
      "text/plain": [
       "True"
      ]
     },
     "execution_count": 145,
     "metadata": {},
     "output_type": "execute_result"
    }
   ],
   "source": [
    "not False"
   ]
  },
  {
   "cell_type": "code",
   "execution_count": 146,
   "id": "3394dec0-6c95-4525-ad92-2f6ef6f01fb2",
   "metadata": {},
   "outputs": [
    {
     "data": {
      "text/plain": [
       "False"
      ]
     },
     "execution_count": 146,
     "metadata": {},
     "output_type": "execute_result"
    }
   ],
   "source": [
    "not True"
   ]
  },
  {
   "cell_type": "code",
   "execution_count": null,
   "id": "c9becfc1-3d8c-4c80-bff5-8750a6dd7164",
   "metadata": {},
   "outputs": [],
   "source": []
  },
  {
   "cell_type": "code",
   "execution_count": null,
   "id": "2099a37a-c189-41e2-9910-8bb81e40e56d",
   "metadata": {},
   "outputs": [],
   "source": []
  },
  {
   "cell_type": "code",
   "execution_count": null,
   "id": "c091e2f4-4e43-4e91-b3a3-0cc749dbc6bb",
   "metadata": {},
   "outputs": [],
   "source": []
  },
  {
   "cell_type": "code",
   "execution_count": null,
   "id": "6889c559-53fa-42a3-a1a5-1590e7da3460",
   "metadata": {},
   "outputs": [],
   "source": []
  },
  {
   "cell_type": "code",
   "execution_count": null,
   "id": "6ef5f2d3-a52b-4d4d-b251-6bf3ff9ccdf3",
   "metadata": {},
   "outputs": [],
   "source": []
  },
  {
   "cell_type": "code",
   "execution_count": null,
   "id": "2bbfe2b3-4a7d-43fa-81df-3db2b197efea",
   "metadata": {},
   "outputs": [],
   "source": []
  }
 ],
 "metadata": {
  "kernelspec": {
   "display_name": "Python 3 (ipykernel)",
   "language": "python",
   "name": "python3"
  },
  "language_info": {
   "codemirror_mode": {
    "name": "ipython",
    "version": 3
   },
   "file_extension": ".py",
   "mimetype": "text/x-python",
   "name": "python",
   "nbconvert_exporter": "python",
   "pygments_lexer": "ipython3",
   "version": "3.9.7"
  }
 },
 "nbformat": 4,
 "nbformat_minor": 5
}
