{
 "cells": [
  {
   "cell_type": "markdown",
   "id": "f6f1f47b-1cc4-4f9b-a8f2-85c9cf68ecaa",
   "metadata": {},
   "source": [
    "# Intro to 'Strings'\n",
    "- Inbuilt Functions:\n",
    "- len\n",
    "- capitalize\n",
    "- title\n",
    "- count\n",
    "- replace\n",
    "- split"
   ]
  },
  {
   "cell_type": "code",
   "execution_count": 1,
   "id": "f87c52ce-01fa-44dc-9eb3-d20abae29547",
   "metadata": {},
   "outputs": [],
   "source": [
    "# Quiz"
   ]
  },
  {
   "cell_type": "code",
   "execution_count": 3,
   "id": "fe283ed5-c4a7-409d-86da-bf240ed5ef18",
   "metadata": {},
   "outputs": [
    {
     "data": {
      "text/plain": [
       "False"
      ]
     },
     "execution_count": 3,
     "metadata": {},
     "output_type": "execute_result"
    }
   ],
   "source": [
    "\"rahul\" == \"rahlu\""
   ]
  },
  {
   "cell_type": "code",
   "execution_count": 4,
   "id": "4e5d17c6-208d-4a36-a306-efb144234ffd",
   "metadata": {},
   "outputs": [
    {
     "data": {
      "text/plain": [
       "False"
      ]
     },
     "execution_count": 4,
     "metadata": {},
     "output_type": "execute_result"
    }
   ],
   "source": [
    "\"rahul\" == \"Rahul\""
   ]
  },
  {
   "cell_type": "code",
   "execution_count": null,
   "id": "01c65b17-eda4-499b-bcf4-cbcfe516b4bf",
   "metadata": {},
   "outputs": [],
   "source": []
  },
  {
   "cell_type": "code",
   "execution_count": 5,
   "id": "6364d23b-3b89-4bbe-b1f5-7741fadb067a",
   "metadata": {},
   "outputs": [
    {
     "ename": "SyntaxError",
     "evalue": "EOL while scanning string literal (2548618645.py, line 1)",
     "output_type": "error",
     "traceback": [
      "\u001b[0;36m  File \u001b[0;32m\"/var/folders/t5/yhjgrjs907zfp250jyxtw54m0000gn/T/ipykernel_39616/2548618645.py\"\u001b[0;36m, line \u001b[0;32m1\u001b[0m\n\u001b[0;31m    \"Rahul#'\u001b[0m\n\u001b[0m            ^\u001b[0m\n\u001b[0;31mSyntaxError\u001b[0m\u001b[0;31m:\u001b[0m EOL while scanning string literal\n"
     ]
    }
   ],
   "source": [
    "\"Rahul#'"
   ]
  },
  {
   "cell_type": "code",
   "execution_count": 6,
   "id": "209069b4-c4b5-477e-96b1-01506533f280",
   "metadata": {},
   "outputs": [
    {
     "data": {
      "text/plain": [
       "'@rahul'"
      ]
     },
     "execution_count": 6,
     "metadata": {},
     "output_type": "execute_result"
    }
   ],
   "source": [
    "\"@rahul\""
   ]
  },
  {
   "cell_type": "code",
   "execution_count": 7,
   "id": "23571a08-3ddc-44c4-bd66-5c4a607e0ef4",
   "metadata": {},
   "outputs": [
    {
     "ename": "SyntaxError",
     "evalue": "EOL while scanning string literal (4010415364.py, line 1)",
     "output_type": "error",
     "traceback": [
      "\u001b[0;36m  File \u001b[0;32m\"/var/folders/t5/yhjgrjs907zfp250jyxtw54m0000gn/T/ipykernel_39616/4010415364.py\"\u001b[0;36m, line \u001b[0;32m1\u001b[0m\n\u001b[0;31m    'Tuna123\"\u001b[0m\n\u001b[0m             ^\u001b[0m\n\u001b[0;31mSyntaxError\u001b[0m\u001b[0;31m:\u001b[0m EOL while scanning string literal\n"
     ]
    }
   ],
   "source": [
    "'Tuna123\""
   ]
  },
  {
   "cell_type": "code",
   "execution_count": null,
   "id": "23d1bf07-54ae-4375-bdd5-aa81b2ed36fb",
   "metadata": {},
   "outputs": [],
   "source": []
  },
  {
   "cell_type": "code",
   "execution_count": 9,
   "id": "d25eaff3-16c0-4bcd-9fe0-97a4ed7ad328",
   "metadata": {},
   "outputs": [
    {
     "name": "stdout",
     "output_type": "stream",
     "text": [
      "Rahul\n"
     ]
    }
   ],
   "source": [
    "s = 'Rahul'\n",
    "print(s)"
   ]
  },
  {
   "cell_type": "code",
   "execution_count": 10,
   "id": "eaf78df5-547b-4868-94a6-8d00713ccf3f",
   "metadata": {},
   "outputs": [
    {
     "name": "stdout",
     "output_type": "stream",
     "text": [
      "Rahul Janghu\n"
     ]
    }
   ],
   "source": [
    "s1 = \"Rahul Janghu\"\n",
    "print(s1)"
   ]
  },
  {
   "cell_type": "code",
   "execution_count": 19,
   "id": "ab9d445d-fd7b-47b8-ae69-83eaae1a607f",
   "metadata": {},
   "outputs": [
    {
     "name": "stdout",
     "output_type": "stream",
     "text": [
      "\n",
      "This is a multiline string\n",
      "Hey there\n",
      "    \n"
     ]
    }
   ],
   "source": [
    "s2 = \"\"\"\n",
    "This is a multiline string\n",
    "Hey there\n",
    "    \"\"\"\n",
    "    \n",
    "print(s2)"
   ]
  },
  {
   "cell_type": "code",
   "execution_count": null,
   "id": "50a19303-ab6d-4325-9b79-39ca5e5d36cc",
   "metadata": {},
   "outputs": [],
   "source": []
  },
  {
   "cell_type": "code",
   "execution_count": 20,
   "id": "fa135048-35c0-4018-b01e-f658cf91fae5",
   "metadata": {},
   "outputs": [
    {
     "data": {
      "text/plain": [
       "False"
      ]
     },
     "execution_count": 20,
     "metadata": {},
     "output_type": "execute_result"
    }
   ],
   "source": [
    "'a' == int(97)"
   ]
  },
  {
   "cell_type": "code",
   "execution_count": 21,
   "id": "fe02227f-ad72-4efb-9a44-ca6982dd3d29",
   "metadata": {},
   "outputs": [],
   "source": [
    "# ord function prints corresponding int value"
   ]
  },
  {
   "cell_type": "code",
   "execution_count": 22,
   "id": "d0fc29c2-0b60-4340-a6ff-8707e2c64762",
   "metadata": {},
   "outputs": [
    {
     "data": {
      "text/plain": [
       "97"
      ]
     },
     "execution_count": 22,
     "metadata": {},
     "output_type": "execute_result"
    }
   ],
   "source": [
    "ord('a')"
   ]
  },
  {
   "cell_type": "code",
   "execution_count": 23,
   "id": "6e0662b7-8a1a-4d19-8af5-254d39830d0b",
   "metadata": {},
   "outputs": [
    {
     "data": {
      "text/plain": [
       "True"
      ]
     },
     "execution_count": 23,
     "metadata": {},
     "output_type": "execute_result"
    }
   ],
   "source": [
    "ord('a') == 97"
   ]
  },
  {
   "cell_type": "code",
   "execution_count": 25,
   "id": "3e7db182-7475-46df-8525-cc1478a277aa",
   "metadata": {},
   "outputs": [
    {
     "data": {
      "text/plain": [
       "121"
      ]
     },
     "execution_count": 25,
     "metadata": {},
     "output_type": "execute_result"
    }
   ],
   "source": [
    "ord('y')"
   ]
  },
  {
   "cell_type": "code",
   "execution_count": 26,
   "id": "1bdd1ad7-10f8-4a47-800f-e9a4075af307",
   "metadata": {},
   "outputs": [
    {
     "data": {
      "text/plain": [
       "122"
      ]
     },
     "execution_count": 26,
     "metadata": {},
     "output_type": "execute_result"
    }
   ],
   "source": [
    "ord('z')"
   ]
  },
  {
   "cell_type": "code",
   "execution_count": 27,
   "id": "51a92286-1c0a-4a18-ac6e-55e6e2d63bb4",
   "metadata": {},
   "outputs": [
    {
     "data": {
      "text/plain": [
       "65"
      ]
     },
     "execution_count": 27,
     "metadata": {},
     "output_type": "execute_result"
    }
   ],
   "source": [
    "ord('A')"
   ]
  },
  {
   "cell_type": "code",
   "execution_count": 28,
   "id": "87388c28-83a6-4926-a1a2-f385847b26bb",
   "metadata": {},
   "outputs": [
    {
     "data": {
      "text/plain": [
       "90"
      ]
     },
     "execution_count": 28,
     "metadata": {},
     "output_type": "execute_result"
    }
   ],
   "source": [
    "ord('Z')"
   ]
  },
  {
   "cell_type": "code",
   "execution_count": null,
   "id": "0c21470a-01c9-425d-9cd7-1e428314e630",
   "metadata": {},
   "outputs": [],
   "source": []
  },
  {
   "cell_type": "code",
   "execution_count": 29,
   "id": "cea39787-80be-4970-9164-49aa5abcfc40",
   "metadata": {},
   "outputs": [],
   "source": [
    "# small has big value and big has small value"
   ]
  },
  {
   "cell_type": "code",
   "execution_count": 31,
   "id": "fdb59ad2-075c-46de-9c45-da6a595ca327",
   "metadata": {},
   "outputs": [
    {
     "data": {
      "text/plain": [
       "97"
      ]
     },
     "execution_count": 31,
     "metadata": {},
     "output_type": "execute_result"
    }
   ],
   "source": [
    "ord('a')"
   ]
  },
  {
   "cell_type": "code",
   "execution_count": null,
   "id": "d4001891-45bd-45b7-92b9-bf4fbdc83d48",
   "metadata": {},
   "outputs": [],
   "source": []
  },
  {
   "cell_type": "code",
   "execution_count": 32,
   "id": "0228f305-240c-4211-93ac-988000c8b42f",
   "metadata": {},
   "outputs": [
    {
     "ename": "TypeError",
     "evalue": "ord() expected a character, but string of length 5 found",
     "output_type": "error",
     "traceback": [
      "\u001b[0;31m---------------------------------------------------------------------------\u001b[0m",
      "\u001b[0;31mTypeError\u001b[0m                                 Traceback (most recent call last)",
      "\u001b[0;32m/var/folders/t5/yhjgrjs907zfp250jyxtw54m0000gn/T/ipykernel_39616/2704889630.py\u001b[0m in \u001b[0;36m<module>\u001b[0;34m\u001b[0m\n\u001b[0;32m----> 1\u001b[0;31m \u001b[0mord\u001b[0m\u001b[0;34m(\u001b[0m\u001b[0;34m\"rahul\"\u001b[0m\u001b[0;34m)\u001b[0m\u001b[0;34m\u001b[0m\u001b[0;34m\u001b[0m\u001b[0m\n\u001b[0m",
      "\u001b[0;31mTypeError\u001b[0m: ord() expected a character, but string of length 5 found"
     ]
    }
   ],
   "source": [
    "ord(\"rahul\")"
   ]
  },
  {
   "cell_type": "code",
   "execution_count": 34,
   "id": "a16460a1-96bc-491a-b22e-9a58320206e5",
   "metadata": {},
   "outputs": [
    {
     "data": {
      "text/plain": [
       "35830"
      ]
     },
     "execution_count": 34,
     "metadata": {},
     "output_type": "execute_result"
    }
   ],
   "source": [
    "ord('诶')"
   ]
  },
  {
   "cell_type": "code",
   "execution_count": 35,
   "id": "60fe76b6-d923-42f8-bea5-2615cc03b420",
   "metadata": {},
   "outputs": [
    {
     "data": {
      "text/plain": [
       "2309"
      ]
     },
     "execution_count": 35,
     "metadata": {},
     "output_type": "execute_result"
    }
   ],
   "source": [
    "ord('अ')"
   ]
  },
  {
   "cell_type": "code",
   "execution_count": 36,
   "id": "32d5ce17-d267-45f1-8fb6-784f26ba08f7",
   "metadata": {},
   "outputs": [
    {
     "data": {
      "text/plain": [
       "32"
      ]
     },
     "execution_count": 36,
     "metadata": {},
     "output_type": "execute_result"
    }
   ],
   "source": [
    "ord(' ')"
   ]
  },
  {
   "cell_type": "code",
   "execution_count": 37,
   "id": "9e28f5a4-1071-4d1a-9972-3e2a3c7029f2",
   "metadata": {},
   "outputs": [
    {
     "data": {
      "text/plain": [
       "2950"
      ]
     },
     "execution_count": 37,
     "metadata": {},
     "output_type": "execute_result"
    }
   ],
   "source": [
    "ord('ஆ')"
   ]
  },
  {
   "cell_type": "code",
   "execution_count": 38,
   "id": "0902c168-35f7-4d36-af97-0d56d734e9c9",
   "metadata": {},
   "outputs": [
    {
     "data": {
      "text/plain": [
       "128536"
      ]
     },
     "execution_count": 38,
     "metadata": {},
     "output_type": "execute_result"
    }
   ],
   "source": [
    "ord('😘')"
   ]
  },
  {
   "cell_type": "code",
   "execution_count": null,
   "id": "a25ef0ac-9e2b-4751-896a-ce3e5600ab7f",
   "metadata": {},
   "outputs": [],
   "source": []
  },
  {
   "cell_type": "code",
   "execution_count": 39,
   "id": "1e5a61b1-3522-4db7-a232-cb403c8404f5",
   "metadata": {},
   "outputs": [],
   "source": [
    "# chr function is used to get the character value associated with integer"
   ]
  },
  {
   "cell_type": "code",
   "execution_count": 40,
   "id": "77f0c55b-a0b3-40e4-bb15-3e301372c6a1",
   "metadata": {},
   "outputs": [
    {
     "data": {
      "text/plain": [
       "'b'"
      ]
     },
     "execution_count": 40,
     "metadata": {},
     "output_type": "execute_result"
    }
   ],
   "source": [
    "chr(98)"
   ]
  },
  {
   "cell_type": "code",
   "execution_count": 41,
   "id": "81e3c4f8-143b-4344-bcb8-d292eee9f488",
   "metadata": {},
   "outputs": [
    {
     "data": {
      "text/plain": [
       "'a'"
      ]
     },
     "execution_count": 41,
     "metadata": {},
     "output_type": "execute_result"
    }
   ],
   "source": [
    "chr(97)"
   ]
  },
  {
   "cell_type": "code",
   "execution_count": null,
   "id": "54a95124-159d-4130-a254-e93fe77141d6",
   "metadata": {},
   "outputs": [],
   "source": []
  },
  {
   "cell_type": "code",
   "execution_count": 42,
   "id": "0468fa26-1caf-49c2-8c57-a3bcdd695ae3",
   "metadata": {},
   "outputs": [],
   "source": [
    "# len"
   ]
  },
  {
   "cell_type": "code",
   "execution_count": 43,
   "id": "224d80f7-10d6-499f-9a93-b48d03e3920c",
   "metadata": {},
   "outputs": [],
   "source": [
    "# quiz"
   ]
  },
  {
   "cell_type": "code",
   "execution_count": 46,
   "id": "edc77ef3-e10f-494e-ab14-cd768b441759",
   "metadata": {},
   "outputs": [
    {
     "name": "stdout",
     "output_type": "stream",
     "text": [
      "[2, 3]\n"
     ]
    }
   ],
   "source": [
    "print([2, 3])"
   ]
  },
  {
   "cell_type": "code",
   "execution_count": 47,
   "id": "36cd5233-acf1-409c-b17e-dc836f5e0c4a",
   "metadata": {},
   "outputs": [],
   "source": [
    "li = [1, 2]"
   ]
  },
  {
   "cell_type": "code",
   "execution_count": 48,
   "id": "4aa5bc14-1db8-4436-b408-1ba76a32fb3d",
   "metadata": {},
   "outputs": [],
   "source": [
    "li.append(34)"
   ]
  },
  {
   "cell_type": "code",
   "execution_count": 49,
   "id": "41895bb1-638b-4004-b643-797fa6357b33",
   "metadata": {},
   "outputs": [
    {
     "data": {
      "text/plain": [
       "5"
      ]
     },
     "execution_count": 49,
     "metadata": {},
     "output_type": "execute_result"
    }
   ],
   "source": [
    "len(\"Rahul\")"
   ]
  },
  {
   "cell_type": "code",
   "execution_count": null,
   "id": "9ef565b0-cf84-4afb-be0e-8f7d363ec38d",
   "metadata": {},
   "outputs": [],
   "source": []
  },
  {
   "cell_type": "code",
   "execution_count": 50,
   "id": "93349364-c29b-4f9e-8948-e828d1fe25fd",
   "metadata": {},
   "outputs": [
    {
     "name": "stdout",
     "output_type": "stream",
     "text": [
      "12\n"
     ]
    }
   ],
   "source": [
    "s = \"rahul janghu\"\n",
    "print(len(s))"
   ]
  },
  {
   "cell_type": "code",
   "execution_count": null,
   "id": "884f265c-d3ae-45ef-8601-9adf85048d64",
   "metadata": {},
   "outputs": [],
   "source": []
  },
  {
   "cell_type": "code",
   "execution_count": null,
   "id": "bce6532c-580c-402b-8b07-5eeafb09b6d9",
   "metadata": {},
   "outputs": [],
   "source": []
  },
  {
   "cell_type": "code",
   "execution_count": 51,
   "id": "926addca-4d69-45ae-a13d-98433c1a7dab",
   "metadata": {},
   "outputs": [],
   "source": [
    "# capitalize"
   ]
  },
  {
   "cell_type": "code",
   "execution_count": 52,
   "id": "0df80e62-9f0f-446d-9b02-011087f025a4",
   "metadata": {},
   "outputs": [
    {
     "data": {
      "text/plain": [
       "'rahul janghu'"
      ]
     },
     "execution_count": 52,
     "metadata": {},
     "output_type": "execute_result"
    }
   ],
   "source": [
    "s"
   ]
  },
  {
   "cell_type": "code",
   "execution_count": 55,
   "id": "1483996a-b05b-4f42-b5f1-13cdd41be436",
   "metadata": {},
   "outputs": [
    {
     "data": {
      "text/plain": [
       "'Rahul janghu'"
      ]
     },
     "execution_count": 55,
     "metadata": {},
     "output_type": "execute_result"
    }
   ],
   "source": [
    "s.capitalize()"
   ]
  },
  {
   "cell_type": "code",
   "execution_count": 56,
   "id": "e6999af3-dbc0-4e8e-8828-ecd9a1587a2f",
   "metadata": {},
   "outputs": [
    {
     "data": {
      "text/plain": [
       "'Rahul janghu'"
      ]
     },
     "execution_count": 56,
     "metadata": {},
     "output_type": "execute_result"
    }
   ],
   "source": [
    "\"rAHUL janghu\".capitalize()"
   ]
  },
  {
   "cell_type": "code",
   "execution_count": 57,
   "id": "12f9156e-1151-4534-a1a0-6655bac48e49",
   "metadata": {},
   "outputs": [
    {
     "data": {
      "text/plain": [
       "'rahul janghu'"
      ]
     },
     "execution_count": 57,
     "metadata": {},
     "output_type": "execute_result"
    }
   ],
   "source": [
    "s"
   ]
  },
  {
   "cell_type": "code",
   "execution_count": null,
   "id": "00d71338-fe27-4578-9d0a-fc31193c0197",
   "metadata": {},
   "outputs": [],
   "source": []
  },
  {
   "cell_type": "code",
   "execution_count": 58,
   "id": "20a710f7-a898-4344-ab07-0658253b00ef",
   "metadata": {},
   "outputs": [],
   "source": [
    "# title"
   ]
  },
  {
   "cell_type": "code",
   "execution_count": 59,
   "id": "50d79ae4-764f-497e-a99a-675394ae2aa9",
   "metadata": {},
   "outputs": [
    {
     "data": {
      "text/plain": [
       "'rahul janghu'"
      ]
     },
     "execution_count": 59,
     "metadata": {},
     "output_type": "execute_result"
    }
   ],
   "source": [
    "s"
   ]
  },
  {
   "cell_type": "code",
   "execution_count": 61,
   "id": "36ed86a8-5889-4062-b007-e25d27c22c56",
   "metadata": {},
   "outputs": [
    {
     "data": {
      "text/plain": [
       "'Rahul Janghu'"
      ]
     },
     "execution_count": 61,
     "metadata": {},
     "output_type": "execute_result"
    }
   ],
   "source": [
    "s.title()"
   ]
  },
  {
   "cell_type": "code",
   "execution_count": 62,
   "id": "d51cc0c1-956b-49be-b76e-b3271211bca4",
   "metadata": {},
   "outputs": [
    {
     "data": {
      "text/plain": [
       "'Rahul Janghu'"
      ]
     },
     "execution_count": 62,
     "metadata": {},
     "output_type": "execute_result"
    }
   ],
   "source": [
    "\"rAhul jAnghu\".title()"
   ]
  },
  {
   "cell_type": "code",
   "execution_count": null,
   "id": "f024149f-fa6e-4cb4-9eec-b8584ddf8da2",
   "metadata": {},
   "outputs": [],
   "source": []
  },
  {
   "cell_type": "code",
   "execution_count": 64,
   "id": "672e7799-f617-4132-8c67-5d181d30706e",
   "metadata": {},
   "outputs": [],
   "source": [
    "# count"
   ]
  },
  {
   "cell_type": "code",
   "execution_count": 65,
   "id": "57490308-3a90-452a-815d-423b89a3f587",
   "metadata": {},
   "outputs": [],
   "source": [
    "# quiz"
   ]
  },
  {
   "cell_type": "code",
   "execution_count": 66,
   "id": "3c96ee31-a0c2-4431-bebc-9838454b1821",
   "metadata": {},
   "outputs": [
    {
     "data": {
      "text/plain": [
       "'rahul janghu'"
      ]
     },
     "execution_count": 66,
     "metadata": {},
     "output_type": "execute_result"
    }
   ],
   "source": [
    "s"
   ]
  },
  {
   "cell_type": "code",
   "execution_count": 68,
   "id": "3a547690-5b65-4cc8-b159-907cd477305d",
   "metadata": {},
   "outputs": [
    {
     "data": {
      "text/plain": [
       "2"
      ]
     },
     "execution_count": 68,
     "metadata": {},
     "output_type": "execute_result"
    }
   ],
   "source": [
    "s.count('a')"
   ]
  },
  {
   "cell_type": "code",
   "execution_count": 69,
   "id": "3f1ae484-dad9-4ce5-be7d-f74f888f38ed",
   "metadata": {},
   "outputs": [
    {
     "data": {
      "text/plain": [
       "0"
      ]
     },
     "execution_count": 69,
     "metadata": {},
     "output_type": "execute_result"
    }
   ],
   "source": [
    "s.count('A')"
   ]
  },
  {
   "cell_type": "code",
   "execution_count": 70,
   "id": "20006d96-5213-4c23-866e-4f0c8660b2f5",
   "metadata": {},
   "outputs": [
    {
     "data": {
      "text/plain": [
       "1"
      ]
     },
     "execution_count": 70,
     "metadata": {},
     "output_type": "execute_result"
    }
   ],
   "source": [
    "s.count('rahul')"
   ]
  },
  {
   "cell_type": "code",
   "execution_count": 71,
   "id": "9ad78be7-f094-4e9d-bd06-5753e491872a",
   "metadata": {},
   "outputs": [
    {
     "data": {
      "text/plain": [
       "1"
      ]
     },
     "execution_count": 71,
     "metadata": {},
     "output_type": "execute_result"
    }
   ],
   "source": [
    "s.count('rahul janghu')"
   ]
  },
  {
   "cell_type": "code",
   "execution_count": null,
   "id": "7a8e2e10-2eb3-4f8e-ae73-bbc801b46b0f",
   "metadata": {},
   "outputs": [],
   "source": []
  },
  {
   "cell_type": "code",
   "execution_count": 72,
   "id": "859b37d4-a88e-4ec3-b1a0-493a6358375f",
   "metadata": {},
   "outputs": [],
   "source": [
    "# replace"
   ]
  },
  {
   "cell_type": "code",
   "execution_count": 73,
   "id": "eb1f9f56-05bb-4296-a5a8-74b1bc894301",
   "metadata": {},
   "outputs": [],
   "source": [
    "# replace(old, new)"
   ]
  },
  {
   "cell_type": "code",
   "execution_count": 74,
   "id": "a4621087-a5b1-442e-99ea-ac679946513a",
   "metadata": {},
   "outputs": [
    {
     "data": {
      "text/plain": [
       "'rahul janghu'"
      ]
     },
     "execution_count": 74,
     "metadata": {},
     "output_type": "execute_result"
    }
   ],
   "source": [
    "s"
   ]
  },
  {
   "cell_type": "code",
   "execution_count": 75,
   "id": "9bae65b8-afe6-455a-a548-61a6a5e7e71c",
   "metadata": {},
   "outputs": [
    {
     "data": {
      "text/plain": [
       "140474693261808"
      ]
     },
     "execution_count": 75,
     "metadata": {},
     "output_type": "execute_result"
    }
   ],
   "source": [
    "id(s)"
   ]
  },
  {
   "cell_type": "code",
   "execution_count": 77,
   "id": "d15ee5ac-7ce7-4093-a4c9-b593ac20483a",
   "metadata": {},
   "outputs": [
    {
     "data": {
      "text/plain": [
       "'Rahul janghu'"
      ]
     },
     "execution_count": 77,
     "metadata": {},
     "output_type": "execute_result"
    }
   ],
   "source": [
    "s.replace('r', 'R')"
   ]
  },
  {
   "cell_type": "code",
   "execution_count": 78,
   "id": "432a42f0-c6dd-4a0a-91f6-205f3c2f8fed",
   "metadata": {},
   "outputs": [
    {
     "data": {
      "text/plain": [
       "'rahul janghu'"
      ]
     },
     "execution_count": 78,
     "metadata": {},
     "output_type": "execute_result"
    }
   ],
   "source": [
    "s"
   ]
  },
  {
   "cell_type": "code",
   "execution_count": 79,
   "id": "ea6a2be6-9801-4805-af85-4b5ac5a8cf02",
   "metadata": {},
   "outputs": [],
   "source": [
    "s = s.replace('r', 'R')"
   ]
  },
  {
   "cell_type": "code",
   "execution_count": 80,
   "id": "29e9b3e1-be07-41f7-a95b-a33c10f60da5",
   "metadata": {},
   "outputs": [
    {
     "data": {
      "text/plain": [
       "'Rahul janghu'"
      ]
     },
     "execution_count": 80,
     "metadata": {},
     "output_type": "execute_result"
    }
   ],
   "source": [
    "s"
   ]
  },
  {
   "cell_type": "code",
   "execution_count": 81,
   "id": "3fa7c172-448a-48d1-be4c-0fb8ab9b70a1",
   "metadata": {},
   "outputs": [
    {
     "data": {
      "text/plain": [
       "140474560913776"
      ]
     },
     "execution_count": 81,
     "metadata": {},
     "output_type": "execute_result"
    }
   ],
   "source": [
    "id(s)"
   ]
  },
  {
   "cell_type": "code",
   "execution_count": null,
   "id": "4c8529ec-f93c-4968-8999-2fad887c8e86",
   "metadata": {},
   "outputs": [],
   "source": []
  },
  {
   "cell_type": "code",
   "execution_count": null,
   "id": "9ba830aa-ee6f-4c77-8c7d-12b7c3b246e4",
   "metadata": {},
   "outputs": [],
   "source": []
  },
  {
   "cell_type": "code",
   "execution_count": 82,
   "id": "05edf774-d2d4-4865-9261-7de0935fc1b1",
   "metadata": {},
   "outputs": [],
   "source": [
    "# This is power of immutability"
   ]
  },
  {
   "cell_type": "code",
   "execution_count": 83,
   "id": "8be0afe5-4042-4e3c-a587-9a2e62bbc381",
   "metadata": {},
   "outputs": [],
   "source": [
    "# name[0] = \"A\""
   ]
  },
  {
   "cell_type": "code",
   "execution_count": 84,
   "id": "dd85a932-b03e-4a13-b16f-11c5abe646b2",
   "metadata": {},
   "outputs": [
    {
     "data": {
      "text/plain": [
       "'Rahul janghu'"
      ]
     },
     "execution_count": 84,
     "metadata": {},
     "output_type": "execute_result"
    }
   ],
   "source": [
    "s"
   ]
  },
  {
   "cell_type": "code",
   "execution_count": 85,
   "id": "34d417ce-fba4-42fb-8617-1bfadbdbdf6a",
   "metadata": {},
   "outputs": [
    {
     "data": {
      "text/plain": [
       "'R'"
      ]
     },
     "execution_count": 85,
     "metadata": {},
     "output_type": "execute_result"
    }
   ],
   "source": [
    "s[0]"
   ]
  },
  {
   "cell_type": "code",
   "execution_count": null,
   "id": "7aec1f17-36da-4886-b739-1c6498b83130",
   "metadata": {},
   "outputs": [],
   "source": []
  },
  {
   "cell_type": "code",
   "execution_count": 86,
   "id": "e5a7f415-5a32-4b0e-93b7-a91b2023188b",
   "metadata": {},
   "outputs": [],
   "source": [
    "# split"
   ]
  },
  {
   "cell_type": "code",
   "execution_count": 87,
   "id": "a8c194ca-25bd-4e36-b6c2-859f50e6154d",
   "metadata": {},
   "outputs": [],
   "source": [
    "# Valid email"
   ]
  },
  {
   "cell_type": "code",
   "execution_count": 89,
   "id": "1e942158-9af2-40a4-9b34-e77323754d0b",
   "metadata": {},
   "outputs": [
    {
     "data": {
      "text/plain": [
       "'Rahul janghu'"
      ]
     },
     "execution_count": 89,
     "metadata": {},
     "output_type": "execute_result"
    }
   ],
   "source": [
    "s"
   ]
  },
  {
   "cell_type": "code",
   "execution_count": 91,
   "id": "3b6261de-379a-409c-ab31-19f9159d5d8b",
   "metadata": {},
   "outputs": [
    {
     "data": {
      "text/plain": [
       "['Rahul', 'janghu']"
      ]
     },
     "execution_count": 91,
     "metadata": {},
     "output_type": "execute_result"
    }
   ],
   "source": [
    "s.split()"
   ]
  },
  {
   "cell_type": "code",
   "execution_count": 92,
   "id": "e6b71905-5cd9-4bbb-b1d6-4066a6474664",
   "metadata": {},
   "outputs": [
    {
     "data": {
      "text/plain": [
       "'Rahul janghu'"
      ]
     },
     "execution_count": 92,
     "metadata": {},
     "output_type": "execute_result"
    }
   ],
   "source": [
    "s"
   ]
  },
  {
   "cell_type": "code",
   "execution_count": 93,
   "id": "d3682d3d-fc69-46b2-bd30-7829dd15d5f7",
   "metadata": {},
   "outputs": [
    {
     "data": {
      "text/plain": [
       "['R', 'hul j', 'nghu']"
      ]
     },
     "execution_count": 93,
     "metadata": {},
     "output_type": "execute_result"
    }
   ],
   "source": [
    "s.split('a')"
   ]
  },
  {
   "cell_type": "code",
   "execution_count": null,
   "id": "fcf9ec3a-bccc-4c92-b912-c88095d346ff",
   "metadata": {},
   "outputs": [],
   "source": []
  },
  {
   "cell_type": "code",
   "execution_count": 94,
   "id": "59399d23-c00f-4a34-9490-8298c0cd092b",
   "metadata": {},
   "outputs": [],
   "source": [
    "# Validity of email address you should have a name and domain"
   ]
  },
  {
   "cell_type": "code",
   "execution_count": 95,
   "id": "8a1c9b0e-338e-4808-adc9-de94508318bb",
   "metadata": {},
   "outputs": [],
   "source": [
    "email = \"rahul.janghu@scaler.com\""
   ]
  },
  {
   "cell_type": "code",
   "execution_count": 96,
   "id": "3b33643d-562f-410c-95b3-ee3f9951f8a2",
   "metadata": {},
   "outputs": [],
   "source": [
    "email_split = email.split(\"@\")"
   ]
  },
  {
   "cell_type": "code",
   "execution_count": 97,
   "id": "c465e812-21d9-4c4e-b783-35ffcea4c0f3",
   "metadata": {},
   "outputs": [
    {
     "data": {
      "text/plain": [
       "['rahul.janghu', 'scaler.com']"
      ]
     },
     "execution_count": 97,
     "metadata": {},
     "output_type": "execute_result"
    }
   ],
   "source": [
    "email_split"
   ]
  },
  {
   "cell_type": "code",
   "execution_count": 99,
   "id": "c07024da-5ff0-4b39-b4b8-762b850c8435",
   "metadata": {},
   "outputs": [
    {
     "name": "stdout",
     "output_type": "stream",
     "text": [
      "True\n"
     ]
    }
   ],
   "source": [
    "if len(email_split[0]) > 7 and len(email_split[1]) > 8:\n",
    "    print(True) \n",
    "else:\n",
    "    print(False)"
   ]
  },
  {
   "cell_type": "markdown",
   "id": "2e648ce7-0e88-49f6-b5e2-ec0f7e0604ee",
   "metadata": {},
   "source": [
    "#####  \n",
    "- You are given some sample email-ids. Now, you have to write a code to verify If an email-id is valid or not.\n",
    "- An email-id is considered to be valid if length of name part in your email-id is > 7 and length of domain is = 10.\n",
    "- This is our client's requirement."
   ]
  },
  {
   "cell_type": "code",
   "execution_count": 105,
   "id": "c32bd216-a70d-47f7-a559-2c245d1ec60e",
   "metadata": {},
   "outputs": [],
   "source": [
    "def email_validator(email):\n",
    "    # Split email-id around@\n",
    "    email_split = email.split(\"@\")\n",
    "    \n",
    "    # Check for name length and domain length\n",
    "    if len(email_split[0]) > 7 and len(email_split[1]) == 10:\n",
    "        return True \n",
    "    else:\n",
    "        return False"
   ]
  },
  {
   "cell_type": "code",
   "execution_count": 106,
   "id": "d20940b0-8486-4e79-bf06-ebc6214e7853",
   "metadata": {},
   "outputs": [
    {
     "data": {
      "text/plain": [
       "False"
      ]
     },
     "execution_count": 106,
     "metadata": {},
     "output_type": "execute_result"
    }
   ],
   "source": [
    "email_validator(\"Kalyan@gmail.com\")"
   ]
  },
  {
   "cell_type": "code",
   "execution_count": 107,
   "id": "7444286f-46e2-4dfa-ab74-013cfda585a6",
   "metadata": {},
   "outputs": [
    {
     "data": {
      "text/plain": [
       "True"
      ]
     },
     "execution_count": 107,
     "metadata": {},
     "output_type": "execute_result"
    }
   ],
   "source": [
    "email_validator(\"rahul.janghu@scaler.com\")"
   ]
  },
  {
   "cell_type": "code",
   "execution_count": null,
   "id": "2a604d22-8346-40e1-864b-9ff2107848f9",
   "metadata": {},
   "outputs": [],
   "source": []
  },
  {
   "cell_type": "markdown",
   "id": "2bbc2a8c-4a6d-46bf-8e5c-14f7f5f1e5ef",
   "metadata": {},
   "source": [
    "# Challenge: Warmup \n",
    "- Given a string as input, print it 3 times without any space. (can't use a loop)\n",
    "- Input: \"India\"\n",
    "- Ouput: \"IndiaIndiaIndia\""
   ]
  },
  {
   "cell_type": "code",
   "execution_count": 108,
   "id": "b7d3698d-fd13-43f2-af6a-d43171124cfd",
   "metadata": {},
   "outputs": [],
   "source": [
    "# String concatenation"
   ]
  },
  {
   "cell_type": "code",
   "execution_count": 109,
   "id": "05c7eecc-d04e-432a-828a-1635a462f27a",
   "metadata": {},
   "outputs": [],
   "source": [
    "# +, * "
   ]
  },
  {
   "cell_type": "code",
   "execution_count": 110,
   "id": "c58c8408-2956-4ed9-9720-a3ad8da86315",
   "metadata": {},
   "outputs": [
    {
     "name": "stdout",
     "output_type": "stream",
     "text": [
      "IndiaIndiaIndia\n"
     ]
    }
   ],
   "source": [
    "country = \"India\"\n",
    "print(country * 3)"
   ]
  },
  {
   "cell_type": "code",
   "execution_count": 111,
   "id": "94428b82-0aa1-4bf3-8195-7517243c0c67",
   "metadata": {},
   "outputs": [
    {
     "data": {
      "text/plain": [
       "'IndiaIndiaIndia'"
      ]
     },
     "execution_count": 111,
     "metadata": {},
     "output_type": "execute_result"
    }
   ],
   "source": [
    "country + country + country"
   ]
  },
  {
   "cell_type": "code",
   "execution_count": 113,
   "id": "350fa10d-d537-4b8d-a006-06f8bf74021e",
   "metadata": {},
   "outputs": [
    {
     "data": {
      "text/plain": [
       "'IndiaIndiaIndiaIndiaIndia'"
      ]
     },
     "execution_count": 113,
     "metadata": {},
     "output_type": "execute_result"
    }
   ],
   "source": [
    "\"India\" * 5"
   ]
  },
  {
   "cell_type": "code",
   "execution_count": null,
   "id": "d5ee2c5f-cca8-42ed-8c1b-e9fb4090eb6d",
   "metadata": {},
   "outputs": [],
   "source": []
  },
  {
   "cell_type": "code",
   "execution_count": 114,
   "id": "598a32da-f9d4-429e-90dc-8aeccd654207",
   "metadata": {},
   "outputs": [],
   "source": [
    "# Quiz"
   ]
  },
  {
   "cell_type": "code",
   "execution_count": 115,
   "id": "30eba955-dae8-404f-956b-eb8ce62cb1b6",
   "metadata": {},
   "outputs": [
    {
     "name": "stdout",
     "output_type": "stream",
     "text": [
      "False\n"
     ]
    }
   ],
   "source": [
    "print(100 == \"100\")"
   ]
  },
  {
   "cell_type": "code",
   "execution_count": null,
   "id": "ec46f40e-1183-4ba1-90b7-fbe8a432c3c6",
   "metadata": {},
   "outputs": [],
   "source": []
  },
  {
   "cell_type": "code",
   "execution_count": 117,
   "id": "af78a58d-0a11-4ce0-899a-e2a4e69d6e2d",
   "metadata": {},
   "outputs": [
    {
     "name": "stdout",
     "output_type": "stream",
     "text": [
      "21\n"
     ]
    }
   ],
   "source": [
    "city = \"Phoenix\"\n",
    "print(len(city*3))"
   ]
  },
  {
   "cell_type": "code",
   "execution_count": 116,
   "id": "d9247efe-1c19-4ebd-8dc9-2535590c421c",
   "metadata": {},
   "outputs": [
    {
     "data": {
      "text/plain": [
       "7"
      ]
     },
     "execution_count": 116,
     "metadata": {},
     "output_type": "execute_result"
    }
   ],
   "source": [
    "city = \"Phoenix\"\n",
    "len(city)"
   ]
  },
  {
   "cell_type": "code",
   "execution_count": 118,
   "id": "08daa2c2-b78b-4776-b88e-6feb611b5552",
   "metadata": {},
   "outputs": [
    {
     "name": "stdout",
     "output_type": "stream",
     "text": [
      "PhoenixPhoenixPhoenix\n"
     ]
    }
   ],
   "source": [
    "print(city * 3)"
   ]
  },
  {
   "cell_type": "code",
   "execution_count": null,
   "id": "6dcf6085-2f7a-4813-8944-a99e081e2d4d",
   "metadata": {},
   "outputs": [],
   "source": []
  },
  {
   "cell_type": "markdown",
   "id": "1c6c76cd-d4ed-40a3-9896-21b85e319fc4",
   "metadata": {},
   "source": [
    "## Challenge 1:\n",
    "- Take a string as input and print all the characters in new lines.\n",
    "- Input: \"India\"\n",
    "- Output:\n",
    "- I\n",
    "- n\n",
    "- d\n",
    "- i\n",
    "- a"
   ]
  },
  {
   "cell_type": "code",
   "execution_count": 119,
   "id": "e3a2230b-407b-4833-bdee-97e4843b37db",
   "metadata": {},
   "outputs": [],
   "source": [
    "# strings are iterable"
   ]
  },
  {
   "cell_type": "code",
   "execution_count": 121,
   "id": "06012024-d7df-448a-84d7-9e220dab5450",
   "metadata": {},
   "outputs": [
    {
     "data": {
      "text/plain": [
       "'Rahul janghu'"
      ]
     },
     "execution_count": 121,
     "metadata": {},
     "output_type": "execute_result"
    }
   ],
   "source": [
    "s"
   ]
  },
  {
   "cell_type": "code",
   "execution_count": 122,
   "id": "a614c272-7e51-441a-89a8-4ab1c7f170b4",
   "metadata": {},
   "outputs": [
    {
     "name": "stdout",
     "output_type": "stream",
     "text": [
      "R\n",
      "a\n",
      "h\n",
      "u\n",
      "l\n",
      " \n",
      "j\n",
      "a\n",
      "n\n",
      "g\n",
      "h\n",
      "u\n"
     ]
    }
   ],
   "source": [
    "for i in s:\n",
    "    print(i)"
   ]
  },
  {
   "cell_type": "code",
   "execution_count": null,
   "id": "25bea7d9-c740-42f5-9108-800865513a0e",
   "metadata": {},
   "outputs": [],
   "source": []
  },
  {
   "cell_type": "code",
   "execution_count": null,
   "id": "9191a2a3-ba09-494c-95a6-93d5c1120011",
   "metadata": {},
   "outputs": [],
   "source": []
  },
  {
   "cell_type": "markdown",
   "id": "f234bf7c-d257-419b-8c68-253528fc13d4",
   "metadata": {},
   "source": [
    "## Challenge 2:\n",
    "- Given a string as input, print the first and the last character of the string.\n",
    "- Input: \"India\"\n",
    "- Output:\n",
    "- I\n",
    "- a"
   ]
  },
  {
   "cell_type": "code",
   "execution_count": 123,
   "id": "12937d19-364c-4200-acc7-85056abf9060",
   "metadata": {},
   "outputs": [],
   "source": [
    "# Indexing"
   ]
  },
  {
   "cell_type": "code",
   "execution_count": 124,
   "id": "a6d8e0a9-be78-4f4e-b0d6-424044dfa75e",
   "metadata": {},
   "outputs": [
    {
     "data": {
      "text/plain": [
       "'India'"
      ]
     },
     "execution_count": 124,
     "metadata": {},
     "output_type": "execute_result"
    }
   ],
   "source": [
    "country"
   ]
  },
  {
   "cell_type": "code",
   "execution_count": 125,
   "id": "0c12bdb5-0ccf-4968-80d6-866dea0aa2c3",
   "metadata": {},
   "outputs": [
    {
     "data": {
      "text/plain": [
       "'I'"
      ]
     },
     "execution_count": 125,
     "metadata": {},
     "output_type": "execute_result"
    }
   ],
   "source": [
    "country[0]"
   ]
  },
  {
   "cell_type": "code",
   "execution_count": 126,
   "id": "4290ca2e-a86a-4e05-9b8e-7a98fc721059",
   "metadata": {},
   "outputs": [
    {
     "data": {
      "text/plain": [
       "'n'"
      ]
     },
     "execution_count": 126,
     "metadata": {},
     "output_type": "execute_result"
    }
   ],
   "source": [
    "country[1]"
   ]
  },
  {
   "cell_type": "code",
   "execution_count": 127,
   "id": "c7bd2d6f-935c-4ed3-8dc0-d005ea45433a",
   "metadata": {},
   "outputs": [
    {
     "data": {
      "text/plain": [
       "'a'"
      ]
     },
     "execution_count": 127,
     "metadata": {},
     "output_type": "execute_result"
    }
   ],
   "source": [
    "country[-1]"
   ]
  },
  {
   "cell_type": "code",
   "execution_count": 128,
   "id": "51f108e1-03be-45ee-8b83-67a6c72ebf71",
   "metadata": {},
   "outputs": [
    {
     "name": "stdout",
     "output_type": "stream",
     "text": [
      "I a\n"
     ]
    }
   ],
   "source": [
    "print(country[0], country[-1])"
   ]
  },
  {
   "cell_type": "code",
   "execution_count": null,
   "id": "3dd4ad12-63ba-41f0-83e9-5e67d76b8d12",
   "metadata": {},
   "outputs": [],
   "source": []
  },
  {
   "cell_type": "code",
   "execution_count": null,
   "id": "75dd5b84-cafa-4d46-935d-42e6e697f8f6",
   "metadata": {},
   "outputs": [],
   "source": []
  },
  {
   "cell_type": "markdown",
   "id": "55d836e2-089d-43b0-9862-df9d81990828",
   "metadata": {},
   "source": [
    "### Challenge Palindrome"
   ]
  },
  {
   "cell_type": "code",
   "execution_count": 129,
   "id": "e8a734fa-5012-40c5-a7c6-8914b97dddaa",
   "metadata": {},
   "outputs": [],
   "source": [
    "# Write a function to check for pallindrome"
   ]
  },
  {
   "cell_type": "code",
   "execution_count": 130,
   "id": "09b19334-b586-4165-9110-e29808a48c7d",
   "metadata": {},
   "outputs": [],
   "source": [
    "# Quiz"
   ]
  },
  {
   "cell_type": "code",
   "execution_count": 131,
   "id": "2db9a0f5-a71c-4205-b608-bb17064ae84e",
   "metadata": {},
   "outputs": [
    {
     "data": {
      "text/plain": [
       "'luhaR'"
      ]
     },
     "execution_count": 131,
     "metadata": {},
     "output_type": "execute_result"
    }
   ],
   "source": [
    "name = \"Rahul\"\n",
    "name[::-1]"
   ]
  },
  {
   "cell_type": "code",
   "execution_count": 133,
   "id": "9d9dfdf8-00a3-47ae-b264-a27309bcfb55",
   "metadata": {},
   "outputs": [
    {
     "name": "stdout",
     "output_type": "stream",
     "text": [
      "False\n"
     ]
    }
   ],
   "source": [
    "if name == name[::-1]:\n",
    "    print(True)\n",
    "else:\n",
    "    print(False)"
   ]
  },
  {
   "cell_type": "code",
   "execution_count": 137,
   "id": "23c77115-de0b-4e1f-a42b-957dc860d003",
   "metadata": {},
   "outputs": [],
   "source": [
    "def check_pallindrome(string):\n",
    "    return string == string[::-1]"
   ]
  },
  {
   "cell_type": "code",
   "execution_count": 138,
   "id": "c72ca77d-b5b7-4361-912d-3a38467856ad",
   "metadata": {},
   "outputs": [
    {
     "data": {
      "text/plain": [
       "True"
      ]
     },
     "execution_count": 138,
     "metadata": {},
     "output_type": "execute_result"
    }
   ],
   "source": [
    "check_pallindrome(\"level\")"
   ]
  },
  {
   "cell_type": "code",
   "execution_count": 139,
   "id": "09dbb3cb-f9f7-4722-b933-64c18c27355e",
   "metadata": {},
   "outputs": [
    {
     "data": {
      "text/plain": [
       "False"
      ]
     },
     "execution_count": 139,
     "metadata": {},
     "output_type": "execute_result"
    }
   ],
   "source": [
    "check_pallindrome('rahul')"
   ]
  },
  {
   "cell_type": "code",
   "execution_count": 140,
   "id": "56808e9f-3222-4cf8-91aa-2e6194824def",
   "metadata": {},
   "outputs": [
    {
     "data": {
      "text/plain": [
       "False"
      ]
     },
     "execution_count": 140,
     "metadata": {},
     "output_type": "execute_result"
    }
   ],
   "source": [
    "check_pallindrome('Malayalam')"
   ]
  },
  {
   "cell_type": "code",
   "execution_count": null,
   "id": "6ab9e1d6-16da-4427-9052-593f276a2a1f",
   "metadata": {},
   "outputs": [],
   "source": []
  },
  {
   "cell_type": "code",
   "execution_count": 141,
   "id": "6c0c6181-c2c8-487c-93c5-c177f0840ee6",
   "metadata": {},
   "outputs": [],
   "source": [
    "# Hw: Check this using iteration"
   ]
  },
  {
   "cell_type": "code",
   "execution_count": null,
   "id": "8efc9ba6-68a4-43e6-b917-9c93032f482e",
   "metadata": {},
   "outputs": [],
   "source": []
  },
  {
   "cell_type": "code",
   "execution_count": null,
   "id": "6e8cef2e-2478-4c1c-a30a-52b9f8e64644",
   "metadata": {},
   "outputs": [],
   "source": []
  },
  {
   "cell_type": "markdown",
   "id": "ffd58c9c-d32e-4906-83d1-deaed69efa2a",
   "metadata": {},
   "source": [
    "## Challenge 3:\n",
    "- Take a string as input and print the ASCII value of the characters in it."
   ]
  },
  {
   "cell_type": "code",
   "execution_count": 142,
   "id": "d1c162e2-dc3a-4fbb-94fa-63d543b283ea",
   "metadata": {},
   "outputs": [],
   "source": [
    "# ord"
   ]
  },
  {
   "cell_type": "code",
   "execution_count": 143,
   "id": "03913720-c37b-46cb-8384-0e53c9c469e4",
   "metadata": {},
   "outputs": [],
   "source": [
    "# chr"
   ]
  },
  {
   "cell_type": "code",
   "execution_count": 144,
   "id": "b1d8b9a5-8e34-4713-bcb3-9406afd8de85",
   "metadata": {},
   "outputs": [
    {
     "data": {
      "text/plain": [
       "'Rahul'"
      ]
     },
     "execution_count": 144,
     "metadata": {},
     "output_type": "execute_result"
    }
   ],
   "source": [
    "name"
   ]
  },
  {
   "cell_type": "code",
   "execution_count": 146,
   "id": "105f8836-1675-4a74-a387-972e9d96480a",
   "metadata": {},
   "outputs": [
    {
     "name": "stdout",
     "output_type": "stream",
     "text": [
      "82\n",
      "97\n",
      "104\n",
      "117\n",
      "108\n"
     ]
    }
   ],
   "source": [
    "for i in name:\n",
    "    print(ord(i))"
   ]
  },
  {
   "cell_type": "code",
   "execution_count": 150,
   "id": "213257e4-e262-41bd-b5e7-360e5b857757",
   "metadata": {},
   "outputs": [],
   "source": [
    "def print_ord_string(string):\n",
    "    for i in string:\n",
    "        print(ord(i))"
   ]
  },
  {
   "cell_type": "code",
   "execution_count": 151,
   "id": "843819b3-6115-4884-b1c7-4a702fcdd8ca",
   "metadata": {},
   "outputs": [
    {
     "name": "stdout",
     "output_type": "stream",
     "text": [
      "65\n",
      "82\n",
      "75\n",
      "65\n"
     ]
    }
   ],
   "source": [
    "print_ord_string(\"ARKA\")"
   ]
  },
  {
   "cell_type": "code",
   "execution_count": 152,
   "id": "7d998e05-9988-4c7f-8316-658afe718689",
   "metadata": {},
   "outputs": [
    {
     "name": "stdout",
     "output_type": "stream",
     "text": [
      "82\n",
      "97\n",
      "116\n",
      "105\n",
      "107\n",
      "97\n",
      "32\n",
      "83\n",
      "104\n",
      "97\n",
      "114\n",
      "109\n",
      "97\n"
     ]
    }
   ],
   "source": [
    "print_ord_string(\"Ratika Sharma\")"
   ]
  },
  {
   "cell_type": "code",
   "execution_count": null,
   "id": "0a84f62b-db0f-438d-a0d8-dc01c2c1359a",
   "metadata": {},
   "outputs": [],
   "source": []
  },
  {
   "cell_type": "code",
   "execution_count": null,
   "id": "2136096a-0280-4f94-a1e6-62eaecbf56dd",
   "metadata": {},
   "outputs": [],
   "source": []
  },
  {
   "cell_type": "code",
   "execution_count": 153,
   "id": "da79c892-7cda-4020-90cd-3d2af5a035e6",
   "metadata": {},
   "outputs": [],
   "source": [
    "# Print sum of all the ascii values in string s"
   ]
  },
  {
   "cell_type": "code",
   "execution_count": 154,
   "id": "cf46c977-90b6-4148-a35d-47849884ce79",
   "metadata": {},
   "outputs": [
    {
     "data": {
      "text/plain": [
       "'Rahul'"
      ]
     },
     "execution_count": 154,
     "metadata": {},
     "output_type": "execute_result"
    }
   ],
   "source": [
    "name"
   ]
  },
  {
   "cell_type": "code",
   "execution_count": null,
   "id": "ce41d3c9-51f8-4a41-87b4-df996e325cba",
   "metadata": {},
   "outputs": [],
   "source": []
  },
  {
   "cell_type": "code",
   "execution_count": null,
   "id": "352374df-5f29-4dc6-aa7a-6ef73437f714",
   "metadata": {},
   "outputs": [],
   "source": []
  },
  {
   "cell_type": "markdown",
   "id": "a01af93e-ca94-4065-8893-393973ea073c",
   "metadata": {},
   "source": [
    "### Challenge: Last\n",
    "\n",
    "Given a string convert all caps alphabets into lower case. Give string as output in lower case\n",
    "\n",
    "- Input : raHuL\n",
    "- output : rahul"
   ]
  },
  {
   "cell_type": "code",
   "execution_count": null,
   "id": "2052e583-77b6-4150-954d-76ee3b2b3346",
   "metadata": {},
   "outputs": [],
   "source": []
  },
  {
   "cell_type": "code",
   "execution_count": 155,
   "id": "3889b540-fdde-4d33-be06-ffb64a08c6ec",
   "metadata": {},
   "outputs": [],
   "source": [
    "# Difference between ascii values of A -> a : 32"
   ]
  },
  {
   "cell_type": "code",
   "execution_count": 156,
   "id": "fba63e55-e5bb-4a10-a772-84e1e0d6cd8b",
   "metadata": {},
   "outputs": [
    {
     "data": {
      "text/plain": [
       "65"
      ]
     },
     "execution_count": 156,
     "metadata": {},
     "output_type": "execute_result"
    }
   ],
   "source": [
    "ord('A')"
   ]
  },
  {
   "cell_type": "code",
   "execution_count": 157,
   "id": "d8e740e8-ccb9-454a-a74b-4121cc6e8e04",
   "metadata": {},
   "outputs": [
    {
     "data": {
      "text/plain": [
       "'a'"
      ]
     },
     "execution_count": 157,
     "metadata": {},
     "output_type": "execute_result"
    }
   ],
   "source": [
    "chr(65 + 32)"
   ]
  },
  {
   "cell_type": "code",
   "execution_count": null,
   "id": "cdd5c940-b32e-48c1-9c90-a1aee82c606c",
   "metadata": {},
   "outputs": [],
   "source": []
  },
  {
   "cell_type": "code",
   "execution_count": null,
   "id": "ac05152f-6e53-4de4-937a-5a76eacab7d0",
   "metadata": {},
   "outputs": [],
   "source": []
  },
  {
   "cell_type": "code",
   "execution_count": null,
   "id": "9ff56b85-4489-4768-a6ea-712696d8a8db",
   "metadata": {},
   "outputs": [],
   "source": []
  },
  {
   "cell_type": "code",
   "execution_count": null,
   "id": "4e065e7b-9f02-44d2-b698-7af256f0ffa8",
   "metadata": {},
   "outputs": [],
   "source": []
  }
 ],
 "metadata": {
  "kernelspec": {
   "display_name": "Python 3 (ipykernel)",
   "language": "python",
   "name": "python3"
  },
  "language_info": {
   "codemirror_mode": {
    "name": "ipython",
    "version": 3
   },
   "file_extension": ".py",
   "mimetype": "text/x-python",
   "name": "python",
   "nbconvert_exporter": "python",
   "pygments_lexer": "ipython3",
   "version": "3.9.7"
  }
 },
 "nbformat": 4,
 "nbformat_minor": 5
}
