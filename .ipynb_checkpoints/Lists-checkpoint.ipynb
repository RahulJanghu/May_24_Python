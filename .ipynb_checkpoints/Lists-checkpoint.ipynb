{
 "cells": [
  {
   "cell_type": "markdown",
   "id": "92cd946b-9bb5-406f-aace-6a8181c652d3",
   "metadata": {},
   "source": [
    "## List []\n",
    "- A list is a data structure that holds an ordered collection of items i.e. you can store a sequence of items in a list.\n",
    "\n",
    "The list of items should be enclosed in square brackets so that Python understands that you are specifying a list. Once you have created a list, you can add, remove or search for items in the list. Since we can add and remove items, we say that a list is a mutable data type i.e. this type can be altered."
   ]
  },
  {
   "cell_type": "code",
   "execution_count": 1,
   "id": "290737ed-3de2-4954-8ed0-00c4e399f4e7",
   "metadata": {},
   "outputs": [],
   "source": [
    "## Runs"
   ]
  },
  {
   "cell_type": "code",
   "execution_count": 2,
   "id": "470f5889-7275-4502-bcb0-6941f0c54b42",
   "metadata": {},
   "outputs": [],
   "source": [
    "runs = [100, 150, 99, 20, 99, 200, 99, 120]"
   ]
  },
  {
   "cell_type": "code",
   "execution_count": 3,
   "id": "417bcb60-4c00-41f9-9a7b-e1f59ffd258f",
   "metadata": {},
   "outputs": [],
   "source": [
    "# type"
   ]
  },
  {
   "cell_type": "code",
   "execution_count": 4,
   "id": "c0213fe2-acf5-45ca-97e0-21a5f8b6b33d",
   "metadata": {},
   "outputs": [
    {
     "data": {
      "text/plain": [
       "int"
      ]
     },
     "execution_count": 4,
     "metadata": {},
     "output_type": "execute_result"
    }
   ],
   "source": [
    "type(123)"
   ]
  },
  {
   "cell_type": "code",
   "execution_count": 5,
   "id": "2de7dc40-0909-4964-8174-0321244b0646",
   "metadata": {},
   "outputs": [
    {
     "data": {
      "text/plain": [
       "list"
      ]
     },
     "execution_count": 5,
     "metadata": {},
     "output_type": "execute_result"
    }
   ],
   "source": [
    "type(runs)"
   ]
  },
  {
   "cell_type": "code",
   "execution_count": 6,
   "id": "2fdcde8d-bf19-42be-b953-f9aa9ac44441",
   "metadata": {},
   "outputs": [],
   "source": [
    "example = [\"Piyush\", 99, 0.9, None, True, False]"
   ]
  },
  {
   "cell_type": "code",
   "execution_count": 7,
   "id": "002f990e-0197-42f9-8091-c4dc2dbeb14d",
   "metadata": {},
   "outputs": [
    {
     "data": {
      "text/plain": [
       "list"
      ]
     },
     "execution_count": 7,
     "metadata": {},
     "output_type": "execute_result"
    }
   ],
   "source": [
    "type(example)"
   ]
  },
  {
   "cell_type": "code",
   "execution_count": null,
   "id": "15cf55f9-c364-49f9-8c74-fd49b8360789",
   "metadata": {},
   "outputs": [],
   "source": []
  },
  {
   "cell_type": "code",
   "execution_count": 8,
   "id": "a7ec8519-e7a7-4cb8-981c-b7f75546eb7a",
   "metadata": {},
   "outputs": [],
   "source": [
    "# len function"
   ]
  },
  {
   "cell_type": "code",
   "execution_count": 9,
   "id": "3cd4745f-24b4-4c02-91cb-b3c7e4cf1199",
   "metadata": {},
   "outputs": [
    {
     "data": {
      "text/plain": [
       "8"
      ]
     },
     "execution_count": 9,
     "metadata": {},
     "output_type": "execute_result"
    }
   ],
   "source": [
    "len(runs)"
   ]
  },
  {
   "cell_type": "code",
   "execution_count": null,
   "id": "754948de-af68-49e9-9890-a968749cfd8f",
   "metadata": {},
   "outputs": [],
   "source": []
  },
  {
   "cell_type": "code",
   "execution_count": 10,
   "id": "54ab42c1-f68c-4df8-9263-9152fa318b99",
   "metadata": {},
   "outputs": [],
   "source": [
    "# Indexing in list: Like we used to have in our attendance register, roll no."
   ]
  },
  {
   "cell_type": "code",
   "execution_count": 11,
   "id": "1775ca4a-a380-4651-9720-25c8b1527fe0",
   "metadata": {},
   "outputs": [
    {
     "data": {
      "text/plain": [
       "[100, 150, 99, 20, 99, 200, 99, 120]"
      ]
     },
     "execution_count": 11,
     "metadata": {},
     "output_type": "execute_result"
    }
   ],
   "source": [
    "runs"
   ]
  },
  {
   "cell_type": "code",
   "execution_count": 12,
   "id": "62f638df-2cd6-420a-9eaa-a4ada0a683ba",
   "metadata": {},
   "outputs": [
    {
     "data": {
      "text/plain": [
       "100"
      ]
     },
     "execution_count": 12,
     "metadata": {},
     "output_type": "execute_result"
    }
   ],
   "source": [
    "runs[0]"
   ]
  },
  {
   "cell_type": "code",
   "execution_count": 14,
   "id": "2aea4c19-96b7-455f-9d4c-6b51a10712c6",
   "metadata": {},
   "outputs": [],
   "source": [
    "# runs[292374092]"
   ]
  },
  {
   "cell_type": "code",
   "execution_count": 15,
   "id": "8b1534a3-a134-4543-b896-770ebed6628e",
   "metadata": {},
   "outputs": [
    {
     "data": {
      "text/plain": [
       "8"
      ]
     },
     "execution_count": 15,
     "metadata": {},
     "output_type": "execute_result"
    }
   ],
   "source": [
    "len(runs)"
   ]
  },
  {
   "cell_type": "code",
   "execution_count": 17,
   "id": "eb66affa-2671-40b4-aad6-bac85936732a",
   "metadata": {},
   "outputs": [
    {
     "data": {
      "text/plain": [
       "120"
      ]
     },
     "execution_count": 17,
     "metadata": {},
     "output_type": "execute_result"
    }
   ],
   "source": [
    "runs[len(runs) - 1]"
   ]
  },
  {
   "cell_type": "code",
   "execution_count": null,
   "id": "bbe8d6d7-afe4-4cab-b7d0-32b58f3d1eba",
   "metadata": {},
   "outputs": [],
   "source": []
  },
  {
   "cell_type": "code",
   "execution_count": 18,
   "id": "ac8f6f78-bf3c-4b69-917e-01b1e59e19be",
   "metadata": {},
   "outputs": [],
   "source": [
    "## Negative indexing: Topper from bottom :)"
   ]
  },
  {
   "cell_type": "code",
   "execution_count": 19,
   "id": "e3e8ffb3-d10d-4635-8f6c-c3dcdf7ff4b5",
   "metadata": {},
   "outputs": [
    {
     "data": {
      "text/plain": [
       "[100, 150, 99, 20, 99, 200, 99, 120]"
      ]
     },
     "execution_count": 19,
     "metadata": {},
     "output_type": "execute_result"
    }
   ],
   "source": [
    "runs"
   ]
  },
  {
   "cell_type": "code",
   "execution_count": 20,
   "id": "9a44ca46-6e48-4923-a650-cbc46feb40c8",
   "metadata": {},
   "outputs": [
    {
     "data": {
      "text/plain": [
       "120"
      ]
     },
     "execution_count": 20,
     "metadata": {},
     "output_type": "execute_result"
    }
   ],
   "source": [
    "runs[-1]"
   ]
  },
  {
   "cell_type": "code",
   "execution_count": 21,
   "id": "638ce0e3-d6b1-467b-b859-cc07953c2400",
   "metadata": {},
   "outputs": [
    {
     "data": {
      "text/plain": [
       "100"
      ]
     },
     "execution_count": 21,
     "metadata": {},
     "output_type": "execute_result"
    }
   ],
   "source": [
    "runs[-len(runs)]"
   ]
  },
  {
   "cell_type": "code",
   "execution_count": 22,
   "id": "c9cece80-2754-4fb2-9df4-5f6285ac0196",
   "metadata": {},
   "outputs": [
    {
     "data": {
      "text/plain": [
       "100"
      ]
     },
     "execution_count": 22,
     "metadata": {},
     "output_type": "execute_result"
    }
   ],
   "source": [
    "runs[0]"
   ]
  },
  {
   "cell_type": "code",
   "execution_count": 23,
   "id": "01c11d91-e317-4eab-8729-967cb4818341",
   "metadata": {},
   "outputs": [
    {
     "data": {
      "text/plain": [
       "200"
      ]
     },
     "execution_count": 23,
     "metadata": {},
     "output_type": "execute_result"
    }
   ],
   "source": [
    "runs[-3]"
   ]
  },
  {
   "cell_type": "code",
   "execution_count": null,
   "id": "0ef4a926-d337-4d84-92f6-5db68c6c9676",
   "metadata": {},
   "outputs": [],
   "source": []
  },
  {
   "cell_type": "markdown",
   "id": "92c52e18-5313-4228-8e9e-d5898197e968",
   "metadata": {},
   "source": [
    "### Inbuilt methods on a list"
   ]
  },
  {
   "cell_type": "markdown",
   "id": "f907bd29-9ce4-4a1f-ade1-91b09ba5d9b8",
   "metadata": {},
   "source": [
    "#### Updating a list"
   ]
  },
  {
   "cell_type": "code",
   "execution_count": 24,
   "id": "3003607c-206e-4110-be78-f9287422c563",
   "metadata": {},
   "outputs": [],
   "source": [
    "## Let Sachin play another match: append"
   ]
  },
  {
   "cell_type": "code",
   "execution_count": 25,
   "id": "6f32c24e-86b7-4e37-b2e7-8decb6eb0d67",
   "metadata": {},
   "outputs": [],
   "source": [
    "# append: Adds data at end of your list"
   ]
  },
  {
   "cell_type": "code",
   "execution_count": 27,
   "id": "ec110444-0c39-458f-a584-895a65d70e9a",
   "metadata": {},
   "outputs": [
    {
     "data": {
      "text/plain": [
       "[100, 150, 99, 20, 99, 200, 99, 120]"
      ]
     },
     "execution_count": 27,
     "metadata": {},
     "output_type": "execute_result"
    }
   ],
   "source": [
    "runs"
   ]
  },
  {
   "cell_type": "code",
   "execution_count": 28,
   "id": "c7d81df4-ab81-4205-8706-715f013f63b1",
   "metadata": {},
   "outputs": [],
   "source": [
    "last = 101"
   ]
  },
  {
   "cell_type": "code",
   "execution_count": 29,
   "id": "fd234942-e6c2-4f26-8e8f-2c081e17320a",
   "metadata": {},
   "outputs": [],
   "source": [
    "# Append adds the data at end by default"
   ]
  },
  {
   "cell_type": "code",
   "execution_count": 31,
   "id": "f6201bbf-24d0-4f07-b9ea-4a9ee0addc54",
   "metadata": {},
   "outputs": [],
   "source": [
    "runs.append(last)"
   ]
  },
  {
   "cell_type": "code",
   "execution_count": 32,
   "id": "d09d8ad0-1abf-4d28-b075-7a417c49b181",
   "metadata": {},
   "outputs": [
    {
     "data": {
      "text/plain": [
       "[100, 150, 99, 20, 99, 200, 99, 120, 101]"
      ]
     },
     "execution_count": 32,
     "metadata": {},
     "output_type": "execute_result"
    }
   ],
   "source": [
    "runs"
   ]
  },
  {
   "cell_type": "code",
   "execution_count": 33,
   "id": "f7e2a30e-3cea-486b-bcf4-b56868afc7ae",
   "metadata": {},
   "outputs": [],
   "source": [
    "runs.append(99)"
   ]
  },
  {
   "cell_type": "code",
   "execution_count": 34,
   "id": "162bddae-0c8a-43a9-a4e4-dd8cef47312f",
   "metadata": {},
   "outputs": [
    {
     "data": {
      "text/plain": [
       "[100, 150, 99, 20, 99, 200, 99, 120, 101, 99]"
      ]
     },
     "execution_count": 34,
     "metadata": {},
     "output_type": "execute_result"
    }
   ],
   "source": [
    "runs"
   ]
  },
  {
   "cell_type": "code",
   "execution_count": 35,
   "id": "93daddaf-79bd-4f08-9a5e-a39f47f96831",
   "metadata": {},
   "outputs": [
    {
     "data": {
      "text/plain": [
       "10"
      ]
     },
     "execution_count": 35,
     "metadata": {},
     "output_type": "execute_result"
    }
   ],
   "source": [
    "len(runs)"
   ]
  },
  {
   "cell_type": "code",
   "execution_count": null,
   "id": "ab09da2b-3d38-40c6-93fe-f72bad7c4402",
   "metadata": {},
   "outputs": [],
   "source": []
  },
  {
   "cell_type": "code",
   "execution_count": 36,
   "id": "eb1c4120-0a43-4628-980c-b6df14b5a435",
   "metadata": {},
   "outputs": [],
   "source": [
    "## Insert at index: runs.insert(index, value)"
   ]
  },
  {
   "cell_type": "code",
   "execution_count": 37,
   "id": "57494c0e-17d4-479d-8b45-094530ec0f6a",
   "metadata": {},
   "outputs": [],
   "source": [
    "# What if we forgot to add data at 2nd index?"
   ]
  },
  {
   "cell_type": "code",
   "execution_count": 38,
   "id": "ad059fd7-77ee-422c-9355-c75c1b536752",
   "metadata": {},
   "outputs": [
    {
     "data": {
      "text/plain": [
       "[100, 150, 99, 20, 99, 200, 99, 120, 101, 99]"
      ]
     },
     "execution_count": 38,
     "metadata": {},
     "output_type": "execute_result"
    }
   ],
   "source": [
    "runs"
   ]
  },
  {
   "cell_type": "code",
   "execution_count": 40,
   "id": "8d6ae8e8-9a95-4095-b9d1-9e7d7ce4901c",
   "metadata": {},
   "outputs": [],
   "source": [
    "runs.insert(2, 51)"
   ]
  },
  {
   "cell_type": "code",
   "execution_count": 41,
   "id": "87ea1102-aea5-42e6-879a-bf9a1efbd22b",
   "metadata": {},
   "outputs": [
    {
     "data": {
      "text/plain": [
       "[100, 150, 51, 99, 20, 99, 200, 99, 120, 101, 99]"
      ]
     },
     "execution_count": 41,
     "metadata": {},
     "output_type": "execute_result"
    }
   ],
   "source": [
    "runs"
   ]
  },
  {
   "cell_type": "code",
   "execution_count": null,
   "id": "7a943430-b6a1-4ee8-9454-a747f64571dc",
   "metadata": {},
   "outputs": [],
   "source": []
  },
  {
   "cell_type": "code",
   "execution_count": 42,
   "id": "a8e420f4-2cb9-4e73-9d02-4e4d6825d685",
   "metadata": {},
   "outputs": [],
   "source": [
    "# extend"
   ]
  },
  {
   "cell_type": "code",
   "execution_count": 43,
   "id": "d0324029-c495-4099-8b27-294e61eea516",
   "metadata": {},
   "outputs": [],
   "source": [
    "ipl = [80, 108, 99]"
   ]
  },
  {
   "cell_type": "code",
   "execution_count": 44,
   "id": "c3ae1292-91ab-4084-83b7-c64626c84e4b",
   "metadata": {},
   "outputs": [
    {
     "data": {
      "text/plain": [
       "[100, 150, 51, 99, 20, 99, 200, 99, 120, 101, 99]"
      ]
     },
     "execution_count": 44,
     "metadata": {},
     "output_type": "execute_result"
    }
   ],
   "source": [
    "runs"
   ]
  },
  {
   "cell_type": "code",
   "execution_count": 46,
   "id": "59192aa2-227c-479d-bbbc-dc9bf3936f94",
   "metadata": {},
   "outputs": [],
   "source": [
    "runs.extend(ipl)"
   ]
  },
  {
   "cell_type": "code",
   "execution_count": 47,
   "id": "a220adb2-1248-447e-b4af-3bcff8e8c6a8",
   "metadata": {},
   "outputs": [
    {
     "data": {
      "text/plain": [
       "[100, 150, 51, 99, 20, 99, 200, 99, 120, 101, 99, 80, 108, 99]"
      ]
     },
     "execution_count": 47,
     "metadata": {},
     "output_type": "execute_result"
    }
   ],
   "source": [
    "runs"
   ]
  },
  {
   "cell_type": "code",
   "execution_count": null,
   "id": "42c8544f-e012-48ca-8aa5-5b87ab8bd426",
   "metadata": {},
   "outputs": [],
   "source": []
  },
  {
   "cell_type": "code",
   "execution_count": 49,
   "id": "9cc8c50d-0fdd-4e81-b7cb-795b5184ab70",
   "metadata": {},
   "outputs": [
    {
     "data": {
      "text/plain": [
       "[1, 2, 3, 4, 5, 6]"
      ]
     },
     "execution_count": 49,
     "metadata": {},
     "output_type": "execute_result"
    }
   ],
   "source": [
    "# concatenation\n",
    "[1, 2, 3] + [4, 5, 6]"
   ]
  },
  {
   "cell_type": "code",
   "execution_count": 50,
   "id": "b52cf328-27af-4ec2-8085-4a53ccb00ace",
   "metadata": {},
   "outputs": [],
   "source": [
    "l1 = [1, 2, 3]\n",
    "l2 = [4, 5, 6]"
   ]
  },
  {
   "cell_type": "code",
   "execution_count": 54,
   "id": "d775daa3-f089-4cc3-a72f-56af004b5cc8",
   "metadata": {},
   "outputs": [],
   "source": [
    "l2 = l1 + l2"
   ]
  },
  {
   "cell_type": "code",
   "execution_count": 56,
   "id": "0e7b5ab2-97b4-460f-a500-2df886f0d539",
   "metadata": {},
   "outputs": [
    {
     "data": {
      "text/plain": [
       "[1, 2, 3, 4, 5, 6]"
      ]
     },
     "execution_count": 56,
     "metadata": {},
     "output_type": "execute_result"
    }
   ],
   "source": [
    "l2"
   ]
  },
  {
   "cell_type": "code",
   "execution_count": null,
   "id": "e3670cf3-7d2c-48be-8954-94657f65de11",
   "metadata": {},
   "outputs": [],
   "source": []
  },
  {
   "cell_type": "code",
   "execution_count": 57,
   "id": "eaddb016-4dc7-4cd9-8c36-8a19dd48e8dd",
   "metadata": {},
   "outputs": [],
   "source": [
    "# Remove data"
   ]
  },
  {
   "cell_type": "code",
   "execution_count": 58,
   "id": "e9f21544-19d9-4888-b0e5-b367de48caf4",
   "metadata": {},
   "outputs": [
    {
     "data": {
      "text/plain": [
       "[100, 150, 51, 99, 20, 99, 200, 99, 120, 101, 99, 80, 108, 99]"
      ]
     },
     "execution_count": 58,
     "metadata": {},
     "output_type": "execute_result"
    }
   ],
   "source": [
    "runs"
   ]
  },
  {
   "cell_type": "code",
   "execution_count": 68,
   "id": "7f096e2d-5b13-4177-a6a2-c1d70ce43edc",
   "metadata": {},
   "outputs": [],
   "source": [
    "# list.pop()"
   ]
  },
  {
   "cell_type": "markdown",
   "id": "66bda203-67e0-4ee7-852e-24821b001bfe",
   "metadata": {},
   "source": [
    "- removes element from last by default\n",
    "- pop returns the data as well\n",
    "- pop removes data using index"
   ]
  },
  {
   "cell_type": "code",
   "execution_count": 61,
   "id": "5ccb34f0-e037-4609-966b-5b4f8ad2958f",
   "metadata": {},
   "outputs": [],
   "source": [
    "deleted = runs.pop()"
   ]
  },
  {
   "cell_type": "code",
   "execution_count": 62,
   "id": "b1bbd710-c227-48f1-9cd5-f7748166bfb5",
   "metadata": {},
   "outputs": [
    {
     "name": "stdout",
     "output_type": "stream",
     "text": [
      "99\n"
     ]
    }
   ],
   "source": [
    "print(deleted)"
   ]
  },
  {
   "cell_type": "code",
   "execution_count": 63,
   "id": "34f69577-21b7-47b4-af10-eb51cec04aa2",
   "metadata": {},
   "outputs": [],
   "source": [
    "deleted = runs.pop()"
   ]
  },
  {
   "cell_type": "code",
   "execution_count": 64,
   "id": "4798b91b-1637-4f47-a649-97b6d95e7be0",
   "metadata": {},
   "outputs": [
    {
     "name": "stdout",
     "output_type": "stream",
     "text": [
      "108\n"
     ]
    }
   ],
   "source": [
    "print(deleted)"
   ]
  },
  {
   "cell_type": "code",
   "execution_count": 65,
   "id": "f355d1da-3755-469c-944e-1796c5d6488e",
   "metadata": {},
   "outputs": [
    {
     "data": {
      "text/plain": [
       "[100, 150, 51, 99, 20, 99, 200, 99, 120, 101, 99, 80]"
      ]
     },
     "execution_count": 65,
     "metadata": {},
     "output_type": "execute_result"
    }
   ],
   "source": [
    "runs"
   ]
  },
  {
   "cell_type": "code",
   "execution_count": 66,
   "id": "84c9bb2a-ab28-4add-8cd7-6ba6ef3ae9a8",
   "metadata": {},
   "outputs": [
    {
     "data": {
      "text/plain": [
       "80"
      ]
     },
     "execution_count": 66,
     "metadata": {},
     "output_type": "execute_result"
    }
   ],
   "source": [
    "runs.pop()"
   ]
  },
  {
   "cell_type": "code",
   "execution_count": 67,
   "id": "db198b7c-64e1-4875-a1b7-70e120c79f6e",
   "metadata": {},
   "outputs": [
    {
     "data": {
      "text/plain": [
       "[100, 150, 51, 99, 20, 99, 200, 99, 120, 101, 99]"
      ]
     },
     "execution_count": 67,
     "metadata": {},
     "output_type": "execute_result"
    }
   ],
   "source": [
    "runs"
   ]
  },
  {
   "cell_type": "code",
   "execution_count": 71,
   "id": "3275aac2-aaab-46ba-916d-9eb3f883ae77",
   "metadata": {},
   "outputs": [
    {
     "data": {
      "text/plain": [
       "100"
      ]
     },
     "execution_count": 71,
     "metadata": {},
     "output_type": "execute_result"
    }
   ],
   "source": [
    "runs.pop(0)"
   ]
  },
  {
   "cell_type": "code",
   "execution_count": 72,
   "id": "c29ffffb-51eb-4843-851d-34c607e4e32e",
   "metadata": {},
   "outputs": [
    {
     "data": {
      "text/plain": [
       "[150, 51, 99, 20, 99, 200, 99, 120, 101, 99]"
      ]
     },
     "execution_count": 72,
     "metadata": {},
     "output_type": "execute_result"
    }
   ],
   "source": [
    "runs"
   ]
  },
  {
   "cell_type": "code",
   "execution_count": null,
   "id": "54ee0299-ab31-4928-b780-6bc875fbcc0e",
   "metadata": {},
   "outputs": [],
   "source": []
  },
  {
   "cell_type": "code",
   "execution_count": 70,
   "id": "243f1e44-32ae-424d-a5a2-44ac59a23af7",
   "metadata": {},
   "outputs": [],
   "source": [
    "# list.remove(value)"
   ]
  },
  {
   "cell_type": "markdown",
   "id": "7a8054c9-f675-40ee-8d3b-9edb8b66ab65",
   "metadata": {},
   "source": [
    "- removes the first occurence of a particular value from our list\n",
    "- It doesn't return the data"
   ]
  },
  {
   "cell_type": "code",
   "execution_count": 78,
   "id": "6da1d06d-60c4-40e3-9115-c81b70a164b0",
   "metadata": {},
   "outputs": [
    {
     "data": {
      "text/plain": [
       "[150, 51, 99, 20, 99, 200, 99, 120, 101, 99]"
      ]
     },
     "execution_count": 78,
     "metadata": {},
     "output_type": "execute_result"
    }
   ],
   "source": [
    "runs"
   ]
  },
  {
   "cell_type": "code",
   "execution_count": 79,
   "id": "a88a7909-fe83-45f3-8fce-d8c3336f0cde",
   "metadata": {},
   "outputs": [],
   "source": [
    "runs.remove(99)"
   ]
  },
  {
   "cell_type": "code",
   "execution_count": 80,
   "id": "ea2b4a85-f372-4d6f-ae33-f6196aaaa072",
   "metadata": {},
   "outputs": [
    {
     "data": {
      "text/plain": [
       "[150, 51, 20, 99, 200, 99, 120, 101, 99]"
      ]
     },
     "execution_count": 80,
     "metadata": {},
     "output_type": "execute_result"
    }
   ],
   "source": [
    "runs"
   ]
  },
  {
   "cell_type": "code",
   "execution_count": 81,
   "id": "14f97728-c7c1-4ac1-b532-24c0a1bed6be",
   "metadata": {},
   "outputs": [],
   "source": [
    "removed = runs.remove(20)"
   ]
  },
  {
   "cell_type": "code",
   "execution_count": 82,
   "id": "70a3e5b0-b317-4f7a-96f2-a8d21bb2c4df",
   "metadata": {},
   "outputs": [
    {
     "name": "stdout",
     "output_type": "stream",
     "text": [
      "None\n"
     ]
    }
   ],
   "source": [
    "print(removed)"
   ]
  },
  {
   "cell_type": "code",
   "execution_count": null,
   "id": "892b1927-e76f-4165-94d7-394a03e51add",
   "metadata": {},
   "outputs": [],
   "source": []
  },
  {
   "cell_type": "code",
   "execution_count": 84,
   "id": "32a8cc8c-2871-47fd-9dac-8ac081964232",
   "metadata": {},
   "outputs": [],
   "source": [
    "# list.count()"
   ]
  },
  {
   "cell_type": "code",
   "execution_count": 85,
   "id": "cc5bd350-208c-498e-99ce-4447761adc20",
   "metadata": {},
   "outputs": [
    {
     "data": {
      "text/plain": [
       "[150, 51, 99, 200, 99, 120, 101, 99]"
      ]
     },
     "execution_count": 85,
     "metadata": {},
     "output_type": "execute_result"
    }
   ],
   "source": [
    "runs"
   ]
  },
  {
   "cell_type": "code",
   "execution_count": 87,
   "id": "6adf4c93-0a17-455e-b168-f59fb071f7a0",
   "metadata": {},
   "outputs": [
    {
     "data": {
      "text/plain": [
       "3"
      ]
     },
     "execution_count": 87,
     "metadata": {},
     "output_type": "execute_result"
    }
   ],
   "source": [
    "runs.count(99)"
   ]
  },
  {
   "cell_type": "code",
   "execution_count": 88,
   "id": "3aa8fba5-5c1a-40f4-a189-815187f5e326",
   "metadata": {},
   "outputs": [
    {
     "data": {
      "text/plain": [
       "0"
      ]
     },
     "execution_count": 88,
     "metadata": {},
     "output_type": "execute_result"
    }
   ],
   "source": [
    "runs.count(97243712)"
   ]
  },
  {
   "cell_type": "code",
   "execution_count": null,
   "id": "84466151-9237-47f6-8ec7-4e03718a0bde",
   "metadata": {},
   "outputs": [],
   "source": []
  },
  {
   "cell_type": "markdown",
   "id": "a145d755-3ecb-4739-bb7a-40d8c50a8578",
   "metadata": {},
   "source": [
    "### Membership Operator\n",
    "- in operator"
   ]
  },
  {
   "cell_type": "code",
   "execution_count": 89,
   "id": "8695a96f-9877-4c29-81cb-890689449a51",
   "metadata": {},
   "outputs": [
    {
     "data": {
      "text/plain": [
       "[150, 51, 99, 200, 99, 120, 101, 99]"
      ]
     },
     "execution_count": 89,
     "metadata": {},
     "output_type": "execute_result"
    }
   ],
   "source": [
    "runs"
   ]
  },
  {
   "cell_type": "code",
   "execution_count": 90,
   "id": "f724cb3d-810e-4cc0-b4a7-d12c49af4fd7",
   "metadata": {},
   "outputs": [
    {
     "name": "stdout",
     "output_type": "stream",
     "text": [
      "True\n"
     ]
    }
   ],
   "source": [
    "print(120 in runs)"
   ]
  },
  {
   "cell_type": "code",
   "execution_count": 91,
   "id": "1b195b06-8e0e-4bc5-8b4c-8c2d7ce08136",
   "metadata": {},
   "outputs": [
    {
     "name": "stdout",
     "output_type": "stream",
     "text": [
      "True\n"
     ]
    }
   ],
   "source": [
    "print(99 in runs)"
   ]
  },
  {
   "cell_type": "code",
   "execution_count": 92,
   "id": "e210d5da-0e9f-4242-b589-83d5ffbde9f4",
   "metadata": {},
   "outputs": [
    {
     "name": "stdout",
     "output_type": "stream",
     "text": [
      "False\n"
     ]
    }
   ],
   "source": [
    "print(12 in runs)"
   ]
  },
  {
   "cell_type": "code",
   "execution_count": 93,
   "id": "91f010fe-18eb-4801-b8a1-ac960de3a0ee",
   "metadata": {},
   "outputs": [
    {
     "name": "stdout",
     "output_type": "stream",
     "text": [
      "True\n"
     ]
    }
   ],
   "source": [
    "name = \"Rahul\"\n",
    "\n",
    "print('a' in name)"
   ]
  },
  {
   "cell_type": "code",
   "execution_count": 94,
   "id": "8948a9bb-d92b-4e48-8566-4fcffb69b102",
   "metadata": {},
   "outputs": [
    {
     "name": "stdout",
     "output_type": "stream",
     "text": [
      "False\n"
     ]
    }
   ],
   "source": [
    "print('p' in name)"
   ]
  },
  {
   "cell_type": "code",
   "execution_count": null,
   "id": "ca1979fa-1fa1-4a79-ac73-729cbdf56ef0",
   "metadata": {},
   "outputs": [],
   "source": []
  },
  {
   "cell_type": "code",
   "execution_count": null,
   "id": "08f137c6-beb4-4cae-b662-600725b42a71",
   "metadata": {},
   "outputs": [],
   "source": []
  },
  {
   "cell_type": "markdown",
   "id": "5dfa0957-2b4c-4f6d-a5c9-0eebb7f94515",
   "metadata": {},
   "source": [
    "### Iterating a list"
   ]
  },
  {
   "cell_type": "code",
   "execution_count": 95,
   "id": "fe2c9109-975c-43de-afcb-578fdaf2dc0b",
   "metadata": {},
   "outputs": [],
   "source": [
    "# Lists are iterable as well"
   ]
  },
  {
   "cell_type": "code",
   "execution_count": 97,
   "id": "8e308669-3010-46e7-918f-3b81f474eb8b",
   "metadata": {},
   "outputs": [],
   "source": [
    "# for iterator in iterable:\n",
    "#     Do something"
   ]
  },
  {
   "cell_type": "code",
   "execution_count": 96,
   "id": "d3c648db-8645-4e30-a2cb-93208aaf2b89",
   "metadata": {},
   "outputs": [
    {
     "name": "stdout",
     "output_type": "stream",
     "text": [
      "0\n",
      "1\n",
      "2\n",
      "3\n",
      "4\n"
     ]
    }
   ],
   "source": [
    "for i in range(5):\n",
    "    print(i)"
   ]
  },
  {
   "cell_type": "code",
   "execution_count": 108,
   "id": "c4f582b6-83f3-4fbe-9e01-e33fc2328744",
   "metadata": {},
   "outputs": [
    {
     "name": "stdout",
     "output_type": "stream",
     "text": [
      "['__bool__', '__class__', '__contains__', '__delattr__', '__dir__', '__doc__', '__eq__', '__format__', '__ge__', '__getattribute__', '__getitem__', '__gt__', '__hash__', '__init__', '__init_subclass__', '__iter__', '__le__', '__len__', '__lt__', '__ne__', '__new__', '__reduce__', '__reduce_ex__', '__repr__', '__reversed__', '__setattr__', '__sizeof__', '__str__', '__subclasshook__', 'count', 'index', 'start', 'step', 'stop']\n"
     ]
    }
   ],
   "source": [
    "print(dir(range(1)))"
   ]
  },
  {
   "cell_type": "code",
   "execution_count": 110,
   "id": "c54b7875-9a27-4389-b800-54ea810c1188",
   "metadata": {},
   "outputs": [
    {
     "name": "stdout",
     "output_type": "stream",
     "text": [
      "['__add__', '__class__', '__class_getitem__', '__contains__', '__delattr__', '__delitem__', '__dir__', '__doc__', '__eq__', '__format__', '__ge__', '__getattribute__', '__getitem__', '__gt__', '__hash__', '__iadd__', '__imul__', '__init__', '__init_subclass__', '__iter__', '__le__', '__len__', '__lt__', '__mul__', '__ne__', '__new__', '__reduce__', '__reduce_ex__', '__repr__', '__reversed__', '__rmul__', '__setattr__', '__setitem__', '__sizeof__', '__str__', '__subclasshook__', 'append', 'clear', 'copy', 'count', 'extend', 'index', 'insert', 'pop', 'remove', 'reverse', 'sort']\n"
     ]
    }
   ],
   "source": [
    "print(dir(runs))"
   ]
  },
  {
   "cell_type": "code",
   "execution_count": 111,
   "id": "78145b62-9f29-4bfe-b57e-0d9d8e44e2be",
   "metadata": {},
   "outputs": [
    {
     "data": {
      "text/plain": [
       "[150, 51, 99, 200, 99, 120, 101, 99]"
      ]
     },
     "execution_count": 111,
     "metadata": {},
     "output_type": "execute_result"
    }
   ],
   "source": [
    "runs"
   ]
  },
  {
   "cell_type": "code",
   "execution_count": 113,
   "id": "23588642-030b-4252-80c0-72b3123d36a7",
   "metadata": {},
   "outputs": [
    {
     "name": "stdout",
     "output_type": "stream",
     "text": [
      "150 51 99 200 99 120 101 99 "
     ]
    }
   ],
   "source": [
    "for i in runs:\n",
    "    print(i, end=\" \")"
   ]
  },
  {
   "cell_type": "code",
   "execution_count": null,
   "id": "c11bcdce-9cbd-4ac6-9bae-b9a78d15c679",
   "metadata": {},
   "outputs": [],
   "source": []
  },
  {
   "cell_type": "code",
   "execution_count": 114,
   "id": "62b1233b-8daf-48ce-bc28-078725bebad4",
   "metadata": {},
   "outputs": [],
   "source": [
    "# Quiz"
   ]
  },
  {
   "cell_type": "code",
   "execution_count": 115,
   "id": "fb79ed5c-77ab-4167-b729-88a2c07d964e",
   "metadata": {},
   "outputs": [
    {
     "name": "stdout",
     "output_type": "stream",
     "text": [
      "5 4 3 2 1 "
     ]
    }
   ],
   "source": [
    "my_list = [1, 2, 3, 4, 5]\n",
    "i = -1\n",
    "while i >= -5:\n",
    "    print(my_list[i], end=\" \")\n",
    "    i -= 1"
   ]
  },
  {
   "cell_type": "code",
   "execution_count": null,
   "id": "aab2c304-e694-4917-87e4-f8a6b7dfdc5e",
   "metadata": {},
   "outputs": [],
   "source": []
  },
  {
   "cell_type": "markdown",
   "id": "acb947fc-2332-4515-b49a-ad0de2ef6db2",
   "metadata": {},
   "source": [
    "#### Iterating a list using range of indexes"
   ]
  },
  {
   "cell_type": "code",
   "execution_count": 116,
   "id": "bf77f7f3-e0ab-4d5c-bdb5-baf82cf9c2be",
   "metadata": {},
   "outputs": [
    {
     "data": {
      "text/plain": [
       "[150, 51, 99, 200, 99, 120, 101, 99]"
      ]
     },
     "execution_count": 116,
     "metadata": {},
     "output_type": "execute_result"
    }
   ],
   "source": [
    "runs"
   ]
  },
  {
   "cell_type": "code",
   "execution_count": 119,
   "id": "2f575e5d-b948-4ff3-94c3-25dfa02ebf97",
   "metadata": {},
   "outputs": [],
   "source": [
    "n = len(runs)"
   ]
  },
  {
   "cell_type": "code",
   "execution_count": 120,
   "id": "cef8b50e-df86-450c-9a2e-03b5d357066c",
   "metadata": {},
   "outputs": [
    {
     "data": {
      "text/plain": [
       "8"
      ]
     },
     "execution_count": 120,
     "metadata": {},
     "output_type": "execute_result"
    }
   ],
   "source": [
    "n"
   ]
  },
  {
   "cell_type": "code",
   "execution_count": 121,
   "id": "83d17843-51ff-4b00-b6c1-1b428870eeec",
   "metadata": {},
   "outputs": [
    {
     "name": "stdout",
     "output_type": "stream",
     "text": [
      "0\n",
      "1\n",
      "2\n",
      "3\n",
      "4\n",
      "5\n",
      "6\n",
      "7\n"
     ]
    }
   ],
   "source": [
    "for i in range(n):\n",
    "    print(i)"
   ]
  },
  {
   "cell_type": "code",
   "execution_count": 122,
   "id": "3f0ea09e-855c-4490-8886-cc61a9608fc5",
   "metadata": {},
   "outputs": [
    {
     "name": "stdout",
     "output_type": "stream",
     "text": [
      "0 150\n",
      "1 51\n",
      "2 99\n",
      "3 200\n",
      "4 99\n",
      "5 120\n",
      "6 101\n",
      "7 99\n"
     ]
    }
   ],
   "source": [
    "for i in range(n):\n",
    "    print(i, runs[i])"
   ]
  },
  {
   "cell_type": "code",
   "execution_count": null,
   "id": "49183a78-c314-42e9-9854-6bc4c09f084e",
   "metadata": {},
   "outputs": [],
   "source": []
  },
  {
   "cell_type": "code",
   "execution_count": null,
   "id": "3a1c3413-867f-49d1-84a1-bd18e2b3640a",
   "metadata": {},
   "outputs": [],
   "source": []
  },
  {
   "cell_type": "code",
   "execution_count": null,
   "id": "0ad0536d-287d-4d20-811f-bd0842bbbe39",
   "metadata": {},
   "outputs": [],
   "source": []
  },
  {
   "cell_type": "markdown",
   "id": "ddbc306a-fd68-4fe8-83a2-1f6668ff24ce",
   "metadata": {},
   "source": [
    "#### Total runs scored by Sachin in his career"
   ]
  },
  {
   "cell_type": "code",
   "execution_count": 123,
   "id": "370fad40-2a2d-41ea-a744-13689194de1e",
   "metadata": {},
   "outputs": [],
   "source": [
    "# Sum"
   ]
  },
  {
   "cell_type": "code",
   "execution_count": 124,
   "id": "1bd4283f-ae38-4559-aa68-796189ccfac8",
   "metadata": {},
   "outputs": [
    {
     "data": {
      "text/plain": [
       "[150, 51, 99, 200, 99, 120, 101, 99]"
      ]
     },
     "execution_count": 124,
     "metadata": {},
     "output_type": "execute_result"
    }
   ],
   "source": [
    "runs"
   ]
  },
  {
   "cell_type": "code",
   "execution_count": 126,
   "id": "b4fd0cf6-c81c-43d1-8c07-890957c5acaa",
   "metadata": {},
   "outputs": [
    {
     "name": "stdout",
     "output_type": "stream",
     "text": [
      "919\n"
     ]
    }
   ],
   "source": [
    "total = 0\n",
    "\n",
    "for i in runs:\n",
    "    total += i\n",
    "    \n",
    "print(total)"
   ]
  },
  {
   "cell_type": "code",
   "execution_count": 127,
   "id": "e9282abb-2dda-48c3-9ac4-c6a5906ba6f9",
   "metadata": {},
   "outputs": [
    {
     "data": {
      "text/plain": [
       "919"
      ]
     },
     "execution_count": 127,
     "metadata": {},
     "output_type": "execute_result"
    }
   ],
   "source": [
    "sum(runs)"
   ]
  },
  {
   "cell_type": "code",
   "execution_count": 133,
   "id": "a197f8ed-86a3-4b8e-a781-99ffd8048edf",
   "metadata": {},
   "outputs": [],
   "source": [
    "avg = sum(runs) / len(runs)"
   ]
  },
  {
   "cell_type": "code",
   "execution_count": 134,
   "id": "8ad167ad-f091-4036-95e7-94637f769579",
   "metadata": {},
   "outputs": [
    {
     "data": {
      "text/plain": [
       "114.875"
      ]
     },
     "execution_count": 134,
     "metadata": {},
     "output_type": "execute_result"
    }
   ],
   "source": [
    "avg"
   ]
  },
  {
   "cell_type": "code",
   "execution_count": null,
   "id": "3cc08d25-bfef-4b70-8c13-92e877cfa0a5",
   "metadata": {},
   "outputs": [],
   "source": []
  },
  {
   "cell_type": "code",
   "execution_count": 128,
   "id": "5348e6fb-fd6f-46a1-b41e-4a79e90a8472",
   "metadata": {},
   "outputs": [],
   "source": [
    "# Min, Max"
   ]
  },
  {
   "cell_type": "code",
   "execution_count": 129,
   "id": "9908f277-a504-4c3f-9977-9b7c1834445e",
   "metadata": {},
   "outputs": [
    {
     "data": {
      "text/plain": [
       "[150, 51, 99, 200, 99, 120, 101, 99]"
      ]
     },
     "execution_count": 129,
     "metadata": {},
     "output_type": "execute_result"
    }
   ],
   "source": [
    "runs"
   ]
  },
  {
   "cell_type": "code",
   "execution_count": 130,
   "id": "79c78e19-5311-4ed0-98b7-f3b7cc372bf0",
   "metadata": {},
   "outputs": [
    {
     "data": {
      "text/plain": [
       "51"
      ]
     },
     "execution_count": 130,
     "metadata": {},
     "output_type": "execute_result"
    }
   ],
   "source": [
    "min(runs)"
   ]
  },
  {
   "cell_type": "code",
   "execution_count": 131,
   "id": "89e1f8c5-a0e4-4022-877d-65ae0ded5acc",
   "metadata": {},
   "outputs": [
    {
     "data": {
      "text/plain": [
       "200"
      ]
     },
     "execution_count": 131,
     "metadata": {},
     "output_type": "execute_result"
    }
   ],
   "source": [
    "max(runs)"
   ]
  },
  {
   "cell_type": "code",
   "execution_count": 132,
   "id": "c6c9d6a1-af97-4b79-aab6-0e70a0efb1c8",
   "metadata": {},
   "outputs": [],
   "source": [
    "# HW: Find min, max, avg runs wihtout using inbuilt functions"
   ]
  },
  {
   "cell_type": "code",
   "execution_count": null,
   "id": "cbdf7e89-da81-4941-98fd-aad1987b8359",
   "metadata": {},
   "outputs": [],
   "source": []
  },
  {
   "cell_type": "code",
   "execution_count": null,
   "id": "43de70bf-c620-469e-892a-767444abbf7e",
   "metadata": {},
   "outputs": [],
   "source": []
  },
  {
   "cell_type": "markdown",
   "id": "c3faad30-326e-4c9d-919b-56ad69751fa7",
   "metadata": {},
   "source": [
    "#### Print the runs scored by Sachin in even index matches"
   ]
  },
  {
   "cell_type": "code",
   "execution_count": 135,
   "id": "989064ac-972b-49b1-a0de-ea156fd5fe88",
   "metadata": {},
   "outputs": [
    {
     "data": {
      "text/plain": [
       "[150, 51, 99, 200, 99, 120, 101, 99]"
      ]
     },
     "execution_count": 135,
     "metadata": {},
     "output_type": "execute_result"
    }
   ],
   "source": [
    "runs"
   ]
  },
  {
   "cell_type": "code",
   "execution_count": null,
   "id": "de3652f6-c4f4-43bc-aaa5-cd13c5ebf5ec",
   "metadata": {},
   "outputs": [],
   "source": []
  },
  {
   "cell_type": "code",
   "execution_count": 137,
   "id": "fff8a4de-8aaa-4e60-8da2-254120afc904",
   "metadata": {},
   "outputs": [],
   "source": [
    "# Following code prints even runs not even idex runs"
   ]
  },
  {
   "cell_type": "code",
   "execution_count": 138,
   "id": "ed4f8ff9-0e89-4387-bba6-72c02782e331",
   "metadata": {},
   "outputs": [
    {
     "name": "stdout",
     "output_type": "stream",
     "text": [
      "150\n",
      "200\n",
      "120\n"
     ]
    }
   ],
   "source": [
    "for i in runs:\n",
    "    if i % 2 == 0:\n",
    "        print(i)"
   ]
  },
  {
   "cell_type": "code",
   "execution_count": null,
   "id": "a69ac803-f87e-4f75-8e26-5100c862cd55",
   "metadata": {},
   "outputs": [],
   "source": []
  },
  {
   "cell_type": "code",
   "execution_count": 140,
   "id": "c237eb45-44a3-4017-ac67-34a5b1d31d7d",
   "metadata": {},
   "outputs": [
    {
     "data": {
      "text/plain": [
       "[150, 51, 99, 200, 99, 120, 101, 99]"
      ]
     },
     "execution_count": 140,
     "metadata": {},
     "output_type": "execute_result"
    }
   ],
   "source": [
    "runs"
   ]
  },
  {
   "cell_type": "code",
   "execution_count": 141,
   "id": "69916250-f234-4c3a-9e70-173589953a8a",
   "metadata": {},
   "outputs": [
    {
     "name": "stdout",
     "output_type": "stream",
     "text": [
      "0\n",
      "1\n",
      "2\n",
      "3\n",
      "4\n",
      "5\n",
      "6\n",
      "7\n"
     ]
    }
   ],
   "source": [
    "# Following are indexes of my runs\n",
    "\n",
    "for i in range(len(runs)):\n",
    "    print(i)"
   ]
  },
  {
   "cell_type": "code",
   "execution_count": 142,
   "id": "c1763c30-2f77-468b-9fd8-92bb011f02b1",
   "metadata": {},
   "outputs": [],
   "source": [
    "# filter out even indexes"
   ]
  },
  {
   "cell_type": "code",
   "execution_count": 143,
   "id": "290df3d4-1834-4897-8667-5763f773ad5a",
   "metadata": {},
   "outputs": [
    {
     "name": "stdout",
     "output_type": "stream",
     "text": [
      "0\n",
      "2\n",
      "4\n",
      "6\n"
     ]
    }
   ],
   "source": [
    "for i in range(len(runs)):\n",
    "    if i % 2 == 0:\n",
    "        print(i)"
   ]
  },
  {
   "cell_type": "code",
   "execution_count": 144,
   "id": "84172a2b-a407-4946-9422-652bbc394830",
   "metadata": {},
   "outputs": [],
   "source": [
    "# Print values at even indexes"
   ]
  },
  {
   "cell_type": "code",
   "execution_count": 145,
   "id": "596eb0c5-0fe2-4f80-8751-630964d96625",
   "metadata": {},
   "outputs": [
    {
     "name": "stdout",
     "output_type": "stream",
     "text": [
      "0 150\n",
      "2 99\n",
      "4 99\n",
      "6 101\n"
     ]
    }
   ],
   "source": [
    "for i in range(len(runs)):\n",
    "    if i % 2 == 0:\n",
    "        print(i, runs[i])"
   ]
  },
  {
   "cell_type": "code",
   "execution_count": 146,
   "id": "8647f22e-ab10-4394-9655-82bfd87142f1",
   "metadata": {},
   "outputs": [
    {
     "data": {
      "text/plain": [
       "[150, 51, 99, 200, 99, 120, 101, 99]"
      ]
     },
     "execution_count": 146,
     "metadata": {},
     "output_type": "execute_result"
    }
   ],
   "source": [
    "runs"
   ]
  },
  {
   "cell_type": "code",
   "execution_count": null,
   "id": "97db06cb-003b-4316-be3b-12376a8a31dd",
   "metadata": {},
   "outputs": [],
   "source": []
  },
  {
   "cell_type": "code",
   "execution_count": 148,
   "id": "75685ff5-32e7-438d-a00f-0e6e41d8c9e5",
   "metadata": {},
   "outputs": [
    {
     "name": "stdout",
     "output_type": "stream",
     "text": [
      "0 150\n",
      "2 99\n",
      "4 99\n",
      "6 101\n"
     ]
    }
   ],
   "source": [
    "for i in range(0, len(runs), 2):\n",
    "    print(i, runs[i])"
   ]
  },
  {
   "cell_type": "code",
   "execution_count": null,
   "id": "2e2ce970-33cc-4707-9c1d-29b53ab4aceb",
   "metadata": {},
   "outputs": [],
   "source": []
  },
  {
   "cell_type": "code",
   "execution_count": null,
   "id": "69636c2e-7a14-4f47-a856-eb2f056c7b95",
   "metadata": {},
   "outputs": [],
   "source": []
  },
  {
   "cell_type": "markdown",
   "id": "6858831d-fe25-41ae-8810-4fbdb24e656b",
   "metadata": {},
   "source": [
    "### Taking list of numbers as input"
   ]
  },
  {
   "cell_type": "markdown",
   "id": "2b094a9a-89b5-4647-a72b-5f32ace8dde5",
   "metadata": {},
   "source": [
    "- Getting the number of elements\n",
    "- Initializing an empty list\n",
    "- Use a loop\n",
    "- Get input for each element"
   ]
  },
  {
   "cell_type": "code",
   "execution_count": 149,
   "id": "aa956a2f-17c4-4778-ad18-1ac375477304",
   "metadata": {},
   "outputs": [
    {
     "name": "stdin",
     "output_type": "stream",
     "text": [
      "How many elements do you need 4\n",
      "Value 12\n",
      "Value 9\n",
      "Value 3\n",
      "Value 1\n"
     ]
    }
   ],
   "source": [
    "# 1. How many elements do we need in our list\n",
    "n = int(input(\"How many elements do you need\"))\n",
    "\n",
    "# 2. Initialize an empty list\n",
    "my_list = []\n",
    "\n",
    "# 3. Run a loop\n",
    "for i in range(n):\n",
    "    # 4. Take input and add that element into your list\n",
    "    ele = int(input(\"Value\"))\n",
    "    my_list.append(ele)\n",
    "    "
   ]
  },
  {
   "cell_type": "code",
   "execution_count": 150,
   "id": "6411bf41-ba92-43ee-9257-305d69d9456a",
   "metadata": {},
   "outputs": [
    {
     "data": {
      "text/plain": [
       "[12, 9, 3, 1]"
      ]
     },
     "execution_count": 150,
     "metadata": {},
     "output_type": "execute_result"
    }
   ],
   "source": [
    "my_list"
   ]
  },
  {
   "cell_type": "code",
   "execution_count": null,
   "id": "dbf33220-e6ef-4e60-b224-6ac8a4fbd03a",
   "metadata": {},
   "outputs": [],
   "source": []
  },
  {
   "cell_type": "code",
   "execution_count": 151,
   "id": "2c226141-6f72-4014-8e63-13ba693c353b",
   "metadata": {},
   "outputs": [
    {
     "name": "stdin",
     "output_type": "stream",
     "text": [
      " 4\n",
      " 12\n",
      " 34\n",
      " 5\n",
      " 6\n"
     ]
    }
   ],
   "source": [
    "n = int(input())\n",
    "\n",
    "my_list = []\n",
    "\n",
    "for i in range(n):\n",
    "    ele = int(input())\n",
    "    my_list.append(ele)\n",
    "    "
   ]
  },
  {
   "cell_type": "code",
   "execution_count": 152,
   "id": "29b3dab5-91f4-443d-b404-9825a0dfeca9",
   "metadata": {},
   "outputs": [
    {
     "data": {
      "text/plain": [
       "[12, 34, 5, 6]"
      ]
     },
     "execution_count": 152,
     "metadata": {},
     "output_type": "execute_result"
    }
   ],
   "source": [
    "my_list"
   ]
  },
  {
   "cell_type": "code",
   "execution_count": null,
   "id": "3f7737ae-f08b-4e6c-abf2-37814f80727e",
   "metadata": {},
   "outputs": [],
   "source": []
  },
  {
   "cell_type": "code",
   "execution_count": null,
   "id": "99ee481a-02e2-42fb-bc5f-fcd117a6a4ec",
   "metadata": {},
   "outputs": [],
   "source": []
  },
  {
   "cell_type": "code",
   "execution_count": null,
   "id": "d257504f-ea15-4e0c-8f8d-6f3ed53e0950",
   "metadata": {},
   "outputs": [],
   "source": []
  },
  {
   "cell_type": "code",
   "execution_count": null,
   "id": "394dace8-7280-476f-970e-c5c02eb53222",
   "metadata": {},
   "outputs": [],
   "source": []
  },
  {
   "cell_type": "code",
   "execution_count": null,
   "id": "d85c5898-37ca-477c-90bf-9be75b32ab99",
   "metadata": {},
   "outputs": [],
   "source": []
  }
 ],
 "metadata": {
  "kernelspec": {
   "display_name": "Python 3 (ipykernel)",
   "language": "python",
   "name": "python3"
  },
  "language_info": {
   "codemirror_mode": {
    "name": "ipython",
    "version": 3
   },
   "file_extension": ".py",
   "mimetype": "text/x-python",
   "name": "python",
   "nbconvert_exporter": "python",
   "pygments_lexer": "ipython3",
   "version": "3.9.7"
  }
 },
 "nbformat": 4,
 "nbformat_minor": 5
}
