{
 "cells": [
  {
   "cell_type": "markdown",
   "id": "8a6a928b-7cae-43e1-abdf-d6511e376e33",
   "metadata": {},
   "source": [
    "### Functional Programming 2"
   ]
  },
  {
   "cell_type": "markdown",
   "id": "3b686822-0a21-404e-8250-a03beb9bc621",
   "metadata": {},
   "source": [
    "#### Maps"
   ]
  },
  {
   "cell_type": "code",
   "execution_count": 3,
   "id": "427883b7-df58-4777-9753-9212bbe28807",
   "metadata": {},
   "outputs": [],
   "source": [
    "# Given a list of numbers, create a list containing the sqaure of every number.\n",
    "a = [1, 2, 3, 4]"
   ]
  },
  {
   "cell_type": "code",
   "execution_count": 5,
   "id": "33a56cab-a1f3-490b-b49b-fc60ef832594",
   "metadata": {},
   "outputs": [],
   "source": [
    "# res1 = []\n",
    "\n",
    "# for i in a:\n",
    "#     res1.append(i ** 2)\n",
    "    \n",
    "# print(res1)\n",
    "\n",
    "res1 = [i **2 for i in a]"
   ]
  },
  {
   "cell_type": "code",
   "execution_count": 6,
   "id": "34aa108c-a53c-43f3-8d0a-054720b8cc93",
   "metadata": {},
   "outputs": [
    {
     "data": {
      "text/plain": [
       "[1, 4, 9, 16]"
      ]
     },
     "execution_count": 6,
     "metadata": {},
     "output_type": "execute_result"
    }
   ],
   "source": [
    "res1"
   ]
  },
  {
   "cell_type": "code",
   "execution_count": null,
   "id": "60b38a24-fd2d-4341-a1fb-601a5de12485",
   "metadata": {},
   "outputs": [],
   "source": []
  },
  {
   "cell_type": "code",
   "execution_count": 7,
   "id": "c7e967ff-de7c-4cdf-bbdb-40f72d55b7ae",
   "metadata": {},
   "outputs": [],
   "source": [
    "a = [1, 2, 3, 4]"
   ]
  },
  {
   "cell_type": "code",
   "execution_count": 8,
   "id": "dcb6b3d5-38bc-4859-bc05-90056a91c62a",
   "metadata": {},
   "outputs": [],
   "source": [
    "res2 = list(map(lambda x : x ** 2, a))         # map(mapping_function, iterable)"
   ]
  },
  {
   "cell_type": "code",
   "execution_count": 10,
   "id": "7fd8cefd-a76d-4938-a89b-e144c077f853",
   "metadata": {},
   "outputs": [
    {
     "name": "stdout",
     "output_type": "stream",
     "text": [
      "[1, 4, 9, 16]\n"
     ]
    }
   ],
   "source": [
    "print(res2)"
   ]
  },
  {
   "cell_type": "code",
   "execution_count": null,
   "id": "58f9d385-ba7e-48f4-aefe-26774cc5c1fa",
   "metadata": {},
   "outputs": [],
   "source": []
  },
  {
   "cell_type": "code",
   "execution_count": 11,
   "id": "decf5d0b-a644-4b67-98ad-5192e5ac40af",
   "metadata": {},
   "outputs": [],
   "source": [
    "b = list(range(1, 100001))"
   ]
  },
  {
   "cell_type": "code",
   "execution_count": 14,
   "id": "ab8267cf-52b9-4e31-9c35-665e7177565d",
   "metadata": {},
   "outputs": [
    {
     "name": "stdout",
     "output_type": "stream",
     "text": [
      "22 ms ± 711 µs per loop (mean ± std. dev. of 7 runs, 10 loops each)\n"
     ]
    }
   ],
   "source": [
    "%timeit [i ** 2 for i in b]"
   ]
  },
  {
   "cell_type": "code",
   "execution_count": 15,
   "id": "5770a0e4-477b-4402-8d97-64f0bc309e45",
   "metadata": {},
   "outputs": [
    {
     "name": "stdout",
     "output_type": "stream",
     "text": [
      "142 ns ± 4.23 ns per loop (mean ± std. dev. of 7 runs, 10000000 loops each)\n"
     ]
    }
   ],
   "source": [
    "%timeit  map(lambda x : x ** 2, b)"
   ]
  },
  {
   "cell_type": "code",
   "execution_count": null,
   "id": "4e6854c7-3cad-455b-86db-c030d75f4155",
   "metadata": {},
   "outputs": [],
   "source": []
  },
  {
   "cell_type": "code",
   "execution_count": null,
   "id": "6b1b7fda-af7a-418e-8c7d-e617976f9605",
   "metadata": {},
   "outputs": [],
   "source": []
  },
  {
   "cell_type": "code",
   "execution_count": 16,
   "id": "76c6cbb5-ea01-4909-ae07-f35d8420e8c5",
   "metadata": {},
   "outputs": [],
   "source": [
    "# Map a given list of heights to sizes as per a given bifurcation\n",
    "# h < 150 -> S\n",
    "# h >= 150 and < 180 -> M\n",
    "# h >= 180 -> L\n",
    "\n",
    "heights = [144, 167, 189, 170, 190, 150, 165, 178, 200, 130]"
   ]
  },
  {
   "cell_type": "code",
   "execution_count": null,
   "id": "c67d50a6-370a-47d8-8da8-41440889bcb9",
   "metadata": {},
   "outputs": [],
   "source": []
  },
  {
   "cell_type": "code",
   "execution_count": 17,
   "id": "436c07f3-0f96-4060-a4af-3e89791ce71a",
   "metadata": {},
   "outputs": [],
   "source": [
    "def size(h):\n",
    "    if h < 150:\n",
    "        return 'S'\n",
    "    elif h < 180:\n",
    "        return 'M'\n",
    "    else:\n",
    "        return 'L'"
   ]
  },
  {
   "cell_type": "code",
   "execution_count": 18,
   "id": "6ac7a465-daf5-44d3-ba32-7ef5b3bad669",
   "metadata": {},
   "outputs": [],
   "source": [
    "sizes = list(map(size, heights))"
   ]
  },
  {
   "cell_type": "code",
   "execution_count": 19,
   "id": "5068d538-9b1d-412c-ab4e-fdde4389a000",
   "metadata": {},
   "outputs": [
    {
     "data": {
      "text/plain": [
       "['S', 'M', 'L', 'M', 'L', 'M', 'M', 'M', 'L', 'S']"
      ]
     },
     "execution_count": 19,
     "metadata": {},
     "output_type": "execute_result"
    }
   ],
   "source": [
    "sizes"
   ]
  },
  {
   "cell_type": "code",
   "execution_count": 20,
   "id": "169c14e0-728f-422f-9f27-182e2d2d4678",
   "metadata": {},
   "outputs": [],
   "source": [
    "heights = [144, 167, 189, 170, 190, 150, 165, 178, 200, 130]"
   ]
  },
  {
   "cell_type": "code",
   "execution_count": 22,
   "id": "9f81dc64-eaf9-4220-814b-c627ff8f4ffd",
   "metadata": {},
   "outputs": [],
   "source": [
    "ans = list(map(lambda h: 'S' if h < 150 else 'M' if h < 180 else 'L', heights))"
   ]
  },
  {
   "cell_type": "code",
   "execution_count": 23,
   "id": "6d79d4f3-54f9-4ac6-940e-1b0bb83a8fca",
   "metadata": {},
   "outputs": [
    {
     "data": {
      "text/plain": [
       "['S', 'M', 'L', 'M', 'L', 'M', 'M', 'M', 'L', 'S']"
      ]
     },
     "execution_count": 23,
     "metadata": {},
     "output_type": "execute_result"
    }
   ],
   "source": [
    "ans"
   ]
  },
  {
   "cell_type": "code",
   "execution_count": null,
   "id": "d89a315c-3fe6-4a80-9d91-e996a6001fad",
   "metadata": {},
   "outputs": [],
   "source": []
  },
  {
   "cell_type": "code",
   "execution_count": 24,
   "id": "19d5d5ed-8007-49f8-8f6b-d81a4b31c665",
   "metadata": {},
   "outputs": [],
   "source": [
    "A = [10, 20, 30, 40, 50]\n",
    "B = [15, 25, 35, 45, 55]"
   ]
  },
  {
   "cell_type": "code",
   "execution_count": 25,
   "id": "648f0945-2c07-4cb3-957c-2fbdf270b057",
   "metadata": {},
   "outputs": [],
   "source": [
    "result = list(map(lambda x, y: x + y, A, B))"
   ]
  },
  {
   "cell_type": "code",
   "execution_count": 26,
   "id": "57fd71c5-e643-4cd4-8c8d-8877ac73a966",
   "metadata": {},
   "outputs": [
    {
     "data": {
      "text/plain": [
       "[25, 45, 65, 85, 105]"
      ]
     },
     "execution_count": 26,
     "metadata": {},
     "output_type": "execute_result"
    }
   ],
   "source": [
    "result"
   ]
  },
  {
   "cell_type": "code",
   "execution_count": 27,
   "id": "e4410f56-b2e6-4a1c-8bf8-72fe43a79a0b",
   "metadata": {},
   "outputs": [],
   "source": [
    "A = [10, 20, 30, 40, 50, 60, 70, 80]\n",
    "B = [15, 25, 35, 45, 55]"
   ]
  },
  {
   "cell_type": "code",
   "execution_count": 28,
   "id": "3f752f61-778c-46c6-a443-570458388297",
   "metadata": {},
   "outputs": [
    {
     "data": {
      "text/plain": [
       "[25, 45, 65, 85, 105]"
      ]
     },
     "execution_count": 28,
     "metadata": {},
     "output_type": "execute_result"
    }
   ],
   "source": [
    "list(map(lambda x, y: x + y, A, B))"
   ]
  },
  {
   "cell_type": "code",
   "execution_count": 29,
   "id": "3379c3d6-cffa-44fc-9c96-3cafb66451c5",
   "metadata": {},
   "outputs": [],
   "source": [
    "# In above case map will automatically iterate till the end of smaller list"
   ]
  },
  {
   "cell_type": "code",
   "execution_count": null,
   "id": "87309099-2336-4168-8f42-c69625a0bfcd",
   "metadata": {},
   "outputs": [],
   "source": []
  },
  {
   "cell_type": "code",
   "execution_count": 32,
   "id": "76d6541b-380b-437b-8e70-9dbecab53613",
   "metadata": {},
   "outputs": [],
   "source": [
    "A = [10, 20, 30, 40, 50]\n",
    "B = (15, 25, 35, 45, 55)"
   ]
  },
  {
   "cell_type": "code",
   "execution_count": 33,
   "id": "33b43fe5-66d7-4fab-8ecb-e89eb0588912",
   "metadata": {},
   "outputs": [
    {
     "data": {
      "text/plain": [
       "[25, 45, 65, 85, 105]"
      ]
     },
     "execution_count": 33,
     "metadata": {},
     "output_type": "execute_result"
    }
   ],
   "source": [
    "list(map(lambda x, y: x + y, A, B))"
   ]
  },
  {
   "cell_type": "code",
   "execution_count": null,
   "id": "190086d2-b961-4b22-ad7b-95cbc270006f",
   "metadata": {},
   "outputs": [],
   "source": []
  },
  {
   "cell_type": "code",
   "execution_count": null,
   "id": "bc87907d-0eec-40bc-bac4-95b3596586b1",
   "metadata": {},
   "outputs": [],
   "source": []
  },
  {
   "cell_type": "markdown",
   "id": "c825819c-3d4b-4fde-bcff-17962c3d801a",
   "metadata": {},
   "source": [
    "#### Filter"
   ]
  },
  {
   "cell_type": "code",
   "execution_count": 34,
   "id": "748765a2-3db3-4615-8b48-25c8020913cb",
   "metadata": {},
   "outputs": [],
   "source": [
    "a = list(range(1, 21))"
   ]
  },
  {
   "cell_type": "code",
   "execution_count": 35,
   "id": "779ace01-ade3-4390-a4cd-b828f79b1d5a",
   "metadata": {},
   "outputs": [
    {
     "name": "stdout",
     "output_type": "stream",
     "text": [
      "[1, 2, 3, 4, 5, 6, 7, 8, 9, 10, 11, 12, 13, 14, 15, 16, 17, 18, 19, 20]\n"
     ]
    }
   ],
   "source": [
    "print(a)"
   ]
  },
  {
   "cell_type": "code",
   "execution_count": 36,
   "id": "0aa347fd-e05a-40c4-b001-533d44cd3964",
   "metadata": {},
   "outputs": [],
   "source": [
    "evens = list(filter(lambda x : x % 2 == 0, a))"
   ]
  },
  {
   "cell_type": "code",
   "execution_count": 37,
   "id": "af96b67d-dc4f-4072-91ac-65720f134c1c",
   "metadata": {},
   "outputs": [
    {
     "data": {
      "text/plain": [
       "[2, 4, 6, 8, 10, 12, 14, 16, 18, 20]"
      ]
     },
     "execution_count": 37,
     "metadata": {},
     "output_type": "execute_result"
    }
   ],
   "source": [
    "evens"
   ]
  },
  {
   "cell_type": "code",
   "execution_count": null,
   "id": "a893fa0a-72d0-4af2-a1d9-6fa3033dc2c9",
   "metadata": {},
   "outputs": [],
   "source": []
  },
  {
   "cell_type": "markdown",
   "id": "fe5f3ef7-4e1f-4bce-a5f7-9edda5df8b12",
   "metadata": {},
   "source": [
    "#### Zip function"
   ]
  },
  {
   "cell_type": "code",
   "execution_count": 39,
   "id": "40059fd1-7335-4d56-9c69-a0875ff5fd9f",
   "metadata": {},
   "outputs": [],
   "source": [
    "a = [1, 2, 3, 4]\n",
    "b = ('a', 'b', 'c', 'd', 'e')\n",
    "c = [True, False, False, True]"
   ]
  },
  {
   "cell_type": "code",
   "execution_count": 41,
   "id": "b31f21ba-cad8-4ffa-8c43-404096bf24a5",
   "metadata": {},
   "outputs": [
    {
     "data": {
      "text/plain": [
       "[(1, 'a', True), (2, 'b', False), (3, 'c', False), (4, 'd', True)]"
      ]
     },
     "execution_count": 41,
     "metadata": {},
     "output_type": "execute_result"
    }
   ],
   "source": [
    "list(zip(a, b, c))"
   ]
  },
  {
   "cell_type": "code",
   "execution_count": 42,
   "id": "b55253e6-49fc-494d-b30a-b510550e6f95",
   "metadata": {},
   "outputs": [],
   "source": [
    "keys = ['a', 'b', 'c', 'd']\n",
    "values = [97, 98, 99, 100]"
   ]
  },
  {
   "cell_type": "code",
   "execution_count": 47,
   "id": "e47df592-bf3d-4926-8001-98bfd3fde621",
   "metadata": {},
   "outputs": [
    {
     "data": {
      "text/plain": [
       "{'a': 97, 'b': 98, 'c': 99, 'd': 100}"
      ]
     },
     "execution_count": 47,
     "metadata": {},
     "output_type": "execute_result"
    }
   ],
   "source": [
    "dict(zip(keys, values))"
   ]
  },
  {
   "cell_type": "code",
   "execution_count": null,
   "id": "807f6b11-6e45-4fe9-8b6b-430538fa47e5",
   "metadata": {},
   "outputs": [],
   "source": []
  },
  {
   "cell_type": "code",
   "execution_count": null,
   "id": "2a8f3b1f-85bc-467d-afc1-2ef948d2c136",
   "metadata": {},
   "outputs": [],
   "source": []
  },
  {
   "cell_type": "markdown",
   "id": "0dbcc955-4a25-4879-a2c4-7cdc6121f403",
   "metadata": {},
   "source": [
    "#### Reduce"
   ]
  },
  {
   "cell_type": "code",
   "execution_count": 48,
   "id": "877f0d0e-aec9-41c6-9bfb-5329983d6119",
   "metadata": {},
   "outputs": [],
   "source": [
    "from functools import reduce"
   ]
  },
  {
   "cell_type": "code",
   "execution_count": 49,
   "id": "328f64dd-31d2-4370-8ec9-845da4f2a83a",
   "metadata": {},
   "outputs": [],
   "source": [
    "a = [1, 2, 3, 4, 5, 6, 7, 8, 9, 10]"
   ]
  },
  {
   "cell_type": "code",
   "execution_count": 50,
   "id": "829dc65a-5797-4c30-ba63-0b54302c95cf",
   "metadata": {},
   "outputs": [],
   "source": [
    "ans = reduce(lambda x, y : x + y, a)"
   ]
  },
  {
   "cell_type": "code",
   "execution_count": 51,
   "id": "86ffa3d7-c507-4f1c-855e-574cb962e8df",
   "metadata": {},
   "outputs": [
    {
     "data": {
      "text/plain": [
       "55"
      ]
     },
     "execution_count": 51,
     "metadata": {},
     "output_type": "execute_result"
    }
   ],
   "source": [
    "ans"
   ]
  },
  {
   "cell_type": "code",
   "execution_count": 60,
   "id": "40343327-3344-463e-b87f-0ea5001bb19c",
   "metadata": {},
   "outputs": [
    {
     "name": "stdin",
     "output_type": "stream",
     "text": [
      " 4\n"
     ]
    },
    {
     "name": "stdout",
     "output_type": "stream",
     "text": [
      "24\n"
     ]
    }
   ],
   "source": [
    "n = int(input())\n",
    "l = list(range(1, n+1))\n",
    "\n",
    "fact = reduce(lambda x, y: x * y, l)\n",
    "\n",
    "print(fact)"
   ]
  },
  {
   "cell_type": "code",
   "execution_count": 62,
   "id": "582dc2e9-d489-44ec-8791-f51b09a66b16",
   "metadata": {},
   "outputs": [
    {
     "name": "stdin",
     "output_type": "stream",
     "text": [
      " 6\n"
     ]
    },
    {
     "name": "stdout",
     "output_type": "stream",
     "text": [
      "720\n"
     ]
    }
   ],
   "source": [
    "n = int(input())\n",
    "\n",
    "fact = reduce(lambda x, y: x * y, list(range(1, n+1)))\n",
    "\n",
    "print(fact)"
   ]
  },
  {
   "cell_type": "code",
   "execution_count": null,
   "id": "a69ac481-856d-40d8-8f6b-b51d0076b45d",
   "metadata": {},
   "outputs": [],
   "source": []
  },
  {
   "cell_type": "code",
   "execution_count": null,
   "id": "281d56ba-93c3-45a0-bd02-e668b0b53c8d",
   "metadata": {},
   "outputs": [],
   "source": []
  },
  {
   "cell_type": "code",
   "execution_count": 63,
   "id": "315a4858-566d-49e7-b87c-020ed0070337",
   "metadata": {},
   "outputs": [],
   "source": [
    "a = [\"Hey,\", \"please\", \"join\", \"this\", \"sentence.\"]"
   ]
  },
  {
   "cell_type": "code",
   "execution_count": 65,
   "id": "a9b080b4-b16f-40d0-9910-80108566b34d",
   "metadata": {},
   "outputs": [
    {
     "name": "stdin",
     "output_type": "stream",
     "text": [
      "  \n"
     ]
    },
    {
     "data": {
      "text/plain": [
       "'Hey, please join this sentence.'"
      ]
     },
     "execution_count": 65,
     "metadata": {},
     "output_type": "execute_result"
    }
   ],
   "source": [
    "delimiter = input()\n",
    "reduce(lambda x, y: x + delimiter + y, a)"
   ]
  },
  {
   "cell_type": "code",
   "execution_count": null,
   "id": "e6fe8d10-78bc-42b1-bd2a-5344c5617016",
   "metadata": {},
   "outputs": [],
   "source": []
  },
  {
   "cell_type": "code",
   "execution_count": 66,
   "id": "6203735f-2638-425d-ac23-ff338cc24875",
   "metadata": {},
   "outputs": [],
   "source": [
    "# Quiz"
   ]
  },
  {
   "cell_type": "code",
   "execution_count": 68,
   "id": "12bb9050-dbf2-4c89-9311-a41f642fbe2a",
   "metadata": {},
   "outputs": [
    {
     "data": {
      "text/plain": [
       "[(1, 'a'), (2, 'b')]"
      ]
     },
     "execution_count": 68,
     "metadata": {},
     "output_type": "execute_result"
    }
   ],
   "source": [
    "a = [1, 2, 3] \n",
    "b = [\"a\", \"b\"]\n",
    "\n",
    "list(zip(a,b))"
   ]
  },
  {
   "cell_type": "code",
   "execution_count": null,
   "id": "1aa59a2e-4e2b-4759-a68a-45765a2ddba1",
   "metadata": {},
   "outputs": [],
   "source": []
  },
  {
   "cell_type": "code",
   "execution_count": null,
   "id": "97e220e8-e6fd-4922-b56f-2d2cfa8e80fc",
   "metadata": {},
   "outputs": [],
   "source": []
  },
  {
   "cell_type": "markdown",
   "id": "33a7e733-b065-443a-8e9c-d8dbc7af2182",
   "metadata": {},
   "source": [
    "### Args and Kwargs"
   ]
  },
  {
   "cell_type": "code",
   "execution_count": null,
   "id": "664daa86-67af-4246-b6e2-f45e9550b8f4",
   "metadata": {},
   "outputs": [],
   "source": []
  },
  {
   "cell_type": "code",
   "execution_count": 69,
   "id": "58f95a58-3376-4e15-9cde-c80aac33d6b6",
   "metadata": {},
   "outputs": [],
   "source": [
    "def custom_add(x, y):\n",
    "    return x + y"
   ]
  },
  {
   "cell_type": "code",
   "execution_count": 70,
   "id": "1b06a8db-2027-40bf-ab58-9571e5f935aa",
   "metadata": {},
   "outputs": [
    {
     "data": {
      "text/plain": [
       "4"
      ]
     },
     "execution_count": 70,
     "metadata": {},
     "output_type": "execute_result"
    }
   ],
   "source": [
    "custom_add(1, 3)"
   ]
  },
  {
   "cell_type": "code",
   "execution_count": 71,
   "id": "e4540d9d-64cb-4b2f-8a09-66a4b3da34f1",
   "metadata": {},
   "outputs": [
    {
     "ename": "TypeError",
     "evalue": "custom_add() takes 2 positional arguments but 6 were given",
     "output_type": "error",
     "traceback": [
      "\u001b[0;31m---------------------------------------------------------------------------\u001b[0m",
      "\u001b[0;31mTypeError\u001b[0m                                 Traceback (most recent call last)",
      "\u001b[0;32m/var/folders/t5/yhjgrjs907zfp250jyxtw54m0000gn/T/ipykernel_46495/3148160615.py\u001b[0m in \u001b[0;36m<module>\u001b[0;34m\u001b[0m\n\u001b[0;32m----> 1\u001b[0;31m \u001b[0mcustom_add\u001b[0m\u001b[0;34m(\u001b[0m\u001b[0;36m1\u001b[0m\u001b[0;34m,\u001b[0m \u001b[0;36m2\u001b[0m\u001b[0;34m,\u001b[0m \u001b[0;36m3\u001b[0m\u001b[0;34m,\u001b[0m \u001b[0;36m4\u001b[0m\u001b[0;34m,\u001b[0m \u001b[0;36m5\u001b[0m\u001b[0;34m,\u001b[0m \u001b[0;36m6\u001b[0m\u001b[0;34m)\u001b[0m\u001b[0;34m\u001b[0m\u001b[0;34m\u001b[0m\u001b[0m\n\u001b[0m",
      "\u001b[0;31mTypeError\u001b[0m: custom_add() takes 2 positional arguments but 6 were given"
     ]
    }
   ],
   "source": [
    "custom_add(1, 2, 3, 4, 5, 6)"
   ]
  },
  {
   "cell_type": "code",
   "execution_count": 76,
   "id": "3466b88c-6a1e-47ab-85f0-a6480624b7d3",
   "metadata": {},
   "outputs": [],
   "source": [
    "def custom_add(x, y, *args):\n",
    "    print(args)\n",
    "    return x + y"
   ]
  },
  {
   "cell_type": "code",
   "execution_count": 77,
   "id": "75ea6131-3c2c-4c28-80f6-523879293fb2",
   "metadata": {},
   "outputs": [
    {
     "name": "stdout",
     "output_type": "stream",
     "text": [
      "(3, 4, 5, 6, 7, 8, 98, 9)\n"
     ]
    },
    {
     "data": {
      "text/plain": [
       "3"
      ]
     },
     "execution_count": 77,
     "metadata": {},
     "output_type": "execute_result"
    }
   ],
   "source": [
    "custom_add(1, 2, 3, 4, 5, 6, 7, 8, 98, 9)"
   ]
  },
  {
   "cell_type": "code",
   "execution_count": 84,
   "id": "6113b3a1-8d98-45f9-bf26-d4e089bb109f",
   "metadata": {},
   "outputs": [],
   "source": [
    "def custom_add(x, y, *args):\n",
    "    return x + y + sum(args)"
   ]
  },
  {
   "cell_type": "code",
   "execution_count": 85,
   "id": "84efdeb7-5131-487b-8e16-6ccbc32d4f93",
   "metadata": {},
   "outputs": [
    {
     "data": {
      "text/plain": [
       "143"
      ]
     },
     "execution_count": 85,
     "metadata": {},
     "output_type": "execute_result"
    }
   ],
   "source": [
    "custom_add(1, 2, 3, 4, 5, 6, 7, 8, 98, 9)"
   ]
  },
  {
   "cell_type": "code",
   "execution_count": 86,
   "id": "20e59770-7ac4-4efb-bc81-9ea1b999815c",
   "metadata": {},
   "outputs": [
    {
     "data": {
      "text/plain": [
       "3"
      ]
     },
     "execution_count": 86,
     "metadata": {},
     "output_type": "execute_result"
    }
   ],
   "source": [
    "custom_add(1, 2)"
   ]
  },
  {
   "cell_type": "code",
   "execution_count": 91,
   "id": "a138fce4-381d-4a3f-b313-e9c52a4e6259",
   "metadata": {},
   "outputs": [],
   "source": [
    "# Unpacking the tuple"
   ]
  },
  {
   "cell_type": "code",
   "execution_count": 88,
   "id": "a4c91a00-f17f-4198-94c1-62ffcbd98216",
   "metadata": {},
   "outputs": [],
   "source": [
    "t = (1, 2)"
   ]
  },
  {
   "cell_type": "code",
   "execution_count": 89,
   "id": "bfe3fea7-ca28-496e-9ff3-6430c5d2222d",
   "metadata": {},
   "outputs": [],
   "source": [
    "a, b = (1, 2)"
   ]
  },
  {
   "cell_type": "code",
   "execution_count": 90,
   "id": "793a7be4-f38a-4fb4-bec8-8e848bc1af8f",
   "metadata": {},
   "outputs": [
    {
     "name": "stdout",
     "output_type": "stream",
     "text": [
      "1 2\n"
     ]
    }
   ],
   "source": [
    "print(a, b)"
   ]
  },
  {
   "cell_type": "code",
   "execution_count": 93,
   "id": "998358e0-b0f6-46ec-b688-01b26fe14d3e",
   "metadata": {},
   "outputs": [],
   "source": [
    "a, b, *c = (1, 2, 3, 4, 5, 6)"
   ]
  },
  {
   "cell_type": "code",
   "execution_count": 95,
   "id": "1117033a-27c8-41b8-8cbd-db7bec7101da",
   "metadata": {},
   "outputs": [
    {
     "data": {
      "text/plain": [
       "1"
      ]
     },
     "execution_count": 95,
     "metadata": {},
     "output_type": "execute_result"
    }
   ],
   "source": [
    "a"
   ]
  },
  {
   "cell_type": "code",
   "execution_count": 96,
   "id": "fca543be-33d8-4fde-af3a-35188c7d2ae6",
   "metadata": {},
   "outputs": [
    {
     "data": {
      "text/plain": [
       "2"
      ]
     },
     "execution_count": 96,
     "metadata": {},
     "output_type": "execute_result"
    }
   ],
   "source": [
    "b"
   ]
  },
  {
   "cell_type": "code",
   "execution_count": 97,
   "id": "dd0dd172-424b-4754-9f16-d4c6c1be5192",
   "metadata": {},
   "outputs": [
    {
     "data": {
      "text/plain": [
       "[3, 4, 5, 6]"
      ]
     },
     "execution_count": 97,
     "metadata": {},
     "output_type": "execute_result"
    }
   ],
   "source": [
    "c"
   ]
  },
  {
   "cell_type": "code",
   "execution_count": null,
   "id": "65c0752a-0ad2-45e4-9107-a22c6ea7f93c",
   "metadata": {},
   "outputs": [],
   "source": []
  },
  {
   "cell_type": "code",
   "execution_count": null,
   "id": "49221b37-1926-4842-8d8c-c921aff232a8",
   "metadata": {},
   "outputs": [],
   "source": []
  },
  {
   "cell_type": "code",
   "execution_count": 98,
   "id": "0799c204-5e6d-4f45-8919-16adeed13c8c",
   "metadata": {},
   "outputs": [],
   "source": [
    "# kwargs"
   ]
  },
  {
   "cell_type": "code",
   "execution_count": 99,
   "id": "7f420665-4210-40ac-823d-8dc82576c5c0",
   "metadata": {},
   "outputs": [],
   "source": [
    "def create_person(name, age, gender):\n",
    "    person = {\n",
    "        'name' : name,\n",
    "        'age' : age,\n",
    "        'gender' : gender\n",
    "    }\n",
    "    \n",
    "    return person"
   ]
  },
  {
   "cell_type": "code",
   "execution_count": 100,
   "id": "be410cc7-893d-41e4-a1fb-2f04b931f87a",
   "metadata": {},
   "outputs": [
    {
     "data": {
      "text/plain": [
       "{'name': 'Rahul', 'age': 2899, 'gender': 'male'}"
      ]
     },
     "execution_count": 100,
     "metadata": {},
     "output_type": "execute_result"
    }
   ],
   "source": [
    "create_person(\"Rahul\", 2899, \"male\")"
   ]
  },
  {
   "cell_type": "code",
   "execution_count": 101,
   "id": "73769bd5-8555-4182-bb63-d8633ef34e82",
   "metadata": {},
   "outputs": [
    {
     "data": {
      "text/plain": [
       "{'name': 'Rahul', 'age': 32, 'gender': 'Male'}"
      ]
     },
     "execution_count": 101,
     "metadata": {},
     "output_type": "execute_result"
    }
   ],
   "source": [
    "create_person(\n",
    "    name = \"Rahul\",\n",
    "    age = 32,\n",
    "    gender = \"Male\"\n",
    "            )"
   ]
  },
  {
   "cell_type": "code",
   "execution_count": 102,
   "id": "d841c5d6-d8a3-4d09-ad61-12f5cc7799fd",
   "metadata": {},
   "outputs": [
    {
     "ename": "TypeError",
     "evalue": "create_person() got an unexpected keyword argument 'color'",
     "output_type": "error",
     "traceback": [
      "\u001b[0;31m---------------------------------------------------------------------------\u001b[0m",
      "\u001b[0;31mTypeError\u001b[0m                                 Traceback (most recent call last)",
      "\u001b[0;32m/var/folders/t5/yhjgrjs907zfp250jyxtw54m0000gn/T/ipykernel_46495/1372860307.py\u001b[0m in \u001b[0;36m<module>\u001b[0;34m\u001b[0m\n\u001b[0;32m----> 1\u001b[0;31m create_person(\n\u001b[0m\u001b[1;32m      2\u001b[0m     \u001b[0mname\u001b[0m \u001b[0;34m=\u001b[0m \u001b[0;34m\"Rahul\"\u001b[0m\u001b[0;34m,\u001b[0m\u001b[0;34m\u001b[0m\u001b[0;34m\u001b[0m\u001b[0m\n\u001b[1;32m      3\u001b[0m     \u001b[0mage\u001b[0m \u001b[0;34m=\u001b[0m \u001b[0;36m32\u001b[0m\u001b[0;34m,\u001b[0m\u001b[0;34m\u001b[0m\u001b[0;34m\u001b[0m\u001b[0m\n\u001b[1;32m      4\u001b[0m     \u001b[0mgender\u001b[0m \u001b[0;34m=\u001b[0m \u001b[0;34m\"Male\"\u001b[0m\u001b[0;34m,\u001b[0m\u001b[0;34m\u001b[0m\u001b[0;34m\u001b[0m\u001b[0m\n\u001b[1;32m      5\u001b[0m     \u001b[0mcolor\u001b[0m \u001b[0;34m=\u001b[0m \u001b[0;34m\"Blue\"\u001b[0m\u001b[0;34m,\u001b[0m\u001b[0;34m\u001b[0m\u001b[0;34m\u001b[0m\u001b[0m\n",
      "\u001b[0;31mTypeError\u001b[0m: create_person() got an unexpected keyword argument 'color'"
     ]
    }
   ],
   "source": [
    "create_person(\n",
    "    name = \"Rahul\",\n",
    "    age = 32,\n",
    "    gender = \"Male\",\n",
    "    color = \"Blue\",\n",
    "    hobby = \"Trekking\"\n",
    "            )"
   ]
  },
  {
   "cell_type": "code",
   "execution_count": null,
   "id": "a2c7b880-0634-4940-8f16-7fd91b02223e",
   "metadata": {},
   "outputs": [],
   "source": []
  },
  {
   "cell_type": "code",
   "execution_count": 107,
   "id": "de057979-c9dc-439a-b172-117584677b1a",
   "metadata": {},
   "outputs": [],
   "source": [
    "def create_person(name, age, gender, **kwargs):\n",
    "    person = {\n",
    "        'name' : name,\n",
    "        'age' : age,\n",
    "        'gender' : gender\n",
    "    }\n",
    "    print(f'kwargs --> {kwargs}')\n",
    "    \n",
    "    return person"
   ]
  },
  {
   "cell_type": "code",
   "execution_count": 108,
   "id": "d0b23414-ce9b-4837-9a07-ffc289f4c1c4",
   "metadata": {},
   "outputs": [
    {
     "name": "stdout",
     "output_type": "stream",
     "text": [
      "kwargs --> {'color': 'Blue', 'hobby': 'Trekking'}\n"
     ]
    },
    {
     "data": {
      "text/plain": [
       "{'name': 'Rahul', 'age': 32, 'gender': 'Male'}"
      ]
     },
     "execution_count": 108,
     "metadata": {},
     "output_type": "execute_result"
    }
   ],
   "source": [
    "create_person(\n",
    "    name = \"Rahul\",\n",
    "    age = 32,\n",
    "    gender = \"Male\",\n",
    "    color = \"Blue\",\n",
    "    hobby = \"Trekking\"\n",
    "            )"
   ]
  },
  {
   "cell_type": "code",
   "execution_count": null,
   "id": "c84376c0-762a-4206-91f1-74ad4cabf858",
   "metadata": {},
   "outputs": [],
   "source": []
  },
  {
   "cell_type": "code",
   "execution_count": 116,
   "id": "84785748-dfdd-43c9-a877-b7a718f05cc0",
   "metadata": {},
   "outputs": [],
   "source": [
    "def create_person(name, age, gender, **kwargs):\n",
    "    person = {\n",
    "        'name' : name,\n",
    "        'age' : age,\n",
    "        'gender' : gender\n",
    "    }\n",
    "    \n",
    "    if kwargs:\n",
    "        person.update(kwargs)\n",
    "    \n",
    "    return person"
   ]
  },
  {
   "cell_type": "code",
   "execution_count": 117,
   "id": "8dd05d96-9b94-4caf-a1b8-4fbae425ddf6",
   "metadata": {},
   "outputs": [
    {
     "data": {
      "text/plain": [
       "{'name': 'Rahul',\n",
       " 'age': 32,\n",
       " 'gender': 'Male',\n",
       " 'color': 'Blue',\n",
       " 'hobby': 'Trekking'}"
      ]
     },
     "execution_count": 117,
     "metadata": {},
     "output_type": "execute_result"
    }
   ],
   "source": [
    "create_person(\n",
    "    name = \"Rahul\",\n",
    "    age = 32,\n",
    "    gender = \"Male\",\n",
    "    color = \"Blue\",\n",
    "    hobby = \"Trekking\"\n",
    "            )"
   ]
  },
  {
   "cell_type": "code",
   "execution_count": null,
   "id": "3c389e73-aa07-442b-934e-9e087612ff72",
   "metadata": {},
   "outputs": [],
   "source": []
  },
  {
   "cell_type": "code",
   "execution_count": 119,
   "id": "e6f83168-aa24-4f26-818b-26e79ff423cd",
   "metadata": {},
   "outputs": [],
   "source": [
    "# positional --> *args --> keyworded --> **kwargs"
   ]
  },
  {
   "cell_type": "code",
   "execution_count": 121,
   "id": "d7eb1710-bdd0-45ec-aa36-84eee180d8e1",
   "metadata": {},
   "outputs": [],
   "source": [
    "def random(x, y, z, *args, **kwargs):\n",
    "    print(f\"x is --> {x}\")\n",
    "    print(f\"y is --> {y}\")\n",
    "    print(f\"z is --> {z}\")\n",
    "    print(f\"args is --> {args}\")\n",
    "    print(f\"kwargs is --> {kwargs}\")"
   ]
  },
  {
   "cell_type": "code",
   "execution_count": 123,
   "id": "facfc056-e179-4624-ae9a-d5c3ef5dd7cc",
   "metadata": {},
   "outputs": [
    {
     "name": "stdout",
     "output_type": "stream",
     "text": [
      "x is --> 1\n",
      "y is --> 2\n",
      "z is --> 3\n",
      "args is --> ()\n",
      "kwargs is --> {}\n"
     ]
    }
   ],
   "source": [
    "random(1, 2, 3)"
   ]
  },
  {
   "cell_type": "code",
   "execution_count": 125,
   "id": "3c5b3998-329e-4d52-85e0-b84d6aeef75d",
   "metadata": {},
   "outputs": [
    {
     "name": "stdout",
     "output_type": "stream",
     "text": [
      "x is --> 1\n",
      "y is --> 2\n",
      "z is --> 3\n",
      "args is --> ('Hey', 12, None)\n",
      "kwargs is --> {'name': 'Rahul', 'age': 32}\n"
     ]
    }
   ],
   "source": [
    "random(1, 2, 3, \"Hey\", 12, None, name = \"Rahul\", age = 32)"
   ]
  },
  {
   "cell_type": "code",
   "execution_count": null,
   "id": "73918bfb-27b4-4618-9b5c-54acce2014cf",
   "metadata": {},
   "outputs": [],
   "source": []
  },
  {
   "cell_type": "code",
   "execution_count": 127,
   "id": "ac9d2a89-d37a-4eb4-80ee-7c07ac2c68a1",
   "metadata": {},
   "outputs": [
    {
     "ename": "SyntaxError",
     "evalue": "positional argument follows keyword argument (1369827197.py, line 1)",
     "output_type": "error",
     "traceback": [
      "\u001b[0;36m  File \u001b[0;32m\"/var/folders/t5/yhjgrjs907zfp250jyxtw54m0000gn/T/ipykernel_46495/1369827197.py\"\u001b[0;36m, line \u001b[0;32m1\u001b[0m\n\u001b[0;31m    random(1, 2, 3, name = \"Rahul\", age = 32, \"Hey\", 12, None)\u001b[0m\n\u001b[0m                                                             ^\u001b[0m\n\u001b[0;31mSyntaxError\u001b[0m\u001b[0;31m:\u001b[0m positional argument follows keyword argument\n"
     ]
    }
   ],
   "source": [
    "random(1, 2, 3, name = \"Rahul\", age = 32, \"Hey\", 12, None)"
   ]
  },
  {
   "cell_type": "code",
   "execution_count": 136,
   "id": "17dfdf0b-8cfe-42aa-964f-cc78492db1a7",
   "metadata": {},
   "outputs": [],
   "source": [
    "def random(x, y, z, *args, default_arg = 23, **kwargs):\n",
    "    print(f\"x is --> {x}\")\n",
    "    print(f\"y is --> {y}\")\n",
    "    print(f\"z is --> {z}\")\n",
    "    print(f\"args is --> {args}\")\n",
    "    print(f\"kwargs is --> {kwargs}\")\n",
    "    print(f'default_arg --> {default_arg}')"
   ]
  },
  {
   "cell_type": "code",
   "execution_count": 137,
   "id": "0522a04c-a456-480c-ac61-7c1be5a4c57f",
   "metadata": {},
   "outputs": [
    {
     "name": "stdout",
     "output_type": "stream",
     "text": [
      "x is --> 1\n",
      "y is --> 2\n",
      "z is --> 3\n",
      "args is --> ('Hey', 12, None)\n",
      "kwargs is --> {'name': 'Rahul', 'age': 32}\n",
      "default_arg --> 23\n"
     ]
    }
   ],
   "source": [
    "random(1, 2, 3, \"Hey\", 12, None, name = \"Rahul\", age = 32)"
   ]
  },
  {
   "cell_type": "code",
   "execution_count": null,
   "id": "7ea8ae2b-11af-4477-ac6e-278cd387a376",
   "metadata": {},
   "outputs": [],
   "source": []
  },
  {
   "cell_type": "code",
   "execution_count": null,
   "id": "9c0855e1-da60-43e5-848f-0ba759cb8453",
   "metadata": {},
   "outputs": [],
   "source": []
  },
  {
   "cell_type": "code",
   "execution_count": 133,
   "id": "821998fa-056c-4e04-9df7-0b1657d37dff",
   "metadata": {},
   "outputs": [],
   "source": [
    "# Quiz"
   ]
  },
  {
   "cell_type": "code",
   "execution_count": 134,
   "id": "bf375cce-52e6-44eb-9abd-d4d04a5fc1d2",
   "metadata": {},
   "outputs": [],
   "source": [
    "def sample_func(x, y, *args, **kwargs):\n",
    "    return x, y, args, kwargs"
   ]
  },
  {
   "cell_type": "code",
   "execution_count": 135,
   "id": "306cc3ea-0665-48e3-a67a-222c8727c6cd",
   "metadata": {},
   "outputs": [
    {
     "data": {
      "text/plain": [
       "(1, 2, (3, 4), {'a': 5, 'b': 6})"
      ]
     },
     "execution_count": 135,
     "metadata": {},
     "output_type": "execute_result"
    }
   ],
   "source": [
    "sample_func(1, 2, 3, 4, a=5, b=6)"
   ]
  },
  {
   "cell_type": "code",
   "execution_count": null,
   "id": "f4db95fe-04f1-4d7d-a11d-576c0c7d9519",
   "metadata": {},
   "outputs": [],
   "source": []
  },
  {
   "cell_type": "code",
   "execution_count": 138,
   "id": "7ee01dec-6805-4455-8878-571b59ee0fa4",
   "metadata": {},
   "outputs": [],
   "source": [
    "# Doubts"
   ]
  },
  {
   "cell_type": "code",
   "execution_count": 139,
   "id": "d88a49e8-92ad-4af4-994d-5f4224268fc7",
   "metadata": {},
   "outputs": [],
   "source": [
    "def random(a, b, c):\n",
    "    return a, b, c"
   ]
  },
  {
   "cell_type": "code",
   "execution_count": 140,
   "id": "c4c91514-9a74-4a5a-aa5b-685ec76cfa15",
   "metadata": {},
   "outputs": [
    {
     "data": {
      "text/plain": [
       "(2, 3, 4)"
      ]
     },
     "execution_count": 140,
     "metadata": {},
     "output_type": "execute_result"
    }
   ],
   "source": [
    "random(2, 3, 4)"
   ]
  },
  {
   "cell_type": "code",
   "execution_count": null,
   "id": "d52fbcb8-6f38-4451-8c09-328effbd8b9f",
   "metadata": {},
   "outputs": [],
   "source": []
  },
  {
   "cell_type": "code",
   "execution_count": null,
   "id": "2afe04d7-022c-4987-a825-893274748efc",
   "metadata": {},
   "outputs": [],
   "source": []
  },
  {
   "cell_type": "code",
   "execution_count": null,
   "id": "68b1b829-0cde-49c2-b8d6-5555544a5ff3",
   "metadata": {},
   "outputs": [],
   "source": []
  },
  {
   "cell_type": "code",
   "execution_count": null,
   "id": "00619c20-18d8-4afe-8e4e-4c34ca26b46e",
   "metadata": {},
   "outputs": [],
   "source": []
  },
  {
   "cell_type": "code",
   "execution_count": null,
   "id": "a8b8ea78-8cf0-4ea3-850c-d96d00ac321d",
   "metadata": {},
   "outputs": [],
   "source": []
  }
 ],
 "metadata": {
  "kernelspec": {
   "display_name": "Python 3 (ipykernel)",
   "language": "python",
   "name": "python3"
  },
  "language_info": {
   "codemirror_mode": {
    "name": "ipython",
    "version": 3
   },
   "file_extension": ".py",
   "mimetype": "text/x-python",
   "name": "python",
   "nbconvert_exporter": "python",
   "pygments_lexer": "ipython3",
   "version": "3.9.7"
  }
 },
 "nbformat": 4,
 "nbformat_minor": 5
}
