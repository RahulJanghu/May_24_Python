{
 "cells": [
  {
   "cell_type": "markdown",
   "id": "9980b111-9f31-4468-bb05-c04ab44afe6b",
   "metadata": {},
   "source": [
    "## What are loops?\n",
    "- A loop is a control structure that is used to perform a set of instructions for a specific number of times."
   ]
  },
  {
   "cell_type": "markdown",
   "id": "2e207dc9-2c47-48ed-a090-1671bf3ee2e8",
   "metadata": {},
   "source": [
    "##### Loops are a programming element that repeat a portion of code a set number of times until the desired process is complete. Repetitive tasks are common in programming, and loops are essential to save time and minimize errors."
   ]
  },
  {
   "cell_type": "code",
   "execution_count": 2,
   "id": "4a819ce5-c701-4e49-821d-5cd125d5b269",
   "metadata": {},
   "outputs": [
    {
     "name": "stdout",
     "output_type": "stream",
     "text": [
      "Helicopter Shot!\n",
      "Helicopter Shot!\n",
      "Helicopter Shot!\n",
      "Helicopter Shot!\n",
      "Helicopter Shot!\n"
     ]
    }
   ],
   "source": [
    "print(\"Helicopter Shot!\")\n",
    "print(\"Helicopter Shot!\")\n",
    "print(\"Helicopter Shot!\")\n",
    "print(\"Helicopter Shot!\")\n",
    "print(\"Helicopter Shot!\")"
   ]
  },
  {
   "cell_type": "code",
   "execution_count": null,
   "id": "f636e1f3-6127-4a7d-813c-7616a210abf5",
   "metadata": {},
   "outputs": [],
   "source": []
  },
  {
   "cell_type": "code",
   "execution_count": null,
   "id": "7b5d6ca6-c734-4c16-9113-5466a71da15d",
   "metadata": {},
   "outputs": [],
   "source": []
  },
  {
   "cell_type": "code",
   "execution_count": null,
   "id": "7fcfc4ec-aeef-428d-a022-c2f7edf1f5f7",
   "metadata": {},
   "outputs": [],
   "source": []
  },
  {
   "cell_type": "code",
   "execution_count": null,
   "id": "8383dd0e-5301-4a26-9a96-455031f5b487",
   "metadata": {},
   "outputs": [],
   "source": []
  },
  {
   "cell_type": "code",
   "execution_count": null,
   "id": "1aefa84a-c6e3-4795-b0fb-0550c55415b4",
   "metadata": {},
   "outputs": [],
   "source": []
  },
  {
   "cell_type": "markdown",
   "id": "2379032f-4a44-45ea-b69a-78148c29de17",
   "metadata": {},
   "source": [
    "## While loop\n",
    "- The while loop keeps iterating over a certain set of operations as long as a certain condition holds True.\n"
   ]
  },
  {
   "cell_type": "code",
   "execution_count": 3,
   "id": "c287bf6d-1eb5-463f-86a5-c4631579683d",
   "metadata": {},
   "outputs": [],
   "source": [
    "## Shopping list example"
   ]
  },
  {
   "cell_type": "markdown",
   "id": "fab564fe-8bae-46c5-b860-e6cda5979841",
   "metadata": {},
   "source": [
    "![image](../photos/whileloop.jpeg)"
   ]
  },
  {
   "cell_type": "code",
   "execution_count": null,
   "id": "3315e8b2-abaa-481d-9068-08a321ef6852",
   "metadata": {},
   "outputs": [],
   "source": []
  },
  {
   "cell_type": "code",
   "execution_count": 5,
   "id": "47f7a271-5125-4362-abcc-0f58534694ae",
   "metadata": {},
   "outputs": [
    {
     "name": "stdout",
     "output_type": "stream",
     "text": [
      "Helicopter Shot!\n",
      "Helicopter Shot!\n",
      "Helicopter Shot!\n",
      "Helicopter Shot!\n",
      "Helicopter Shot!\n",
      "Lesson taught\n"
     ]
    }
   ],
   "source": [
    "# 1. Initialisation\n",
    "start = 0\n",
    "\n",
    "# 2. While condition\n",
    "while start < 5:\n",
    "    print(\"Helicopter Shot!\")\n",
    "    # update\n",
    "    start += 1\n",
    "    \n",
    "print(\"Lesson taught\")"
   ]
  },
  {
   "cell_type": "code",
   "execution_count": null,
   "id": "6860a5e3-3cc2-4b3d-b906-3a3a0145a03a",
   "metadata": {},
   "outputs": [],
   "source": []
  },
  {
   "cell_type": "code",
   "execution_count": null,
   "id": "5f046c63-f348-42e4-be1e-0f6ad84dc23a",
   "metadata": {},
   "outputs": [],
   "source": []
  },
  {
   "cell_type": "code",
   "execution_count": 91,
   "id": "fc7ce062-c49e-4817-ab50-a4a35e920c2f",
   "metadata": {},
   "outputs": [],
   "source": [
    "# Let's not run following code"
   ]
  },
  {
   "cell_type": "code",
   "execution_count": 90,
   "id": "c6d3ae2d-f9e2-4a29-a11d-b48212566bf8",
   "metadata": {},
   "outputs": [],
   "source": [
    "# # 1. Initialisation\n",
    "# start = 0\n",
    "\n",
    "# # 2. While condition\n",
    "# while start < 5:\n",
    "#     print(\"Helicopter Shot!\")\n",
    "\n",
    "    \n",
    "# print(\"Lesson taught\")"
   ]
  },
  {
   "cell_type": "code",
   "execution_count": null,
   "id": "c10f8160-f685-42ce-a9bf-d8c1659dcd51",
   "metadata": {},
   "outputs": [],
   "source": []
  },
  {
   "cell_type": "code",
   "execution_count": null,
   "id": "8ed7e378-0e47-4964-9203-ed39cd80d4b2",
   "metadata": {},
   "outputs": [],
   "source": []
  },
  {
   "cell_type": "code",
   "execution_count": null,
   "id": "9edbad15-7d9e-4672-9268-2bc3660be344",
   "metadata": {},
   "outputs": [],
   "source": []
  },
  {
   "cell_type": "markdown",
   "id": "e4d9c6a0-ed69-45a8-bcd8-b1f45502cd1f",
   "metadata": {},
   "source": [
    "## Print numbers from 1 to 10"
   ]
  },
  {
   "cell_type": "code",
   "execution_count": 8,
   "id": "24562846-5917-4f02-a783-5a0bb6ab702a",
   "metadata": {},
   "outputs": [
    {
     "name": "stdout",
     "output_type": "stream",
     "text": [
      "1\n",
      "2\n",
      "3\n",
      "4\n",
      "5\n",
      "6\n",
      "7\n",
      "8\n",
      "9\n"
     ]
    }
   ],
   "source": [
    "start = 1\n",
    "\n",
    "while start < 10:\n",
    "    print(start)\n",
    "    start += 1"
   ]
  },
  {
   "cell_type": "code",
   "execution_count": 9,
   "id": "d2d88693-e21c-43bf-a7db-fa619823083c",
   "metadata": {},
   "outputs": [
    {
     "name": "stdout",
     "output_type": "stream",
     "text": [
      "1\n",
      "2\n",
      "3\n",
      "4\n",
      "5\n",
      "6\n",
      "7\n",
      "8\n",
      "9\n",
      "10\n"
     ]
    }
   ],
   "source": [
    "start = 1\n",
    "\n",
    "while start < 11:\n",
    "    print(start)\n",
    "    start += 1"
   ]
  },
  {
   "cell_type": "code",
   "execution_count": 12,
   "id": "44fca5ad-f427-4602-bc16-d5bcf2689a7d",
   "metadata": {},
   "outputs": [
    {
     "name": "stdout",
     "output_type": "stream",
     "text": [
      "1\n",
      "2\n",
      "3\n",
      "4\n",
      "5\n",
      "6\n",
      "7\n",
      "8\n",
      "9\n",
      "10\n"
     ]
    }
   ],
   "source": [
    "start = 1\n",
    "\n",
    "while start <= 10:\n",
    "    print(start)\n",
    "    start += 1"
   ]
  },
  {
   "cell_type": "code",
   "execution_count": null,
   "id": "41d48dda-4e9c-441d-a1a8-7a5a2c7a085e",
   "metadata": {},
   "outputs": [],
   "source": []
  },
  {
   "cell_type": "code",
   "execution_count": null,
   "id": "c578639f-59de-4a4d-820a-6af90bd21d0e",
   "metadata": {},
   "outputs": [],
   "source": []
  },
  {
   "cell_type": "markdown",
   "id": "bccf4596-7608-4920-aa67-7361b6230d7d",
   "metadata": {},
   "source": [
    "## Print numbers from 10 to 1"
   ]
  },
  {
   "cell_type": "code",
   "execution_count": 13,
   "id": "0bb25a84-ef58-438c-a33c-bb8d02dd14d0",
   "metadata": {},
   "outputs": [
    {
     "name": "stdout",
     "output_type": "stream",
     "text": [
      "10\n",
      "9\n",
      "8\n",
      "7\n",
      "6\n",
      "5\n",
      "4\n",
      "3\n",
      "2\n",
      "1\n"
     ]
    }
   ],
   "source": [
    "start = 10\n",
    "\n",
    "while start >= 1:\n",
    "    print(start)\n",
    "    start -= 1"
   ]
  },
  {
   "cell_type": "code",
   "execution_count": null,
   "id": "bce9d99b-f5c6-4bd6-a250-7e940f524728",
   "metadata": {},
   "outputs": [],
   "source": []
  },
  {
   "cell_type": "code",
   "execution_count": 14,
   "id": "650e0636-b8e0-4bc4-934f-a7c2e1f0c553",
   "metadata": {},
   "outputs": [
    {
     "name": "stdout",
     "output_type": "stream",
     "text": [
      "Rahul\n",
      "Rahul\n",
      "Rahul\n",
      "Rahul\n",
      "Rahul\n",
      "Rahul\n",
      "Rahul\n",
      "Rahul\n",
      "Rahul\n",
      "Rahul\n"
     ]
    }
   ],
   "source": [
    "start = 10\n",
    "\n",
    "while start >= 1:\n",
    "    print(\"Rahul\")\n",
    "    start -= 1"
   ]
  },
  {
   "cell_type": "code",
   "execution_count": null,
   "id": "6c4e2139-6069-40ad-a1ea-597e9a532bac",
   "metadata": {},
   "outputs": [],
   "source": []
  },
  {
   "cell_type": "code",
   "execution_count": null,
   "id": "a7da9a66-2136-4b02-a297-c1e1f269fcad",
   "metadata": {},
   "outputs": [],
   "source": []
  },
  {
   "cell_type": "markdown",
   "id": "551bb64e-fe37-4ad7-9c55-8e99c699ec2d",
   "metadata": {},
   "source": [
    "## Print all even numbers between 2 to 10"
   ]
  },
  {
   "cell_type": "code",
   "execution_count": 15,
   "id": "3608b021-7eaa-4018-812a-a9dc32cf99b9",
   "metadata": {},
   "outputs": [],
   "source": [
    "# check for a number if it is even"
   ]
  },
  {
   "cell_type": "code",
   "execution_count": 21,
   "id": "cd8b2ae3-e6d0-4b6a-95be-1703ba40fe98",
   "metadata": {},
   "outputs": [
    {
     "name": "stdout",
     "output_type": "stream",
     "text": [
      "2\n",
      "4\n",
      "6\n",
      "8\n",
      "10\n"
     ]
    }
   ],
   "source": [
    "start = 2\n",
    "\n",
    "while start <= 10:\n",
    "    # check if number is even\n",
    "    if start % 2 == 0:\n",
    "        print(start)\n",
    "    \n",
    "    start += 1"
   ]
  },
  {
   "cell_type": "code",
   "execution_count": 22,
   "id": "c4e28592-7f1b-44dd-b104-9f5b68560c7a",
   "metadata": {},
   "outputs": [
    {
     "name": "stdout",
     "output_type": "stream",
     "text": [
      "2\n",
      "4\n",
      "6\n",
      "8\n",
      "10\n"
     ]
    }
   ],
   "source": [
    "start = 2\n",
    "\n",
    "while start <= 10:\n",
    "    print(start)\n",
    "    start += 2"
   ]
  },
  {
   "cell_type": "code",
   "execution_count": null,
   "id": "7350b21f-947f-4526-babc-e6673e1d9db6",
   "metadata": {},
   "outputs": [],
   "source": []
  },
  {
   "cell_type": "code",
   "execution_count": null,
   "id": "8ca5243e-d665-4891-a98b-61ab010b3325",
   "metadata": {},
   "outputs": [],
   "source": []
  },
  {
   "cell_type": "markdown",
   "id": "96aeac41-59c6-4298-9044-25ee489c2f13",
   "metadata": {},
   "source": [
    "## Print all Odd number from 1 to 10"
   ]
  },
  {
   "cell_type": "code",
   "execution_count": 23,
   "id": "3a95fdd2-3956-41aa-8db9-bc8bb648d437",
   "metadata": {},
   "outputs": [],
   "source": [
    "# odd"
   ]
  },
  {
   "cell_type": "code",
   "execution_count": 25,
   "id": "97aa0943-ccce-4a4a-8441-c44a4584b781",
   "metadata": {},
   "outputs": [],
   "source": [
    "# HW\n",
    "\n",
    "# Using if condition\n",
    "\n",
    "# and using jump of 2"
   ]
  },
  {
   "cell_type": "code",
   "execution_count": null,
   "id": "9c13ae7f-d248-4fce-a67b-5217cbfd5c7b",
   "metadata": {},
   "outputs": [],
   "source": []
  },
  {
   "cell_type": "code",
   "execution_count": null,
   "id": "904ccfab-c3e1-4136-8d2d-b1ab88e9ace6",
   "metadata": {},
   "outputs": [],
   "source": []
  },
  {
   "cell_type": "code",
   "execution_count": null,
   "id": "760da046-60dc-4030-8686-bfea85489a48",
   "metadata": {},
   "outputs": [],
   "source": []
  },
  {
   "cell_type": "markdown",
   "id": "b37a1593-cb22-41f4-957d-86d2fcfe24e2",
   "metadata": {},
   "source": [
    "### Print all numbers from 1 to 10 in a single line"
   ]
  },
  {
   "cell_type": "code",
   "execution_count": 26,
   "id": "18fadadd-8391-4272-b80a-cbdfcda39c8f",
   "metadata": {},
   "outputs": [],
   "source": [
    "# Go for print statement"
   ]
  },
  {
   "cell_type": "code",
   "execution_count": 27,
   "id": "531aa1d8-2f6f-4214-8f86-92c714eaf432",
   "metadata": {},
   "outputs": [],
   "source": [
    "# print?"
   ]
  },
  {
   "cell_type": "code",
   "execution_count": 28,
   "id": "17ec7eb3-4fd1-4ed8-bf1d-86d4256bd5bc",
   "metadata": {},
   "outputs": [
    {
     "name": "stdout",
     "output_type": "stream",
     "text": [
      "1\n",
      "2\n",
      "3\n",
      "4\n",
      "5\n",
      "6\n",
      "7\n",
      "8\n",
      "9\n",
      "10\n"
     ]
    }
   ],
   "source": [
    "start = 1\n",
    "\n",
    "while start <= 10:\n",
    "    print(start)\n",
    "    start += 1"
   ]
  },
  {
   "cell_type": "code",
   "execution_count": null,
   "id": "d5b5b10e-bdf5-4f12-b241-bc3d9ecca9c9",
   "metadata": {},
   "outputs": [],
   "source": []
  },
  {
   "cell_type": "code",
   "execution_count": 29,
   "id": "c8bc8731-56c8-4159-9878-a11d56fc3620",
   "metadata": {},
   "outputs": [
    {
     "data": {
      "text/plain": [
       "\u001b[0;31mDocstring:\u001b[0m\n",
       "print(value, ..., sep=' ', end='\\n', file=sys.stdout, flush=False)\n",
       "\n",
       "Prints the values to a stream, or to sys.stdout by default.\n",
       "Optional keyword arguments:\n",
       "file:  a file-like object (stream); defaults to the current sys.stdout.\n",
       "sep:   string inserted between values, default a space.\n",
       "end:   string appended after the last value, default a newline.\n",
       "flush: whether to forcibly flush the stream.\n",
       "\u001b[0;31mType:\u001b[0m      builtin_function_or_method\n"
      ]
     },
     "metadata": {},
     "output_type": "display_data"
    }
   ],
   "source": [
    "print?"
   ]
  },
  {
   "cell_type": "code",
   "execution_count": 32,
   "id": "45a27b9b-a0a2-4338-9329-224ce5e851e4",
   "metadata": {},
   "outputs": [
    {
     "name": "stdout",
     "output_type": "stream",
     "text": [
      "Rahul Rohit Praveen\n",
      "Yomesh Aayush\n",
      "1 2\n"
     ]
    }
   ],
   "source": [
    "print(\"Rahul\", \"Rohit\", \"Praveen\")\n",
    "print(\"Yomesh\", \"Aayush\")\n",
    "print(1, 2)"
   ]
  },
  {
   "cell_type": "code",
   "execution_count": null,
   "id": "5e59f9d2-6fca-4ded-b86f-8d357eb781e3",
   "metadata": {},
   "outputs": [],
   "source": []
  },
  {
   "cell_type": "code",
   "execution_count": 33,
   "id": "eb09b827-9870-4614-aa9d-2ca693825c78",
   "metadata": {},
   "outputs": [
    {
     "name": "stdout",
     "output_type": "stream",
     "text": [
      "Rahul --> Rohit --> Praveen\n"
     ]
    }
   ],
   "source": [
    "print(\"Rahul\", \"Rohit\", \"Praveen\", sep=\" --> \")"
   ]
  },
  {
   "cell_type": "code",
   "execution_count": 34,
   "id": "58a52a29-6bf6-40a4-9f1f-729e518c9dd3",
   "metadata": {},
   "outputs": [
    {
     "name": "stdout",
     "output_type": "stream",
     "text": [
      "Rahul hey Rohit hey Praveen\n"
     ]
    }
   ],
   "source": [
    "print(\"Rahul\", \"Rohit\", \"Praveen\", sep=\" hey \")"
   ]
  },
  {
   "cell_type": "code",
   "execution_count": 36,
   "id": "cafa0555-5281-4445-b308-87d53c1dfa5f",
   "metadata": {},
   "outputs": [
    {
     "name": "stdout",
     "output_type": "stream",
     "text": [
      "Rahul Rohit Praveen --> Yomesh Aayush\n"
     ]
    }
   ],
   "source": [
    "print(\"Rahul\", \"Rohit\", \"Praveen\", end=\" --> \")\n",
    "print(\"Yomesh\", \"Aayush\")"
   ]
  },
  {
   "cell_type": "code",
   "execution_count": 37,
   "id": "62ccc466-cb32-43bf-a5af-ac43afe06def",
   "metadata": {},
   "outputs": [
    {
     "name": "stdout",
     "output_type": "stream",
     "text": [
      "Rahul      Rohit      Praveen --> Yomesh Aayush\n"
     ]
    }
   ],
   "source": [
    "print(\"Rahul\", \"Rohit\", \"Praveen\", sep=\"      \", end=\" --> \")\n",
    "print(\"Yomesh\", \"Aayush\")"
   ]
  },
  {
   "cell_type": "code",
   "execution_count": 38,
   "id": "ab33b397-618b-4002-bc61-ce152018b85c",
   "metadata": {},
   "outputs": [
    {
     "name": "stdout",
     "output_type": "stream",
     "text": [
      "Rahul\n",
      "Rohit\n",
      "Praveen\n"
     ]
    }
   ],
   "source": [
    "print(\"Rahul\", \"Rohit\", \"Praveen\", sep=\"\\n\")"
   ]
  },
  {
   "cell_type": "code",
   "execution_count": null,
   "id": "6f00fe38-2e7f-4263-a8c7-75e2d98caf96",
   "metadata": {},
   "outputs": [],
   "source": []
  },
  {
   "cell_type": "code",
   "execution_count": 39,
   "id": "4998f8f4-667f-4d94-98e0-abd279a6918a",
   "metadata": {},
   "outputs": [
    {
     "name": "stdout",
     "output_type": "stream",
     "text": [
      "1 2 3 4 5 6 7 8 9 10 "
     ]
    }
   ],
   "source": [
    "start = 1\n",
    "\n",
    "while start <= 10:\n",
    "    print(start, end=\" \")\n",
    "    start += 1"
   ]
  },
  {
   "cell_type": "code",
   "execution_count": null,
   "id": "dd63ea6b-6b10-4117-8bc1-e743e615f0a4",
   "metadata": {},
   "outputs": [],
   "source": []
  },
  {
   "cell_type": "code",
   "execution_count": null,
   "id": "5488a53b-eaa4-4bf8-908d-d84c75967c4f",
   "metadata": {},
   "outputs": [],
   "source": []
  },
  {
   "cell_type": "markdown",
   "id": "09a3652d-4111-49b9-a5c5-bfb1f18bd00c",
   "metadata": {},
   "source": [
    "####  Take T number of inputs and print their tables"
   ]
  },
  {
   "cell_type": "code",
   "execution_count": 41,
   "id": "48b527e2-00cb-4c14-a2ea-2dc35f79402f",
   "metadata": {},
   "outputs": [],
   "source": [
    "# Take n as input and print the table of n"
   ]
  },
  {
   "cell_type": "code",
   "execution_count": null,
   "id": "fb8e9763-a18a-425d-9045-bdb49fbbf1bd",
   "metadata": {},
   "outputs": [],
   "source": []
  },
  {
   "cell_type": "code",
   "execution_count": 42,
   "id": "5a529eba-5db7-4f6d-9040-22e7741ef20b",
   "metadata": {},
   "outputs": [],
   "source": [
    "# Print table of 5"
   ]
  },
  {
   "cell_type": "code",
   "execution_count": 43,
   "id": "cefda14b-5997-4d60-ac5e-59a2918f5f37",
   "metadata": {},
   "outputs": [
    {
     "name": "stdout",
     "output_type": "stream",
     "text": [
      "5\n",
      "10\n",
      "15\n",
      "20\n",
      "25\n",
      "30\n",
      "35\n",
      "40\n",
      "45\n",
      "50\n"
     ]
    }
   ],
   "source": [
    "start = 5\n",
    "\n",
    "while start <= 50:\n",
    "    print(start)\n",
    "    start += 5"
   ]
  },
  {
   "cell_type": "code",
   "execution_count": 47,
   "id": "bc800780-e98c-40eb-8f31-05d01fb9f78e",
   "metadata": {},
   "outputs": [
    {
     "name": "stdin",
     "output_type": "stream",
     "text": [
      " 19\n"
     ]
    },
    {
     "name": "stdout",
     "output_type": "stream",
     "text": [
      "19\n",
      "38\n",
      "57\n",
      "76\n",
      "95\n",
      "114\n",
      "133\n",
      "152\n",
      "171\n",
      "190\n"
     ]
    }
   ],
   "source": [
    "n = int(input())\n",
    "\n",
    "start = n\n",
    "\n",
    "while start <= n * 10:\n",
    "    print(start)\n",
    "    start += n"
   ]
  },
  {
   "cell_type": "code",
   "execution_count": null,
   "id": "b39b19cb-f66a-4315-a1ff-abcfba9c9b67",
   "metadata": {},
   "outputs": [],
   "source": []
  },
  {
   "cell_type": "code",
   "execution_count": null,
   "id": "b94b4cc9-3769-4ecc-b525-42e41503ae2e",
   "metadata": {},
   "outputs": [],
   "source": []
  },
  {
   "cell_type": "code",
   "execution_count": 48,
   "id": "b4a5f2b1-cb7e-4393-9724-75efdce9b371",
   "metadata": {},
   "outputs": [],
   "source": [
    "# Take T number of inputs"
   ]
  },
  {
   "cell_type": "code",
   "execution_count": 53,
   "id": "7206ac6b-994e-4901-83ad-4169fac19290",
   "metadata": {},
   "outputs": [
    {
     "name": "stdin",
     "output_type": "stream",
     "text": [
      " 3\n",
      " 1\n",
      " 2\n",
      " 3\n"
     ]
    }
   ],
   "source": [
    "T = int(input())\n",
    "start = 0\n",
    "\n",
    "while start < T:\n",
    "    x = input()\n",
    "    start += 1"
   ]
  },
  {
   "cell_type": "code",
   "execution_count": null,
   "id": "f2864979-1b31-4e04-b1ec-159efa8fe81b",
   "metadata": {},
   "outputs": [],
   "source": []
  },
  {
   "cell_type": "code",
   "execution_count": 54,
   "id": "37994157-007a-4449-b9b4-69d1a49f471c",
   "metadata": {},
   "outputs": [],
   "source": [
    "# Final Code"
   ]
  },
  {
   "cell_type": "code",
   "execution_count": 55,
   "id": "009f091d-7ff7-4d43-a63b-d2dedd5a3952",
   "metadata": {},
   "outputs": [
    {
     "name": "stdin",
     "output_type": "stream",
     "text": [
      " 3\n",
      " 2\n"
     ]
    },
    {
     "name": "stdout",
     "output_type": "stream",
     "text": [
      "2\n",
      "4\n",
      "6\n",
      "8\n",
      "10\n",
      "12\n",
      "14\n",
      "16\n",
      "18\n",
      "20\n"
     ]
    },
    {
     "name": "stdin",
     "output_type": "stream",
     "text": [
      " 3\n"
     ]
    },
    {
     "name": "stdout",
     "output_type": "stream",
     "text": [
      "3\n",
      "6\n",
      "9\n",
      "12\n",
      "15\n",
      "18\n",
      "21\n",
      "24\n",
      "27\n",
      "30\n"
     ]
    },
    {
     "name": "stdin",
     "output_type": "stream",
     "text": [
      " 4\n"
     ]
    },
    {
     "name": "stdout",
     "output_type": "stream",
     "text": [
      "4\n",
      "8\n",
      "12\n",
      "16\n",
      "20\n",
      "24\n",
      "28\n",
      "32\n",
      "36\n",
      "40\n"
     ]
    }
   ],
   "source": [
    "t = int(input())\n",
    "start = 0\n",
    "\n",
    "while start < t:\n",
    "    n = int(input())\n",
    "    start += 1\n",
    "    \n",
    "    # print table on n\n",
    "    st = n\n",
    "    while st <= n * 10:\n",
    "        print(st)\n",
    "        st += n"
   ]
  },
  {
   "cell_type": "code",
   "execution_count": null,
   "id": "a8f92e80-15b8-4864-baf8-300ab7c22a5e",
   "metadata": {},
   "outputs": [],
   "source": []
  },
  {
   "cell_type": "code",
   "execution_count": null,
   "id": "14379896-9d09-4c1f-b0c7-2b543df21603",
   "metadata": {},
   "outputs": [],
   "source": []
  },
  {
   "cell_type": "code",
   "execution_count": null,
   "id": "20824eed-605c-4efb-9e16-3d92c6bfda12",
   "metadata": {},
   "outputs": [],
   "source": []
  },
  {
   "cell_type": "markdown",
   "id": "56264271-0a5f-4a73-abd4-d275ee2a39e6",
   "metadata": {},
   "source": [
    "### For loops"
   ]
  },
  {
   "cell_type": "code",
   "execution_count": 56,
   "id": "49a069e1-e947-477a-b489-9e73f80b67c5",
   "metadata": {},
   "outputs": [],
   "source": [
    "# range"
   ]
  },
  {
   "cell_type": "code",
   "execution_count": 57,
   "id": "10dae4b1-360f-4c08-9c52-43b679654443",
   "metadata": {},
   "outputs": [
    {
     "data": {
      "text/plain": [
       "[0, 1, 2, 3, 4, 5, 6, 7, 8, 9]"
      ]
     },
     "execution_count": 57,
     "metadata": {},
     "output_type": "execute_result"
    }
   ],
   "source": [
    "list(range(10))"
   ]
  },
  {
   "cell_type": "code",
   "execution_count": 58,
   "id": "7afecf96-5546-4a17-9aca-64e9e446c052",
   "metadata": {},
   "outputs": [
    {
     "data": {
      "text/plain": [
       "[2, 3, 4, 5, 6, 7, 8]"
      ]
     },
     "execution_count": 58,
     "metadata": {},
     "output_type": "execute_result"
    }
   ],
   "source": [
    "list(range(2, 9))"
   ]
  },
  {
   "cell_type": "code",
   "execution_count": 59,
   "id": "48ecff9d-24c8-4e30-8e58-decc767486c2",
   "metadata": {},
   "outputs": [
    {
     "data": {
      "text/plain": [
       "[2, 4, 6, 8]"
      ]
     },
     "execution_count": 59,
     "metadata": {},
     "output_type": "execute_result"
    }
   ],
   "source": [
    "list(range(2, 10, 2))"
   ]
  },
  {
   "cell_type": "code",
   "execution_count": 60,
   "id": "1a77fe02-9319-4dbc-ab80-2da2a1e8f38b",
   "metadata": {},
   "outputs": [
    {
     "data": {
      "text/plain": [
       "[]"
      ]
     },
     "execution_count": 60,
     "metadata": {},
     "output_type": "execute_result"
    }
   ],
   "source": [
    "list(range(2, 10, -1))"
   ]
  },
  {
   "cell_type": "code",
   "execution_count": 61,
   "id": "12635a3a-459b-4b6b-ab72-9f0c1d8a8df1",
   "metadata": {},
   "outputs": [
    {
     "name": "stdout",
     "output_type": "stream",
     "text": [
      "[]\n"
     ]
    }
   ],
   "source": [
    "print(list(range(8, 8)))"
   ]
  },
  {
   "cell_type": "code",
   "execution_count": 62,
   "id": "dd04d1ca-0f71-4106-a104-96120ed7ee77",
   "metadata": {},
   "outputs": [
    {
     "data": {
      "text/plain": [
       "[]"
      ]
     },
     "execution_count": 62,
     "metadata": {},
     "output_type": "execute_result"
    }
   ],
   "source": [
    "list(range(10, 2))"
   ]
  },
  {
   "cell_type": "code",
   "execution_count": 63,
   "id": "fd1c85ab-7c31-45b9-a531-934142c90444",
   "metadata": {},
   "outputs": [
    {
     "data": {
      "text/plain": [
       "[10, 9, 8, 7, 6, 5, 4, 3]"
      ]
     },
     "execution_count": 63,
     "metadata": {},
     "output_type": "execute_result"
    }
   ],
   "source": [
    "list(range(10, 2, -1))"
   ]
  },
  {
   "cell_type": "code",
   "execution_count": null,
   "id": "6e8d408f-6c4b-4afe-ab34-bf707447aed9",
   "metadata": {},
   "outputs": [],
   "source": []
  },
  {
   "cell_type": "code",
   "execution_count": null,
   "id": "481116e3-7d65-4a18-9748-171f1491951a",
   "metadata": {},
   "outputs": [],
   "source": []
  },
  {
   "cell_type": "code",
   "execution_count": 64,
   "id": "feaa7b6d-8dde-4dc8-92d7-f1870104b7f2",
   "metadata": {},
   "outputs": [],
   "source": [
    "# Print numbers between 1 to 10"
   ]
  },
  {
   "cell_type": "code",
   "execution_count": 65,
   "id": "95c1b786-ee31-4302-94fd-922b306c8459",
   "metadata": {},
   "outputs": [],
   "source": [
    "# range(1, 11), range(1, 11, 1)"
   ]
  },
  {
   "cell_type": "code",
   "execution_count": 66,
   "id": "031695f2-5756-4425-a2e6-b4a4711bb311",
   "metadata": {},
   "outputs": [
    {
     "name": "stdout",
     "output_type": "stream",
     "text": [
      "1\n",
      "2\n",
      "3\n",
      "4\n",
      "5\n",
      "6\n",
      "7\n",
      "8\n",
      "9\n",
      "10\n"
     ]
    }
   ],
   "source": [
    "for i in range(1, 11):\n",
    "    print(i)"
   ]
  },
  {
   "cell_type": "code",
   "execution_count": null,
   "id": "f9f531b0-5025-40b0-9861-71a52702aa6e",
   "metadata": {},
   "outputs": [],
   "source": []
  },
  {
   "cell_type": "code",
   "execution_count": 67,
   "id": "f393566e-ef2f-46ed-b80b-a19074d9daf7",
   "metadata": {},
   "outputs": [
    {
     "name": "stdout",
     "output_type": "stream",
     "text": [
      "1 2 3 4 5 6 7 8 9 10 "
     ]
    }
   ],
   "source": [
    "for i in range(1, 11):\n",
    "    print(i, end=\" \")"
   ]
  },
  {
   "cell_type": "code",
   "execution_count": null,
   "id": "96501778-427e-4f49-b4ed-11c5a51cd084",
   "metadata": {},
   "outputs": [],
   "source": []
  },
  {
   "cell_type": "code",
   "execution_count": null,
   "id": "217fc476-89e3-464f-b698-79b56c79c080",
   "metadata": {},
   "outputs": [],
   "source": []
  },
  {
   "cell_type": "code",
   "execution_count": 68,
   "id": "d7a665d1-bb7d-4788-a8b3-d84e35b70aee",
   "metadata": {},
   "outputs": [],
   "source": [
    "# Get sum of first 10 Natural numbers"
   ]
  },
  {
   "cell_type": "code",
   "execution_count": 69,
   "id": "9acb3ff8-a2c4-4470-8960-b10012cde802",
   "metadata": {},
   "outputs": [
    {
     "name": "stdout",
     "output_type": "stream",
     "text": [
      "1\n",
      "2\n",
      "3\n",
      "4\n",
      "5\n",
      "6\n",
      "7\n",
      "8\n",
      "9\n",
      "10\n"
     ]
    }
   ],
   "source": [
    "for rahul in range(1, 11):\n",
    "    print(rahul)"
   ]
  },
  {
   "cell_type": "code",
   "execution_count": 70,
   "id": "e2d86534-b638-40cf-bd6a-08f3a77c875f",
   "metadata": {},
   "outputs": [
    {
     "name": "stdout",
     "output_type": "stream",
     "text": [
      "1\n",
      "2\n",
      "3\n",
      "4\n",
      "5\n",
      "6\n",
      "7\n",
      "8\n",
      "9\n",
      "10\n"
     ]
    }
   ],
   "source": [
    "for i in range(1, 11):\n",
    "    print(i)"
   ]
  },
  {
   "cell_type": "code",
   "execution_count": 71,
   "id": "5a99ded6-1a09-4f02-a855-c6138495bd2a",
   "metadata": {},
   "outputs": [
    {
     "name": "stdout",
     "output_type": "stream",
     "text": [
      "55\n"
     ]
    }
   ],
   "source": [
    "total = 0\n",
    "\n",
    "for i in range(1, 11):\n",
    "    # Add this value of i in total\n",
    "    total += i\n",
    "    \n",
    "print(total)"
   ]
  },
  {
   "cell_type": "code",
   "execution_count": null,
   "id": "9349c1da-f98d-4e02-9127-8399f94a4ddc",
   "metadata": {},
   "outputs": [],
   "source": []
  },
  {
   "cell_type": "code",
   "execution_count": null,
   "id": "1c88350c-4b9e-465c-86d5-637f3d5e1ea7",
   "metadata": {},
   "outputs": [],
   "source": []
  },
  {
   "cell_type": "code",
   "execution_count": 72,
   "id": "22f4487b-3a7f-4293-82b4-92fc2e432d71",
   "metadata": {},
   "outputs": [],
   "source": [
    "# Take a number N as input and print values from N to 1"
   ]
  },
  {
   "cell_type": "code",
   "execution_count": 73,
   "id": "9f4c2e00-3e84-4c20-b9c8-6ddd4594506d",
   "metadata": {},
   "outputs": [
    {
     "name": "stdin",
     "output_type": "stream",
     "text": [
      " 10\n"
     ]
    },
    {
     "name": "stdout",
     "output_type": "stream",
     "text": [
      "1\n",
      "2\n",
      "3\n",
      "4\n",
      "5\n",
      "6\n",
      "7\n",
      "8\n",
      "9\n"
     ]
    }
   ],
   "source": [
    "n = int(input())\n",
    "\n",
    "for i in range(1, n):\n",
    "    print(i)"
   ]
  },
  {
   "cell_type": "code",
   "execution_count": 75,
   "id": "f6b14265-e54e-483b-9db9-f04293670b04",
   "metadata": {},
   "outputs": [
    {
     "data": {
      "text/plain": [
       "[10, 9, 8, 7, 6, 5, 4, 3, 2]"
      ]
     },
     "execution_count": 75,
     "metadata": {},
     "output_type": "execute_result"
    }
   ],
   "source": [
    "list(range(10, 1, -1))"
   ]
  },
  {
   "cell_type": "code",
   "execution_count": 76,
   "id": "327847a6-e914-4374-9e06-09f8d45b4277",
   "metadata": {},
   "outputs": [
    {
     "data": {
      "text/plain": [
       "[10, 9, 8, 7, 6, 5, 4, 3, 2, 1]"
      ]
     },
     "execution_count": 76,
     "metadata": {},
     "output_type": "execute_result"
    }
   ],
   "source": [
    "list(range(10, 0, -1))"
   ]
  },
  {
   "cell_type": "code",
   "execution_count": null,
   "id": "4a89e234-9849-409e-8a13-291e44e45d4e",
   "metadata": {},
   "outputs": [],
   "source": []
  },
  {
   "cell_type": "code",
   "execution_count": 77,
   "id": "abfbbeb5-c40b-4a1e-8324-7f5b0018e8dd",
   "metadata": {},
   "outputs": [
    {
     "name": "stdin",
     "output_type": "stream",
     "text": [
      " 10\n"
     ]
    },
    {
     "name": "stdout",
     "output_type": "stream",
     "text": [
      "10\n",
      "9\n",
      "8\n",
      "7\n",
      "6\n",
      "5\n",
      "4\n",
      "3\n",
      "2\n",
      "1\n"
     ]
    }
   ],
   "source": [
    "n = int(input())\n",
    "\n",
    "for i in range(n, 0, -1):\n",
    "    print(i)"
   ]
  },
  {
   "cell_type": "code",
   "execution_count": null,
   "id": "e8c1c73e-3a50-422a-9c35-65862d7a17bf",
   "metadata": {},
   "outputs": [],
   "source": []
  },
  {
   "cell_type": "code",
   "execution_count": null,
   "id": "4ec66674-d14f-46f9-bc1c-3dd7d7260b87",
   "metadata": {},
   "outputs": [],
   "source": []
  },
  {
   "cell_type": "markdown",
   "id": "33c68d50-600c-4a40-b076-9bed66130275",
   "metadata": {},
   "source": [
    "### HW\n",
    "- Even Numbers from 2, 10\n",
    "    - if condition\n",
    "    - without using if condition\n",
    "    \n",
    "- Odd Numbers from 1, 10\n",
    "    - if condition\n",
    "    - without using if condition"
   ]
  },
  {
   "cell_type": "code",
   "execution_count": null,
   "id": "8d9845ee-1cdc-4b42-b89b-84e45dd0ac55",
   "metadata": {},
   "outputs": [],
   "source": []
  },
  {
   "cell_type": "code",
   "execution_count": 78,
   "id": "6864b66c-e26d-494e-af6f-56bd08f962be",
   "metadata": {},
   "outputs": [],
   "source": [
    "# Quiz"
   ]
  },
  {
   "cell_type": "code",
   "execution_count": 86,
   "id": "0b32fb79-176b-4532-8539-ea616652bbbb",
   "metadata": {},
   "outputs": [
    {
     "data": {
      "text/plain": [
       "[1, 3, 5, 7, 9]"
      ]
     },
     "execution_count": 86,
     "metadata": {},
     "output_type": "execute_result"
    }
   ],
   "source": [
    "list(range(1, 11, 2))"
   ]
  },
  {
   "cell_type": "code",
   "execution_count": null,
   "id": "89b3457e-2773-4097-92e1-34bb541ac73c",
   "metadata": {},
   "outputs": [],
   "source": []
  },
  {
   "cell_type": "code",
   "execution_count": 87,
   "id": "3782dcd7-a957-42c0-9bf6-d58257a4c367",
   "metadata": {},
   "outputs": [
    {
     "data": {
      "text/plain": [
       "[0, 1, 2, 3, 4, 5, 6, 7, 8, 9, 10]"
      ]
     },
     "execution_count": 87,
     "metadata": {},
     "output_type": "execute_result"
    }
   ],
   "source": [
    "list(range(11))"
   ]
  },
  {
   "cell_type": "code",
   "execution_count": 88,
   "id": "62cd6caa-f8c4-4e47-982e-5f3c5a03a80e",
   "metadata": {},
   "outputs": [
    {
     "data": {
      "text/plain": [
       "[0, 1, 2, 3, 4, 5, 6, 7, 8, 9]"
      ]
     },
     "execution_count": 88,
     "metadata": {},
     "output_type": "execute_result"
    }
   ],
   "source": [
    "list(range(10))"
   ]
  },
  {
   "cell_type": "code",
   "execution_count": null,
   "id": "05fb2e37-9d5d-4bde-8edb-a0d156fcc642",
   "metadata": {},
   "outputs": [],
   "source": []
  },
  {
   "cell_type": "code",
   "execution_count": null,
   "id": "5a4d5a79-9d5e-4782-a50a-da80897671f5",
   "metadata": {},
   "outputs": [],
   "source": []
  },
  {
   "cell_type": "code",
   "execution_count": 92,
   "id": "12d12d8a-8bb9-4d92-8d39-5272dc856999",
   "metadata": {},
   "outputs": [],
   "source": [
    "# Doubt"
   ]
  },
  {
   "cell_type": "code",
   "execution_count": 93,
   "id": "a58deb1e-0ed8-4e42-84e7-313c154aa684",
   "metadata": {},
   "outputs": [
    {
     "name": "stdin",
     "output_type": "stream",
     "text": [
      " start = 0\n"
     ]
    },
    {
     "ename": "ValueError",
     "evalue": "invalid literal for int() with base 10: 'start = 0'",
     "output_type": "error",
     "traceback": [
      "\u001b[0;31m---------------------------------------------------------------------------\u001b[0m",
      "\u001b[0;31mValueError\u001b[0m                                Traceback (most recent call last)",
      "\u001b[0;32m/var/folders/t5/yhjgrjs907zfp250jyxtw54m0000gn/T/ipykernel_96430/1473364611.py\u001b[0m in \u001b[0;36m<module>\u001b[0;34m\u001b[0m\n\u001b[0;32m----> 1\u001b[0;31m \u001b[0mt\u001b[0m\u001b[0;34m=\u001b[0m \u001b[0mint\u001b[0m\u001b[0;34m(\u001b[0m\u001b[0minput\u001b[0m\u001b[0;34m(\u001b[0m\u001b[0;34m)\u001b[0m\u001b[0;34m)\u001b[0m\u001b[0;34m\u001b[0m\u001b[0;34m\u001b[0m\u001b[0m\n\u001b[0m\u001b[1;32m      2\u001b[0m \u001b[0mstart\u001b[0m\u001b[0;34m=\u001b[0m\u001b[0;36m0\u001b[0m\u001b[0;34m\u001b[0m\u001b[0;34m\u001b[0m\u001b[0m\n",
      "\u001b[0;31mValueError\u001b[0m: invalid literal for int() with base 10: 'start = 0'"
     ]
    }
   ],
   "source": [
    "t= int(input())\n",
    "start = 0"
   ]
  },
  {
   "cell_type": "code",
   "execution_count": null,
   "id": "2d74aa59-d5cb-4839-aa58-c396bb29368a",
   "metadata": {},
   "outputs": [],
   "source": []
  },
  {
   "cell_type": "code",
   "execution_count": null,
   "id": "82a237fa-e9c0-454a-8e6a-e8db08097b8c",
   "metadata": {},
   "outputs": [],
   "source": []
  },
  {
   "cell_type": "code",
   "execution_count": null,
   "id": "8c8f22cf-dd03-40d1-86c3-1df0f1c26f45",
   "metadata": {},
   "outputs": [],
   "source": []
  },
  {
   "cell_type": "code",
   "execution_count": null,
   "id": "ed00ec48-c827-4e7d-b72e-48b2eca3f3ec",
   "metadata": {},
   "outputs": [],
   "source": []
  }
 ],
 "metadata": {
  "kernelspec": {
   "display_name": "Python 3 (ipykernel)",
   "language": "python",
   "name": "python3"
  },
  "language_info": {
   "codemirror_mode": {
    "name": "ipython",
    "version": 3
   },
   "file_extension": ".py",
   "mimetype": "text/x-python",
   "name": "python",
   "nbconvert_exporter": "python",
   "pygments_lexer": "ipython3",
   "version": "3.9.7"
  }
 },
 "nbformat": 4,
 "nbformat_minor": 5
}
