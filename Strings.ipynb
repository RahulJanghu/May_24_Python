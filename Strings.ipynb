{
 "cells": [
  {
   "cell_type": "markdown",
   "id": "f6f1f47b-1cc4-4f9b-a8f2-85c9cf68ecaa",
   "metadata": {},
   "source": [
    "### Basic stuff"
   ]
  },
  {
   "cell_type": "code",
   "execution_count": 1,
   "id": "cea39787-80be-4970-9164-49aa5abcfc40",
   "metadata": {},
   "outputs": [],
   "source": [
    "# small has big value and big has small value"
   ]
  },
  {
   "cell_type": "code",
   "execution_count": 2,
   "id": "268ac6bc-c2d1-4c29-9706-7f10134e3a3f",
   "metadata": {},
   "outputs": [
    {
     "data": {
      "text/plain": [
       "98"
      ]
     },
     "execution_count": 2,
     "metadata": {},
     "output_type": "execute_result"
    }
   ],
   "source": [
    "ord('b')"
   ]
  },
  {
   "cell_type": "code",
   "execution_count": 3,
   "id": "b5b9d4b5-c042-48e0-9a34-fd4b2113665a",
   "metadata": {},
   "outputs": [
    {
     "data": {
      "text/plain": [
       "66"
      ]
     },
     "execution_count": 3,
     "metadata": {},
     "output_type": "execute_result"
    }
   ],
   "source": [
    "ord('B')"
   ]
  },
  {
   "cell_type": "code",
   "execution_count": 4,
   "id": "2f9c813d-11a9-44ae-a74c-82a462aab5ba",
   "metadata": {},
   "outputs": [
    {
     "data": {
      "text/plain": [
       "97"
      ]
     },
     "execution_count": 4,
     "metadata": {},
     "output_type": "execute_result"
    }
   ],
   "source": [
    "ord('a')"
   ]
  },
  {
   "cell_type": "code",
   "execution_count": 5,
   "id": "1927bbea-4e6f-47d3-9c96-b42455d7349e",
   "metadata": {},
   "outputs": [
    {
     "data": {
      "text/plain": [
       "65"
      ]
     },
     "execution_count": 5,
     "metadata": {},
     "output_type": "execute_result"
    }
   ],
   "source": [
    "ord('A')"
   ]
  },
  {
   "cell_type": "code",
   "execution_count": null,
   "id": "59a69799-9bb2-4fd3-8f70-319780c84e24",
   "metadata": {},
   "outputs": [],
   "source": []
  },
  {
   "cell_type": "code",
   "execution_count": null,
   "id": "a25ef0ac-9e2b-4751-896a-ce3e5600ab7f",
   "metadata": {},
   "outputs": [],
   "source": []
  },
  {
   "cell_type": "code",
   "execution_count": 6,
   "id": "1e5a61b1-3522-4db7-a232-cb403c8404f5",
   "metadata": {},
   "outputs": [],
   "source": [
    "# chr function is used to get the character value associated with integer"
   ]
  },
  {
   "cell_type": "code",
   "execution_count": 7,
   "id": "880b21bf-a221-4578-8100-37356fe3d8a8",
   "metadata": {},
   "outputs": [
    {
     "data": {
      "text/plain": [
       "'z'"
      ]
     },
     "execution_count": 7,
     "metadata": {},
     "output_type": "execute_result"
    }
   ],
   "source": [
    "chr(122)"
   ]
  },
  {
   "cell_type": "code",
   "execution_count": 8,
   "id": "d973e224-6c00-46f6-a7f1-7eadf9db9c5f",
   "metadata": {},
   "outputs": [
    {
     "data": {
      "text/plain": [
       "'Z'"
      ]
     },
     "execution_count": 8,
     "metadata": {},
     "output_type": "execute_result"
    }
   ],
   "source": [
    "chr(90)"
   ]
  },
  {
   "cell_type": "code",
   "execution_count": null,
   "id": "54a95124-159d-4130-a254-e93fe77141d6",
   "metadata": {},
   "outputs": [],
   "source": []
  },
  {
   "cell_type": "code",
   "execution_count": 9,
   "id": "dc5c389e-db59-493c-ae20-ca00ef2c62f8",
   "metadata": {},
   "outputs": [],
   "source": [
    "## String formatting"
   ]
  },
  {
   "cell_type": "code",
   "execution_count": 10,
   "id": "11300246-7b2c-4626-ad0b-e417c9cf7e81",
   "metadata": {},
   "outputs": [],
   "source": [
    "name = \"Rahul\"\n",
    "last = \"Janghu\""
   ]
  },
  {
   "cell_type": "code",
   "execution_count": 11,
   "id": "85827f06-fbcc-404a-a7fb-d94139f68342",
   "metadata": {},
   "outputs": [
    {
     "data": {
      "text/plain": [
       "'RahulJanghu'"
      ]
     },
     "execution_count": 11,
     "metadata": {},
     "output_type": "execute_result"
    }
   ],
   "source": [
    "name + last"
   ]
  },
  {
   "cell_type": "code",
   "execution_count": 12,
   "id": "31077882-b0b6-40a5-bb2d-2345287e671b",
   "metadata": {},
   "outputs": [
    {
     "data": {
      "text/plain": [
       "'aaaaa'"
      ]
     },
     "execution_count": 12,
     "metadata": {},
     "output_type": "execute_result"
    }
   ],
   "source": [
    "\"a\" * 5"
   ]
  },
  {
   "cell_type": "code",
   "execution_count": 13,
   "id": "9a46cd7d-d8e1-4e83-af6b-b25dbcba98da",
   "metadata": {},
   "outputs": [],
   "source": [
    "def intro(name, place):\n",
    "    print(\"Hey my name is\", name, \"and I live in\", place, \".\")"
   ]
  },
  {
   "cell_type": "code",
   "execution_count": 18,
   "id": "fcfa9973-ee44-4812-b50a-9d6abb7b90b3",
   "metadata": {},
   "outputs": [],
   "source": [
    "def intro(name, place):\n",
    "    print(f\"Hey my name is {name} and I live in {place}.\")"
   ]
  },
  {
   "cell_type": "code",
   "execution_count": 19,
   "id": "9751880d-f8f0-4c0a-8cfe-5c6458baeb9a",
   "metadata": {},
   "outputs": [
    {
     "name": "stdout",
     "output_type": "stream",
     "text": [
      "Hey my name is Rahul and I live in Gurgaon.\n"
     ]
    }
   ],
   "source": [
    "intro(\"Rahul\", \"Gurgaon\")"
   ]
  },
  {
   "cell_type": "code",
   "execution_count": 15,
   "id": "ba2eb916-3207-4f77-a723-87c086e78011",
   "metadata": {},
   "outputs": [],
   "source": [
    "l = 5\n",
    "b = 10\n",
    "area = l * b"
   ]
  },
  {
   "cell_type": "code",
   "execution_count": 16,
   "id": "93c1944c-dd71-47b9-a09e-db7f8e08088b",
   "metadata": {},
   "outputs": [
    {
     "name": "stdout",
     "output_type": "stream",
     "text": [
      "Length is 5 breadth is 10 and area is 50\n"
     ]
    }
   ],
   "source": [
    "print(\"Length is\", l, \"breadth is\", b, \"and area is\", area)"
   ]
  },
  {
   "cell_type": "code",
   "execution_count": 17,
   "id": "a042fab5-a403-4c85-96f0-de330d70e705",
   "metadata": {},
   "outputs": [
    {
     "name": "stdout",
     "output_type": "stream",
     "text": [
      "Length is 5, breadth is 10 and area is 50.\n"
     ]
    }
   ],
   "source": [
    "print(f\"Length is {l}, breadth is {b} and area is {area}.\")"
   ]
  },
  {
   "cell_type": "code",
   "execution_count": null,
   "id": "31cc029a-77a6-4f20-8477-80f83a7c53e6",
   "metadata": {},
   "outputs": [],
   "source": []
  },
  {
   "cell_type": "code",
   "execution_count": 22,
   "id": "db24209a-a605-470f-98e3-6a235f6926de",
   "metadata": {},
   "outputs": [],
   "source": [
    "# Quiz"
   ]
  },
  {
   "cell_type": "code",
   "execution_count": 21,
   "id": "dfab3e62-8928-4003-a25e-09a5c2f75e7d",
   "metadata": {},
   "outputs": [],
   "source": [
    "# \"Rahul\"\n",
    "# \"Rahul'\n",
    "# 'Rahul'"
   ]
  },
  {
   "cell_type": "code",
   "execution_count": 23,
   "id": "0de309c5-e8c0-4b9c-8d1d-74478965fb22",
   "metadata": {},
   "outputs": [
    {
     "name": "stdout",
     "output_type": "stream",
     "text": [
      "12\n"
     ]
    }
   ],
   "source": [
    "s = \"rahul janghu\"\n",
    "print(len(s))"
   ]
  },
  {
   "cell_type": "code",
   "execution_count": 24,
   "id": "2b4afd52-5575-4edc-a2ad-b1aca41e1f44",
   "metadata": {},
   "outputs": [
    {
     "data": {
      "text/plain": [
       "4"
      ]
     },
     "execution_count": 24,
     "metadata": {},
     "output_type": "execute_result"
    }
   ],
   "source": [
    "len(\"    \")"
   ]
  },
  {
   "cell_type": "code",
   "execution_count": null,
   "id": "884f265c-d3ae-45ef-8601-9adf85048d64",
   "metadata": {},
   "outputs": [],
   "source": []
  },
  {
   "cell_type": "code",
   "execution_count": null,
   "id": "3656732b-1e98-47fb-a316-e587af18a6ab",
   "metadata": {},
   "outputs": [],
   "source": []
  },
  {
   "cell_type": "markdown",
   "id": "c1ff5685-83c2-49db-808f-3b553b11f799",
   "metadata": {},
   "source": [
    "### String methods\n",
    "- Inbuilt Functions:\n",
    "- len\n",
    "- capitalize\n",
    "- title\n",
    "- count\n",
    "- replace\n",
    "- split"
   ]
  },
  {
   "cell_type": "code",
   "execution_count": 25,
   "id": "926addca-4d69-45ae-a13d-98433c1a7dab",
   "metadata": {},
   "outputs": [],
   "source": [
    "# capitalize"
   ]
  },
  {
   "cell_type": "code",
   "execution_count": 29,
   "id": "475772d4-139d-4f8d-b9cc-5e62f34964ea",
   "metadata": {},
   "outputs": [],
   "source": [
    "name = \"rAhUl jaNgHu\""
   ]
  },
  {
   "cell_type": "code",
   "execution_count": 30,
   "id": "14ca10bf-ed57-434a-8e29-fd289d3b2c1e",
   "metadata": {},
   "outputs": [
    {
     "data": {
      "text/plain": [
       "'Rahul janghu'"
      ]
     },
     "execution_count": 30,
     "metadata": {},
     "output_type": "execute_result"
    }
   ],
   "source": [
    "name.capitalize()"
   ]
  },
  {
   "cell_type": "code",
   "execution_count": 31,
   "id": "69d5e72e-bceb-449d-808c-40a877309c7f",
   "metadata": {},
   "outputs": [
    {
     "data": {
      "text/plain": [
       "'rAhUl jaNgHu'"
      ]
     },
     "execution_count": 31,
     "metadata": {},
     "output_type": "execute_result"
    }
   ],
   "source": [
    "name"
   ]
  },
  {
   "cell_type": "code",
   "execution_count": null,
   "id": "1ba4cf50-a6bc-4bd1-8271-fe9f1cd8cc14",
   "metadata": {},
   "outputs": [],
   "source": []
  },
  {
   "cell_type": "code",
   "execution_count": null,
   "id": "00d71338-fe27-4578-9d0a-fc31193c0197",
   "metadata": {},
   "outputs": [],
   "source": []
  },
  {
   "cell_type": "code",
   "execution_count": 32,
   "id": "20a710f7-a898-4344-ab07-0658253b00ef",
   "metadata": {},
   "outputs": [],
   "source": [
    "# title"
   ]
  },
  {
   "cell_type": "code",
   "execution_count": 34,
   "id": "3de7dbd1-aa86-40d2-a438-9f2441f2e30f",
   "metadata": {},
   "outputs": [
    {
     "data": {
      "text/plain": [
       "'Rahul Janghu'"
      ]
     },
     "execution_count": 34,
     "metadata": {},
     "output_type": "execute_result"
    }
   ],
   "source": [
    "name.title()"
   ]
  },
  {
   "cell_type": "code",
   "execution_count": 35,
   "id": "f17b85cb-e409-44f3-83bc-60f3de137487",
   "metadata": {},
   "outputs": [
    {
     "data": {
      "text/plain": [
       "'Rahuljanghu'"
      ]
     },
     "execution_count": 35,
     "metadata": {},
     "output_type": "execute_result"
    }
   ],
   "source": [
    "\"rAhUljanghu\".title()"
   ]
  },
  {
   "cell_type": "code",
   "execution_count": 36,
   "id": "aa751fe4-55be-4dc1-9938-46c0986b50b0",
   "metadata": {},
   "outputs": [
    {
     "data": {
      "text/plain": [
       "'@Rahul'"
      ]
     },
     "execution_count": 36,
     "metadata": {},
     "output_type": "execute_result"
    }
   ],
   "source": [
    "\"@rahul\".title()"
   ]
  },
  {
   "cell_type": "code",
   "execution_count": null,
   "id": "ecb76b78-1a8c-4004-9b51-944b6234024c",
   "metadata": {},
   "outputs": [],
   "source": []
  },
  {
   "cell_type": "code",
   "execution_count": null,
   "id": "f024149f-fa6e-4cb4-9eec-b8584ddf8da2",
   "metadata": {},
   "outputs": [],
   "source": []
  },
  {
   "cell_type": "code",
   "execution_count": 37,
   "id": "672e7799-f617-4132-8c67-5d181d30706e",
   "metadata": {},
   "outputs": [],
   "source": [
    "# count"
   ]
  },
  {
   "cell_type": "code",
   "execution_count": 38,
   "id": "1777943a-bf1d-4e7c-bf40-05acb6a4438a",
   "metadata": {},
   "outputs": [
    {
     "data": {
      "text/plain": [
       "'rAhUl jaNgHu'"
      ]
     },
     "execution_count": 38,
     "metadata": {},
     "output_type": "execute_result"
    }
   ],
   "source": [
    "name"
   ]
  },
  {
   "cell_type": "code",
   "execution_count": 40,
   "id": "8d553031-5e31-4cae-9cb6-92994058c313",
   "metadata": {},
   "outputs": [
    {
     "data": {
      "text/plain": [
       "1"
      ]
     },
     "execution_count": 40,
     "metadata": {},
     "output_type": "execute_result"
    }
   ],
   "source": [
    "name.count('A')"
   ]
  },
  {
   "cell_type": "code",
   "execution_count": 41,
   "id": "5cddcc49-cb38-463f-a20b-02187fae3730",
   "metadata": {},
   "outputs": [
    {
     "data": {
      "text/plain": [
       "0"
      ]
     },
     "execution_count": 41,
     "metadata": {},
     "output_type": "execute_result"
    }
   ],
   "source": [
    "name.count('R')"
   ]
  },
  {
   "cell_type": "code",
   "execution_count": 44,
   "id": "215554f2-c3af-41d3-b12b-65f3dd660ae3",
   "metadata": {},
   "outputs": [
    {
     "data": {
      "text/plain": [
       "1"
      ]
     },
     "execution_count": 44,
     "metadata": {},
     "output_type": "execute_result"
    }
   ],
   "source": [
    "name.count('rA')"
   ]
  },
  {
   "cell_type": "code",
   "execution_count": null,
   "id": "6e79f4ee-d854-4684-89f0-ca67568a4677",
   "metadata": {},
   "outputs": [],
   "source": []
  },
  {
   "cell_type": "code",
   "execution_count": null,
   "id": "7a8e2e10-2eb3-4f8e-ae73-bbc801b46b0f",
   "metadata": {},
   "outputs": [],
   "source": []
  },
  {
   "cell_type": "code",
   "execution_count": 42,
   "id": "859b37d4-a88e-4ec3-b1a0-493a6358375f",
   "metadata": {},
   "outputs": [],
   "source": [
    "# replace"
   ]
  },
  {
   "cell_type": "code",
   "execution_count": 43,
   "id": "eb1f9f56-05bb-4296-a5a8-74b1bc894301",
   "metadata": {},
   "outputs": [],
   "source": [
    "# replace(old, new)"
   ]
  },
  {
   "cell_type": "code",
   "execution_count": 46,
   "id": "2bd1ed9b-11fd-4e93-a364-44546179aac2",
   "metadata": {},
   "outputs": [
    {
     "data": {
      "text/plain": [
       "'rAhUl jaNgHu'"
      ]
     },
     "execution_count": 46,
     "metadata": {},
     "output_type": "execute_result"
    }
   ],
   "source": [
    "name"
   ]
  },
  {
   "cell_type": "code",
   "execution_count": 47,
   "id": "703d2089-e57a-4a2e-ac1d-152f3fa3626c",
   "metadata": {},
   "outputs": [
    {
     "data": {
      "text/plain": [
       "'RAhUl jaNgHu'"
      ]
     },
     "execution_count": 47,
     "metadata": {},
     "output_type": "execute_result"
    }
   ],
   "source": [
    "name.replace('r', 'R')"
   ]
  },
  {
   "cell_type": "code",
   "execution_count": 48,
   "id": "6f0947ae-39e2-428d-a75c-3891decd3dc7",
   "metadata": {},
   "outputs": [
    {
     "data": {
      "text/plain": [
       "'rAhUl jaNgHu'"
      ]
     },
     "execution_count": 48,
     "metadata": {},
     "output_type": "execute_result"
    }
   ],
   "source": [
    "name"
   ]
  },
  {
   "cell_type": "code",
   "execution_count": 49,
   "id": "9d7eea30-e5ff-491f-a54e-460792ee2b28",
   "metadata": {},
   "outputs": [
    {
     "data": {
      "text/plain": [
       "'rAhUl jaNgHu'"
      ]
     },
     "execution_count": 49,
     "metadata": {},
     "output_type": "execute_result"
    }
   ],
   "source": [
    "name.replace('ra', 'Ra')"
   ]
  },
  {
   "cell_type": "code",
   "execution_count": 50,
   "id": "115a268b-5289-449c-8f36-b815c3a50cb9",
   "metadata": {},
   "outputs": [
    {
     "data": {
      "text/plain": [
       "'RahUl jaNgHu'"
      ]
     },
     "execution_count": 50,
     "metadata": {},
     "output_type": "execute_result"
    }
   ],
   "source": [
    "name.replace('rA', 'Ra')"
   ]
  },
  {
   "cell_type": "code",
   "execution_count": 52,
   "id": "4c8529ec-f93c-4968-8999-2fad887c8e86",
   "metadata": {},
   "outputs": [
    {
     "data": {
      "text/plain": [
       "'RhUl jaNgHu'"
      ]
     },
     "execution_count": 52,
     "metadata": {},
     "output_type": "execute_result"
    }
   ],
   "source": [
    "name.replace('rA', 'R')"
   ]
  },
  {
   "cell_type": "code",
   "execution_count": null,
   "id": "9ba830aa-ee6f-4c77-8c7d-12b7c3b246e4",
   "metadata": {},
   "outputs": [],
   "source": []
  },
  {
   "cell_type": "code",
   "execution_count": null,
   "id": "7aec1f17-36da-4886-b739-1c6498b83130",
   "metadata": {},
   "outputs": [],
   "source": []
  },
  {
   "cell_type": "code",
   "execution_count": 53,
   "id": "e5a7f415-5a32-4b0e-93b7-a91b2023188b",
   "metadata": {},
   "outputs": [],
   "source": [
    "# split"
   ]
  },
  {
   "cell_type": "code",
   "execution_count": 54,
   "id": "bf2ff0d2-d815-4715-8694-92fdaf6fd0cc",
   "metadata": {},
   "outputs": [
    {
     "data": {
      "text/plain": [
       "'rAhUl jaNgHu'"
      ]
     },
     "execution_count": 54,
     "metadata": {},
     "output_type": "execute_result"
    }
   ],
   "source": [
    "name"
   ]
  },
  {
   "cell_type": "code",
   "execution_count": 56,
   "id": "1d85bef7-c427-456a-8d15-d976cde2bdaf",
   "metadata": {},
   "outputs": [
    {
     "data": {
      "text/plain": [
       "['rAhUl', 'jaNgHu']"
      ]
     },
     "execution_count": 56,
     "metadata": {},
     "output_type": "execute_result"
    }
   ],
   "source": [
    "name.split()"
   ]
  },
  {
   "cell_type": "code",
   "execution_count": 57,
   "id": "524461e1-243f-4033-a07d-ff2ea415e404",
   "metadata": {},
   "outputs": [
    {
     "data": {
      "text/plain": [
       "['1', '2', '3', '4', '5']"
      ]
     },
     "execution_count": 57,
     "metadata": {},
     "output_type": "execute_result"
    }
   ],
   "source": [
    "\"1 2 3 4 5\".split()"
   ]
  },
  {
   "cell_type": "code",
   "execution_count": 63,
   "id": "d0f6406a-30bc-4da5-9a73-7198ed466e9e",
   "metadata": {},
   "outputs": [],
   "source": [
    "l = \"Rahul Janghu\".split(sep=\"a\")"
   ]
  },
  {
   "cell_type": "code",
   "execution_count": 64,
   "id": "56fac82e-be5e-4795-a53f-041d5f9022da",
   "metadata": {},
   "outputs": [
    {
     "data": {
      "text/plain": [
       "'R'"
      ]
     },
     "execution_count": 64,
     "metadata": {},
     "output_type": "execute_result"
    }
   ],
   "source": [
    "l[0]"
   ]
  },
  {
   "cell_type": "code",
   "execution_count": null,
   "id": "59e007be-102a-4139-a190-a0c268252510",
   "metadata": {},
   "outputs": [],
   "source": []
  },
  {
   "cell_type": "code",
   "execution_count": 65,
   "id": "03a1eec8-87e6-4b48-a0b4-abaef6244b21",
   "metadata": {},
   "outputs": [],
   "source": [
    "# join"
   ]
  },
  {
   "cell_type": "code",
   "execution_count": 67,
   "id": "d1826995-bdbd-4b0f-a811-b1ebef3d5650",
   "metadata": {},
   "outputs": [],
   "source": [
    "name = \"Rahul Janghu\""
   ]
  },
  {
   "cell_type": "code",
   "execution_count": 68,
   "id": "8bc36fc1-f2e0-4378-88b7-f7ccec5a9a82",
   "metadata": {},
   "outputs": [],
   "source": [
    "l = name.split()"
   ]
  },
  {
   "cell_type": "code",
   "execution_count": 69,
   "id": "0fdabd7c-637f-4563-8965-314a6210bbed",
   "metadata": {},
   "outputs": [
    {
     "data": {
      "text/plain": [
       "['Rahul', 'Janghu']"
      ]
     },
     "execution_count": 69,
     "metadata": {},
     "output_type": "execute_result"
    }
   ],
   "source": [
    "l"
   ]
  },
  {
   "cell_type": "code",
   "execution_count": null,
   "id": "e8be42be-42e7-4ff2-af46-67fbda4c0359",
   "metadata": {},
   "outputs": [],
   "source": []
  },
  {
   "cell_type": "code",
   "execution_count": 73,
   "id": "bf8c9f2f-c176-45d9-b125-fab11bc67d89",
   "metadata": {},
   "outputs": [
    {
     "data": {
      "text/plain": [
       "'Rahul Janghu'"
      ]
     },
     "execution_count": 73,
     "metadata": {},
     "output_type": "execute_result"
    }
   ],
   "source": [
    "\" \".join(l)"
   ]
  },
  {
   "cell_type": "code",
   "execution_count": 74,
   "id": "021990ed-04be-43b5-a399-b634527e18cd",
   "metadata": {},
   "outputs": [],
   "source": [
    "l = [\"My\", \"name\", \"is\", \"Rahul.\"]"
   ]
  },
  {
   "cell_type": "code",
   "execution_count": 75,
   "id": "bb80422a-ecb7-4631-b0b3-7f0d410e08d7",
   "metadata": {},
   "outputs": [
    {
     "data": {
      "text/plain": [
       "['My', 'name', 'is', 'Rahul.']"
      ]
     },
     "execution_count": 75,
     "metadata": {},
     "output_type": "execute_result"
    }
   ],
   "source": [
    "l"
   ]
  },
  {
   "cell_type": "code",
   "execution_count": 76,
   "id": "c355e357-514c-4961-88d3-6181861c203d",
   "metadata": {},
   "outputs": [
    {
     "data": {
      "text/plain": [
       "'My name is Rahul.'"
      ]
     },
     "execution_count": 76,
     "metadata": {},
     "output_type": "execute_result"
    }
   ],
   "source": [
    "\" \".join(l)"
   ]
  },
  {
   "cell_type": "code",
   "execution_count": 77,
   "id": "e22652f0-2f42-424f-8108-a7432ad319cc",
   "metadata": {},
   "outputs": [
    {
     "data": {
      "text/plain": [
       "'My -> name -> is -> Rahul.'"
      ]
     },
     "execution_count": 77,
     "metadata": {},
     "output_type": "execute_result"
    }
   ],
   "source": [
    "\" -> \".join(l)"
   ]
  },
  {
   "cell_type": "code",
   "execution_count": null,
   "id": "e7ee1f08-a478-4da9-8f2a-9cb457e1271f",
   "metadata": {},
   "outputs": [],
   "source": []
  },
  {
   "cell_type": "code",
   "execution_count": null,
   "id": "457352f9-eb1b-4864-b309-be93dc692370",
   "metadata": {},
   "outputs": [],
   "source": []
  },
  {
   "cell_type": "code",
   "execution_count": 79,
   "id": "3912eaed-1c89-48e6-9c3d-06ef28f3b171",
   "metadata": {},
   "outputs": [
    {
     "data": {
      "text/plain": [
       "'23'"
      ]
     },
     "execution_count": 79,
     "metadata": {},
     "output_type": "execute_result"
    }
   ],
   "source": [
    "str(23)"
   ]
  },
  {
   "cell_type": "code",
   "execution_count": 80,
   "id": "7ea467f8-db76-411d-b7a4-e16d173dfe1a",
   "metadata": {},
   "outputs": [
    {
     "data": {
      "text/plain": [
       "'23.0'"
      ]
     },
     "execution_count": 80,
     "metadata": {},
     "output_type": "execute_result"
    }
   ],
   "source": [
    "str(23.0)"
   ]
  },
  {
   "cell_type": "code",
   "execution_count": 81,
   "id": "b9e070da-36cf-4e1f-95aa-18fb127171e7",
   "metadata": {},
   "outputs": [
    {
     "data": {
      "text/plain": [
       "'None'"
      ]
     },
     "execution_count": 81,
     "metadata": {},
     "output_type": "execute_result"
    }
   ],
   "source": [
    "str(None)"
   ]
  },
  {
   "cell_type": "code",
   "execution_count": 82,
   "id": "51b20150-d81c-4c9b-8d63-6ec09034c635",
   "metadata": {},
   "outputs": [
    {
     "data": {
      "text/plain": [
       "'True'"
      ]
     },
     "execution_count": 82,
     "metadata": {},
     "output_type": "execute_result"
    }
   ],
   "source": [
    "str(True)"
   ]
  },
  {
   "cell_type": "code",
   "execution_count": null,
   "id": "5cbb6e3d-fd9d-4879-a371-a2c62ecdc80b",
   "metadata": {},
   "outputs": [],
   "source": []
  },
  {
   "cell_type": "code",
   "execution_count": 83,
   "id": "8e617e79-78d9-4ec1-9996-4f2d63d0c589",
   "metadata": {},
   "outputs": [],
   "source": [
    "# find"
   ]
  },
  {
   "cell_type": "code",
   "execution_count": 84,
   "id": "9354fb47-f999-42d8-b4ed-b27115414c2e",
   "metadata": {},
   "outputs": [
    {
     "data": {
      "text/plain": [
       "'Rahul Janghu'"
      ]
     },
     "execution_count": 84,
     "metadata": {},
     "output_type": "execute_result"
    }
   ],
   "source": [
    "name"
   ]
  },
  {
   "cell_type": "code",
   "execution_count": 86,
   "id": "0860f631-3193-4556-b398-9bff598e9a1b",
   "metadata": {},
   "outputs": [
    {
     "data": {
      "text/plain": [
       "1"
      ]
     },
     "execution_count": 86,
     "metadata": {},
     "output_type": "execute_result"
    }
   ],
   "source": [
    "name.find('a')"
   ]
  },
  {
   "cell_type": "code",
   "execution_count": 87,
   "id": "f1cf7045-1bb0-4654-bfe8-400d560851a3",
   "metadata": {},
   "outputs": [
    {
     "data": {
      "text/plain": [
       "3"
      ]
     },
     "execution_count": 87,
     "metadata": {},
     "output_type": "execute_result"
    }
   ],
   "source": [
    "name.find('u')"
   ]
  },
  {
   "cell_type": "code",
   "execution_count": 89,
   "id": "b9e13f30-5be0-489a-aa5a-4607ef31b446",
   "metadata": {},
   "outputs": [
    {
     "data": {
      "text/plain": [
       "-1"
      ]
     },
     "execution_count": 89,
     "metadata": {},
     "output_type": "execute_result"
    }
   ],
   "source": [
    "name.find('r')"
   ]
  },
  {
   "cell_type": "code",
   "execution_count": null,
   "id": "a0d36608-4858-4f62-9e4a-ddb4aa8932ce",
   "metadata": {},
   "outputs": [],
   "source": []
  },
  {
   "cell_type": "code",
   "execution_count": 90,
   "id": "0a26a2df-9cdb-4563-aa6e-0ecce414d646",
   "metadata": {},
   "outputs": [],
   "source": [
    "# .isdigit()"
   ]
  },
  {
   "cell_type": "code",
   "execution_count": 91,
   "id": "e65f2eb1-0603-4990-aa68-89c9e17ca445",
   "metadata": {},
   "outputs": [
    {
     "data": {
      "text/plain": [
       "\u001b[0;31mSignature:\u001b[0m \u001b[0mname\u001b[0m\u001b[0;34m.\u001b[0m\u001b[0misdigit\u001b[0m\u001b[0;34m(\u001b[0m\u001b[0;34m)\u001b[0m\u001b[0;34m\u001b[0m\u001b[0;34m\u001b[0m\u001b[0m\n",
       "\u001b[0;31mDocstring:\u001b[0m\n",
       "Return True if the string is a digit string, False otherwise.\n",
       "\n",
       "A string is a digit string if all characters in the string are digits and there\n",
       "is at least one character in the string.\n",
       "\u001b[0;31mType:\u001b[0m      builtin_function_or_method\n"
      ]
     },
     "metadata": {},
     "output_type": "display_data"
    }
   ],
   "source": [
    "name.isdigit?"
   ]
  },
  {
   "cell_type": "code",
   "execution_count": 92,
   "id": "62f3cf41-0755-4ef0-94f2-2fd874fe116a",
   "metadata": {},
   "outputs": [
    {
     "data": {
      "text/plain": [
       "True"
      ]
     },
     "execution_count": 92,
     "metadata": {},
     "output_type": "execute_result"
    }
   ],
   "source": [
    "\"4\".isdigit()"
   ]
  },
  {
   "cell_type": "code",
   "execution_count": 93,
   "id": "c90a3f12-667f-46d7-8515-79d98ebb6d8c",
   "metadata": {},
   "outputs": [
    {
     "data": {
      "text/plain": [
       "False"
      ]
     },
     "execution_count": 93,
     "metadata": {},
     "output_type": "execute_result"
    }
   ],
   "source": [
    "\"14jh143hi1h4\".isdigit()"
   ]
  },
  {
   "cell_type": "code",
   "execution_count": null,
   "id": "5ba15193-2ce7-4912-a870-d84e8ac96056",
   "metadata": {},
   "outputs": [],
   "source": []
  },
  {
   "cell_type": "code",
   "execution_count": 94,
   "id": "49fc362b-4a28-481b-913e-e4e66030ef21",
   "metadata": {},
   "outputs": [],
   "source": [
    "# .isalpha()"
   ]
  },
  {
   "cell_type": "code",
   "execution_count": 95,
   "id": "9ef9f326-a8e2-45e7-9a74-5ea1f6762728",
   "metadata": {},
   "outputs": [
    {
     "data": {
      "text/plain": [
       "\u001b[0;31mSignature:\u001b[0m \u001b[0mname\u001b[0m\u001b[0;34m.\u001b[0m\u001b[0misalpha\u001b[0m\u001b[0;34m(\u001b[0m\u001b[0;34m)\u001b[0m\u001b[0;34m\u001b[0m\u001b[0;34m\u001b[0m\u001b[0m\n",
       "\u001b[0;31mDocstring:\u001b[0m\n",
       "Return True if the string is an alphabetic string, False otherwise.\n",
       "\n",
       "A string is alphabetic if all characters in the string are alphabetic and there\n",
       "is at least one character in the string.\n",
       "\u001b[0;31mType:\u001b[0m      builtin_function_or_method\n"
      ]
     },
     "metadata": {},
     "output_type": "display_data"
    }
   ],
   "source": [
    "name.isalpha?"
   ]
  },
  {
   "cell_type": "code",
   "execution_count": 97,
   "id": "4c369f08-b28a-4bd0-b75e-6917ed3534f6",
   "metadata": {},
   "outputs": [
    {
     "data": {
      "text/plain": [
       "'Rahul Janghu'"
      ]
     },
     "execution_count": 97,
     "metadata": {},
     "output_type": "execute_result"
    }
   ],
   "source": [
    "name"
   ]
  },
  {
   "cell_type": "code",
   "execution_count": 98,
   "id": "2fe97a16-77d9-4399-a777-2f3327efed6d",
   "metadata": {},
   "outputs": [
    {
     "data": {
      "text/plain": [
       "False"
      ]
     },
     "execution_count": 98,
     "metadata": {},
     "output_type": "execute_result"
    }
   ],
   "source": [
    "name.isalpha()"
   ]
  },
  {
   "cell_type": "code",
   "execution_count": 99,
   "id": "f2774f9d-4a4a-447b-99c3-8836ac50b852",
   "metadata": {},
   "outputs": [
    {
     "data": {
      "text/plain": [
       "True"
      ]
     },
     "execution_count": 99,
     "metadata": {},
     "output_type": "execute_result"
    }
   ],
   "source": [
    "\"rahul\".isalpha()"
   ]
  },
  {
   "cell_type": "code",
   "execution_count": 100,
   "id": "6ac6b056-9788-4c39-8d13-054f3b39f2c3",
   "metadata": {},
   "outputs": [
    {
     "data": {
      "text/plain": [
       "True"
      ]
     },
     "execution_count": 100,
     "metadata": {},
     "output_type": "execute_result"
    }
   ],
   "source": [
    "\"Rahul\".isalpha()"
   ]
  },
  {
   "cell_type": "code",
   "execution_count": null,
   "id": "eb67d023-01ee-456c-9469-9a89ee9ebb8f",
   "metadata": {},
   "outputs": [],
   "source": []
  },
  {
   "cell_type": "code",
   "execution_count": null,
   "id": "8c128561-0007-4f3d-b652-e37df7deaacf",
   "metadata": {},
   "outputs": [],
   "source": []
  },
  {
   "cell_type": "code",
   "execution_count": 101,
   "id": "0ee5c6a8-bada-467a-a0c9-ada86958ddd8",
   "metadata": {},
   "outputs": [],
   "source": [
    "# .isalnum()"
   ]
  },
  {
   "cell_type": "code",
   "execution_count": 102,
   "id": "ca81c8ae-6bf7-4f73-be6c-705b79e0b946",
   "metadata": {},
   "outputs": [
    {
     "data": {
      "text/plain": [
       "\u001b[0;31mSignature:\u001b[0m \u001b[0mname\u001b[0m\u001b[0;34m.\u001b[0m\u001b[0misalnum\u001b[0m\u001b[0;34m(\u001b[0m\u001b[0;34m)\u001b[0m\u001b[0;34m\u001b[0m\u001b[0;34m\u001b[0m\u001b[0m\n",
       "\u001b[0;31mDocstring:\u001b[0m\n",
       "Return True if the string is an alpha-numeric string, False otherwise.\n",
       "\n",
       "A string is alpha-numeric if all characters in the string are alpha-numeric and\n",
       "there is at least one character in the string.\n",
       "\u001b[0;31mType:\u001b[0m      builtin_function_or_method\n"
      ]
     },
     "metadata": {},
     "output_type": "display_data"
    }
   ],
   "source": [
    "name.isalnum?"
   ]
  },
  {
   "cell_type": "code",
   "execution_count": 103,
   "id": "31dbd95d-a0a6-4ae9-bb11-648281e79197",
   "metadata": {},
   "outputs": [
    {
     "data": {
      "text/plain": [
       "True"
      ]
     },
     "execution_count": 103,
     "metadata": {},
     "output_type": "execute_result"
    }
   ],
   "source": [
    "\"rahul\".isalnum()"
   ]
  },
  {
   "cell_type": "code",
   "execution_count": 104,
   "id": "80cfb7a4-b7a0-4f3c-9389-29f767fd36f0",
   "metadata": {},
   "outputs": [
    {
     "data": {
      "text/plain": [
       "True"
      ]
     },
     "execution_count": 104,
     "metadata": {},
     "output_type": "execute_result"
    }
   ],
   "source": [
    "\"ra34nk3\".isalnum()"
   ]
  },
  {
   "cell_type": "code",
   "execution_count": 105,
   "id": "bf698a82-9f84-45d8-bfe1-fb0e7530a30f",
   "metadata": {},
   "outputs": [
    {
     "data": {
      "text/plain": [
       "True"
      ]
     },
     "execution_count": 105,
     "metadata": {},
     "output_type": "execute_result"
    }
   ],
   "source": [
    "\"34\".isalnum()"
   ]
  },
  {
   "cell_type": "code",
   "execution_count": 106,
   "id": "1e407dba-8007-4d90-98ed-de6bc513975b",
   "metadata": {},
   "outputs": [
    {
     "data": {
      "text/plain": [
       "False"
      ]
     },
     "execution_count": 106,
     "metadata": {},
     "output_type": "execute_result"
    }
   ],
   "source": [
    "\"j23@\".isalnum()"
   ]
  },
  {
   "cell_type": "code",
   "execution_count": 107,
   "id": "960220fe-4233-41dc-958a-e753ac595250",
   "metadata": {},
   "outputs": [
    {
     "data": {
      "text/plain": [
       "False"
      ]
     },
     "execution_count": 107,
     "metadata": {},
     "output_type": "execute_result"
    }
   ],
   "source": [
    "\"rahul 1\".isalnum()"
   ]
  },
  {
   "cell_type": "code",
   "execution_count": null,
   "id": "de71c0c5-7ed5-480b-b267-47c26c5bd4d5",
   "metadata": {},
   "outputs": [],
   "source": []
  },
  {
   "cell_type": "code",
   "execution_count": 108,
   "id": "edc6c673-227f-4a39-92ef-9757f0ee8435",
   "metadata": {},
   "outputs": [],
   "source": [
    "# .isupper()"
   ]
  },
  {
   "cell_type": "code",
   "execution_count": 109,
   "id": "d516df26-7f6e-48f3-bc1f-7e87548913f4",
   "metadata": {},
   "outputs": [
    {
     "data": {
      "text/plain": [
       "'Rahul Janghu'"
      ]
     },
     "execution_count": 109,
     "metadata": {},
     "output_type": "execute_result"
    }
   ],
   "source": [
    "name"
   ]
  },
  {
   "cell_type": "code",
   "execution_count": 112,
   "id": "5e48da55-9377-451c-9206-4292b8a2cee8",
   "metadata": {},
   "outputs": [
    {
     "data": {
      "text/plain": [
       "False"
      ]
     },
     "execution_count": 112,
     "metadata": {},
     "output_type": "execute_result"
    }
   ],
   "source": [
    "name.isupper()"
   ]
  },
  {
   "cell_type": "code",
   "execution_count": 113,
   "id": "e4986475-cf84-4e0b-8d8a-17d6ad20889a",
   "metadata": {},
   "outputs": [
    {
     "data": {
      "text/plain": [
       "True"
      ]
     },
     "execution_count": 113,
     "metadata": {},
     "output_type": "execute_result"
    }
   ],
   "source": [
    "\"RAHUL JANGHU\".isupper()"
   ]
  },
  {
   "cell_type": "code",
   "execution_count": null,
   "id": "379f825d-e32c-4244-b634-d92775e96e34",
   "metadata": {},
   "outputs": [],
   "source": []
  },
  {
   "cell_type": "code",
   "execution_count": 114,
   "id": "61cc64c3-cd0a-416e-89ca-10c7ad559dea",
   "metadata": {},
   "outputs": [],
   "source": [
    "# .islower()"
   ]
  },
  {
   "cell_type": "code",
   "execution_count": 116,
   "id": "74527fc2-e545-4c8f-b84b-2f61e0dab051",
   "metadata": {},
   "outputs": [
    {
     "data": {
      "text/plain": [
       "'Rahul Janghu'"
      ]
     },
     "execution_count": 116,
     "metadata": {},
     "output_type": "execute_result"
    }
   ],
   "source": [
    "name"
   ]
  },
  {
   "cell_type": "code",
   "execution_count": 117,
   "id": "3d0f9b1b-a8f5-4d25-8c60-86d59138165b",
   "metadata": {},
   "outputs": [
    {
     "data": {
      "text/plain": [
       "False"
      ]
     },
     "execution_count": 117,
     "metadata": {},
     "output_type": "execute_result"
    }
   ],
   "source": [
    "name.islower()"
   ]
  },
  {
   "cell_type": "code",
   "execution_count": 118,
   "id": "01b12ba8-4ea4-44c4-a7ee-9b04e4503079",
   "metadata": {},
   "outputs": [
    {
     "data": {
      "text/plain": [
       "True"
      ]
     },
     "execution_count": 118,
     "metadata": {},
     "output_type": "execute_result"
    }
   ],
   "source": [
    "\"a\".islower()"
   ]
  },
  {
   "cell_type": "code",
   "execution_count": null,
   "id": "d05b93e5-50fe-4861-b317-0b400cf61fb2",
   "metadata": {},
   "outputs": [],
   "source": []
  },
  {
   "cell_type": "code",
   "execution_count": null,
   "id": "0d3a6f48-9628-4552-a38a-faafc722cc0d",
   "metadata": {},
   "outputs": [],
   "source": []
  },
  {
   "cell_type": "code",
   "execution_count": 119,
   "id": "94b0622b-3e75-4484-9e43-6dc3094fd3b1",
   "metadata": {},
   "outputs": [],
   "source": [
    "# lower() and upper()"
   ]
  },
  {
   "cell_type": "code",
   "execution_count": 120,
   "id": "f8a26ca2-c56c-4125-8e65-ce48bd2a3c61",
   "metadata": {},
   "outputs": [
    {
     "data": {
      "text/plain": [
       "'Rahul Janghu'"
      ]
     },
     "execution_count": 120,
     "metadata": {},
     "output_type": "execute_result"
    }
   ],
   "source": [
    "name"
   ]
  },
  {
   "cell_type": "code",
   "execution_count": 121,
   "id": "c379a117-b7ad-48af-aa47-66fb42e53f25",
   "metadata": {},
   "outputs": [
    {
     "data": {
      "text/plain": [
       "'rahul janghu'"
      ]
     },
     "execution_count": 121,
     "metadata": {},
     "output_type": "execute_result"
    }
   ],
   "source": [
    "name.lower()"
   ]
  },
  {
   "cell_type": "code",
   "execution_count": 122,
   "id": "74e936a4-7d4a-4556-8449-1013c1e258f3",
   "metadata": {},
   "outputs": [
    {
     "data": {
      "text/plain": [
       "\u001b[0;31mSignature:\u001b[0m \u001b[0mname\u001b[0m\u001b[0;34m.\u001b[0m\u001b[0mlower\u001b[0m\u001b[0;34m(\u001b[0m\u001b[0;34m)\u001b[0m\u001b[0;34m\u001b[0m\u001b[0;34m\u001b[0m\u001b[0m\n",
       "\u001b[0;31mDocstring:\u001b[0m Return a copy of the string converted to lowercase.\n",
       "\u001b[0;31mType:\u001b[0m      builtin_function_or_method\n"
      ]
     },
     "metadata": {},
     "output_type": "display_data"
    }
   ],
   "source": [
    "name.lower?"
   ]
  },
  {
   "cell_type": "code",
   "execution_count": 123,
   "id": "f303840a-8517-4ef9-9056-826be449cc82",
   "metadata": {},
   "outputs": [
    {
     "data": {
      "text/plain": [
       "'Rahul Janghu'"
      ]
     },
     "execution_count": 123,
     "metadata": {},
     "output_type": "execute_result"
    }
   ],
   "source": [
    "name"
   ]
  },
  {
   "cell_type": "code",
   "execution_count": null,
   "id": "081606e5-7984-4162-bc78-b5dad4284cdb",
   "metadata": {},
   "outputs": [],
   "source": []
  },
  {
   "cell_type": "code",
   "execution_count": 124,
   "id": "67ed922f-3e2d-4591-b259-a5b3b3523029",
   "metadata": {},
   "outputs": [
    {
     "data": {
      "text/plain": [
       "\u001b[0;31mSignature:\u001b[0m \u001b[0mname\u001b[0m\u001b[0;34m.\u001b[0m\u001b[0mupper\u001b[0m\u001b[0;34m(\u001b[0m\u001b[0;34m)\u001b[0m\u001b[0;34m\u001b[0m\u001b[0;34m\u001b[0m\u001b[0m\n",
       "\u001b[0;31mDocstring:\u001b[0m Return a copy of the string converted to uppercase.\n",
       "\u001b[0;31mType:\u001b[0m      builtin_function_or_method\n"
      ]
     },
     "metadata": {},
     "output_type": "display_data"
    }
   ],
   "source": [
    "name.upper?"
   ]
  },
  {
   "cell_type": "code",
   "execution_count": 125,
   "id": "0a692e2f-c90b-490f-b14e-79bef3919ee9",
   "metadata": {},
   "outputs": [
    {
     "data": {
      "text/plain": [
       "'RAHUL JANGHU'"
      ]
     },
     "execution_count": 125,
     "metadata": {},
     "output_type": "execute_result"
    }
   ],
   "source": [
    "name.upper()"
   ]
  },
  {
   "cell_type": "code",
   "execution_count": null,
   "id": "39b42957-34c0-4ad7-a865-2ccfc42f402c",
   "metadata": {},
   "outputs": [],
   "source": []
  },
  {
   "cell_type": "code",
   "execution_count": null,
   "id": "97102294-f002-4e6c-ab2b-ebafc4636898",
   "metadata": {},
   "outputs": [],
   "source": []
  },
  {
   "cell_type": "code",
   "execution_count": null,
   "id": "963295ee-a4ce-4664-a3ce-50c002e6792e",
   "metadata": {},
   "outputs": [],
   "source": []
  },
  {
   "cell_type": "code",
   "execution_count": 126,
   "id": "e3a2230b-407b-4833-bdee-97e4843b37db",
   "metadata": {},
   "outputs": [],
   "source": [
    "# strings are iterable"
   ]
  },
  {
   "cell_type": "code",
   "execution_count": 127,
   "id": "f7f0b055-0c40-4337-ac3d-8ba0c19750b2",
   "metadata": {},
   "outputs": [
    {
     "data": {
      "text/plain": [
       "'Rahul Janghu'"
      ]
     },
     "execution_count": 127,
     "metadata": {},
     "output_type": "execute_result"
    }
   ],
   "source": [
    "name"
   ]
  },
  {
   "cell_type": "code",
   "execution_count": 128,
   "id": "d6a1828d-4584-4625-b193-d4447ca6ec0e",
   "metadata": {},
   "outputs": [
    {
     "data": {
      "text/plain": [
       "82"
      ]
     },
     "execution_count": 128,
     "metadata": {},
     "output_type": "execute_result"
    }
   ],
   "source": [
    "ord('R')"
   ]
  },
  {
   "cell_type": "code",
   "execution_count": 129,
   "id": "25bea7d9-c740-42f5-9108-800865513a0e",
   "metadata": {},
   "outputs": [
    {
     "data": {
      "text/plain": [
       "97"
      ]
     },
     "execution_count": 129,
     "metadata": {},
     "output_type": "execute_result"
    }
   ],
   "source": [
    "ord('a')"
   ]
  },
  {
   "cell_type": "code",
   "execution_count": 130,
   "id": "8d0036d6-be83-406d-8bf5-bc1fb8f50089",
   "metadata": {},
   "outputs": [
    {
     "name": "stdout",
     "output_type": "stream",
     "text": [
      "R\n",
      "a\n",
      "h\n",
      "u\n",
      "l\n",
      " \n",
      "J\n",
      "a\n",
      "n\n",
      "g\n",
      "h\n",
      "u\n"
     ]
    }
   ],
   "source": [
    "for i in name:\n",
    "    print(i)"
   ]
  },
  {
   "cell_type": "code",
   "execution_count": 131,
   "id": "a73f288b-c699-4551-9998-402238bc2bfe",
   "metadata": {},
   "outputs": [
    {
     "name": "stdout",
     "output_type": "stream",
     "text": [
      "R 82\n",
      "a 97\n",
      "h 104\n",
      "u 117\n",
      "l 108\n",
      "  32\n",
      "J 74\n",
      "a 97\n",
      "n 110\n",
      "g 103\n",
      "h 104\n",
      "u 117\n"
     ]
    }
   ],
   "source": [
    "for i in name:\n",
    "    print(i, ord(i))"
   ]
  },
  {
   "cell_type": "code",
   "execution_count": null,
   "id": "53897346-95ed-41ca-abfa-a00217960034",
   "metadata": {},
   "outputs": [],
   "source": []
  },
  {
   "cell_type": "code",
   "execution_count": null,
   "id": "fa7dbde2-98d7-4091-a833-dd7b758e8ea0",
   "metadata": {},
   "outputs": [],
   "source": []
  },
  {
   "cell_type": "code",
   "execution_count": null,
   "id": "75dd5b84-cafa-4d46-935d-42e6e697f8f6",
   "metadata": {},
   "outputs": [],
   "source": []
  },
  {
   "cell_type": "markdown",
   "id": "55d836e2-089d-43b0-9862-df9d81990828",
   "metadata": {},
   "source": [
    "### Challenge Palindrome"
   ]
  },
  {
   "cell_type": "code",
   "execution_count": 132,
   "id": "e8a734fa-5012-40c5-a7c6-8914b97dddaa",
   "metadata": {},
   "outputs": [],
   "source": [
    "# Write a function to check for pallindrome"
   ]
  },
  {
   "cell_type": "code",
   "execution_count": 133,
   "id": "56e3e608-ed1e-42c8-955f-56d11d55cc8c",
   "metadata": {},
   "outputs": [],
   "source": [
    "# level\n",
    "# radar\n",
    "# rahul"
   ]
  },
  {
   "cell_type": "code",
   "execution_count": 134,
   "id": "733c348f-41d4-4e26-be64-b6fb90b160a0",
   "metadata": {},
   "outputs": [],
   "source": [
    "# Given a string return reveresed string"
   ]
  },
  {
   "cell_type": "code",
   "execution_count": 135,
   "id": "5606ff27-5ba4-4f6b-8b33-99cad031d40c",
   "metadata": {},
   "outputs": [],
   "source": [
    "name = \"Rahul\""
   ]
  },
  {
   "cell_type": "code",
   "execution_count": 136,
   "id": "04c6a99c-7b89-4842-942b-bb973d9f881f",
   "metadata": {},
   "outputs": [
    {
     "data": {
      "text/plain": [
       "'luhaR'"
      ]
     },
     "execution_count": 136,
     "metadata": {},
     "output_type": "execute_result"
    }
   ],
   "source": [
    "name[::-1]"
   ]
  },
  {
   "cell_type": "code",
   "execution_count": 137,
   "id": "46a5c49a-bb30-4921-8e3c-045ba2dc860a",
   "metadata": {},
   "outputs": [
    {
     "data": {
      "text/plain": [
       "'Rahul'"
      ]
     },
     "execution_count": 137,
     "metadata": {},
     "output_type": "execute_result"
    }
   ],
   "source": [
    "name"
   ]
  },
  {
   "cell_type": "code",
   "execution_count": null,
   "id": "feff9978-12cb-4a13-9de6-2fc2ab91f2ab",
   "metadata": {},
   "outputs": [],
   "source": []
  },
  {
   "cell_type": "markdown",
   "id": "33212892-86d4-48d0-a314-e69a50de2f25",
   "metadata": {},
   "source": [
    "#### Questions-2:\n",
    "- Take a string as input from user\n",
    "- return \"PALINDROME\" if the string is a palindrome.\n",
    "- Otherwise return \"NOT A PALINDROME\""
   ]
  },
  {
   "cell_type": "code",
   "execution_count": 148,
   "id": "f734349c-e2bf-4b73-bf31-3489958200ca",
   "metadata": {},
   "outputs": [
    {
     "name": "stdin",
     "output_type": "stream",
     "text": [
      " Level\n"
     ]
    },
    {
     "data": {
      "text/plain": [
       "'NOT A PALINDROME'"
      ]
     },
     "execution_count": 148,
     "metadata": {},
     "output_type": "execute_result"
    }
   ],
   "source": [
    "s = input()\n",
    "\n",
    "def check_palindrome(s):\n",
    "    # check if reverse of s is equal to s\n",
    "    if s == s[::-1]:\n",
    "        return 'PALINDROME'\n",
    "    else:\n",
    "        return \"NOT A PALINDROME\"\n",
    "    \n",
    "check_palindrome(s)"
   ]
  },
  {
   "cell_type": "code",
   "execution_count": null,
   "id": "56404c83-4473-46ca-8351-584184454586",
   "metadata": {},
   "outputs": [],
   "source": []
  },
  {
   "cell_type": "code",
   "execution_count": 141,
   "id": "4cce18f5-451e-43d3-bb74-77f41bf4094f",
   "metadata": {},
   "outputs": [
    {
     "data": {
      "text/plain": [
       "'Rahul'"
      ]
     },
     "execution_count": 141,
     "metadata": {},
     "output_type": "execute_result"
    }
   ],
   "source": [
    "name"
   ]
  },
  {
   "cell_type": "code",
   "execution_count": 140,
   "id": "7e6b9b1d-5906-4ce4-97fc-67e2b34a26dd",
   "metadata": {},
   "outputs": [
    {
     "data": {
      "text/plain": [
       "'luhaR'"
      ]
     },
     "execution_count": 140,
     "metadata": {},
     "output_type": "execute_result"
    }
   ],
   "source": [
    "name[::-1]"
   ]
  },
  {
   "cell_type": "code",
   "execution_count": 142,
   "id": "7a4351a7-be72-4589-adb8-783436533e48",
   "metadata": {},
   "outputs": [
    {
     "data": {
      "text/plain": [
       "False"
      ]
     },
     "execution_count": 142,
     "metadata": {},
     "output_type": "execute_result"
    }
   ],
   "source": [
    "name == name[::-1]"
   ]
  },
  {
   "cell_type": "code",
   "execution_count": 143,
   "id": "ce41d3c9-51f8-4a41-87b4-df996e325cba",
   "metadata": {},
   "outputs": [
    {
     "data": {
      "text/plain": [
       "True"
      ]
     },
     "execution_count": 143,
     "metadata": {},
     "output_type": "execute_result"
    }
   ],
   "source": [
    "\"radar\" == \"radar\"[::-1]"
   ]
  },
  {
   "cell_type": "code",
   "execution_count": null,
   "id": "cdd5c940-b32e-48c1-9c90-a1aee82c606c",
   "metadata": {},
   "outputs": [],
   "source": []
  },
  {
   "cell_type": "code",
   "execution_count": null,
   "id": "ac05152f-6e53-4de4-937a-5a76eacab7d0",
   "metadata": {},
   "outputs": [],
   "source": []
  },
  {
   "cell_type": "code",
   "execution_count": 149,
   "id": "bbdb9a7c-49cf-4e64-ba87-41848700e381",
   "metadata": {},
   "outputs": [],
   "source": [
    "# Quiz"
   ]
  },
  {
   "cell_type": "code",
   "execution_count": 150,
   "id": "43f3e925-6426-4cd9-8e21-254740a5d7f8",
   "metadata": {},
   "outputs": [
    {
     "name": "stdout",
     "output_type": "stream",
     "text": [
      "Helle Werld!\n"
     ]
    }
   ],
   "source": [
    "message = \"Hello World!\"\n",
    "print(message.replace(\"o\", \"e\"))"
   ]
  },
  {
   "cell_type": "code",
   "execution_count": null,
   "id": "788331d5-2832-4c9d-85f2-6d8a63ed1f3a",
   "metadata": {},
   "outputs": [],
   "source": []
  },
  {
   "cell_type": "code",
   "execution_count": 151,
   "id": "76e657b1-f9ec-4c22-8cbc-6e9ec69471bc",
   "metadata": {},
   "outputs": [
    {
     "name": "stdout",
     "output_type": "stream",
     "text": [
      "4\n"
     ]
    }
   ],
   "source": [
    "message = \"Hello World!\"\n",
    "print(message.find(\"o\"))"
   ]
  },
  {
   "cell_type": "code",
   "execution_count": null,
   "id": "4ae68ef9-39fe-4d6b-8c0b-467af9000f79",
   "metadata": {},
   "outputs": [],
   "source": []
  },
  {
   "cell_type": "markdown",
   "id": "aad7173e-ba64-46de-8ae3-d1f068072a10",
   "metadata": {},
   "source": [
    "### Mutability and Immutability"
   ]
  },
  {
   "cell_type": "code",
   "execution_count": 153,
   "id": "24520254-5625-4679-8436-5ec9bbeb1ee5",
   "metadata": {},
   "outputs": [],
   "source": [
    "l = [1, 2, 3, 4]"
   ]
  },
  {
   "cell_type": "code",
   "execution_count": 154,
   "id": "c16d67fe-7011-407b-9c28-c25c1f364261",
   "metadata": {},
   "outputs": [],
   "source": [
    "l[0] = 23"
   ]
  },
  {
   "cell_type": "code",
   "execution_count": 159,
   "id": "c9c173f7-9281-437b-b41b-cd243fead857",
   "metadata": {},
   "outputs": [],
   "source": [
    "# Lists are mutable: They can be changed in place"
   ]
  },
  {
   "cell_type": "code",
   "execution_count": 155,
   "id": "b8ca8571-83aa-4725-8ed5-71d32ed9d4a5",
   "metadata": {},
   "outputs": [
    {
     "data": {
      "text/plain": [
       "[23, 2, 3, 4]"
      ]
     },
     "execution_count": 155,
     "metadata": {},
     "output_type": "execute_result"
    }
   ],
   "source": [
    "l"
   ]
  },
  {
   "cell_type": "code",
   "execution_count": null,
   "id": "a19f9540-7ed1-453a-b48d-310dd2a4a300",
   "metadata": {},
   "outputs": [],
   "source": []
  },
  {
   "cell_type": "code",
   "execution_count": 156,
   "id": "42dea42f-10f1-440a-b0bf-5e52de43d7fe",
   "metadata": {},
   "outputs": [
    {
     "data": {
      "text/plain": [
       "'Rahul'"
      ]
     },
     "execution_count": 156,
     "metadata": {},
     "output_type": "execute_result"
    }
   ],
   "source": [
    "name"
   ]
  },
  {
   "cell_type": "code",
   "execution_count": 158,
   "id": "7a69f457-5b9b-4fd2-b475-a4c4568a2d8a",
   "metadata": {},
   "outputs": [
    {
     "ename": "TypeError",
     "evalue": "'str' object does not support item assignment",
     "output_type": "error",
     "traceback": [
      "\u001b[0;31m---------------------------------------------------------------------------\u001b[0m",
      "\u001b[0;31mTypeError\u001b[0m                                 Traceback (most recent call last)",
      "\u001b[0;32m/var/folders/t5/yhjgrjs907zfp250jyxtw54m0000gn/T/ipykernel_48114/281278655.py\u001b[0m in \u001b[0;36m<module>\u001b[0;34m\u001b[0m\n\u001b[0;32m----> 1\u001b[0;31m \u001b[0mname\u001b[0m\u001b[0;34m[\u001b[0m\u001b[0;36m0\u001b[0m\u001b[0;34m]\u001b[0m \u001b[0;34m=\u001b[0m \u001b[0;34m'r'\u001b[0m\u001b[0;34m\u001b[0m\u001b[0;34m\u001b[0m\u001b[0m\n\u001b[0m",
      "\u001b[0;31mTypeError\u001b[0m: 'str' object does not support item assignment"
     ]
    }
   ],
   "source": [
    "name[0] = 'r'"
   ]
  },
  {
   "cell_type": "code",
   "execution_count": 160,
   "id": "204b931a-63b0-47de-9c83-c08d58b131e9",
   "metadata": {},
   "outputs": [],
   "source": [
    "# Strings are immutable : They can't be updated / changed in place"
   ]
  },
  {
   "cell_type": "code",
   "execution_count": 162,
   "id": "41124e7b-d657-484f-9de0-3d7ffa5417eb",
   "metadata": {},
   "outputs": [],
   "source": [
    "name = \"rahul\""
   ]
  },
  {
   "cell_type": "code",
   "execution_count": null,
   "id": "7dbddeba-6058-4022-9145-fea8eb19f184",
   "metadata": {},
   "outputs": [],
   "source": []
  },
  {
   "cell_type": "code",
   "execution_count": 164,
   "id": "c2a781e3-be92-499a-b2cb-af33344d59ca",
   "metadata": {},
   "outputs": [
    {
     "data": {
      "text/plain": [
       "1"
      ]
     },
     "execution_count": 164,
     "metadata": {},
     "output_type": "execute_result"
    }
   ],
   "source": [
    "name.find('a')"
   ]
  },
  {
   "cell_type": "code",
   "execution_count": null,
   "id": "99c3ada8-b617-4d6d-ab35-6b44a3c03d50",
   "metadata": {},
   "outputs": [],
   "source": []
  },
  {
   "cell_type": "code",
   "execution_count": null,
   "id": "9e6d9e7e-fd76-4a41-9fe9-49f1d416a3a1",
   "metadata": {},
   "outputs": [],
   "source": []
  },
  {
   "cell_type": "code",
   "execution_count": null,
   "id": "9ff56b85-4489-4768-a6ea-712696d8a8db",
   "metadata": {},
   "outputs": [],
   "source": []
  },
  {
   "cell_type": "code",
   "execution_count": null,
   "id": "4e065e7b-9f02-44d2-b698-7af256f0ffa8",
   "metadata": {},
   "outputs": [],
   "source": []
  }
 ],
 "metadata": {
  "kernelspec": {
   "display_name": "Python 3 (ipykernel)",
   "language": "python",
   "name": "python3"
  },
  "language_info": {
   "codemirror_mode": {
    "name": "ipython",
    "version": 3
   },
   "file_extension": ".py",
   "mimetype": "text/x-python",
   "name": "python",
   "nbconvert_exporter": "python",
   "pygments_lexer": "ipython3",
   "version": "3.9.7"
  }
 },
 "nbformat": 4,
 "nbformat_minor": 5
}
