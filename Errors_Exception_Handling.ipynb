{
 "cells": [
  {
   "cell_type": "markdown",
   "id": "4c996f83-e56a-44c3-8679-89b36a5d97f8",
   "metadata": {},
   "source": [
    "### Modules"
   ]
  },
  {
   "cell_type": "code",
   "execution_count": 1,
   "id": "a86e38c9-a6f9-4fec-ae75-1b6109babedb",
   "metadata": {},
   "outputs": [],
   "source": [
    "import math"
   ]
  },
  {
   "cell_type": "code",
   "execution_count": 3,
   "id": "2b8ff36a-85cf-4cda-97a0-e8a983eb5c5d",
   "metadata": {},
   "outputs": [],
   "source": [
    "# print(help(math))"
   ]
  },
  {
   "cell_type": "code",
   "execution_count": 5,
   "id": "6054fa5a-f9d9-40fe-a9ef-c116c8aa7db6",
   "metadata": {},
   "outputs": [
    {
     "data": {
      "text/plain": [
       "5.0"
      ]
     },
     "execution_count": 5,
     "metadata": {},
     "output_type": "execute_result"
    }
   ],
   "source": [
    "math.sqrt(25)"
   ]
  },
  {
   "cell_type": "code",
   "execution_count": null,
   "id": "000e2d5e-4ef2-413b-a490-42542466087f",
   "metadata": {},
   "outputs": [],
   "source": []
  },
  {
   "cell_type": "code",
   "execution_count": 6,
   "id": "d5020604-9d49-4d3d-ac51-f91bce6ab03f",
   "metadata": {},
   "outputs": [],
   "source": [
    "# We have a lot of inbuilt libraries in Python"
   ]
  },
  {
   "cell_type": "code",
   "execution_count": 7,
   "id": "463ae1db-e37c-4602-a4dd-9d22570f68f3",
   "metadata": {},
   "outputs": [],
   "source": [
    "import random"
   ]
  },
  {
   "cell_type": "code",
   "execution_count": 9,
   "id": "16cdd16d-9c3a-4de3-88bd-9be54d86f642",
   "metadata": {},
   "outputs": [],
   "source": [
    "# print(help(random))"
   ]
  },
  {
   "cell_type": "code",
   "execution_count": 36,
   "id": "19a4747c-aa7f-4f9e-9df0-62c5c5bb9b6b",
   "metadata": {},
   "outputs": [
    {
     "data": {
      "text/plain": [
       "51"
      ]
     },
     "execution_count": 36,
     "metadata": {},
     "output_type": "execute_result"
    }
   ],
   "source": [
    "random.randint(0, 100)"
   ]
  },
  {
   "cell_type": "code",
   "execution_count": 43,
   "id": "28184c46-8618-4a02-acb0-e447eebcbe09",
   "metadata": {},
   "outputs": [
    {
     "name": "stdout",
     "output_type": "stream",
     "text": [
      "82\n",
      "71\n",
      "57\n",
      "33\n",
      "77\n",
      "24\n",
      "81\n",
      "75\n",
      "44\n",
      "95\n"
     ]
    }
   ],
   "source": [
    "for i in range(10):\n",
    "    print(random.randint(0, 100))"
   ]
  },
  {
   "cell_type": "code",
   "execution_count": null,
   "id": "397402ce-4450-49a1-94e2-3f849a3a43cd",
   "metadata": {},
   "outputs": [],
   "source": []
  },
  {
   "cell_type": "code",
   "execution_count": 44,
   "id": "67082ccf-fa61-4fb9-abf8-305e29b885f1",
   "metadata": {},
   "outputs": [],
   "source": [
    "# lets fix the seed"
   ]
  },
  {
   "cell_type": "code",
   "execution_count": 96,
   "id": "12b0625d-2986-41a3-be8f-7fabee888c10",
   "metadata": {},
   "outputs": [
    {
     "name": "stdout",
     "output_type": "stream",
     "text": [
      "2\n",
      "7\n",
      "7\n",
      "2\n",
      "6\n"
     ]
    }
   ],
   "source": [
    "random.seed(100)\n",
    "\n",
    "print(random.randint(0, 10))\n",
    "print(random.randint(0, 10))\n",
    "print(random.randint(0, 10))\n",
    "print(random.randint(0, 10))\n",
    "print(random.randint(0, 10))"
   ]
  },
  {
   "cell_type": "code",
   "execution_count": 46,
   "id": "b3c84b76-5a74-4f8a-8fcd-48f613fc20b7",
   "metadata": {},
   "outputs": [
    {
     "name": "stdout",
     "output_type": "stream",
     "text": [
      "2\n",
      "7\n",
      "7\n",
      "2\n",
      "6\n"
     ]
    }
   ],
   "source": [
    "random.seed(100)\n",
    "\n",
    "print(random.randint(0, 10))\n",
    "print(random.randint(0, 10))\n",
    "print(random.randint(0, 10))\n",
    "print(random.randint(0, 10))\n",
    "print(random.randint(0, 10))"
   ]
  },
  {
   "cell_type": "code",
   "execution_count": 56,
   "id": "94308bd4-a681-42f4-b90d-a9efb2e1470b",
   "metadata": {},
   "outputs": [
    {
     "name": "stdout",
     "output_type": "stream",
     "text": [
      "0\n",
      "1\n",
      "1\n",
      "5\n",
      "2\n"
     ]
    }
   ],
   "source": [
    "random.seed(2)\n",
    "\n",
    "print(random.randint(0, 10))\n",
    "print(random.randint(0, 10))\n",
    "print(random.randint(0, 10))\n",
    "print(random.randint(0, 10))\n",
    "print(random.randint(0, 10))"
   ]
  },
  {
   "cell_type": "code",
   "execution_count": 67,
   "id": "933e6870-f2e7-4cbf-a7d5-22c1153393f3",
   "metadata": {},
   "outputs": [
    {
     "name": "stdout",
     "output_type": "stream",
     "text": [
      "5\n",
      "7\n",
      "2\n",
      "6\n",
      "7\n"
     ]
    }
   ],
   "source": [
    "print(random.randint(0, 10))\n",
    "print(random.randint(0, 10))\n",
    "print(random.randint(0, 10))\n",
    "print(random.randint(0, 10))\n",
    "print(random.randint(0, 10))"
   ]
  },
  {
   "cell_type": "code",
   "execution_count": null,
   "id": "d9359de9-946d-4a6e-9d1a-857924dd74bb",
   "metadata": {},
   "outputs": [],
   "source": []
  },
  {
   "cell_type": "code",
   "execution_count": 68,
   "id": "8d536d51-1282-48f8-8d5f-0575db0ae72d",
   "metadata": {},
   "outputs": [],
   "source": [
    "# Importing module/library"
   ]
  },
  {
   "cell_type": "code",
   "execution_count": 70,
   "id": "a5c9d002-319c-4f5a-91de-24b1208829b7",
   "metadata": {},
   "outputs": [],
   "source": [
    "import math"
   ]
  },
  {
   "cell_type": "code",
   "execution_count": 72,
   "id": "93906378-8d36-4727-9696-a764d8753a02",
   "metadata": {},
   "outputs": [
    {
     "data": {
      "text/plain": [
       "10"
      ]
     },
     "execution_count": 72,
     "metadata": {},
     "output_type": "execute_result"
    }
   ],
   "source": [
    "math.ceil(9.8)"
   ]
  },
  {
   "cell_type": "code",
   "execution_count": 73,
   "id": "c119f77d-b140-42a2-af1d-4c15682e3734",
   "metadata": {},
   "outputs": [
    {
     "data": {
      "text/plain": [
       "4"
      ]
     },
     "execution_count": 73,
     "metadata": {},
     "output_type": "execute_result"
    }
   ],
   "source": [
    "math.floor(4.5)"
   ]
  },
  {
   "cell_type": "code",
   "execution_count": 74,
   "id": "96e4f551-7b6c-47c3-a73a-880c4863e6b5",
   "metadata": {},
   "outputs": [],
   "source": [
    "# If we directly want to use these above functions then import library like:"
   ]
  },
  {
   "cell_type": "code",
   "execution_count": 75,
   "id": "9a552f5c-f7dc-4d65-a272-43b84c369537",
   "metadata": {},
   "outputs": [],
   "source": [
    "from math import *"
   ]
  },
  {
   "cell_type": "code",
   "execution_count": 76,
   "id": "1e5651cc-204c-4cbc-853f-aac453911311",
   "metadata": {},
   "outputs": [
    {
     "data": {
      "text/plain": [
       "9"
      ]
     },
     "execution_count": 76,
     "metadata": {},
     "output_type": "execute_result"
    }
   ],
   "source": [
    "ceil(8.2)"
   ]
  },
  {
   "cell_type": "code",
   "execution_count": 77,
   "id": "f2930916-f8fb-4133-a95a-40ed52b72376",
   "metadata": {},
   "outputs": [
    {
     "data": {
      "text/plain": [
       "3"
      ]
     },
     "execution_count": 77,
     "metadata": {},
     "output_type": "execute_result"
    }
   ],
   "source": [
    "floor(3.4)"
   ]
  },
  {
   "cell_type": "code",
   "execution_count": null,
   "id": "0486d80b-a21d-41de-a470-1327b2639e40",
   "metadata": {},
   "outputs": [],
   "source": []
  },
  {
   "cell_type": "code",
   "execution_count": 78,
   "id": "57ffcedb-fcd3-4670-90d9-81bc5a1621ba",
   "metadata": {},
   "outputs": [],
   "source": [
    "# We generally import libraries like:"
   ]
  },
  {
   "cell_type": "code",
   "execution_count": 79,
   "id": "9f4ba898-c09e-4cd8-9276-1292a73cdbfc",
   "metadata": {},
   "outputs": [],
   "source": [
    "import math as m"
   ]
  },
  {
   "cell_type": "code",
   "execution_count": 80,
   "id": "9838a884-618c-4f05-8d53-fc2da78307e1",
   "metadata": {},
   "outputs": [
    {
     "data": {
      "text/plain": [
       "1"
      ]
     },
     "execution_count": 80,
     "metadata": {},
     "output_type": "execute_result"
    }
   ],
   "source": [
    "m.floor(1.2)"
   ]
  },
  {
   "cell_type": "code",
   "execution_count": 82,
   "id": "fd7c7ba7-3bb9-4c68-9942-bc4ee0037e8b",
   "metadata": {},
   "outputs": [
    {
     "data": {
      "text/plain": [
       "3.0"
      ]
     },
     "execution_count": 82,
     "metadata": {},
     "output_type": "execute_result"
    }
   ],
   "source": [
    "m.log10(1000)"
   ]
  },
  {
   "cell_type": "code",
   "execution_count": 84,
   "id": "57ce2262-a507-4f07-b317-031537978540",
   "metadata": {},
   "outputs": [],
   "source": [
    "# import numpy as np\n",
    "# import pandas as pd\n",
    "# import matplotlib.pyplot as plt\n",
    "# seabornort seaborn as sns"
   ]
  },
  {
   "cell_type": "code",
   "execution_count": null,
   "id": "4ed9a3c0-317f-4c57-9e7e-405c435ea253",
   "metadata": {},
   "outputs": [],
   "source": []
  },
  {
   "cell_type": "code",
   "execution_count": 85,
   "id": "f7f32c73-f29c-4c44-a25a-a2d87f6a2f5f",
   "metadata": {},
   "outputs": [],
   "source": [
    "import numpy as np"
   ]
  },
  {
   "cell_type": "code",
   "execution_count": 93,
   "id": "66cc9faa-1d77-4a2e-82b7-2534ec082139",
   "metadata": {},
   "outputs": [
    {
     "data": {
      "text/plain": [
       "array([1. , 2.9, 4.8, 6.7, 8.6])"
      ]
     },
     "execution_count": 93,
     "metadata": {},
     "output_type": "execute_result"
    }
   ],
   "source": [
    "np.arange(1, 10, 1.9)"
   ]
  },
  {
   "cell_type": "code",
   "execution_count": null,
   "id": "90e4c98e-12ee-4be5-8dd7-aa1f03ea6257",
   "metadata": {},
   "outputs": [],
   "source": []
  },
  {
   "cell_type": "code",
   "execution_count": 95,
   "id": "1d55f6b2-8da4-4245-9c69-c2ab0a182c27",
   "metadata": {},
   "outputs": [
    {
     "data": {
      "text/plain": [
       "84"
      ]
     },
     "execution_count": 95,
     "metadata": {},
     "output_type": "execute_result"
    }
   ],
   "source": [
    "random.randint(1, 100)"
   ]
  },
  {
   "cell_type": "code",
   "execution_count": null,
   "id": "4b33d8b3-7d80-42b6-b843-fe9f32caea84",
   "metadata": {},
   "outputs": [],
   "source": []
  },
  {
   "cell_type": "markdown",
   "id": "6e80b9eb-ab79-4684-9880-4f780b7dac73",
   "metadata": {},
   "source": [
    "### Errors and Exception Handling"
   ]
  },
  {
   "cell_type": "code",
   "execution_count": 97,
   "id": "1caff4b0-a7a4-437a-8b4a-6d94d618625b",
   "metadata": {},
   "outputs": [
    {
     "ename": "ZeroDivisionError",
     "evalue": "division by zero",
     "output_type": "error",
     "traceback": [
      "\u001b[0;31m---------------------------------------------------------------------------\u001b[0m",
      "\u001b[0;31mZeroDivisionError\u001b[0m                         Traceback (most recent call last)",
      "\u001b[0;32m/var/folders/t5/yhjgrjs907zfp250jyxtw54m0000gn/T/ipykernel_61918/1455669704.py\u001b[0m in \u001b[0;36m<module>\u001b[0;34m\u001b[0m\n\u001b[0;32m----> 1\u001b[0;31m \u001b[0;36m1\u001b[0m \u001b[0;34m/\u001b[0m \u001b[0;36m0\u001b[0m\u001b[0;34m\u001b[0m\u001b[0;34m\u001b[0m\u001b[0m\n\u001b[0m",
      "\u001b[0;31mZeroDivisionError\u001b[0m: division by zero"
     ]
    }
   ],
   "source": [
    "1 / 0"
   ]
  },
  {
   "cell_type": "code",
   "execution_count": 98,
   "id": "14506f40-659e-4550-8583-02d3d6e8413f",
   "metadata": {},
   "outputs": [
    {
     "ename": "NameError",
     "evalue": "name 'not_defined_yet' is not defined",
     "output_type": "error",
     "traceback": [
      "\u001b[0;31m---------------------------------------------------------------------------\u001b[0m",
      "\u001b[0;31mNameError\u001b[0m                                 Traceback (most recent call last)",
      "\u001b[0;32m/var/folders/t5/yhjgrjs907zfp250jyxtw54m0000gn/T/ipykernel_61918/2205869509.py\u001b[0m in \u001b[0;36m<module>\u001b[0;34m\u001b[0m\n\u001b[0;32m----> 1\u001b[0;31m \u001b[0mprint\u001b[0m\u001b[0;34m(\u001b[0m\u001b[0mnot_defined_yet\u001b[0m\u001b[0;34m)\u001b[0m\u001b[0;34m\u001b[0m\u001b[0;34m\u001b[0m\u001b[0m\n\u001b[0m",
      "\u001b[0;31mNameError\u001b[0m: name 'not_defined_yet' is not defined"
     ]
    }
   ],
   "source": [
    "print(not_defined_yet)"
   ]
  },
  {
   "cell_type": "code",
   "execution_count": 100,
   "id": "6687c93b-cf1b-4e54-9d96-b133f36e1831",
   "metadata": {},
   "outputs": [
    {
     "ename": "IndentationError",
     "evalue": "expected an indented block (3710121076.py, line 1)",
     "output_type": "error",
     "traceback": [
      "\u001b[0;36m  File \u001b[0;32m\"/var/folders/t5/yhjgrjs907zfp250jyxtw54m0000gn/T/ipykernel_61918/3710121076.py\"\u001b[0;36m, line \u001b[0;32m1\u001b[0m\n\u001b[0;31m    if 23:\u001b[0m\n\u001b[0m          ^\u001b[0m\n\u001b[0;31mIndentationError\u001b[0m\u001b[0;31m:\u001b[0m expected an indented block\n"
     ]
    }
   ],
   "source": [
    "if 23:"
   ]
  },
  {
   "cell_type": "code",
   "execution_count": 101,
   "id": "e0c26b92-bf18-4aa2-b6e8-1ec1d1e764d3",
   "metadata": {},
   "outputs": [
    {
     "ename": "ModuleNotFoundError",
     "evalue": "No module named 'module_that_does_not_exist'",
     "output_type": "error",
     "traceback": [
      "\u001b[0;31m---------------------------------------------------------------------------\u001b[0m",
      "\u001b[0;31mModuleNotFoundError\u001b[0m                       Traceback (most recent call last)",
      "\u001b[0;32m/var/folders/t5/yhjgrjs907zfp250jyxtw54m0000gn/T/ipykernel_61918/1395104696.py\u001b[0m in \u001b[0;36m<module>\u001b[0;34m\u001b[0m\n\u001b[0;32m----> 1\u001b[0;31m \u001b[0;32mimport\u001b[0m \u001b[0mmodule_that_does_not_exist\u001b[0m\u001b[0;34m\u001b[0m\u001b[0;34m\u001b[0m\u001b[0m\n\u001b[0m",
      "\u001b[0;31mModuleNotFoundError\u001b[0m: No module named 'module_that_does_not_exist'"
     ]
    }
   ],
   "source": [
    "import module_that_does_not_exist"
   ]
  },
  {
   "cell_type": "code",
   "execution_count": 102,
   "id": "68bef4d2-bc32-4ee0-9473-63f3fa212f2d",
   "metadata": {},
   "outputs": [
    {
     "ename": "AttributeError",
     "evalue": "'str' object has no attribute 'no_such_method'",
     "output_type": "error",
     "traceback": [
      "\u001b[0;31m---------------------------------------------------------------------------\u001b[0m",
      "\u001b[0;31mAttributeError\u001b[0m                            Traceback (most recent call last)",
      "\u001b[0;32m/var/folders/t5/yhjgrjs907zfp250jyxtw54m0000gn/T/ipykernel_61918/3981271588.py\u001b[0m in \u001b[0;36m<module>\u001b[0;34m\u001b[0m\n\u001b[0;32m----> 1\u001b[0;31m \u001b[0;34m\"rahul\"\u001b[0m\u001b[0;34m.\u001b[0m\u001b[0mno_such_method\u001b[0m\u001b[0;34m(\u001b[0m\u001b[0;34m)\u001b[0m\u001b[0;34m\u001b[0m\u001b[0;34m\u001b[0m\u001b[0m\n\u001b[0m",
      "\u001b[0;31mAttributeError\u001b[0m: 'str' object has no attribute 'no_such_method'"
     ]
    }
   ],
   "source": [
    "\"rahul\".no_such_method()"
   ]
  },
  {
   "cell_type": "code",
   "execution_count": null,
   "id": "c465ed93-9b6d-444b-8f5d-8b70d628d5b5",
   "metadata": {},
   "outputs": [],
   "source": []
  },
  {
   "cell_type": "code",
   "execution_count": 109,
   "id": "c732b645-999f-48fc-ab8d-0bf2db738da7",
   "metadata": {},
   "outputs": [],
   "source": [
    "def div(a, b):\n",
    "    print(\"Before calculation\")\n",
    "    print(a / b)\n",
    "    print(\"After calculation print this\")"
   ]
  },
  {
   "cell_type": "code",
   "execution_count": 110,
   "id": "2d1f0967-2dd5-4a39-84b5-02a0996bd99c",
   "metadata": {},
   "outputs": [
    {
     "name": "stdout",
     "output_type": "stream",
     "text": [
      "Before calculation\n",
      "0.6666666666666666\n",
      "After calculation print this\n"
     ]
    }
   ],
   "source": [
    "div(2, 3)"
   ]
  },
  {
   "cell_type": "code",
   "execution_count": 111,
   "id": "9212be9a-3119-4868-b81a-67872a3f764f",
   "metadata": {},
   "outputs": [
    {
     "name": "stdout",
     "output_type": "stream",
     "text": [
      "Before calculation\n"
     ]
    },
    {
     "ename": "ZeroDivisionError",
     "evalue": "division by zero",
     "output_type": "error",
     "traceback": [
      "\u001b[0;31m---------------------------------------------------------------------------\u001b[0m",
      "\u001b[0;31mZeroDivisionError\u001b[0m                         Traceback (most recent call last)",
      "\u001b[0;32m/var/folders/t5/yhjgrjs907zfp250jyxtw54m0000gn/T/ipykernel_61918/1348502273.py\u001b[0m in \u001b[0;36m<module>\u001b[0;34m\u001b[0m\n\u001b[0;32m----> 1\u001b[0;31m \u001b[0mdiv\u001b[0m\u001b[0;34m(\u001b[0m\u001b[0;36m2\u001b[0m\u001b[0;34m,\u001b[0m \u001b[0;36m0\u001b[0m\u001b[0;34m)\u001b[0m\u001b[0;34m\u001b[0m\u001b[0;34m\u001b[0m\u001b[0m\n\u001b[0m",
      "\u001b[0;32m/var/folders/t5/yhjgrjs907zfp250jyxtw54m0000gn/T/ipykernel_61918/2261809727.py\u001b[0m in \u001b[0;36mdiv\u001b[0;34m(a, b)\u001b[0m\n\u001b[1;32m      1\u001b[0m \u001b[0;32mdef\u001b[0m \u001b[0mdiv\u001b[0m\u001b[0;34m(\u001b[0m\u001b[0ma\u001b[0m\u001b[0;34m,\u001b[0m \u001b[0mb\u001b[0m\u001b[0;34m)\u001b[0m\u001b[0;34m:\u001b[0m\u001b[0;34m\u001b[0m\u001b[0;34m\u001b[0m\u001b[0m\n\u001b[1;32m      2\u001b[0m     \u001b[0mprint\u001b[0m\u001b[0;34m(\u001b[0m\u001b[0;34m\"Before calculation\"\u001b[0m\u001b[0;34m)\u001b[0m\u001b[0;34m\u001b[0m\u001b[0;34m\u001b[0m\u001b[0m\n\u001b[0;32m----> 3\u001b[0;31m     \u001b[0mprint\u001b[0m\u001b[0;34m(\u001b[0m\u001b[0ma\u001b[0m \u001b[0;34m/\u001b[0m \u001b[0mb\u001b[0m\u001b[0;34m)\u001b[0m\u001b[0;34m\u001b[0m\u001b[0;34m\u001b[0m\u001b[0m\n\u001b[0m\u001b[1;32m      4\u001b[0m     \u001b[0mprint\u001b[0m\u001b[0;34m(\u001b[0m\u001b[0;34m\"After calculation print this\"\u001b[0m\u001b[0;34m)\u001b[0m\u001b[0;34m\u001b[0m\u001b[0;34m\u001b[0m\u001b[0m\n",
      "\u001b[0;31mZeroDivisionError\u001b[0m: division by zero"
     ]
    }
   ],
   "source": [
    "div(2, 0)"
   ]
  },
  {
   "cell_type": "code",
   "execution_count": null,
   "id": "a8887698-bd20-421c-a6bc-b29f4c15d7e0",
   "metadata": {},
   "outputs": [],
   "source": []
  },
  {
   "cell_type": "code",
   "execution_count": 112,
   "id": "8d6472f5-6065-45d4-8e31-fafae05a135e",
   "metadata": {},
   "outputs": [
    {
     "name": "stdout",
     "output_type": "stream",
     "text": [
      "Why are you dividing by 0\n"
     ]
    }
   ],
   "source": [
    "def div(a, b):\n",
    "    return a / b\n",
    "\n",
    "\n",
    "try:\n",
    "    print(div(2, 0))\n",
    "    # You can write any code to be executed after that here\n",
    "    print(\"Yaaay! it's working\")\n",
    "    \n",
    "except:\n",
    "    print(\"Why are you dividing by 0\")\n",
    "    "
   ]
  },
  {
   "cell_type": "code",
   "execution_count": 113,
   "id": "e7ae9e6b-095f-4358-992a-3c9ad283ed07",
   "metadata": {},
   "outputs": [
    {
     "name": "stdout",
     "output_type": "stream",
     "text": [
      "1.0\n",
      "Yaaay! it's working\n"
     ]
    }
   ],
   "source": [
    "try:\n",
    "    print(div(2, 2))\n",
    "    # You can write any code to be executed after that here\n",
    "    print(\"Yaaay! it's working\")\n",
    "    \n",
    "except:\n",
    "    print(\"Why are you dividing by 0\")\n",
    "    "
   ]
  },
  {
   "cell_type": "code",
   "execution_count": null,
   "id": "05e10cf2-c9d2-40a4-b4b0-d4bc5eecdf2b",
   "metadata": {},
   "outputs": [],
   "source": []
  },
  {
   "cell_type": "code",
   "execution_count": 116,
   "id": "3a8f105c-3fb4-4394-bf87-a2c8c80911ae",
   "metadata": {},
   "outputs": [
    {
     "name": "stdout",
     "output_type": "stream",
     "text": [
      "current element is --> 2\n",
      "2.5\n",
      "--------------------------------------------------\n",
      "current element is --> 0\n",
      "Hey you got an error :( \n",
      "--------------------------------------------------\n",
      "current element is --> Rahul\n",
      "Hey you got an error :( \n",
      "--------------------------------------------------\n",
      "current element is --> 2\n",
      "Hey you got an error :( \n",
      "--------------------------------------------------\n",
      "current element is --> 2.3\n",
      "2.173913043478261\n",
      "--------------------------------------------------\n"
     ]
    }
   ],
   "source": [
    "l = [2, 0, 'Rahul', '2', 2.3]\n",
    "\n",
    "for i in l:\n",
    "    try:\n",
    "        print(f\"current element is --> {i}\")\n",
    "        print(5 / i)\n",
    "        \n",
    "    except:\n",
    "        print(\"Hey you got an error :( \")\n",
    "        \n",
    "    print(\"-\" * 50)"
   ]
  },
  {
   "cell_type": "code",
   "execution_count": null,
   "id": "30c9127e-84e4-46e9-bb47-247d24f0a0fd",
   "metadata": {},
   "outputs": [],
   "source": []
  },
  {
   "cell_type": "code",
   "execution_count": 117,
   "id": "a0a576de-10bb-45e1-9f20-42ad615e2c8f",
   "metadata": {},
   "outputs": [
    {
     "name": "stdout",
     "output_type": "stream",
     "text": [
      "current element is --> 2\n",
      "2.5\n",
      "--------------------------------------------------\n",
      "current element is --> 0\n",
      "Error --> division by zero\n",
      "--------------------------------------------------\n",
      "current element is --> Rahul\n",
      "Error --> unsupported operand type(s) for /: 'int' and 'str'\n",
      "--------------------------------------------------\n",
      "current element is --> 2\n",
      "Error --> unsupported operand type(s) for /: 'int' and 'str'\n",
      "--------------------------------------------------\n",
      "current element is --> 2.3\n",
      "2.173913043478261\n",
      "--------------------------------------------------\n"
     ]
    }
   ],
   "source": [
    "l = [2, 0, 'Rahul', '2', 2.3]\n",
    "\n",
    "for i in l:\n",
    "    try:\n",
    "        print(f\"current element is --> {i}\")\n",
    "        print(5 / i)\n",
    "        \n",
    "    except Exception as e:\n",
    "        print(f\"Error --> {e}\")\n",
    "        \n",
    "    print(\"-\" * 50)"
   ]
  },
  {
   "cell_type": "code",
   "execution_count": null,
   "id": "c4ac526a-ee76-4a4d-ace6-ddee1b60c6a2",
   "metadata": {},
   "outputs": [],
   "source": []
  },
  {
   "cell_type": "code",
   "execution_count": 118,
   "id": "12e5aea1-8e4f-4391-a2f6-59dc7752c7a1",
   "metadata": {},
   "outputs": [
    {
     "name": "stdout",
     "output_type": "stream",
     "text": [
      "current element is --> 2\n",
      "2.5\n",
      "--------------------------------------------------\n",
      "current element is --> 0\n",
      "Why the hell you want to divide something by 0 😒😒\n",
      "--------------------------------------------------\n",
      "current element is --> Rahul\n",
      "Error --> unsupported operand type(s) for /: 'int' and 'str'\n",
      "--------------------------------------------------\n",
      "current element is --> 2\n",
      "Error --> unsupported operand type(s) for /: 'int' and 'str'\n",
      "--------------------------------------------------\n",
      "current element is --> 2.3\n",
      "2.173913043478261\n",
      "--------------------------------------------------\n"
     ]
    }
   ],
   "source": [
    "l = [2, 0, 'Rahul', '2', 2.3]\n",
    "\n",
    "for i in l:\n",
    "    try:\n",
    "        print(f\"current element is --> {i}\")\n",
    "        print(5 / i)\n",
    "    \n",
    "    except ZeroDivisionError as z:\n",
    "        print(\"Why the hell you want to divide something by 0 😒😒\")\n",
    "    \n",
    "    except Exception as e:\n",
    "        print(f\"Error --> {e}\")\n",
    "        \n",
    "    print(\"-\" * 50)"
   ]
  },
  {
   "cell_type": "code",
   "execution_count": 134,
   "id": "ecf8c08c-6687-4d71-aafa-278d6d63b0ce",
   "metadata": {},
   "outputs": [
    {
     "name": "stdout",
     "output_type": "stream",
     "text": [
      "current element is --> 2\n",
      "2.5\n",
      "--------------------------------------------------\n",
      "current element is --> 0\n",
      "Error --> division by zero\n",
      "--------------------------------------------------\n",
      "current element is --> Rahul\n",
      "Error --> unsupported operand type(s) for /: 'int' and 'str'\n",
      "--------------------------------------------------\n",
      "current element is --> 2\n",
      "Error --> unsupported operand type(s) for /: 'int' and 'str'\n",
      "--------------------------------------------------\n",
      "current element is --> 2.3\n",
      "2.173913043478261\n",
      "--------------------------------------------------\n"
     ]
    }
   ],
   "source": [
    "l = [2, 0, 'Rahul', '2', 2.3]\n",
    "\n",
    "for i in l:\n",
    "    try:\n",
    "        print(f\"current element is --> {i}\")\n",
    "        print(5 / i)\n",
    "        \n",
    "    except Exception as e:\n",
    "        print(f\"Error --> {e}\")\n",
    "    \n",
    "    except ZeroDivisionError as z:\n",
    "        print(f\"You got an error: {z}\")\n",
    "\n",
    "        \n",
    "    print(\"-\" * 50)"
   ]
  },
  {
   "cell_type": "code",
   "execution_count": null,
   "id": "75d9c125-f9b4-4669-a176-e7a4c06459ae",
   "metadata": {},
   "outputs": [],
   "source": []
  },
  {
   "cell_type": "code",
   "execution_count": null,
   "id": "9ef0fca7-0275-40f9-a4a4-6d8c33a9c967",
   "metadata": {},
   "outputs": [],
   "source": []
  },
  {
   "cell_type": "code",
   "execution_count": 121,
   "id": "1350ec73-fd6c-4a4d-8e80-1d7e903781c7",
   "metadata": {},
   "outputs": [],
   "source": [
    "# Do some research on finally block:\n",
    "# https://www.scaler.com/topics/course/python-for-beginners/video/646/"
   ]
  },
  {
   "cell_type": "code",
   "execution_count": null,
   "id": "bef9f83e-bcec-421e-8f79-95a8fb670197",
   "metadata": {},
   "outputs": [],
   "source": []
  },
  {
   "cell_type": "code",
   "execution_count": 122,
   "id": "6174b211-a120-4f5f-b8e6-99461a6139a3",
   "metadata": {},
   "outputs": [
    {
     "name": "stdout",
     "output_type": "stream",
     "text": [
      "If try gets failed, execute me\n",
      "It always gets executed.\n"
     ]
    }
   ],
   "source": [
    "try:\n",
    "    print(f\"Hey this is the output --> {1 / 0}\")\n",
    "except:\n",
    "    print(\"If try gets failed, execute me\")\n",
    "finally:\n",
    "    print(\"It always gets executed.\")"
   ]
  },
  {
   "cell_type": "code",
   "execution_count": 123,
   "id": "15706cde-6829-4f5b-a802-7771eb8c6d5a",
   "metadata": {},
   "outputs": [
    {
     "name": "stdout",
     "output_type": "stream",
     "text": [
      "Hey this is the output --> 0.3333333333333333\n",
      "It always gets executed.\n"
     ]
    }
   ],
   "source": [
    "try:\n",
    "    print(f\"Hey this is the output --> {1 / 3}\")\n",
    "except:\n",
    "    print(\"If try gets failed, execute me\")\n",
    "finally:\n",
    "    print(\"It always gets executed.\")"
   ]
  },
  {
   "cell_type": "code",
   "execution_count": null,
   "id": "f1f25cf1-69a0-4dfb-bd5d-e6b9a7fe1a7b",
   "metadata": {},
   "outputs": [],
   "source": []
  },
  {
   "cell_type": "code",
   "execution_count": null,
   "id": "ed5325e4-a215-48ef-86df-c0924feacbfa",
   "metadata": {},
   "outputs": [],
   "source": []
  },
  {
   "cell_type": "code",
   "execution_count": 126,
   "id": "281472ef-15df-453e-aa04-68238795df1f",
   "metadata": {},
   "outputs": [
    {
     "ename": "Exception",
     "evalue": "Number is odd!",
     "output_type": "error",
     "traceback": [
      "\u001b[0;31m---------------------------------------------------------------------------\u001b[0m",
      "\u001b[0;31mException\u001b[0m                                 Traceback (most recent call last)",
      "\u001b[0;32m/var/folders/t5/yhjgrjs907zfp250jyxtw54m0000gn/T/ipykernel_61918/1870891387.py\u001b[0m in \u001b[0;36m<module>\u001b[0;34m\u001b[0m\n\u001b[1;32m      2\u001b[0m \u001b[0;34m\u001b[0m\u001b[0m\n\u001b[1;32m      3\u001b[0m \u001b[0;32mif\u001b[0m \u001b[0mnum\u001b[0m \u001b[0;34m%\u001b[0m \u001b[0;36m2\u001b[0m \u001b[0;34m==\u001b[0m \u001b[0;36m1\u001b[0m\u001b[0;34m:\u001b[0m\u001b[0;34m\u001b[0m\u001b[0;34m\u001b[0m\u001b[0m\n\u001b[0;32m----> 4\u001b[0;31m     \u001b[0;32mraise\u001b[0m \u001b[0mException\u001b[0m\u001b[0;34m(\u001b[0m\u001b[0;34m\"Number is odd!\"\u001b[0m\u001b[0;34m)\u001b[0m\u001b[0;34m\u001b[0m\u001b[0;34m\u001b[0m\u001b[0m\n\u001b[0m",
      "\u001b[0;31mException\u001b[0m: Number is odd!"
     ]
    }
   ],
   "source": [
    "num = 5\n",
    "\n",
    "if num % 2 == 1:\n",
    "    raise Exception(\"Number is odd!\")"
   ]
  },
  {
   "cell_type": "code",
   "execution_count": null,
   "id": "ef9ebec0-2b19-4172-9fa2-b2b71c3a45e8",
   "metadata": {},
   "outputs": [],
   "source": []
  },
  {
   "cell_type": "code",
   "execution_count": 127,
   "id": "4fc55170-9fea-4117-95b0-9d161c4ad902",
   "metadata": {},
   "outputs": [],
   "source": [
    "class MyOwnException(Exception):\n",
    "    \n",
    "    def __init__(self, message):\n",
    "        super().__init__(message)"
   ]
  },
  {
   "cell_type": "code",
   "execution_count": 131,
   "id": "b92b69f1-6ca0-4e14-81df-d71fed3ba351",
   "metadata": {},
   "outputs": [
    {
     "name": "stdout",
     "output_type": "stream",
     "text": [
      "Hey this is an odd number\n"
     ]
    }
   ],
   "source": [
    "try:\n",
    "    if num % 2 == 1:\n",
    "        raise MyOwnException(\"Hey this is an odd number\")\n",
    "except MyOwnException as e:\n",
    "    print(e)"
   ]
  },
  {
   "cell_type": "code",
   "execution_count": null,
   "id": "4af491ab-3545-4745-a585-4f976bb83735",
   "metadata": {},
   "outputs": [],
   "source": []
  },
  {
   "cell_type": "code",
   "execution_count": null,
   "id": "bd9582db-2841-4994-a5b9-bcd7b25dfc51",
   "metadata": {},
   "outputs": [],
   "source": []
  },
  {
   "cell_type": "code",
   "execution_count": 132,
   "id": "2e4d96ab-055f-4e5f-aff9-0690fa96a00c",
   "metadata": {},
   "outputs": [],
   "source": [
    "# Quiz"
   ]
  },
  {
   "cell_type": "code",
   "execution_count": 133,
   "id": "9fd6fb24-85a5-41f2-b4e3-37b51b1ce1c0",
   "metadata": {},
   "outputs": [
    {
     "name": "stdout",
     "output_type": "stream",
     "text": [
      "N\n",
      "E\n",
      "E\n",
      "E\n"
     ]
    }
   ],
   "source": [
    "l1 = [2, 0, \"hello\", None]\n",
    "\n",
    "for e in l1:\n",
    "    try:\n",
    "        result = 5 / int(e)\n",
    "        print(\"N\")\n",
    "    except Exception as ex:\n",
    "        print(\"E\")\n",
    "    except ZeroDivisionError as z:\n",
    "        print(\"Z\")"
   ]
  },
  {
   "cell_type": "code",
   "execution_count": null,
   "id": "38623780-1dc3-491f-bf71-b3202b4fe4b9",
   "metadata": {},
   "outputs": [],
   "source": []
  },
  {
   "cell_type": "code",
   "execution_count": null,
   "id": "c1327e8d-552b-4c1e-9e60-ca96877196e8",
   "metadata": {},
   "outputs": [],
   "source": []
  },
  {
   "cell_type": "code",
   "execution_count": null,
   "id": "8fe88ae8-24f6-4d79-bc2e-8224d04273fb",
   "metadata": {},
   "outputs": [],
   "source": []
  },
  {
   "cell_type": "code",
   "execution_count": null,
   "id": "1797c325-c7df-47f5-af1f-0a2af576ff32",
   "metadata": {},
   "outputs": [],
   "source": []
  }
 ],
 "metadata": {
  "kernelspec": {
   "display_name": "Python 3 (ipykernel)",
   "language": "python",
   "name": "python3"
  },
  "language_info": {
   "codemirror_mode": {
    "name": "ipython",
    "version": 3
   },
   "file_extension": ".py",
   "mimetype": "text/x-python",
   "name": "python",
   "nbconvert_exporter": "python",
   "pygments_lexer": "ipython3",
   "version": "3.9.7"
  }
 },
 "nbformat": 4,
 "nbformat_minor": 5
}
