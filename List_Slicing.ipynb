{
 "cells": [
  {
   "cell_type": "markdown",
   "id": "34fe4abb-011f-44a3-b1b3-316b36c86490",
   "metadata": {},
   "source": [
    "### List slicing"
   ]
  },
  {
   "cell_type": "code",
   "execution_count": 1,
   "id": "3c124351-5288-471a-ba79-eb299cf92254",
   "metadata": {},
   "outputs": [],
   "source": [
    "# List slicing doesnt affect the current list"
   ]
  },
  {
   "cell_type": "code",
   "execution_count": 2,
   "id": "7964a2b4-a9f2-48b6-94f7-a7e2bb846e25",
   "metadata": {},
   "outputs": [],
   "source": [
    "# by default start = 0, end = including last index"
   ]
  },
  {
   "cell_type": "code",
   "execution_count": 3,
   "id": "535f78d7-7ccb-4c54-9f77-48e0f91de56c",
   "metadata": {},
   "outputs": [],
   "source": [
    "runs = [10, 99, 100, 50, 80, 200, 150, 20, 99, 99]"
   ]
  },
  {
   "cell_type": "code",
   "execution_count": 4,
   "id": "95bafa98-3b8e-4f9d-8bf3-efdd15d13f95",
   "metadata": {},
   "outputs": [
    {
     "data": {
      "text/plain": [
       "[10, 99, 100, 50, 80, 200, 150, 20, 99, 99]"
      ]
     },
     "execution_count": 4,
     "metadata": {},
     "output_type": "execute_result"
    }
   ],
   "source": [
    "# jump = +1\n",
    "# start = 0\n",
    "# end = len(list)\n",
    "\n",
    "runs[::]"
   ]
  },
  {
   "cell_type": "code",
   "execution_count": 5,
   "id": "5bbd69e6-91b9-4dc8-a9a3-ddcaf800d82d",
   "metadata": {},
   "outputs": [
    {
     "data": {
      "text/plain": [
       "[10, 99, 100]"
      ]
     },
     "execution_count": 5,
     "metadata": {},
     "output_type": "execute_result"
    }
   ],
   "source": [
    "# jump = +1\n",
    "# start = 0\n",
    "\n",
    "runs[:3]"
   ]
  },
  {
   "cell_type": "code",
   "execution_count": null,
   "id": "79dc7eab-277c-4ff5-b4ba-fd4ccbb07857",
   "metadata": {},
   "outputs": [],
   "source": []
  },
  {
   "cell_type": "code",
   "execution_count": 6,
   "id": "b803740a-87bf-47eb-8f09-157b8a4b3910",
   "metadata": {},
   "outputs": [
    {
     "data": {
      "text/plain": [
       "[100, 50, 80]"
      ]
     },
     "execution_count": 6,
     "metadata": {},
     "output_type": "execute_result"
    }
   ],
   "source": [
    "# jump = +1\n",
    "\n",
    "runs[2:5]"
   ]
  },
  {
   "cell_type": "code",
   "execution_count": 7,
   "id": "253b3abc-7aac-4174-833a-2d7fc521b6bf",
   "metadata": {},
   "outputs": [
    {
     "data": {
      "text/plain": [
       "[10, 99, 100, 50, 80, 200, 150, 20, 99, 99]"
      ]
     },
     "execution_count": 7,
     "metadata": {},
     "output_type": "execute_result"
    }
   ],
   "source": [
    "runs"
   ]
  },
  {
   "cell_type": "code",
   "execution_count": 8,
   "id": "824189dc-dd6c-453b-9e18-12ea04e0e2d9",
   "metadata": {},
   "outputs": [
    {
     "data": {
      "text/plain": [
       "[100, 50, 80, 200, 150, 20, 99]"
      ]
     },
     "execution_count": 8,
     "metadata": {},
     "output_type": "execute_result"
    }
   ],
   "source": [
    "# jump = +1\n",
    "\n",
    "runs[2:-1]"
   ]
  },
  {
   "cell_type": "code",
   "execution_count": 10,
   "id": "e9748e9d-0926-4004-b671-ed3490dc060d",
   "metadata": {},
   "outputs": [],
   "source": [
    "# In case of contradiction we always get an empty list"
   ]
  },
  {
   "cell_type": "code",
   "execution_count": 11,
   "id": "e43e9bed-1595-4c42-90a6-c7a1f629f899",
   "metadata": {},
   "outputs": [
    {
     "data": {
      "text/plain": [
       "[]"
      ]
     },
     "execution_count": 11,
     "metadata": {},
     "output_type": "execute_result"
    }
   ],
   "source": [
    "# jump = +1\n",
    "\n",
    "runs[3:0]"
   ]
  },
  {
   "cell_type": "code",
   "execution_count": null,
   "id": "53e9d27c-46cf-43f3-9abd-d7a04f0a9dfb",
   "metadata": {},
   "outputs": [],
   "source": []
  },
  {
   "cell_type": "code",
   "execution_count": 12,
   "id": "4577b43b-e104-44ae-b471-d4bd3472785a",
   "metadata": {},
   "outputs": [],
   "source": [
    "# List slicing handles list out of range error as well"
   ]
  },
  {
   "cell_type": "code",
   "execution_count": 13,
   "id": "03a051c0-e7c9-49f3-ac7d-6452ef1c38aa",
   "metadata": {},
   "outputs": [],
   "source": [
    "# here even if the index is out of range then it handles the error"
   ]
  },
  {
   "cell_type": "code",
   "execution_count": 14,
   "id": "058c06de-cdc0-4e97-8530-9655ff35772a",
   "metadata": {},
   "outputs": [
    {
     "data": {
      "text/plain": [
       "[10, 99, 100, 50, 80, 200, 150, 20, 99, 99]"
      ]
     },
     "execution_count": 14,
     "metadata": {},
     "output_type": "execute_result"
    }
   ],
   "source": [
    "runs"
   ]
  },
  {
   "cell_type": "code",
   "execution_count": 15,
   "id": "814554f2-167e-4976-ade6-fc49101aeb48",
   "metadata": {},
   "outputs": [
    {
     "data": {
      "text/plain": [
       "[10, 99, 100, 50, 80, 200, 150, 20, 99, 99]"
      ]
     },
     "execution_count": 15,
     "metadata": {},
     "output_type": "execute_result"
    }
   ],
   "source": [
    "# jump = +1\n",
    "\n",
    "runs[:8489237489234]"
   ]
  },
  {
   "cell_type": "code",
   "execution_count": null,
   "id": "528938b2-fd7d-40c6-8b73-832ecf4da504",
   "metadata": {},
   "outputs": [],
   "source": []
  },
  {
   "cell_type": "code",
   "execution_count": 16,
   "id": "2aa2ff62-2730-4e0d-98a1-a32e7bb3cbdb",
   "metadata": {},
   "outputs": [
    {
     "data": {
      "text/plain": [
       "[10, 99, 100, 50, 80, 200, 150, 20, 99, 99]"
      ]
     },
     "execution_count": 16,
     "metadata": {},
     "output_type": "execute_result"
    }
   ],
   "source": [
    "runs"
   ]
  },
  {
   "cell_type": "code",
   "execution_count": 17,
   "id": "e604fc0b-f168-4b96-92ed-48e480dcc740",
   "metadata": {},
   "outputs": [
    {
     "data": {
      "text/plain": [
       "10"
      ]
     },
     "execution_count": 17,
     "metadata": {},
     "output_type": "execute_result"
    }
   ],
   "source": [
    "len(runs)"
   ]
  },
  {
   "cell_type": "code",
   "execution_count": 18,
   "id": "59e01b0c-6d7b-46b0-aa7f-82373a70566b",
   "metadata": {},
   "outputs": [
    {
     "data": {
      "text/plain": [
       "[50, 100, 99, 10]"
      ]
     },
     "execution_count": 18,
     "metadata": {},
     "output_type": "execute_result"
    }
   ],
   "source": [
    "# jump = -1\n",
    "# end = -(N+1)\n",
    "\n",
    "runs[3::-1]"
   ]
  },
  {
   "cell_type": "code",
   "execution_count": 19,
   "id": "ad735c75-9848-4c67-9278-275ad6e3bc5c",
   "metadata": {},
   "outputs": [
    {
     "data": {
      "text/plain": [
       "[80, 50]"
      ]
     },
     "execution_count": 19,
     "metadata": {},
     "output_type": "execute_result"
    }
   ],
   "source": [
    "runs[4:2:-1]"
   ]
  },
  {
   "cell_type": "code",
   "execution_count": 21,
   "id": "0f73cf2e-e37d-4d27-9576-cf935b9e15eb",
   "metadata": {},
   "outputs": [
    {
     "data": {
      "text/plain": [
       "[4, 3]"
      ]
     },
     "execution_count": 21,
     "metadata": {},
     "output_type": "execute_result"
    }
   ],
   "source": [
    "list(range(4,2,-1))"
   ]
  },
  {
   "cell_type": "code",
   "execution_count": null,
   "id": "36d1de8f-87bb-425c-93eb-025d804d270a",
   "metadata": {},
   "outputs": [],
   "source": []
  },
  {
   "cell_type": "code",
   "execution_count": null,
   "id": "819ee1d4-2b22-401f-8a0b-3704217ac934",
   "metadata": {},
   "outputs": [],
   "source": []
  },
  {
   "cell_type": "code",
   "execution_count": null,
   "id": "1a0fd97e-6c5f-4039-b923-61e7b2c23e59",
   "metadata": {},
   "outputs": [],
   "source": []
  },
  {
   "cell_type": "code",
   "execution_count": 22,
   "id": "c58de92e-82d3-4b48-9f56-180056f042d4",
   "metadata": {},
   "outputs": [],
   "source": [
    "# l[ start : end : jump ]"
   ]
  },
  {
   "cell_type": "code",
   "execution_count": 23,
   "id": "d108b409-4098-48c2-8de6-d9d91459d3c2",
   "metadata": {},
   "outputs": [
    {
     "data": {
      "text/plain": [
       "[10, 99, 100, 50, 80, 200, 150, 20, 99, 99]"
      ]
     },
     "execution_count": 23,
     "metadata": {},
     "output_type": "execute_result"
    }
   ],
   "source": [
    "runs"
   ]
  },
  {
   "cell_type": "code",
   "execution_count": 24,
   "id": "f6b76c05-358d-4d48-a0ca-470630edf6ab",
   "metadata": {},
   "outputs": [
    {
     "data": {
      "text/plain": [
       "[50, 200]"
      ]
     },
     "execution_count": 24,
     "metadata": {},
     "output_type": "execute_result"
    }
   ],
   "source": [
    "runs[3:7:2]"
   ]
  },
  {
   "cell_type": "code",
   "execution_count": 26,
   "id": "741de8d7-22c4-4a5f-97d6-e7cc9d925691",
   "metadata": {},
   "outputs": [
    {
     "data": {
      "text/plain": [
       "[100, 80, 150]"
      ]
     },
     "execution_count": 26,
     "metadata": {},
     "output_type": "execute_result"
    }
   ],
   "source": [
    "runs[2:8:2]"
   ]
  },
  {
   "cell_type": "code",
   "execution_count": 25,
   "id": "0014da97-5cfa-4e09-808a-993ded96b411",
   "metadata": {},
   "outputs": [
    {
     "data": {
      "text/plain": [
       "[100, 200]"
      ]
     },
     "execution_count": 25,
     "metadata": {},
     "output_type": "execute_result"
    }
   ],
   "source": [
    "runs[2:8:3]"
   ]
  },
  {
   "cell_type": "code",
   "execution_count": null,
   "id": "347d1ae4-7054-4b6b-a452-23c67af8a47b",
   "metadata": {},
   "outputs": [],
   "source": []
  },
  {
   "cell_type": "code",
   "execution_count": null,
   "id": "f6327892-54cf-4ea0-ae36-10d1d53089ff",
   "metadata": {},
   "outputs": [],
   "source": []
  },
  {
   "cell_type": "code",
   "execution_count": 27,
   "id": "a02d313c-7621-4605-b11b-0f714f97306a",
   "metadata": {},
   "outputs": [],
   "source": [
    "# Even index values"
   ]
  },
  {
   "cell_type": "code",
   "execution_count": 28,
   "id": "941daa8c-ba0e-449a-8599-736cc480c221",
   "metadata": {},
   "outputs": [
    {
     "data": {
      "text/plain": [
       "[10, 99, 100, 50, 80, 200, 150, 20, 99, 99]"
      ]
     },
     "execution_count": 28,
     "metadata": {},
     "output_type": "execute_result"
    }
   ],
   "source": [
    "runs"
   ]
  },
  {
   "cell_type": "code",
   "execution_count": 29,
   "id": "d2550935-051c-4a3b-9a2e-05e024726dfd",
   "metadata": {},
   "outputs": [
    {
     "data": {
      "text/plain": [
       "[10, 100, 80, 150, 99]"
      ]
     },
     "execution_count": 29,
     "metadata": {},
     "output_type": "execute_result"
    }
   ],
   "source": [
    "runs[0:len(runs):2]"
   ]
  },
  {
   "cell_type": "code",
   "execution_count": 30,
   "id": "03285033-2146-415a-8475-f794cb61fcbf",
   "metadata": {},
   "outputs": [
    {
     "data": {
      "text/plain": [
       "[10, 100, 80, 150, 99]"
      ]
     },
     "execution_count": 30,
     "metadata": {},
     "output_type": "execute_result"
    }
   ],
   "source": [
    "# start = 0\n",
    "# end = len(runs)\n",
    "\n",
    "runs[::2]"
   ]
  },
  {
   "cell_type": "code",
   "execution_count": null,
   "id": "66746fef-d7e3-4f9c-b628-52697e197741",
   "metadata": {},
   "outputs": [],
   "source": []
  },
  {
   "cell_type": "code",
   "execution_count": null,
   "id": "2b0f48b7-1299-4daa-a31a-b42baf93b89d",
   "metadata": {},
   "outputs": [],
   "source": []
  },
  {
   "cell_type": "code",
   "execution_count": 31,
   "id": "9d036ea3-c3b1-4414-bfce-31343a16158b",
   "metadata": {},
   "outputs": [],
   "source": [
    "# Odd index values"
   ]
  },
  {
   "cell_type": "code",
   "execution_count": 32,
   "id": "35664b50-7cfc-4ad7-90d4-8c725937b38b",
   "metadata": {},
   "outputs": [
    {
     "data": {
      "text/plain": [
       "[10, 99, 100, 50, 80, 200, 150, 20, 99, 99]"
      ]
     },
     "execution_count": 32,
     "metadata": {},
     "output_type": "execute_result"
    }
   ],
   "source": [
    "runs"
   ]
  },
  {
   "cell_type": "code",
   "execution_count": 33,
   "id": "7055bef6-78c0-45f6-a267-2c9a67f351a6",
   "metadata": {},
   "outputs": [
    {
     "data": {
      "text/plain": [
       "[99, 50, 200, 20, 99]"
      ]
     },
     "execution_count": 33,
     "metadata": {},
     "output_type": "execute_result"
    }
   ],
   "source": [
    "# first odd index is 1\n",
    "\n",
    "\n",
    "runs[1::2]"
   ]
  },
  {
   "cell_type": "code",
   "execution_count": null,
   "id": "1cd35b97-389c-43be-964b-f56b01e2b733",
   "metadata": {},
   "outputs": [],
   "source": []
  },
  {
   "cell_type": "code",
   "execution_count": null,
   "id": "0c43809c-0919-4f9d-96fc-78f6f633a921",
   "metadata": {},
   "outputs": [],
   "source": []
  },
  {
   "cell_type": "code",
   "execution_count": 34,
   "id": "ca441284-ac2a-419f-a7fe-ac03e9cae918",
   "metadata": {},
   "outputs": [],
   "source": [
    "# reverse of this list"
   ]
  },
  {
   "cell_type": "code",
   "execution_count": 35,
   "id": "ff6f6dfc-595f-4d43-8ad4-858845ef2b60",
   "metadata": {},
   "outputs": [
    {
     "data": {
      "text/plain": [
       "[10, 99, 100, 50, 80, 200, 150, 20, 99, 99]"
      ]
     },
     "execution_count": 35,
     "metadata": {},
     "output_type": "execute_result"
    }
   ],
   "source": [
    "runs"
   ]
  },
  {
   "cell_type": "code",
   "execution_count": 36,
   "id": "7eb31adb-a0ab-403e-a284-0c743e1e5f6b",
   "metadata": {},
   "outputs": [
    {
     "data": {
      "text/plain": [
       "[99, 99, 20, 150, 200, 80, 50, 100, 99, 10]"
      ]
     },
     "execution_count": 36,
     "metadata": {},
     "output_type": "execute_result"
    }
   ],
   "source": [
    "# jump = -1\n",
    "# start = last element\n",
    "# end = -11\n",
    "\n",
    "runs[::-1]"
   ]
  },
  {
   "cell_type": "code",
   "execution_count": 37,
   "id": "03c2a108-a45b-4b27-8eb2-de0aa31b7ac0",
   "metadata": {},
   "outputs": [
    {
     "data": {
      "text/plain": [
       "[10, 99, 100, 50, 80, 200, 150, 20, 99, 99]"
      ]
     },
     "execution_count": 37,
     "metadata": {},
     "output_type": "execute_result"
    }
   ],
   "source": [
    "runs"
   ]
  },
  {
   "cell_type": "code",
   "execution_count": null,
   "id": "2da2425b-db2e-4a77-ab8d-526df5b2b732",
   "metadata": {},
   "outputs": [],
   "source": []
  },
  {
   "cell_type": "code",
   "execution_count": null,
   "id": "f5972253-fdb1-4be0-8d30-e3c9bf00c740",
   "metadata": {},
   "outputs": [],
   "source": []
  },
  {
   "cell_type": "code",
   "execution_count": 38,
   "id": "c7959567-3fc5-4e2f-a3ab-d236cd6c4601",
   "metadata": {},
   "outputs": [],
   "source": [
    "# DIY -> Hit and trial"
   ]
  },
  {
   "cell_type": "code",
   "execution_count": null,
   "id": "c320b995-c6db-4f5d-a0f4-7f00930f3ced",
   "metadata": {},
   "outputs": [],
   "source": []
  },
  {
   "cell_type": "code",
   "execution_count": 39,
   "id": "4c482a5f-5d41-4885-95d7-b3504504aaed",
   "metadata": {},
   "outputs": [],
   "source": [
    "# Sum of odd index runs\n",
    "# Sum of even index runs\n",
    "# Sum of Sachin scores in first 5 matches, last 5 matches"
   ]
  },
  {
   "cell_type": "code",
   "execution_count": 40,
   "id": "553ebaea-bf8f-42c7-96b1-747fc1cccd62",
   "metadata": {},
   "outputs": [],
   "source": [
    "# Even index elements"
   ]
  },
  {
   "cell_type": "code",
   "execution_count": 41,
   "id": "4dc18603-ab42-45f9-aa78-626a63791e3f",
   "metadata": {},
   "outputs": [
    {
     "data": {
      "text/plain": [
       "[10, 99, 100, 50, 80, 200, 150, 20, 99, 99]"
      ]
     },
     "execution_count": 41,
     "metadata": {},
     "output_type": "execute_result"
    }
   ],
   "source": [
    "runs"
   ]
  },
  {
   "cell_type": "code",
   "execution_count": 42,
   "id": "f600e10d-5d00-4d37-bdb0-2d0fa7835b90",
   "metadata": {},
   "outputs": [
    {
     "name": "stdout",
     "output_type": "stream",
     "text": [
      "439\n"
     ]
    }
   ],
   "source": [
    "total = 0\n",
    "for i in runs[::2]:\n",
    "    total += i\n",
    "    \n",
    "print(total)"
   ]
  },
  {
   "cell_type": "code",
   "execution_count": 43,
   "id": "e4539dd6-63c2-43e4-8f15-9f879a440177",
   "metadata": {},
   "outputs": [
    {
     "data": {
      "text/plain": [
       "439"
      ]
     },
     "execution_count": 43,
     "metadata": {},
     "output_type": "execute_result"
    }
   ],
   "source": [
    "sum(runs[::2])"
   ]
  },
  {
   "cell_type": "code",
   "execution_count": null,
   "id": "f50fc059-3b81-4d8e-ae58-3105bd3c37aa",
   "metadata": {},
   "outputs": [],
   "source": []
  },
  {
   "cell_type": "code",
   "execution_count": null,
   "id": "c7ee82d9-39b9-40b1-9f00-9c3ddd61a07c",
   "metadata": {},
   "outputs": [],
   "source": []
  },
  {
   "cell_type": "code",
   "execution_count": 44,
   "id": "9e047375-33d8-471e-9232-a9f679231930",
   "metadata": {},
   "outputs": [],
   "source": [
    "# Odd index elements"
   ]
  },
  {
   "cell_type": "code",
   "execution_count": 47,
   "id": "03c1fff4-d5b9-4b5c-9c27-2c5ae9692a0c",
   "metadata": {},
   "outputs": [
    {
     "data": {
      "text/plain": [
       "468"
      ]
     },
     "execution_count": 47,
     "metadata": {},
     "output_type": "execute_result"
    }
   ],
   "source": [
    "sum(runs[1::2])"
   ]
  },
  {
   "cell_type": "code",
   "execution_count": null,
   "id": "ab13f1d1-1c65-4749-a748-aa16208c9e39",
   "metadata": {},
   "outputs": [],
   "source": []
  },
  {
   "cell_type": "code",
   "execution_count": 48,
   "id": "cd897826-2f5b-4a68-8f38-5f1c4e09d284",
   "metadata": {},
   "outputs": [],
   "source": [
    "# Sum of Sachin scores in first 5 matches, last 5 matches"
   ]
  },
  {
   "cell_type": "code",
   "execution_count": 49,
   "id": "51fe23a0-3600-4e01-9652-2b0db41374a0",
   "metadata": {},
   "outputs": [
    {
     "data": {
      "text/plain": [
       "[10, 99, 100, 50, 80, 200, 150, 20, 99, 99]"
      ]
     },
     "execution_count": 49,
     "metadata": {},
     "output_type": "execute_result"
    }
   ],
   "source": [
    "runs"
   ]
  },
  {
   "cell_type": "code",
   "execution_count": 50,
   "id": "32098b5a-b21c-465f-b3ff-170b249bf38a",
   "metadata": {},
   "outputs": [
    {
     "data": {
      "text/plain": [
       "339"
      ]
     },
     "execution_count": 50,
     "metadata": {},
     "output_type": "execute_result"
    }
   ],
   "source": [
    "sum(runs[0:5])"
   ]
  },
  {
   "cell_type": "code",
   "execution_count": 51,
   "id": "93588d4e-7d3a-45a5-bc59-5cda2355e48e",
   "metadata": {},
   "outputs": [
    {
     "data": {
      "text/plain": [
       "[200, 150, 20, 99, 99]"
      ]
     },
     "execution_count": 51,
     "metadata": {},
     "output_type": "execute_result"
    }
   ],
   "source": [
    "runs[-5:]"
   ]
  },
  {
   "cell_type": "code",
   "execution_count": null,
   "id": "98e11a21-eced-47cb-ab25-fa7cc2e5d718",
   "metadata": {},
   "outputs": [],
   "source": []
  },
  {
   "cell_type": "code",
   "execution_count": null,
   "id": "fdfabc9d-04f2-4d5c-9581-46bd78b50755",
   "metadata": {},
   "outputs": [],
   "source": []
  },
  {
   "cell_type": "code",
   "execution_count": null,
   "id": "5c4850dd-011e-4565-a8fb-c9816351aaa6",
   "metadata": {},
   "outputs": [],
   "source": []
  },
  {
   "cell_type": "code",
   "execution_count": null,
   "id": "ba727a7b-46ba-4ee1-b7c6-c95801a5ef84",
   "metadata": {},
   "outputs": [],
   "source": []
  },
  {
   "cell_type": "markdown",
   "id": "a3fe0531-2518-4f2d-9e62-cb4dce8aaa9b",
   "metadata": {},
   "source": [
    "# Nested Lists Introduction"
   ]
  },
  {
   "cell_type": "code",
   "execution_count": 52,
   "id": "71d5dbe1-459a-4bed-86e4-ea0b5853d6a6",
   "metadata": {},
   "outputs": [],
   "source": [
    "# What about append first?"
   ]
  },
  {
   "cell_type": "code",
   "execution_count": 53,
   "id": "2071d93f-fc6d-44d6-a6a4-d3b17a95e5f8",
   "metadata": {},
   "outputs": [],
   "source": [
    "l1 = [1, 2, 3, 4]\n",
    "l2 = [5, 6, 7, 8]"
   ]
  },
  {
   "cell_type": "code",
   "execution_count": 54,
   "id": "a4aa826c-8835-437f-9c6d-1977b6d3f5ab",
   "metadata": {},
   "outputs": [],
   "source": [
    "l1.extend(l2)"
   ]
  },
  {
   "cell_type": "code",
   "execution_count": 55,
   "id": "25f6dcbb-989f-47ab-a48e-5b6b256689c8",
   "metadata": {},
   "outputs": [
    {
     "data": {
      "text/plain": [
       "[1, 2, 3, 4, 5, 6, 7, 8]"
      ]
     },
     "execution_count": 55,
     "metadata": {},
     "output_type": "execute_result"
    }
   ],
   "source": [
    "l1"
   ]
  },
  {
   "cell_type": "code",
   "execution_count": 56,
   "id": "4b2e9385-142a-4b9e-af32-4289ef2f4e11",
   "metadata": {},
   "outputs": [],
   "source": [
    "l1.append(l2)"
   ]
  },
  {
   "cell_type": "code",
   "execution_count": 57,
   "id": "c4bfc2ab-44fd-464c-a685-516db8eafc0c",
   "metadata": {},
   "outputs": [
    {
     "data": {
      "text/plain": [
       "[1, 2, 3, 4, 5, 6, 7, 8, [5, 6, 7, 8]]"
      ]
     },
     "execution_count": 57,
     "metadata": {},
     "output_type": "execute_result"
    }
   ],
   "source": [
    "l1"
   ]
  },
  {
   "cell_type": "code",
   "execution_count": null,
   "id": "38fee191-7418-4218-ad1c-af0684f42967",
   "metadata": {},
   "outputs": [],
   "source": []
  },
  {
   "cell_type": "code",
   "execution_count": null,
   "id": "fef7c21f-4e8a-41f6-b652-e203c0b44029",
   "metadata": {},
   "outputs": [],
   "source": []
  },
  {
   "cell_type": "markdown",
   "id": "d8395f2e-b1e0-4a3c-a9ca-32e0515a7487",
   "metadata": {},
   "source": [
    "### Get a scores list including runs from all the formats"
   ]
  },
  {
   "cell_type": "code",
   "execution_count": 58,
   "id": "2f7b8a01-6422-4af2-8cd5-0ce81e5032da",
   "metadata": {},
   "outputs": [],
   "source": [
    "odi = [100, 99, 20]\n",
    "test = [200, 150, 90, 180]\n",
    "t20 = [20, 50, 100]"
   ]
  },
  {
   "cell_type": "code",
   "execution_count": 120,
   "id": "69b704a8-41b9-41a5-9cab-421f23461672",
   "metadata": {},
   "outputs": [],
   "source": [
    "example = [[100, 99, 20], \n",
    "           [200, 150, 90, 180],\n",
    "           [20, 50, 100]]"
   ]
  },
  {
   "cell_type": "code",
   "execution_count": 121,
   "id": "8e1f764f-a4f0-435a-a261-97b9e0c6fc0c",
   "metadata": {},
   "outputs": [
    {
     "data": {
      "text/plain": [
       "[[100, 99, 20], [200, 150, 90, 180], [20, 50, 100]]"
      ]
     },
     "execution_count": 121,
     "metadata": {},
     "output_type": "execute_result"
    }
   ],
   "source": [
    "example"
   ]
  },
  {
   "cell_type": "code",
   "execution_count": null,
   "id": "a0092a31-94b3-4fd1-89c2-6ff7e19b39a4",
   "metadata": {},
   "outputs": [],
   "source": []
  },
  {
   "cell_type": "code",
   "execution_count": 122,
   "id": "03dd8927-3779-4a37-a0a2-adbf50f0991e",
   "metadata": {},
   "outputs": [],
   "source": [
    "scores = []"
   ]
  },
  {
   "cell_type": "code",
   "execution_count": 123,
   "id": "14fdc665-8761-4d3e-adca-563042014eb5",
   "metadata": {},
   "outputs": [],
   "source": [
    "scores.append(odi)"
   ]
  },
  {
   "cell_type": "code",
   "execution_count": 124,
   "id": "2f3fa233-3fbb-4c2d-b746-504cf2aefb3d",
   "metadata": {},
   "outputs": [],
   "source": [
    "scores.append(test)"
   ]
  },
  {
   "cell_type": "code",
   "execution_count": 125,
   "id": "de2a3b30-5981-4b5e-99be-de5014f85956",
   "metadata": {},
   "outputs": [
    {
     "data": {
      "text/plain": [
       "[[100, 99, 20], [200, 150, 90, 180]]"
      ]
     },
     "execution_count": 125,
     "metadata": {},
     "output_type": "execute_result"
    }
   ],
   "source": [
    "scores"
   ]
  },
  {
   "cell_type": "code",
   "execution_count": 126,
   "id": "fcb56c08-5abc-4b14-804a-6570b8838f62",
   "metadata": {},
   "outputs": [],
   "source": [
    "scores.append(t20)"
   ]
  },
  {
   "cell_type": "code",
   "execution_count": 127,
   "id": "0a643d8b-0271-4b35-8feb-25dca9325ff6",
   "metadata": {},
   "outputs": [
    {
     "data": {
      "text/plain": [
       "[[100, 99, 20], [200, 150, 90, 180], [20, 50, 100]]"
      ]
     },
     "execution_count": 127,
     "metadata": {},
     "output_type": "execute_result"
    }
   ],
   "source": [
    "scores"
   ]
  },
  {
   "cell_type": "code",
   "execution_count": null,
   "id": "a02acd27-6876-44c0-beb2-9e60e3d3effb",
   "metadata": {},
   "outputs": [],
   "source": []
  },
  {
   "cell_type": "code",
   "execution_count": null,
   "id": "4fee6986-7bd3-4055-ac63-c1d30a2d6da2",
   "metadata": {},
   "outputs": [],
   "source": []
  },
  {
   "cell_type": "code",
   "execution_count": 128,
   "id": "71894a90-9781-48c9-8ce5-829c67cf0024",
   "metadata": {},
   "outputs": [],
   "source": [
    "# Indexing in the list"
   ]
  },
  {
   "cell_type": "code",
   "execution_count": 129,
   "id": "63ceba9e-7552-4a10-ba6e-4096b524ee7c",
   "metadata": {},
   "outputs": [
    {
     "data": {
      "text/plain": [
       "[[100, 99, 20], [200, 150, 90, 180], [20, 50, 100]]"
      ]
     },
     "execution_count": 129,
     "metadata": {},
     "output_type": "execute_result"
    }
   ],
   "source": [
    "scores"
   ]
  },
  {
   "cell_type": "code",
   "execution_count": null,
   "id": "a7104f92-315f-420d-b828-103b20dfa05d",
   "metadata": {},
   "outputs": [],
   "source": []
  },
  {
   "cell_type": "code",
   "execution_count": 130,
   "id": "b32cc9ba-88a2-4c3e-a7c2-440bf2ee4130",
   "metadata": {},
   "outputs": [
    {
     "data": {
      "text/plain": [
       "[100, 99, 20]"
      ]
     },
     "execution_count": 130,
     "metadata": {},
     "output_type": "execute_result"
    }
   ],
   "source": [
    "scores[0]"
   ]
  },
  {
   "cell_type": "code",
   "execution_count": 131,
   "id": "46b7395c-3c7c-45cc-8677-6470a088a8b5",
   "metadata": {},
   "outputs": [
    {
     "data": {
      "text/plain": [
       "[200, 150, 90, 180]"
      ]
     },
     "execution_count": 131,
     "metadata": {},
     "output_type": "execute_result"
    }
   ],
   "source": [
    "scores[1]"
   ]
  },
  {
   "cell_type": "code",
   "execution_count": 132,
   "id": "44a9d641-3d37-4c4a-9083-e1f2ade4002c",
   "metadata": {},
   "outputs": [
    {
     "data": {
      "text/plain": [
       "[20, 50, 100]"
      ]
     },
     "execution_count": 132,
     "metadata": {},
     "output_type": "execute_result"
    }
   ],
   "source": [
    "scores[2]"
   ]
  },
  {
   "cell_type": "code",
   "execution_count": 133,
   "id": "7f6e5e68-cfad-4fbd-900a-e873399eab1e",
   "metadata": {},
   "outputs": [
    {
     "data": {
      "text/plain": [
       "100"
      ]
     },
     "execution_count": 133,
     "metadata": {},
     "output_type": "execute_result"
    }
   ],
   "source": [
    "scores[2][2]"
   ]
  },
  {
   "cell_type": "code",
   "execution_count": 134,
   "id": "eae249d0-a6a2-42f1-84c9-388a74c5f47a",
   "metadata": {},
   "outputs": [],
   "source": [
    "# scores[3][0]"
   ]
  },
  {
   "cell_type": "code",
   "execution_count": 135,
   "id": "db1f4ef1-0d47-412e-915e-93f8f743dad9",
   "metadata": {},
   "outputs": [
    {
     "data": {
      "text/plain": [
       "99"
      ]
     },
     "execution_count": 135,
     "metadata": {},
     "output_type": "execute_result"
    }
   ],
   "source": [
    "scores[0][1]"
   ]
  },
  {
   "cell_type": "code",
   "execution_count": null,
   "id": "827c98c1-d187-4a36-a308-813a30cd4b71",
   "metadata": {},
   "outputs": [],
   "source": []
  },
  {
   "cell_type": "code",
   "execution_count": null,
   "id": "162be468-d306-45aa-9ad9-6e2572588cbf",
   "metadata": {},
   "outputs": [],
   "source": []
  },
  {
   "cell_type": "code",
   "execution_count": null,
   "id": "dd2eefa1-34cc-472e-872b-031dbddccd10",
   "metadata": {},
   "outputs": [],
   "source": []
  },
  {
   "cell_type": "markdown",
   "id": "82668913-401e-432f-ac75-36d4955ad34d",
   "metadata": {},
   "source": [
    "### Iterating a 2D list"
   ]
  },
  {
   "cell_type": "code",
   "execution_count": 136,
   "id": "0ed3b374-a0ea-4452-ae42-d39b4a110f7f",
   "metadata": {},
   "outputs": [],
   "source": [
    "# The range method"
   ]
  },
  {
   "cell_type": "code",
   "execution_count": 137,
   "id": "dabcb8ea-9d62-4a8e-abbf-2ca237dae8c5",
   "metadata": {},
   "outputs": [],
   "source": [
    "# Without range"
   ]
  },
  {
   "cell_type": "code",
   "execution_count": 138,
   "id": "0964ebd6-0400-44c6-b338-513a2fa59194",
   "metadata": {},
   "outputs": [],
   "source": [
    "# In case when we are using range function, we are iterating using\n",
    "# Indexes"
   ]
  },
  {
   "cell_type": "code",
   "execution_count": 139,
   "id": "da70b028-9cb4-41c9-b378-29670d8f66e6",
   "metadata": {},
   "outputs": [
    {
     "data": {
      "text/plain": [
       "[[100, 99, 20], [200, 150, 90, 180], [20, 50, 100]]"
      ]
     },
     "execution_count": 139,
     "metadata": {},
     "output_type": "execute_result"
    }
   ],
   "source": [
    "scores"
   ]
  },
  {
   "cell_type": "code",
   "execution_count": 140,
   "id": "d1ace568-58fe-496f-bbe7-c027e326a145",
   "metadata": {},
   "outputs": [
    {
     "name": "stdout",
     "output_type": "stream",
     "text": [
      "[100, 99, 20]\n",
      "[200, 150, 90, 180]\n",
      "[20, 50, 100]\n"
     ]
    }
   ],
   "source": [
    "for i in scores:\n",
    "    print(i)"
   ]
  },
  {
   "cell_type": "code",
   "execution_count": 141,
   "id": "7b3db0a8-3613-4252-9c02-b73faa03fdf4",
   "metadata": {},
   "outputs": [
    {
     "data": {
      "text/plain": [
       "[100, 99, 20]"
      ]
     },
     "execution_count": 141,
     "metadata": {},
     "output_type": "execute_result"
    }
   ],
   "source": [
    "odi"
   ]
  },
  {
   "cell_type": "code",
   "execution_count": 142,
   "id": "9b3f79aa-7b59-4504-bd32-671fc0be2fd0",
   "metadata": {},
   "outputs": [
    {
     "name": "stdout",
     "output_type": "stream",
     "text": [
      "100\n",
      "99\n",
      "20\n"
     ]
    }
   ],
   "source": [
    "for i in odi:\n",
    "    print(i)"
   ]
  },
  {
   "cell_type": "code",
   "execution_count": 143,
   "id": "ae725971-d378-4816-bb68-dab87c05bd6f",
   "metadata": {},
   "outputs": [
    {
     "data": {
      "text/plain": [
       "[[100, 99, 20], [200, 150, 90, 180], [20, 50, 100]]"
      ]
     },
     "execution_count": 143,
     "metadata": {},
     "output_type": "execute_result"
    }
   ],
   "source": [
    "scores"
   ]
  },
  {
   "cell_type": "code",
   "execution_count": 144,
   "id": "e587249d-925d-456b-92bd-49a922a432a8",
   "metadata": {},
   "outputs": [
    {
     "name": "stdout",
     "output_type": "stream",
     "text": [
      "100\n",
      "99\n",
      "20\n",
      "200\n",
      "150\n",
      "90\n",
      "180\n",
      "20\n",
      "50\n",
      "100\n"
     ]
    }
   ],
   "source": [
    "for i in scores:\n",
    "    for j in i:\n",
    "        print(j)"
   ]
  },
  {
   "cell_type": "code",
   "execution_count": null,
   "id": "05f1d738-c932-47e3-aa66-de2fd8b6facc",
   "metadata": {},
   "outputs": [],
   "source": []
  },
  {
   "cell_type": "code",
   "execution_count": null,
   "id": "05904351-2d09-437b-9946-44a2cb763802",
   "metadata": {},
   "outputs": [],
   "source": []
  },
  {
   "cell_type": "code",
   "execution_count": 145,
   "id": "a97d675f-9879-4110-80fa-ea9330fed656",
   "metadata": {},
   "outputs": [],
   "source": [
    "# Iteration using indexes"
   ]
  },
  {
   "cell_type": "code",
   "execution_count": 146,
   "id": "116b3997-eae7-4e9e-9deb-9bd1e46c370c",
   "metadata": {},
   "outputs": [
    {
     "data": {
      "text/plain": [
       "[[100, 99, 20], [200, 150, 90, 180], [20, 50, 100]]"
      ]
     },
     "execution_count": 146,
     "metadata": {},
     "output_type": "execute_result"
    }
   ],
   "source": [
    "scores"
   ]
  },
  {
   "cell_type": "code",
   "execution_count": 147,
   "id": "671bc4ac-e07a-4b99-99dc-f4540e9f4d99",
   "metadata": {},
   "outputs": [
    {
     "data": {
      "text/plain": [
       "3"
      ]
     },
     "execution_count": 147,
     "metadata": {},
     "output_type": "execute_result"
    }
   ],
   "source": [
    "len(scores)"
   ]
  },
  {
   "cell_type": "code",
   "execution_count": 148,
   "id": "39d92927-9c1d-46de-96a4-845f01ffc0ac",
   "metadata": {},
   "outputs": [
    {
     "name": "stdout",
     "output_type": "stream",
     "text": [
      "0 [100, 99, 20]\n",
      "1 [200, 150, 90, 180]\n",
      "2 [20, 50, 100]\n"
     ]
    }
   ],
   "source": [
    "for i in range(len(scores)):\n",
    "    print(i, scores[i])"
   ]
  },
  {
   "cell_type": "code",
   "execution_count": 149,
   "id": "b27831fe-1115-4d36-bd3f-3c088d534e40",
   "metadata": {},
   "outputs": [
    {
     "name": "stdout",
     "output_type": "stream",
     "text": [
      "0 [100, 99, 20] 3\n",
      "1 [200, 150, 90, 180] 4\n",
      "2 [20, 50, 100] 3\n"
     ]
    }
   ],
   "source": [
    "for i in range(len(scores)):\n",
    "    print(i, scores[i], len(scores[i]))"
   ]
  },
  {
   "cell_type": "code",
   "execution_count": null,
   "id": "f7a75907-0398-47d2-96c5-2d8c1cbcde5d",
   "metadata": {},
   "outputs": [],
   "source": []
  },
  {
   "cell_type": "code",
   "execution_count": 150,
   "id": "74be98dc-42d9-4565-8f2d-b6c37856c3f0",
   "metadata": {},
   "outputs": [
    {
     "name": "stdout",
     "output_type": "stream",
     "text": [
      "0 0\n",
      "0 1\n",
      "0 2\n",
      "1 0\n",
      "1 1\n",
      "1 2\n",
      "1 3\n",
      "2 0\n",
      "2 1\n",
      "2 2\n"
     ]
    }
   ],
   "source": [
    "for i in range(len(scores)):\n",
    "    for j in range(len(scores[i])):\n",
    "        print(i, j)"
   ]
  },
  {
   "cell_type": "code",
   "execution_count": 151,
   "id": "1ad1413c-22a1-46be-aea6-42f1d5c33ce4",
   "metadata": {},
   "outputs": [
    {
     "data": {
      "text/plain": [
       "[[100, 99, 20], [200, 150, 90, 180], [20, 50, 100]]"
      ]
     },
     "execution_count": 151,
     "metadata": {},
     "output_type": "execute_result"
    }
   ],
   "source": [
    "scores"
   ]
  },
  {
   "cell_type": "code",
   "execution_count": 152,
   "id": "207d5c01-f54b-4731-9232-4e261f02c2b5",
   "metadata": {},
   "outputs": [
    {
     "name": "stdout",
     "output_type": "stream",
     "text": [
      "0 0 100\n",
      "0 1 99\n",
      "0 2 20\n",
      "1 0 200\n",
      "1 1 150\n",
      "1 2 90\n",
      "1 3 180\n",
      "2 0 20\n",
      "2 1 50\n",
      "2 2 100\n"
     ]
    }
   ],
   "source": [
    "for i in range(len(scores)):\n",
    "    for j in range(len(scores[i])):\n",
    "        print(i, j, scores[i][j])"
   ]
  },
  {
   "cell_type": "code",
   "execution_count": null,
   "id": "48e6ed1c-7673-4f35-92d5-c7cbf62debac",
   "metadata": {},
   "outputs": [],
   "source": []
  },
  {
   "cell_type": "code",
   "execution_count": null,
   "id": "6935fd58-a170-4b1f-9730-f2defb9926ae",
   "metadata": {},
   "outputs": [],
   "source": []
  },
  {
   "cell_type": "markdown",
   "id": "a7755e78-129d-444c-867c-f33d8c699d18",
   "metadata": {},
   "source": [
    "### Find Total runs scored by Sachin in his career?"
   ]
  },
  {
   "cell_type": "code",
   "execution_count": 153,
   "id": "a65782ca-61fc-4cbc-ae20-95dedfcbbc38",
   "metadata": {},
   "outputs": [
    {
     "data": {
      "text/plain": [
       "[[100, 99, 20], [200, 150, 90, 180], [20, 50, 100]]"
      ]
     },
     "execution_count": 153,
     "metadata": {},
     "output_type": "execute_result"
    }
   ],
   "source": [
    "scores"
   ]
  },
  {
   "cell_type": "code",
   "execution_count": 154,
   "id": "e6d4ae24-afe0-4a21-a86a-eeaf19a42da7",
   "metadata": {},
   "outputs": [
    {
     "name": "stdout",
     "output_type": "stream",
     "text": [
      "[100, 99, 20] [200, 150, 90, 180] [20, 50, 100]\n"
     ]
    }
   ],
   "source": [
    "print(odi, test, t20)"
   ]
  },
  {
   "cell_type": "code",
   "execution_count": 155,
   "id": "1352485d-0226-4503-b2b7-fb16ae64b307",
   "metadata": {},
   "outputs": [
    {
     "name": "stdout",
     "output_type": "stream",
     "text": [
      "[100, 99, 20]\n",
      "[200, 150, 90, 180]\n",
      "[20, 50, 100]\n"
     ]
    }
   ],
   "source": [
    "for i in scores:\n",
    "    print(i)"
   ]
  },
  {
   "cell_type": "code",
   "execution_count": 156,
   "id": "f99b217e-73bc-41a2-b886-df0db9fe1e50",
   "metadata": {},
   "outputs": [
    {
     "name": "stdout",
     "output_type": "stream",
     "text": [
      "219\n",
      "620\n",
      "170\n"
     ]
    }
   ],
   "source": [
    "for i in scores:\n",
    "    print(sum(i))"
   ]
  },
  {
   "cell_type": "code",
   "execution_count": 157,
   "id": "888ced1c-71e4-4e35-8bd7-c995aec9e8af",
   "metadata": {},
   "outputs": [],
   "source": [
    "# To get sum of all elements we need to iterate on them one by one"
   ]
  },
  {
   "cell_type": "code",
   "execution_count": 158,
   "id": "9302d492-25bb-4191-a97d-a75587eb293e",
   "metadata": {},
   "outputs": [
    {
     "name": "stdout",
     "output_type": "stream",
     "text": [
      "100\n",
      "99\n",
      "20\n",
      "200\n",
      "150\n",
      "90\n",
      "180\n",
      "20\n",
      "50\n",
      "100\n"
     ]
    }
   ],
   "source": [
    "for i in scores:\n",
    "    for j in i:\n",
    "        print(j)"
   ]
  },
  {
   "cell_type": "code",
   "execution_count": 159,
   "id": "100b3e62-1539-464a-ac91-4bb44bfaa8c9",
   "metadata": {},
   "outputs": [
    {
     "name": "stdout",
     "output_type": "stream",
     "text": [
      "1009\n"
     ]
    }
   ],
   "source": [
    "total = 0\n",
    "for i in scores:\n",
    "    for j in i:\n",
    "        total += j\n",
    "        \n",
    "print(total)"
   ]
  },
  {
   "cell_type": "code",
   "execution_count": 160,
   "id": "f19f7f41-f8da-4ef1-a019-6bf3b345ef7a",
   "metadata": {},
   "outputs": [],
   "source": [
    "# Total using indexes"
   ]
  },
  {
   "cell_type": "code",
   "execution_count": 161,
   "id": "03f56b36-3d3b-42ad-a6d7-bba248defab4",
   "metadata": {},
   "outputs": [
    {
     "data": {
      "text/plain": [
       "[[100, 99, 20], [200, 150, 90, 180], [20, 50, 100]]"
      ]
     },
     "execution_count": 161,
     "metadata": {},
     "output_type": "execute_result"
    }
   ],
   "source": [
    "scores"
   ]
  },
  {
   "cell_type": "code",
   "execution_count": 162,
   "id": "4bbbac09-2071-4749-b355-34d5fa1d29c7",
   "metadata": {},
   "outputs": [
    {
     "name": "stdout",
     "output_type": "stream",
     "text": [
      "100\n",
      "99\n",
      "20\n",
      "200\n",
      "150\n",
      "90\n",
      "180\n",
      "20\n",
      "50\n",
      "100\n"
     ]
    }
   ],
   "source": [
    "total = 0\n",
    "\n",
    "for i in range(len(scores)):\n",
    "    for j in range(len(scores[i])):\n",
    "        print(scores[i][j])"
   ]
  },
  {
   "cell_type": "code",
   "execution_count": 163,
   "id": "9c0a6910-62cf-447a-b72d-a14c68fc5d83",
   "metadata": {},
   "outputs": [
    {
     "name": "stdout",
     "output_type": "stream",
     "text": [
      "1009\n"
     ]
    }
   ],
   "source": [
    "total = 0\n",
    "\n",
    "for i in range(len(scores)):\n",
    "    for j in range(len(scores[i])):\n",
    "        total += scores[i][j]\n",
    "        \n",
    "print(total)"
   ]
  },
  {
   "cell_type": "code",
   "execution_count": null,
   "id": "aed1b6ff-3610-4f9f-9c51-194555c6f788",
   "metadata": {},
   "outputs": [],
   "source": []
  },
  {
   "cell_type": "code",
   "execution_count": 164,
   "id": "7a77da9c-3715-4d86-b7b0-8fcddc60460b",
   "metadata": {},
   "outputs": [
    {
     "name": "stdout",
     "output_type": "stream",
     "text": [
      "1009\n"
     ]
    }
   ],
   "source": [
    "total = 0\n",
    "\n",
    "for i in scores:\n",
    "    total += sum(i)\n",
    "    \n",
    "print(total)"
   ]
  },
  {
   "cell_type": "code",
   "execution_count": null,
   "id": "5a8e740d-35c9-4f43-82cb-2e8d47e807ca",
   "metadata": {},
   "outputs": [],
   "source": []
  },
  {
   "cell_type": "code",
   "execution_count": null,
   "id": "1b89c41b-33d1-409b-979a-9955bda9f4c0",
   "metadata": {},
   "outputs": [],
   "source": []
  },
  {
   "cell_type": "markdown",
   "id": "c241008f-368c-4afa-b627-aad463ad9ee8",
   "metadata": {},
   "source": [
    "#### Print the scores of each format"
   ]
  },
  {
   "cell_type": "code",
   "execution_count": 165,
   "id": "657a4a3a-2888-4bde-962e-64d1895b9eff",
   "metadata": {},
   "outputs": [
    {
     "name": "stdout",
     "output_type": "stream",
     "text": [
      "219\n",
      "620\n",
      "170\n"
     ]
    }
   ],
   "source": [
    "for i in scores:\n",
    "    print(sum(i))"
   ]
  },
  {
   "cell_type": "code",
   "execution_count": null,
   "id": "48edde27-49ed-4b60-8a18-c4f4c761f776",
   "metadata": {},
   "outputs": [],
   "source": []
  },
  {
   "cell_type": "code",
   "execution_count": 167,
   "id": "2809508d-a813-49d9-916d-02b3c525a00a",
   "metadata": {},
   "outputs": [
    {
     "data": {
      "text/plain": [
       "[[100, 99, 20], [200, 150, 90, 180], [20, 50, 100]]"
      ]
     },
     "execution_count": 167,
     "metadata": {},
     "output_type": "execute_result"
    }
   ],
   "source": [
    "scores"
   ]
  },
  {
   "cell_type": "code",
   "execution_count": 168,
   "id": "f8621258-3407-4e6e-9a8b-860c05f480c2",
   "metadata": {},
   "outputs": [
    {
     "data": {
      "text/plain": [
       "20"
      ]
     },
     "execution_count": 168,
     "metadata": {},
     "output_type": "execute_result"
    }
   ],
   "source": [
    "min(odi)"
   ]
  },
  {
   "cell_type": "code",
   "execution_count": 169,
   "id": "24c5115f-ea56-4c2e-9817-0a0bc0a0fe45",
   "metadata": {},
   "outputs": [
    {
     "data": {
      "text/plain": [
       "100"
      ]
     },
     "execution_count": 169,
     "metadata": {},
     "output_type": "execute_result"
    }
   ],
   "source": [
    "max(odi)"
   ]
  },
  {
   "cell_type": "code",
   "execution_count": null,
   "id": "98639425-5070-426a-b0a3-c1d4c8736092",
   "metadata": {},
   "outputs": [],
   "source": []
  },
  {
   "cell_type": "code",
   "execution_count": 170,
   "id": "e5256a74-70b3-4c91-938c-8bf46e026fd8",
   "metadata": {},
   "outputs": [],
   "source": [
    "# HW: Find Min in each format.\n",
    "# HW: Find max in each format.\n",
    "# Find min in overall scores\n",
    "# Find max in overall scores"
   ]
  },
  {
   "cell_type": "code",
   "execution_count": null,
   "id": "23b55990-6085-4482-90f9-7e8661f5b710",
   "metadata": {},
   "outputs": [],
   "source": []
  },
  {
   "cell_type": "code",
   "execution_count": null,
   "id": "326a0f56-ae30-43bd-b3a6-baa1104b5b02",
   "metadata": {},
   "outputs": [],
   "source": []
  },
  {
   "cell_type": "code",
   "execution_count": null,
   "id": "6892c7be-6448-4c63-8882-9123762dbd6c",
   "metadata": {},
   "outputs": [],
   "source": []
  },
  {
   "cell_type": "code",
   "execution_count": 171,
   "id": "bcb41604-db9c-423c-bdbf-56622d7c3cb6",
   "metadata": {},
   "outputs": [],
   "source": [
    "st = \"1 2 3 4\""
   ]
  },
  {
   "cell_type": "code",
   "execution_count": 172,
   "id": "a6e6c27b-1759-477e-813d-d8ef591dc2cc",
   "metadata": {},
   "outputs": [
    {
     "data": {
      "text/plain": [
       "['1', '2', '3', '4']"
      ]
     },
     "execution_count": 172,
     "metadata": {},
     "output_type": "execute_result"
    }
   ],
   "source": [
    "st.split()"
   ]
  },
  {
   "cell_type": "code",
   "execution_count": 173,
   "id": "db0b597b-1398-48e1-acab-03be012e1cc5",
   "metadata": {},
   "outputs": [
    {
     "name": "stdin",
     "output_type": "stream",
     "text": [
      " 1 2 3 4\n"
     ]
    }
   ],
   "source": [
    "l = input()"
   ]
  },
  {
   "cell_type": "code",
   "execution_count": 174,
   "id": "5c965d2f-02b3-4e46-a774-44fdd16b677a",
   "metadata": {},
   "outputs": [
    {
     "data": {
      "text/plain": [
       "'1 2 3 4'"
      ]
     },
     "execution_count": 174,
     "metadata": {},
     "output_type": "execute_result"
    }
   ],
   "source": [
    "l"
   ]
  },
  {
   "cell_type": "code",
   "execution_count": 177,
   "id": "4b35175f-cb52-4afc-ba6a-1355f1520e5c",
   "metadata": {},
   "outputs": [],
   "source": [
    "l = l.split()"
   ]
  },
  {
   "cell_type": "code",
   "execution_count": 178,
   "id": "bbb00284-cbb6-4b60-bee4-154eba8d9bbb",
   "metadata": {},
   "outputs": [],
   "source": [
    "l = list(map(int, l))"
   ]
  },
  {
   "cell_type": "code",
   "execution_count": 179,
   "id": "9172161d-efd0-4075-a962-1a399d0bb2b3",
   "metadata": {},
   "outputs": [
    {
     "data": {
      "text/plain": [
       "[1, 2, 3, 4]"
      ]
     },
     "execution_count": 179,
     "metadata": {},
     "output_type": "execute_result"
    }
   ],
   "source": [
    "l"
   ]
  },
  {
   "cell_type": "code",
   "execution_count": null,
   "id": "7efdb0e6-f39d-4074-af68-c1a780ee6f0b",
   "metadata": {},
   "outputs": [],
   "source": []
  },
  {
   "cell_type": "code",
   "execution_count": null,
   "id": "c679f607-32e7-4dff-b6bf-a5e2dac93b12",
   "metadata": {},
   "outputs": [],
   "source": []
  },
  {
   "cell_type": "code",
   "execution_count": null,
   "id": "f652da86-6a61-46c2-8321-d9ca59650407",
   "metadata": {},
   "outputs": [],
   "source": []
  }
 ],
 "metadata": {
  "kernelspec": {
   "display_name": "Python 3 (ipykernel)",
   "language": "python",
   "name": "python3"
  },
  "language_info": {
   "codemirror_mode": {
    "name": "ipython",
    "version": 3
   },
   "file_extension": ".py",
   "mimetype": "text/x-python",
   "name": "python",
   "nbconvert_exporter": "python",
   "pygments_lexer": "ipython3",
   "version": "3.9.7"
  }
 },
 "nbformat": 4,
 "nbformat_minor": 5
}
