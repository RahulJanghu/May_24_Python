{
 "cells": [
  {
   "cell_type": "markdown",
   "id": "25dbb98a-be80-4bb0-9f36-0acd74d136af",
   "metadata": {},
   "source": [
    "### Functional Programming\n"
   ]
  },
  {
   "cell_type": "code",
   "execution_count": 1,
   "id": "462a76c0-9e04-40ef-8a88-0cfea452723c",
   "metadata": {},
   "outputs": [],
   "source": [
    "# Lambda functions"
   ]
  },
  {
   "cell_type": "code",
   "execution_count": 3,
   "id": "79de76ec-e60e-4e23-834f-551a1d51a196",
   "metadata": {},
   "outputs": [],
   "source": [
    "numbers = [1, 2, 3, 4]"
   ]
  },
  {
   "cell_type": "code",
   "execution_count": 4,
   "id": "2139b2e8-b338-41d9-87c1-8832425b4483",
   "metadata": {},
   "outputs": [
    {
     "name": "stdout",
     "output_type": "stream",
     "text": [
      "[1, 4, 9, 16]\n"
     ]
    }
   ],
   "source": [
    "# Iterative approach\n",
    "\n",
    "sq_values = []\n",
    "for i in numbers:\n",
    "    sq_values.append(i * i)\n",
    "    \n",
    "print(sq_values)"
   ]
  },
  {
   "cell_type": "code",
   "execution_count": 5,
   "id": "bdf25b42-63b0-4990-9cc0-82622ec98a43",
   "metadata": {},
   "outputs": [],
   "source": [
    "# Functional approach"
   ]
  },
  {
   "cell_type": "code",
   "execution_count": 6,
   "id": "1c6fd420-8c23-4092-b542-18bb622dc205",
   "metadata": {},
   "outputs": [],
   "source": [
    "def square(x):\n",
    "    return x * x"
   ]
  },
  {
   "cell_type": "code",
   "execution_count": 14,
   "id": "0a4d3b36-6f7e-4215-bcf7-3ee2fda4acd1",
   "metadata": {},
   "outputs": [
    {
     "data": {
      "text/plain": [
       "25"
      ]
     },
     "execution_count": 14,
     "metadata": {},
     "output_type": "execute_result"
    }
   ],
   "source": [
    "(lambda x : x * x)(5)"
   ]
  },
  {
   "cell_type": "code",
   "execution_count": 7,
   "id": "3900ecc3-19a4-403c-83f1-698527ede1b4",
   "metadata": {},
   "outputs": [
    {
     "data": {
      "text/plain": [
       "9"
      ]
     },
     "execution_count": 7,
     "metadata": {},
     "output_type": "execute_result"
    }
   ],
   "source": [
    "square(3)"
   ]
  },
  {
   "cell_type": "code",
   "execution_count": 8,
   "id": "9a0be0df-a0d5-4987-9b83-78a9d623724e",
   "metadata": {},
   "outputs": [],
   "source": [
    "sq1 = list(map(square, numbers))"
   ]
  },
  {
   "cell_type": "code",
   "execution_count": 9,
   "id": "14c8b742-c0cc-4dcb-98cb-706ff021a679",
   "metadata": {},
   "outputs": [
    {
     "data": {
      "text/plain": [
       "[1, 4, 9, 16]"
      ]
     },
     "execution_count": 9,
     "metadata": {},
     "output_type": "execute_result"
    }
   ],
   "source": [
    "sq1"
   ]
  },
  {
   "cell_type": "code",
   "execution_count": 15,
   "id": "0eaca3e6-3dbf-45a3-90e8-4014e2e950b3",
   "metadata": {},
   "outputs": [],
   "source": [
    "sq2 = list(map(lambda x : x * x, numbers))"
   ]
  },
  {
   "cell_type": "code",
   "execution_count": 16,
   "id": "f892e998-b922-444e-840e-0d9788dedee3",
   "metadata": {},
   "outputs": [
    {
     "data": {
      "text/plain": [
       "[1, 4, 9, 16]"
      ]
     },
     "execution_count": 16,
     "metadata": {},
     "output_type": "execute_result"
    }
   ],
   "source": [
    "sq2"
   ]
  },
  {
   "cell_type": "code",
   "execution_count": 17,
   "id": "156f11fc-6aad-4d74-8bf1-d77999d75d2a",
   "metadata": {},
   "outputs": [],
   "source": [
    "sq2 = list(map(lambda x : x + x, numbers))"
   ]
  },
  {
   "cell_type": "code",
   "execution_count": 18,
   "id": "deba7d4e-ed80-417b-8e2b-55a8965657ee",
   "metadata": {},
   "outputs": [
    {
     "data": {
      "text/plain": [
       "[2, 4, 6, 8]"
      ]
     },
     "execution_count": 18,
     "metadata": {},
     "output_type": "execute_result"
    }
   ],
   "source": [
    "sq2"
   ]
  },
  {
   "cell_type": "code",
   "execution_count": null,
   "id": "0e1c591d-dd74-4d29-9e5b-1b15e7597b55",
   "metadata": {},
   "outputs": [],
   "source": []
  },
  {
   "cell_type": "code",
   "execution_count": 20,
   "id": "05ebfa46-5b62-44fd-a494-5a1a0ae190f5",
   "metadata": {},
   "outputs": [],
   "source": [
    "numbers1 = [1, 6, 3, 4, 10, 8, 5]"
   ]
  },
  {
   "cell_type": "code",
   "execution_count": 21,
   "id": "632711fe-ea9a-4bf5-9c32-87ba1d460e30",
   "metadata": {},
   "outputs": [],
   "source": [
    "def some(x):\n",
    "    if x > 5:\n",
    "        return x\n",
    "    else:\n",
    "        return 0"
   ]
  },
  {
   "cell_type": "code",
   "execution_count": 22,
   "id": "c42e039d-2c84-48c4-876f-7c47dc14b4c4",
   "metadata": {},
   "outputs": [],
   "source": [
    "l1 = list(map(some, numbers1))"
   ]
  },
  {
   "cell_type": "code",
   "execution_count": 23,
   "id": "26096b52-5e85-4a47-8ec9-4f8f0ce75a87",
   "metadata": {},
   "outputs": [
    {
     "data": {
      "text/plain": [
       "[0, 6, 0, 0, 10, 8, 0]"
      ]
     },
     "execution_count": 23,
     "metadata": {},
     "output_type": "execute_result"
    }
   ],
   "source": [
    "l1"
   ]
  },
  {
   "cell_type": "code",
   "execution_count": 28,
   "id": "ce244191-7c55-4428-affa-6c3d75380de6",
   "metadata": {},
   "outputs": [
    {
     "data": {
      "text/plain": [
       "8"
      ]
     },
     "execution_count": 28,
     "metadata": {},
     "output_type": "execute_result"
    }
   ],
   "source": [
    "(lambda x : x if x > 5 else 0)(8)"
   ]
  },
  {
   "cell_type": "code",
   "execution_count": 29,
   "id": "bb11b63f-26c1-4fe9-b1b0-6d69b8610ded",
   "metadata": {},
   "outputs": [],
   "source": [
    "# Given 2 numbers x and y, return x + y"
   ]
  },
  {
   "cell_type": "code",
   "execution_count": 30,
   "id": "214427ae-1fcf-4235-a3ed-09b8483a3f09",
   "metadata": {},
   "outputs": [
    {
     "data": {
      "text/plain": [
       "7"
      ]
     },
     "execution_count": 30,
     "metadata": {},
     "output_type": "execute_result"
    }
   ],
   "source": [
    "(lambda x, y : x + y)(3, 4)"
   ]
  },
  {
   "cell_type": "code",
   "execution_count": 31,
   "id": "60220e5c-30a0-4fee-95fc-2c8df607d603",
   "metadata": {},
   "outputs": [
    {
     "data": {
      "text/plain": [
       "11"
      ]
     },
     "execution_count": 31,
     "metadata": {},
     "output_type": "execute_result"
    }
   ],
   "source": [
    "(lambda x, y : x + y)(7, 4)"
   ]
  },
  {
   "cell_type": "code",
   "execution_count": null,
   "id": "a6351588-5860-4df5-a82d-b51c52aa5f76",
   "metadata": {},
   "outputs": [],
   "source": []
  },
  {
   "cell_type": "code",
   "execution_count": 32,
   "id": "668fce6d-15e6-44a3-980f-da8f8494bd7b",
   "metadata": {},
   "outputs": [
    {
     "data": {
      "text/plain": [
       "[1, 6, 3, 4, 10, 8, 5]"
      ]
     },
     "execution_count": 32,
     "metadata": {},
     "output_type": "execute_result"
    }
   ],
   "source": [
    "numbers1"
   ]
  },
  {
   "cell_type": "code",
   "execution_count": 33,
   "id": "6b9c0170-fd16-4c21-8153-810a4215a74c",
   "metadata": {},
   "outputs": [
    {
     "data": {
      "text/plain": [
       "\u001b[0;31mSignature:\u001b[0m \u001b[0msorted\u001b[0m\u001b[0;34m(\u001b[0m\u001b[0miterable\u001b[0m\u001b[0;34m,\u001b[0m \u001b[0;34m/\u001b[0m\u001b[0;34m,\u001b[0m \u001b[0;34m*\u001b[0m\u001b[0;34m,\u001b[0m \u001b[0mkey\u001b[0m\u001b[0;34m=\u001b[0m\u001b[0;32mNone\u001b[0m\u001b[0;34m,\u001b[0m \u001b[0mreverse\u001b[0m\u001b[0;34m=\u001b[0m\u001b[0;32mFalse\u001b[0m\u001b[0;34m)\u001b[0m\u001b[0;34m\u001b[0m\u001b[0;34m\u001b[0m\u001b[0m\n",
       "\u001b[0;31mDocstring:\u001b[0m\n",
       "Return a new list containing all items from the iterable in ascending order.\n",
       "\n",
       "A custom key function can be supplied to customize the sort order, and the\n",
       "reverse flag can be set to request the result in descending order.\n",
       "\u001b[0;31mType:\u001b[0m      builtin_function_or_method\n"
      ]
     },
     "metadata": {},
     "output_type": "display_data"
    }
   ],
   "source": [
    "sorted?"
   ]
  },
  {
   "cell_type": "code",
   "execution_count": 34,
   "id": "a6772c87-00b6-48b0-bd24-ef2695e55450",
   "metadata": {},
   "outputs": [
    {
     "data": {
      "text/plain": [
       "[1, 3, 4, 5, 6, 8, 10]"
      ]
     },
     "execution_count": 34,
     "metadata": {},
     "output_type": "execute_result"
    }
   ],
   "source": [
    "sorted(numbers1)"
   ]
  },
  {
   "cell_type": "code",
   "execution_count": 36,
   "id": "d515fff1-0adc-46c6-b61e-b639e5f55cd9",
   "metadata": {},
   "outputs": [
    {
     "data": {
      "text/plain": [
       "[1, 6, 3, 4, 10, 8, 5]"
      ]
     },
     "execution_count": 36,
     "metadata": {},
     "output_type": "execute_result"
    }
   ],
   "source": [
    "numbers1"
   ]
  },
  {
   "cell_type": "code",
   "execution_count": 37,
   "id": "6a44f54b-e6ba-48cc-a34a-a49e658d550d",
   "metadata": {},
   "outputs": [],
   "source": [
    "sorted_l = sorted(numbers1)"
   ]
  },
  {
   "cell_type": "code",
   "execution_count": 38,
   "id": "a89a4a18-7f25-44f9-8a04-bf1bc7a2c215",
   "metadata": {},
   "outputs": [
    {
     "data": {
      "text/plain": [
       "[1, 3, 4, 5, 6, 8, 10]"
      ]
     },
     "execution_count": 38,
     "metadata": {},
     "output_type": "execute_result"
    }
   ],
   "source": [
    "sorted_l"
   ]
  },
  {
   "cell_type": "code",
   "execution_count": null,
   "id": "51ed6527-04a8-4fc3-b654-3dab1e2d985b",
   "metadata": {},
   "outputs": [],
   "source": []
  },
  {
   "cell_type": "code",
   "execution_count": null,
   "id": "dddf8a52-e9a5-4783-92ab-462f375c0d03",
   "metadata": {},
   "outputs": [],
   "source": []
  },
  {
   "cell_type": "code",
   "execution_count": 35,
   "id": "6a5b60e8-b887-495b-a00f-e6d7f3be5627",
   "metadata": {},
   "outputs": [],
   "source": [
    "students = [\n",
    "    {\"name\": \"A\", \"marks\": 50},\n",
    "    {\"name\": \"B\", \"marks\": 100},\n",
    "    {\"name\": \"C\", \"marks\": 40},\n",
    "    {\"name\": \"D\", \"marks\": 70},\n",
    "    {\"name\": \"E\", \"marks\": 60},\n",
    "]"
   ]
  },
  {
   "cell_type": "code",
   "execution_count": 39,
   "id": "01efac32-4728-4a52-8cc4-5a9eaca6f6e3",
   "metadata": {},
   "outputs": [
    {
     "data": {
      "text/plain": [
       "{'name': 'A', 'marks': 50}"
      ]
     },
     "execution_count": 39,
     "metadata": {},
     "output_type": "execute_result"
    }
   ],
   "source": [
    "students[0]"
   ]
  },
  {
   "cell_type": "code",
   "execution_count": 40,
   "id": "97cdcbbd-299e-4dc2-a134-b9b7adba26d7",
   "metadata": {},
   "outputs": [
    {
     "ename": "TypeError",
     "evalue": "'>' not supported between instances of 'dict' and 'dict'",
     "output_type": "error",
     "traceback": [
      "\u001b[0;31m---------------------------------------------------------------------------\u001b[0m",
      "\u001b[0;31mTypeError\u001b[0m                                 Traceback (most recent call last)",
      "\u001b[0;32m/var/folders/t5/yhjgrjs907zfp250jyxtw54m0000gn/T/ipykernel_24301/1391904454.py\u001b[0m in \u001b[0;36m<module>\u001b[0;34m\u001b[0m\n\u001b[0;32m----> 1\u001b[0;31m \u001b[0mstudents\u001b[0m\u001b[0;34m[\u001b[0m\u001b[0;36m0\u001b[0m\u001b[0;34m]\u001b[0m \u001b[0;34m>\u001b[0m \u001b[0mstudents\u001b[0m\u001b[0;34m[\u001b[0m\u001b[0;36m1\u001b[0m\u001b[0;34m]\u001b[0m\u001b[0;34m\u001b[0m\u001b[0;34m\u001b[0m\u001b[0m\n\u001b[0m",
      "\u001b[0;31mTypeError\u001b[0m: '>' not supported between instances of 'dict' and 'dict'"
     ]
    }
   ],
   "source": [
    "students[0] > students[1]"
   ]
  },
  {
   "cell_type": "code",
   "execution_count": 42,
   "id": "d1354902-4b3a-44d9-9161-8dd948fb7973",
   "metadata": {},
   "outputs": [
    {
     "data": {
      "text/plain": [
       "50"
      ]
     },
     "execution_count": 42,
     "metadata": {},
     "output_type": "execute_result"
    }
   ],
   "source": [
    "students[0]['marks']"
   ]
  },
  {
   "cell_type": "code",
   "execution_count": 44,
   "id": "4e298df4-2c19-4c25-8bdb-e3d36bf39083",
   "metadata": {},
   "outputs": [
    {
     "data": {
      "text/plain": [
       "100"
      ]
     },
     "execution_count": 44,
     "metadata": {},
     "output_type": "execute_result"
    }
   ],
   "source": [
    "students[1]['marks']"
   ]
  },
  {
   "cell_type": "code",
   "execution_count": 45,
   "id": "6e8fa2b7-cccc-4932-9c06-5e33d9f6bac6",
   "metadata": {},
   "outputs": [
    {
     "data": {
      "text/plain": [
       "False"
      ]
     },
     "execution_count": 45,
     "metadata": {},
     "output_type": "execute_result"
    }
   ],
   "source": [
    "students[0]['marks'] > students[1]['marks']"
   ]
  },
  {
   "cell_type": "code",
   "execution_count": 46,
   "id": "8f1f3888-ac0c-41b2-adca-ec71ec71db82",
   "metadata": {},
   "outputs": [
    {
     "ename": "TypeError",
     "evalue": "'<' not supported between instances of 'dict' and 'dict'",
     "output_type": "error",
     "traceback": [
      "\u001b[0;31m---------------------------------------------------------------------------\u001b[0m",
      "\u001b[0;31mTypeError\u001b[0m                                 Traceback (most recent call last)",
      "\u001b[0;32m/var/folders/t5/yhjgrjs907zfp250jyxtw54m0000gn/T/ipykernel_24301/645918957.py\u001b[0m in \u001b[0;36m<module>\u001b[0;34m\u001b[0m\n\u001b[0;32m----> 1\u001b[0;31m \u001b[0msorted\u001b[0m\u001b[0;34m(\u001b[0m\u001b[0mstudents\u001b[0m\u001b[0;34m)\u001b[0m\u001b[0;34m\u001b[0m\u001b[0;34m\u001b[0m\u001b[0m\n\u001b[0m",
      "\u001b[0;31mTypeError\u001b[0m: '<' not supported between instances of 'dict' and 'dict'"
     ]
    }
   ],
   "source": [
    "sorted(students)"
   ]
  },
  {
   "cell_type": "code",
   "execution_count": 47,
   "id": "0e63951d-9626-402e-af1f-dd8676007b01",
   "metadata": {},
   "outputs": [],
   "source": [
    "get_marks = lambda x : x['marks']"
   ]
  },
  {
   "cell_type": "code",
   "execution_count": 48,
   "id": "9a68dd25-71ca-44f3-8399-c59719027641",
   "metadata": {},
   "outputs": [
    {
     "data": {
      "text/plain": [
       "[{'name': 'A', 'marks': 50},\n",
       " {'name': 'B', 'marks': 100},\n",
       " {'name': 'C', 'marks': 40},\n",
       " {'name': 'D', 'marks': 70},\n",
       " {'name': 'E', 'marks': 60}]"
      ]
     },
     "execution_count": 48,
     "metadata": {},
     "output_type": "execute_result"
    }
   ],
   "source": [
    "students"
   ]
  },
  {
   "cell_type": "code",
   "execution_count": 49,
   "id": "23aec953-4c7c-4567-b879-2dd04fb5778e",
   "metadata": {},
   "outputs": [
    {
     "name": "stdout",
     "output_type": "stream",
     "text": [
      "{'name': 'A', 'marks': 50}\n",
      "{'name': 'B', 'marks': 100}\n",
      "{'name': 'C', 'marks': 40}\n",
      "{'name': 'D', 'marks': 70}\n",
      "{'name': 'E', 'marks': 60}\n"
     ]
    }
   ],
   "source": [
    "for i in students:\n",
    "    print(i)"
   ]
  },
  {
   "cell_type": "code",
   "execution_count": 50,
   "id": "aba23ae9-5858-4dcd-8d1e-f75dff50d1ca",
   "metadata": {},
   "outputs": [
    {
     "data": {
      "text/plain": [
       "50"
      ]
     },
     "execution_count": 50,
     "metadata": {},
     "output_type": "execute_result"
    }
   ],
   "source": [
    "get_marks(students[0])"
   ]
  },
  {
   "cell_type": "code",
   "execution_count": 51,
   "id": "90d64e0b-515f-4154-92de-f24c7c3c8c7a",
   "metadata": {},
   "outputs": [
    {
     "data": {
      "text/plain": [
       "[{'name': 'C', 'marks': 40},\n",
       " {'name': 'A', 'marks': 50},\n",
       " {'name': 'E', 'marks': 60},\n",
       " {'name': 'D', 'marks': 70},\n",
       " {'name': 'B', 'marks': 100}]"
      ]
     },
     "execution_count": 51,
     "metadata": {},
     "output_type": "execute_result"
    }
   ],
   "source": [
    "sorted(students, key = get_marks)"
   ]
  },
  {
   "cell_type": "code",
   "execution_count": null,
   "id": "42fe731b-64a0-4e7a-b2b9-907eeeabea4f",
   "metadata": {},
   "outputs": [],
   "source": []
  },
  {
   "cell_type": "code",
   "execution_count": 52,
   "id": "384dd490-2c95-415a-b9a7-bcfcd49e8275",
   "metadata": {},
   "outputs": [
    {
     "data": {
      "text/plain": [
       "[{'name': 'A', 'marks': 50},\n",
       " {'name': 'B', 'marks': 100},\n",
       " {'name': 'C', 'marks': 40},\n",
       " {'name': 'D', 'marks': 70},\n",
       " {'name': 'E', 'marks': 60}]"
      ]
     },
     "execution_count": 52,
     "metadata": {},
     "output_type": "execute_result"
    }
   ],
   "source": [
    "students"
   ]
  },
  {
   "cell_type": "code",
   "execution_count": 54,
   "id": "16614490-15d8-43c2-a9af-9a94c37b84a6",
   "metadata": {},
   "outputs": [],
   "source": [
    "sorted_students = sorted(students, key = lambda x : x['marks'])"
   ]
  },
  {
   "cell_type": "code",
   "execution_count": 55,
   "id": "327615c3-c8e0-477c-9fea-f4867cead4df",
   "metadata": {},
   "outputs": [
    {
     "data": {
      "text/plain": [
       "[{'name': 'C', 'marks': 40},\n",
       " {'name': 'A', 'marks': 50},\n",
       " {'name': 'E', 'marks': 60},\n",
       " {'name': 'D', 'marks': 70},\n",
       " {'name': 'B', 'marks': 100}]"
      ]
     },
     "execution_count": 55,
     "metadata": {},
     "output_type": "execute_result"
    }
   ],
   "source": [
    "sorted_students"
   ]
  },
  {
   "cell_type": "code",
   "execution_count": null,
   "id": "44ca2f8d-a509-4037-b0da-3ddef192314b",
   "metadata": {},
   "outputs": [],
   "source": []
  },
  {
   "cell_type": "code",
   "execution_count": 57,
   "id": "80724af6-f0ca-4bad-9fcb-65e6e22b6f3c",
   "metadata": {},
   "outputs": [],
   "source": [
    "# Question: Sort students list according to names of students"
   ]
  },
  {
   "cell_type": "code",
   "execution_count": 59,
   "id": "017c3999-db58-48ae-a46d-4e30b53daf94",
   "metadata": {},
   "outputs": [
    {
     "data": {
      "text/plain": [
       "[{'name': 'A', 'marks': 50},\n",
       " {'name': 'B', 'marks': 100},\n",
       " {'name': 'C', 'marks': 40},\n",
       " {'name': 'D', 'marks': 70},\n",
       " {'name': 'E', 'marks': 60}]"
      ]
     },
     "execution_count": 59,
     "metadata": {},
     "output_type": "execute_result"
    }
   ],
   "source": [
    "sorted(sorted_students, key = lambda x : x['name'])"
   ]
  },
  {
   "cell_type": "code",
   "execution_count": 60,
   "id": "f04cf265-ee11-431c-83e9-5e61ff40bdc3",
   "metadata": {},
   "outputs": [
    {
     "data": {
      "text/plain": [
       "\u001b[0;31mSignature:\u001b[0m \u001b[0msorted\u001b[0m\u001b[0;34m(\u001b[0m\u001b[0miterable\u001b[0m\u001b[0;34m,\u001b[0m \u001b[0;34m/\u001b[0m\u001b[0;34m,\u001b[0m \u001b[0;34m*\u001b[0m\u001b[0;34m,\u001b[0m \u001b[0mkey\u001b[0m\u001b[0;34m=\u001b[0m\u001b[0;32mNone\u001b[0m\u001b[0;34m,\u001b[0m \u001b[0mreverse\u001b[0m\u001b[0;34m=\u001b[0m\u001b[0;32mFalse\u001b[0m\u001b[0;34m)\u001b[0m\u001b[0;34m\u001b[0m\u001b[0;34m\u001b[0m\u001b[0m\n",
       "\u001b[0;31mDocstring:\u001b[0m\n",
       "Return a new list containing all items from the iterable in ascending order.\n",
       "\n",
       "A custom key function can be supplied to customize the sort order, and the\n",
       "reverse flag can be set to request the result in descending order.\n",
       "\u001b[0;31mType:\u001b[0m      builtin_function_or_method\n"
      ]
     },
     "metadata": {},
     "output_type": "display_data"
    }
   ],
   "source": [
    "sorted?"
   ]
  },
  {
   "cell_type": "code",
   "execution_count": 62,
   "id": "15938c15-2221-41fa-b220-224780540af4",
   "metadata": {},
   "outputs": [
    {
     "data": {
      "text/plain": [
       "[{'name': 'E', 'marks': 60},\n",
       " {'name': 'D', 'marks': 70},\n",
       " {'name': 'C', 'marks': 40},\n",
       " {'name': 'B', 'marks': 100},\n",
       " {'name': 'A', 'marks': 50}]"
      ]
     },
     "execution_count": 62,
     "metadata": {},
     "output_type": "execute_result"
    }
   ],
   "source": [
    "sorted(sorted_students, key = lambda x : x['name'], reverse = True)"
   ]
  },
  {
   "cell_type": "code",
   "execution_count": null,
   "id": "879c5ad9-ca99-4a7c-984c-1792e1f3e6c3",
   "metadata": {},
   "outputs": [],
   "source": []
  },
  {
   "cell_type": "code",
   "execution_count": 67,
   "id": "0f3e83ac-7cda-42cf-9b0d-a3a35c6cb1da",
   "metadata": {},
   "outputs": [
    {
     "data": {
      "text/plain": [
       "[1, 2, 3, 4]"
      ]
     },
     "execution_count": 67,
     "metadata": {},
     "output_type": "execute_result"
    }
   ],
   "source": [
    "numbers"
   ]
  },
  {
   "cell_type": "code",
   "execution_count": 66,
   "id": "e2ca8764-3ece-4870-aff2-bd527350619a",
   "metadata": {},
   "outputs": [
    {
     "name": "stdout",
     "output_type": "stream",
     "text": [
      "1\n",
      "4\n",
      "9\n",
      "16\n"
     ]
    }
   ],
   "source": [
    "for i in numbers:\n",
    "    print((lambda i : i * i)(i))"
   ]
  },
  {
   "cell_type": "code",
   "execution_count": null,
   "id": "dd8a6759-1755-4863-8e11-3f8aeebef409",
   "metadata": {},
   "outputs": [],
   "source": []
  },
  {
   "cell_type": "code",
   "execution_count": 75,
   "id": "97168643-f912-4842-88d2-c1f9c5d1b5af",
   "metadata": {},
   "outputs": [
    {
     "data": {
      "text/plain": [
       "6"
      ]
     },
     "execution_count": 75,
     "metadata": {},
     "output_type": "execute_result"
    }
   ],
   "source": [
    "(lambda y : y if y % 2 == 0 else 0)(6)"
   ]
  },
  {
   "cell_type": "code",
   "execution_count": null,
   "id": "ba2b25a5-fe02-4af6-89d5-19a1d6dd1b1a",
   "metadata": {},
   "outputs": [],
   "source": []
  },
  {
   "cell_type": "code",
   "execution_count": null,
   "id": "0d211a0a-c298-4722-86af-ccb86ed11f8d",
   "metadata": {},
   "outputs": [],
   "source": []
  },
  {
   "cell_type": "markdown",
   "id": "584b14ed-68dd-4e8f-a5cd-e0b37ea03400",
   "metadata": {},
   "source": [
    "### Higher Order Functions"
   ]
  },
  {
   "cell_type": "code",
   "execution_count": 77,
   "id": "d94bf3aa-fe7e-4d4e-9fb7-a331362c9556",
   "metadata": {},
   "outputs": [],
   "source": [
    "# Higher order functions return another function"
   ]
  },
  {
   "cell_type": "code",
   "execution_count": 76,
   "id": "7f261105-5200-41e2-9dcf-f5bf7ae130a6",
   "metadata": {},
   "outputs": [],
   "source": [
    "def gen_exp(n):\n",
    "    def exp(x):\n",
    "        return x**n\n",
    "\n",
    "    return exp"
   ]
  },
  {
   "cell_type": "code",
   "execution_count": 79,
   "id": "17dfdd67-718f-4504-8435-6383e3ead7bf",
   "metadata": {},
   "outputs": [],
   "source": [
    "exp_5 = gen_exp(5)"
   ]
  },
  {
   "cell_type": "code",
   "execution_count": 80,
   "id": "a996e1cc-7e3e-473c-8bcc-23548960e65d",
   "metadata": {},
   "outputs": [
    {
     "data": {
      "text/plain": [
       "function"
      ]
     },
     "execution_count": 80,
     "metadata": {},
     "output_type": "execute_result"
    }
   ],
   "source": [
    "type(exp_5)"
   ]
  },
  {
   "cell_type": "code",
   "execution_count": 81,
   "id": "0db49fbc-4af8-4036-97e7-39ab23c5b357",
   "metadata": {},
   "outputs": [
    {
     "data": {
      "text/plain": [
       "32"
      ]
     },
     "execution_count": 81,
     "metadata": {},
     "output_type": "execute_result"
    }
   ],
   "source": [
    "exp_5(2)"
   ]
  },
  {
   "cell_type": "code",
   "execution_count": null,
   "id": "f87bd919-b62b-4f3d-9b7a-34c0412b8345",
   "metadata": {},
   "outputs": [],
   "source": []
  },
  {
   "cell_type": "code",
   "execution_count": 82,
   "id": "e46872cf-8f2c-4e03-a6a3-68ca7322d33e",
   "metadata": {},
   "outputs": [],
   "source": [
    "# Quiz"
   ]
  },
  {
   "cell_type": "code",
   "execution_count": 84,
   "id": "916a5e9b-5ae4-48ed-816c-215aafa568cd",
   "metadata": {},
   "outputs": [],
   "source": [
    "def generate_square_function():\n",
    "    def square(x):\n",
    "        return x ** 2\n",
    "    \n",
    "    return square"
   ]
  },
  {
   "cell_type": "code",
   "execution_count": 85,
   "id": "1dc337b9-7c54-406b-bebc-b5f2435b9534",
   "metadata": {},
   "outputs": [],
   "source": [
    "val1 = generate_square_function()"
   ]
  },
  {
   "cell_type": "code",
   "execution_count": 86,
   "id": "7ad46582-48fa-4451-b793-09cf4ac2bf35",
   "metadata": {},
   "outputs": [
    {
     "data": {
      "text/plain": [
       "4"
      ]
     },
     "execution_count": 86,
     "metadata": {},
     "output_type": "execute_result"
    }
   ],
   "source": [
    "val1(2)"
   ]
  },
  {
   "cell_type": "code",
   "execution_count": 87,
   "id": "415b0eff-8aa9-4d23-a58b-6182d5dd0b6e",
   "metadata": {},
   "outputs": [
    {
     "data": {
      "text/plain": [
       "16"
      ]
     },
     "execution_count": 87,
     "metadata": {},
     "output_type": "execute_result"
    }
   ],
   "source": [
    "val1(4)"
   ]
  },
  {
   "cell_type": "code",
   "execution_count": null,
   "id": "67290bb5-7053-41ef-9971-bf43df5fab12",
   "metadata": {},
   "outputs": [],
   "source": []
  },
  {
   "cell_type": "markdown",
   "id": "b3eb09c5-a53d-40c4-ad5d-4b364358c08c",
   "metadata": {},
   "source": [
    "### Decorators"
   ]
  },
  {
   "cell_type": "code",
   "execution_count": 88,
   "id": "f6d97759-56b6-47b2-8ff2-9719d979c68e",
   "metadata": {},
   "outputs": [],
   "source": [
    "def foo():\n",
    "    print(\"Hey folks!! All of you are amazing :)\")"
   ]
  },
  {
   "cell_type": "code",
   "execution_count": 89,
   "id": "f4907d29-d110-4637-ad5e-a0145e8e3d57",
   "metadata": {},
   "outputs": [
    {
     "name": "stdout",
     "output_type": "stream",
     "text": [
      "Hey folks!! All of you are amazing :)\n"
     ]
    }
   ],
   "source": [
    "foo()"
   ]
  },
  {
   "cell_type": "code",
   "execution_count": null,
   "id": "b56cfdd3-bbaa-4b07-81b7-d0d680db4c1d",
   "metadata": {},
   "outputs": [],
   "source": []
  },
  {
   "cell_type": "code",
   "execution_count": 91,
   "id": "ca3e3359-d301-4ca3-8d6e-69300729e73d",
   "metadata": {},
   "outputs": [],
   "source": [
    "def poo():\n",
    "    print(\"-\" * 50)\n",
    "    print(\"Hey folks!! All of you are amazing :)\")\n",
    "    print(\"-\" * 50)"
   ]
  },
  {
   "cell_type": "code",
   "execution_count": 92,
   "id": "7d3ce3b2-66ca-447f-81d7-c305149a69af",
   "metadata": {},
   "outputs": [
    {
     "name": "stdout",
     "output_type": "stream",
     "text": [
      "--------------------------------------------------\n",
      "Hey folks!! All of you are amazing :)\n",
      "--------------------------------------------------\n"
     ]
    }
   ],
   "source": [
    "poo()"
   ]
  },
  {
   "cell_type": "code",
   "execution_count": 93,
   "id": "103ad77b-09a7-4d35-8b82-f38472d49f82",
   "metadata": {},
   "outputs": [],
   "source": [
    "def pretty(func):\n",
    "    def inner():\n",
    "        print(\"-\" * 50)\n",
    "        func()\n",
    "        print(\"-\" * 50)\n",
    "    return inner"
   ]
  },
  {
   "cell_type": "code",
   "execution_count": null,
   "id": "47c6638a-a613-40e8-b53f-a92b1226fc64",
   "metadata": {},
   "outputs": [],
   "source": []
  },
  {
   "cell_type": "code",
   "execution_count": 94,
   "id": "f839dea0-2f75-4dfe-ba57-2156fb27ade4",
   "metadata": {},
   "outputs": [],
   "source": [
    "new_foo = pretty(foo)"
   ]
  },
  {
   "cell_type": "code",
   "execution_count": 95,
   "id": "e84098a9-29ad-4f41-8e90-bf92d0371f89",
   "metadata": {},
   "outputs": [
    {
     "name": "stdout",
     "output_type": "stream",
     "text": [
      "--------------------------------------------------\n",
      "Hey folks!! All of you are amazing :)\n",
      "--------------------------------------------------\n"
     ]
    }
   ],
   "source": [
    "new_foo()"
   ]
  },
  {
   "cell_type": "code",
   "execution_count": 96,
   "id": "c1322987-a910-4691-973c-b2219a3b5030",
   "metadata": {},
   "outputs": [],
   "source": [
    "def intro():\n",
    "    print(\"Hey, I am your instructor\")"
   ]
  },
  {
   "cell_type": "code",
   "execution_count": null,
   "id": "07a11144-d063-4561-addb-1b532466822e",
   "metadata": {},
   "outputs": [],
   "source": []
  },
  {
   "cell_type": "code",
   "execution_count": 97,
   "id": "ce331398-ebda-4cd4-98c9-caa9785aa361",
   "metadata": {},
   "outputs": [],
   "source": [
    "new_intro = pretty(intro)"
   ]
  },
  {
   "cell_type": "code",
   "execution_count": 98,
   "id": "fdf9222c-5eb0-4ff9-bd62-0151bd130802",
   "metadata": {},
   "outputs": [
    {
     "name": "stdout",
     "output_type": "stream",
     "text": [
      "--------------------------------------------------\n",
      "Hey, I am your instructor\n",
      "--------------------------------------------------\n"
     ]
    }
   ],
   "source": [
    "new_intro()"
   ]
  },
  {
   "cell_type": "code",
   "execution_count": null,
   "id": "f7ce364e-1b95-4c4d-9cdd-ec5e8553aa61",
   "metadata": {},
   "outputs": [],
   "source": []
  },
  {
   "cell_type": "code",
   "execution_count": 101,
   "id": "57b2dbc1-453d-4cfa-8360-c89765db50b7",
   "metadata": {},
   "outputs": [],
   "source": [
    "@pretty\n",
    "def soo():\n",
    "    print(f\"Hey I am your Instructor. It's nice to meet you :)\")"
   ]
  },
  {
   "cell_type": "code",
   "execution_count": 103,
   "id": "046c5f0e-9b19-48f5-b547-ce545476b93d",
   "metadata": {},
   "outputs": [
    {
     "name": "stdout",
     "output_type": "stream",
     "text": [
      "--------------------------------------------------\n",
      "Hey I am your Instructor. It's nice to meet you :)\n",
      "--------------------------------------------------\n"
     ]
    }
   ],
   "source": [
    "soo()"
   ]
  },
  {
   "cell_type": "code",
   "execution_count": null,
   "id": "9b854f56-6552-446e-809d-6bc8423e0abf",
   "metadata": {},
   "outputs": [],
   "source": []
  },
  {
   "cell_type": "code",
   "execution_count": null,
   "id": "970000fa-2a12-4b26-9228-43380f323f79",
   "metadata": {},
   "outputs": [],
   "source": []
  },
  {
   "cell_type": "code",
   "execution_count": null,
   "id": "87e0a4d7-7b2f-4103-a477-4a21e05cd5e0",
   "metadata": {},
   "outputs": [],
   "source": []
  },
  {
   "cell_type": "code",
   "execution_count": null,
   "id": "95955995-8773-4056-912d-2701f2594fc9",
   "metadata": {},
   "outputs": [],
   "source": []
  },
  {
   "cell_type": "code",
   "execution_count": null,
   "id": "818a3190-7e3d-429b-bf20-3d5f7dc8b959",
   "metadata": {},
   "outputs": [],
   "source": []
  }
 ],
 "metadata": {
  "kernelspec": {
   "display_name": "Python 3 (ipykernel)",
   "language": "python",
   "name": "python3"
  },
  "language_info": {
   "codemirror_mode": {
    "name": "ipython",
    "version": 3
   },
   "file_extension": ".py",
   "mimetype": "text/x-python",
   "name": "python",
   "nbconvert_exporter": "python",
   "pygments_lexer": "ipython3",
   "version": "3.9.7"
  }
 },
 "nbformat": 4,
 "nbformat_minor": 5
}
