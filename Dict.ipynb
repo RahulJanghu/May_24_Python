{
 "cells": [
  {
   "cell_type": "markdown",
   "id": "4811ffe3-cd57-437b-bf57-c4dcb05ff3a4",
   "metadata": {},
   "source": [
    "## Dictionary\n",
    "- A dictionary is like an address-book where you can find the address or contact details of a person by knowing only his/her name i.e. we associate keys (name) with values (details). Note that the key must be unique just like you cannot find out the correct information if you have two persons with the exact same name.\n",
    "\n",
    "- Remember that key-value pairs in a dictionary are not ordered in any manner. But in Python version 3.7 and above they are ordered"
   ]
  },
  {
   "cell_type": "markdown",
   "id": "c79c8d48-831e-42ef-a135-c8a92e8f741b",
   "metadata": {},
   "source": [
    "#### Creating a dict"
   ]
  },
  {
   "cell_type": "code",
   "execution_count": 1,
   "id": "dea85596-7121-489b-a89c-bd4f2c28d970",
   "metadata": {},
   "outputs": [],
   "source": [
    "# Fruit rate on blinkit"
   ]
  },
  {
   "cell_type": "code",
   "execution_count": 2,
   "id": "4325214e-d59e-4548-ae92-6e8e937af44a",
   "metadata": {},
   "outputs": [],
   "source": [
    "# type of fruits"
   ]
  },
  {
   "cell_type": "code",
   "execution_count": 3,
   "id": "281f8391-e108-4862-8ccc-b71d39c48845",
   "metadata": {},
   "outputs": [],
   "source": [
    "# Quiz"
   ]
  },
  {
   "cell_type": "code",
   "execution_count": 6,
   "id": "2e17f281-4799-4d06-a1f3-01f2d13155d2",
   "metadata": {},
   "outputs": [
    {
     "name": "stdout",
     "output_type": "stream",
     "text": [
      "<class 'dict'>\n"
     ]
    }
   ],
   "source": [
    "d = {}\n",
    "print(type(d))"
   ]
  },
  {
   "cell_type": "code",
   "execution_count": null,
   "id": "cec548eb-2517-41b2-b138-2cab63846329",
   "metadata": {},
   "outputs": [],
   "source": []
  },
  {
   "cell_type": "code",
   "execution_count": 4,
   "id": "5933cabb-362c-49f1-ac45-f42a08003851",
   "metadata": {},
   "outputs": [],
   "source": [
    "# Originally hashmaps are unordered"
   ]
  },
  {
   "cell_type": "code",
   "execution_count": 5,
   "id": "abd8bfde-a95f-4897-9673-3bcadf661d9e",
   "metadata": {},
   "outputs": [],
   "source": [
    "# hash(\"Rahul\")"
   ]
  },
  {
   "cell_type": "code",
   "execution_count": null,
   "id": "a6bc623d-524e-472c-bb79-2e16eb81032c",
   "metadata": {},
   "outputs": [],
   "source": []
  },
  {
   "cell_type": "code",
   "execution_count": 9,
   "id": "d00183d6-c8e5-4629-87f5-4a47330f54ac",
   "metadata": {},
   "outputs": [],
   "source": [
    "# Non empty dictionary"
   ]
  },
  {
   "cell_type": "code",
   "execution_count": 22,
   "id": "d176ab9e-68e7-47f0-ba31-7e7f5b7be157",
   "metadata": {},
   "outputs": [],
   "source": [
    "fruits = {\"Apple\" : 120, \"Oranges\" : 200, \"Mango\" : 100, \"Banana\" : 50}"
   ]
  },
  {
   "cell_type": "code",
   "execution_count": 23,
   "id": "7d952e86-3818-42ed-8228-a0569062fa7d",
   "metadata": {},
   "outputs": [
    {
     "data": {
      "text/plain": [
       "{'Apple': 120, 'Oranges': 200, 'Mango': 100, 'Banana': 50}"
      ]
     },
     "execution_count": 23,
     "metadata": {},
     "output_type": "execute_result"
    }
   ],
   "source": [
    "fruits"
   ]
  },
  {
   "cell_type": "code",
   "execution_count": 24,
   "id": "73c3d1af-1d27-4ae9-a4a7-f7764f597208",
   "metadata": {},
   "outputs": [
    {
     "data": {
      "text/plain": [
       "dict"
      ]
     },
     "execution_count": 24,
     "metadata": {},
     "output_type": "execute_result"
    }
   ],
   "source": [
    "type(fruits)"
   ]
  },
  {
   "cell_type": "code",
   "execution_count": null,
   "id": "2117d862-7516-4472-b946-9af875212945",
   "metadata": {},
   "outputs": [],
   "source": []
  },
  {
   "cell_type": "code",
   "execution_count": null,
   "id": "aeb9c442-6e12-4141-836b-df56998d36a1",
   "metadata": {},
   "outputs": [],
   "source": []
  },
  {
   "cell_type": "code",
   "execution_count": 13,
   "id": "839ac038-f183-4d49-9f8f-568a47007f54",
   "metadata": {},
   "outputs": [],
   "source": [
    "# zip\n",
    "# zip(key, value)"
   ]
  },
  {
   "cell_type": "code",
   "execution_count": 14,
   "id": "de0a247b-d25e-46d4-aa63-14fe56eb6acc",
   "metadata": {},
   "outputs": [],
   "source": [
    "name = [\"Rahul\", \"Sofia\", \"Uncle\", \"John\", \"Gramdma\"]\n",
    "ages = (18, 25, 39, 50, 80)"
   ]
  },
  {
   "cell_type": "code",
   "execution_count": 18,
   "id": "4ba1658c-f75d-4555-a4f1-3a5eff58784d",
   "metadata": {},
   "outputs": [],
   "source": [
    "data = dict(zip(name, ages))"
   ]
  },
  {
   "cell_type": "code",
   "execution_count": 19,
   "id": "370ad5ae-00fc-4e1d-b0ce-d6eb5a5ac0a2",
   "metadata": {},
   "outputs": [
    {
     "data": {
      "text/plain": [
       "{'Rahul': 18, 'Sofia': 25, 'Uncle': 39, 'John': 50, 'Gramdma': 80}"
      ]
     },
     "execution_count": 19,
     "metadata": {},
     "output_type": "execute_result"
    }
   ],
   "source": [
    "data"
   ]
  },
  {
   "cell_type": "code",
   "execution_count": 20,
   "id": "9d85f8b5-9224-4aaa-b443-67717b2f03f1",
   "metadata": {},
   "outputs": [],
   "source": [
    "data1 = dict(zip(ages, name))"
   ]
  },
  {
   "cell_type": "code",
   "execution_count": 21,
   "id": "fce7fabc-b9ee-4bf7-9162-3361dbc2ba69",
   "metadata": {},
   "outputs": [
    {
     "data": {
      "text/plain": [
       "{18: 'Rahul', 25: 'Sofia', 39: 'Uncle', 50: 'John', 80: 'Gramdma'}"
      ]
     },
     "execution_count": 21,
     "metadata": {},
     "output_type": "execute_result"
    }
   ],
   "source": [
    "data1"
   ]
  },
  {
   "cell_type": "code",
   "execution_count": 25,
   "id": "bf748f68-7b63-406a-b53c-5deaacfc1c92",
   "metadata": {},
   "outputs": [],
   "source": [
    "name = [\"Rahul\", \"Sofia\", \"Uncle\", \"John\", \"Gramdma\"]\n",
    "ages = (18, 25, 39, 50, 80, 90, 40, 60, 70)"
   ]
  },
  {
   "cell_type": "code",
   "execution_count": 26,
   "id": "9b60caf0-3c81-4e09-9d38-a80f490f10e9",
   "metadata": {},
   "outputs": [
    {
     "data": {
      "text/plain": [
       "{'Rahul': 18, 'Sofia': 25, 'Uncle': 39, 'John': 50, 'Gramdma': 80}"
      ]
     },
     "execution_count": 26,
     "metadata": {},
     "output_type": "execute_result"
    }
   ],
   "source": [
    "dict(zip(name, ages))"
   ]
  },
  {
   "cell_type": "code",
   "execution_count": null,
   "id": "b24af6ff-9391-477d-a90c-b9cb2347541f",
   "metadata": {},
   "outputs": [],
   "source": []
  },
  {
   "cell_type": "code",
   "execution_count": null,
   "id": "6df27c4f-af27-440c-945d-afe0aa95a80d",
   "metadata": {},
   "outputs": [],
   "source": []
  },
  {
   "cell_type": "markdown",
   "id": "47ec3b27-dc0a-4e18-9909-c2287097e410",
   "metadata": {},
   "source": [
    "#### Access the values of the dict\n",
    "Dictionaries doesn't support indexing"
   ]
  },
  {
   "cell_type": "code",
   "execution_count": 27,
   "id": "d52e5116-5120-4757-9dc6-c0f43b2ad0ab",
   "metadata": {},
   "outputs": [],
   "source": [
    "# indexing?"
   ]
  },
  {
   "cell_type": "code",
   "execution_count": 28,
   "id": "4ff68163-639e-4511-a287-d4565f8e307d",
   "metadata": {},
   "outputs": [
    {
     "data": {
      "text/plain": [
       "{'Apple': 120, 'Oranges': 200, 'Mango': 100, 'Banana': 50}"
      ]
     },
     "execution_count": 28,
     "metadata": {},
     "output_type": "execute_result"
    }
   ],
   "source": [
    "fruits"
   ]
  },
  {
   "cell_type": "code",
   "execution_count": 32,
   "id": "a695ab96-23db-4e9f-ac57-c6d94fdbb089",
   "metadata": {},
   "outputs": [],
   "source": [
    "# fruits[0]"
   ]
  },
  {
   "cell_type": "code",
   "execution_count": 33,
   "id": "676575d8-c8fb-41ed-8a55-1ff52af4042b",
   "metadata": {},
   "outputs": [
    {
     "data": {
      "text/plain": [
       "120"
      ]
     },
     "execution_count": 33,
     "metadata": {},
     "output_type": "execute_result"
    }
   ],
   "source": [
    "fruits[\"Apple\"]"
   ]
  },
  {
   "cell_type": "code",
   "execution_count": 34,
   "id": "560182e7-16d6-4bc9-a132-62acd4fe2c69",
   "metadata": {},
   "outputs": [
    {
     "data": {
      "text/plain": [
       "50"
      ]
     },
     "execution_count": 34,
     "metadata": {},
     "output_type": "execute_result"
    }
   ],
   "source": [
    "fruits[\"Banana\"]"
   ]
  },
  {
   "cell_type": "code",
   "execution_count": 35,
   "id": "31c083af-bbdc-49eb-9ad5-49853ee101ca",
   "metadata": {},
   "outputs": [
    {
     "data": {
      "text/plain": [
       "100"
      ]
     },
     "execution_count": 35,
     "metadata": {},
     "output_type": "execute_result"
    }
   ],
   "source": [
    "fruits[\"Mango\"]"
   ]
  },
  {
   "cell_type": "code",
   "execution_count": null,
   "id": "f6366f1a-880e-43cc-b602-167ecd698af6",
   "metadata": {},
   "outputs": [],
   "source": []
  },
  {
   "cell_type": "code",
   "execution_count": null,
   "id": "1741808b-4929-4b67-8f5d-68e57503ad44",
   "metadata": {},
   "outputs": [],
   "source": []
  },
  {
   "cell_type": "code",
   "execution_count": 36,
   "id": "6ae231db-eaeb-4240-999a-ec8400b3648c",
   "metadata": {},
   "outputs": [],
   "source": [
    "## Key error "
   ]
  },
  {
   "cell_type": "code",
   "execution_count": 37,
   "id": "531ac160-8104-4de1-bc65-d95aa0e7db5a",
   "metadata": {},
   "outputs": [
    {
     "data": {
      "text/plain": [
       "{'Apple': 120, 'Oranges': 200, 'Mango': 100, 'Banana': 50}"
      ]
     },
     "execution_count": 37,
     "metadata": {},
     "output_type": "execute_result"
    }
   ],
   "source": [
    "fruits"
   ]
  },
  {
   "cell_type": "code",
   "execution_count": 38,
   "id": "c212e690-ced9-4d63-82f3-68f2c277340b",
   "metadata": {},
   "outputs": [
    {
     "ename": "KeyError",
     "evalue": "'Pineapple'",
     "output_type": "error",
     "traceback": [
      "\u001b[0;31m---------------------------------------------------------------------------\u001b[0m",
      "\u001b[0;31mKeyError\u001b[0m                                  Traceback (most recent call last)",
      "\u001b[0;32m/var/folders/t5/yhjgrjs907zfp250jyxtw54m0000gn/T/ipykernel_70733/1260985905.py\u001b[0m in \u001b[0;36m<module>\u001b[0;34m\u001b[0m\n\u001b[0;32m----> 1\u001b[0;31m \u001b[0mfruits\u001b[0m\u001b[0;34m[\u001b[0m\u001b[0;34m\"Pineapple\"\u001b[0m\u001b[0;34m]\u001b[0m\u001b[0;34m\u001b[0m\u001b[0;34m\u001b[0m\u001b[0m\n\u001b[0m",
      "\u001b[0;31mKeyError\u001b[0m: 'Pineapple'"
     ]
    }
   ],
   "source": [
    "fruits[\"Pineapple\"]"
   ]
  },
  {
   "cell_type": "code",
   "execution_count": null,
   "id": "025a0f14-5b62-4cc3-bc11-9dece38c9470",
   "metadata": {},
   "outputs": [],
   "source": []
  },
  {
   "cell_type": "code",
   "execution_count": 39,
   "id": "945eafff-8a4f-445a-b712-4ebec2a599a8",
   "metadata": {},
   "outputs": [],
   "source": [
    "# Quiz"
   ]
  },
  {
   "cell_type": "code",
   "execution_count": 40,
   "id": "b4d1faa8-715a-43f9-b2d1-d2a9691255ac",
   "metadata": {},
   "outputs": [
    {
     "name": "stdout",
     "output_type": "stream",
     "text": [
      "<class 'dict'>\n"
     ]
    }
   ],
   "source": [
    "words = {\n",
    "\"is\": 2,\n",
    "\"hello\": 3,\n",
    "\"the\": 4\n",
    "}\n",
    "\n",
    "print(type(words))"
   ]
  },
  {
   "cell_type": "code",
   "execution_count": null,
   "id": "84aa6eee-8e7b-4b1c-acf4-783ac29c8ae6",
   "metadata": {},
   "outputs": [],
   "source": []
  },
  {
   "cell_type": "code",
   "execution_count": 41,
   "id": "cbfb6197-1ffc-4bf0-bc37-0da5d9fdd989",
   "metadata": {},
   "outputs": [],
   "source": [
    "# Quiz"
   ]
  },
  {
   "cell_type": "code",
   "execution_count": 42,
   "id": "cbb914fb-0311-4b2a-957b-f57ae7277d82",
   "metadata": {},
   "outputs": [
    {
     "ename": "KeyError",
     "evalue": "'this'",
     "output_type": "error",
     "traceback": [
      "\u001b[0;31m---------------------------------------------------------------------------\u001b[0m",
      "\u001b[0;31mKeyError\u001b[0m                                  Traceback (most recent call last)",
      "\u001b[0;32m/var/folders/t5/yhjgrjs907zfp250jyxtw54m0000gn/T/ipykernel_70733/2219134358.py\u001b[0m in \u001b[0;36m<module>\u001b[0;34m\u001b[0m\n\u001b[1;32m      6\u001b[0m \u001b[0;34m\"the\"\u001b[0m\u001b[0;34m:\u001b[0m \u001b[0;36m4\u001b[0m\u001b[0;34m\u001b[0m\u001b[0;34m\u001b[0m\u001b[0m\n\u001b[1;32m      7\u001b[0m }\n\u001b[0;32m----> 8\u001b[0;31m \u001b[0mthis_count\u001b[0m \u001b[0;34m=\u001b[0m \u001b[0mwords\u001b[0m\u001b[0;34m[\u001b[0m\u001b[0;34m\"this\"\u001b[0m\u001b[0;34m]\u001b[0m\u001b[0;34m\u001b[0m\u001b[0;34m\u001b[0m\u001b[0m\n\u001b[0m\u001b[1;32m      9\u001b[0m \u001b[0;34m\u001b[0m\u001b[0m\n\u001b[1;32m     10\u001b[0m \u001b[0mprint\u001b[0m\u001b[0;34m(\u001b[0m\u001b[0mthis_count\u001b[0m\u001b[0;34m)\u001b[0m\u001b[0;34m\u001b[0m\u001b[0;34m\u001b[0m\u001b[0m\n",
      "\u001b[0;31mKeyError\u001b[0m: 'this'"
     ]
    }
   ],
   "source": [
    "# What does the following Python code output?\n",
    "\n",
    "words = {\n",
    "\"is\": 2,\n",
    "\"hello\": 3,\n",
    "\"the\": 4\n",
    "}\n",
    "this_count = words[\"this\"]\n",
    "\n",
    "print(this_count)"
   ]
  },
  {
   "cell_type": "code",
   "execution_count": null,
   "id": "b28dd2d0-176c-4d0e-a95c-240cb59ad394",
   "metadata": {},
   "outputs": [],
   "source": []
  },
  {
   "cell_type": "code",
   "execution_count": null,
   "id": "48c13582-810b-47f9-9b42-da9e2bfcb118",
   "metadata": {},
   "outputs": [],
   "source": []
  },
  {
   "cell_type": "code",
   "execution_count": 43,
   "id": "1774cc51-c18a-45f2-8a96-50f2a020b4f1",
   "metadata": {},
   "outputs": [],
   "source": [
    "## Can we have 2 keys in dict with same meaning"
   ]
  },
  {
   "cell_type": "code",
   "execution_count": 44,
   "id": "2b7da3d3-7ea4-4b3a-8eb0-cf7949f75f6c",
   "metadata": {},
   "outputs": [],
   "source": [
    "# Keys are unique in dict"
   ]
  },
  {
   "cell_type": "code",
   "execution_count": 45,
   "id": "0d45fb89-4edd-4541-acb8-6e6dc6e66772",
   "metadata": {},
   "outputs": [
    {
     "data": {
      "text/plain": [
       "{'Apple': 120, 'Oranges': 200, 'Mango': 100, 'Banana': 50}"
      ]
     },
     "execution_count": 45,
     "metadata": {},
     "output_type": "execute_result"
    }
   ],
   "source": [
    "fruits"
   ]
  },
  {
   "cell_type": "code",
   "execution_count": 48,
   "id": "96d486df-fc94-4cb2-8d27-aff814678cf3",
   "metadata": {},
   "outputs": [],
   "source": [
    "fruits = {'Apple': 120, 'Oranges': 200, 'Mango': 100, 'Apple': 150, \"Lychee\" : 100}"
   ]
  },
  {
   "cell_type": "code",
   "execution_count": 49,
   "id": "19011802-e848-4df5-b565-91de909ff307",
   "metadata": {},
   "outputs": [
    {
     "data": {
      "text/plain": [
       "{'Apple': 150, 'Oranges': 200, 'Mango': 100, 'Lychee': 100}"
      ]
     },
     "execution_count": 49,
     "metadata": {},
     "output_type": "execute_result"
    }
   ],
   "source": [
    "fruits"
   ]
  },
  {
   "cell_type": "code",
   "execution_count": null,
   "id": "d9c179ef-9681-4a03-80ce-7d53f5d8a6f9",
   "metadata": {},
   "outputs": [],
   "source": []
  },
  {
   "cell_type": "code",
   "execution_count": null,
   "id": "0e999f08-9d27-4cc5-8a77-809a4f815ced",
   "metadata": {},
   "outputs": [],
   "source": []
  },
  {
   "cell_type": "markdown",
   "id": "f72624f2-4f30-4a6f-aa71-3f4adbc5dbe7",
   "metadata": {},
   "source": [
    "#### Adding new values"
   ]
  },
  {
   "cell_type": "code",
   "execution_count": 50,
   "id": "0a291bb5-a70a-4c9b-9f24-c207853271c1",
   "metadata": {},
   "outputs": [],
   "source": [
    "# Adding new fruits: d[\"item\"] = value"
   ]
  },
  {
   "cell_type": "code",
   "execution_count": 51,
   "id": "89de8597-7314-44a4-9a06-81008383439e",
   "metadata": {},
   "outputs": [
    {
     "data": {
      "text/plain": [
       "{'Apple': 150, 'Oranges': 200, 'Mango': 100, 'Lychee': 100}"
      ]
     },
     "execution_count": 51,
     "metadata": {},
     "output_type": "execute_result"
    }
   ],
   "source": [
    "fruits"
   ]
  },
  {
   "cell_type": "code",
   "execution_count": 52,
   "id": "014364d9-1cf8-4f84-82ab-b7923d42816b",
   "metadata": {},
   "outputs": [
    {
     "data": {
      "text/plain": [
       "150"
      ]
     },
     "execution_count": 52,
     "metadata": {},
     "output_type": "execute_result"
    }
   ],
   "source": [
    "fruits[\"Apple\"]"
   ]
  },
  {
   "cell_type": "code",
   "execution_count": 53,
   "id": "d13384ff-e32a-407d-acb8-e1e0d44af827",
   "metadata": {},
   "outputs": [],
   "source": [
    "fruits[\"Apple\"] = 190"
   ]
  },
  {
   "cell_type": "code",
   "execution_count": 54,
   "id": "35125363-46a1-4126-b26b-e8a1f6d853d3",
   "metadata": {},
   "outputs": [
    {
     "data": {
      "text/plain": [
       "{'Apple': 190, 'Oranges': 200, 'Mango': 100, 'Lychee': 100}"
      ]
     },
     "execution_count": 54,
     "metadata": {},
     "output_type": "execute_result"
    }
   ],
   "source": [
    "fruits"
   ]
  },
  {
   "cell_type": "code",
   "execution_count": null,
   "id": "9ea30348-9457-4915-8e9c-b9a0a01841a1",
   "metadata": {},
   "outputs": [],
   "source": []
  },
  {
   "cell_type": "code",
   "execution_count": 55,
   "id": "9c45a3ae-0f27-4771-99c1-bd8cb63e257f",
   "metadata": {},
   "outputs": [],
   "source": [
    "# dict[key] = value"
   ]
  },
  {
   "cell_type": "code",
   "execution_count": 56,
   "id": "a3d22b9a-cac2-4d83-bf95-dc678c63bb61",
   "metadata": {},
   "outputs": [],
   "source": [
    "fruits[\"Pineapple\"] = {\"Small\" : 80, \"Large\" : 120}"
   ]
  },
  {
   "cell_type": "code",
   "execution_count": 57,
   "id": "ed1dfecc-3755-4bbb-84ae-f94f6162d693",
   "metadata": {},
   "outputs": [
    {
     "data": {
      "text/plain": [
       "{'Apple': 190,\n",
       " 'Oranges': 200,\n",
       " 'Mango': 100,\n",
       " 'Lychee': 100,\n",
       " 'Pineapple': {'Small': 80, 'Large': 120}}"
      ]
     },
     "execution_count": 57,
     "metadata": {},
     "output_type": "execute_result"
    }
   ],
   "source": [
    "fruits"
   ]
  },
  {
   "cell_type": "code",
   "execution_count": 58,
   "id": "9b1bad87-1532-4fcd-b2bf-636d3decd628",
   "metadata": {},
   "outputs": [
    {
     "data": {
      "text/plain": [
       "{'Small': 80, 'Large': 120}"
      ]
     },
     "execution_count": 58,
     "metadata": {},
     "output_type": "execute_result"
    }
   ],
   "source": [
    "fruits[\"Pineapple\"]"
   ]
  },
  {
   "cell_type": "code",
   "execution_count": 60,
   "id": "cec21b43-f9a1-4387-b898-b4204ea69115",
   "metadata": {},
   "outputs": [
    {
     "data": {
      "text/plain": [
       "80"
      ]
     },
     "execution_count": 60,
     "metadata": {},
     "output_type": "execute_result"
    }
   ],
   "source": [
    "fruits[\"Pineapple\"][\"Small\"]"
   ]
  },
  {
   "cell_type": "code",
   "execution_count": 61,
   "id": "9e6375ae-8a4b-42fb-9af3-37e4e4f4a7f5",
   "metadata": {},
   "outputs": [
    {
     "data": {
      "text/plain": [
       "120"
      ]
     },
     "execution_count": 61,
     "metadata": {},
     "output_type": "execute_result"
    }
   ],
   "source": [
    "fruits[\"Pineapple\"][\"Large\"]"
   ]
  },
  {
   "cell_type": "code",
   "execution_count": null,
   "id": "f9f41da7-d376-4a28-b592-ff448628bd42",
   "metadata": {},
   "outputs": [],
   "source": []
  },
  {
   "cell_type": "code",
   "execution_count": 62,
   "id": "62a10b51-0b26-455c-bbc7-c553ff9b41fe",
   "metadata": {},
   "outputs": [],
   "source": [
    "# Updating the value of given item"
   ]
  },
  {
   "cell_type": "code",
   "execution_count": 64,
   "id": "2a89b3f9-ed03-4897-81df-d638be3e7fe9",
   "metadata": {},
   "outputs": [],
   "source": [
    "fruits[\"Pineapple\"][\"Small\"] = 90"
   ]
  },
  {
   "cell_type": "code",
   "execution_count": 66,
   "id": "da7067fa-28d1-4533-915e-508de5ed5ce1",
   "metadata": {},
   "outputs": [
    {
     "data": {
      "text/plain": [
       "{'Apple': 190,\n",
       " 'Oranges': 200,\n",
       " 'Mango': 100,\n",
       " 'Lychee': 100,\n",
       " 'Pineapple': {'Small': 90, 'Large': 120}}"
      ]
     },
     "execution_count": 66,
     "metadata": {},
     "output_type": "execute_result"
    }
   ],
   "source": [
    "fruits"
   ]
  },
  {
   "cell_type": "code",
   "execution_count": null,
   "id": "fe549c3d-1f13-446d-8dd4-02ddb3e562e4",
   "metadata": {},
   "outputs": [],
   "source": []
  },
  {
   "cell_type": "code",
   "execution_count": 67,
   "id": "eb9881b1-3b36-49d1-85b2-f3dbebee69a9",
   "metadata": {},
   "outputs": [],
   "source": [
    "# update"
   ]
  },
  {
   "cell_type": "code",
   "execution_count": 68,
   "id": "57f131d2-3b79-4ca0-80df-c3222445c696",
   "metadata": {},
   "outputs": [],
   "source": [
    "# d1.update(d2)"
   ]
  },
  {
   "cell_type": "code",
   "execution_count": 69,
   "id": "84931873-33f5-49a9-8a2e-e14d79018480",
   "metadata": {},
   "outputs": [
    {
     "data": {
      "text/plain": [
       "{'Apple': 190,\n",
       " 'Oranges': 200,\n",
       " 'Mango': 100,\n",
       " 'Lychee': 100,\n",
       " 'Pineapple': {'Small': 90, 'Large': 120}}"
      ]
     },
     "execution_count": 69,
     "metadata": {},
     "output_type": "execute_result"
    }
   ],
   "source": [
    "fruits"
   ]
  },
  {
   "cell_type": "code",
   "execution_count": 70,
   "id": "3ebf8399-fee5-4704-ba25-72d708fa38f4",
   "metadata": {},
   "outputs": [],
   "source": [
    "south_fruits = {\"Red Banana\" : 80, \"Coconut\" : 40}"
   ]
  },
  {
   "cell_type": "code",
   "execution_count": 71,
   "id": "1f1ec7a3-60de-4608-80cf-fd79b947ebc0",
   "metadata": {},
   "outputs": [],
   "source": [
    "fruits.update(south_fruits)"
   ]
  },
  {
   "cell_type": "code",
   "execution_count": 72,
   "id": "8a1f1cbd-1892-45fe-b123-a36d5f1495e9",
   "metadata": {},
   "outputs": [
    {
     "data": {
      "text/plain": [
       "{'Apple': 190,\n",
       " 'Oranges': 200,\n",
       " 'Mango': 100,\n",
       " 'Lychee': 100,\n",
       " 'Pineapple': {'Small': 90, 'Large': 120},\n",
       " 'Red Banana': 80,\n",
       " 'Coconut': 40}"
      ]
     },
     "execution_count": 72,
     "metadata": {},
     "output_type": "execute_result"
    }
   ],
   "source": [
    "fruits"
   ]
  },
  {
   "cell_type": "code",
   "execution_count": null,
   "id": "58f56836-5060-4f3a-8ff4-7558f4323170",
   "metadata": {},
   "outputs": [],
   "source": []
  },
  {
   "cell_type": "code",
   "execution_count": 73,
   "id": "1ca1d50e-56fd-41ac-91aa-79fc63c6ec62",
   "metadata": {},
   "outputs": [
    {
     "ename": "KeyError",
     "evalue": "'Palm'",
     "output_type": "error",
     "traceback": [
      "\u001b[0;31m---------------------------------------------------------------------------\u001b[0m",
      "\u001b[0;31mKeyError\u001b[0m                                  Traceback (most recent call last)",
      "\u001b[0;32m/var/folders/t5/yhjgrjs907zfp250jyxtw54m0000gn/T/ipykernel_70733/1972918028.py\u001b[0m in \u001b[0;36m<module>\u001b[0;34m\u001b[0m\n\u001b[0;32m----> 1\u001b[0;31m \u001b[0mfruits\u001b[0m\u001b[0;34m[\u001b[0m\u001b[0;34m\"Palm\"\u001b[0m\u001b[0;34m]\u001b[0m\u001b[0;34m\u001b[0m\u001b[0;34m\u001b[0m\u001b[0m\n\u001b[0m",
      "\u001b[0;31mKeyError\u001b[0m: 'Palm'"
     ]
    }
   ],
   "source": [
    "fruits[\"Palm\"]"
   ]
  },
  {
   "cell_type": "code",
   "execution_count": null,
   "id": "e649e8fb-530e-4f77-a664-cf42ca2710b8",
   "metadata": {},
   "outputs": [],
   "source": []
  },
  {
   "cell_type": "code",
   "execution_count": null,
   "id": "f43a2477-164c-42e1-bb10-fc5685f581f8",
   "metadata": {},
   "outputs": [],
   "source": []
  },
  {
   "cell_type": "code",
   "execution_count": 74,
   "id": "62cb2cd1-2a49-431c-98bb-cccf79b6aeb7",
   "metadata": {},
   "outputs": [],
   "source": [
    "## Getting errors while trying to get a value for key not present?"
   ]
  },
  {
   "cell_type": "markdown",
   "id": "4d734720-25ff-45f4-9f7d-f5a13878fb33",
   "metadata": {},
   "source": [
    "#### Get method\n",
    "- get(key, 0)"
   ]
  },
  {
   "cell_type": "code",
   "execution_count": 75,
   "id": "c4039e5f-79f8-4c17-b5d5-e283e9357297",
   "metadata": {},
   "outputs": [
    {
     "ename": "KeyError",
     "evalue": "'Palm'",
     "output_type": "error",
     "traceback": [
      "\u001b[0;31m---------------------------------------------------------------------------\u001b[0m",
      "\u001b[0;31mKeyError\u001b[0m                                  Traceback (most recent call last)",
      "\u001b[0;32m/var/folders/t5/yhjgrjs907zfp250jyxtw54m0000gn/T/ipykernel_70733/1972918028.py\u001b[0m in \u001b[0;36m<module>\u001b[0;34m\u001b[0m\n\u001b[0;32m----> 1\u001b[0;31m \u001b[0mfruits\u001b[0m\u001b[0;34m[\u001b[0m\u001b[0;34m\"Palm\"\u001b[0m\u001b[0;34m]\u001b[0m\u001b[0;34m\u001b[0m\u001b[0;34m\u001b[0m\u001b[0m\n\u001b[0m",
      "\u001b[0;31mKeyError\u001b[0m: 'Palm'"
     ]
    }
   ],
   "source": [
    "fruits[\"Palm\"]"
   ]
  },
  {
   "cell_type": "code",
   "execution_count": 78,
   "id": "251162a1-7012-437a-ae2e-eea2f24564f0",
   "metadata": {},
   "outputs": [],
   "source": [
    "fruits.get(\"Palm\")"
   ]
  },
  {
   "cell_type": "code",
   "execution_count": 85,
   "id": "9959b303-14a3-4b48-a94e-686205a334b1",
   "metadata": {},
   "outputs": [
    {
     "data": {
      "text/plain": [
       "'Nothing here yet'"
      ]
     },
     "execution_count": 85,
     "metadata": {},
     "output_type": "execute_result"
    }
   ],
   "source": [
    "fruits.get(\"Jackfruit\", \"Nothing here yet\")"
   ]
  },
  {
   "cell_type": "code",
   "execution_count": 89,
   "id": "2bdbc7ae-006c-452f-9e55-0f5fcd1c2813",
   "metadata": {},
   "outputs": [
    {
     "data": {
      "text/plain": [
       "{'Small': 90, 'Large': 120}"
      ]
     },
     "execution_count": 89,
     "metadata": {},
     "output_type": "execute_result"
    }
   ],
   "source": [
    "fruits.get(\"Pineapple\", \"Nothing here yet\")"
   ]
  },
  {
   "cell_type": "code",
   "execution_count": 87,
   "id": "b114bc44-d3a7-4595-b07b-472192231c69",
   "metadata": {},
   "outputs": [
    {
     "data": {
      "text/plain": [
       "0"
      ]
     },
     "execution_count": 87,
     "metadata": {},
     "output_type": "execute_result"
    }
   ],
   "source": [
    "fruits.get(\"Jackfruit\", 0)"
   ]
  },
  {
   "cell_type": "code",
   "execution_count": null,
   "id": "725723a5-4fc4-40cf-af35-7b3539f8f520",
   "metadata": {},
   "outputs": [],
   "source": []
  },
  {
   "cell_type": "code",
   "execution_count": null,
   "id": "835b9b53-19e4-4657-b884-cefab10eaabf",
   "metadata": {},
   "outputs": [],
   "source": []
  },
  {
   "cell_type": "code",
   "execution_count": 88,
   "id": "ea3d53f2-df4c-4e02-b06f-c07428fe5090",
   "metadata": {},
   "outputs": [],
   "source": [
    "# Quiz"
   ]
  },
  {
   "cell_type": "code",
   "execution_count": 91,
   "id": "335524db-4d2c-458f-95f9-8bf48339b4d3",
   "metadata": {},
   "outputs": [
    {
     "name": "stdout",
     "output_type": "stream",
     "text": [
      "55\n"
     ]
    }
   ],
   "source": [
    "# What is the output of the following code?\n",
    "\n",
    "d = {\"a\": 1, \"b\": 2, \"c\": 3}\n",
    "d['d'] = 55\n",
    "\n",
    "print(d['d'])"
   ]
  },
  {
   "cell_type": "code",
   "execution_count": null,
   "id": "3b3a5b10-c7d7-4182-bae6-fc1da1cb1f9e",
   "metadata": {},
   "outputs": [],
   "source": []
  },
  {
   "cell_type": "code",
   "execution_count": null,
   "id": "17a9d5bd-dcbf-4346-bdc2-a1770bba0475",
   "metadata": {},
   "outputs": [],
   "source": []
  },
  {
   "cell_type": "code",
   "execution_count": null,
   "id": "0a411e09-2791-4e67-987d-4b1cdca9cee0",
   "metadata": {},
   "outputs": [],
   "source": []
  },
  {
   "cell_type": "code",
   "execution_count": null,
   "id": "52af78b5-fbb4-4b2a-8f0b-65843a2ee3d2",
   "metadata": {},
   "outputs": [],
   "source": []
  },
  {
   "cell_type": "code",
   "execution_count": null,
   "id": "7ce03f28-a0c5-489a-9095-717bffba6934",
   "metadata": {},
   "outputs": [],
   "source": []
  },
  {
   "cell_type": "markdown",
   "id": "e6d300ab-c050-42e7-b101-04260bef677a",
   "metadata": {
    "tags": []
   },
   "source": [
    "### Iterating on a dict"
   ]
  },
  {
   "cell_type": "code",
   "execution_count": 92,
   "id": "c6ea9520-af89-491a-87d0-be593e8342c6",
   "metadata": {},
   "outputs": [],
   "source": [
    "## Challenge:\n",
    "# print keys and values of a dict"
   ]
  },
  {
   "cell_type": "code",
   "execution_count": 93,
   "id": "b8653d1e-3c0f-4152-a04e-f5a4f1591f5e",
   "metadata": {},
   "outputs": [
    {
     "data": {
      "text/plain": [
       "{'Apple': 190,\n",
       " 'Oranges': 200,\n",
       " 'Mango': 100,\n",
       " 'Lychee': 100,\n",
       " 'Pineapple': {'Small': 90, 'Large': 120},\n",
       " 'Red Banana': 80,\n",
       " 'Coconut': 40}"
      ]
     },
     "execution_count": 93,
     "metadata": {},
     "output_type": "execute_result"
    }
   ],
   "source": [
    "fruits"
   ]
  },
  {
   "cell_type": "code",
   "execution_count": 94,
   "id": "9f92acad-4bbc-4727-8583-ee96c1917d21",
   "metadata": {},
   "outputs": [
    {
     "name": "stdout",
     "output_type": "stream",
     "text": [
      "['__class__', '__class_getitem__', '__contains__', '__delattr__', '__delitem__', '__dir__', '__doc__', '__eq__', '__format__', '__ge__', '__getattribute__', '__getitem__', '__gt__', '__hash__', '__init__', '__init_subclass__', '__ior__', '__iter__', '__le__', '__len__', '__lt__', '__ne__', '__new__', '__or__', '__reduce__', '__reduce_ex__', '__repr__', '__reversed__', '__ror__', '__setattr__', '__setitem__', '__sizeof__', '__str__', '__subclasshook__', 'clear', 'copy', 'fromkeys', 'get', 'items', 'keys', 'pop', 'popitem', 'setdefault', 'update', 'values']\n"
     ]
    }
   ],
   "source": [
    "print(dir(fruits))"
   ]
  },
  {
   "cell_type": "code",
   "execution_count": 95,
   "id": "97a1208f-d7e8-4b6c-a0db-53ac94fa7be7",
   "metadata": {},
   "outputs": [
    {
     "name": "stdout",
     "output_type": "stream",
     "text": [
      "Apple\n",
      "Oranges\n",
      "Mango\n",
      "Lychee\n",
      "Pineapple\n",
      "Red Banana\n",
      "Coconut\n"
     ]
    }
   ],
   "source": [
    "for i in fruits:\n",
    "    print(i)"
   ]
  },
  {
   "cell_type": "code",
   "execution_count": null,
   "id": "fa70437e-779c-4e95-8262-9e6cef7ee31e",
   "metadata": {},
   "outputs": [],
   "source": []
  },
  {
   "cell_type": "code",
   "execution_count": 96,
   "id": "c6c157fc-14ff-4e2e-af59-baa84b92eb25",
   "metadata": {},
   "outputs": [
    {
     "data": {
      "text/plain": [
       "{'Apple': 190,\n",
       " 'Oranges': 200,\n",
       " 'Mango': 100,\n",
       " 'Lychee': 100,\n",
       " 'Pineapple': {'Small': 90, 'Large': 120},\n",
       " 'Red Banana': 80,\n",
       " 'Coconut': 40}"
      ]
     },
     "execution_count": 96,
     "metadata": {},
     "output_type": "execute_result"
    }
   ],
   "source": [
    "fruits"
   ]
  },
  {
   "cell_type": "code",
   "execution_count": 97,
   "id": "64a61645-9c32-4e49-89d0-dfd0fc07aa7e",
   "metadata": {},
   "outputs": [
    {
     "data": {
      "text/plain": [
       "190"
      ]
     },
     "execution_count": 97,
     "metadata": {},
     "output_type": "execute_result"
    }
   ],
   "source": [
    "fruits[\"Apple\"]"
   ]
  },
  {
   "cell_type": "code",
   "execution_count": 98,
   "id": "0e01f0f9-718d-49c7-8bba-a12dc8ce04d6",
   "metadata": {},
   "outputs": [
    {
     "data": {
      "text/plain": [
       "200"
      ]
     },
     "execution_count": 98,
     "metadata": {},
     "output_type": "execute_result"
    }
   ],
   "source": [
    "fruits[\"Oranges\"]"
   ]
  },
  {
   "cell_type": "code",
   "execution_count": null,
   "id": "6ad9a3ae-9e72-4034-b529-5408f5dc3fa1",
   "metadata": {},
   "outputs": [],
   "source": []
  },
  {
   "cell_type": "code",
   "execution_count": 99,
   "id": "9c250372-7469-4c2d-9a8e-f85291e3f65e",
   "metadata": {},
   "outputs": [],
   "source": [
    "# Print values for these keys"
   ]
  },
  {
   "cell_type": "code",
   "execution_count": 100,
   "id": "76741a59-442a-41d4-b650-fc5bab25fbda",
   "metadata": {},
   "outputs": [
    {
     "name": "stdout",
     "output_type": "stream",
     "text": [
      "Apple 190\n",
      "Oranges 200\n",
      "Mango 100\n",
      "Lychee 100\n",
      "Pineapple {'Small': 90, 'Large': 120}\n",
      "Red Banana 80\n",
      "Coconut 40\n"
     ]
    }
   ],
   "source": [
    "for i in fruits:\n",
    "    print(i, fruits[i])"
   ]
  },
  {
   "cell_type": "code",
   "execution_count": null,
   "id": "2bc711c3-49e5-4880-aae5-3c139ae10aa5",
   "metadata": {},
   "outputs": [],
   "source": []
  },
  {
   "cell_type": "code",
   "execution_count": 101,
   "id": "7cba2a13-9c00-486c-8ab4-47bc68de206a",
   "metadata": {},
   "outputs": [
    {
     "name": "stdout",
     "output_type": "stream",
     "text": [
      "Apple 190\n",
      "Oranges 200\n",
      "Mango 100\n",
      "Lychee 100\n",
      "Pineapple {'Small': 90, 'Large': 120}\n",
      "Red Banana 80\n",
      "Coconut 40\n"
     ]
    }
   ],
   "source": [
    "for i in fruits:\n",
    "    print(i, fruits.get(i))"
   ]
  },
  {
   "cell_type": "code",
   "execution_count": null,
   "id": "2c98d86f-1dc9-4a68-b528-7a0682e5dcae",
   "metadata": {},
   "outputs": [],
   "source": []
  },
  {
   "cell_type": "code",
   "execution_count": null,
   "id": "007a1e00-7db8-4138-b058-535d6f61ee57",
   "metadata": {},
   "outputs": [],
   "source": []
  },
  {
   "cell_type": "code",
   "execution_count": 102,
   "id": "aaed4166-837b-4e33-91a5-fdc4960b1d42",
   "metadata": {},
   "outputs": [],
   "source": [
    "# for i, v in dict.items()"
   ]
  },
  {
   "cell_type": "code",
   "execution_count": 105,
   "id": "43d76532-2613-40ee-af4d-762182c083f7",
   "metadata": {},
   "outputs": [
    {
     "data": {
      "text/plain": [
       "dict_items([('Apple', 190), ('Oranges', 200), ('Mango', 100), ('Lychee', 100), ('Pineapple', {'Small': 90, 'Large': 120}), ('Red Banana', 80), ('Coconut', 40)])"
      ]
     },
     "execution_count": 105,
     "metadata": {},
     "output_type": "execute_result"
    }
   ],
   "source": [
    "fruits.items()"
   ]
  },
  {
   "cell_type": "code",
   "execution_count": 106,
   "id": "2e95d8d8-9c69-479c-b606-ce9b593ca497",
   "metadata": {},
   "outputs": [],
   "source": [
    "t = (1, 2, 3)"
   ]
  },
  {
   "cell_type": "code",
   "execution_count": 107,
   "id": "6095273b-3181-4411-8a5f-e1071c118b28",
   "metadata": {},
   "outputs": [],
   "source": [
    "a, b, c = t"
   ]
  },
  {
   "cell_type": "code",
   "execution_count": 108,
   "id": "88dc140a-fc55-4cff-b7a7-3f43ca8ec7c3",
   "metadata": {},
   "outputs": [
    {
     "name": "stdout",
     "output_type": "stream",
     "text": [
      "1 2 3\n"
     ]
    }
   ],
   "source": [
    "print(a, b, c)"
   ]
  },
  {
   "cell_type": "code",
   "execution_count": 109,
   "id": "6251f3e0-7a62-4b97-83d1-f33620583183",
   "metadata": {},
   "outputs": [
    {
     "name": "stdout",
     "output_type": "stream",
     "text": [
      "('Apple', 190)\n",
      "('Oranges', 200)\n",
      "('Mango', 100)\n",
      "('Lychee', 100)\n",
      "('Pineapple', {'Small': 90, 'Large': 120})\n",
      "('Red Banana', 80)\n",
      "('Coconut', 40)\n"
     ]
    }
   ],
   "source": [
    "for i in fruits.items():\n",
    "    print(i)"
   ]
  },
  {
   "cell_type": "code",
   "execution_count": null,
   "id": "f05fef71-b369-4c99-8f5e-35228ed7b0c0",
   "metadata": {},
   "outputs": [],
   "source": []
  },
  {
   "cell_type": "code",
   "execution_count": 113,
   "id": "f0c9abff-0996-4f59-b0b4-a97c096899cd",
   "metadata": {},
   "outputs": [
    {
     "name": "stdout",
     "output_type": "stream",
     "text": [
      "Apple 190\n",
      "Oranges 200\n",
      "Mango 100\n",
      "Lychee 100\n",
      "Pineapple {'Small': 90, 'Large': 120}\n",
      "Red Banana 80\n",
      "Coconut 40\n"
     ]
    }
   ],
   "source": [
    "for i, j in fruits.items():\n",
    "    print(i, j)"
   ]
  },
  {
   "cell_type": "code",
   "execution_count": 115,
   "id": "23945509-2b84-4026-a646-d785b0719de9",
   "metadata": {},
   "outputs": [
    {
     "name": "stdout",
     "output_type": "stream",
     "text": [
      "Apple 190\n",
      "Oranges 200\n",
      "Mango 100\n",
      "Lychee 100\n",
      "Pineapple {'Small': 90, 'Large': 120}\n",
      "Red Banana 80\n",
      "Coconut 40\n"
     ]
    }
   ],
   "source": [
    "for key, value in fruits.items():\n",
    "    print(key, value)"
   ]
  },
  {
   "cell_type": "code",
   "execution_count": null,
   "id": "0dc2b266-21c3-4b2f-95a4-2231fa0a0fce",
   "metadata": {},
   "outputs": [],
   "source": []
  },
  {
   "cell_type": "code",
   "execution_count": 116,
   "id": "d234d46b-e7f0-4555-9370-9b754317a4ec",
   "metadata": {},
   "outputs": [
    {
     "data": {
      "text/plain": [
       "{'Apple': 190,\n",
       " 'Oranges': 200,\n",
       " 'Mango': 100,\n",
       " 'Lychee': 100,\n",
       " 'Pineapple': {'Small': 90, 'Large': 120},\n",
       " 'Red Banana': 80,\n",
       " 'Coconut': 40}"
      ]
     },
     "execution_count": 116,
     "metadata": {},
     "output_type": "execute_result"
    }
   ],
   "source": [
    "fruits"
   ]
  },
  {
   "cell_type": "code",
   "execution_count": 117,
   "id": "f7e548a3-2fc7-49d5-8755-8ce80fe8dd13",
   "metadata": {},
   "outputs": [
    {
     "data": {
      "text/plain": [
       "7"
      ]
     },
     "execution_count": 117,
     "metadata": {},
     "output_type": "execute_result"
    }
   ],
   "source": [
    "len(fruits)"
   ]
  },
  {
   "cell_type": "code",
   "execution_count": null,
   "id": "25ae44f0-00b3-4ac0-8b64-2dcb10a207cc",
   "metadata": {},
   "outputs": [],
   "source": []
  },
  {
   "cell_type": "markdown",
   "id": "64b59c88-4fd2-432a-b6e6-a1fac3d89ca9",
   "metadata": {},
   "source": [
    "#### Keys in a dict"
   ]
  },
  {
   "cell_type": "code",
   "execution_count": 118,
   "id": "9e3c5ba2-c631-4add-ab25-c879ce473b09",
   "metadata": {},
   "outputs": [
    {
     "data": {
      "text/plain": [
       "{'Apple': 190,\n",
       " 'Oranges': 200,\n",
       " 'Mango': 100,\n",
       " 'Lychee': 100,\n",
       " 'Pineapple': {'Small': 90, 'Large': 120},\n",
       " 'Red Banana': 80,\n",
       " 'Coconut': 40}"
      ]
     },
     "execution_count": 118,
     "metadata": {},
     "output_type": "execute_result"
    }
   ],
   "source": [
    "fruits"
   ]
  },
  {
   "cell_type": "code",
   "execution_count": 119,
   "id": "711a827d-2f68-412e-bcc2-61954822c9bd",
   "metadata": {},
   "outputs": [
    {
     "data": {
      "text/plain": [
       "dict_keys(['Apple', 'Oranges', 'Mango', 'Lychee', 'Pineapple', 'Red Banana', 'Coconut'])"
      ]
     },
     "execution_count": 119,
     "metadata": {},
     "output_type": "execute_result"
    }
   ],
   "source": [
    "fruits.keys()"
   ]
  },
  {
   "cell_type": "code",
   "execution_count": 120,
   "id": "29e7a0ed-ea27-413d-8d82-d73c080d84e8",
   "metadata": {},
   "outputs": [
    {
     "name": "stdout",
     "output_type": "stream",
     "text": [
      "Apple\n",
      "Oranges\n",
      "Mango\n",
      "Lychee\n",
      "Pineapple\n",
      "Red Banana\n",
      "Coconut\n"
     ]
    }
   ],
   "source": [
    "for i in fruits:\n",
    "    print(i)"
   ]
  },
  {
   "cell_type": "code",
   "execution_count": null,
   "id": "b5f98a91-a6bc-46f6-81c8-cb0d6fb42f10",
   "metadata": {},
   "outputs": [],
   "source": []
  },
  {
   "cell_type": "code",
   "execution_count": null,
   "id": "9f6729eb-8542-4ce0-b388-39cc6056f8e9",
   "metadata": {},
   "outputs": [],
   "source": []
  },
  {
   "cell_type": "markdown",
   "id": "a115150c-1228-4406-8e1d-050f18161cc4",
   "metadata": {},
   "source": [
    "#### Values in a dict"
   ]
  },
  {
   "cell_type": "code",
   "execution_count": 121,
   "id": "072fc522-e969-4b11-9007-98a33921c352",
   "metadata": {},
   "outputs": [
    {
     "data": {
      "text/plain": [
       "dict_values([190, 200, 100, 100, {'Small': 90, 'Large': 120}, 80, 40])"
      ]
     },
     "execution_count": 121,
     "metadata": {},
     "output_type": "execute_result"
    }
   ],
   "source": [
    "fruits.values()"
   ]
  },
  {
   "cell_type": "code",
   "execution_count": 122,
   "id": "93113e84-1080-46b3-8297-109a8f5bbf91",
   "metadata": {},
   "outputs": [
    {
     "name": "stdout",
     "output_type": "stream",
     "text": [
      "190\n",
      "200\n",
      "100\n",
      "100\n",
      "{'Small': 90, 'Large': 120}\n",
      "80\n",
      "40\n"
     ]
    }
   ],
   "source": [
    "for i in fruits:\n",
    "    print(fruits[i])"
   ]
  },
  {
   "cell_type": "code",
   "execution_count": null,
   "id": "1d0c7601-8dcd-4670-b7c5-281392f78e63",
   "metadata": {},
   "outputs": [],
   "source": []
  },
  {
   "cell_type": "code",
   "execution_count": null,
   "id": "76d0fc99-87ee-436a-914d-0f8cd921d9ab",
   "metadata": {},
   "outputs": [],
   "source": []
  },
  {
   "cell_type": "code",
   "execution_count": null,
   "id": "8d599622-46e2-4ad2-8c38-f52335a80de7",
   "metadata": {},
   "outputs": [],
   "source": []
  },
  {
   "cell_type": "markdown",
   "id": "c8285697-bbd2-46d4-b7c5-00bb8b858c34",
   "metadata": {},
   "source": [
    "### Len function "
   ]
  },
  {
   "cell_type": "code",
   "execution_count": 123,
   "id": "dbc00ab6-8c77-43b5-8ea5-faa88e3bc2dc",
   "metadata": {},
   "outputs": [
    {
     "data": {
      "text/plain": [
       "{'Apple': 190,\n",
       " 'Oranges': 200,\n",
       " 'Mango': 100,\n",
       " 'Lychee': 100,\n",
       " 'Pineapple': {'Small': 90, 'Large': 120},\n",
       " 'Red Banana': 80,\n",
       " 'Coconut': 40}"
      ]
     },
     "execution_count": 123,
     "metadata": {},
     "output_type": "execute_result"
    }
   ],
   "source": [
    "fruits"
   ]
  },
  {
   "cell_type": "code",
   "execution_count": 124,
   "id": "6379ad14-f996-4501-970e-4d8565b5e55f",
   "metadata": {},
   "outputs": [
    {
     "data": {
      "text/plain": [
       "7"
      ]
     },
     "execution_count": 124,
     "metadata": {},
     "output_type": "execute_result"
    }
   ],
   "source": [
    "len(fruits)"
   ]
  },
  {
   "cell_type": "code",
   "execution_count": null,
   "id": "c0493359-248c-48bc-91b2-925b1832ef28",
   "metadata": {},
   "outputs": [],
   "source": []
  },
  {
   "cell_type": "code",
   "execution_count": null,
   "id": "ddc11027-c5e0-4e64-a593-2a6c72602cac",
   "metadata": {},
   "outputs": [],
   "source": []
  },
  {
   "cell_type": "code",
   "execution_count": 125,
   "id": "a4e835ca-74a9-43f3-9a02-50cd9831082b",
   "metadata": {},
   "outputs": [],
   "source": [
    "# Citizenship operator?"
   ]
  },
  {
   "cell_type": "code",
   "execution_count": 126,
   "id": "7c348178-3f1b-47e5-8d45-3dbeb0859513",
   "metadata": {},
   "outputs": [
    {
     "data": {
      "text/plain": [
       "{'Apple': 190,\n",
       " 'Oranges': 200,\n",
       " 'Mango': 100,\n",
       " 'Lychee': 100,\n",
       " 'Pineapple': {'Small': 90, 'Large': 120},\n",
       " 'Red Banana': 80,\n",
       " 'Coconut': 40}"
      ]
     },
     "execution_count": 126,
     "metadata": {},
     "output_type": "execute_result"
    }
   ],
   "source": [
    "fruits"
   ]
  },
  {
   "cell_type": "code",
   "execution_count": 127,
   "id": "769d5b0a-a8ed-44b4-90da-ad2d653b09b3",
   "metadata": {},
   "outputs": [
    {
     "data": {
      "text/plain": [
       "True"
      ]
     },
     "execution_count": 127,
     "metadata": {},
     "output_type": "execute_result"
    }
   ],
   "source": [
    "\"Pineapple\" in fruits"
   ]
  },
  {
   "cell_type": "code",
   "execution_count": 128,
   "id": "ba4fbfb9-53d7-43ca-8e65-f092f9633382",
   "metadata": {},
   "outputs": [
    {
     "data": {
      "text/plain": [
       "False"
      ]
     },
     "execution_count": 128,
     "metadata": {},
     "output_type": "execute_result"
    }
   ],
   "source": [
    "\"Jackfruit\" in fruits"
   ]
  },
  {
   "cell_type": "code",
   "execution_count": null,
   "id": "35266247-ad9b-4dee-ae8d-5d3149d6ad18",
   "metadata": {},
   "outputs": [],
   "source": []
  },
  {
   "cell_type": "markdown",
   "id": "6cc4703a-1419-47b1-84ec-e918b3bcf937",
   "metadata": {},
   "source": [
    "### Challenge"
   ]
  },
  {
   "cell_type": "markdown",
   "id": "25044555-ad92-4bf3-8cf2-1345799acc0d",
   "metadata": {},
   "source": [
    "#### Take a string as input.\n",
    "- Create a dictionary according to the following criteria :-\n",
    "- There will be one key value pair for each unique character\n",
    "- Key will be character name and value will be the count of the character inside the string."
   ]
  },
  {
   "cell_type": "code",
   "execution_count": 129,
   "id": "b618515a-fc12-4970-8435-cd179e5e5c8c",
   "metadata": {},
   "outputs": [],
   "source": [
    "# Rahul janghu\n",
    "# R: 1, a : 2, h : 2, u : 2, l : 1, \"_\" : 1, j : 1, n : 1, g : 1"
   ]
  },
  {
   "cell_type": "code",
   "execution_count": null,
   "id": "fb2a13a2-abc0-4d4b-a1f3-c106f9e4713e",
   "metadata": {},
   "outputs": [],
   "source": []
  },
  {
   "cell_type": "code",
   "execution_count": 132,
   "id": "0cd049b4-edd3-4348-904d-1052e3e7f3a6",
   "metadata": {},
   "outputs": [
    {
     "name": "stdout",
     "output_type": "stream",
     "text": [
      "{'R': 1, 'a': 2, 'h': 2, 'u': 2, 'l': 1, ' ': 1, 'J': 1, 'n': 1, 'g': 1}\n"
     ]
    }
   ],
   "source": [
    "freq = {}\n",
    "s = \"Rahul Janghu\"\n",
    "\n",
    "for i in s:\n",
    "    if i in freq:\n",
    "        freq[i] += 1\n",
    "    else:\n",
    "        freq[i] = 1\n",
    "\n",
    "print(freq)"
   ]
  },
  {
   "cell_type": "code",
   "execution_count": null,
   "id": "c50e5a62-e0b1-4886-b00a-4777dd1500e9",
   "metadata": {},
   "outputs": [],
   "source": []
  },
  {
   "cell_type": "code",
   "execution_count": 133,
   "id": "0470d94a-63db-4786-adbc-48ab3286f84f",
   "metadata": {},
   "outputs": [],
   "source": [
    "def freq_dict(s):\n",
    "    freq = {}\n",
    "    \n",
    "    for i in s:\n",
    "        if i in freq:\n",
    "            freq[i] += 1\n",
    "        else:\n",
    "            freq[i] = 1\n",
    "    return freq"
   ]
  },
  {
   "cell_type": "code",
   "execution_count": null,
   "id": "7052c67c-1779-46c0-a03f-5e132a0f375e",
   "metadata": {},
   "outputs": [],
   "source": []
  },
  {
   "cell_type": "code",
   "execution_count": 134,
   "id": "0fcb630d-b916-4e94-b911-d1e9e23e1b8c",
   "metadata": {},
   "outputs": [
    {
     "data": {
      "text/plain": [
       "{'R': 1, 'a': 2, 'h': 2, 'u': 2, 'l': 1, ' ': 1, 'J': 1, 'n': 1, 'g': 1}"
      ]
     },
     "execution_count": 134,
     "metadata": {},
     "output_type": "execute_result"
    }
   ],
   "source": [
    "freq_dict(\"Rahul Janghu\")"
   ]
  },
  {
   "cell_type": "code",
   "execution_count": 135,
   "id": "71aa7d9f-d630-4d6c-a515-32ec92e229bc",
   "metadata": {},
   "outputs": [
    {
     "data": {
      "text/plain": [
       "{'R': 3}"
      ]
     },
     "execution_count": 135,
     "metadata": {},
     "output_type": "execute_result"
    }
   ],
   "source": [
    "freq_dict(\"RRR\")"
   ]
  },
  {
   "cell_type": "code",
   "execution_count": 136,
   "id": "27263f5a-594a-4807-8e2e-3fa7449cdb68",
   "metadata": {},
   "outputs": [],
   "source": [
    "def freq_dict(s):\n",
    "    freq = {}\n",
    "    \n",
    "    for i in s:\n",
    "        if i not in freq:\n",
    "            freq[i] = 1\n",
    "        else:\n",
    "            freq[i] += 1\n",
    "            \n",
    "    return freq"
   ]
  },
  {
   "cell_type": "code",
   "execution_count": 137,
   "id": "735fef93-077b-496e-b124-f55e48e8d88a",
   "metadata": {},
   "outputs": [
    {
     "data": {
      "text/plain": [
       "{'R': 3}"
      ]
     },
     "execution_count": 137,
     "metadata": {},
     "output_type": "execute_result"
    }
   ],
   "source": [
    "freq_dict(\"RRR\")"
   ]
  },
  {
   "cell_type": "code",
   "execution_count": null,
   "id": "b6aad31b-f86a-4df0-b150-d83fcd910cca",
   "metadata": {},
   "outputs": [],
   "source": []
  },
  {
   "cell_type": "code",
   "execution_count": null,
   "id": "7588cba3-0706-4c7a-aa06-5edb66b33322",
   "metadata": {},
   "outputs": [],
   "source": []
  },
  {
   "cell_type": "code",
   "execution_count": 138,
   "id": "39788f40-b299-4ab4-9e53-cdbae5fa4e10",
   "metadata": {},
   "outputs": [],
   "source": [
    "d = {\"Veggies\" : {\"Carrot\" : 20, \"Potato\" : 50},\n",
    "     \"Fruits\" :  {\"Apple\" : 190, \"Banana\" : 60}\n",
    "    }"
   ]
  },
  {
   "cell_type": "code",
   "execution_count": 139,
   "id": "eea0e8e0-e418-4699-aecd-57a3de42dd23",
   "metadata": {},
   "outputs": [
    {
     "data": {
      "text/plain": [
       "{'Veggies': {'Carrot': 20, 'Potato': 50},\n",
       " 'Fruits': {'Apple': 190, 'Banana': 60}}"
      ]
     },
     "execution_count": 139,
     "metadata": {},
     "output_type": "execute_result"
    }
   ],
   "source": [
    "d"
   ]
  },
  {
   "cell_type": "code",
   "execution_count": null,
   "id": "315cbc4a-fb1c-4532-86ad-67c9e1d394d5",
   "metadata": {},
   "outputs": [],
   "source": []
  },
  {
   "cell_type": "code",
   "execution_count": 141,
   "id": "ca7ac834-2a25-4fd7-82c7-845d01021272",
   "metadata": {},
   "outputs": [
    {
     "name": "stdout",
     "output_type": "stream",
     "text": [
      "{'Carrot': 20, 'Potato': 50}\n",
      "{'Apple': 190, 'Banana': 60}\n"
     ]
    }
   ],
   "source": [
    "for i in d:\n",
    "    print(d.get(i))"
   ]
  },
  {
   "cell_type": "code",
   "execution_count": null,
   "id": "8ac471e7-5ed1-427e-8d08-2c3ae77ad889",
   "metadata": {},
   "outputs": [],
   "source": []
  },
  {
   "cell_type": "code",
   "execution_count": null,
   "id": "c2bce2e4-1d62-4b95-a0cc-4412bb5c4418",
   "metadata": {},
   "outputs": [],
   "source": []
  },
  {
   "cell_type": "code",
   "execution_count": 143,
   "id": "856d4f5e-51e8-4fe1-9c8a-710969c8aeee",
   "metadata": {},
   "outputs": [
    {
     "name": "stdin",
     "output_type": "stream",
     "text": [
      " Rahul janghu\n"
     ]
    }
   ],
   "source": [
    "s = input()"
   ]
  },
  {
   "cell_type": "code",
   "execution_count": 144,
   "id": "c58d02c6-22da-43dd-8e28-b039a08cc84c",
   "metadata": {},
   "outputs": [
    {
     "data": {
      "text/plain": [
       "'Rahul'"
      ]
     },
     "execution_count": 144,
     "metadata": {},
     "output_type": "execute_result"
    }
   ],
   "source": [
    "s[:5]"
   ]
  },
  {
   "cell_type": "code",
   "execution_count": null,
   "id": "6aef91c4-04eb-47b3-b325-f0dbdeb3c042",
   "metadata": {},
   "outputs": [],
   "source": []
  },
  {
   "cell_type": "code",
   "execution_count": null,
   "id": "aa8ec785-85a6-4d49-b22b-3ad301b2ed76",
   "metadata": {},
   "outputs": [],
   "source": []
  },
  {
   "cell_type": "code",
   "execution_count": null,
   "id": "39ccf322-3d35-4ee2-a8b3-bae7637003ae",
   "metadata": {},
   "outputs": [],
   "source": []
  },
  {
   "cell_type": "code",
   "execution_count": null,
   "id": "dfe5f3d3-7175-4b3a-b1c4-fc5a91a47253",
   "metadata": {},
   "outputs": [],
   "source": []
  }
 ],
 "metadata": {
  "kernelspec": {
   "display_name": "Python 3 (ipykernel)",
   "language": "python",
   "name": "python3"
  },
  "language_info": {
   "codemirror_mode": {
    "name": "ipython",
    "version": 3
   },
   "file_extension": ".py",
   "mimetype": "text/x-python",
   "name": "python",
   "nbconvert_exporter": "python",
   "pygments_lexer": "ipython3",
   "version": "3.9.7"
  }
 },
 "nbformat": 4,
 "nbformat_minor": 5
}
