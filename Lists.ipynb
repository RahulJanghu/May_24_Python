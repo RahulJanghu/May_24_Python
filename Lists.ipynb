{
 "cells": [
  {
   "cell_type": "markdown",
   "id": "92cd946b-9bb5-406f-aace-6a8181c652d3",
   "metadata": {},
   "source": [
    "## List []\n",
    "- A list is a data structure that holds an ordered collection of items i.e. you can store a sequence of items in a list.\n",
    "\n",
    "The list of items should be enclosed in square brackets so that Python understands that you are specifying a list. Once you have created a list, you can add, remove or search for items in the list. Since we can add and remove items, we say that a list is a mutable data type i.e. this type can be altered."
   ]
  },
  {
   "cell_type": "code",
   "execution_count": 1,
   "id": "290737ed-3de2-4954-8ed0-00c4e399f4e7",
   "metadata": {},
   "outputs": [],
   "source": [
    "## Runs"
   ]
  },
  {
   "cell_type": "code",
   "execution_count": 2,
   "id": "470f5889-7275-4502-bcb0-6941f0c54b42",
   "metadata": {},
   "outputs": [],
   "source": [
    "runs = [100, 150, 99, 20, 99, 200, 99, 120]"
   ]
  },
  {
   "cell_type": "code",
   "execution_count": 3,
   "id": "417bcb60-4c00-41f9-9a7b-e1f59ffd258f",
   "metadata": {},
   "outputs": [],
   "source": [
    "# type"
   ]
  },
  {
   "cell_type": "code",
   "execution_count": 4,
   "id": "15cf55f9-c364-49f9-8c74-fd49b8360789",
   "metadata": {},
   "outputs": [
    {
     "data": {
      "text/plain": [
       "list"
      ]
     },
     "execution_count": 4,
     "metadata": {},
     "output_type": "execute_result"
    }
   ],
   "source": [
    "type(runs)"
   ]
  },
  {
   "cell_type": "code",
   "execution_count": 5,
   "id": "66222d3d-5c01-41ca-ac07-4cc8ae6e9329",
   "metadata": {},
   "outputs": [],
   "source": [
    "example = [1, 2.0, None, \"String\"]"
   ]
  },
  {
   "cell_type": "code",
   "execution_count": 6,
   "id": "0c7043ea-fff2-4d85-a5a9-2221a97af9e7",
   "metadata": {},
   "outputs": [
    {
     "data": {
      "text/plain": [
       "list"
      ]
     },
     "execution_count": 6,
     "metadata": {},
     "output_type": "execute_result"
    }
   ],
   "source": [
    "type(example)"
   ]
  },
  {
   "cell_type": "code",
   "execution_count": null,
   "id": "a8af3507-d8d4-445d-8983-1f8a9ea76004",
   "metadata": {},
   "outputs": [],
   "source": []
  },
  {
   "cell_type": "code",
   "execution_count": 7,
   "id": "a7ec8519-e7a7-4cb8-981c-b7f75546eb7a",
   "metadata": {},
   "outputs": [],
   "source": [
    "# len function"
   ]
  },
  {
   "cell_type": "code",
   "execution_count": 8,
   "id": "4b111427-2cf6-4d7c-a5f0-d081f30ec6a5",
   "metadata": {},
   "outputs": [
    {
     "data": {
      "text/plain": [
       "[100, 150, 99, 20, 99, 200, 99, 120]"
      ]
     },
     "execution_count": 8,
     "metadata": {},
     "output_type": "execute_result"
    }
   ],
   "source": [
    "runs"
   ]
  },
  {
   "cell_type": "code",
   "execution_count": 9,
   "id": "b1ca020d-cfc1-435b-ba82-a5fef20b5121",
   "metadata": {},
   "outputs": [
    {
     "data": {
      "text/plain": [
       "8"
      ]
     },
     "execution_count": 9,
     "metadata": {},
     "output_type": "execute_result"
    }
   ],
   "source": [
    "len(runs)"
   ]
  },
  {
   "cell_type": "code",
   "execution_count": null,
   "id": "b1f1245a-6d6a-48cd-914d-7682f52d13de",
   "metadata": {},
   "outputs": [],
   "source": []
  },
  {
   "cell_type": "code",
   "execution_count": 10,
   "id": "54ab42c1-f68c-4df8-9263-9152fa318b99",
   "metadata": {},
   "outputs": [],
   "source": [
    "# Indexing in list: Like we used to have in our attendance register, roll no."
   ]
  },
  {
   "cell_type": "code",
   "execution_count": 11,
   "id": "8f970e2f-c669-400f-89b8-ec65f0c133df",
   "metadata": {},
   "outputs": [
    {
     "data": {
      "text/plain": [
       "[100, 150, 99, 20, 99, 200, 99, 120]"
      ]
     },
     "execution_count": 11,
     "metadata": {},
     "output_type": "execute_result"
    }
   ],
   "source": [
    "runs"
   ]
  },
  {
   "cell_type": "code",
   "execution_count": 12,
   "id": "9528ff3f-a197-4183-a39e-a4719ee8a62a",
   "metadata": {},
   "outputs": [
    {
     "data": {
      "text/plain": [
       "100"
      ]
     },
     "execution_count": 12,
     "metadata": {},
     "output_type": "execute_result"
    }
   ],
   "source": [
    "runs[0]"
   ]
  },
  {
   "cell_type": "code",
   "execution_count": 13,
   "id": "6a90528f-64bf-435b-a5ca-a070ae828438",
   "metadata": {},
   "outputs": [
    {
     "data": {
      "text/plain": [
       "8"
      ]
     },
     "execution_count": 13,
     "metadata": {},
     "output_type": "execute_result"
    }
   ],
   "source": [
    "len(runs)"
   ]
  },
  {
   "cell_type": "code",
   "execution_count": 14,
   "id": "e8a5c656-09ae-4090-a3be-6ef4ca296187",
   "metadata": {},
   "outputs": [
    {
     "ename": "IndexError",
     "evalue": "list index out of range",
     "output_type": "error",
     "traceback": [
      "\u001b[0;31m---------------------------------------------------------------------------\u001b[0m",
      "\u001b[0;31mIndexError\u001b[0m                                Traceback (most recent call last)",
      "\u001b[0;32m/var/folders/t5/yhjgrjs907zfp250jyxtw54m0000gn/T/ipykernel_12022/1732662036.py\u001b[0m in \u001b[0;36m<module>\u001b[0;34m\u001b[0m\n\u001b[0;32m----> 1\u001b[0;31m \u001b[0mruns\u001b[0m\u001b[0;34m[\u001b[0m\u001b[0mlen\u001b[0m\u001b[0;34m(\u001b[0m\u001b[0mruns\u001b[0m\u001b[0;34m)\u001b[0m\u001b[0;34m]\u001b[0m\u001b[0;34m\u001b[0m\u001b[0;34m\u001b[0m\u001b[0m\n\u001b[0m",
      "\u001b[0;31mIndexError\u001b[0m: list index out of range"
     ]
    }
   ],
   "source": [
    "runs[len(runs)]"
   ]
  },
  {
   "cell_type": "code",
   "execution_count": 15,
   "id": "6b09ff41-e9a9-4a32-8b36-3039440ec702",
   "metadata": {},
   "outputs": [
    {
     "data": {
      "text/plain": [
       "120"
      ]
     },
     "execution_count": 15,
     "metadata": {},
     "output_type": "execute_result"
    }
   ],
   "source": [
    "runs[len(runs) - 1]"
   ]
  },
  {
   "cell_type": "code",
   "execution_count": null,
   "id": "73c98ae8-679d-4ef9-a20e-26856bd78a54",
   "metadata": {},
   "outputs": [],
   "source": []
  },
  {
   "cell_type": "code",
   "execution_count": 16,
   "id": "ac8f6f78-bf3c-4b69-917e-01b1e59e19be",
   "metadata": {},
   "outputs": [],
   "source": [
    "## Negative indexing: Topper from bottom :)"
   ]
  },
  {
   "cell_type": "code",
   "execution_count": 17,
   "id": "08de9eb8-5929-4aa7-8f28-63ea75ba6df8",
   "metadata": {},
   "outputs": [
    {
     "data": {
      "text/plain": [
       "[100, 150, 99, 20, 99, 200, 99, 120]"
      ]
     },
     "execution_count": 17,
     "metadata": {},
     "output_type": "execute_result"
    }
   ],
   "source": [
    "runs"
   ]
  },
  {
   "cell_type": "code",
   "execution_count": 18,
   "id": "33ebbdfa-d518-4af6-a927-695499893e59",
   "metadata": {},
   "outputs": [
    {
     "data": {
      "text/plain": [
       "100"
      ]
     },
     "execution_count": 18,
     "metadata": {},
     "output_type": "execute_result"
    }
   ],
   "source": [
    "runs[-len(runs)]"
   ]
  },
  {
   "cell_type": "code",
   "execution_count": 19,
   "id": "2a29cd9e-7412-401b-a077-2bc3d65c9f03",
   "metadata": {},
   "outputs": [
    {
     "data": {
      "text/plain": [
       "120"
      ]
     },
     "execution_count": 19,
     "metadata": {},
     "output_type": "execute_result"
    }
   ],
   "source": [
    "runs[-1]"
   ]
  },
  {
   "cell_type": "code",
   "execution_count": 20,
   "id": "ac237e59-d00e-4cd2-9309-fc4d4a1671cb",
   "metadata": {},
   "outputs": [
    {
     "data": {
      "text/plain": [
       "99"
      ]
     },
     "execution_count": 20,
     "metadata": {},
     "output_type": "execute_result"
    }
   ],
   "source": [
    "runs[-2]"
   ]
  },
  {
   "cell_type": "code",
   "execution_count": null,
   "id": "0dc89e87-5a64-4d32-9731-126f9183a015",
   "metadata": {},
   "outputs": [],
   "source": []
  },
  {
   "cell_type": "markdown",
   "id": "92c52e18-5313-4228-8e9e-d5898197e968",
   "metadata": {},
   "source": [
    "### Inbuilt methods on a list"
   ]
  },
  {
   "cell_type": "markdown",
   "id": "f907bd29-9ce4-4a1f-ade1-91b09ba5d9b8",
   "metadata": {},
   "source": [
    "#### Updating a list"
   ]
  },
  {
   "cell_type": "code",
   "execution_count": 21,
   "id": "3003607c-206e-4110-be78-f9287422c563",
   "metadata": {},
   "outputs": [],
   "source": [
    "## Let Sachin play another match: append"
   ]
  },
  {
   "cell_type": "code",
   "execution_count": 22,
   "id": "6f32c24e-86b7-4e37-b2e7-8decb6eb0d67",
   "metadata": {},
   "outputs": [],
   "source": [
    "# append: Adds data at end of your list"
   ]
  },
  {
   "cell_type": "code",
   "execution_count": 23,
   "id": "21700550-b1b1-49a8-a76c-5183543f7f1a",
   "metadata": {},
   "outputs": [
    {
     "data": {
      "text/plain": [
       "[100, 150, 99, 20, 99, 200, 99, 120]"
      ]
     },
     "execution_count": 23,
     "metadata": {},
     "output_type": "execute_result"
    }
   ],
   "source": [
    "runs"
   ]
  },
  {
   "cell_type": "code",
   "execution_count": 24,
   "id": "319a1ab3-a293-485f-8d2d-121157ad37f4",
   "metadata": {},
   "outputs": [],
   "source": [
    "extra_match = 153"
   ]
  },
  {
   "cell_type": "code",
   "execution_count": 26,
   "id": "6f5aef6a-5f81-43df-aa5b-aa5222cab684",
   "metadata": {},
   "outputs": [],
   "source": [
    "runs.append(extra_match)"
   ]
  },
  {
   "cell_type": "code",
   "execution_count": 27,
   "id": "e8bb5e22-a637-45d0-a1b6-9ae8da77725e",
   "metadata": {},
   "outputs": [
    {
     "data": {
      "text/plain": [
       "[100, 150, 99, 20, 99, 200, 99, 120, 153]"
      ]
     },
     "execution_count": 27,
     "metadata": {},
     "output_type": "execute_result"
    }
   ],
   "source": [
    "runs"
   ]
  },
  {
   "cell_type": "code",
   "execution_count": 28,
   "id": "2fd7c110-2855-4fe7-8f97-9ff146dc51b6",
   "metadata": {},
   "outputs": [
    {
     "data": {
      "text/plain": [
       "9"
      ]
     },
     "execution_count": 28,
     "metadata": {},
     "output_type": "execute_result"
    }
   ],
   "source": [
    "len(runs)"
   ]
  },
  {
   "cell_type": "code",
   "execution_count": 29,
   "id": "fd234942-e6c2-4f26-8e8f-2c081e17320a",
   "metadata": {},
   "outputs": [],
   "source": [
    "# Append adds the data at end by default"
   ]
  },
  {
   "cell_type": "code",
   "execution_count": null,
   "id": "173aac52-940a-4b86-948d-3df44149429a",
   "metadata": {},
   "outputs": [],
   "source": []
  },
  {
   "cell_type": "code",
   "execution_count": null,
   "id": "5ad2c4ab-94c8-4158-b712-ade9227733a7",
   "metadata": {},
   "outputs": [],
   "source": []
  },
  {
   "cell_type": "code",
   "execution_count": null,
   "id": "ab09da2b-3d38-40c6-93fe-f72bad7c4402",
   "metadata": {},
   "outputs": [],
   "source": []
  },
  {
   "cell_type": "code",
   "execution_count": 30,
   "id": "eb1c4120-0a43-4628-980c-b6df14b5a435",
   "metadata": {},
   "outputs": [],
   "source": [
    "## Insert at index: runs.insert(index, value)"
   ]
  },
  {
   "cell_type": "code",
   "execution_count": 31,
   "id": "57494c0e-17d4-479d-8b45-094530ec0f6a",
   "metadata": {},
   "outputs": [],
   "source": [
    "# What if we forgot to add data at 2nd index?"
   ]
  },
  {
   "cell_type": "code",
   "execution_count": 32,
   "id": "327c5a31-ceac-4908-b447-dd48511bcd59",
   "metadata": {},
   "outputs": [
    {
     "data": {
      "text/plain": [
       "[100, 150, 99, 20, 99, 200, 99, 120, 153]"
      ]
     },
     "execution_count": 32,
     "metadata": {},
     "output_type": "execute_result"
    }
   ],
   "source": [
    "runs"
   ]
  },
  {
   "cell_type": "code",
   "execution_count": 33,
   "id": "30b35eb3-bba0-4ced-91cc-b64ae3e1b128",
   "metadata": {},
   "outputs": [],
   "source": [
    "runs.insert(2, 45)"
   ]
  },
  {
   "cell_type": "code",
   "execution_count": 34,
   "id": "4ed7dfdd-e070-4ca3-888c-9acbd5a96816",
   "metadata": {},
   "outputs": [
    {
     "data": {
      "text/plain": [
       "[100, 150, 45, 99, 20, 99, 200, 99, 120, 153]"
      ]
     },
     "execution_count": 34,
     "metadata": {},
     "output_type": "execute_result"
    }
   ],
   "source": [
    "runs"
   ]
  },
  {
   "cell_type": "code",
   "execution_count": null,
   "id": "ea4685f8-3dc2-4c58-a57f-3e129948c6e3",
   "metadata": {},
   "outputs": [],
   "source": []
  },
  {
   "cell_type": "code",
   "execution_count": 35,
   "id": "a8e420f4-2cb9-4e73-9d02-4e4d6825d685",
   "metadata": {},
   "outputs": [],
   "source": [
    "# extend"
   ]
  },
  {
   "cell_type": "code",
   "execution_count": 36,
   "id": "74eb07ec-8e0c-4721-9fcc-ccb35667ca86",
   "metadata": {},
   "outputs": [],
   "source": [
    "ipl = [56, 70, 100]"
   ]
  },
  {
   "cell_type": "code",
   "execution_count": 37,
   "id": "b2365c11-f79d-4e48-8161-fcc4994ac28f",
   "metadata": {},
   "outputs": [],
   "source": [
    "runs.extend(ipl)"
   ]
  },
  {
   "cell_type": "code",
   "execution_count": 38,
   "id": "359faa45-2462-4a5e-82fe-20c60fd10858",
   "metadata": {},
   "outputs": [
    {
     "data": {
      "text/plain": [
       "[100, 150, 45, 99, 20, 99, 200, 99, 120, 153, 56, 70, 100]"
      ]
     },
     "execution_count": 38,
     "metadata": {},
     "output_type": "execute_result"
    }
   ],
   "source": [
    "runs"
   ]
  },
  {
   "cell_type": "code",
   "execution_count": 40,
   "id": "5e62a2c3-b11e-4367-80e0-64c7ed68783d",
   "metadata": {},
   "outputs": [
    {
     "data": {
      "text/plain": [
       "\u001b[0;31mSignature:\u001b[0m \u001b[0mruns\u001b[0m\u001b[0;34m.\u001b[0m\u001b[0mextend\u001b[0m\u001b[0;34m(\u001b[0m\u001b[0miterable\u001b[0m\u001b[0;34m,\u001b[0m \u001b[0;34m/\u001b[0m\u001b[0;34m)\u001b[0m\u001b[0;34m\u001b[0m\u001b[0;34m\u001b[0m\u001b[0m\n",
       "\u001b[0;31mDocstring:\u001b[0m Extend list by appending elements from the iterable.\n",
       "\u001b[0;31mType:\u001b[0m      builtin_function_or_method\n"
      ]
     },
     "metadata": {},
     "output_type": "display_data"
    }
   ],
   "source": [
    "runs.extend?"
   ]
  },
  {
   "cell_type": "code",
   "execution_count": null,
   "id": "81363ea9-a844-41fa-9288-b49b475c601e",
   "metadata": {},
   "outputs": [],
   "source": []
  },
  {
   "cell_type": "code",
   "execution_count": 39,
   "id": "7442823d-7662-4c38-a61f-2bbe1eab8b2d",
   "metadata": {},
   "outputs": [
    {
     "name": "stdout",
     "output_type": "stream",
     "text": [
      "[1, 2, 3, [4, 5, 6]]\n"
     ]
    }
   ],
   "source": [
    "l1 = [1, 2, 3]\n",
    "l2 = [4, 5, 6]\n",
    "\n",
    "l1.append(l2)\n",
    "print(l1)"
   ]
  },
  {
   "cell_type": "code",
   "execution_count": null,
   "id": "757303d8-0466-4f18-9592-90c6b71e9e7b",
   "metadata": {},
   "outputs": [],
   "source": []
  },
  {
   "cell_type": "code",
   "execution_count": null,
   "id": "b68e9538-59cc-4c2a-9971-500d4a22cc73",
   "metadata": {},
   "outputs": [],
   "source": []
  },
  {
   "cell_type": "code",
   "execution_count": 42,
   "id": "9cc8c50d-0fdd-4e81-b7cb-795b5184ab70",
   "metadata": {},
   "outputs": [],
   "source": [
    "# concatenation"
   ]
  },
  {
   "cell_type": "code",
   "execution_count": 43,
   "id": "b52cf328-27af-4ec2-8085-4a53ccb00ace",
   "metadata": {},
   "outputs": [],
   "source": [
    "l1 = [1, 2, 3]\n",
    "l2 = [4, 5, 6]"
   ]
  },
  {
   "cell_type": "code",
   "execution_count": 44,
   "id": "f2ad21da-1e52-4ec1-93f4-d63a5671a0f7",
   "metadata": {},
   "outputs": [
    {
     "data": {
      "text/plain": [
       "[1, 2, 3, 4, 5, 6]"
      ]
     },
     "execution_count": 44,
     "metadata": {},
     "output_type": "execute_result"
    }
   ],
   "source": [
    "l1 + l2"
   ]
  },
  {
   "cell_type": "code",
   "execution_count": 48,
   "id": "e45134b0-0b96-4c71-bde0-0e823e9215f8",
   "metadata": {},
   "outputs": [],
   "source": [
    "first_name = \"Rahul\"\n",
    "last_name = \"Janghu\""
   ]
  },
  {
   "cell_type": "code",
   "execution_count": 49,
   "id": "731311cb-d07b-48f8-9ab2-dcb24edf9b12",
   "metadata": {},
   "outputs": [
    {
     "data": {
      "text/plain": [
       "'RahulJanghu'"
      ]
     },
     "execution_count": 49,
     "metadata": {},
     "output_type": "execute_result"
    }
   ],
   "source": [
    "first_name + last_name"
   ]
  },
  {
   "cell_type": "code",
   "execution_count": 52,
   "id": "cc39a265-54be-4cb2-8d79-f32cdbe9e66a",
   "metadata": {},
   "outputs": [],
   "source": [
    "full_name = first_name + last_name"
   ]
  },
  {
   "cell_type": "code",
   "execution_count": 53,
   "id": "a738edfe-dbab-47bc-97ca-0d2c6abef53c",
   "metadata": {},
   "outputs": [
    {
     "data": {
      "text/plain": [
       "'RahulJanghu'"
      ]
     },
     "execution_count": 53,
     "metadata": {},
     "output_type": "execute_result"
    }
   ],
   "source": [
    "full_name"
   ]
  },
  {
   "cell_type": "code",
   "execution_count": 54,
   "id": "8620e7f6-7d06-4d30-bebe-5b1e5b1ce878",
   "metadata": {},
   "outputs": [],
   "source": [
    "new_list = l1 + l2"
   ]
  },
  {
   "cell_type": "code",
   "execution_count": 55,
   "id": "cda06dff-7399-4247-a5bf-e189a9f49b5a",
   "metadata": {},
   "outputs": [
    {
     "data": {
      "text/plain": [
       "[1, 2, 3, 4, 5, 6]"
      ]
     },
     "execution_count": 55,
     "metadata": {},
     "output_type": "execute_result"
    }
   ],
   "source": [
    "new_list"
   ]
  },
  {
   "cell_type": "code",
   "execution_count": null,
   "id": "f0792ca8-cc31-4edd-8be9-83544b05d271",
   "metadata": {},
   "outputs": [],
   "source": []
  },
  {
   "cell_type": "markdown",
   "id": "ee925ce5-5792-4d61-8d21-f8f7c0f95956",
   "metadata": {},
   "source": [
    "#### Remove data"
   ]
  },
  {
   "cell_type": "markdown",
   "id": "e0458cbd-48c0-481f-b16f-b08d99172298",
   "metadata": {},
   "source": [
    "#### list.pop()"
   ]
  },
  {
   "cell_type": "markdown",
   "id": "66bda203-67e0-4ee7-852e-24821b001bfe",
   "metadata": {},
   "source": [
    "- removes element from last by default\n",
    "- pop returns the data as well\n",
    "- pop removes data using index"
   ]
  },
  {
   "cell_type": "code",
   "execution_count": 56,
   "id": "4819e210-7605-4a65-8c6d-00019a63b640",
   "metadata": {},
   "outputs": [
    {
     "data": {
      "text/plain": [
       "[100, 150, 45, 99, 20, 99, 200, 99, 120, 153, 56, 70, 100]"
      ]
     },
     "execution_count": 56,
     "metadata": {},
     "output_type": "execute_result"
    }
   ],
   "source": [
    "runs"
   ]
  },
  {
   "cell_type": "code",
   "execution_count": 57,
   "id": "a4d387d6-87c6-4993-8ddc-81caefa6e9dc",
   "metadata": {},
   "outputs": [
    {
     "data": {
      "text/plain": [
       "\u001b[0;31mSignature:\u001b[0m \u001b[0mruns\u001b[0m\u001b[0;34m.\u001b[0m\u001b[0mpop\u001b[0m\u001b[0;34m(\u001b[0m\u001b[0mindex\u001b[0m\u001b[0;34m=\u001b[0m\u001b[0;34m-\u001b[0m\u001b[0;36m1\u001b[0m\u001b[0;34m,\u001b[0m \u001b[0;34m/\u001b[0m\u001b[0;34m)\u001b[0m\u001b[0;34m\u001b[0m\u001b[0;34m\u001b[0m\u001b[0m\n",
       "\u001b[0;31mDocstring:\u001b[0m\n",
       "Remove and return item at index (default last).\n",
       "\n",
       "Raises IndexError if list is empty or index is out of range.\n",
       "\u001b[0;31mType:\u001b[0m      builtin_function_or_method\n"
      ]
     },
     "metadata": {},
     "output_type": "display_data"
    }
   ],
   "source": [
    "runs.pop?"
   ]
  },
  {
   "cell_type": "code",
   "execution_count": 58,
   "id": "45d1cfb9-6c98-4a81-9ebb-b10851450db9",
   "metadata": {},
   "outputs": [],
   "source": [
    "deleted = runs.pop()"
   ]
  },
  {
   "cell_type": "code",
   "execution_count": 59,
   "id": "4976b494-57d0-4713-a39e-7ca74d18e487",
   "metadata": {},
   "outputs": [
    {
     "name": "stdout",
     "output_type": "stream",
     "text": [
      "100\n"
     ]
    }
   ],
   "source": [
    "print(deleted)"
   ]
  },
  {
   "cell_type": "code",
   "execution_count": null,
   "id": "8d7d77ce-c89e-4c17-b8b3-83d11bdce897",
   "metadata": {},
   "outputs": [],
   "source": []
  },
  {
   "cell_type": "code",
   "execution_count": 60,
   "id": "8505018c-4164-4543-ac63-f87ce858a503",
   "metadata": {},
   "outputs": [
    {
     "data": {
      "text/plain": [
       "45"
      ]
     },
     "execution_count": 60,
     "metadata": {},
     "output_type": "execute_result"
    }
   ],
   "source": [
    "runs.pop(2)"
   ]
  },
  {
   "cell_type": "code",
   "execution_count": 61,
   "id": "4bd3b885-87ef-416f-9b0a-53adc163ce66",
   "metadata": {},
   "outputs": [
    {
     "data": {
      "text/plain": [
       "[100, 150, 99, 20, 99, 200, 99, 120, 153, 56, 70]"
      ]
     },
     "execution_count": 61,
     "metadata": {},
     "output_type": "execute_result"
    }
   ],
   "source": [
    "runs"
   ]
  },
  {
   "cell_type": "code",
   "execution_count": 62,
   "id": "a989da6a-a8e3-4bff-88e5-434e871df80d",
   "metadata": {},
   "outputs": [
    {
     "ename": "IndexError",
     "evalue": "pop index out of range",
     "output_type": "error",
     "traceback": [
      "\u001b[0;31m---------------------------------------------------------------------------\u001b[0m",
      "\u001b[0;31mIndexError\u001b[0m                                Traceback (most recent call last)",
      "\u001b[0;32m/var/folders/t5/yhjgrjs907zfp250jyxtw54m0000gn/T/ipykernel_12022/374739897.py\u001b[0m in \u001b[0;36m<module>\u001b[0;34m\u001b[0m\n\u001b[0;32m----> 1\u001b[0;31m \u001b[0mruns\u001b[0m\u001b[0;34m.\u001b[0m\u001b[0mpop\u001b[0m\u001b[0;34m(\u001b[0m\u001b[0;36m2863\u001b[0m\u001b[0;34m)\u001b[0m\u001b[0;34m\u001b[0m\u001b[0;34m\u001b[0m\u001b[0m\n\u001b[0m",
      "\u001b[0;31mIndexError\u001b[0m: pop index out of range"
     ]
    }
   ],
   "source": [
    "runs.pop(2863)"
   ]
  },
  {
   "cell_type": "code",
   "execution_count": null,
   "id": "3e0942af-5ab2-4c32-8641-b10a70eb78c3",
   "metadata": {},
   "outputs": [],
   "source": []
  },
  {
   "cell_type": "code",
   "execution_count": 63,
   "id": "243f1e44-32ae-424d-a5a2-44ac59a23af7",
   "metadata": {},
   "outputs": [],
   "source": [
    "# list.remove(value)"
   ]
  },
  {
   "cell_type": "code",
   "execution_count": 64,
   "id": "50e5b636-9320-4ac5-a053-91a14d7b69b3",
   "metadata": {},
   "outputs": [
    {
     "data": {
      "text/plain": [
       "[100, 150, 99, 20, 99, 200, 99, 120, 153, 56, 70]"
      ]
     },
     "execution_count": 64,
     "metadata": {},
     "output_type": "execute_result"
    }
   ],
   "source": [
    "runs"
   ]
  },
  {
   "cell_type": "code",
   "execution_count": 65,
   "id": "b7c412cc-be9a-482b-9daa-e28831743ccc",
   "metadata": {},
   "outputs": [
    {
     "data": {
      "text/plain": [
       "\u001b[0;31mSignature:\u001b[0m \u001b[0mruns\u001b[0m\u001b[0;34m.\u001b[0m\u001b[0mremove\u001b[0m\u001b[0;34m(\u001b[0m\u001b[0mvalue\u001b[0m\u001b[0;34m,\u001b[0m \u001b[0;34m/\u001b[0m\u001b[0;34m)\u001b[0m\u001b[0;34m\u001b[0m\u001b[0;34m\u001b[0m\u001b[0m\n",
       "\u001b[0;31mDocstring:\u001b[0m\n",
       "Remove first occurrence of value.\n",
       "\n",
       "Raises ValueError if the value is not present.\n",
       "\u001b[0;31mType:\u001b[0m      builtin_function_or_method\n"
      ]
     },
     "metadata": {},
     "output_type": "display_data"
    }
   ],
   "source": [
    "runs.remove?"
   ]
  },
  {
   "cell_type": "code",
   "execution_count": 66,
   "id": "f6f06539-2ee0-4eca-9424-1b4b14e783b8",
   "metadata": {},
   "outputs": [],
   "source": [
    "deleted = runs.remove(99)"
   ]
  },
  {
   "cell_type": "code",
   "execution_count": 67,
   "id": "afec8b0c-1140-4df3-adb2-880ffcfc4e2c",
   "metadata": {},
   "outputs": [
    {
     "name": "stdout",
     "output_type": "stream",
     "text": [
      "None\n"
     ]
    }
   ],
   "source": [
    "print(deleted)"
   ]
  },
  {
   "cell_type": "code",
   "execution_count": 68,
   "id": "f6db41aa-a5a3-4e04-a49e-76ce987ed18a",
   "metadata": {},
   "outputs": [
    {
     "data": {
      "text/plain": [
       "[100, 150, 20, 99, 200, 99, 120, 153, 56, 70]"
      ]
     },
     "execution_count": 68,
     "metadata": {},
     "output_type": "execute_result"
    }
   ],
   "source": [
    "runs"
   ]
  },
  {
   "cell_type": "code",
   "execution_count": 69,
   "id": "87201494-739e-4a61-a206-16c52250502d",
   "metadata": {},
   "outputs": [
    {
     "ename": "ValueError",
     "evalue": "list.remove(x): x not in list",
     "output_type": "error",
     "traceback": [
      "\u001b[0;31m---------------------------------------------------------------------------\u001b[0m",
      "\u001b[0;31mValueError\u001b[0m                                Traceback (most recent call last)",
      "\u001b[0;32m/var/folders/t5/yhjgrjs907zfp250jyxtw54m0000gn/T/ipykernel_12022/439952129.py\u001b[0m in \u001b[0;36m<module>\u001b[0;34m\u001b[0m\n\u001b[0;32m----> 1\u001b[0;31m \u001b[0mruns\u001b[0m\u001b[0;34m.\u001b[0m\u001b[0mremove\u001b[0m\u001b[0;34m(\u001b[0m\u001b[0;36m83613\u001b[0m\u001b[0;34m)\u001b[0m\u001b[0;34m\u001b[0m\u001b[0;34m\u001b[0m\u001b[0m\n\u001b[0m",
      "\u001b[0;31mValueError\u001b[0m: list.remove(x): x not in list"
     ]
    }
   ],
   "source": [
    "runs.remove(83613)"
   ]
  },
  {
   "cell_type": "code",
   "execution_count": null,
   "id": "65568667-7315-44ab-b622-c52a7dc6f3d0",
   "metadata": {},
   "outputs": [],
   "source": []
  },
  {
   "cell_type": "code",
   "execution_count": null,
   "id": "94357b80-6c58-44f6-8bc3-ff842a078d3a",
   "metadata": {},
   "outputs": [],
   "source": []
  },
  {
   "cell_type": "code",
   "execution_count": 70,
   "id": "32a8cc8c-2871-47fd-9dac-8ac081964232",
   "metadata": {},
   "outputs": [],
   "source": [
    "# list.count()"
   ]
  },
  {
   "cell_type": "code",
   "execution_count": 71,
   "id": "76fb6c63-7a9b-46e2-bc9a-81d2191da22a",
   "metadata": {},
   "outputs": [
    {
     "data": {
      "text/plain": [
       "[100, 150, 20, 99, 200, 99, 120, 153, 56, 70]"
      ]
     },
     "execution_count": 71,
     "metadata": {},
     "output_type": "execute_result"
    }
   ],
   "source": [
    "runs"
   ]
  },
  {
   "cell_type": "code",
   "execution_count": 73,
   "id": "841f0212-4fde-46ad-8f54-685eb8ac9a3d",
   "metadata": {},
   "outputs": [
    {
     "data": {
      "text/plain": [
       "2"
      ]
     },
     "execution_count": 73,
     "metadata": {},
     "output_type": "execute_result"
    }
   ],
   "source": [
    "runs.count(99)"
   ]
  },
  {
   "cell_type": "code",
   "execution_count": 74,
   "id": "3e77d947-b148-4489-8338-66ac50916b65",
   "metadata": {},
   "outputs": [
    {
     "data": {
      "text/plain": [
       "0"
      ]
     },
     "execution_count": 74,
     "metadata": {},
     "output_type": "execute_result"
    }
   ],
   "source": [
    "runs.count(8623)"
   ]
  },
  {
   "cell_type": "code",
   "execution_count": null,
   "id": "8d14adf8-3bb2-4243-bf8d-9135540967a4",
   "metadata": {},
   "outputs": [],
   "source": []
  },
  {
   "cell_type": "code",
   "execution_count": null,
   "id": "84466151-9237-47f6-8ec7-4e03718a0bde",
   "metadata": {},
   "outputs": [],
   "source": []
  },
  {
   "cell_type": "markdown",
   "id": "a145d755-3ecb-4739-bb7a-40d8c50a8578",
   "metadata": {},
   "source": [
    "### Membership Operator\n",
    "- in operator"
   ]
  },
  {
   "cell_type": "code",
   "execution_count": 75,
   "id": "b872cc84-6f53-4123-ab48-e12157af3ee2",
   "metadata": {},
   "outputs": [
    {
     "data": {
      "text/plain": [
       "[100, 150, 20, 99, 200, 99, 120, 153, 56, 70]"
      ]
     },
     "execution_count": 75,
     "metadata": {},
     "output_type": "execute_result"
    }
   ],
   "source": [
    "runs"
   ]
  },
  {
   "cell_type": "code",
   "execution_count": 76,
   "id": "fe0c267f-2189-4995-a739-20a07ee54b65",
   "metadata": {},
   "outputs": [
    {
     "name": "stdout",
     "output_type": "stream",
     "text": [
      "False\n"
     ]
    }
   ],
   "source": [
    "print(8623 in runs)"
   ]
  },
  {
   "cell_type": "code",
   "execution_count": 77,
   "id": "38f6fb9f-29cc-4c8a-9028-09bbe8bbf5a1",
   "metadata": {},
   "outputs": [
    {
     "name": "stdout",
     "output_type": "stream",
     "text": [
      "True\n"
     ]
    }
   ],
   "source": [
    "print(99 in runs)"
   ]
  },
  {
   "cell_type": "code",
   "execution_count": null,
   "id": "48a047d3-a7f6-486d-88ea-4c4017aba661",
   "metadata": {},
   "outputs": [],
   "source": []
  },
  {
   "cell_type": "code",
   "execution_count": null,
   "id": "8edf29dd-9e79-40a8-8704-62e8753b490b",
   "metadata": {},
   "outputs": [],
   "source": []
  },
  {
   "cell_type": "code",
   "execution_count": null,
   "id": "ca1979fa-1fa1-4a79-ac73-729cbdf56ef0",
   "metadata": {},
   "outputs": [],
   "source": []
  },
  {
   "cell_type": "code",
   "execution_count": null,
   "id": "08f137c6-beb4-4cae-b662-600725b42a71",
   "metadata": {},
   "outputs": [],
   "source": []
  },
  {
   "cell_type": "markdown",
   "id": "5dfa0957-2b4c-4f6d-a5c9-0eebb7f94515",
   "metadata": {},
   "source": [
    "### Iterating a list"
   ]
  },
  {
   "cell_type": "code",
   "execution_count": 78,
   "id": "fe2c9109-975c-43de-afcb-578fdaf2dc0b",
   "metadata": {},
   "outputs": [],
   "source": [
    "# Lists are iterable as well"
   ]
  },
  {
   "cell_type": "code",
   "execution_count": 79,
   "id": "8e308669-3010-46e7-918f-3b81f474eb8b",
   "metadata": {},
   "outputs": [],
   "source": [
    "# for iterator in iterable:\n",
    "#     Do something"
   ]
  },
  {
   "cell_type": "code",
   "execution_count": 82,
   "id": "dd16c7dd-1f90-430e-8f2c-55d6f96339c8",
   "metadata": {},
   "outputs": [
    {
     "name": "stdout",
     "output_type": "stream",
     "text": [
      "['__bool__', '__class__', '__contains__', '__delattr__', '__dir__', '__doc__', '__eq__', '__format__', '__ge__', '__getattribute__', '__getitem__', '__gt__', '__hash__', '__init__', '__init_subclass__', '__iter__', '__le__', '__len__', '__lt__', '__ne__', '__new__', '__reduce__', '__reduce_ex__', '__repr__', '__reversed__', '__setattr__', '__sizeof__', '__str__', '__subclasshook__', 'count', 'index', 'start', 'step', 'stop']\n"
     ]
    }
   ],
   "source": [
    "print(dir(range(5)))"
   ]
  },
  {
   "cell_type": "code",
   "execution_count": null,
   "id": "b3aae8e1-6f09-46ea-b789-eff894e6c07e",
   "metadata": {},
   "outputs": [],
   "source": []
  },
  {
   "cell_type": "code",
   "execution_count": 84,
   "id": "41d116c4-d980-42d3-8763-4e091bf67d8c",
   "metadata": {},
   "outputs": [
    {
     "name": "stdout",
     "output_type": "stream",
     "text": [
      "['__add__', '__class__', '__class_getitem__', '__contains__', '__delattr__', '__delitem__', '__dir__', '__doc__', '__eq__', '__format__', '__ge__', '__getattribute__', '__getitem__', '__gt__', '__hash__', '__iadd__', '__imul__', '__init__', '__init_subclass__', '__iter__', '__le__', '__len__', '__lt__', '__mul__', '__ne__', '__new__', '__reduce__', '__reduce_ex__', '__repr__', '__reversed__', '__rmul__', '__setattr__', '__setitem__', '__sizeof__', '__str__', '__subclasshook__', 'append', 'clear', 'copy', 'count', 'extend', 'index', 'insert', 'pop', 'remove', 'reverse', 'sort']\n"
     ]
    }
   ],
   "source": [
    "print(dir(runs))"
   ]
  },
  {
   "cell_type": "code",
   "execution_count": null,
   "id": "eaa26d37-ebdc-4596-877b-129046446af5",
   "metadata": {},
   "outputs": [],
   "source": []
  },
  {
   "cell_type": "code",
   "execution_count": 85,
   "id": "aa6de27a-b5c7-41d2-acea-5bf62050f60a",
   "metadata": {},
   "outputs": [
    {
     "data": {
      "text/plain": [
       "[100, 150, 20, 99, 200, 99, 120, 153, 56, 70]"
      ]
     },
     "execution_count": 85,
     "metadata": {},
     "output_type": "execute_result"
    }
   ],
   "source": [
    "runs"
   ]
  },
  {
   "cell_type": "code",
   "execution_count": 86,
   "id": "584b9ca3-b97a-46e8-8fc2-b02ed863bbdf",
   "metadata": {},
   "outputs": [
    {
     "name": "stdout",
     "output_type": "stream",
     "text": [
      "100\n",
      "150\n",
      "20\n",
      "99\n",
      "200\n",
      "99\n",
      "120\n",
      "153\n",
      "56\n",
      "70\n"
     ]
    }
   ],
   "source": [
    "for i in runs:\n",
    "    print(i)"
   ]
  },
  {
   "cell_type": "code",
   "execution_count": 87,
   "id": "2c45866b-f153-4c7c-9923-4ba9dae456af",
   "metadata": {},
   "outputs": [
    {
     "name": "stdout",
     "output_type": "stream",
     "text": [
      "100 150 20 99 200 99 120 153 56 70 "
     ]
    }
   ],
   "source": [
    "for i in runs:\n",
    "    print(i, end=\" \")"
   ]
  },
  {
   "cell_type": "code",
   "execution_count": null,
   "id": "e18d6d30-ad16-4e3f-97f5-5a8588271499",
   "metadata": {},
   "outputs": [],
   "source": []
  },
  {
   "cell_type": "code",
   "execution_count": null,
   "id": "aab2c304-e694-4917-87e4-f8a6b7dfdc5e",
   "metadata": {},
   "outputs": [],
   "source": []
  },
  {
   "cell_type": "markdown",
   "id": "acb947fc-2332-4515-b49a-ad0de2ef6db2",
   "metadata": {},
   "source": [
    "#### Iterating a list using range of indexes"
   ]
  },
  {
   "cell_type": "code",
   "execution_count": 88,
   "id": "46d3331f-dfc4-4a1e-950d-eb629af67c73",
   "metadata": {},
   "outputs": [
    {
     "data": {
      "text/plain": [
       "[100, 150, 20, 99, 200, 99, 120, 153, 56, 70]"
      ]
     },
     "execution_count": 88,
     "metadata": {},
     "output_type": "execute_result"
    }
   ],
   "source": [
    "runs"
   ]
  },
  {
   "cell_type": "code",
   "execution_count": 89,
   "id": "3b7f7237-2ef2-4bea-b25c-3f17872b5954",
   "metadata": {},
   "outputs": [
    {
     "data": {
      "text/plain": [
       "10"
      ]
     },
     "execution_count": 89,
     "metadata": {},
     "output_type": "execute_result"
    }
   ],
   "source": [
    "len(runs)"
   ]
  },
  {
   "cell_type": "code",
   "execution_count": 93,
   "id": "c5f65872-0582-46be-9c71-a06749f8d3d1",
   "metadata": {},
   "outputs": [
    {
     "data": {
      "text/plain": [
       "99"
      ]
     },
     "execution_count": 93,
     "metadata": {},
     "output_type": "execute_result"
    }
   ],
   "source": [
    "runs[3]"
   ]
  },
  {
   "cell_type": "code",
   "execution_count": 96,
   "id": "4056b7e2-4f67-4942-b17e-89b6933553e4",
   "metadata": {},
   "outputs": [
    {
     "name": "stdout",
     "output_type": "stream",
     "text": [
      "10\n"
     ]
    }
   ],
   "source": [
    "n = len(runs)\n",
    "print(n)"
   ]
  },
  {
   "cell_type": "code",
   "execution_count": 95,
   "id": "c250ea24-179b-4fe7-b60a-e369df8a1ae3",
   "metadata": {},
   "outputs": [
    {
     "name": "stdout",
     "output_type": "stream",
     "text": [
      "0\n",
      "1\n",
      "2\n",
      "3\n",
      "4\n",
      "5\n",
      "6\n",
      "7\n",
      "8\n",
      "9\n"
     ]
    }
   ],
   "source": [
    "for i in range(n):\n",
    "    print(i)"
   ]
  },
  {
   "cell_type": "code",
   "execution_count": 97,
   "id": "95e13500-8e8b-4193-b5a3-d507b9a4e7d4",
   "metadata": {},
   "outputs": [
    {
     "data": {
      "text/plain": [
       "[100, 150, 20, 99, 200, 99, 120, 153, 56, 70]"
      ]
     },
     "execution_count": 97,
     "metadata": {},
     "output_type": "execute_result"
    }
   ],
   "source": [
    "runs"
   ]
  },
  {
   "cell_type": "code",
   "execution_count": 99,
   "id": "9dd71933-2def-4066-857d-2a9309215622",
   "metadata": {},
   "outputs": [
    {
     "name": "stdout",
     "output_type": "stream",
     "text": [
      "0 100\n",
      "1 150\n",
      "2 20\n",
      "3 99\n",
      "4 200\n",
      "5 99\n",
      "6 120\n",
      "7 153\n",
      "8 56\n",
      "9 70\n"
     ]
    }
   ],
   "source": [
    "for i in range(n):\n",
    "    print(i, runs[i])"
   ]
  },
  {
   "cell_type": "code",
   "execution_count": 100,
   "id": "b5b82195-a5c2-4ff0-bf96-8dfe5290077b",
   "metadata": {},
   "outputs": [
    {
     "name": "stdout",
     "output_type": "stream",
     "text": [
      "0 100\n",
      "1 150\n",
      "2 20\n",
      "3 99\n",
      "4 200\n",
      "5 99\n",
      "6 120\n",
      "7 153\n",
      "8 56\n",
      "9 70\n"
     ]
    }
   ],
   "source": [
    "for i in range(len(runs)):\n",
    "    print(i, runs[i])"
   ]
  },
  {
   "cell_type": "code",
   "execution_count": null,
   "id": "af49f0bb-fe52-4531-bec2-3a73715ed6c0",
   "metadata": {},
   "outputs": [],
   "source": []
  },
  {
   "cell_type": "code",
   "execution_count": 101,
   "id": "4d1ca988-84ac-4542-bf3a-4d6a4c947187",
   "metadata": {},
   "outputs": [],
   "source": [
    "# Quiz"
   ]
  },
  {
   "cell_type": "code",
   "execution_count": 102,
   "id": "321dbfc9-db53-4576-8c7e-19206b506c46",
   "metadata": {},
   "outputs": [
    {
     "name": "stdout",
     "output_type": "stream",
     "text": [
      "5 4 3 2 1 "
     ]
    }
   ],
   "source": [
    "my_list = [1, 2, 3, 4, 5]\n",
    "i = -1\n",
    "while i >= -5:\n",
    "    print(my_list[i], end=\" \")\n",
    "    i -= 1"
   ]
  },
  {
   "cell_type": "code",
   "execution_count": null,
   "id": "62a06b99-0301-4507-ae61-e8e3411edbfc",
   "metadata": {},
   "outputs": [],
   "source": []
  },
  {
   "cell_type": "markdown",
   "id": "ddbc306a-fd68-4fe8-83a2-1f6668ff24ce",
   "metadata": {},
   "source": [
    "#### Total runs scored by Sachin in his career"
   ]
  },
  {
   "cell_type": "code",
   "execution_count": 103,
   "id": "370fad40-2a2d-41ea-a744-13689194de1e",
   "metadata": {},
   "outputs": [],
   "source": [
    "# Sum"
   ]
  },
  {
   "cell_type": "code",
   "execution_count": 104,
   "id": "f422a9af-9bf4-4790-aa9d-77906a8734c2",
   "metadata": {},
   "outputs": [
    {
     "data": {
      "text/plain": [
       "[100, 150, 20, 99, 200, 99, 120, 153, 56, 70]"
      ]
     },
     "execution_count": 104,
     "metadata": {},
     "output_type": "execute_result"
    }
   ],
   "source": [
    "runs"
   ]
  },
  {
   "cell_type": "code",
   "execution_count": 105,
   "id": "e2169460-ce30-43e4-be0d-bb4ff6630802",
   "metadata": {},
   "outputs": [
    {
     "name": "stdout",
     "output_type": "stream",
     "text": [
      "100\n",
      "150\n",
      "20\n",
      "99\n",
      "200\n",
      "99\n",
      "120\n",
      "153\n",
      "56\n",
      "70\n"
     ]
    }
   ],
   "source": [
    "for i in runs:\n",
    "    print(i)"
   ]
  },
  {
   "cell_type": "code",
   "execution_count": 106,
   "id": "a8673cba-bccd-4d82-ad8b-26f1b98a38fd",
   "metadata": {},
   "outputs": [
    {
     "name": "stdout",
     "output_type": "stream",
     "text": [
      "1067\n"
     ]
    }
   ],
   "source": [
    "total_runs = 0\n",
    "\n",
    "for i in runs:\n",
    "    total_runs += i\n",
    "    \n",
    "print(total_runs)"
   ]
  },
  {
   "cell_type": "code",
   "execution_count": null,
   "id": "4e77df17-e8a7-4459-818c-0f90da120254",
   "metadata": {},
   "outputs": [],
   "source": []
  },
  {
   "cell_type": "code",
   "execution_count": 107,
   "id": "4cbe8645-8b63-4a7c-8be8-b03f95e511d2",
   "metadata": {},
   "outputs": [
    {
     "data": {
      "text/plain": [
       "1067"
      ]
     },
     "execution_count": 107,
     "metadata": {},
     "output_type": "execute_result"
    }
   ],
   "source": [
    "sum(runs)"
   ]
  },
  {
   "cell_type": "code",
   "execution_count": null,
   "id": "0325def3-b332-464c-8b0b-606e4a884710",
   "metadata": {},
   "outputs": [],
   "source": []
  },
  {
   "cell_type": "code",
   "execution_count": 108,
   "id": "15bdbd0d-9177-49d2-aa3b-9f4c28cc9925",
   "metadata": {},
   "outputs": [],
   "source": [
    "# Find average runs scored by Sachin in his career"
   ]
  },
  {
   "cell_type": "code",
   "execution_count": 109,
   "id": "36e1cf8d-ec73-4a4c-a691-e60ee9cd0fdf",
   "metadata": {},
   "outputs": [],
   "source": [
    "# average = total_runs / total_matches"
   ]
  },
  {
   "cell_type": "code",
   "execution_count": 110,
   "id": "51cdfe95-bf42-4ce8-9112-787ce00e8b6d",
   "metadata": {},
   "outputs": [
    {
     "data": {
      "text/plain": [
       "[100, 150, 20, 99, 200, 99, 120, 153, 56, 70]"
      ]
     },
     "execution_count": 110,
     "metadata": {},
     "output_type": "execute_result"
    }
   ],
   "source": [
    "runs"
   ]
  },
  {
   "cell_type": "code",
   "execution_count": 111,
   "id": "7cbd6630-c91a-4b9b-9070-d6bd1d2f5ee0",
   "metadata": {},
   "outputs": [],
   "source": [
    "average = sum(runs) / len(runs)"
   ]
  },
  {
   "cell_type": "code",
   "execution_count": 113,
   "id": "0a5eb355-1b7d-4479-85cb-72a8ac74b8d2",
   "metadata": {},
   "outputs": [
    {
     "data": {
      "text/plain": [
       "106.7"
      ]
     },
     "execution_count": 113,
     "metadata": {},
     "output_type": "execute_result"
    }
   ],
   "source": [
    "average"
   ]
  },
  {
   "cell_type": "code",
   "execution_count": null,
   "id": "2a24252c-7602-43e5-85c5-0c1bb650063a",
   "metadata": {},
   "outputs": [],
   "source": []
  },
  {
   "cell_type": "code",
   "execution_count": 114,
   "id": "5348e6fb-fd6f-46a1-b41e-4a79e90a8472",
   "metadata": {},
   "outputs": [],
   "source": [
    "# Min, Max"
   ]
  },
  {
   "cell_type": "code",
   "execution_count": 115,
   "id": "f721c5b0-47a7-499a-a346-cb924b16fbeb",
   "metadata": {},
   "outputs": [
    {
     "data": {
      "text/plain": [
       "[100, 150, 20, 99, 200, 99, 120, 153, 56, 70]"
      ]
     },
     "execution_count": 115,
     "metadata": {},
     "output_type": "execute_result"
    }
   ],
   "source": [
    "runs"
   ]
  },
  {
   "cell_type": "code",
   "execution_count": 116,
   "id": "d5d6d0d8-46f4-4e57-b55d-18da3a417297",
   "metadata": {},
   "outputs": [
    {
     "data": {
      "text/plain": [
       "20"
      ]
     },
     "execution_count": 116,
     "metadata": {},
     "output_type": "execute_result"
    }
   ],
   "source": [
    "min(runs)"
   ]
  },
  {
   "cell_type": "code",
   "execution_count": 117,
   "id": "702c5180-aebb-41ac-91f1-1592d66f0d02",
   "metadata": {},
   "outputs": [
    {
     "data": {
      "text/plain": [
       "200"
      ]
     },
     "execution_count": 117,
     "metadata": {},
     "output_type": "execute_result"
    }
   ],
   "source": [
    "max(runs)"
   ]
  },
  {
   "cell_type": "code",
   "execution_count": null,
   "id": "8763b2e5-ce70-4c53-bba4-e46a4772666e",
   "metadata": {},
   "outputs": [],
   "source": []
  },
  {
   "cell_type": "code",
   "execution_count": 118,
   "id": "58c5682f-0e96-4803-920d-1ba6867b8b83",
   "metadata": {},
   "outputs": [],
   "source": [
    "# HW: Find min and max of runs without using inbuilt functions"
   ]
  },
  {
   "cell_type": "code",
   "execution_count": null,
   "id": "0f162ccc-b8c5-4941-b6fb-a984ec76e22f",
   "metadata": {},
   "outputs": [],
   "source": []
  },
  {
   "cell_type": "code",
   "execution_count": null,
   "id": "dbbfb24b-5ed2-44f7-9b6d-68a0ac7c237d",
   "metadata": {},
   "outputs": [],
   "source": []
  },
  {
   "cell_type": "markdown",
   "id": "c3faad30-326e-4c9d-919b-56ad69751fa7",
   "metadata": {},
   "source": [
    "#### Print the runs scored by Sachin in even index matches"
   ]
  },
  {
   "cell_type": "code",
   "execution_count": 119,
   "id": "b8e44fcf-8f48-44c0-af19-fabf9d0d8b5d",
   "metadata": {},
   "outputs": [
    {
     "data": {
      "text/plain": [
       "[100, 150, 20, 99, 200, 99, 120, 153, 56, 70]"
      ]
     },
     "execution_count": 119,
     "metadata": {},
     "output_type": "execute_result"
    }
   ],
   "source": [
    "runs"
   ]
  },
  {
   "cell_type": "code",
   "execution_count": 121,
   "id": "3bd1f12c-2557-4a27-a982-81f5f1deb80a",
   "metadata": {},
   "outputs": [],
   "source": [
    "# 100, 20, 200, 120, 56"
   ]
  },
  {
   "cell_type": "code",
   "execution_count": null,
   "id": "17bf979c-a7a2-4c27-89e2-7e0af48c7e84",
   "metadata": {},
   "outputs": [],
   "source": []
  },
  {
   "cell_type": "code",
   "execution_count": 122,
   "id": "d854541e-82f0-4b36-8290-c50e01a9ac56",
   "metadata": {},
   "outputs": [],
   "source": [
    "# Following code is giving us even scores by Sachin"
   ]
  },
  {
   "cell_type": "code",
   "execution_count": 123,
   "id": "7339835d-c107-4cda-bdda-f63fddf06a68",
   "metadata": {},
   "outputs": [
    {
     "name": "stdout",
     "output_type": "stream",
     "text": [
      "100\n",
      "150\n",
      "20\n",
      "200\n",
      "120\n",
      "56\n",
      "70\n"
     ]
    }
   ],
   "source": [
    "for i in runs:\n",
    "    if i % 2 == 0:\n",
    "        print(i)"
   ]
  },
  {
   "cell_type": "code",
   "execution_count": null,
   "id": "e2ea60e0-9f90-4a37-b8b5-c02e25ed1600",
   "metadata": {},
   "outputs": [],
   "source": []
  },
  {
   "cell_type": "code",
   "execution_count": 124,
   "id": "72750038-b1bc-45fe-adbe-f4f645690fb5",
   "metadata": {},
   "outputs": [
    {
     "name": "stdout",
     "output_type": "stream",
     "text": [
      "0\n",
      "1\n",
      "2\n",
      "3\n",
      "4\n",
      "5\n",
      "6\n",
      "7\n",
      "8\n",
      "9\n"
     ]
    }
   ],
   "source": [
    "for i in range(len(runs)):\n",
    "    print(i)"
   ]
  },
  {
   "cell_type": "code",
   "execution_count": 125,
   "id": "de3652f6-c4f4-43bc-aaa5-cd13c5ebf5ec",
   "metadata": {},
   "outputs": [
    {
     "name": "stdout",
     "output_type": "stream",
     "text": [
      "0\n",
      "2\n",
      "4\n",
      "6\n",
      "8\n"
     ]
    }
   ],
   "source": [
    "for i in range(len(runs)):\n",
    "    if i % 2 == 0:\n",
    "        print(i)"
   ]
  },
  {
   "cell_type": "code",
   "execution_count": 127,
   "id": "77720296-5bc8-45b7-90d2-d78b8090ea9c",
   "metadata": {},
   "outputs": [
    {
     "data": {
      "text/plain": [
       "[100, 150, 20, 99, 200, 99, 120, 153, 56, 70]"
      ]
     },
     "execution_count": 127,
     "metadata": {},
     "output_type": "execute_result"
    }
   ],
   "source": [
    "runs"
   ]
  },
  {
   "cell_type": "code",
   "execution_count": 126,
   "id": "45c0f7a1-fb0d-4a08-a807-d94d1ef94493",
   "metadata": {},
   "outputs": [
    {
     "name": "stdout",
     "output_type": "stream",
     "text": [
      "0 100\n",
      "2 20\n",
      "4 200\n",
      "6 120\n",
      "8 56\n"
     ]
    }
   ],
   "source": [
    "for i in range(len(runs)):\n",
    "    if i % 2 == 0:\n",
    "        print(i, runs[i])"
   ]
  },
  {
   "cell_type": "code",
   "execution_count": null,
   "id": "82bab066-b9f3-4169-9408-0942c1e47016",
   "metadata": {},
   "outputs": [],
   "source": []
  },
  {
   "cell_type": "code",
   "execution_count": null,
   "id": "2e2ce970-33cc-4707-9c1d-29b53ab4aceb",
   "metadata": {},
   "outputs": [],
   "source": []
  },
  {
   "cell_type": "code",
   "execution_count": null,
   "id": "69636c2e-7a14-4f47-a856-eb2f056c7b95",
   "metadata": {},
   "outputs": [],
   "source": []
  },
  {
   "cell_type": "markdown",
   "id": "6858831d-fe25-41ae-8810-4fbdb24e656b",
   "metadata": {},
   "source": [
    "### Taking list of numbers as input"
   ]
  },
  {
   "cell_type": "markdown",
   "id": "2b094a9a-89b5-4647-a72b-5f32ace8dde5",
   "metadata": {},
   "source": [
    "- Getting the number of elements\n",
    "- Initializing an empty list\n",
    "- Use a loop\n",
    "- Get input for each element"
   ]
  },
  {
   "cell_type": "code",
   "execution_count": 128,
   "id": "aa956a2f-17c4-4778-ad18-1ac375477304",
   "metadata": {},
   "outputs": [
    {
     "name": "stdin",
     "output_type": "stream",
     "text": [
      "How many inputs 5\n",
      "Name the element 20\n",
      "Name the element 76\n",
      "Name the element 100\n",
      "Name the element 7\n",
      "Name the element 90\n"
     ]
    },
    {
     "name": "stdout",
     "output_type": "stream",
     "text": [
      "[20, 76, 100, 7, 90]\n"
     ]
    }
   ],
   "source": [
    "# 1. How many elements do we need in our list\n",
    "n = int(input(\"How many inputs\"))\n",
    "\n",
    "# 2. Initialize an empty list\n",
    "my_list = []\n",
    "\n",
    "\n",
    "# 3. Run a loop\n",
    "for i in range(n):\n",
    "    # Take input input from user and add it in list\n",
    "    ele = int(input(\"Name the element\"))\n",
    "    my_list.append(ele)\n",
    "    \n",
    "    \n",
    "print(my_list)"
   ]
  },
  {
   "cell_type": "code",
   "execution_count": null,
   "id": "dbf33220-e6ef-4e60-b224-6ac8a4fbd03a",
   "metadata": {},
   "outputs": [],
   "source": []
  },
  {
   "cell_type": "code",
   "execution_count": 129,
   "id": "3f7737ae-f08b-4e6c-abf2-37814f80727e",
   "metadata": {},
   "outputs": [
    {
     "name": "stdin",
     "output_type": "stream",
     "text": [
      " 5\n",
      " 20\n",
      " 50\n",
      " 70\n",
      " 7\n",
      " 76\n"
     ]
    },
    {
     "name": "stdout",
     "output_type": "stream",
     "text": [
      "[20, 50, 70, 7, 76]\n"
     ]
    }
   ],
   "source": [
    "# 1. How many elements do we need in our list\n",
    "n = int(input())\n",
    "\n",
    "# 2. Initialize an empty list\n",
    "my_list = []\n",
    "\n",
    "\n",
    "# 3. Run a loop\n",
    "for i in range(n):\n",
    "    # Take input input from user and add it in list\n",
    "    ele = int(input())\n",
    "    my_list.append(ele)\n",
    "    \n",
    "    \n",
    "print(my_list)"
   ]
  },
  {
   "cell_type": "code",
   "execution_count": null,
   "id": "99ee481a-02e2-42fb-bc5f-fcd117a6a4ec",
   "metadata": {},
   "outputs": [],
   "source": []
  },
  {
   "cell_type": "code",
   "execution_count": 130,
   "id": "35b52113-3742-43e0-bdf6-0b59aa3c9524",
   "metadata": {},
   "outputs": [],
   "source": [
    "arr = [1, 2, 1, 2, 4, 4]"
   ]
  },
  {
   "cell_type": "code",
   "execution_count": 133,
   "id": "2dd360e7-990d-493d-9751-6e915ca0349c",
   "metadata": {},
   "outputs": [
    {
     "name": "stdout",
     "output_type": "stream",
     "text": [
      "4\n"
     ]
    }
   ],
   "source": [
    "for i in range(len(arr) - 1):\n",
    "    if arr[i] == arr[i + 1]:\n",
    "        print(arr[i])"
   ]
  },
  {
   "cell_type": "code",
   "execution_count": null,
   "id": "300fe7b2-59e3-448e-a465-34da457d7f57",
   "metadata": {},
   "outputs": [],
   "source": []
  },
  {
   "cell_type": "code",
   "execution_count": null,
   "id": "b62e4534-2419-4924-85a5-607fcf18dc25",
   "metadata": {},
   "outputs": [],
   "source": []
  },
  {
   "cell_type": "code",
   "execution_count": null,
   "id": "d257504f-ea15-4e0c-8f8d-6f3ed53e0950",
   "metadata": {},
   "outputs": [],
   "source": []
  },
  {
   "cell_type": "code",
   "execution_count": null,
   "id": "394dace8-7280-476f-970e-c5c02eb53222",
   "metadata": {},
   "outputs": [],
   "source": []
  },
  {
   "cell_type": "code",
   "execution_count": null,
   "id": "d85c5898-37ca-477c-90bf-9be75b32ab99",
   "metadata": {},
   "outputs": [],
   "source": []
  }
 ],
 "metadata": {
  "kernelspec": {
   "display_name": "Python 3 (ipykernel)",
   "language": "python",
   "name": "python3"
  },
  "language_info": {
   "codemirror_mode": {
    "name": "ipython",
    "version": 3
   },
   "file_extension": ".py",
   "mimetype": "text/x-python",
   "name": "python",
   "nbconvert_exporter": "python",
   "pygments_lexer": "ipython3",
   "version": "3.9.7"
  }
 },
 "nbformat": 4,
 "nbformat_minor": 5
}
