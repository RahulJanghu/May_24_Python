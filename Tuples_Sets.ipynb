{
 "cells": [
  {
   "cell_type": "markdown",
   "id": "0aed686b-f06a-4b8a-8efb-4d9730117511",
   "metadata": {},
   "source": [
    "## Tuples\n",
    "- Tuples are used to hold together multiple objects. Think of them as similar to lists, but without the extensive functionality that the list class gives you. One major feature of tuples is that they are immutable like strings i.e. you cannot modify tuples.\n",
    "\n",
    "- Tuples are defined by specifying items separated by commas within an optional pair of parentheses.\n",
    "\n",
    "- Tuples are usually used in cases where a statement or a user-defined function can safely assume that the collection of values i.e. the tuple of values used will **not change**."
   ]
  },
  {
   "cell_type": "code",
   "execution_count": 1,
   "id": "0ae8ded0-bf8b-4d6a-bc0e-bd87dbf9e896",
   "metadata": {},
   "outputs": [],
   "source": [
    "# The intern at ISRO"
   ]
  },
  {
   "cell_type": "code",
   "execution_count": 6,
   "id": "ba31866c-9be8-41d2-b4cc-90fde61c2594",
   "metadata": {},
   "outputs": [],
   "source": [
    "planets = [\"Mercury\", \"Venus\", \"Earth\", \"Mars\", \"Jupiter\", \"Saturn\"]"
   ]
  },
  {
   "cell_type": "code",
   "execution_count": 7,
   "id": "6166014c-4277-4657-95a2-c43802dccbf0",
   "metadata": {},
   "outputs": [
    {
     "data": {
      "text/plain": [
       "'Earth'"
      ]
     },
     "execution_count": 7,
     "metadata": {},
     "output_type": "execute_result"
    }
   ],
   "source": [
    "planets[2]"
   ]
  },
  {
   "cell_type": "code",
   "execution_count": 8,
   "id": "93a85f67-44eb-401b-8256-f053ac1373bf",
   "metadata": {},
   "outputs": [
    {
     "name": "stdout",
     "output_type": "stream",
     "text": [
      "140516841986944\n"
     ]
    }
   ],
   "source": [
    "print(id(planets))"
   ]
  },
  {
   "cell_type": "code",
   "execution_count": 9,
   "id": "dfb2340f-689a-4ba2-8674-f3ef4b7e6783",
   "metadata": {},
   "outputs": [],
   "source": [
    "planets[2] = 'Rahul'"
   ]
  },
  {
   "cell_type": "code",
   "execution_count": 10,
   "id": "51611d7a-41e0-4d7d-9d28-5e8c9de99050",
   "metadata": {},
   "outputs": [
    {
     "data": {
      "text/plain": [
       "['Mercury', 'Venus', 'Rahul', 'Mars', 'Jupiter', 'Saturn']"
      ]
     },
     "execution_count": 10,
     "metadata": {},
     "output_type": "execute_result"
    }
   ],
   "source": [
    "planets"
   ]
  },
  {
   "cell_type": "code",
   "execution_count": 11,
   "id": "e681b081-2e20-4102-97bd-08b753787b2e",
   "metadata": {},
   "outputs": [
    {
     "name": "stdout",
     "output_type": "stream",
     "text": [
      "140516841986944\n"
     ]
    }
   ],
   "source": [
    "print(id(planets))"
   ]
  },
  {
   "cell_type": "code",
   "execution_count": 12,
   "id": "8ce413b5-3da0-4f85-b050-d4253b63aa63",
   "metadata": {},
   "outputs": [
    {
     "data": {
      "text/plain": [
       "True"
      ]
     },
     "execution_count": 12,
     "metadata": {},
     "output_type": "execute_result"
    }
   ],
   "source": [
    "140516841986944 == 140516841986944"
   ]
  },
  {
   "cell_type": "code",
   "execution_count": 13,
   "id": "fe377001-e6cc-46ee-aca7-277041df722b",
   "metadata": {},
   "outputs": [],
   "source": [
    "# Lists are mutable"
   ]
  },
  {
   "cell_type": "code",
   "execution_count": null,
   "id": "9333542d-f342-4a67-866c-2165ac0e00b8",
   "metadata": {},
   "outputs": [],
   "source": []
  },
  {
   "cell_type": "code",
   "execution_count": 14,
   "id": "e92dac79-38d4-43ab-90eb-70a7ce706f3c",
   "metadata": {},
   "outputs": [],
   "source": [
    "# Tuples are Immutable"
   ]
  },
  {
   "cell_type": "code",
   "execution_count": 15,
   "id": "e94438ef-2948-4689-a4a2-ca9ee65d02dd",
   "metadata": {},
   "outputs": [],
   "source": [
    "planets = (\"Mercury\", \"Venus\", \"Earth\", \"Mars\", \"Jupiter\", \"Saturn\")"
   ]
  },
  {
   "cell_type": "code",
   "execution_count": 16,
   "id": "d3799c60-af8c-471a-8128-32ccefef4609",
   "metadata": {},
   "outputs": [
    {
     "data": {
      "text/plain": [
       "tuple"
      ]
     },
     "execution_count": 16,
     "metadata": {},
     "output_type": "execute_result"
    }
   ],
   "source": [
    "type(planets)"
   ]
  },
  {
   "cell_type": "code",
   "execution_count": 17,
   "id": "4a2ba666-d575-4445-b7b8-2ce3ae64f177",
   "metadata": {},
   "outputs": [
    {
     "name": "stdout",
     "output_type": "stream",
     "text": [
      "140517124280576\n"
     ]
    }
   ],
   "source": [
    "print(id(planets))"
   ]
  },
  {
   "cell_type": "code",
   "execution_count": 18,
   "id": "9ea25f59-2ed2-4e5b-b117-d56cacd04a46",
   "metadata": {},
   "outputs": [
    {
     "data": {
      "text/plain": [
       "'Earth'"
      ]
     },
     "execution_count": 18,
     "metadata": {},
     "output_type": "execute_result"
    }
   ],
   "source": [
    "planets[2]"
   ]
  },
  {
   "cell_type": "code",
   "execution_count": 20,
   "id": "5e548516-811d-4bf3-adf6-c5c3b57c5a39",
   "metadata": {},
   "outputs": [
    {
     "ename": "TypeError",
     "evalue": "'tuple' object does not support item assignment",
     "output_type": "error",
     "traceback": [
      "\u001b[0;31m---------------------------------------------------------------------------\u001b[0m",
      "\u001b[0;31mTypeError\u001b[0m                                 Traceback (most recent call last)",
      "\u001b[0;32m/var/folders/t5/yhjgrjs907zfp250jyxtw54m0000gn/T/ipykernel_58764/726823221.py\u001b[0m in \u001b[0;36m<module>\u001b[0;34m\u001b[0m\n\u001b[0;32m----> 1\u001b[0;31m \u001b[0mplanets\u001b[0m\u001b[0;34m[\u001b[0m\u001b[0;36m2\u001b[0m\u001b[0;34m]\u001b[0m \u001b[0;34m=\u001b[0m \u001b[0;34m\"Rahul\"\u001b[0m\u001b[0;34m\u001b[0m\u001b[0;34m\u001b[0m\u001b[0m\n\u001b[0m",
      "\u001b[0;31mTypeError\u001b[0m: 'tuple' object does not support item assignment"
     ]
    }
   ],
   "source": [
    "planets[2] = \"Rahul\""
   ]
  },
  {
   "cell_type": "code",
   "execution_count": null,
   "id": "46a05b75-0c5f-45eb-89a4-9c4690671b4e",
   "metadata": {},
   "outputs": [],
   "source": []
  },
  {
   "cell_type": "code",
   "execution_count": null,
   "id": "611705b1-58b7-4369-8d1d-744142d22aa3",
   "metadata": {},
   "outputs": [],
   "source": []
  },
  {
   "cell_type": "code",
   "execution_count": null,
   "id": "64325a3d-82ce-43c2-9613-94ab27f51d1d",
   "metadata": {},
   "outputs": [],
   "source": []
  },
  {
   "cell_type": "code",
   "execution_count": 21,
   "id": "cf509010-cb2e-417a-a14c-70c2e7f5da0d",
   "metadata": {},
   "outputs": [],
   "source": [
    "# Making tuple"
   ]
  },
  {
   "cell_type": "code",
   "execution_count": 22,
   "id": "9f1d4cc2-f323-4dd5-bea0-70b7f7c4da0d",
   "metadata": {},
   "outputs": [],
   "source": [
    "# 1st way"
   ]
  },
  {
   "cell_type": "code",
   "execution_count": 23,
   "id": "3313e205-8f7c-481c-9311-b1e277f7c5eb",
   "metadata": {},
   "outputs": [
    {
     "data": {
      "text/plain": [
       "22"
      ]
     },
     "execution_count": 23,
     "metadata": {},
     "output_type": "execute_result"
    }
   ],
   "source": [
    "(2 * 5 + 4) + (4 * 2)"
   ]
  },
  {
   "cell_type": "code",
   "execution_count": 24,
   "id": "8ce38219-19b9-427a-92c5-6aff8a1e571f",
   "metadata": {},
   "outputs": [],
   "source": [
    "t = ()"
   ]
  },
  {
   "cell_type": "code",
   "execution_count": 25,
   "id": "2c8ac5f9-42f0-443c-a120-2e5819dfc94b",
   "metadata": {},
   "outputs": [
    {
     "data": {
      "text/plain": [
       "tuple"
      ]
     },
     "execution_count": 25,
     "metadata": {},
     "output_type": "execute_result"
    }
   ],
   "source": [
    "type(t)"
   ]
  },
  {
   "cell_type": "code",
   "execution_count": null,
   "id": "35a24eab-71d1-4c30-8cd2-e394ef566890",
   "metadata": {},
   "outputs": [],
   "source": []
  },
  {
   "cell_type": "code",
   "execution_count": 26,
   "id": "bee8c67e-76e7-4749-aff4-cd727e87e058",
   "metadata": {},
   "outputs": [],
   "source": [
    "# 2nd way"
   ]
  },
  {
   "cell_type": "code",
   "execution_count": 27,
   "id": "4e9fab86-5d77-457b-9342-388d4c99cb90",
   "metadata": {},
   "outputs": [],
   "source": [
    "t = (2)"
   ]
  },
  {
   "cell_type": "code",
   "execution_count": 28,
   "id": "3101e97b-a0e9-4cd9-a481-11c2ed563ff7",
   "metadata": {},
   "outputs": [
    {
     "name": "stdout",
     "output_type": "stream",
     "text": [
      "<class 'int'>\n"
     ]
    }
   ],
   "source": [
    "print(type(t))"
   ]
  },
  {
   "cell_type": "code",
   "execution_count": 29,
   "id": "9d56abf2-47a6-4ae1-88d1-49e15fe75d27",
   "metadata": {},
   "outputs": [],
   "source": [
    "t = (2, )"
   ]
  },
  {
   "cell_type": "code",
   "execution_count": 30,
   "id": "3f9b639e-6661-49a0-896f-9cbccc1ce97f",
   "metadata": {},
   "outputs": [
    {
     "data": {
      "text/plain": [
       "tuple"
      ]
     },
     "execution_count": 30,
     "metadata": {},
     "output_type": "execute_result"
    }
   ],
   "source": [
    "type(t)"
   ]
  },
  {
   "cell_type": "code",
   "execution_count": 31,
   "id": "b9c67512-0d78-45e7-a2ee-6e5a7d16a377",
   "metadata": {},
   "outputs": [],
   "source": [
    "t1 = (\"Rahul\")"
   ]
  },
  {
   "cell_type": "code",
   "execution_count": 32,
   "id": "48b65285-32d1-49b5-9f9d-a49250cc2fca",
   "metadata": {},
   "outputs": [
    {
     "data": {
      "text/plain": [
       "str"
      ]
     },
     "execution_count": 32,
     "metadata": {},
     "output_type": "execute_result"
    }
   ],
   "source": [
    "type(t1)"
   ]
  },
  {
   "cell_type": "code",
   "execution_count": 33,
   "id": "eb11d5c1-3499-4511-afbb-7fd6ad84ae27",
   "metadata": {},
   "outputs": [],
   "source": [
    "t1 = (\"Rahul\", )"
   ]
  },
  {
   "cell_type": "code",
   "execution_count": 34,
   "id": "ab772649-c31d-470d-8b42-fb8c391a6014",
   "metadata": {},
   "outputs": [
    {
     "data": {
      "text/plain": [
       "tuple"
      ]
     },
     "execution_count": 34,
     "metadata": {},
     "output_type": "execute_result"
    }
   ],
   "source": [
    "type(t1)"
   ]
  },
  {
   "cell_type": "code",
   "execution_count": null,
   "id": "47e30469-e693-4406-bf1d-aa16b9a43235",
   "metadata": {},
   "outputs": [],
   "source": []
  },
  {
   "cell_type": "code",
   "execution_count": null,
   "id": "1dec52fb-ea1c-4262-a33e-d7433c726bb0",
   "metadata": {},
   "outputs": [],
   "source": []
  },
  {
   "cell_type": "code",
   "execution_count": 35,
   "id": "451be24d-4c21-4c9d-a60b-486c92f0683a",
   "metadata": {},
   "outputs": [],
   "source": [
    "# 3rd way"
   ]
  },
  {
   "cell_type": "code",
   "execution_count": 36,
   "id": "4d64a44b-400d-441b-9e1d-e07bee22a547",
   "metadata": {},
   "outputs": [],
   "source": [
    "t2 = tuple()"
   ]
  },
  {
   "cell_type": "code",
   "execution_count": 39,
   "id": "06533213-869b-4985-927a-0d574bea8926",
   "metadata": {},
   "outputs": [
    {
     "data": {
      "text/plain": [
       "()"
      ]
     },
     "execution_count": 39,
     "metadata": {},
     "output_type": "execute_result"
    }
   ],
   "source": [
    "t2"
   ]
  },
  {
   "cell_type": "code",
   "execution_count": 37,
   "id": "93d19cdd-03ee-4683-8030-4cb211685347",
   "metadata": {},
   "outputs": [
    {
     "data": {
      "text/plain": [
       "tuple"
      ]
     },
     "execution_count": 37,
     "metadata": {},
     "output_type": "execute_result"
    }
   ],
   "source": [
    "type(t2)"
   ]
  },
  {
   "cell_type": "code",
   "execution_count": 41,
   "id": "ede6c587-7f41-455f-bb19-0fd84a4eb194",
   "metadata": {},
   "outputs": [],
   "source": [
    "l = [1, 2, 3, 4]"
   ]
  },
  {
   "cell_type": "code",
   "execution_count": 42,
   "id": "6ad144e5-2286-4d14-ac33-2cdda52e0be3",
   "metadata": {},
   "outputs": [],
   "source": [
    "t3 = tuple(l)"
   ]
  },
  {
   "cell_type": "code",
   "execution_count": 43,
   "id": "ad02a74f-1b46-4504-b7a9-9a0fe3a6706f",
   "metadata": {},
   "outputs": [
    {
     "data": {
      "text/plain": [
       "(1, 2, 3, 4)"
      ]
     },
     "execution_count": 43,
     "metadata": {},
     "output_type": "execute_result"
    }
   ],
   "source": [
    "t3"
   ]
  },
  {
   "cell_type": "code",
   "execution_count": 44,
   "id": "8fb607c3-9e89-47e4-a364-4248bc353af3",
   "metadata": {},
   "outputs": [
    {
     "data": {
      "text/plain": [
       "[1, 2, 3, 4]"
      ]
     },
     "execution_count": 44,
     "metadata": {},
     "output_type": "execute_result"
    }
   ],
   "source": [
    "list(t3)"
   ]
  },
  {
   "cell_type": "code",
   "execution_count": 45,
   "id": "c8aca860-c1cb-4d13-b762-8ac7904fd6af",
   "metadata": {},
   "outputs": [
    {
     "data": {
      "text/plain": [
       "(1, 2, 3, 4)"
      ]
     },
     "execution_count": 45,
     "metadata": {},
     "output_type": "execute_result"
    }
   ],
   "source": [
    "t3"
   ]
  },
  {
   "cell_type": "code",
   "execution_count": 46,
   "id": "2aecabd6-2d39-4810-b86e-7ae8bf85c2b5",
   "metadata": {},
   "outputs": [],
   "source": [
    "t4 = tuple('Hello')"
   ]
  },
  {
   "cell_type": "code",
   "execution_count": 47,
   "id": "843795a1-475c-41a4-bc2f-522154d6f28e",
   "metadata": {},
   "outputs": [
    {
     "data": {
      "text/plain": [
       "('H', 'e', 'l', 'l', 'o')"
      ]
     },
     "execution_count": 47,
     "metadata": {},
     "output_type": "execute_result"
    }
   ],
   "source": [
    "t4"
   ]
  },
  {
   "cell_type": "code",
   "execution_count": 48,
   "id": "47a087f7-f5e2-4994-9add-2134ce706dba",
   "metadata": {},
   "outputs": [
    {
     "data": {
      "text/plain": [
       "tuple"
      ]
     },
     "execution_count": 48,
     "metadata": {},
     "output_type": "execute_result"
    }
   ],
   "source": [
    "type(t4)"
   ]
  },
  {
   "cell_type": "code",
   "execution_count": null,
   "id": "0ba7ee4f-75c0-4061-be1e-611853e2ab07",
   "metadata": {},
   "outputs": [],
   "source": []
  },
  {
   "cell_type": "code",
   "execution_count": 49,
   "id": "fb3df83c-9123-4210-9de9-7e28b76d4137",
   "metadata": {},
   "outputs": [],
   "source": [
    "# Iteration, indexing and slicing"
   ]
  },
  {
   "cell_type": "code",
   "execution_count": 50,
   "id": "630a839c-465c-4842-a31c-a27fefa1b5be",
   "metadata": {},
   "outputs": [],
   "source": [
    "# Ordered --> Indexing"
   ]
  },
  {
   "cell_type": "code",
   "execution_count": 52,
   "id": "5ac5189f-c625-476b-825a-af78817a402d",
   "metadata": {},
   "outputs": [
    {
     "data": {
      "text/plain": [
       "(1, 2, 3, 4)"
      ]
     },
     "execution_count": 52,
     "metadata": {},
     "output_type": "execute_result"
    }
   ],
   "source": [
    "t3"
   ]
  },
  {
   "cell_type": "code",
   "execution_count": 53,
   "id": "9ddb7e85-0629-4f03-96de-645fd6e7ca44",
   "metadata": {},
   "outputs": [
    {
     "name": "stdout",
     "output_type": "stream",
     "text": [
      "1\n",
      "2\n",
      "3\n",
      "4\n"
     ]
    }
   ],
   "source": [
    "for i in t3:\n",
    "    print(i)"
   ]
  },
  {
   "cell_type": "code",
   "execution_count": 54,
   "id": "ba1c5d5e-d7a3-499f-9ac3-cb9d2dd3f1e7",
   "metadata": {},
   "outputs": [
    {
     "data": {
      "text/plain": [
       "1"
      ]
     },
     "execution_count": 54,
     "metadata": {},
     "output_type": "execute_result"
    }
   ],
   "source": [
    "t3[0]"
   ]
  },
  {
   "cell_type": "code",
   "execution_count": 55,
   "id": "102ae3ef-dd96-4a80-a3e4-d3335349cc77",
   "metadata": {},
   "outputs": [
    {
     "data": {
      "text/plain": [
       "4"
      ]
     },
     "execution_count": 55,
     "metadata": {},
     "output_type": "execute_result"
    }
   ],
   "source": [
    "t3[-1]"
   ]
  },
  {
   "cell_type": "code",
   "execution_count": 56,
   "id": "d5326823-fdcc-4202-9708-6b2dfefc2667",
   "metadata": {},
   "outputs": [
    {
     "data": {
      "text/plain": [
       "(4, 3, 2, 1)"
      ]
     },
     "execution_count": 56,
     "metadata": {},
     "output_type": "execute_result"
    }
   ],
   "source": [
    "t3[::-1]"
   ]
  },
  {
   "cell_type": "code",
   "execution_count": null,
   "id": "4994e8c5-2963-4fe7-a6da-e27b690d285d",
   "metadata": {},
   "outputs": [],
   "source": []
  },
  {
   "cell_type": "code",
   "execution_count": null,
   "id": "4ccddd96-c853-4ea4-8a93-d01f1c0ca217",
   "metadata": {},
   "outputs": [],
   "source": []
  },
  {
   "cell_type": "code",
   "execution_count": null,
   "id": "2e43edb0-3d48-40b9-8bd4-6c5600df6e40",
   "metadata": {},
   "outputs": [],
   "source": []
  },
  {
   "cell_type": "code",
   "execution_count": 57,
   "id": "8f3602c7-ecb9-43d9-9069-124c6f28f2cd",
   "metadata": {},
   "outputs": [],
   "source": [
    "# Count and index"
   ]
  },
  {
   "cell_type": "code",
   "execution_count": 59,
   "id": "e9d035e0-8b19-4ba7-8de7-ef70510f9e2c",
   "metadata": {},
   "outputs": [
    {
     "data": {
      "text/plain": [
       "(1, 2, 3, 4)"
      ]
     },
     "execution_count": 59,
     "metadata": {},
     "output_type": "execute_result"
    }
   ],
   "source": [
    "t3"
   ]
  },
  {
   "cell_type": "code",
   "execution_count": 60,
   "id": "6280b25a-9d4c-4c62-8f4f-9ef2ca2e7a67",
   "metadata": {},
   "outputs": [
    {
     "data": {
      "text/plain": [
       "1"
      ]
     },
     "execution_count": 60,
     "metadata": {},
     "output_type": "execute_result"
    }
   ],
   "source": [
    "t3.count(1)"
   ]
  },
  {
   "cell_type": "code",
   "execution_count": 61,
   "id": "dc2d82d8-8f66-48b3-88f3-b26460d7d1e5",
   "metadata": {},
   "outputs": [
    {
     "data": {
      "text/plain": [
       "0"
      ]
     },
     "execution_count": 61,
     "metadata": {},
     "output_type": "execute_result"
    }
   ],
   "source": [
    "t3.count(10)"
   ]
  },
  {
   "cell_type": "code",
   "execution_count": null,
   "id": "db08f4ae-40ca-45fc-a156-cc95d972f23c",
   "metadata": {},
   "outputs": [],
   "source": []
  },
  {
   "cell_type": "code",
   "execution_count": 62,
   "id": "fca5f05d-02f6-400c-9e5d-7877bbd2a1e7",
   "metadata": {},
   "outputs": [],
   "source": [
    "# List, tuple : tuples are ~ 10x faster then lists"
   ]
  },
  {
   "cell_type": "code",
   "execution_count": null,
   "id": "0620dd36-4c97-4181-81dc-2689da61f84d",
   "metadata": {},
   "outputs": [],
   "source": []
  },
  {
   "cell_type": "code",
   "execution_count": 63,
   "id": "11125dd8-41a0-4595-95cd-a287a0e1cea1",
   "metadata": {},
   "outputs": [],
   "source": [
    "def foo():\n",
    "    return 1, 2, 3"
   ]
  },
  {
   "cell_type": "code",
   "execution_count": 65,
   "id": "ab202d97-0fa6-49e6-b6a6-5f1644deb99b",
   "metadata": {},
   "outputs": [],
   "source": [
    "x = foo()"
   ]
  },
  {
   "cell_type": "code",
   "execution_count": 66,
   "id": "5740302e-f381-4dea-9058-e971e61f8805",
   "metadata": {},
   "outputs": [
    {
     "data": {
      "text/plain": [
       "tuple"
      ]
     },
     "execution_count": 66,
     "metadata": {},
     "output_type": "execute_result"
    }
   ],
   "source": [
    "type(x)"
   ]
  },
  {
   "cell_type": "code",
   "execution_count": 67,
   "id": "cf05b7df-9c96-495c-a213-1ead6afeebe1",
   "metadata": {},
   "outputs": [
    {
     "data": {
      "text/plain": [
       "(1, 2, 3)"
      ]
     },
     "execution_count": 67,
     "metadata": {},
     "output_type": "execute_result"
    }
   ],
   "source": [
    "x"
   ]
  },
  {
   "cell_type": "code",
   "execution_count": 68,
   "id": "54bf3664-f6ed-4a85-8dad-cc8fe1dfc233",
   "metadata": {},
   "outputs": [],
   "source": [
    "a, b, c = x"
   ]
  },
  {
   "cell_type": "code",
   "execution_count": 69,
   "id": "49f9d869-d0e5-4dbc-8bf9-d5fc53055b8e",
   "metadata": {},
   "outputs": [
    {
     "name": "stdout",
     "output_type": "stream",
     "text": [
      "1 2 3\n"
     ]
    }
   ],
   "source": [
    "print(a, b, c)"
   ]
  },
  {
   "cell_type": "code",
   "execution_count": null,
   "id": "51e3c29b-1d28-4043-8ae6-baae80d7ddbd",
   "metadata": {},
   "outputs": [],
   "source": []
  },
  {
   "cell_type": "code",
   "execution_count": 70,
   "id": "8c8cf0fa-4920-4987-9cc1-bc020dcbcbfb",
   "metadata": {},
   "outputs": [],
   "source": [
    "# Tuples are faster than list\n",
    "# Tuples are immutable\n",
    "# They are heterogenous\n",
    "# They have limited methods/functionality\n",
    "# They follow indexing\n",
    "# We use them when frozen data is being required"
   ]
  },
  {
   "cell_type": "code",
   "execution_count": null,
   "id": "7c276653-5fee-46c2-b1c7-0a73dddf5e7c",
   "metadata": {},
   "outputs": [],
   "source": []
  },
  {
   "cell_type": "code",
   "execution_count": 71,
   "id": "63b7c89b-2a5e-4b1b-8e45-7ea42514975f",
   "metadata": {},
   "outputs": [
    {
     "data": {
      "text/plain": [
       "(1, 2, 3, 4)"
      ]
     },
     "execution_count": 71,
     "metadata": {},
     "output_type": "execute_result"
    }
   ],
   "source": [
    "t3"
   ]
  },
  {
   "cell_type": "code",
   "execution_count": 73,
   "id": "bf07809a-18b5-4c2f-b42a-83478bdb5d7b",
   "metadata": {},
   "outputs": [
    {
     "data": {
      "text/plain": [
       "2"
      ]
     },
     "execution_count": 73,
     "metadata": {},
     "output_type": "execute_result"
    }
   ],
   "source": [
    "t3.index(3)"
   ]
  },
  {
   "cell_type": "code",
   "execution_count": 76,
   "id": "e25303eb-0d6b-4485-baae-37e9e9cbfb95",
   "metadata": {},
   "outputs": [
    {
     "data": {
      "text/plain": [
       "('H', 'e', 'l', 'l', 'o')"
      ]
     },
     "execution_count": 76,
     "metadata": {},
     "output_type": "execute_result"
    }
   ],
   "source": [
    "t4"
   ]
  },
  {
   "cell_type": "code",
   "execution_count": 77,
   "id": "9c265435-e2a2-49cb-a9c2-d59d3b3df619",
   "metadata": {},
   "outputs": [
    {
     "data": {
      "text/plain": [
       "2"
      ]
     },
     "execution_count": 77,
     "metadata": {},
     "output_type": "execute_result"
    }
   ],
   "source": [
    "t4.index('l')"
   ]
  },
  {
   "cell_type": "code",
   "execution_count": null,
   "id": "d4fa3dd9-843c-479e-8d81-745b9f5c5bf0",
   "metadata": {},
   "outputs": [],
   "source": []
  },
  {
   "cell_type": "code",
   "execution_count": 78,
   "id": "ec97028e-521c-4f24-955b-12fe03e02e5b",
   "metadata": {},
   "outputs": [
    {
     "name": "stdout",
     "output_type": "stream",
     "text": [
      "6\n"
     ]
    }
   ],
   "source": [
    "x = (1, 2, 3)\n",
    "y = (4, 5, 6)\n",
    "z = x + y\n",
    "print(len(z))"
   ]
  },
  {
   "cell_type": "code",
   "execution_count": 80,
   "id": "ed1dad82-1c06-4d63-a1b3-068d08481350",
   "metadata": {},
   "outputs": [
    {
     "data": {
      "text/plain": [
       "(4, 5, 6)"
      ]
     },
     "execution_count": 80,
     "metadata": {},
     "output_type": "execute_result"
    }
   ],
   "source": [
    "y"
   ]
  },
  {
   "cell_type": "code",
   "execution_count": null,
   "id": "63caaf00-a961-46cf-a259-373cc1922edb",
   "metadata": {},
   "outputs": [],
   "source": []
  },
  {
   "cell_type": "code",
   "execution_count": 81,
   "id": "a8fecd45-e3c2-43ca-8f44-19985d644d3b",
   "metadata": {},
   "outputs": [],
   "source": [
    "a = 6\n",
    "b = 5"
   ]
  },
  {
   "cell_type": "code",
   "execution_count": 82,
   "id": "2511258c-512d-4e21-90b9-183f386bd93a",
   "metadata": {},
   "outputs": [
    {
     "name": "stdout",
     "output_type": "stream",
     "text": [
      "5 6\n"
     ]
    }
   ],
   "source": [
    "temp = a\n",
    "\n",
    "a = b\n",
    "b = temp\n",
    "\n",
    "print(a, b)"
   ]
  },
  {
   "cell_type": "code",
   "execution_count": 87,
   "id": "ae76dab6-0337-475f-a6c2-d0bd66af6477",
   "metadata": {},
   "outputs": [],
   "source": [
    "a, b = b, a"
   ]
  },
  {
   "cell_type": "code",
   "execution_count": 88,
   "id": "17fdc5bf-7f3a-49b6-a82e-82631e1a666f",
   "metadata": {},
   "outputs": [
    {
     "name": "stdout",
     "output_type": "stream",
     "text": [
      "6 5\n"
     ]
    }
   ],
   "source": [
    "print(a, b)"
   ]
  },
  {
   "cell_type": "code",
   "execution_count": null,
   "id": "6f95a69d-c939-431d-b239-ce9bc12c4212",
   "metadata": {},
   "outputs": [],
   "source": []
  },
  {
   "cell_type": "code",
   "execution_count": null,
   "id": "7a45c684-cd53-46aa-9f59-df1ffd29173d",
   "metadata": {},
   "outputs": [],
   "source": []
  },
  {
   "cell_type": "code",
   "execution_count": null,
   "id": "c6733be9-5c6a-45be-8e3f-fd2b514a8096",
   "metadata": {},
   "outputs": [],
   "source": []
  },
  {
   "cell_type": "code",
   "execution_count": null,
   "id": "85789467-f600-4749-ad9f-51d2a9f86a4a",
   "metadata": {},
   "outputs": [],
   "source": []
  },
  {
   "cell_type": "markdown",
   "id": "068336ee-35cd-495a-9cd0-18220e0f5218",
   "metadata": {},
   "source": [
    "## Sets"
   ]
  },
  {
   "cell_type": "markdown",
   "id": "2b5b0acd-bf6a-4b39-8008-5109b12b4349",
   "metadata": {},
   "source": [
    "Problem: Suppose that you are working as a data analyst at an edtech company. The edtech company is offering courses on Calculus(C) and Linear Algebra(L) among many others. Now you want to represent the students in the courses. Which data structure to use?\n",
    "- Assume all names are unique for the students taking part in the edtech company. We have done this for better understanding. We could have taken id which will be unique.\n",
    "\n",
    "Options?\n",
    "\n",
    "- Lists => It can contain duplicate values\n",
    "- Tuples => It can also contain duplicate values.\n",
    "\n",
    "There is a different alternative => Sets"
   ]
  },
  {
   "cell_type": "code",
   "execution_count": 89,
   "id": "c17cf17d-0c5a-41ca-8315-c7e5ee24d61c",
   "metadata": {},
   "outputs": [],
   "source": [
    "l = [\"Praveen\", \"Kiran R\", \"Thulasi\", \"Praveen\"]"
   ]
  },
  {
   "cell_type": "code",
   "execution_count": 90,
   "id": "b4f24ff9-0dc6-431a-8660-0c7bcb9c34f4",
   "metadata": {},
   "outputs": [
    {
     "name": "stdout",
     "output_type": "stream",
     "text": [
      "['Praveen', 'Kiran R', 'Thulasi', 'Praveen']\n"
     ]
    }
   ],
   "source": [
    "print(l)"
   ]
  },
  {
   "cell_type": "code",
   "execution_count": 91,
   "id": "ed295cd3-c67f-4182-b63d-df2a0e6954bf",
   "metadata": {},
   "outputs": [],
   "source": [
    "t = (\"Praveen\", \"Kiran R\", \"Thulasi\", \"Praveen\")"
   ]
  },
  {
   "cell_type": "code",
   "execution_count": 92,
   "id": "43822fc1-0357-4c32-9f9e-647869ccca12",
   "metadata": {},
   "outputs": [
    {
     "name": "stdout",
     "output_type": "stream",
     "text": [
      "('Praveen', 'Kiran R', 'Thulasi', 'Praveen')\n"
     ]
    }
   ],
   "source": [
    "print(t)"
   ]
  },
  {
   "cell_type": "code",
   "execution_count": null,
   "id": "80924198-60c9-47a9-b71c-f49724e1ad56",
   "metadata": {},
   "outputs": [],
   "source": []
  },
  {
   "cell_type": "code",
   "execution_count": null,
   "id": "4c891043-cdf0-4a51-b2af-9c682c4b762b",
   "metadata": {},
   "outputs": [],
   "source": []
  },
  {
   "cell_type": "code",
   "execution_count": 93,
   "id": "f92ccb93-c6eb-4680-9762-009bfd5b096e",
   "metadata": {},
   "outputs": [],
   "source": [
    "# Sets are unordered data structure"
   ]
  },
  {
   "cell_type": "code",
   "execution_count": 94,
   "id": "f3e42c52-1e4d-4be3-98c7-8df139c4023e",
   "metadata": {},
   "outputs": [],
   "source": [
    "example = {\"Praveen\", \"Kiran R\", \"Thulasi\", \"Praveen\"}"
   ]
  },
  {
   "cell_type": "code",
   "execution_count": 95,
   "id": "c9eba2a3-c9b3-4f38-907b-860ecd39abf8",
   "metadata": {},
   "outputs": [
    {
     "name": "stdout",
     "output_type": "stream",
     "text": [
      "{'Praveen', 'Kiran R', 'Thulasi'}\n"
     ]
    }
   ],
   "source": [
    "print(example)"
   ]
  },
  {
   "cell_type": "code",
   "execution_count": 96,
   "id": "fb64a348-6ac9-46c4-a942-fd595111ab7d",
   "metadata": {},
   "outputs": [
    {
     "ename": "TypeError",
     "evalue": "'set' object is not subscriptable",
     "output_type": "error",
     "traceback": [
      "\u001b[0;31m---------------------------------------------------------------------------\u001b[0m",
      "\u001b[0;31mTypeError\u001b[0m                                 Traceback (most recent call last)",
      "\u001b[0;32m/var/folders/t5/yhjgrjs907zfp250jyxtw54m0000gn/T/ipykernel_58764/2326242519.py\u001b[0m in \u001b[0;36m<module>\u001b[0;34m\u001b[0m\n\u001b[0;32m----> 1\u001b[0;31m \u001b[0mexample\u001b[0m\u001b[0;34m[\u001b[0m\u001b[0;36m0\u001b[0m\u001b[0;34m]\u001b[0m\u001b[0;34m\u001b[0m\u001b[0;34m\u001b[0m\u001b[0m\n\u001b[0m",
      "\u001b[0;31mTypeError\u001b[0m: 'set' object is not subscriptable"
     ]
    }
   ],
   "source": [
    "example[0]"
   ]
  },
  {
   "cell_type": "code",
   "execution_count": 97,
   "id": "7104ea85-8b71-4c74-9055-1986e7445745",
   "metadata": {},
   "outputs": [],
   "source": [
    "s = {1, 2, 3, 2, 1, 2, 1, 3}"
   ]
  },
  {
   "cell_type": "code",
   "execution_count": 98,
   "id": "d178f689-2f58-4e13-86dc-bf4a2db00750",
   "metadata": {},
   "outputs": [
    {
     "name": "stdout",
     "output_type": "stream",
     "text": [
      "{1, 2, 3}\n"
     ]
    }
   ],
   "source": [
    "print(s)"
   ]
  },
  {
   "cell_type": "code",
   "execution_count": 100,
   "id": "3c7ab97d-dd21-4964-80fd-9e7fec7be937",
   "metadata": {},
   "outputs": [],
   "source": [
    "l = [1, 2, 3, 2, 1, 2, 1]"
   ]
  },
  {
   "cell_type": "code",
   "execution_count": 101,
   "id": "57bb1815-23ff-467d-a2e3-82a70c8f154d",
   "metadata": {},
   "outputs": [
    {
     "data": {
      "text/plain": [
       "[1, 2, 3, 2, 1, 2, 1]"
      ]
     },
     "execution_count": 101,
     "metadata": {},
     "output_type": "execute_result"
    }
   ],
   "source": [
    "l"
   ]
  },
  {
   "cell_type": "code",
   "execution_count": null,
   "id": "0ae614a1-4f03-4a69-be8c-264b5a19887b",
   "metadata": {},
   "outputs": [],
   "source": []
  },
  {
   "cell_type": "code",
   "execution_count": null,
   "id": "6e0180fe-0643-4854-b4e4-911cdbad8780",
   "metadata": {},
   "outputs": [],
   "source": []
  },
  {
   "cell_type": "code",
   "execution_count": 102,
   "id": "61be29df-812f-43b4-8345-8e488fb17420",
   "metadata": {},
   "outputs": [],
   "source": [
    "# in operator"
   ]
  },
  {
   "cell_type": "code",
   "execution_count": 103,
   "id": "e1737ed3-352b-4ce5-8220-5d30e9c4fcdf",
   "metadata": {},
   "outputs": [
    {
     "data": {
      "text/plain": [
       "{1, 2, 3}"
      ]
     },
     "execution_count": 103,
     "metadata": {},
     "output_type": "execute_result"
    }
   ],
   "source": [
    "s"
   ]
  },
  {
   "cell_type": "code",
   "execution_count": 104,
   "id": "da5fb8a2-c600-4a24-8241-203a891ceb7f",
   "metadata": {},
   "outputs": [
    {
     "data": {
      "text/plain": [
       "True"
      ]
     },
     "execution_count": 104,
     "metadata": {},
     "output_type": "execute_result"
    }
   ],
   "source": [
    "1 in s"
   ]
  },
  {
   "cell_type": "code",
   "execution_count": 105,
   "id": "908fd8ad-5d68-42fb-91e3-7794e0ac7ff8",
   "metadata": {},
   "outputs": [
    {
     "data": {
      "text/plain": [
       "False"
      ]
     },
     "execution_count": 105,
     "metadata": {},
     "output_type": "execute_result"
    }
   ],
   "source": [
    "12 in s"
   ]
  },
  {
   "cell_type": "code",
   "execution_count": null,
   "id": "2d57db36-f18e-4061-86f2-42d2041d2efd",
   "metadata": {},
   "outputs": [],
   "source": []
  },
  {
   "cell_type": "code",
   "execution_count": null,
   "id": "822f63b1-a191-465c-a55e-ee3b8fac51af",
   "metadata": {},
   "outputs": [],
   "source": []
  },
  {
   "cell_type": "code",
   "execution_count": null,
   "id": "0faadf8c-2c4b-4a12-b3cd-271b04fd136c",
   "metadata": {},
   "outputs": [],
   "source": []
  },
  {
   "cell_type": "markdown",
   "id": "b1cd49a6-5693-499a-8344-64f4477dba46",
   "metadata": {},
   "source": [
    "### Creation\n",
    "- set()\n",
    "- set(iterable)"
   ]
  },
  {
   "cell_type": "code",
   "execution_count": 106,
   "id": "d30fd4dd-097f-4ff4-8f9e-3879988a540f",
   "metadata": {},
   "outputs": [],
   "source": [
    "# set\n",
    "# dict"
   ]
  },
  {
   "cell_type": "code",
   "execution_count": 107,
   "id": "2a5fe80e-8010-4fcc-a016-addb1e42d64e",
   "metadata": {},
   "outputs": [],
   "source": [
    "s = {}"
   ]
  },
  {
   "cell_type": "code",
   "execution_count": 108,
   "id": "d8e861a4-c85b-41bd-993e-9805f5bb7c68",
   "metadata": {},
   "outputs": [
    {
     "data": {
      "text/plain": [
       "dict"
      ]
     },
     "execution_count": 108,
     "metadata": {},
     "output_type": "execute_result"
    }
   ],
   "source": [
    "type(s)"
   ]
  },
  {
   "cell_type": "code",
   "execution_count": 109,
   "id": "6a592f09-76a8-4a40-8c59-ab0388a1dfdd",
   "metadata": {},
   "outputs": [],
   "source": [
    "s = {1, 2, 3, 4, 3, 1}"
   ]
  },
  {
   "cell_type": "code",
   "execution_count": 111,
   "id": "c9f92017-6516-4ac1-ad00-db40ecb45e14",
   "metadata": {},
   "outputs": [
    {
     "data": {
      "text/plain": [
       "{1, 2, 3, 4}"
      ]
     },
     "execution_count": 111,
     "metadata": {},
     "output_type": "execute_result"
    }
   ],
   "source": [
    "s"
   ]
  },
  {
   "cell_type": "code",
   "execution_count": 112,
   "id": "9bd316ce-5097-45ec-ac5c-91eb5a7c59d1",
   "metadata": {},
   "outputs": [
    {
     "data": {
      "text/plain": [
       "set"
      ]
     },
     "execution_count": 112,
     "metadata": {},
     "output_type": "execute_result"
    }
   ],
   "source": [
    "type(s)"
   ]
  },
  {
   "cell_type": "code",
   "execution_count": null,
   "id": "e155bbe5-99c2-4501-9af2-3166be07ae98",
   "metadata": {},
   "outputs": [],
   "source": []
  },
  {
   "cell_type": "code",
   "execution_count": 113,
   "id": "3c0ca599-3365-4445-83cf-a82430d88a77",
   "metadata": {},
   "outputs": [],
   "source": [
    "# Set is taking care of duplicate values"
   ]
  },
  {
   "cell_type": "code",
   "execution_count": 114,
   "id": "ba8eb63e-feac-451d-804a-94a4ba7d64eb",
   "metadata": {},
   "outputs": [],
   "source": [
    "s1 = set()"
   ]
  },
  {
   "cell_type": "code",
   "execution_count": 115,
   "id": "9cb7972e-482e-48a5-bab4-ef6fde7afbe6",
   "metadata": {},
   "outputs": [
    {
     "name": "stdout",
     "output_type": "stream",
     "text": [
      "set()\n"
     ]
    }
   ],
   "source": [
    "print(s1)"
   ]
  },
  {
   "cell_type": "code",
   "execution_count": 118,
   "id": "9794ae14-f2ff-47cf-a065-99a281adea8c",
   "metadata": {},
   "outputs": [],
   "source": [
    "l = [1, 2, 3, 2, 1, 2, 1]"
   ]
  },
  {
   "cell_type": "code",
   "execution_count": 119,
   "id": "9ef948f2-1ead-4061-94fe-0ef542b75d76",
   "metadata": {},
   "outputs": [],
   "source": [
    "s3 = set(l)"
   ]
  },
  {
   "cell_type": "code",
   "execution_count": 120,
   "id": "ba47cf27-0654-445e-b225-4f2345bd665a",
   "metadata": {},
   "outputs": [
    {
     "data": {
      "text/plain": [
       "{1, 2, 3}"
      ]
     },
     "execution_count": 120,
     "metadata": {},
     "output_type": "execute_result"
    }
   ],
   "source": [
    "s3"
   ]
  },
  {
   "cell_type": "code",
   "execution_count": 121,
   "id": "b83581f1-187a-4e2f-aa1c-b82995b3ffed",
   "metadata": {},
   "outputs": [],
   "source": [
    "s4 = set(\"Praveen\")"
   ]
  },
  {
   "cell_type": "code",
   "execution_count": 122,
   "id": "c98a9fe4-1442-4ba4-8c2b-0c0ee08bd699",
   "metadata": {},
   "outputs": [
    {
     "data": {
      "text/plain": [
       "{'P', 'a', 'e', 'n', 'r', 'v'}"
      ]
     },
     "execution_count": 122,
     "metadata": {},
     "output_type": "execute_result"
    }
   ],
   "source": [
    "s4"
   ]
  },
  {
   "cell_type": "code",
   "execution_count": null,
   "id": "956bfc8b-1e96-4b3f-8686-dd0cd332d3a4",
   "metadata": {},
   "outputs": [],
   "source": []
  },
  {
   "cell_type": "code",
   "execution_count": null,
   "id": "460ec6c2-4778-4829-b32c-f60b9ce137cf",
   "metadata": {},
   "outputs": [],
   "source": []
  },
  {
   "cell_type": "code",
   "execution_count": null,
   "id": "0001cf35-f93c-4ec1-b549-754f7f3a0c90",
   "metadata": {},
   "outputs": [],
   "source": []
  },
  {
   "cell_type": "code",
   "execution_count": null,
   "id": "b8c457d7-b770-4a29-bed7-a14d96cc7300",
   "metadata": {},
   "outputs": [],
   "source": []
  },
  {
   "cell_type": "markdown",
   "id": "7a3fe06f-acb0-4688-8f1d-390d1193396b",
   "metadata": {},
   "source": [
    "### Iteration and indexing?"
   ]
  },
  {
   "cell_type": "markdown",
   "id": "93a4c0ea-be6f-4f81-b8ca-c2a1a87013b9",
   "metadata": {},
   "source": [
    "- We cannot access a set item by referring to an index or a key. If you cannot access an element we cannot modify it. That's why it is also unchangeable\n",
    "- We can however run a loop to iterate."
   ]
  },
  {
   "cell_type": "code",
   "execution_count": 123,
   "id": "7337945c-3711-4ea1-a2c9-c660abf6131f",
   "metadata": {},
   "outputs": [],
   "source": [
    "# Sets does not support indexing\n",
    "# admissions[0]"
   ]
  },
  {
   "cell_type": "code",
   "execution_count": 124,
   "id": "cc58e353-c015-464f-944f-41b1ea16d036",
   "metadata": {},
   "outputs": [
    {
     "data": {
      "text/plain": [
       "{1, 2, 3, 4}"
      ]
     },
     "execution_count": 124,
     "metadata": {},
     "output_type": "execute_result"
    }
   ],
   "source": [
    "s"
   ]
  },
  {
   "cell_type": "code",
   "execution_count": 126,
   "id": "51c6b1fb-a2ce-4379-b6d6-59f311515f33",
   "metadata": {},
   "outputs": [],
   "source": [
    "# s[0]"
   ]
  },
  {
   "cell_type": "code",
   "execution_count": 127,
   "id": "80e33651-8edb-45d3-a5a6-77ce39e996fa",
   "metadata": {},
   "outputs": [],
   "source": [
    "# Indexing is not supported in sets"
   ]
  },
  {
   "cell_type": "code",
   "execution_count": 128,
   "id": "d1ad2edb-2cfd-47f4-9193-71686370542e",
   "metadata": {},
   "outputs": [
    {
     "name": "stdout",
     "output_type": "stream",
     "text": [
      "['__and__', '__class__', '__class_getitem__', '__contains__', '__delattr__', '__dir__', '__doc__', '__eq__', '__format__', '__ge__', '__getattribute__', '__gt__', '__hash__', '__iand__', '__init__', '__init_subclass__', '__ior__', '__isub__', '__iter__', '__ixor__', '__le__', '__len__', '__lt__', '__ne__', '__new__', '__or__', '__rand__', '__reduce__', '__reduce_ex__', '__repr__', '__ror__', '__rsub__', '__rxor__', '__setattr__', '__sizeof__', '__str__', '__sub__', '__subclasshook__', '__xor__', 'add', 'clear', 'copy', 'difference', 'difference_update', 'discard', 'intersection', 'intersection_update', 'isdisjoint', 'issubset', 'issuperset', 'pop', 'remove', 'symmetric_difference', 'symmetric_difference_update', 'union', 'update']\n"
     ]
    }
   ],
   "source": [
    "print(dir(s))"
   ]
  },
  {
   "cell_type": "code",
   "execution_count": 129,
   "id": "beebfe5a-0249-4227-8442-9ec45b7a37fe",
   "metadata": {},
   "outputs": [
    {
     "name": "stdout",
     "output_type": "stream",
     "text": [
      "1\n",
      "2\n",
      "3\n",
      "4\n"
     ]
    }
   ],
   "source": [
    "for i in s:\n",
    "    print(i)"
   ]
  },
  {
   "cell_type": "code",
   "execution_count": 130,
   "id": "512382fd-0e8b-4937-9549-b7280b78830f",
   "metadata": {},
   "outputs": [
    {
     "data": {
      "text/plain": [
       "{'P', 'a', 'e', 'n', 'r', 'v'}"
      ]
     },
     "execution_count": 130,
     "metadata": {},
     "output_type": "execute_result"
    }
   ],
   "source": [
    "s4"
   ]
  },
  {
   "cell_type": "code",
   "execution_count": 131,
   "id": "8f3cef5f-1dd1-4e14-9843-0c9e4f6fbc6e",
   "metadata": {},
   "outputs": [
    {
     "name": "stdout",
     "output_type": "stream",
     "text": [
      "v\n",
      "P\n",
      "e\n",
      "n\n",
      "r\n",
      "a\n"
     ]
    }
   ],
   "source": [
    "for i in s4:\n",
    "    print(i)"
   ]
  },
  {
   "cell_type": "code",
   "execution_count": null,
   "id": "ead514db-c631-4736-894e-0daf1c74fe84",
   "metadata": {},
   "outputs": [],
   "source": []
  },
  {
   "cell_type": "code",
   "execution_count": null,
   "id": "1398a8b3-7fb8-4b6c-8d4d-58c27e72715b",
   "metadata": {},
   "outputs": [],
   "source": []
  },
  {
   "cell_type": "markdown",
   "id": "6793fc7f-fa0c-4c4c-99d3-e20248836f33",
   "metadata": {},
   "source": [
    "#### Challenge: Count number of unique words in a sentence\n",
    "- Input: \"the quick brown fox jumps over the lazy dog\"\n",
    "- Output: 8"
   ]
  },
  {
   "cell_type": "code",
   "execution_count": 132,
   "id": "fe9b52cc-b42c-4355-8213-e7e82bfd1514",
   "metadata": {},
   "outputs": [],
   "source": [
    "sen = \"the quick brown fox jumps over the lazy dog\""
   ]
  },
  {
   "cell_type": "code",
   "execution_count": 134,
   "id": "90ddf7a7-03a2-406e-b49c-ef6eebdf09ff",
   "metadata": {},
   "outputs": [],
   "source": [
    "# set(sen)"
   ]
  },
  {
   "cell_type": "code",
   "execution_count": 136,
   "id": "5fa67592-47eb-4f0e-8ad4-4c772f0c8163",
   "metadata": {},
   "outputs": [],
   "source": [
    "# for i in sen:\n",
    "#     print(i)"
   ]
  },
  {
   "cell_type": "code",
   "execution_count": 137,
   "id": "b8c3c54a-1398-4b0a-a56e-9cc34df60ffb",
   "metadata": {},
   "outputs": [],
   "source": [
    "words = sen.split()"
   ]
  },
  {
   "cell_type": "code",
   "execution_count": 138,
   "id": "8cf26c6e-1baa-488d-b3ad-0275c55ca2e5",
   "metadata": {},
   "outputs": [
    {
     "name": "stdout",
     "output_type": "stream",
     "text": [
      "['the', 'quick', 'brown', 'fox', 'jumps', 'over', 'the', 'lazy', 'dog']\n"
     ]
    }
   ],
   "source": [
    "print(words)"
   ]
  },
  {
   "cell_type": "code",
   "execution_count": 139,
   "id": "10c134a6-4ee9-44ad-b6e0-472b4909a1c9",
   "metadata": {},
   "outputs": [
    {
     "data": {
      "text/plain": [
       "9"
      ]
     },
     "execution_count": 139,
     "metadata": {},
     "output_type": "execute_result"
    }
   ],
   "source": [
    "len(words)"
   ]
  },
  {
   "cell_type": "code",
   "execution_count": 140,
   "id": "f4104667-973f-4541-b595-9f9f50033fa3",
   "metadata": {},
   "outputs": [],
   "source": [
    "s = set(words)"
   ]
  },
  {
   "cell_type": "code",
   "execution_count": 141,
   "id": "d5a3dd28-3dd0-4e5b-84fe-911b1fdcc467",
   "metadata": {},
   "outputs": [
    {
     "data": {
      "text/plain": [
       "{'brown', 'dog', 'fox', 'jumps', 'lazy', 'over', 'quick', 'the'}"
      ]
     },
     "execution_count": 141,
     "metadata": {},
     "output_type": "execute_result"
    }
   ],
   "source": [
    "s"
   ]
  },
  {
   "cell_type": "code",
   "execution_count": 142,
   "id": "49d6e33e-4576-489c-a3f7-819b2cfd8159",
   "metadata": {},
   "outputs": [
    {
     "name": "stdout",
     "output_type": "stream",
     "text": [
      "8\n"
     ]
    }
   ],
   "source": [
    "print(len(s))"
   ]
  },
  {
   "cell_type": "code",
   "execution_count": 145,
   "id": "6fa891f4-49c4-45cf-8bd1-a99c52a427a0",
   "metadata": {},
   "outputs": [],
   "source": [
    "def unique_words(sen):\n",
    "    return len(set(sen.split()))"
   ]
  },
  {
   "cell_type": "code",
   "execution_count": 146,
   "id": "4b9b7e2e-a77e-428e-bdf6-bfe1b10b5ebd",
   "metadata": {},
   "outputs": [
    {
     "data": {
      "text/plain": [
       "8"
      ]
     },
     "execution_count": 146,
     "metadata": {},
     "output_type": "execute_result"
    }
   ],
   "source": [
    "unique_words(sen)"
   ]
  },
  {
   "cell_type": "code",
   "execution_count": null,
   "id": "4957a461-6d21-4b24-8fbc-74449e48e19c",
   "metadata": {},
   "outputs": [],
   "source": []
  },
  {
   "cell_type": "code",
   "execution_count": null,
   "id": "30eabae1-fdba-4957-a89b-7a7828aa635f",
   "metadata": {},
   "outputs": [],
   "source": []
  },
  {
   "cell_type": "markdown",
   "id": "b9d87f3e-218e-4a2e-bb81-90468f28a141",
   "metadata": {},
   "source": [
    "### Updating a set\n",
    "- add: For single element\n",
    "- update(iterable)"
   ]
  },
  {
   "cell_type": "code",
   "execution_count": 147,
   "id": "f6bd6cc5-5669-42f6-9a60-d8bf1db949fd",
   "metadata": {},
   "outputs": [],
   "source": [
    "# add"
   ]
  },
  {
   "cell_type": "code",
   "execution_count": 148,
   "id": "4e9f6d5d-1139-458a-8172-8bda0a176293",
   "metadata": {},
   "outputs": [],
   "source": [
    "# Let's go on a trip"
   ]
  },
  {
   "cell_type": "code",
   "execution_count": 149,
   "id": "5b12fc0f-7ee9-4f65-8a1c-49284c787fad",
   "metadata": {},
   "outputs": [],
   "source": [
    "bag = {\"Clothes\", \"Paise\", \"shoes\", \"firsst_aid\", \"slippers\", \"phone charger\"}"
   ]
  },
  {
   "cell_type": "code",
   "execution_count": 150,
   "id": "456a1da7-d5d7-497f-8278-b234fc694d99",
   "metadata": {},
   "outputs": [
    {
     "data": {
      "text/plain": [
       "{'Clothes', 'Paise', 'firsst_aid', 'phone charger', 'shoes', 'slippers'}"
      ]
     },
     "execution_count": 150,
     "metadata": {},
     "output_type": "execute_result"
    }
   ],
   "source": [
    "bag"
   ]
  },
  {
   "cell_type": "code",
   "execution_count": 151,
   "id": "de4cdabf-ed15-4f7d-a63d-e7cc91895f9b",
   "metadata": {},
   "outputs": [
    {
     "data": {
      "text/plain": [
       "set"
      ]
     },
     "execution_count": 151,
     "metadata": {},
     "output_type": "execute_result"
    }
   ],
   "source": [
    "type(bag)"
   ]
  },
  {
   "cell_type": "code",
   "execution_count": 153,
   "id": "82d0d6a1-e009-42cb-9611-aef886e56225",
   "metadata": {},
   "outputs": [],
   "source": [
    "bag.add(\"laptop\")"
   ]
  },
  {
   "cell_type": "code",
   "execution_count": 154,
   "id": "a587ce3b-3c35-4e24-97be-f4579906177f",
   "metadata": {},
   "outputs": [
    {
     "data": {
      "text/plain": [
       "{'Clothes',\n",
       " 'Paise',\n",
       " 'firsst_aid',\n",
       " 'laptop',\n",
       " 'phone charger',\n",
       " 'shoes',\n",
       " 'slippers'}"
      ]
     },
     "execution_count": 154,
     "metadata": {},
     "output_type": "execute_result"
    }
   ],
   "source": [
    "bag"
   ]
  },
  {
   "cell_type": "code",
   "execution_count": null,
   "id": "8e55120f-5b9a-44f0-9437-63cd760642f4",
   "metadata": {},
   "outputs": [],
   "source": []
  },
  {
   "cell_type": "code",
   "execution_count": null,
   "id": "b54b61ef-3713-4ff1-8531-d1d9739dbbc7",
   "metadata": {},
   "outputs": [],
   "source": []
  },
  {
   "cell_type": "code",
   "execution_count": 155,
   "id": "cf6eb2fe-8297-40bd-aa7f-491ed57938a9",
   "metadata": {},
   "outputs": [],
   "source": [
    "# update"
   ]
  },
  {
   "cell_type": "code",
   "execution_count": 156,
   "id": "f6a91dd3-85e3-46cb-a611-4278a519741b",
   "metadata": {},
   "outputs": [],
   "source": [
    "toilet_kit = {\"Toothbrush\", \"Toothpaste\", \"Soap\", \"Facewash\"}"
   ]
  },
  {
   "cell_type": "code",
   "execution_count": 158,
   "id": "e607a5f2-6991-4a09-8152-c79b3283f3e8",
   "metadata": {},
   "outputs": [],
   "source": [
    "bag.update(toilet_kit)"
   ]
  },
  {
   "cell_type": "code",
   "execution_count": 159,
   "id": "543de92d-700d-46a7-bee2-cfad711b4809",
   "metadata": {},
   "outputs": [
    {
     "data": {
      "text/plain": [
       "{'Clothes',\n",
       " 'Facewash',\n",
       " 'Paise',\n",
       " 'Soap',\n",
       " 'Toothbrush',\n",
       " 'Toothpaste',\n",
       " 'firsst_aid',\n",
       " 'laptop',\n",
       " 'phone charger',\n",
       " 'shoes',\n",
       " 'slippers'}"
      ]
     },
     "execution_count": 159,
     "metadata": {},
     "output_type": "execute_result"
    }
   ],
   "source": [
    "bag"
   ]
  },
  {
   "cell_type": "code",
   "execution_count": 162,
   "id": "baf66aa6-a4a7-49cf-91d3-38073d6697ed",
   "metadata": {},
   "outputs": [],
   "source": [
    "wallet = {\"cash\", \"credit card\"}"
   ]
  },
  {
   "cell_type": "code",
   "execution_count": null,
   "id": "61ec9c98-3e12-4300-88be-544913fb9391",
   "metadata": {},
   "outputs": [],
   "source": []
  },
  {
   "cell_type": "code",
   "execution_count": null,
   "id": "8ba866a9-82f7-4bf1-9a5d-ef49e3f3f739",
   "metadata": {},
   "outputs": [],
   "source": []
  },
  {
   "cell_type": "markdown",
   "id": "45c6ad9d-54a4-41b8-8564-f76e2bfcec97",
   "metadata": {},
   "source": [
    "### Deleting an element\n",
    "- pop: removes random element. We are not sure what it is\n",
    "- remove(element): Removes particular element"
   ]
  },
  {
   "cell_type": "code",
   "execution_count": 164,
   "id": "3c32484a-9426-49fc-a1ca-8b1c5cf2824a",
   "metadata": {},
   "outputs": [],
   "source": [
    "# Pop\n",
    "# Remove and return an arbitrary set element"
   ]
  },
  {
   "cell_type": "code",
   "execution_count": 165,
   "id": "b82714a9-b0f0-4e98-afcb-001636bee6bb",
   "metadata": {},
   "outputs": [
    {
     "data": {
      "text/plain": [
       "{'Clothes',\n",
       " 'Facewash',\n",
       " 'Paise',\n",
       " 'Soap',\n",
       " 'Toothbrush',\n",
       " 'Toothpaste',\n",
       " 'firsst_aid',\n",
       " 'laptop',\n",
       " 'phone charger',\n",
       " 'shoes',\n",
       " 'slippers'}"
      ]
     },
     "execution_count": 165,
     "metadata": {},
     "output_type": "execute_result"
    }
   ],
   "source": [
    "bag"
   ]
  },
  {
   "cell_type": "code",
   "execution_count": 166,
   "id": "0ec1899d-5c9a-43c3-9368-6a6e2fe7f18b",
   "metadata": {},
   "outputs": [],
   "source": [
    "deleted = bag.pop()"
   ]
  },
  {
   "cell_type": "code",
   "execution_count": 167,
   "id": "6777b4ac-8965-477d-b614-18c979d74bd4",
   "metadata": {},
   "outputs": [
    {
     "name": "stdout",
     "output_type": "stream",
     "text": [
      "shoes\n"
     ]
    }
   ],
   "source": [
    "print(deleted)"
   ]
  },
  {
   "cell_type": "code",
   "execution_count": 168,
   "id": "ca7444ed-1f5b-459e-be47-156caaba3bd2",
   "metadata": {},
   "outputs": [
    {
     "data": {
      "text/plain": [
       "'phone charger'"
      ]
     },
     "execution_count": 168,
     "metadata": {},
     "output_type": "execute_result"
    }
   ],
   "source": [
    "bag.pop()"
   ]
  },
  {
   "cell_type": "code",
   "execution_count": null,
   "id": "73446b92-9e21-48d9-a158-528737b6bad3",
   "metadata": {},
   "outputs": [],
   "source": []
  },
  {
   "cell_type": "code",
   "execution_count": null,
   "id": "5954b047-1865-4b80-96ca-51add473b909",
   "metadata": {},
   "outputs": [],
   "source": []
  },
  {
   "cell_type": "code",
   "execution_count": null,
   "id": "bef52f57-2de1-4263-9ece-569f721c6094",
   "metadata": {},
   "outputs": [],
   "source": []
  },
  {
   "cell_type": "code",
   "execution_count": 169,
   "id": "6b414355-73c1-49d8-831b-5ee4a9454181",
   "metadata": {},
   "outputs": [],
   "source": [
    "# Remove helps to remove a particular element fron your set\n",
    "# It will not return"
   ]
  },
  {
   "cell_type": "code",
   "execution_count": 170,
   "id": "82d32f91-7211-4e63-ab63-64dfa256d716",
   "metadata": {},
   "outputs": [
    {
     "data": {
      "text/plain": [
       "{'Clothes',\n",
       " 'Facewash',\n",
       " 'Paise',\n",
       " 'Soap',\n",
       " 'Toothbrush',\n",
       " 'Toothpaste',\n",
       " 'firsst_aid',\n",
       " 'laptop',\n",
       " 'slippers'}"
      ]
     },
     "execution_count": 170,
     "metadata": {},
     "output_type": "execute_result"
    }
   ],
   "source": [
    "bag"
   ]
  },
  {
   "cell_type": "code",
   "execution_count": 173,
   "id": "c2fbdb8e-1163-4825-ab5c-cfa784edb0d1",
   "metadata": {},
   "outputs": [],
   "source": [
    "# bag.remove(\"Elephant\")"
   ]
  },
  {
   "cell_type": "code",
   "execution_count": 174,
   "id": "97b7cb07-a000-4099-9614-d177d71ec20a",
   "metadata": {},
   "outputs": [],
   "source": [
    "bag.remove(\"laptop\")"
   ]
  },
  {
   "cell_type": "code",
   "execution_count": 175,
   "id": "fb038e4e-eca5-4a2f-8ee1-425789255de8",
   "metadata": {},
   "outputs": [
    {
     "data": {
      "text/plain": [
       "{'Clothes',\n",
       " 'Facewash',\n",
       " 'Paise',\n",
       " 'Soap',\n",
       " 'Toothbrush',\n",
       " 'Toothpaste',\n",
       " 'firsst_aid',\n",
       " 'slippers'}"
      ]
     },
     "execution_count": 175,
     "metadata": {},
     "output_type": "execute_result"
    }
   ],
   "source": [
    "bag"
   ]
  },
  {
   "cell_type": "code",
   "execution_count": 177,
   "id": "ea4306ee-85d5-4949-913d-8e6cdb005ab8",
   "metadata": {},
   "outputs": [],
   "source": [
    "deleted = bag.remove(\"Toothpaste\")"
   ]
  },
  {
   "cell_type": "code",
   "execution_count": 178,
   "id": "cf68f5b0-5fe9-43b6-ae67-eeefce78c294",
   "metadata": {},
   "outputs": [
    {
     "name": "stdout",
     "output_type": "stream",
     "text": [
      "None\n"
     ]
    }
   ],
   "source": [
    "print(deleted)"
   ]
  },
  {
   "cell_type": "code",
   "execution_count": 179,
   "id": "a9cd5810-b08f-42c5-8b45-c1f53d194a9c",
   "metadata": {},
   "outputs": [
    {
     "data": {
      "text/plain": [
       "{'Clothes',\n",
       " 'Facewash',\n",
       " 'Paise',\n",
       " 'Soap',\n",
       " 'Toothbrush',\n",
       " 'firsst_aid',\n",
       " 'slippers'}"
      ]
     },
     "execution_count": 179,
     "metadata": {},
     "output_type": "execute_result"
    }
   ],
   "source": [
    "bag"
   ]
  },
  {
   "cell_type": "code",
   "execution_count": null,
   "id": "fc9bc842-5cc7-45f9-9986-24de9b126c22",
   "metadata": {},
   "outputs": [],
   "source": []
  },
  {
   "cell_type": "code",
   "execution_count": null,
   "id": "cdc1f0a4-cd53-4a7c-8dd2-89f9a21dc4ec",
   "metadata": {},
   "outputs": [],
   "source": []
  },
  {
   "cell_type": "code",
   "execution_count": 180,
   "id": "a98d568a-b331-4d06-9f31-5a77a032abf8",
   "metadata": {},
   "outputs": [],
   "source": [
    "# Delete whole object from memory"
   ]
  },
  {
   "cell_type": "code",
   "execution_count": 181,
   "id": "6777bb2d-107e-44ae-8743-bf339c4a99fd",
   "metadata": {},
   "outputs": [
    {
     "data": {
      "text/plain": [
       "{'Clothes',\n",
       " 'Facewash',\n",
       " 'Paise',\n",
       " 'Soap',\n",
       " 'Toothbrush',\n",
       " 'firsst_aid',\n",
       " 'slippers'}"
      ]
     },
     "execution_count": 181,
     "metadata": {},
     "output_type": "execute_result"
    }
   ],
   "source": [
    "bag"
   ]
  },
  {
   "cell_type": "code",
   "execution_count": 182,
   "id": "e236929c-40ac-4d9e-9393-639999808d62",
   "metadata": {},
   "outputs": [],
   "source": [
    "del bag"
   ]
  },
  {
   "cell_type": "code",
   "execution_count": 184,
   "id": "6420d09f-ccca-4e90-9da7-c6f78bebe14e",
   "metadata": {},
   "outputs": [],
   "source": [
    "x = 5"
   ]
  },
  {
   "cell_type": "code",
   "execution_count": 185,
   "id": "c5144ce5-10bc-42f6-8fd7-a4d83a7a2fd4",
   "metadata": {},
   "outputs": [
    {
     "name": "stdout",
     "output_type": "stream",
     "text": [
      "5\n"
     ]
    }
   ],
   "source": [
    "print(x)"
   ]
  },
  {
   "cell_type": "code",
   "execution_count": 186,
   "id": "d8382b63-a2a9-4fd7-ac84-dea5f6522503",
   "metadata": {},
   "outputs": [],
   "source": [
    "del x"
   ]
  },
  {
   "cell_type": "code",
   "execution_count": 189,
   "id": "92bf3cb8-f8f4-4606-96f1-78855832d9af",
   "metadata": {},
   "outputs": [],
   "source": [
    "# print(x)"
   ]
  },
  {
   "cell_type": "code",
   "execution_count": null,
   "id": "286ea405-cf47-4359-86bf-0db506cc9ff4",
   "metadata": {},
   "outputs": [],
   "source": []
  },
  {
   "cell_type": "code",
   "execution_count": 190,
   "id": "cda5dc24-0313-404c-a225-a94c94a5548a",
   "metadata": {},
   "outputs": [],
   "source": [
    "# Quiz"
   ]
  },
  {
   "cell_type": "code",
   "execution_count": 191,
   "id": "5f04c32e-58a9-4716-a0dd-70672de178d6",
   "metadata": {},
   "outputs": [
    {
     "name": "stdout",
     "output_type": "stream",
     "text": [
      "6\n"
     ]
    }
   ],
   "source": [
    "fruits = {\"apple\", \"banana\", \"cherry\"}\n",
    "fruits.add(\"orange\")\n",
    "fruits.update([\"mango\", \"grape\"])\n",
    "print(len(fruits))"
   ]
  },
  {
   "cell_type": "code",
   "execution_count": 192,
   "id": "4ef97dac-61af-407b-af68-9a59230f9af0",
   "metadata": {},
   "outputs": [
    {
     "data": {
      "text/plain": [
       "{'apple', 'banana', 'cherry', 'grape', 'mango', 'orange'}"
      ]
     },
     "execution_count": 192,
     "metadata": {},
     "output_type": "execute_result"
    }
   ],
   "source": [
    "fruits"
   ]
  },
  {
   "cell_type": "code",
   "execution_count": 193,
   "id": "63293235-4065-419a-b947-bd8235555a14",
   "metadata": {},
   "outputs": [],
   "source": [
    "fruits.update(\"Rahul\")"
   ]
  },
  {
   "cell_type": "code",
   "execution_count": 199,
   "id": "85f5309a-2215-485e-8864-a481459ead54",
   "metadata": {},
   "outputs": [],
   "source": [
    "fruits.remove('l')"
   ]
  },
  {
   "cell_type": "code",
   "execution_count": 200,
   "id": "fd49c0c7-dc97-4490-9c56-661c84c73cdd",
   "metadata": {},
   "outputs": [
    {
     "data": {
      "text/plain": [
       "{'apple', 'banana', 'cherry', 'grape', 'mango', 'orange'}"
      ]
     },
     "execution_count": 200,
     "metadata": {},
     "output_type": "execute_result"
    }
   ],
   "source": [
    "fruits"
   ]
  },
  {
   "cell_type": "code",
   "execution_count": null,
   "id": "aa8dcd96-c45a-4fc6-ab22-2e48c1161dac",
   "metadata": {},
   "outputs": [],
   "source": []
  },
  {
   "cell_type": "code",
   "execution_count": null,
   "id": "e6a78ce2-cb99-4ebd-88e5-e43f182fca5a",
   "metadata": {},
   "outputs": [],
   "source": []
  },
  {
   "cell_type": "code",
   "execution_count": null,
   "id": "30a58d38-8dcb-44de-a7d0-47e7dd913f92",
   "metadata": {},
   "outputs": [],
   "source": []
  },
  {
   "cell_type": "code",
   "execution_count": null,
   "id": "dbfa515b-944e-46cc-8742-7194ad4304f4",
   "metadata": {},
   "outputs": [],
   "source": []
  },
  {
   "cell_type": "markdown",
   "id": "e4c2245b-84ab-4c12-8b79-0285830786a8",
   "metadata": {},
   "source": [
    "### Intersection\n",
    "- Suppose you want to find out which students are enrolled in both the Calculus and Linear Algebra Course. Then you can use the intersection method."
   ]
  },
  {
   "cell_type": "code",
   "execution_count": 201,
   "id": "81158bd8-8e56-4460-8a08-d650789363f8",
   "metadata": {},
   "outputs": [],
   "source": [
    "# Common in both sets"
   ]
  },
  {
   "cell_type": "code",
   "execution_count": 202,
   "id": "bb3934af-df9e-43ca-9d52-cf5cfa4a1336",
   "metadata": {},
   "outputs": [],
   "source": [
    "calculus = {\"Raghav\", \"Rahul\", \"Vinod\", \"Irraya\"}\n",
    "algebra = {\"Johnson\", \"Himanshu\", \"Vinod\", \"Rahul\"}"
   ]
  },
  {
   "cell_type": "code",
   "execution_count": 203,
   "id": "8b9a1edf-1987-4438-b63e-5024307b7732",
   "metadata": {},
   "outputs": [
    {
     "data": {
      "text/plain": [
       "{'Rahul', 'Vinod'}"
      ]
     },
     "execution_count": 203,
     "metadata": {},
     "output_type": "execute_result"
    }
   ],
   "source": [
    "calculus.intersection(algebra)"
   ]
  },
  {
   "cell_type": "code",
   "execution_count": 204,
   "id": "187b588a-e3c5-465b-9ae1-5e647ed00e02",
   "metadata": {},
   "outputs": [
    {
     "data": {
      "text/plain": [
       "{'Rahul', 'Vinod'}"
      ]
     },
     "execution_count": 204,
     "metadata": {},
     "output_type": "execute_result"
    }
   ],
   "source": [
    "algebra.intersection(calculus)"
   ]
  },
  {
   "cell_type": "code",
   "execution_count": null,
   "id": "9a5d705e-66f7-4b8f-a7f4-4829f7761248",
   "metadata": {},
   "outputs": [],
   "source": []
  },
  {
   "cell_type": "code",
   "execution_count": null,
   "id": "8f4e6dd6-5968-4ba1-84aa-58c5207ca4c8",
   "metadata": {},
   "outputs": [],
   "source": []
  },
  {
   "cell_type": "markdown",
   "id": "33e182bc-bbae-457d-9c71-5dda1cfcdc61",
   "metadata": {},
   "source": [
    "### Union\n",
    "- Suppose you want to find out which students are enrolled in either the Calculus or the Linear Algebra Course or in both. Then you can use the union method."
   ]
  },
  {
   "cell_type": "code",
   "execution_count": 205,
   "id": "feff6a9e-9ba9-4243-ae95-68de686747cc",
   "metadata": {},
   "outputs": [],
   "source": [
    "# All elements in both sets"
   ]
  },
  {
   "cell_type": "code",
   "execution_count": 208,
   "id": "4d80c54a-8bce-4f5b-99bc-97389348a590",
   "metadata": {},
   "outputs": [
    {
     "name": "stdout",
     "output_type": "stream",
     "text": [
      "{'Rahul', 'Himanshu', 'Johnson', 'Vinod'}\n",
      "{'Vinod', 'Irraya', 'Raghav', 'Rahul'}\n"
     ]
    }
   ],
   "source": [
    "print(algebra)\n",
    "print(calculus)"
   ]
  },
  {
   "cell_type": "code",
   "execution_count": 209,
   "id": "fd0b67d5-c610-4ee5-ae69-24e3979feaf3",
   "metadata": {},
   "outputs": [
    {
     "data": {
      "text/plain": [
       "{'Himanshu', 'Irraya', 'Johnson', 'Raghav', 'Rahul', 'Vinod'}"
      ]
     },
     "execution_count": 209,
     "metadata": {},
     "output_type": "execute_result"
    }
   ],
   "source": [
    "algebra.union(calculus)"
   ]
  },
  {
   "cell_type": "code",
   "execution_count": 210,
   "id": "adcd2491-017d-4bd7-b7f4-a0c0bf03c602",
   "metadata": {},
   "outputs": [
    {
     "data": {
      "text/plain": [
       "{'Himanshu', 'Irraya', 'Johnson', 'Raghav', 'Rahul', 'Vinod'}"
      ]
     },
     "execution_count": 210,
     "metadata": {},
     "output_type": "execute_result"
    }
   ],
   "source": [
    "calculus.union(algebra)"
   ]
  },
  {
   "cell_type": "code",
   "execution_count": null,
   "id": "b2a0a8f3-5294-4ef1-b30c-c53a0998aa39",
   "metadata": {},
   "outputs": [],
   "source": []
  },
  {
   "cell_type": "code",
   "execution_count": null,
   "id": "f6a17a3e-ba38-414b-a0b2-af6c69c807bd",
   "metadata": {},
   "outputs": [],
   "source": []
  },
  {
   "cell_type": "code",
   "execution_count": null,
   "id": "510911d9-f38e-43e2-aa88-1942de5d7689",
   "metadata": {},
   "outputs": [],
   "source": []
  },
  {
   "cell_type": "markdown",
   "id": "2b99e3aa-f590-4243-b418-106c2c81e3d7",
   "metadata": {},
   "source": [
    "### Difference\n",
    "- Suppose you want to find out the set of students who have enrolled in the Calculus course but not in Linear Algebra course or vice-versa, then we can use the difference method."
   ]
  },
  {
   "cell_type": "code",
   "execution_count": 211,
   "id": "9cbe7a0b-9474-4ea9-91d8-887d5a6fbd31",
   "metadata": {},
   "outputs": [
    {
     "name": "stdout",
     "output_type": "stream",
     "text": [
      "{'Vinod', 'Irraya', 'Raghav', 'Rahul'}\n",
      "{'Rahul', 'Himanshu', 'Johnson', 'Vinod'}\n"
     ]
    }
   ],
   "source": [
    "print(calculus)\n",
    "print(algebra)"
   ]
  },
  {
   "cell_type": "code",
   "execution_count": 212,
   "id": "4a913cd8-e46e-4fef-bd8f-fba4358900e9",
   "metadata": {},
   "outputs": [
    {
     "data": {
      "text/plain": [
       "{'Irraya', 'Raghav'}"
      ]
     },
     "execution_count": 212,
     "metadata": {},
     "output_type": "execute_result"
    }
   ],
   "source": [
    "calculus.difference(algebra)"
   ]
  },
  {
   "cell_type": "code",
   "execution_count": null,
   "id": "5368f2a1-3df3-4d11-9fc0-5e5946a4aea5",
   "metadata": {},
   "outputs": [],
   "source": []
  },
  {
   "cell_type": "code",
   "execution_count": 213,
   "id": "1a1ea509-8245-42ac-985e-4bdcb6178b47",
   "metadata": {},
   "outputs": [
    {
     "data": {
      "text/plain": [
       "{'Himanshu', 'Johnson'}"
      ]
     },
     "execution_count": 213,
     "metadata": {},
     "output_type": "execute_result"
    }
   ],
   "source": [
    "algebra.difference(calculus)"
   ]
  },
  {
   "cell_type": "code",
   "execution_count": null,
   "id": "14de9fe9-8822-41e2-b81b-29a34f7ddb05",
   "metadata": {},
   "outputs": [],
   "source": []
  },
  {
   "cell_type": "code",
   "execution_count": null,
   "id": "ded11c41-b827-44b4-9de7-86f91545503a",
   "metadata": {},
   "outputs": [],
   "source": []
  },
  {
   "cell_type": "code",
   "execution_count": 217,
   "id": "5a680ba1-030e-48cc-8d45-1ad376351bd2",
   "metadata": {},
   "outputs": [],
   "source": [
    "# Doubts"
   ]
  },
  {
   "cell_type": "code",
   "execution_count": 215,
   "id": "e4279f75-4b21-4aec-aae8-1d3919f9d166",
   "metadata": {},
   "outputs": [
    {
     "name": "stdout",
     "output_type": "stream",
     "text": [
      "12\n",
      "45\n",
      "61\n",
      "91\n",
      "55\n"
     ]
    }
   ],
   "source": [
    "runs = [12,45,61,91,55,88,53,234,98] \n",
    "for i in runs:\n",
    "    runs.pop()\n",
    "    print(i)"
   ]
  },
  {
   "cell_type": "code",
   "execution_count": 216,
   "id": "1141c3b5-2651-4b50-b78b-3e1e448b27a4",
   "metadata": {},
   "outputs": [
    {
     "data": {
      "text/plain": [
       "[12, 45, 61, 91]"
      ]
     },
     "execution_count": 216,
     "metadata": {},
     "output_type": "execute_result"
    }
   ],
   "source": [
    "runs"
   ]
  },
  {
   "cell_type": "code",
   "execution_count": null,
   "id": "9bc9c008-f37d-44f4-84e6-e18244f3ae86",
   "metadata": {},
   "outputs": [],
   "source": []
  },
  {
   "cell_type": "code",
   "execution_count": null,
   "id": "22f08948-685b-4deb-877c-f75e450fd72b",
   "metadata": {},
   "outputs": [],
   "source": []
  },
  {
   "cell_type": "code",
   "execution_count": null,
   "id": "5778ac1b-6a54-4da9-a22b-fbefd4ef5a61",
   "metadata": {},
   "outputs": [],
   "source": []
  },
  {
   "cell_type": "code",
   "execution_count": null,
   "id": "44de3bf5-78e8-40af-930a-0f5420e4a4c2",
   "metadata": {},
   "outputs": [],
   "source": []
  },
  {
   "cell_type": "code",
   "execution_count": null,
   "id": "3b84fa3f-9cb4-4eae-9de8-82c1d3ed7a1c",
   "metadata": {},
   "outputs": [],
   "source": []
  },
  {
   "cell_type": "code",
   "execution_count": null,
   "id": "da6d83d9-c22e-4904-bb77-ead18f6b087b",
   "metadata": {},
   "outputs": [],
   "source": []
  }
 ],
 "metadata": {
  "kernelspec": {
   "display_name": "Python 3 (ipykernel)",
   "language": "python",
   "name": "python3"
  },
  "language_info": {
   "codemirror_mode": {
    "name": "ipython",
    "version": 3
   },
   "file_extension": ".py",
   "mimetype": "text/x-python",
   "name": "python",
   "nbconvert_exporter": "python",
   "pygments_lexer": "ipython3",
   "version": "3.9.7"
  }
 },
 "nbformat": 4,
 "nbformat_minor": 5
}
