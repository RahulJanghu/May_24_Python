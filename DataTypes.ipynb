{
 "cells": [
  {
   "cell_type": "markdown",
   "id": "ae248c3b-6862-4799-94e0-47f9f8f04ea5",
   "metadata": {},
   "source": [
    "### Print"
   ]
  },
  {
   "cell_type": "code",
   "execution_count": 1,
   "id": "8881d44f-cc66-45cb-9cfe-98bf17425d81",
   "metadata": {},
   "outputs": [
    {
     "name": "stdout",
     "output_type": "stream",
     "text": [
      "Hello Pythonistas!!\n"
     ]
    }
   ],
   "source": [
    "print(\"Hello Pythonistas!!\")"
   ]
  },
  {
   "cell_type": "code",
   "execution_count": 2,
   "id": "836e113b-b1f8-46b0-b7aa-72fd90f85343",
   "metadata": {},
   "outputs": [
    {
     "name": "stdout",
     "output_type": "stream",
     "text": [
      "Hello all!!\n"
     ]
    }
   ],
   "source": [
    "print(\"Hello all!!\")"
   ]
  },
  {
   "cell_type": "code",
   "execution_count": 3,
   "id": "f2338856-105f-4335-9279-3b74f8dae7e3",
   "metadata": {},
   "outputs": [
    {
     "name": "stdout",
     "output_type": "stream",
     "text": [
      "300\n"
     ]
    }
   ],
   "source": [
    "print(300)"
   ]
  },
  {
   "cell_type": "code",
   "execution_count": 4,
   "id": "acc9f775-6a8f-47b9-9348-46c11007c2bc",
   "metadata": {},
   "outputs": [
    {
     "name": "stdout",
     "output_type": "stream",
     "text": [
      "13\n"
     ]
    }
   ],
   "source": [
    "print(4 + 9)"
   ]
  },
  {
   "cell_type": "code",
   "execution_count": 5,
   "id": "7ece6538-c266-4dff-bebc-a3775d217feb",
   "metadata": {},
   "outputs": [
    {
     "name": "stdout",
     "output_type": "stream",
     "text": [
      "13\n"
     ]
    }
   ],
   "source": [
    "print(9 + 4)"
   ]
  },
  {
   "cell_type": "code",
   "execution_count": 7,
   "id": "f0154521-4dc8-40f7-b25d-fb0aa7ac1cfc",
   "metadata": {},
   "outputs": [
    {
     "name": "stdout",
     "output_type": "stream",
     "text": [
      "13\n"
     ]
    }
   ],
   "source": [
    "print(4 + 9)"
   ]
  },
  {
   "cell_type": "code",
   "execution_count": 8,
   "id": "994d6c3f-9a70-4689-9c0c-370caa7aa31a",
   "metadata": {},
   "outputs": [
    {
     "name": "stdout",
     "output_type": "stream",
     "text": [
      "4 + 9\n"
     ]
    }
   ],
   "source": [
    "print('4 + 9')"
   ]
  },
  {
   "cell_type": "code",
   "execution_count": 9,
   "id": "0df3ccf5-fb4f-4d98-80e3-b8ec4d452cdf",
   "metadata": {},
   "outputs": [],
   "source": [
    "# Quiz"
   ]
  },
  {
   "cell_type": "code",
   "execution_count": 10,
   "id": "c913db8d-c1d2-4f30-9239-c4ced8ad5a7c",
   "metadata": {},
   "outputs": [
    {
     "name": "stdout",
     "output_type": "stream",
     "text": [
      "3\n"
     ]
    }
   ],
   "source": [
    "print(8-5)"
   ]
  },
  {
   "cell_type": "code",
   "execution_count": 11,
   "id": "5807c7fc-4d18-4924-97ec-954af2b3422d",
   "metadata": {},
   "outputs": [
    {
     "name": "stdout",
     "output_type": "stream",
     "text": [
      "8-5\n"
     ]
    }
   ],
   "source": [
    "print('8-5')"
   ]
  },
  {
   "cell_type": "code",
   "execution_count": null,
   "id": "72a9ec8e-3ebc-4c7a-a9aa-13836a2321d6",
   "metadata": {},
   "outputs": [],
   "source": []
  },
  {
   "cell_type": "code",
   "execution_count": null,
   "id": "43bf4ca4-322c-4ad1-989a-be363afa5ab5",
   "metadata": {},
   "outputs": [],
   "source": []
  },
  {
   "cell_type": "markdown",
   "id": "ac46f712-bcb9-4703-8522-a76fa7670d5e",
   "metadata": {
    "tags": []
   },
   "source": [
    "## Data types in Python\n",
    "- Integers\n",
    "- Float\n",
    "- Strings\n",
    "- Bool\n",
    "- None\n",
    "\n",
    "Check Data type"
   ]
  },
  {
   "cell_type": "code",
   "execution_count": null,
   "id": "147f9e19-be42-4940-a2c0-8210d17994fd",
   "metadata": {},
   "outputs": [],
   "source": []
  },
  {
   "cell_type": "code",
   "execution_count": null,
   "id": "c51a5aa3-89da-40f1-afcd-e66299d96f38",
   "metadata": {},
   "outputs": [],
   "source": []
  },
  {
   "cell_type": "markdown",
   "id": "8b90030d-c52c-4c4f-93f5-6bd0faf324a3",
   "metadata": {},
   "source": [
    "#### Integers\n",
    "- You can use an integer represent numeric data, and more specifically, whole numbers from negative infinity to infinity, like 4, 5, or -1."
   ]
  },
  {
   "cell_type": "code",
   "execution_count": 13,
   "id": "c9cb69cd-8c3f-4a88-a918-fb6b5496c528",
   "metadata": {},
   "outputs": [],
   "source": [
    "a = 30"
   ]
  },
  {
   "cell_type": "code",
   "execution_count": 14,
   "id": "c53bc2e5-98be-409d-a499-48a491d8e0f9",
   "metadata": {},
   "outputs": [
    {
     "data": {
      "text/plain": [
       "int"
      ]
     },
     "execution_count": 14,
     "metadata": {},
     "output_type": "execute_result"
    }
   ],
   "source": [
    "type(30)"
   ]
  },
  {
   "cell_type": "code",
   "execution_count": 15,
   "id": "0ede855c-7fb9-4164-9577-5bdeefa04131",
   "metadata": {},
   "outputs": [
    {
     "data": {
      "text/plain": [
       "int"
      ]
     },
     "execution_count": 15,
     "metadata": {},
     "output_type": "execute_result"
    }
   ],
   "source": [
    "type(-231846198264981264986129846819264891624986128946981264891264896128946918264)"
   ]
  },
  {
   "cell_type": "code",
   "execution_count": null,
   "id": "99db048b-c43e-4194-82ae-4a4e0624013f",
   "metadata": {},
   "outputs": [],
   "source": []
  },
  {
   "cell_type": "code",
   "execution_count": null,
   "id": "ada4cea5-7b58-4547-a36e-f2761c08c3b3",
   "metadata": {},
   "outputs": [],
   "source": []
  },
  {
   "cell_type": "markdown",
   "id": "affcbfc4-ce2b-4ee5-a520-fcfc936198f2",
   "metadata": {},
   "source": [
    "#### Type function"
   ]
  },
  {
   "cell_type": "code",
   "execution_count": 16,
   "id": "742b6d78-058f-46a7-96dd-0d042c37930d",
   "metadata": {},
   "outputs": [],
   "source": [
    "# tells the data type of an object"
   ]
  },
  {
   "cell_type": "code",
   "execution_count": null,
   "id": "f41f26fa-932a-400c-8b4f-523153525c45",
   "metadata": {},
   "outputs": [],
   "source": []
  },
  {
   "cell_type": "code",
   "execution_count": null,
   "id": "dfc5f2a7-4b76-478d-9671-42037ec5ac0b",
   "metadata": {},
   "outputs": [],
   "source": []
  },
  {
   "cell_type": "markdown",
   "id": "b0653c67-53b5-436f-a1dd-15dd63f8cc21",
   "metadata": {},
   "source": [
    "#### Floats\n",
    "- \"Float\" stands for 'floating point number'. You can use it for rational numbers, usually ending with a decimal figure, such as 1.11 or 3.14."
   ]
  },
  {
   "cell_type": "code",
   "execution_count": 17,
   "id": "ecd996ac-2d74-4b46-acc8-38bd4f674ece",
   "metadata": {},
   "outputs": [
    {
     "data": {
      "text/plain": [
       "float"
      ]
     },
     "execution_count": 17,
     "metadata": {},
     "output_type": "execute_result"
    }
   ],
   "source": [
    "type(134.12418926489164961946192648126498162498619469812648916248961298469812649814)"
   ]
  },
  {
   "cell_type": "code",
   "execution_count": 18,
   "id": "94679e4d-8f6b-4398-b69d-faa94b3b1b97",
   "metadata": {},
   "outputs": [
    {
     "data": {
      "text/plain": [
       "float"
      ]
     },
     "execution_count": 18,
     "metadata": {},
     "output_type": "execute_result"
    }
   ],
   "source": [
    "type(0.0)"
   ]
  },
  {
   "cell_type": "code",
   "execution_count": 19,
   "id": "dd66e674-5e43-46d9-a685-f794ae9edbf8",
   "metadata": {},
   "outputs": [
    {
     "data": {
      "text/plain": [
       "float"
      ]
     },
     "execution_count": 19,
     "metadata": {},
     "output_type": "execute_result"
    }
   ],
   "source": [
    "type(-5.5)"
   ]
  },
  {
   "cell_type": "code",
   "execution_count": 20,
   "id": "a6b8adfd-c451-4a0c-a1ff-635508f1b871",
   "metadata": {},
   "outputs": [
    {
     "data": {
      "text/plain": [
       "float"
      ]
     },
     "execution_count": 20,
     "metadata": {},
     "output_type": "execute_result"
    }
   ],
   "source": [
    "type(5.0)"
   ]
  },
  {
   "cell_type": "code",
   "execution_count": 21,
   "id": "2ef8aae4-9c60-4fbf-b879-c4df422e0d33",
   "metadata": {},
   "outputs": [
    {
     "data": {
      "text/plain": [
       "float"
      ]
     },
     "execution_count": 21,
     "metadata": {},
     "output_type": "execute_result"
    }
   ],
   "source": [
    "type(5.)"
   ]
  },
  {
   "cell_type": "code",
   "execution_count": null,
   "id": "7358200c-ab33-4869-a898-689e50ef04ce",
   "metadata": {},
   "outputs": [],
   "source": []
  },
  {
   "cell_type": "code",
   "execution_count": null,
   "id": "53c67b1e-f203-44f7-a4dc-e55686c6023b",
   "metadata": {},
   "outputs": [],
   "source": []
  },
  {
   "cell_type": "markdown",
   "id": "0b76e83f-a35b-4be0-9ce9-34c4a93755b1",
   "metadata": {},
   "source": [
    "#### Strings\n",
    "- Strings are collections of alphabets, words or other characters. In Python, you can create strings by enclosing a sequence of characters within a pair of single or double quotes. For example: 'cake', \"cookie\", etc."
   ]
  },
  {
   "cell_type": "code",
   "execution_count": 22,
   "id": "22f95b4e-fca1-401b-93f6-4b447ae5682a",
   "metadata": {},
   "outputs": [],
   "source": [
    "# Printing multiple strings"
   ]
  },
  {
   "cell_type": "code",
   "execution_count": 23,
   "id": "dfd3bff0-7b62-4755-b2cb-8ed489c60271",
   "metadata": {},
   "outputs": [
    {
     "data": {
      "text/plain": [
       "str"
      ]
     },
     "execution_count": 23,
     "metadata": {},
     "output_type": "execute_result"
    }
   ],
   "source": [
    "type(\"x#@ambc33mns\")"
   ]
  },
  {
   "cell_type": "code",
   "execution_count": 24,
   "id": "edc19f4a-a822-4543-8b1a-8486f2cc57ec",
   "metadata": {},
   "outputs": [
    {
     "data": {
      "text/plain": [
       "str"
      ]
     },
     "execution_count": 24,
     "metadata": {},
     "output_type": "execute_result"
    }
   ],
   "source": [
    "type('x#@ambc33mns')"
   ]
  },
  {
   "cell_type": "code",
   "execution_count": 25,
   "id": "26ad696b-9b07-442d-9d82-9ad36c19bfca",
   "metadata": {},
   "outputs": [
    {
     "data": {
      "text/plain": [
       "str"
      ]
     },
     "execution_count": 25,
     "metadata": {},
     "output_type": "execute_result"
    }
   ],
   "source": [
    "type(\"\"\"x#@ambc33mns\"\"\")"
   ]
  },
  {
   "cell_type": "code",
   "execution_count": 26,
   "id": "f9bbead8-1b8c-4eba-a77e-921a2c48b2a8",
   "metadata": {},
   "outputs": [],
   "source": [
    "s = \"hey this is a single line string\""
   ]
  },
  {
   "cell_type": "code",
   "execution_count": 27,
   "id": "7fa1aa35-939a-48fc-bd7a-1dfb5b7b4e3a",
   "metadata": {},
   "outputs": [
    {
     "data": {
      "text/plain": [
       "str"
      ]
     },
     "execution_count": 27,
     "metadata": {},
     "output_type": "execute_result"
    }
   ],
   "source": [
    "type(s)"
   ]
  },
  {
   "cell_type": "code",
   "execution_count": 30,
   "id": "c1bfef11-234a-4856-98cb-a90e0405e3fc",
   "metadata": {},
   "outputs": [],
   "source": [
    "s1 = \"\"\"This is \n",
    "a\n",
    "multiline\n",
    "string\"\"\""
   ]
  },
  {
   "cell_type": "code",
   "execution_count": 31,
   "id": "8f6c81ae-9d55-40ce-bc68-93f73c8e4708",
   "metadata": {},
   "outputs": [
    {
     "data": {
      "text/plain": [
       "str"
      ]
     },
     "execution_count": 31,
     "metadata": {},
     "output_type": "execute_result"
    }
   ],
   "source": [
    "type(s1)"
   ]
  },
  {
   "cell_type": "code",
   "execution_count": 32,
   "id": "53479d3d-923f-4fc6-81be-c2e23429cb9f",
   "metadata": {},
   "outputs": [
    {
     "data": {
      "text/plain": [
       "str"
      ]
     },
     "execution_count": 32,
     "metadata": {},
     "output_type": "execute_result"
    }
   ],
   "source": [
    "type(\"你好\")"
   ]
  },
  {
   "cell_type": "code",
   "execution_count": null,
   "id": "adb51b15-1506-4773-b2d3-2ef009dcd024",
   "metadata": {},
   "outputs": [],
   "source": []
  },
  {
   "cell_type": "code",
   "execution_count": null,
   "id": "6dfdfe52-e1b2-4422-a7a8-0ad60a52bab8",
   "metadata": {},
   "outputs": [],
   "source": []
  },
  {
   "cell_type": "markdown",
   "id": "8e8b6566-d6d7-403a-b282-da06908daa63",
   "metadata": {},
   "source": [
    "#### Boolean\n",
    "- This built-in data type that can take up the values: True and False, which often makes them interchangeable with the integers 1 and 0. Booleans are useful in conditional and comparison expressions"
   ]
  },
  {
   "cell_type": "code",
   "execution_count": 33,
   "id": "2cbcbcba-1cab-4554-857c-192dc0728eab",
   "metadata": {},
   "outputs": [],
   "source": [
    "# True, False"
   ]
  },
  {
   "cell_type": "code",
   "execution_count": 34,
   "id": "da2c61cd-7d25-418c-9f01-1bdd85b23d5a",
   "metadata": {},
   "outputs": [
    {
     "data": {
      "text/plain": [
       "bool"
      ]
     },
     "execution_count": 34,
     "metadata": {},
     "output_type": "execute_result"
    }
   ],
   "source": [
    "type(True)"
   ]
  },
  {
   "cell_type": "code",
   "execution_count": 35,
   "id": "f558d343-9e6d-4680-bba5-9d4919851788",
   "metadata": {},
   "outputs": [
    {
     "data": {
      "text/plain": [
       "bool"
      ]
     },
     "execution_count": 35,
     "metadata": {},
     "output_type": "execute_result"
    }
   ],
   "source": [
    "type(False)"
   ]
  },
  {
   "cell_type": "code",
   "execution_count": null,
   "id": "7efa1217-1385-4417-958d-771395869d19",
   "metadata": {},
   "outputs": [],
   "source": []
  },
  {
   "cell_type": "code",
   "execution_count": 36,
   "id": "780b581e-b318-48ab-8db8-0a703fbf58aa",
   "metadata": {},
   "outputs": [],
   "source": [
    "# Python can differentiate between small case and upper case: CaseSensitive"
   ]
  },
  {
   "cell_type": "code",
   "execution_count": 37,
   "id": "a5ec053d-eeb3-4d46-9bd2-d932fd87c286",
   "metadata": {},
   "outputs": [
    {
     "ename": "NameError",
     "evalue": "name 'true' is not defined",
     "output_type": "error",
     "traceback": [
      "\u001b[0;31m---------------------------------------------------------------------------\u001b[0m",
      "\u001b[0;31mNameError\u001b[0m                                 Traceback (most recent call last)",
      "\u001b[0;32m/var/folders/t5/yhjgrjs907zfp250jyxtw54m0000gn/T/ipykernel_53640/1822790664.py\u001b[0m in \u001b[0;36m<module>\u001b[0;34m\u001b[0m\n\u001b[0;32m----> 1\u001b[0;31m \u001b[0mtype\u001b[0m\u001b[0;34m(\u001b[0m\u001b[0mtrue\u001b[0m\u001b[0;34m)\u001b[0m\u001b[0;34m\u001b[0m\u001b[0;34m\u001b[0m\u001b[0m\n\u001b[0m",
      "\u001b[0;31mNameError\u001b[0m: name 'true' is not defined"
     ]
    }
   ],
   "source": [
    "type(true)"
   ]
  },
  {
   "cell_type": "code",
   "execution_count": 39,
   "id": "80635f43-5460-43dd-95df-8ba157ac044e",
   "metadata": {},
   "outputs": [
    {
     "data": {
      "text/plain": [
       "str"
      ]
     },
     "execution_count": 39,
     "metadata": {},
     "output_type": "execute_result"
    }
   ],
   "source": [
    "type(\"True\")"
   ]
  },
  {
   "cell_type": "code",
   "execution_count": 38,
   "id": "db46bd45-37bb-41c7-85b8-82bc87afa0a1",
   "metadata": {},
   "outputs": [
    {
     "data": {
      "text/plain": [
       "str"
      ]
     },
     "execution_count": 38,
     "metadata": {},
     "output_type": "execute_result"
    }
   ],
   "source": [
    "type(\"21\")"
   ]
  },
  {
   "cell_type": "code",
   "execution_count": null,
   "id": "2aab17ee-c5e0-41b1-a7ae-ebb17d6d6ec2",
   "metadata": {},
   "outputs": [],
   "source": []
  },
  {
   "cell_type": "code",
   "execution_count": null,
   "id": "33a40bc4-3544-4e4c-bc01-568523faa3bc",
   "metadata": {},
   "outputs": [],
   "source": []
  },
  {
   "cell_type": "code",
   "execution_count": 40,
   "id": "631cd59e-2e8e-443c-933c-a74945921388",
   "metadata": {},
   "outputs": [],
   "source": [
    "# 1 is corresponding to True\n",
    "# 0 is corresponding to False"
   ]
  },
  {
   "cell_type": "code",
   "execution_count": null,
   "id": "5d19aadc-2cc1-4938-a3cf-2e64b322f03f",
   "metadata": {},
   "outputs": [],
   "source": []
  },
  {
   "cell_type": "code",
   "execution_count": null,
   "id": "c49129a2-fbff-43c0-b8ce-b79a552e5888",
   "metadata": {},
   "outputs": [],
   "source": []
  },
  {
   "cell_type": "markdown",
   "id": "544c7fed-6a2f-4939-8cff-f17b2087316e",
   "metadata": {},
   "source": [
    "## None Data Type\n",
    "- None data means no data or void"
   ]
  },
  {
   "cell_type": "code",
   "execution_count": 42,
   "id": "d71e8190-a53a-4161-900b-89f40d62f63e",
   "metadata": {},
   "outputs": [
    {
     "data": {
      "text/plain": [
       "NoneType"
      ]
     },
     "execution_count": 42,
     "metadata": {},
     "output_type": "execute_result"
    }
   ],
   "source": [
    "type(None)"
   ]
  },
  {
   "cell_type": "code",
   "execution_count": 46,
   "id": "3dca0735-90d0-4f2c-a2cc-68988c47310e",
   "metadata": {},
   "outputs": [
    {
     "data": {
      "text/plain": [
       "float"
      ]
     },
     "execution_count": 46,
     "metadata": {},
     "output_type": "execute_result"
    }
   ],
   "source": [
    "type(.2)"
   ]
  },
  {
   "cell_type": "code",
   "execution_count": 45,
   "id": "7dae2659-e16d-4bce-b48f-e46e044ba92e",
   "metadata": {},
   "outputs": [
    {
     "data": {
      "text/plain": [
       "str"
      ]
     },
     "execution_count": 45,
     "metadata": {},
     "output_type": "execute_result"
    }
   ],
   "source": [
    "type(\"2.5\")"
   ]
  },
  {
   "cell_type": "code",
   "execution_count": 44,
   "id": "4b1b95a5-facc-44a7-b528-71d1b554dd9d",
   "metadata": {},
   "outputs": [
    {
     "data": {
      "text/plain": [
       "str"
      ]
     },
     "execution_count": 44,
     "metadata": {},
     "output_type": "execute_result"
    }
   ],
   "source": [
    "type(\"3.14\")"
   ]
  },
  {
   "cell_type": "code",
   "execution_count": 43,
   "id": "0d386e8d-64a8-4f48-8f92-c740deb32f97",
   "metadata": {},
   "outputs": [
    {
     "data": {
      "text/plain": [
       "int"
      ]
     },
     "execution_count": 43,
     "metadata": {},
     "output_type": "execute_result"
    }
   ],
   "source": [
    "type(-3)"
   ]
  },
  {
   "cell_type": "code",
   "execution_count": null,
   "id": "8414f02d-440f-439a-bf93-d645b437e027",
   "metadata": {},
   "outputs": [],
   "source": []
  },
  {
   "cell_type": "code",
   "execution_count": null,
   "id": "1c0c5329-f864-4a13-b7e6-366c2c31f20d",
   "metadata": {},
   "outputs": [],
   "source": []
  },
  {
   "cell_type": "markdown",
   "id": "30370d30-f4db-4fad-a320-5e84223192b0",
   "metadata": {},
   "source": [
    "## Variables\n",
    "It's a type of variable's Rules for naming variables\n",
    "\n",
    "- Name must start from Alphabet(small or caps) or underscore(_)\n",
    "- They are case sensitive. It can differentiate between small and CAPS.\n",
    "- Name should not start with number\n",
    "- No special characters\n",
    "- It can be alphanumeric as well"
   ]
  },
  {
   "cell_type": "code",
   "execution_count": 49,
   "id": "9526b145-0242-4da1-9976-bdd210bd21fd",
   "metadata": {},
   "outputs": [],
   "source": [
    "# Variables are containers which holds some data"
   ]
  },
  {
   "cell_type": "code",
   "execution_count": 50,
   "id": "8876c926-ada9-42cb-a987-bdf801647b28",
   "metadata": {},
   "outputs": [],
   "source": [
    "x = 23"
   ]
  },
  {
   "cell_type": "code",
   "execution_count": 51,
   "id": "5bf8d8a3-63ad-4e12-b45a-fcb61dcfb465",
   "metadata": {},
   "outputs": [
    {
     "name": "stdout",
     "output_type": "stream",
     "text": [
      "23\n"
     ]
    }
   ],
   "source": [
    "print(x)"
   ]
  },
  {
   "cell_type": "code",
   "execution_count": 52,
   "id": "dc243825-6602-48d0-9ff3-a52895f0833c",
   "metadata": {},
   "outputs": [],
   "source": [
    "Name  = \"Rahul\""
   ]
  },
  {
   "cell_type": "code",
   "execution_count": 53,
   "id": "98061892-8944-4d1b-8bb4-659f73d51615",
   "metadata": {},
   "outputs": [
    {
     "ename": "NameError",
     "evalue": "name 'name' is not defined",
     "output_type": "error",
     "traceback": [
      "\u001b[0;31m---------------------------------------------------------------------------\u001b[0m",
      "\u001b[0;31mNameError\u001b[0m                                 Traceback (most recent call last)",
      "\u001b[0;32m/var/folders/t5/yhjgrjs907zfp250jyxtw54m0000gn/T/ipykernel_53640/2122694447.py\u001b[0m in \u001b[0;36m<module>\u001b[0;34m\u001b[0m\n\u001b[0;32m----> 1\u001b[0;31m \u001b[0mprint\u001b[0m\u001b[0;34m(\u001b[0m\u001b[0mname\u001b[0m\u001b[0;34m)\u001b[0m\u001b[0;34m\u001b[0m\u001b[0;34m\u001b[0m\u001b[0m\n\u001b[0m",
      "\u001b[0;31mNameError\u001b[0m: name 'name' is not defined"
     ]
    }
   ],
   "source": [
    "print(name)"
   ]
  },
  {
   "cell_type": "code",
   "execution_count": 54,
   "id": "76965020-89a5-4507-b3bd-9c28129bb8c2",
   "metadata": {},
   "outputs": [],
   "source": [
    "_a = 23.5"
   ]
  },
  {
   "cell_type": "code",
   "execution_count": 55,
   "id": "38d71736-aa11-4db0-80e4-6233cd90c6fd",
   "metadata": {},
   "outputs": [
    {
     "name": "stdout",
     "output_type": "stream",
     "text": [
      "23.5\n"
     ]
    }
   ],
   "source": [
    "print(_a)"
   ]
  },
  {
   "cell_type": "code",
   "execution_count": 56,
   "id": "0dbbb3bb-bd29-4c30-9e5b-8782dbd84ab2",
   "metadata": {},
   "outputs": [],
   "source": [
    "a1 = 40"
   ]
  },
  {
   "cell_type": "code",
   "execution_count": 57,
   "id": "939609f6-dae3-497e-819d-ed0784c42305",
   "metadata": {},
   "outputs": [
    {
     "name": "stdout",
     "output_type": "stream",
     "text": [
      "40\n"
     ]
    }
   ],
   "source": [
    "print(a1)"
   ]
  },
  {
   "cell_type": "code",
   "execution_count": 61,
   "id": "cab24f25-c16e-4c7f-b8dd-2af2ea7d9337",
   "metadata": {},
   "outputs": [],
   "source": [
    "first_name = \"Rahul\""
   ]
  },
  {
   "cell_type": "code",
   "execution_count": 62,
   "id": "cb3b17c7-4cb4-4073-b9be-935b002f41a3",
   "metadata": {},
   "outputs": [],
   "source": [
    "你好 = \"Hello\""
   ]
  },
  {
   "cell_type": "code",
   "execution_count": 63,
   "id": "7ad9382b-46a2-4612-bde4-0b41a89841fe",
   "metadata": {},
   "outputs": [
    {
     "name": "stdout",
     "output_type": "stream",
     "text": [
      "Hello\n"
     ]
    }
   ],
   "source": [
    "print(你好)"
   ]
  },
  {
   "cell_type": "code",
   "execution_count": 64,
   "id": "d07442d5-583d-4c1f-9238-6d8f2beac78e",
   "metadata": {},
   "outputs": [],
   "source": [
    "नमस्ते = \"Hello\""
   ]
  },
  {
   "cell_type": "code",
   "execution_count": 65,
   "id": "e9e8e30b-ea84-4024-b4eb-b641da4b8677",
   "metadata": {},
   "outputs": [
    {
     "name": "stdout",
     "output_type": "stream",
     "text": [
      "Hello\n"
     ]
    }
   ],
   "source": [
    "print(नमस्ते)"
   ]
  },
  {
   "cell_type": "code",
   "execution_count": 68,
   "id": "072ff338-a7a1-4c74-8c5d-816aadd3afde",
   "metadata": {},
   "outputs": [],
   "source": [
    "x = \"Hello\"\n",
    "y = \"world\""
   ]
  },
  {
   "cell_type": "code",
   "execution_count": 69,
   "id": "f974b2ef-5115-4f6c-acec-a392d1bbcc9f",
   "metadata": {},
   "outputs": [
    {
     "name": "stdout",
     "output_type": "stream",
     "text": [
      "Hello world\n"
     ]
    }
   ],
   "source": [
    "print(x, y)"
   ]
  },
  {
   "cell_type": "code",
   "execution_count": null,
   "id": "25c6f6f8-f787-48a9-bcee-d9ec127350cd",
   "metadata": {},
   "outputs": [],
   "source": []
  },
  {
   "cell_type": "code",
   "execution_count": 70,
   "id": "95a00e96-a4cc-4ea2-aa6a-50c49037fd9e",
   "metadata": {},
   "outputs": [],
   "source": [
    "# Variable holds latest value"
   ]
  },
  {
   "cell_type": "code",
   "execution_count": 71,
   "id": "278c8d97-2c8d-4335-b60a-d0588bbb1802",
   "metadata": {},
   "outputs": [],
   "source": [
    "x = 5\n",
    "x = 10\n",
    "x = 15"
   ]
  },
  {
   "cell_type": "code",
   "execution_count": 72,
   "id": "86bfd7c6-7ef1-4fb9-b22c-2ce4be2a64aa",
   "metadata": {},
   "outputs": [
    {
     "name": "stdout",
     "output_type": "stream",
     "text": [
      "15\n"
     ]
    }
   ],
   "source": [
    "print(x)"
   ]
  },
  {
   "cell_type": "code",
   "execution_count": null,
   "id": "94a026ae-83ba-43a2-a472-6856641df3fe",
   "metadata": {},
   "outputs": [],
   "source": []
  },
  {
   "cell_type": "code",
   "execution_count": null,
   "id": "e7ec7e07-f257-4ff5-a7c0-e2ffb4c25b3f",
   "metadata": {},
   "outputs": [],
   "source": []
  },
  {
   "cell_type": "markdown",
   "id": "cb852eef-bc51-486b-8b47-e21cb9af3fed",
   "metadata": {},
   "source": [
    "## Input function\n",
    "- It takes input from user i.e us\n",
    "- Typecasting of input function"
   ]
  },
  {
   "cell_type": "code",
   "execution_count": 73,
   "id": "56c38aa4-2544-4716-b306-f76d4941d77e",
   "metadata": {},
   "outputs": [
    {
     "name": "stdin",
     "output_type": "stream",
     "text": [
      " Rahul\n"
     ]
    }
   ],
   "source": [
    "name = input()"
   ]
  },
  {
   "cell_type": "code",
   "execution_count": 74,
   "id": "9b6bee8d-59d3-48cf-ac08-4b37802c7dc8",
   "metadata": {},
   "outputs": [
    {
     "name": "stdout",
     "output_type": "stream",
     "text": [
      "Rahul\n"
     ]
    }
   ],
   "source": [
    "print(name)"
   ]
  },
  {
   "cell_type": "code",
   "execution_count": null,
   "id": "0f960f2c-8239-46e9-a497-c8dbe37a2d46",
   "metadata": {},
   "outputs": [],
   "source": []
  },
  {
   "cell_type": "markdown",
   "id": "2180723a-c8c9-4284-8276-411c33c46954",
   "metadata": {},
   "source": [
    "### Challenge: Take two user input and add them"
   ]
  },
  {
   "cell_type": "code",
   "execution_count": 75,
   "id": "662d6c85-91c7-4eba-90ad-6a5b468da0f2",
   "metadata": {},
   "outputs": [
    {
     "name": "stdin",
     "output_type": "stream",
     "text": [
      " 3\n",
      " 4\n"
     ]
    }
   ],
   "source": [
    "x = input()\n",
    "y = input()"
   ]
  },
  {
   "cell_type": "code",
   "execution_count": 76,
   "id": "65c86dfe-82ca-492f-90da-7d9c2a0932b0",
   "metadata": {},
   "outputs": [
    {
     "name": "stdout",
     "output_type": "stream",
     "text": [
      "34\n"
     ]
    }
   ],
   "source": [
    "print(x + y)"
   ]
  },
  {
   "cell_type": "code",
   "execution_count": 77,
   "id": "7016a238-6cc8-4709-9623-d5d30b71ac87",
   "metadata": {},
   "outputs": [
    {
     "data": {
      "text/plain": [
       "str"
      ]
     },
     "execution_count": 77,
     "metadata": {},
     "output_type": "execute_result"
    }
   ],
   "source": [
    "type(x)"
   ]
  },
  {
   "cell_type": "code",
   "execution_count": null,
   "id": "3bcb331d-b7e0-49bf-9b84-3b7a33998e2e",
   "metadata": {},
   "outputs": [],
   "source": []
  },
  {
   "cell_type": "code",
   "execution_count": 78,
   "id": "eef67913-9fbd-4f3f-9373-fab590791da1",
   "metadata": {},
   "outputs": [],
   "source": [
    "# Default type of input function is string"
   ]
  },
  {
   "cell_type": "code",
   "execution_count": null,
   "id": "92e9798e-d2e2-4a2f-86c3-8bf8eda13b33",
   "metadata": {},
   "outputs": [],
   "source": []
  },
  {
   "cell_type": "code",
   "execution_count": 79,
   "id": "f3817b96-a2b8-4c09-878e-83861f0b1f1f",
   "metadata": {},
   "outputs": [],
   "source": [
    "# String concatenation"
   ]
  },
  {
   "cell_type": "code",
   "execution_count": 80,
   "id": "e163b738-785a-4a44-98ef-4e010753159c",
   "metadata": {},
   "outputs": [],
   "source": [
    "# String addition is known as string concatenation"
   ]
  },
  {
   "cell_type": "code",
   "execution_count": 81,
   "id": "30905ca2-4095-4f44-8cd5-864f9f452b46",
   "metadata": {},
   "outputs": [
    {
     "name": "stdout",
     "output_type": "stream",
     "text": [
      "RahulJanghu\n"
     ]
    }
   ],
   "source": [
    "first_name = \"Rahul\"\n",
    "last_name = \"Janghu\"\n",
    "\n",
    "print(first_name + last_name)"
   ]
  },
  {
   "cell_type": "code",
   "execution_count": 82,
   "id": "574c90bb-347f-4a5d-af2b-668277a902c6",
   "metadata": {},
   "outputs": [
    {
     "data": {
      "text/plain": [
       "'34'"
      ]
     },
     "execution_count": 82,
     "metadata": {},
     "output_type": "execute_result"
    }
   ],
   "source": [
    "\"3\" + \"4\""
   ]
  },
  {
   "cell_type": "code",
   "execution_count": null,
   "id": "7e0c7a8b-1d33-486a-94fc-6ac8eefa0d72",
   "metadata": {},
   "outputs": [],
   "source": []
  },
  {
   "cell_type": "code",
   "execution_count": null,
   "id": "4ae63b19-4df4-464e-a20e-f3c9897e1e0d",
   "metadata": {},
   "outputs": [],
   "source": []
  },
  {
   "cell_type": "code",
   "execution_count": 83,
   "id": "b9d38daf-6529-4be1-a85d-7c002716874f",
   "metadata": {},
   "outputs": [],
   "source": [
    "# Typecasting or type conversion"
   ]
  },
  {
   "cell_type": "code",
   "execution_count": 84,
   "id": "e454b5f2-f09d-449e-8ed6-4b816f67e88e",
   "metadata": {},
   "outputs": [],
   "source": [
    "# The batman costume"
   ]
  },
  {
   "cell_type": "code",
   "execution_count": 85,
   "id": "ff144f27-1d48-4939-b38f-aecf0c6e943f",
   "metadata": {},
   "outputs": [
    {
     "data": {
      "text/plain": [
       "'3'"
      ]
     },
     "execution_count": 85,
     "metadata": {},
     "output_type": "execute_result"
    }
   ],
   "source": [
    "x"
   ]
  },
  {
   "cell_type": "code",
   "execution_count": 87,
   "id": "dfcda024-6752-4298-92a1-21d2e12b3985",
   "metadata": {},
   "outputs": [],
   "source": [
    "x = int(x)"
   ]
  },
  {
   "cell_type": "code",
   "execution_count": 89,
   "id": "e4d55a14-14b1-4fb3-a5e3-5964271dd110",
   "metadata": {},
   "outputs": [
    {
     "name": "stdout",
     "output_type": "stream",
     "text": [
      "3 <class 'int'>\n"
     ]
    }
   ],
   "source": [
    "print(x, type(x))"
   ]
  },
  {
   "cell_type": "code",
   "execution_count": null,
   "id": "0166162e-a9a4-4d74-8413-367b1e8e6d95",
   "metadata": {},
   "outputs": [],
   "source": []
  },
  {
   "cell_type": "code",
   "execution_count": null,
   "id": "e2402a04-f9c3-4b73-a3ec-3f4d705786ab",
   "metadata": {},
   "outputs": [],
   "source": []
  },
  {
   "cell_type": "code",
   "execution_count": 90,
   "id": "c2e749a7-30fc-4113-8607-9dd14591ea64",
   "metadata": {},
   "outputs": [
    {
     "name": "stdin",
     "output_type": "stream",
     "text": [
      " 3\n",
      " 4\n"
     ]
    }
   ],
   "source": [
    "x = int(input())\n",
    "y = int(input())"
   ]
  },
  {
   "cell_type": "code",
   "execution_count": 91,
   "id": "730a5f6f-a813-47ae-8479-a22fe32d71f1",
   "metadata": {},
   "outputs": [
    {
     "name": "stdout",
     "output_type": "stream",
     "text": [
      "7\n"
     ]
    }
   ],
   "source": [
    "print(x + y)"
   ]
  },
  {
   "cell_type": "code",
   "execution_count": null,
   "id": "044cbf72-71d4-4bb9-81fe-f8311877e972",
   "metadata": {},
   "outputs": [],
   "source": []
  },
  {
   "cell_type": "code",
   "execution_count": 92,
   "id": "a6bbdf4a-3030-4ad4-9326-b6dd6b8f595c",
   "metadata": {},
   "outputs": [],
   "source": [
    "# Quiz"
   ]
  },
  {
   "cell_type": "code",
   "execution_count": 93,
   "id": "a36799ba-d766-4f76-a4bc-f082c75990bf",
   "metadata": {},
   "outputs": [
    {
     "name": "stdout",
     "output_type": "stream",
     "text": [
      "hello 5\n"
     ]
    }
   ],
   "source": [
    "x = 3\n",
    "y = 'hello'\n",
    "num = y\n",
    "y = 5\n",
    "print(num, y)"
   ]
  },
  {
   "cell_type": "code",
   "execution_count": null,
   "id": "a3a31684-52c8-495e-8d2b-f6e04c4ebebe",
   "metadata": {},
   "outputs": [],
   "source": []
  },
  {
   "cell_type": "code",
   "execution_count": null,
   "id": "224ed1f7-267e-4893-9e41-2fef237fcf36",
   "metadata": {},
   "outputs": [],
   "source": []
  },
  {
   "cell_type": "code",
   "execution_count": null,
   "id": "d189a760-bbdb-41d6-aefe-f0a9905d1caf",
   "metadata": {},
   "outputs": [],
   "source": []
  },
  {
   "cell_type": "code",
   "execution_count": null,
   "id": "f6c7b67c-9ce2-4769-bc70-3350f6190561",
   "metadata": {},
   "outputs": [],
   "source": []
  },
  {
   "cell_type": "code",
   "execution_count": null,
   "id": "0380d43f-4210-4d26-9d50-5121555f349b",
   "metadata": {},
   "outputs": [],
   "source": []
  }
 ],
 "metadata": {
  "kernelspec": {
   "display_name": "Python 3 (ipykernel)",
   "language": "python",
   "name": "python3"
  },
  "language_info": {
   "codemirror_mode": {
    "name": "ipython",
    "version": 3
   },
   "file_extension": ".py",
   "mimetype": "text/x-python",
   "name": "python",
   "nbconvert_exporter": "python",
   "pygments_lexer": "ipython3",
   "version": "3.9.7"
  }
 },
 "nbformat": 4,
 "nbformat_minor": 5
}
