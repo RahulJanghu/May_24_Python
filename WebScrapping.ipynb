{
 "cells": [
  {
   "cell_type": "markdown",
   "id": "3f7d64c0-727d-4f68-acfe-07d9e2262bae",
   "metadata": {},
   "source": [
    "### Web Scrapping 101"
   ]
  },
  {
   "cell_type": "code",
   "execution_count": 1,
   "id": "9b4638d4-75db-48de-9238-ac32dcf903a5",
   "metadata": {},
   "outputs": [],
   "source": [
    "import requests"
   ]
  },
  {
   "cell_type": "code",
   "execution_count": 2,
   "id": "faabc4c4-49ef-40ff-844f-9bc5011e2b9f",
   "metadata": {},
   "outputs": [
    {
     "name": "stdout",
     "output_type": "stream",
     "text": [
      "Success\n"
     ]
    }
   ],
   "source": [
    "base_url = \"http://books.toscrape.com/index.html\"\n",
    "\n",
    "home_page = requests.get(base_url)\n",
    "\n",
    "# We can check if the request we made is successful or not\n",
    "if home_page.status_code == 200:\n",
    "    print(\"Success\")\n",
    "else:\n",
    "    print(f\"Failed to load. Status code : {home_page.status_code}\")"
   ]
  },
  {
   "cell_type": "code",
   "execution_count": null,
   "id": "c59c449a-8bf7-4e12-b015-e178cfdfb701",
   "metadata": {},
   "outputs": [],
   "source": []
  },
  {
   "cell_type": "code",
   "execution_count": 5,
   "id": "c4250a07-2c12-43a2-a01d-5528540eeff5",
   "metadata": {},
   "outputs": [
    {
     "name": "stdout",
     "output_type": "stream",
     "text": [
      "b'<!DOCTYPE html>\\n<!--[if lt IE 7]>      <html lang=\"en-us\" class=\"no-js lt-ie9 lt-ie8 lt-ie7\"> <![endif]-->\\n<!--[if IE 7]>         <html lang=\"en-us\" class=\"no-js lt-ie9 lt-ie8\"> <![endif]-->\\n<!--[if IE 8]>         <html lang=\"en-us\" class=\"no-js lt-ie9\"> <![endif]-->\\n<!--[if gt IE 8]><!--> <html lang=\"en-us\" class=\"no-js\"> <!--<![endif]-->\\n    <head>\\n        <title>\\n    All products | Books to Scrape - Sandbox\\n</title>\\n\\n        <meta http-equiv=\"content-type\" content=\"text/html; charset=UTF-8\" /'\n"
     ]
    }
   ],
   "source": [
    "print(home_page.content[:500])"
   ]
  },
  {
   "cell_type": "code",
   "execution_count": null,
   "id": "e70b6b3e-e386-4926-9cc6-f42f7e386b37",
   "metadata": {},
   "outputs": [],
   "source": []
  },
  {
   "cell_type": "code",
   "execution_count": 6,
   "id": "55356077-e1a2-40f8-8190-47b8dc8ce63f",
   "metadata": {},
   "outputs": [],
   "source": [
    "from bs4 import BeautifulSoup"
   ]
  },
  {
   "cell_type": "code",
   "execution_count": 9,
   "id": "f79d4385-518b-494b-a38c-35f37c2be6e6",
   "metadata": {},
   "outputs": [],
   "source": [
    "soup = BeautifulSoup(\n",
    "        markup = home_page.content,\n",
    "        parser = \"html.parser\"\n",
    "        )"
   ]
  },
  {
   "cell_type": "code",
   "execution_count": 10,
   "id": "9a994a19-752c-49c9-8cb6-bda5ee7e02a3",
   "metadata": {},
   "outputs": [],
   "source": [
    "books = soup.find_all(name = 'li', class_ = 'col-xs-6 col-sm-4 col-md-3 col-lg-3')"
   ]
  },
  {
   "cell_type": "code",
   "execution_count": 13,
   "id": "67c0ae7d-8665-487f-bdf5-82919a83a2d1",
   "metadata": {},
   "outputs": [
    {
     "data": {
      "text/plain": [
       "20"
      ]
     },
     "execution_count": 13,
     "metadata": {},
     "output_type": "execute_result"
    }
   ],
   "source": [
    "len(books)"
   ]
  },
  {
   "cell_type": "code",
   "execution_count": 15,
   "id": "ee060953-6776-4ae9-b5f4-0b4ceb73e5a7",
   "metadata": {},
   "outputs": [],
   "source": [
    "book_one = books[0]"
   ]
  },
  {
   "cell_type": "code",
   "execution_count": 26,
   "id": "41593a6f-e9b9-4fbc-b002-5a3365f6edd6",
   "metadata": {},
   "outputs": [],
   "source": [
    "# book_one"
   ]
  },
  {
   "cell_type": "code",
   "execution_count": null,
   "id": "118135c0-5ad9-45c7-a3bb-1604fc5bbcc4",
   "metadata": {},
   "outputs": [],
   "source": []
  },
  {
   "cell_type": "code",
   "execution_count": 17,
   "id": "01c2b6aa-dd1a-420e-8017-44a00ea0e8e6",
   "metadata": {},
   "outputs": [],
   "source": [
    "book_one_anchor = book_one.findChild('a')"
   ]
  },
  {
   "cell_type": "code",
   "execution_count": 18,
   "id": "922fc343-07f5-49bb-931a-395b21c570ff",
   "metadata": {},
   "outputs": [
    {
     "data": {
      "text/plain": [
       "<a href=\"catalogue/a-light-in-the-attic_1000/index.html\"><img alt=\"A Light in the Attic\" class=\"thumbnail\" src=\"media/cache/2c/da/2cdad67c44b002e7ead0cc35693c0e8b.jpg\"/></a>"
      ]
     },
     "execution_count": 18,
     "metadata": {},
     "output_type": "execute_result"
    }
   ],
   "source": [
    "book_one_anchor"
   ]
  },
  {
   "cell_type": "code",
   "execution_count": 19,
   "id": "e53d786c-c69b-40db-902d-9e97f19a0cec",
   "metadata": {},
   "outputs": [],
   "source": [
    "book_one_url = book_one_anchor.get('href')"
   ]
  },
  {
   "cell_type": "code",
   "execution_count": 20,
   "id": "97017b29-1d89-4893-b187-4bdc0eba53ff",
   "metadata": {},
   "outputs": [
    {
     "data": {
      "text/plain": [
       "'catalogue/a-light-in-the-attic_1000/index.html'"
      ]
     },
     "execution_count": 20,
     "metadata": {},
     "output_type": "execute_result"
    }
   ],
   "source": [
    "book_one_url"
   ]
  },
  {
   "cell_type": "code",
   "execution_count": 21,
   "id": "759da54d-225d-4606-8186-f991fa0c6e44",
   "metadata": {},
   "outputs": [
    {
     "data": {
      "text/plain": [
       "'catalogue/a-light-in-the-attic_1000/index.html'"
      ]
     },
     "execution_count": 21,
     "metadata": {},
     "output_type": "execute_result"
    }
   ],
   "source": [
    "book_one.findChild('a').get('href')"
   ]
  },
  {
   "cell_type": "code",
   "execution_count": null,
   "id": "bb0933b4-5b5c-4763-8945-01dc82e1c09b",
   "metadata": {},
   "outputs": [],
   "source": []
  },
  {
   "cell_type": "code",
   "execution_count": 22,
   "id": "6d0a2acf-a0fb-4714-8c13-4883dde014a7",
   "metadata": {},
   "outputs": [
    {
     "data": {
      "text/plain": [
       "'http://books.toscrape.com/index.html'"
      ]
     },
     "execution_count": 22,
     "metadata": {},
     "output_type": "execute_result"
    }
   ],
   "source": [
    "base_url"
   ]
  },
  {
   "cell_type": "code",
   "execution_count": 23,
   "id": "91a4e4e3-4924-485d-9e66-ce51d7cd12c1",
   "metadata": {},
   "outputs": [],
   "source": [
    "from urllib.parse import urljoin"
   ]
  },
  {
   "cell_type": "code",
   "execution_count": 24,
   "id": "1886a9ec-cb57-4459-a31f-cbb1fb6557df",
   "metadata": {},
   "outputs": [],
   "source": [
    "book_one_url = urljoin(base_url, book_one_url)"
   ]
  },
  {
   "cell_type": "code",
   "execution_count": 25,
   "id": "491fa77f-b758-4a1a-a3e3-10b1f2fea4c8",
   "metadata": {},
   "outputs": [
    {
     "data": {
      "text/plain": [
       "'http://books.toscrape.com/catalogue/a-light-in-the-attic_1000/index.html'"
      ]
     },
     "execution_count": 25,
     "metadata": {},
     "output_type": "execute_result"
    }
   ],
   "source": [
    "book_one_url"
   ]
  },
  {
   "cell_type": "code",
   "execution_count": 27,
   "id": "7fdd89fa-383f-48ca-a865-c1a51cbea354",
   "metadata": {},
   "outputs": [],
   "source": [
    "the_book_one_page = requests.get(book_one_url).content\n",
    "book_one_soup = BeautifulSoup(the_book_one_page)"
   ]
  },
  {
   "cell_type": "code",
   "execution_count": 31,
   "id": "3890587a-e928-453e-94b0-bc2ce45d74ef",
   "metadata": {},
   "outputs": [],
   "source": [
    "title = book_one_soup.find('h1').text"
   ]
  },
  {
   "cell_type": "code",
   "execution_count": 33,
   "id": "ab8680bb-8a5d-4132-9f3f-5e038b6d1560",
   "metadata": {},
   "outputs": [
    {
     "data": {
      "text/plain": [
       "'A Light in the Attic'"
      ]
     },
     "execution_count": 33,
     "metadata": {},
     "output_type": "execute_result"
    }
   ],
   "source": [
    "title"
   ]
  },
  {
   "cell_type": "code",
   "execution_count": 34,
   "id": "e2694696-1416-49f1-8d05-5bfed69fea58",
   "metadata": {},
   "outputs": [],
   "source": [
    "book_one_table = book_one_soup.find_all('tr')"
   ]
  },
  {
   "cell_type": "code",
   "execution_count": 37,
   "id": "b5fbd8d7-21e6-452d-83ab-24fe3037dcce",
   "metadata": {},
   "outputs": [
    {
     "data": {
      "text/plain": [
       "7"
      ]
     },
     "execution_count": 37,
     "metadata": {},
     "output_type": "execute_result"
    }
   ],
   "source": [
    "len(book_one_table)"
   ]
  },
  {
   "cell_type": "code",
   "execution_count": 40,
   "id": "82f2bd9e-e4c2-489f-9889-fb21cc41de3a",
   "metadata": {},
   "outputs": [
    {
     "data": {
      "text/plain": [
       "<tr>\n",
       "<th>Price (excl. tax)</th><td>£51.77</td>\n",
       "</tr>"
      ]
     },
     "execution_count": 40,
     "metadata": {},
     "output_type": "execute_result"
    }
   ],
   "source": [
    "book_one_table[2]"
   ]
  },
  {
   "cell_type": "code",
   "execution_count": 42,
   "id": "2616e366-ce41-46af-9833-862d355d3167",
   "metadata": {},
   "outputs": [],
   "source": [
    "book_one_data = {\n",
    "    \"Title\" : title\n",
    "}\n",
    "\n",
    "for book in book_one_table:\n",
    "    key = book.find('th').text\n",
    "    value = book.find('td').text\n",
    "    \n",
    "    book_one_data[key] = value\n"
   ]
  },
  {
   "cell_type": "code",
   "execution_count": 43,
   "id": "65b6c020-2943-452f-9eba-b98d90ae272e",
   "metadata": {},
   "outputs": [
    {
     "data": {
      "text/plain": [
       "{'Title': 'A Light in the Attic',\n",
       " 'UPC': 'a897fe39b1053632',\n",
       " 'Product Type': 'Books',\n",
       " 'Price (excl. tax)': '£51.77',\n",
       " 'Price (incl. tax)': '£51.77',\n",
       " 'Tax': '£0.00',\n",
       " 'Availability': 'In stock (22 available)',\n",
       " 'Number of reviews': '0'}"
      ]
     },
     "execution_count": 43,
     "metadata": {},
     "output_type": "execute_result"
    }
   ],
   "source": [
    "book_one_data"
   ]
  },
  {
   "cell_type": "code",
   "execution_count": null,
   "id": "7634dc2a-2729-4604-8c6d-b87fe12145ed",
   "metadata": {},
   "outputs": [],
   "source": []
  },
  {
   "cell_type": "code",
   "execution_count": 45,
   "id": "6f757bc1-0cf8-4023-8e9b-e27eef4feb1e",
   "metadata": {},
   "outputs": [],
   "source": [
    "def scrape_book(book_url):\n",
    "    book_page = requests.get(book_url).content\n",
    "    book_soup = BeautifulSoup(book_page)\n",
    "    \n",
    "    book_data = {}\n",
    "    \n",
    "    title = book_soup.find('h1').text\n",
    "    book_data['title'] = title\n",
    "    \n",
    "    book_table_data = book_soup.find_all('tr')\n",
    "    \n",
    "    # For product information iterate and get all key value pairs\n",
    "    for book in book_table_data:\n",
    "        key = book.find('th').text\n",
    "        value = book.find('td').text\n",
    "        \n",
    "        book_data[key] = value\n",
    "    \n",
    "    return book_data"
   ]
  },
  {
   "cell_type": "code",
   "execution_count": 46,
   "id": "5126463c-c504-4063-b9f9-c9e5145c0b70",
   "metadata": {},
   "outputs": [
    {
     "data": {
      "text/plain": [
       "{'title': 'A Light in the Attic',\n",
       " 'UPC': 'a897fe39b1053632',\n",
       " 'Product Type': 'Books',\n",
       " 'Price (excl. tax)': '£51.77',\n",
       " 'Price (incl. tax)': '£51.77',\n",
       " 'Tax': '£0.00',\n",
       " 'Availability': 'In stock (22 available)',\n",
       " 'Number of reviews': '0'}"
      ]
     },
     "execution_count": 46,
     "metadata": {},
     "output_type": "execute_result"
    }
   ],
   "source": [
    "scrape_book('http://books.toscrape.com/catalogue/a-light-in-the-attic_1000/index.html')"
   ]
  },
  {
   "cell_type": "code",
   "execution_count": 48,
   "id": "7d0d622d-9426-43e4-be74-eaa01d9b1c67",
   "metadata": {},
   "outputs": [
    {
     "data": {
      "text/plain": [
       "{'title': 'Tipping the Velvet',\n",
       " 'UPC': '90fa61229261140a',\n",
       " 'Product Type': 'Books',\n",
       " 'Price (excl. tax)': '£53.74',\n",
       " 'Price (incl. tax)': '£53.74',\n",
       " 'Tax': '£0.00',\n",
       " 'Availability': 'In stock (20 available)',\n",
       " 'Number of reviews': '0'}"
      ]
     },
     "execution_count": 48,
     "metadata": {},
     "output_type": "execute_result"
    }
   ],
   "source": [
    "scrape_book('https://books.toscrape.com/catalogue/tipping-the-velvet_999/index.html')"
   ]
  },
  {
   "cell_type": "code",
   "execution_count": null,
   "id": "1c96a17a-8673-4c10-a7d6-9a463744cb40",
   "metadata": {},
   "outputs": [],
   "source": []
  },
  {
   "cell_type": "code",
   "execution_count": 49,
   "id": "1a23c078-985b-44e0-8ea8-db970af3e047",
   "metadata": {},
   "outputs": [],
   "source": [
    "def scrape_page(base_url):\n",
    "    page = requests.get(base_url).content\n",
    "    page_soup = BeautifulSoup(page)\n",
    "    \n",
    "    books = soup.find_all(name = 'li', class_ = 'col-xs-6 col-sm-4 col-md-3 col-lg-3')\n",
    "    \n",
    "    book_list = []\n",
    "    \n",
    "    for book in books:\n",
    "        relative_path = book.findChild('a').get('href')\n",
    "        book_url = urljoin(base_url, relative_path)\n",
    "        \n",
    "        book_data = scrape_book(book_url)\n",
    "        \n",
    "        book_list.append(book_data)\n",
    "        \n",
    "    return book_list"
   ]
  },
  {
   "cell_type": "code",
   "execution_count": 51,
   "id": "00a90c96-feab-45e4-9f4f-2d3eefa8109a",
   "metadata": {},
   "outputs": [],
   "source": [
    "books = scrape_page('http://books.toscrape.com/index.html')"
   ]
  },
  {
   "cell_type": "code",
   "execution_count": 52,
   "id": "29845cea-1ea3-4c3d-bf27-8653889de9da",
   "metadata": {},
   "outputs": [
    {
     "data": {
      "text/plain": [
       "20"
      ]
     },
     "execution_count": 52,
     "metadata": {},
     "output_type": "execute_result"
    }
   ],
   "source": [
    "len(books)"
   ]
  },
  {
   "cell_type": "code",
   "execution_count": null,
   "id": "422402aa-cf17-4ede-8803-77459da2707e",
   "metadata": {},
   "outputs": [],
   "source": []
  },
  {
   "cell_type": "code",
   "execution_count": null,
   "id": "4aaf1147-cb72-4391-ad66-f969d0a84b1a",
   "metadata": {},
   "outputs": [],
   "source": []
  },
  {
   "cell_type": "code",
   "execution_count": null,
   "id": "0f7dd205-565d-43a4-8b02-35fd06c40fdc",
   "metadata": {},
   "outputs": [],
   "source": []
  },
  {
   "cell_type": "code",
   "execution_count": null,
   "id": "f3fa4927-3ef9-4639-a135-9963e16c10de",
   "metadata": {},
   "outputs": [],
   "source": []
  },
  {
   "cell_type": "code",
   "execution_count": null,
   "id": "84fbe96a-883e-4cf1-95ab-27118eb9956c",
   "metadata": {},
   "outputs": [],
   "source": []
  },
  {
   "cell_type": "code",
   "execution_count": null,
   "id": "819bc684-5b8c-4dc9-82f5-0a8f47143388",
   "metadata": {},
   "outputs": [],
   "source": []
  },
  {
   "cell_type": "code",
   "execution_count": null,
   "id": "df216465-f10a-4722-8a1d-ba0abfbc8f16",
   "metadata": {},
   "outputs": [],
   "source": []
  },
  {
   "cell_type": "code",
   "execution_count": null,
   "id": "518f2db1-050f-4c81-8c49-7d05e80da976",
   "metadata": {},
   "outputs": [],
   "source": []
  }
 ],
 "metadata": {
  "kernelspec": {
   "display_name": "Python 3 (ipykernel)",
   "language": "python",
   "name": "python3"
  },
  "language_info": {
   "codemirror_mode": {
    "name": "ipython",
    "version": 3
   },
   "file_extension": ".py",
   "mimetype": "text/x-python",
   "name": "python",
   "nbconvert_exporter": "python",
   "pygments_lexer": "ipython3",
   "version": "3.9.7"
  }
 },
 "nbformat": 4,
 "nbformat_minor": 5
}
