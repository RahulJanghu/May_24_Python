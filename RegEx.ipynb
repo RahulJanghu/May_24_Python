{
 "cells": [
  {
   "cell_type": "markdown",
   "id": "4fca07bb-6842-4a1c-b7f7-19e0acbabe10",
   "metadata": {},
   "source": [
    "### Regex\n",
    "- Regular Expression"
   ]
  },
  {
   "cell_type": "code",
   "execution_count": 11,
   "id": "cf869f21-ccb8-4bf4-bca8-74483fd82664",
   "metadata": {},
   "outputs": [],
   "source": [
    "import re # importing regex library\n",
    "\n",
    "def is_vemail(s):\n",
    "    email_pattern = \"^\\w+([\\.-]?\\w+)*@\\w+([|.-]?\\w+)*(\\.\\w{2,3})+$\"\n",
    "    res = re.search(email_pattern, s)\n",
    "    # Scans through string looking for the first location where this\n",
    "    # pattern is found\n",
    "    \n",
    "    if res:\n",
    "        return True\n",
    "    else:\n",
    "        return False"
   ]
  },
  {
   "cell_type": "code",
   "execution_count": 12,
   "id": "04c842c8-fa11-4070-b4de-42f054049f62",
   "metadata": {},
   "outputs": [
    {
     "data": {
      "text/plain": [
       "False"
      ]
     },
     "execution_count": 12,
     "metadata": {},
     "output_type": "execute_result"
    }
   ],
   "source": [
    "is_vemail(\"abc@sclaer\")"
   ]
  },
  {
   "cell_type": "code",
   "execution_count": 14,
   "id": "bbf081ea-bd34-400b-8605-fa9f36979971",
   "metadata": {},
   "outputs": [
    {
     "data": {
      "text/plain": [
       "True"
      ]
     },
     "execution_count": 14,
     "metadata": {},
     "output_type": "execute_result"
    }
   ],
   "source": [
    "is_vemail(\"rahul.janghu@scaler.com\")"
   ]
  },
  {
   "cell_type": "code",
   "execution_count": 29,
   "id": "2cd6fd6c-99a9-41c1-b420-a56766ac1733",
   "metadata": {},
   "outputs": [],
   "source": [
    "data = open('data.txt', 'r')"
   ]
  },
  {
   "cell_type": "code",
   "execution_count": 35,
   "id": "baa7c252-102d-40d6-9ddb-c7f7c4d55689",
   "metadata": {},
   "outputs": [],
   "source": [
    "# data = open('data.txt', 'r').read()"
   ]
  },
  {
   "cell_type": "code",
   "execution_count": 30,
   "id": "5ea8c11f-cbf2-4652-b140-e8b91546d475",
   "metadata": {},
   "outputs": [],
   "source": [
    "data = data.read()"
   ]
  },
  {
   "cell_type": "code",
   "execution_count": 33,
   "id": "b9c50c42-8e49-4f45-8e60-e2a736065ede",
   "metadata": {},
   "outputs": [
    {
     "name": "stdout",
     "output_type": "stream",
     "text": [
      "Dave Martin\n",
      "615-555-7164\n",
      "173 Main St., Springfield RI 55924\n",
      "davemartin@bogusemail.com\n",
      "\n",
      "Charles Harris\n",
      "800-555-5669\n",
      "969 High St., Atlantis VA 34075\n",
      "charlesharris@bogusemail.com\n",
      "\n",
      "Eric Williams\n",
      "560-555-5153\n",
      "806 1st St., Faketown AK 86847\n",
      "laurawilliams@bogusemail.com\n",
      "\n",
      "Corey Jefferson\n",
      "900-555-9340\n",
      "826 Elm St., Epicburg NE 10671\n",
      "coreyjefferson@bogusemail.com\n",
      "\n",
      "Jennifer Martin-White\n",
      "714-555-7405\n",
      "212 Cedar St., Sunnydale CT 74983\n",
      "jenniferwhite@bogusemail.com\n",
      "\n",
      "Erick Davis\n",
      "800-555-6771\n",
      "519 Washington St., \n"
     ]
    }
   ],
   "source": [
    "print(data[:500])"
   ]
  },
  {
   "cell_type": "code",
   "execution_count": null,
   "id": "2ed94ee2-2777-4b37-9e15-34595821a5ac",
   "metadata": {},
   "outputs": [],
   "source": []
  },
  {
   "cell_type": "code",
   "execution_count": 41,
   "id": "ae5038d7-369f-4acb-b06c-449e94b64525",
   "metadata": {},
   "outputs": [
    {
     "name": "stdout",
     "output_type": "stream",
     "text": [
      "True\n"
     ]
    }
   ],
   "source": [
    "# re.match(pattern, string) --> Matches pattern in the beginning of the string\n",
    "\n",
    "phone_number = \"789-569-9678\"\n",
    "pattern = \"\\d{3}-\\d{3}-\\d{4}\"\n",
    "\n",
    "if re.match(pattern, phone_number):\n",
    "    print(True)\n",
    "else:\n",
    "    print(False)"
   ]
  },
  {
   "cell_type": "code",
   "execution_count": null,
   "id": "2362d568-f3ba-404f-a9d4-e9d345a65af3",
   "metadata": {},
   "outputs": [],
   "source": []
  },
  {
   "cell_type": "code",
   "execution_count": 42,
   "id": "613c33be-f888-4440-8bd8-f797c96a6d54",
   "metadata": {},
   "outputs": [
    {
     "data": {
      "text/plain": [
       "<re.Match object; span=(12, 24), match='615-555-7164'>"
      ]
     },
     "execution_count": 42,
     "metadata": {},
     "output_type": "execute_result"
    }
   ],
   "source": [
    "# re.search(pattern, string) --> Finds out first occurence of pattern in the string\n",
    "\n",
    "re.search(pattern, data)"
   ]
  },
  {
   "cell_type": "code",
   "execution_count": null,
   "id": "ca957cbc-8ea3-4d53-a6ab-6997454bbb76",
   "metadata": {},
   "outputs": [],
   "source": []
  },
  {
   "cell_type": "code",
   "execution_count": 44,
   "id": "c5a6cbe2-674b-4c56-abe0-09f9ffe435a1",
   "metadata": {},
   "outputs": [
    {
     "data": {
      "text/plain": [
       "['615-555-7164',\n",
       " '800-555-5669',\n",
       " '560-555-5153',\n",
       " '900-555-9340',\n",
       " '714-555-7405',\n",
       " '800-555-6771',\n",
       " '783-555-4799',\n",
       " '516-555-4615',\n",
       " '127-555-1867',\n",
       " '608-555-4938',\n",
       " '568-555-6051',\n",
       " '292-555-1875',\n",
       " '900-555-3205',\n",
       " '614-555-1166',\n",
       " '530-555-2676',\n",
       " '470-555-2750',\n",
       " '800-555-6089',\n",
       " '880-555-8319',\n",
       " '777-555-8378',\n",
       " '998-555-7385',\n",
       " '800-555-7100',\n",
       " '903-555-8277',\n",
       " '196-555-5674',\n",
       " '900-555-5118',\n",
       " '905-555-1630',\n",
       " '203-555-3475',\n",
       " '884-555-8444',\n",
       " '904-555-8559',\n",
       " '889-555-7393',\n",
       " '195-555-2405',\n",
       " '321-555-9053',\n",
       " '133-555-1711',\n",
       " '900-555-5428',\n",
       " '760-555-7147',\n",
       " '391-555-6621',\n",
       " '932-555-7724',\n",
       " '609-555-7908',\n",
       " '800-555-8810',\n",
       " '149-555-7657',\n",
       " '130-555-9709',\n",
       " '143-555-9295',\n",
       " '903-555-9878',\n",
       " '574-555-3194',\n",
       " '496-555-7533',\n",
       " '210-555-3757',\n",
       " '900-555-9598',\n",
       " '866-555-9844',\n",
       " '669-555-7159',\n",
       " '152-555-7417',\n",
       " '893-555-9832',\n",
       " '217-555-7123',\n",
       " '786-555-6544',\n",
       " '780-555-2574',\n",
       " '926-555-8735',\n",
       " '895-555-3539',\n",
       " '874-555-3949',\n",
       " '800-555-2420',\n",
       " '936-555-6340',\n",
       " '372-555-9809',\n",
       " '890-555-5618',\n",
       " '670-555-3005',\n",
       " '509-555-5997',\n",
       " '721-555-5632',\n",
       " '900-555-3567',\n",
       " '147-555-6830',\n",
       " '582-555-3426',\n",
       " '400-555-1706',\n",
       " '525-555-1793',\n",
       " '317-555-6700',\n",
       " '974-555-8301',\n",
       " '800-555-3216',\n",
       " '746-555-4094',\n",
       " '922-555-1773',\n",
       " '711-555-4427',\n",
       " '355-555-1872',\n",
       " '852-555-6521',\n",
       " '691-555-5773',\n",
       " '332-555-5441',\n",
       " '900-555-7755',\n",
       " '379-555-3685',\n",
       " '127-555-9682',\n",
       " '789-555-7032',\n",
       " '783-555-5135',\n",
       " '315-555-6507',\n",
       " '481-555-5835',\n",
       " '365-555-8287',\n",
       " '911-555-7535',\n",
       " '681-555-2460',\n",
       " '274-555-9800',\n",
       " '800-555-1372',\n",
       " '300-555-7821',\n",
       " '133-555-3889',\n",
       " '705-555-6863',\n",
       " '215-555-9449',\n",
       " '988-555-6112',\n",
       " '623-555-3006',\n",
       " '192-555-4977',\n",
       " '178-555-4899',\n",
       " '952-555-3089',\n",
       " '900-555-6426']"
      ]
     },
     "execution_count": 44,
     "metadata": {},
     "output_type": "execute_result"
    }
   ],
   "source": [
    "# re.findall(pattern, string) --> Finds all the occurences of the pattern in the string\n",
    "\n",
    "re.findall(pattern, data)"
   ]
  },
  {
   "cell_type": "code",
   "execution_count": null,
   "id": "60c44ab0-01f6-44dd-b2d4-e3255d2cbe9d",
   "metadata": {},
   "outputs": [],
   "source": []
  },
  {
   "cell_type": "code",
   "execution_count": 58,
   "id": "122fdc10-ceb9-432e-ab00-888e08f38a96",
   "metadata": {},
   "outputs": [],
   "source": [
    "number = re.finditer(pattern, data)"
   ]
  },
  {
   "cell_type": "code",
   "execution_count": 49,
   "id": "7e733f7e-3115-437e-918a-8b385e95cd21",
   "metadata": {},
   "outputs": [
    {
     "name": "stdout",
     "output_type": "stream",
     "text": [
      "<re.Match object; span=(12, 24), match='615-555-7164'>\n",
      "<re.Match object; span=(102, 114), match='800-555-5669'>\n",
      "<re.Match object; span=(191, 203), match='560-555-5153'>\n",
      "<re.Match object; span=(281, 293), match='900-555-9340'>\n",
      "<re.Match object; span=(378, 390), match='714-555-7405'>\n",
      "<re.Match object; span=(467, 479), match='800-555-6771'>\n",
      "<re.Match object; span=(557, 569), match='783-555-4799'>\n",
      "<re.Match object; span=(647, 659), match='516-555-4615'>\n",
      "<re.Match object; span=(740, 752), match='127-555-1867'>\n",
      "<re.Match object; span=(829, 841), match='608-555-4938'>\n",
      "<re.Match object; span=(915, 927), match='568-555-6051'>\n",
      "<re.Match object; span=(1003, 1015), match='292-555-1875'>\n",
      "<re.Match object; span=(1091, 1103), match='900-555-3205'>\n",
      "<re.Match object; span=(1180, 1192), match='614-555-1166'>\n",
      "<re.Match object; span=(1269, 1281), match='530-555-2676'>\n",
      "<re.Match object; span=(1355, 1367), match='470-555-2750'>\n",
      "<re.Match object; span=(1439, 1451), match='800-555-6089'>\n",
      "<re.Match object; span=(1526, 1538), match='880-555-8319'>\n",
      "<re.Match object; span=(1614, 1626), match='777-555-8378'>\n",
      "<re.Match object; span=(1697, 1709), match='998-555-7385'>\n",
      "<re.Match object; span=(1790, 1802), match='800-555-7100'>\n",
      "<re.Match object; span=(1874, 1886), match='903-555-8277'>\n",
      "<re.Match object; span=(1962, 1974), match='196-555-5674'>\n",
      "<re.Match object; span=(2051, 2063), match='900-555-5118'>\n",
      "<re.Match object; span=(2135, 2147), match='905-555-1630'>\n",
      "<re.Match object; span=(2216, 2228), match='203-555-3475'>\n",
      "<re.Match object; span=(2300, 2312), match='884-555-8444'>\n",
      "<re.Match object; span=(2387, 2399), match='904-555-8559'>\n",
      "<re.Match object; span=(2475, 2487), match='889-555-7393'>\n",
      "<re.Match object; span=(2562, 2574), match='195-555-2405'>\n",
      "<re.Match object; span=(2647, 2659), match='321-555-9053'>\n",
      "<re.Match object; span=(2734, 2746), match='133-555-1711'>\n",
      "<re.Match object; span=(2826, 2838), match='900-555-5428'>\n",
      "<re.Match object; span=(2915, 2927), match='760-555-7147'>\n",
      "<re.Match object; span=(3012, 3024), match='391-555-6621'>\n",
      "<re.Match object; span=(3103, 3115), match='932-555-7724'>\n",
      "<re.Match object; span=(3192, 3204), match='609-555-7908'>\n",
      "<re.Match object; span=(3284, 3296), match='800-555-8810'>\n",
      "<re.Match object; span=(3372, 3384), match='149-555-7657'>\n",
      "<re.Match object; span=(3452, 3464), match='130-555-9709'>\n",
      "<re.Match object; span=(3535, 3547), match='143-555-9295'>\n",
      "<re.Match object; span=(3624, 3636), match='903-555-9878'>\n",
      "<re.Match object; span=(3714, 3726), match='574-555-3194'>\n",
      "<re.Match object; span=(3802, 3814), match='496-555-7533'>\n",
      "<re.Match object; span=(3887, 3899), match='210-555-3757'>\n",
      "<re.Match object; span=(3971, 3983), match='900-555-9598'>\n",
      "<re.Match object; span=(4056, 4068), match='866-555-9844'>\n",
      "<re.Match object; span=(4140, 4152), match='669-555-7159'>\n",
      "<re.Match object; span=(4225, 4237), match='152-555-7417'>\n",
      "<re.Match object; span=(4317, 4329), match='893-555-9832'>\n",
      "<re.Match object; span=(4407, 4419), match='217-555-7123'>\n",
      "<re.Match object; span=(4498, 4510), match='786-555-6544'>\n",
      "<re.Match object; span=(4588, 4600), match='780-555-2574'>\n",
      "<re.Match object; span=(4676, 4688), match='926-555-8735'>\n",
      "<re.Match object; span=(4762, 4774), match='895-555-3539'>\n",
      "<re.Match object; span=(4859, 4871), match='874-555-3949'>\n",
      "<re.Match object; span=(4945, 4957), match='800-555-2420'>\n",
      "<re.Match object; span=(5034, 5046), match='936-555-6340'>\n",
      "<re.Match object; span=(5123, 5135), match='372-555-9809'>\n",
      "<re.Match object; span=(5210, 5222), match='890-555-5618'>\n",
      "<re.Match object; span=(5292, 5304), match='670-555-3005'>\n",
      "<re.Match object; span=(5382, 5394), match='509-555-5997'>\n",
      "<re.Match object; span=(5475, 5487), match='721-555-5632'>\n",
      "<re.Match object; span=(5566, 5578), match='900-555-3567'>\n",
      "<re.Match object; span=(5656, 5668), match='147-555-6830'>\n",
      "<re.Match object; span=(5745, 5757), match='582-555-3426'>\n",
      "<re.Match object; span=(5830, 5842), match='400-555-1706'>\n",
      "<re.Match object; span=(5921, 5933), match='525-555-1793'>\n",
      "<re.Match object; span=(6011, 6023), match='317-555-6700'>\n",
      "<re.Match object; span=(6099, 6111), match='974-555-8301'>\n",
      "<re.Match object; span=(6189, 6201), match='800-555-3216'>\n",
      "<re.Match object; span=(6273, 6285), match='746-555-4094'>\n",
      "<re.Match object; span=(6360, 6372), match='922-555-1773'>\n",
      "<re.Match object; span=(6445, 6457), match='711-555-4427'>\n",
      "<re.Match object; span=(6530, 6542), match='355-555-1872'>\n",
      "<re.Match object; span=(6619, 6631), match='852-555-6521'>\n",
      "<re.Match object; span=(6711, 6723), match='691-555-5773'>\n",
      "<re.Match object; span=(6803, 6815), match='332-555-5441'>\n",
      "<re.Match object; span=(6889, 6901), match='900-555-7755'>\n",
      "<re.Match object; span=(6971, 6983), match='379-555-3685'>\n",
      "<re.Match object; span=(7061, 7073), match='127-555-9682'>\n",
      "<re.Match object; span=(7152, 7164), match='789-555-7032'>\n",
      "<re.Match object; span=(7243, 7255), match='783-555-5135'>\n",
      "<re.Match object; span=(7336, 7348), match='315-555-6507'>\n",
      "<re.Match object; span=(7427, 7439), match='481-555-5835'>\n",
      "<re.Match object; span=(7515, 7527), match='365-555-8287'>\n",
      "<re.Match object; span=(7607, 7619), match='911-555-7535'>\n",
      "<re.Match object; span=(7693, 7705), match='681-555-2460'>\n",
      "<re.Match object; span=(7779, 7791), match='274-555-9800'>\n",
      "<re.Match object; span=(7864, 7876), match='800-555-1372'>\n",
      "<re.Match object; span=(7953, 7965), match='300-555-7821'>\n",
      "<re.Match object; span=(8043, 8055), match='133-555-3889'>\n",
      "<re.Match object; span=(8129, 8141), match='705-555-6863'>\n",
      "<re.Match object; span=(8218, 8230), match='215-555-9449'>\n",
      "<re.Match object; span=(8309, 8321), match='988-555-6112'>\n",
      "<re.Match object; span=(8395, 8407), match='623-555-3006'>\n",
      "<re.Match object; span=(8479, 8491), match='192-555-4977'>\n",
      "<re.Match object; span=(8564, 8576), match='178-555-4899'>\n",
      "<re.Match object; span=(8648, 8660), match='952-555-3089'>\n",
      "<re.Match object; span=(8741, 8753), match='900-555-6426'>\n"
     ]
    }
   ],
   "source": [
    "for i in number:\n",
    "    print(i)"
   ]
  },
  {
   "cell_type": "code",
   "execution_count": null,
   "id": "f65db00a-6f44-4c63-aa29-c70130337fc4",
   "metadata": {},
   "outputs": [],
   "source": []
  },
  {
   "cell_type": "code",
   "execution_count": 51,
   "id": "0a02527b-4136-4de0-b72c-435c64580a93",
   "metadata": {},
   "outputs": [],
   "source": [
    "x = re.search(pattern, data)"
   ]
  },
  {
   "cell_type": "code",
   "execution_count": 52,
   "id": "7c7a17a3-cfd6-4e62-ba58-828c77916d73",
   "metadata": {},
   "outputs": [
    {
     "data": {
      "text/plain": [
       "<re.Match object; span=(12, 24), match='615-555-7164'>"
      ]
     },
     "execution_count": 52,
     "metadata": {},
     "output_type": "execute_result"
    }
   ],
   "source": [
    "x"
   ]
  },
  {
   "cell_type": "code",
   "execution_count": 53,
   "id": "a206eded-b3a5-4756-848e-65e7529a7416",
   "metadata": {},
   "outputs": [
    {
     "data": {
      "text/plain": [
       "12"
      ]
     },
     "execution_count": 53,
     "metadata": {},
     "output_type": "execute_result"
    }
   ],
   "source": [
    "x.start()"
   ]
  },
  {
   "cell_type": "code",
   "execution_count": 54,
   "id": "6e4fd177-064d-4d4f-99ef-26e39a1cda98",
   "metadata": {},
   "outputs": [
    {
     "data": {
      "text/plain": [
       "24"
      ]
     },
     "execution_count": 54,
     "metadata": {},
     "output_type": "execute_result"
    }
   ],
   "source": [
    "x.end()"
   ]
  },
  {
   "cell_type": "code",
   "execution_count": 56,
   "id": "4cce4d78-6617-495b-8f74-921cbc8c0fd0",
   "metadata": {},
   "outputs": [
    {
     "data": {
      "text/plain": [
       "'615-555-7164'"
      ]
     },
     "execution_count": 56,
     "metadata": {},
     "output_type": "execute_result"
    }
   ],
   "source": [
    "x.group()"
   ]
  },
  {
   "cell_type": "code",
   "execution_count": null,
   "id": "d8b49ee4-7b98-4b5e-92f9-44ca897260ed",
   "metadata": {},
   "outputs": [],
   "source": []
  },
  {
   "cell_type": "code",
   "execution_count": 60,
   "id": "ef3ec71b-df04-4a30-b10c-a28846cfb895",
   "metadata": {},
   "outputs": [],
   "source": [
    "# for i in number:\n",
    "#     print(i.group())"
   ]
  },
  {
   "cell_type": "code",
   "execution_count": null,
   "id": "e86ede3d-9976-4368-b22a-0295471968ae",
   "metadata": {},
   "outputs": [],
   "source": []
  },
  {
   "cell_type": "markdown",
   "id": "8b0afa3f-6746-4b85-b5f3-9dc96eef968b",
   "metadata": {},
   "source": [
    "### Pattern to get full names of clients"
   ]
  },
  {
   "cell_type": "code",
   "execution_count": 76,
   "id": "71ac31de-5d86-4d9b-b05b-6a351fb2c070",
   "metadata": {},
   "outputs": [],
   "source": [
    "name_pattern = '[A-Z][a-z]*\\s[A-Z][a-z]*'"
   ]
  },
  {
   "cell_type": "code",
   "execution_count": 77,
   "id": "a4015e15-ea13-46e8-aac2-e43ae07e6b47",
   "metadata": {},
   "outputs": [],
   "source": [
    "names = re.finditer(name_pattern, data)"
   ]
  },
  {
   "cell_type": "code",
   "execution_count": 78,
   "id": "dc187729-bf53-44ca-9110-4a8562c45e0b",
   "metadata": {},
   "outputs": [
    {
     "name": "stdout",
     "output_type": "stream",
     "text": [
      "Dave Martin\n",
      "Main St\n",
      "Springfield R\n",
      "Charles Harris\n",
      "High St\n",
      "Atlantis V\n",
      "Eric Williams\n",
      "Faketown A\n",
      "Corey Jefferson\n",
      "Elm St\n",
      "Epicburg N\n",
      "Jennifer Martin\n",
      "Cedar St\n",
      "Sunnydale C\n",
      "Erick Davis\n",
      "Washington St\n",
      "Olympus T\n",
      "Neil Patterson\n",
      "Oak St\n",
      "Dawnstar I\n",
      "Laura Jefferson\n",
      "Main St\n",
      "Pythonville L\n",
      "Maria Johnson\n",
      "High St\n",
      "Michael Arnold\n",
      "Elm St\n",
      "Quahog O\n",
      "Michael Smith\n",
      "Park St\n",
      "Winterfell V\n",
      "Erik Stuart\n",
      "Cedar St\n",
      "Lakeview N\n",
      "Laura Martin\n",
      "High St\n",
      "Smalltown W\n",
      "Barbara Martin\n",
      "Hill St\n",
      "Linda Jackson\n",
      "Elm St\n",
      "Westworld T\n",
      "Eric Miller\n",
      "Main St\n",
      "Balmora M\n",
      "Dave Arnold\n",
      "High St\n",
      "Valyria K\n",
      "Jennifer Jacobs\n",
      "High St\n",
      "Neil Wilson\n",
      "Main St\n",
      "Mordor I\n",
      "Kurt Jackson\n",
      "Washington St\n",
      "Blackwater N\n",
      "Mary Jacobs\n",
      "Oak St\n",
      "Bedrock I\n",
      "Michael White\n",
      "Elm St\n",
      "Mordor T\n",
      "Jennifer Jenkins\n",
      "Main St\n",
      "Smalltown S\n",
      "Sam Wright\n",
      "Pearl St\n",
      "Smalltown N\n",
      "John Davis\n",
      "Lake St\n",
      "Bedrock G\n",
      "Eric Davis\n",
      "Lake St\n",
      "Balmora O\n",
      "Laura Jackson\n",
      "Maple St\n",
      "Quahog M\n",
      "John Williams\n",
      "Hill St\n",
      "Valyria K\n",
      "Michael Martin\n",
      "High St\n",
      "Olympus N\n",
      "Maggie Brown\n",
      "Lake St\n",
      "Lakeview M\n",
      "Erik Wilson\n",
      "Hill St\n",
      "Mordor F\n",
      "Elizabeth Arnold\n",
      "Maple St\n",
      "Winterfell N\n",
      "Jane Martin\n",
      "Park St\n",
      "Metropolis I\n",
      "Travis Johnson\n",
      "Washington St\n",
      "Laura Jefferson\n",
      "High St\n",
      "Metropolis M\n",
      "Tom Williams\n",
      "High St\n",
      "Jennifer Taylor\n",
      "Main St\n",
      "Pythonville O\n",
      "Erick Wright\n",
      "Hill St\n",
      "Blackwater N\n",
      "Steve Doe\n",
      "Elm St\n",
      "Atlantis M\n",
      "Kurt Davis\n",
      "Oak St\n",
      "Atlantis N\n",
      "Corey Harris\n",
      "Pearl St\n",
      "Vice City\n",
      "Nicole Taylor\n",
      "Hill St\n",
      "Elizabeth Davis\n",
      "Lake St\n",
      "Eerie S\n",
      "Maggie Jenkins\n",
      "Lake St\n",
      "Gotham P\n",
      "Linda Davis\n",
      "Pine St\n",
      "Vice City\n",
      "Dave Moore\n",
      "Pine St\n",
      "Linda Jenkins\n",
      "High St\n",
      "Bedrock N\n",
      "Eric White\n",
      "Oak St\n",
      "Smalltown T\n",
      "Laura Robinson\n",
      "Pine St\n",
      "Valyria N\n",
      "Charles Patterson\n",
      "Pearl St\n",
      "Valyria A\n",
      "Joe Jackson\n",
      "Cedar St\n",
      "South Park\n",
      "Michael Johnson\n",
      "Hill St\n",
      "Smalltown A\n",
      "Corey Miller\n",
      "High St\n",
      "Springfield I\n",
      "James Moore\n",
      "Main St\n",
      "Gotham K\n",
      "Jennifer Stuart\n",
      "Hill St\n",
      "Landing G\n",
      "Charles Martin\n",
      "High St\n",
      "Faketown P\n",
      "Eric Wilks\n",
      "Main St\n",
      "Blackwater O\n",
      "Elizabeth Arnold\n",
      "Hill St\n",
      "Atlantis N\n",
      "John Miller\n",
      "Cedar St\n",
      "Thundera N\n",
      "Corey Jackson\n",
      "Oak St\n",
      "Gotham U\n",
      "Sam Thomas\n",
      "Lake St\n",
      "Springfield M\n",
      "Patricia Thomas\n",
      "Hill St\n",
      "Blackwater C\n",
      "Jennifer Davis\n",
      "Main St\n",
      "Smalltown M\n",
      "Patricia Brown\n",
      "Hill St\n",
      "Gotham W\n",
      "Barbara Williams\n",
      "Park St\n",
      "Balmora N\n",
      "James Taylor\n",
      "Hill St\n",
      "Dawnstar M\n",
      "Eric Harris\n",
      "Elm St\n",
      "Smalltown N\n",
      "Travis Anderson\n",
      "Cedar St\n",
      "Thundera W\n",
      "Sam Robinson\n",
      "Pine St\n",
      "Lakeview M\n",
      "Steve Robinson\n",
      "Park St\n",
      "Springfield N\n",
      "Mary Wilson\n",
      "Maple St\n",
      "Sam Wilson\n",
      "Pearl St\n",
      "Westworld K\n",
      "Charles Jones\n",
      "Hill St\n",
      "Olympus H\n",
      "Laura Brown\n",
      "Maple St\n",
      "Smalltown M\n",
      "Tom Harris\n",
      "Hill St\n",
      "Blackwater A\n",
      "Patricia Taylor\n",
      "Pine St\n",
      "Olympus F\n",
      "Barbara Williams\n",
      "Elm St\n",
      "Sunnydale G\n",
      "Maggie Johnson\n",
      "Cedar St\n",
      "Quahog D\n",
      "Kurt Miller\n",
      "Hill St\n",
      "Quahog A\n",
      "Neil Stuart\n",
      "Cedar St\n",
      "Sunnydale R\n",
      "Linda Patterson\n",
      "Cedar St\n",
      "Lakeview K\n",
      "Charles Davis\n",
      "Lake St\n",
      "Mordor M\n",
      "Jennifer Jefferson\n",
      "Park St\n",
      "Sunnydale W\n",
      "Erick Taylor\n",
      "Washington St\n",
      "Bedrock I\n",
      "Robert Wilks\n",
      "Elm St\n",
      "Sunnydale I\n",
      "Travis Jackson\n",
      "Lake St\n",
      "Metropolis P\n",
      "Travis Jackson\n",
      "Oak St\n",
      "Atlantis H\n",
      "Laura Wilks\n",
      "Pearl St\n",
      "Smalltown S\n",
      "Neil Arnold\n",
      "Oak St\n",
      "Faketown P\n",
      "Linda Johnson\n",
      "High St\n",
      "Balmora I\n",
      "Jennifer Wilson\n",
      "Pine St\n",
      "Westworld D\n",
      "Nicole White\n",
      "High St\n",
      "Maria Arnold\n",
      "Elm St\n",
      "Metropolis P\n",
      "Jennifer Davis\n",
      "Cedar St\n",
      "Mary Patterson\n",
      "Park St\n",
      "Valyria C\n",
      "Jane Stuart\n",
      "Oak St\n",
      "Robert Davis\n",
      "Maple St\n",
      "Mordor I\n",
      "James Taylor\n",
      "Hill St\n",
      "Olympus N\n",
      "Eric Stuart\n",
      "High St\n",
      "Landing A\n",
      "Charles Miller\n",
      "Washington St\n",
      "Blackwater M\n"
     ]
    }
   ],
   "source": [
    "for i in names:\n",
    "    print(i.group())"
   ]
  },
  {
   "cell_type": "code",
   "execution_count": null,
   "id": "489764ab-5e52-4a93-805b-0487bbf8f314",
   "metadata": {},
   "outputs": [],
   "source": []
  },
  {
   "cell_type": "code",
   "execution_count": 69,
   "id": "fbf3fc34-54bf-4810-9f26-e025f4278ba5",
   "metadata": {},
   "outputs": [
    {
     "data": {
      "text/plain": [
       "<re.Match object; span=(0, 1), match='a'>"
      ]
     },
     "execution_count": 69,
     "metadata": {},
     "output_type": "execute_result"
    }
   ],
   "source": [
    "re.match('ab*', 'a')"
   ]
  },
  {
   "cell_type": "code",
   "execution_count": 70,
   "id": "ebc0c46f-d8f7-4ace-9e84-c060eb0bcfa8",
   "metadata": {},
   "outputs": [
    {
     "data": {
      "text/plain": [
       "<re.Match object; span=(0, 2), match='ab'>"
      ]
     },
     "execution_count": 70,
     "metadata": {},
     "output_type": "execute_result"
    }
   ],
   "source": [
    "re.match('ab*', 'ab')"
   ]
  },
  {
   "cell_type": "code",
   "execution_count": 71,
   "id": "1f8ef5ca-783b-4342-90ce-e1522c6a7607",
   "metadata": {},
   "outputs": [
    {
     "data": {
      "text/plain": [
       "<re.Match object; span=(0, 3), match='abb'>"
      ]
     },
     "execution_count": 71,
     "metadata": {},
     "output_type": "execute_result"
    }
   ],
   "source": [
    "re.match('ab*', 'abb')"
   ]
  },
  {
   "cell_type": "code",
   "execution_count": 72,
   "id": "2c657cb2-5c67-4c1e-8d4e-e6c5e1bed588",
   "metadata": {},
   "outputs": [],
   "source": [
    "re.match('ab*', 'ba')"
   ]
  },
  {
   "cell_type": "code",
   "execution_count": null,
   "id": "0485dd1f-faf1-426e-9834-9b41e8e41fdc",
   "metadata": {},
   "outputs": [],
   "source": []
  },
  {
   "cell_type": "code",
   "execution_count": null,
   "id": "38e1e494-b044-46bc-86f4-ad2e1a3082d6",
   "metadata": {},
   "outputs": [],
   "source": []
  },
  {
   "cell_type": "code",
   "execution_count": null,
   "id": "6de6bf1b-2c25-4f20-8584-62dc8e25a88f",
   "metadata": {},
   "outputs": [],
   "source": []
  },
  {
   "cell_type": "code",
   "execution_count": null,
   "id": "c49c5b9a-b822-48d0-900c-db61af94756c",
   "metadata": {},
   "outputs": [],
   "source": []
  },
  {
   "cell_type": "code",
   "execution_count": null,
   "id": "c043b6a4-fdc6-404e-a418-3aefe3d61ded",
   "metadata": {},
   "outputs": [],
   "source": []
  },
  {
   "cell_type": "code",
   "execution_count": null,
   "id": "4d76d587-00c7-4396-a085-4545208031f9",
   "metadata": {},
   "outputs": [],
   "source": []
  },
  {
   "cell_type": "code",
   "execution_count": null,
   "id": "7b6aebe8-5793-4810-82dd-15ed43eccab7",
   "metadata": {},
   "outputs": [],
   "source": []
  },
  {
   "cell_type": "code",
   "execution_count": null,
   "id": "ce58ef9e-6c85-4108-b530-63bf4cfd3070",
   "metadata": {},
   "outputs": [],
   "source": []
  }
 ],
 "metadata": {
  "kernelspec": {
   "display_name": "Python 3 (ipykernel)",
   "language": "python",
   "name": "python3"
  },
  "language_info": {
   "codemirror_mode": {
    "name": "ipython",
    "version": 3
   },
   "file_extension": ".py",
   "mimetype": "text/x-python",
   "name": "python",
   "nbconvert_exporter": "python",
   "pygments_lexer": "ipython3",
   "version": "3.9.7"
  }
 },
 "nbformat": 4,
 "nbformat_minor": 5
}
