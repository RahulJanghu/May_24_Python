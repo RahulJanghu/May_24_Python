{
 "cells": [
  {
   "cell_type": "markdown",
   "id": "47512eab-8d39-4873-a7d9-be81db80689f",
   "metadata": {},
   "source": [
    "### Dunders --> Magic methods"
   ]
  },
  {
   "cell_type": "code",
   "execution_count": 4,
   "id": "5ef5e082-229b-42f0-be4e-b8af006611cc",
   "metadata": {},
   "outputs": [],
   "source": [
    "class Car:\n",
    "    def __init__(self, name, mileage):\n",
    "        self.name = name\n",
    "        self.mileage = mileage"
   ]
  },
  {
   "cell_type": "code",
   "execution_count": 5,
   "id": "cbc36ea6-3e6a-4217-adb7-e73d914e41b9",
   "metadata": {},
   "outputs": [],
   "source": [
    "c1 = Car(\"Nexon\", 12)\n",
    "c2 = Car(\"Altroz\", 15)"
   ]
  },
  {
   "cell_type": "code",
   "execution_count": null,
   "id": "eb5766ac-c2a6-4e4d-b9ef-085f4ab33644",
   "metadata": {},
   "outputs": [],
   "source": []
  },
  {
   "cell_type": "code",
   "execution_count": 6,
   "id": "068857a7-063d-4749-afc2-86c85738c761",
   "metadata": {},
   "outputs": [],
   "source": [
    "# Quiz"
   ]
  },
  {
   "cell_type": "code",
   "execution_count": 7,
   "id": "dd89dd7c-2fde-46c6-864f-0d3bc6f50009",
   "metadata": {},
   "outputs": [
    {
     "name": "stdout",
     "output_type": "stream",
     "text": [
      "Am I a class?\n",
      "<__main__.A object at 0x7fe5884ac460>\n"
     ]
    }
   ],
   "source": [
    "class A:\n",
    "    print(\"Am I a class?\")\n",
    "\n",
    "A()\n",
    "\n",
    "obj1 = A()\n",
    "\n",
    "if A():\n",
    "    print(A())"
   ]
  },
  {
   "cell_type": "code",
   "execution_count": null,
   "id": "f660982e-e006-49aa-a268-1ec6a1ebb837",
   "metadata": {},
   "outputs": [],
   "source": []
  },
  {
   "cell_type": "markdown",
   "id": "97a20ebb-2da0-42ed-968c-a6dd12bb2b48",
   "metadata": {},
   "source": [
    "#### More under methods"
   ]
  },
  {
   "cell_type": "code",
   "execution_count": 8,
   "id": "16d443ec-4aea-4aec-8efa-383bf48d89e1",
   "metadata": {},
   "outputs": [],
   "source": [
    "class Car:\n",
    "    def __init__(self, name, mileage):\n",
    "        self.name = name\n",
    "        self.mileage = mileage"
   ]
  },
  {
   "cell_type": "code",
   "execution_count": 9,
   "id": "710a517e-a030-4d64-a4af-d5c2734b6041",
   "metadata": {},
   "outputs": [],
   "source": [
    "c1 = Car(\"Nexon\", 12)\n",
    "c2 = Car(\"Altroz\", 15)"
   ]
  },
  {
   "cell_type": "code",
   "execution_count": 10,
   "id": "b2083ba9-87d4-41fa-ab0b-59b50ed68904",
   "metadata": {},
   "outputs": [
    {
     "name": "stdout",
     "output_type": "stream",
     "text": [
      "<__main__.Car object at 0x7fe5a99e0a00>\n"
     ]
    }
   ],
   "source": [
    "print(c1)"
   ]
  },
  {
   "cell_type": "code",
   "execution_count": null,
   "id": "36b5f0b8-2381-4a81-8200-9b353e6ee149",
   "metadata": {},
   "outputs": [],
   "source": []
  },
  {
   "cell_type": "code",
   "execution_count": 36,
   "id": "9d86e0e0-c3b5-4df8-b479-09bc0de230aa",
   "metadata": {},
   "outputs": [],
   "source": [
    "class Car:\n",
    "    def __init__(self, name, mileage):\n",
    "        self.name = name\n",
    "        self.mileage = mileage\n",
    "        \n",
    "    def __str__(self):\n",
    "        return f\"Name of this car is {self.name}.\"\n",
    "    \n",
    "    def __add__(self, other):\n",
    "        # You may check if other object is int then add ass it is otherwise add mileage\n",
    "        return self.mileage + other.mileage\n",
    "        # if isinstance(int, other):\n",
    "        #     return self.mileage + other\n",
    "        # else:\n",
    "        #     return self.mileage + other.mileage\n",
    "        \n",
    "    def __lt__(self, other):\n",
    "        return self.mileage < other.mileage"
   ]
  },
  {
   "cell_type": "code",
   "execution_count": 37,
   "id": "3547a8a7-857d-482a-9458-b5e57c243f63",
   "metadata": {},
   "outputs": [],
   "source": [
    "c1 = Car(\"Nexon\", 12)\n",
    "c2 = Car(\"Altroz\", 15)"
   ]
  },
  {
   "cell_type": "code",
   "execution_count": 38,
   "id": "17969f1d-5061-4fad-bb5e-9b3931ac70c5",
   "metadata": {},
   "outputs": [
    {
     "name": "stdout",
     "output_type": "stream",
     "text": [
      "Name of this car is Nexon.\n"
     ]
    }
   ],
   "source": [
    "print(c1)"
   ]
  },
  {
   "cell_type": "code",
   "execution_count": 39,
   "id": "0a5a6d2a-91d4-4620-8cfc-4c339eea96b1",
   "metadata": {},
   "outputs": [
    {
     "data": {
      "text/plain": [
       "27"
      ]
     },
     "execution_count": 39,
     "metadata": {},
     "output_type": "execute_result"
    }
   ],
   "source": [
    "c1 + c2"
   ]
  },
  {
   "cell_type": "code",
   "execution_count": 40,
   "id": "83614685-4613-46a9-a476-23c7b3ff744b",
   "metadata": {},
   "outputs": [
    {
     "ename": "AttributeError",
     "evalue": "'int' object has no attribute 'mileage'",
     "output_type": "error",
     "traceback": [
      "\u001b[0;31m---------------------------------------------------------------------------\u001b[0m",
      "\u001b[0;31mAttributeError\u001b[0m                            Traceback (most recent call last)",
      "\u001b[0;32m/var/folders/t5/yhjgrjs907zfp250jyxtw54m0000gn/T/ipykernel_14437/962488698.py\u001b[0m in \u001b[0;36m<module>\u001b[0;34m\u001b[0m\n\u001b[0;32m----> 1\u001b[0;31m \u001b[0mc1\u001b[0m \u001b[0;34m+\u001b[0m \u001b[0;36m10\u001b[0m\u001b[0;34m\u001b[0m\u001b[0;34m\u001b[0m\u001b[0m\n\u001b[0m",
      "\u001b[0;32m/var/folders/t5/yhjgrjs907zfp250jyxtw54m0000gn/T/ipykernel_14437/404959456.py\u001b[0m in \u001b[0;36m__add__\u001b[0;34m(self, other)\u001b[0m\n\u001b[1;32m      9\u001b[0m     \u001b[0;32mdef\u001b[0m \u001b[0m__add__\u001b[0m\u001b[0;34m(\u001b[0m\u001b[0mself\u001b[0m\u001b[0;34m,\u001b[0m \u001b[0mother\u001b[0m\u001b[0;34m)\u001b[0m\u001b[0;34m:\u001b[0m\u001b[0;34m\u001b[0m\u001b[0;34m\u001b[0m\u001b[0m\n\u001b[1;32m     10\u001b[0m         \u001b[0;31m# You may check if other object is int then add ass it is otherwise add mileage\u001b[0m\u001b[0;34m\u001b[0m\u001b[0;34m\u001b[0m\u001b[0m\n\u001b[0;32m---> 11\u001b[0;31m         \u001b[0;32mreturn\u001b[0m \u001b[0mself\u001b[0m\u001b[0;34m.\u001b[0m\u001b[0mmileage\u001b[0m \u001b[0;34m+\u001b[0m \u001b[0mother\u001b[0m\u001b[0;34m.\u001b[0m\u001b[0mmileage\u001b[0m\u001b[0;34m\u001b[0m\u001b[0;34m\u001b[0m\u001b[0m\n\u001b[0m\u001b[1;32m     12\u001b[0m         \u001b[0;31m# if isinstance(int, other):\u001b[0m\u001b[0;34m\u001b[0m\u001b[0;34m\u001b[0m\u001b[0m\n\u001b[1;32m     13\u001b[0m         \u001b[0;31m#     return self.mileage + other\u001b[0m\u001b[0;34m\u001b[0m\u001b[0;34m\u001b[0m\u001b[0m\n",
      "\u001b[0;31mAttributeError\u001b[0m: 'int' object has no attribute 'mileage'"
     ]
    }
   ],
   "source": [
    "c1 + 10"
   ]
  },
  {
   "cell_type": "code",
   "execution_count": 41,
   "id": "8d9c97d6-1266-4dfe-b87e-224171f46abc",
   "metadata": {},
   "outputs": [
    {
     "name": "stdout",
     "output_type": "stream",
     "text": [
      "['__add__', '__class__', '__delattr__', '__dict__', '__dir__', '__doc__', '__eq__', '__format__', '__ge__', '__getattribute__', '__gt__', '__hash__', '__init__', '__init_subclass__', '__le__', '__lt__', '__module__', '__ne__', '__new__', '__reduce__', '__reduce_ex__', '__repr__', '__setattr__', '__sizeof__', '__str__', '__subclasshook__', '__weakref__', 'mileage', 'name']\n"
     ]
    }
   ],
   "source": [
    "print(dir(c1))"
   ]
  },
  {
   "cell_type": "code",
   "execution_count": 43,
   "id": "94e9d8fb-58d2-423b-b7bc-6f9a7625ac94",
   "metadata": {},
   "outputs": [
    {
     "data": {
      "text/plain": [
       "12"
      ]
     },
     "execution_count": 43,
     "metadata": {},
     "output_type": "execute_result"
    }
   ],
   "source": [
    "c1.mileage"
   ]
  },
  {
   "cell_type": "code",
   "execution_count": 44,
   "id": "ac0cc9cc-7e41-4371-a05b-b3e4115f5bd2",
   "metadata": {},
   "outputs": [
    {
     "data": {
      "text/plain": [
       "15"
      ]
     },
     "execution_count": 44,
     "metadata": {},
     "output_type": "execute_result"
    }
   ],
   "source": [
    "c2.mileage"
   ]
  },
  {
   "cell_type": "code",
   "execution_count": 42,
   "id": "01c6007f-040b-4528-b6dd-4267a049b63b",
   "metadata": {},
   "outputs": [
    {
     "data": {
      "text/plain": [
       "True"
      ]
     },
     "execution_count": 42,
     "metadata": {},
     "output_type": "execute_result"
    }
   ],
   "source": [
    "c1 < c2"
   ]
  },
  {
   "cell_type": "code",
   "execution_count": 45,
   "id": "59394ee4-b1a0-464e-b4d9-623e393dfb81",
   "metadata": {},
   "outputs": [],
   "source": [
    "# Quiz"
   ]
  },
  {
   "cell_type": "code",
   "execution_count": 46,
   "id": "b0dd6060-ba72-4f13-85c7-df9293b9ddb2",
   "metadata": {},
   "outputs": [
    {
     "name": "stdout",
     "output_type": "stream",
     "text": [
      "103\n"
     ]
    }
   ],
   "source": [
    "class A:\n",
    "    def __init__(self, a):\n",
    "        self.a = a\n",
    "    def __add__(self, b):\n",
    "        if isinstance(b, int):\n",
    "            return A(self.a + b)\n",
    "        return A(self.a + b.a)\n",
    "    def __str__(self):\n",
    "        return f\"{self.a}\"\n",
    "\n",
    "\n",
    "one = A(1)\n",
    "two = A(2)\n",
    "\n",
    "print(one + two + 100)"
   ]
  },
  {
   "cell_type": "code",
   "execution_count": null,
   "id": "852f193f-853c-4680-88be-331702f36399",
   "metadata": {},
   "outputs": [],
   "source": []
  },
  {
   "cell_type": "code",
   "execution_count": null,
   "id": "3b4694d8-94bd-4df3-a921-17f52299c182",
   "metadata": {},
   "outputs": [],
   "source": []
  },
  {
   "cell_type": "markdown",
   "id": "2d748d30-50f5-460a-a815-1d8a6f268a77",
   "metadata": {},
   "source": [
    "### Inheritence"
   ]
  },
  {
   "cell_type": "code",
   "execution_count": 47,
   "id": "2f6355bc-be9f-47ee-922e-ab92690a41fc",
   "metadata": {},
   "outputs": [],
   "source": [
    "# Parents --> Children"
   ]
  },
  {
   "cell_type": "code",
   "execution_count": 48,
   "id": "d5522323-fa8b-472b-8a0f-7d307fefacfe",
   "metadata": {},
   "outputs": [],
   "source": [
    "class Parents:\n",
    "    def __init__(self):\n",
    "        print(\"Hey we are parents\")\n",
    "        \n",
    "class Children(Parents):\n",
    "    def __init__(self):\n",
    "        print(\"This is children's class\")"
   ]
  },
  {
   "cell_type": "code",
   "execution_count": null,
   "id": "1d83095f-4ef0-4ab1-b4aa-0bedcc4e06ac",
   "metadata": {},
   "outputs": [],
   "source": []
  },
  {
   "cell_type": "code",
   "execution_count": 49,
   "id": "afd48b2d-f353-40c9-ab0f-c43360eaa838",
   "metadata": {},
   "outputs": [],
   "source": [
    "# SchoolMember --> Students\n",
    "#             Staff --> Teacher"
   ]
  },
  {
   "cell_type": "code",
   "execution_count": 61,
   "id": "cd5c9281-b044-4b67-ad0d-418af30a8d15",
   "metadata": {},
   "outputs": [],
   "source": [
    "class SchoolMember:\n",
    "    def __init__(self, name):\n",
    "        self.name = name\n",
    "        \n",
    "class Student(SchoolMember):\n",
    "    def __init__(self, name, grade):\n",
    "        self.grade = grade\n",
    "    \n",
    "class Staff(SchoolMember):\n",
    "    def __init__(self, name, salary):\n",
    "        self.salary = salary\n",
    "        \n",
    "class Teacher(Staff):\n",
    "    def __init__(self, name, salary, subject):\n",
    "        self.subject = subject"
   ]
  },
  {
   "cell_type": "code",
   "execution_count": 62,
   "id": "cbce5c22-d472-4597-8012-97bf0ee6006a",
   "metadata": {},
   "outputs": [],
   "source": [
    "s1 = Student(\"Rahul\", \"A\")"
   ]
  },
  {
   "cell_type": "code",
   "execution_count": 63,
   "id": "47abb095-f0b3-4a15-88d1-890e59404c2f",
   "metadata": {},
   "outputs": [
    {
     "data": {
      "text/plain": [
       "'A'"
      ]
     },
     "execution_count": 63,
     "metadata": {},
     "output_type": "execute_result"
    }
   ],
   "source": [
    "s1.grade"
   ]
  },
  {
   "cell_type": "code",
   "execution_count": 64,
   "id": "407adbcf-04e1-438c-aa18-de9513eb68e6",
   "metadata": {},
   "outputs": [
    {
     "ename": "AttributeError",
     "evalue": "'Student' object has no attribute 'name'",
     "output_type": "error",
     "traceback": [
      "\u001b[0;31m---------------------------------------------------------------------------\u001b[0m",
      "\u001b[0;31mAttributeError\u001b[0m                            Traceback (most recent call last)",
      "\u001b[0;32m/var/folders/t5/yhjgrjs907zfp250jyxtw54m0000gn/T/ipykernel_14437/2835019485.py\u001b[0m in \u001b[0;36m<module>\u001b[0;34m\u001b[0m\n\u001b[0;32m----> 1\u001b[0;31m \u001b[0ms1\u001b[0m\u001b[0;34m.\u001b[0m\u001b[0mname\u001b[0m\u001b[0;34m\u001b[0m\u001b[0;34m\u001b[0m\u001b[0m\n\u001b[0m",
      "\u001b[0;31mAttributeError\u001b[0m: 'Student' object has no attribute 'name'"
     ]
    }
   ],
   "source": [
    "s1.name"
   ]
  },
  {
   "cell_type": "code",
   "execution_count": null,
   "id": "966ec22a-4846-4c92-835b-8e3d424f485d",
   "metadata": {},
   "outputs": [],
   "source": []
  },
  {
   "cell_type": "code",
   "execution_count": null,
   "id": "845b4ed4-9288-4787-a585-84dadda285e1",
   "metadata": {},
   "outputs": [],
   "source": []
  },
  {
   "cell_type": "code",
   "execution_count": 65,
   "id": "fe63a3ae-9ff6-4cbc-90b0-4c0b515354ea",
   "metadata": {},
   "outputs": [],
   "source": [
    "class SchoolMember:\n",
    "    def __init__(self, name):\n",
    "        self.name = name\n",
    "        \n",
    "class Student(SchoolMember):\n",
    "    def __init__(self, name, grade):\n",
    "        super().__init__(name)\n",
    "        # super() --> Refering to parent's class\n",
    "        self.grade = grade\n",
    "    \n",
    "class Staff(SchoolMember):\n",
    "    def __init__(self, name, salary):\n",
    "        super().__init__(name)\n",
    "        self.salary = salary\n",
    "        \n",
    "class Teacher(Staff):\n",
    "    def __init__(self, name, salary, subject):\n",
    "        super().__init__(name, salary)\n",
    "        self.subject = subject"
   ]
  },
  {
   "cell_type": "code",
   "execution_count": 66,
   "id": "77c870f9-82b1-4957-abdc-2981bf87968f",
   "metadata": {},
   "outputs": [],
   "source": [
    "s1 = Student(\"Rahul\", \"A\")"
   ]
  },
  {
   "cell_type": "code",
   "execution_count": 67,
   "id": "98484a5b-d6a9-4777-a24b-f6d0c0237d1b",
   "metadata": {},
   "outputs": [
    {
     "data": {
      "text/plain": [
       "'Rahul'"
      ]
     },
     "execution_count": 67,
     "metadata": {},
     "output_type": "execute_result"
    }
   ],
   "source": [
    "s1.name"
   ]
  },
  {
   "cell_type": "code",
   "execution_count": 68,
   "id": "92c9a07d-e8ef-41a8-9099-6016f673bdb5",
   "metadata": {},
   "outputs": [],
   "source": [
    "t1 = Teacher(\"Nesan\", 100, \"DSML\")"
   ]
  },
  {
   "cell_type": "code",
   "execution_count": 69,
   "id": "e8719b62-44ce-4d60-8ed7-af3d8c3aded7",
   "metadata": {},
   "outputs": [
    {
     "data": {
      "text/plain": [
       "'Nesan'"
      ]
     },
     "execution_count": 69,
     "metadata": {},
     "output_type": "execute_result"
    }
   ],
   "source": [
    "t1.name"
   ]
  },
  {
   "cell_type": "code",
   "execution_count": 70,
   "id": "8b94ea4d-0200-4ab3-8ea5-7af051ef821b",
   "metadata": {},
   "outputs": [
    {
     "data": {
      "text/plain": [
       "100"
      ]
     },
     "execution_count": 70,
     "metadata": {},
     "output_type": "execute_result"
    }
   ],
   "source": [
    "t1.salary"
   ]
  },
  {
   "cell_type": "code",
   "execution_count": 71,
   "id": "89a8925c-d336-4389-8a12-bbd8ea8932f8",
   "metadata": {},
   "outputs": [
    {
     "data": {
      "text/plain": [
       "'DSML'"
      ]
     },
     "execution_count": 71,
     "metadata": {},
     "output_type": "execute_result"
    }
   ],
   "source": [
    "t1.subject"
   ]
  },
  {
   "cell_type": "code",
   "execution_count": null,
   "id": "232c736e-4746-4e03-b407-25f92754c9b9",
   "metadata": {},
   "outputs": [],
   "source": []
  },
  {
   "cell_type": "code",
   "execution_count": 72,
   "id": "33936b61-b217-4c39-85d5-4650667dcf3b",
   "metadata": {},
   "outputs": [],
   "source": [
    "# Quiz"
   ]
  },
  {
   "cell_type": "code",
   "execution_count": 73,
   "id": "968d917e-2d1c-4baa-a3ab-623937791cfc",
   "metadata": {},
   "outputs": [
    {
     "name": "stdout",
     "output_type": "stream",
     "text": [
      "I do something! I also do something! "
     ]
    }
   ],
   "source": [
    "class A:\n",
    "    def do_something(self):\n",
    "        print(\"I do something!\", end=\" \")\n",
    "\n",
    "class B(A):\n",
    "    def do_something(self):\n",
    "        super().do_something()\n",
    "        print(\"I also do something!\", end=\" \")\n",
    "\n",
    "b = B()\n",
    "b.do_something()"
   ]
  },
  {
   "cell_type": "code",
   "execution_count": null,
   "id": "22dadfba-2305-4c43-bd29-f20743b3f4b6",
   "metadata": {},
   "outputs": [],
   "source": []
  },
  {
   "cell_type": "code",
   "execution_count": 75,
   "id": "c2309869-78ac-47bd-bceb-bbe7677fdbdf",
   "metadata": {},
   "outputs": [],
   "source": [
    "# HW: Vehicle (tyre, brake, start) --> Cars (tyre, brake, start, Doors, sunrrof) \n",
    "#            --> Bike (tyre, brake, start, handle) "
   ]
  },
  {
   "cell_type": "code",
   "execution_count": null,
   "id": "c272c7e3-b398-46c0-822b-a64e9ce3bb1f",
   "metadata": {},
   "outputs": [],
   "source": []
  },
  {
   "cell_type": "code",
   "execution_count": null,
   "id": "f51f2e2d-cb2d-47a5-a9a1-f9569551f40e",
   "metadata": {},
   "outputs": [],
   "source": []
  },
  {
   "cell_type": "markdown",
   "id": "5cecc3f2-c78b-4dae-87ec-f847f42061b4",
   "metadata": {},
   "source": [
    "#### Private Properties"
   ]
  },
  {
   "cell_type": "code",
   "execution_count": 76,
   "id": "34512d17-e762-4835-8ff4-69a85344a394",
   "metadata": {},
   "outputs": [],
   "source": [
    "class BankAccount:\n",
    "    def __init__(self, balance):\n",
    "        self.balance = balance\n",
    "\n",
    "    def withdrawl(self, amount):\n",
    "        self.balance -= amount\n",
    "\n",
    "    def deposit(self, amount):\n",
    "        self.balance += amount"
   ]
  },
  {
   "cell_type": "code",
   "execution_count": 77,
   "id": "54e33b77-21af-48a6-9312-da37f2198172",
   "metadata": {},
   "outputs": [],
   "source": [
    "b1 = BankAccount(10000)"
   ]
  },
  {
   "cell_type": "code",
   "execution_count": 78,
   "id": "bbce8bc4-8661-4188-b498-d16f2d1061b1",
   "metadata": {},
   "outputs": [],
   "source": [
    "b1.deposit(5000)"
   ]
  },
  {
   "cell_type": "code",
   "execution_count": 79,
   "id": "9bba14ef-6240-4bfc-b9a1-59f985918dbc",
   "metadata": {},
   "outputs": [],
   "source": [
    "b1.withdrawl(15000)"
   ]
  },
  {
   "cell_type": "code",
   "execution_count": 80,
   "id": "7edb1b7c-9e43-486c-860f-989427537ca8",
   "metadata": {},
   "outputs": [
    {
     "data": {
      "text/plain": [
       "0"
      ]
     },
     "execution_count": 80,
     "metadata": {},
     "output_type": "execute_result"
    }
   ],
   "source": [
    "b1.balance"
   ]
  },
  {
   "cell_type": "code",
   "execution_count": 81,
   "id": "60530667-ede8-426f-b254-c0ea5a1e9dce",
   "metadata": {},
   "outputs": [],
   "source": [
    "b1.balance = 3864982163498261498234234"
   ]
  },
  {
   "cell_type": "code",
   "execution_count": 83,
   "id": "2c81c0ab-74fa-48e5-8754-8ad51c9ceb8b",
   "metadata": {},
   "outputs": [
    {
     "data": {
      "text/plain": [
       "3864982163498261498234234"
      ]
     },
     "execution_count": 83,
     "metadata": {},
     "output_type": "execute_result"
    }
   ],
   "source": [
    "b1.balance"
   ]
  },
  {
   "cell_type": "code",
   "execution_count": 84,
   "id": "a10812af-0114-4fbf-bda4-ebff5ce1997a",
   "metadata": {},
   "outputs": [],
   "source": [
    "b1.withdrawl(150000)"
   ]
  },
  {
   "cell_type": "code",
   "execution_count": 85,
   "id": "bd9d89d2-d1e5-43e8-98c2-5259d1cd1ede",
   "metadata": {},
   "outputs": [
    {
     "data": {
      "text/plain": [
       "3864982163498261498084234"
      ]
     },
     "execution_count": 85,
     "metadata": {},
     "output_type": "execute_result"
    }
   ],
   "source": [
    "b1.balance"
   ]
  },
  {
   "cell_type": "code",
   "execution_count": null,
   "id": "14e51e59-e4af-46dc-b485-e1326777f17f",
   "metadata": {},
   "outputs": [],
   "source": []
  },
  {
   "cell_type": "code",
   "execution_count": 93,
   "id": "1c38c301-330f-41fb-bed1-0fd2d53edafa",
   "metadata": {},
   "outputs": [],
   "source": [
    "class BankAccount:\n",
    "    def __init__(self, balance):\n",
    "        # __balance is now private attribute\n",
    "        self.__balance = balance\n",
    "\n",
    "    def withdrawl(self, amount):\n",
    "        self.__balance -= amount\n",
    "\n",
    "    def deposit(self, amount):\n",
    "        self.__balance += amount\n",
    "        \n",
    "    def bank_balance(self):\n",
    "        return self.__balance"
   ]
  },
  {
   "cell_type": "code",
   "execution_count": 94,
   "id": "09d87907-c991-4601-ba12-470add008fdf",
   "metadata": {},
   "outputs": [],
   "source": [
    "b1 = BankAccount(10000)"
   ]
  },
  {
   "cell_type": "code",
   "execution_count": 95,
   "id": "2b62d600-33b5-481e-a11a-57f593339bb6",
   "metadata": {},
   "outputs": [],
   "source": [
    "b1.deposit(50000)"
   ]
  },
  {
   "cell_type": "code",
   "execution_count": 96,
   "id": "5b780612-7e79-4db1-8476-96fe72193ab0",
   "metadata": {},
   "outputs": [],
   "source": [
    "# b1.__balance"
   ]
  },
  {
   "cell_type": "code",
   "execution_count": 97,
   "id": "96df19ee-dcb4-48d8-a8df-45a33c2a00e5",
   "metadata": {},
   "outputs": [],
   "source": [
    "b1.withdrawl(15000)"
   ]
  },
  {
   "cell_type": "code",
   "execution_count": 98,
   "id": "ecfdd5d2-66cc-4003-ba6b-5d4cb3f18b5b",
   "metadata": {},
   "outputs": [
    {
     "ename": "AttributeError",
     "evalue": "'BankAccount' object has no attribute '__balance'",
     "output_type": "error",
     "traceback": [
      "\u001b[0;31m---------------------------------------------------------------------------\u001b[0m",
      "\u001b[0;31mAttributeError\u001b[0m                            Traceback (most recent call last)",
      "\u001b[0;32m/var/folders/t5/yhjgrjs907zfp250jyxtw54m0000gn/T/ipykernel_14437/2775405839.py\u001b[0m in \u001b[0;36m<module>\u001b[0;34m\u001b[0m\n\u001b[0;32m----> 1\u001b[0;31m \u001b[0mb1\u001b[0m\u001b[0;34m.\u001b[0m\u001b[0m__balance\u001b[0m\u001b[0;34m\u001b[0m\u001b[0;34m\u001b[0m\u001b[0m\n\u001b[0m",
      "\u001b[0;31mAttributeError\u001b[0m: 'BankAccount' object has no attribute '__balance'"
     ]
    }
   ],
   "source": [
    "b1.__balance"
   ]
  },
  {
   "cell_type": "code",
   "execution_count": 99,
   "id": "aae37dce-2fa5-407a-919b-64f7f302bbf7",
   "metadata": {},
   "outputs": [
    {
     "data": {
      "text/plain": [
       "45000"
      ]
     },
     "execution_count": 99,
     "metadata": {},
     "output_type": "execute_result"
    }
   ],
   "source": [
    "b1.bank_balance()"
   ]
  },
  {
   "cell_type": "code",
   "execution_count": 100,
   "id": "ef523df8-42f5-4842-8523-2555677f49ad",
   "metadata": {},
   "outputs": [
    {
     "name": "stdout",
     "output_type": "stream",
     "text": [
      "['_BankAccount__balance', '__class__', '__delattr__', '__dict__', '__dir__', '__doc__', '__eq__', '__format__', '__ge__', '__getattribute__', '__gt__', '__hash__', '__init__', '__init_subclass__', '__le__', '__lt__', '__module__', '__ne__', '__new__', '__reduce__', '__reduce_ex__', '__repr__', '__setattr__', '__sizeof__', '__str__', '__subclasshook__', '__weakref__', 'bank_balance', 'deposit', 'withdrawl']\n"
     ]
    }
   ],
   "source": [
    "print(dir(b1))"
   ]
  },
  {
   "cell_type": "code",
   "execution_count": null,
   "id": "ab4659b1-be91-4e8a-b412-67b41b10b3b3",
   "metadata": {},
   "outputs": [],
   "source": []
  },
  {
   "cell_type": "code",
   "execution_count": null,
   "id": "22bd65e9-f267-48f1-ab8d-2487df49dbfe",
   "metadata": {},
   "outputs": [],
   "source": []
  },
  {
   "cell_type": "markdown",
   "id": "7cc796df-9156-487f-833a-0b77b036923d",
   "metadata": {},
   "source": [
    "#### Multiple Inheritence"
   ]
  },
  {
   "cell_type": "code",
   "execution_count": 101,
   "id": "49b6e8cf-d80d-4ad1-95c2-0f6ebefb8409",
   "metadata": {},
   "outputs": [],
   "source": [
    "class A:\n",
    "    def __init__(self, a):\n",
    "        self.a = a\n",
    "        \n",
    "class B:\n",
    "    def __init__(self, b):\n",
    "        self.b = b\n",
    "        \n",
    "class C(A, B):\n",
    "    def __init__(self, a, b, c):\n",
    "        # Assumption 1\n",
    "        # super().__init__(a, b)\n",
    "        \n",
    "        # Assumption 2\n",
    "        # super().__init__(a)\n",
    "        # super().__init__(a)\n",
    "        \n",
    "        # Assumption 3\n",
    "        A.__init__(self, a)\n",
    "        B.__init__(self, b)\n",
    "        \n",
    "        self.c = c"
   ]
  },
  {
   "cell_type": "code",
   "execution_count": 102,
   "id": "f8f0ca1d-81ef-4e49-82bf-cf982cf2e275",
   "metadata": {},
   "outputs": [],
   "source": [
    "c1 = C(\"A class\", \"B class\", \"C class\")"
   ]
  },
  {
   "cell_type": "code",
   "execution_count": 103,
   "id": "eeb1d173-f5c2-4a56-913b-d808678ac388",
   "metadata": {},
   "outputs": [
    {
     "data": {
      "text/plain": [
       "'A class'"
      ]
     },
     "execution_count": 103,
     "metadata": {},
     "output_type": "execute_result"
    }
   ],
   "source": [
    "c1.a"
   ]
  },
  {
   "cell_type": "code",
   "execution_count": 104,
   "id": "dcdc6a3d-1762-4163-b0de-d9a64faf582d",
   "metadata": {},
   "outputs": [
    {
     "data": {
      "text/plain": [
       "'B class'"
      ]
     },
     "execution_count": 104,
     "metadata": {},
     "output_type": "execute_result"
    }
   ],
   "source": [
    "c1.b"
   ]
  },
  {
   "cell_type": "code",
   "execution_count": 105,
   "id": "69af849e-5423-4780-9d62-66654adf7661",
   "metadata": {},
   "outputs": [
    {
     "data": {
      "text/plain": [
       "'C class'"
      ]
     },
     "execution_count": 105,
     "metadata": {},
     "output_type": "execute_result"
    }
   ],
   "source": [
    "c1.c"
   ]
  },
  {
   "cell_type": "code",
   "execution_count": null,
   "id": "3a5e8405-0171-4cd4-8e99-27a7d05cd364",
   "metadata": {},
   "outputs": [],
   "source": []
  },
  {
   "cell_type": "code",
   "execution_count": 106,
   "id": "29455a8e-8373-4584-bba8-c5903b251029",
   "metadata": {},
   "outputs": [],
   "source": [
    "class A:\n",
    "    pass\n",
    "class B:\n",
    "    pass\n",
    "class C(A, B):\n",
    "    pass\n",
    "class D:\n",
    "    pass\n",
    "class E(C, D):\n",
    "    pass"
   ]
  },
  {
   "cell_type": "code",
   "execution_count": 107,
   "id": "6dccf55d-55e4-440e-84d4-17a41c5f0eed",
   "metadata": {},
   "outputs": [],
   "source": [
    "e1 = E()"
   ]
  },
  {
   "cell_type": "code",
   "execution_count": 110,
   "id": "f16e5cd5-d809-44d3-a30c-379485d9cf7c",
   "metadata": {},
   "outputs": [
    {
     "data": {
      "text/plain": [
       "(__main__.E, __main__.C, __main__.A, __main__.B, __main__.D, object)"
      ]
     },
     "execution_count": 110,
     "metadata": {},
     "output_type": "execute_result"
    }
   ],
   "source": [
    "E.__mro__"
   ]
  },
  {
   "cell_type": "code",
   "execution_count": null,
   "id": "4042a082-8761-425b-8bf9-2167be02b871",
   "metadata": {},
   "outputs": [],
   "source": []
  },
  {
   "cell_type": "code",
   "execution_count": 111,
   "id": "df777bdf-8f62-46e7-8cc0-1a04b24d483c",
   "metadata": {},
   "outputs": [],
   "source": [
    "class A:\n",
    "    x = 10\n",
    "\n",
    "class B(A):\n",
    "    pass\n",
    "\n",
    "class C(B):\n",
    "    pass\n",
    "\n",
    "class D(A):\n",
    "    x = 5\n",
    "\n",
    "class E(C, D):\n",
    "    pass"
   ]
  },
  {
   "cell_type": "code",
   "execution_count": 112,
   "id": "5796b4e7-dda9-4797-adab-e60dc5c4a53a",
   "metadata": {},
   "outputs": [],
   "source": [
    "e1 = E()"
   ]
  },
  {
   "cell_type": "code",
   "execution_count": 113,
   "id": "6da6ebbe-7d9a-4b93-b182-9b26fb09de6e",
   "metadata": {},
   "outputs": [
    {
     "data": {
      "text/plain": [
       "(__main__.E, __main__.C, __main__.B, __main__.D, __main__.A, object)"
      ]
     },
     "execution_count": 113,
     "metadata": {},
     "output_type": "execute_result"
    }
   ],
   "source": [
    "E.__mro__"
   ]
  },
  {
   "cell_type": "code",
   "execution_count": 114,
   "id": "e8538f7f-4101-4dff-9d14-e77bd30872d6",
   "metadata": {},
   "outputs": [
    {
     "data": {
      "text/plain": [
       "5"
      ]
     },
     "execution_count": 114,
     "metadata": {},
     "output_type": "execute_result"
    }
   ],
   "source": [
    "e1.x"
   ]
  },
  {
   "cell_type": "code",
   "execution_count": 115,
   "id": "31c28594-0d33-4149-9a40-180046dfc6a2",
   "metadata": {},
   "outputs": [],
   "source": [
    "class A:\n",
    "    x = 10\n",
    "\n",
    "class B(A):\n",
    "    pass\n",
    "\n",
    "class C(B):\n",
    "    pass\n",
    "\n",
    "class D(A):\n",
    "    pass\n",
    "\n",
    "class E(C, D):\n",
    "    pass"
   ]
  },
  {
   "cell_type": "code",
   "execution_count": 116,
   "id": "c01b3927-e6ec-407a-8e5e-4684ee15b680",
   "metadata": {},
   "outputs": [],
   "source": [
    "e1 = E()"
   ]
  },
  {
   "cell_type": "code",
   "execution_count": 117,
   "id": "ffdef644-0fb5-4d27-bd52-d3f8a1a54b8e",
   "metadata": {},
   "outputs": [
    {
     "data": {
      "text/plain": [
       "10"
      ]
     },
     "execution_count": 117,
     "metadata": {},
     "output_type": "execute_result"
    }
   ],
   "source": [
    "e1.x"
   ]
  },
  {
   "cell_type": "code",
   "execution_count": null,
   "id": "d2d6d39e-1030-4405-ac3e-1485c4f8b984",
   "metadata": {},
   "outputs": [],
   "source": []
  },
  {
   "cell_type": "code",
   "execution_count": null,
   "id": "15818ec3-eeb1-47a2-9f19-32ba6776378c",
   "metadata": {},
   "outputs": [],
   "source": []
  },
  {
   "cell_type": "code",
   "execution_count": null,
   "id": "c63572e0-c898-45a2-9a2f-1251d044f161",
   "metadata": {},
   "outputs": [],
   "source": []
  },
  {
   "cell_type": "code",
   "execution_count": null,
   "id": "a53174d3-1add-42a4-b5a9-d35fb041b207",
   "metadata": {},
   "outputs": [],
   "source": []
  },
  {
   "cell_type": "code",
   "execution_count": null,
   "id": "670cbe67-5693-468e-8c6e-74282998da58",
   "metadata": {},
   "outputs": [],
   "source": []
  },
  {
   "cell_type": "code",
   "execution_count": null,
   "id": "ed2067a5-91fd-4fbf-8eba-334673c18137",
   "metadata": {},
   "outputs": [],
   "source": []
  }
 ],
 "metadata": {
  "kernelspec": {
   "display_name": "Python 3 (ipykernel)",
   "language": "python",
   "name": "python3"
  },
  "language_info": {
   "codemirror_mode": {
    "name": "ipython",
    "version": 3
   },
   "file_extension": ".py",
   "mimetype": "text/x-python",
   "name": "python",
   "nbconvert_exporter": "python",
   "pygments_lexer": "ipython3",
   "version": "3.9.7"
  }
 },
 "nbformat": 4,
 "nbformat_minor": 5
}
